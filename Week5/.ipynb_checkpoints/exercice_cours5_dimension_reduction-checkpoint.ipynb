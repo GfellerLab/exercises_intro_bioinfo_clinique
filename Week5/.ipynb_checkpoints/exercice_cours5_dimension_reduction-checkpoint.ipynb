{
 "cells": [
  {
   "cell_type": "markdown",
   "metadata": {},
   "source": [
    "# Exercice semaine 5: Analyse de données avec un grand nombre de paramètres"
   ]
  },
  {
   "cell_type": "markdown",
   "metadata": {},
   "source": [
    "Dans cet exercice, nous allons faire une analyse non supervisée de l'expression génique de la cohorte TGCA_SKCM. Pour cela, nous allons utiliser des méthodes de réduction de dimension linéraire (Analyse en Composante Principale) et non linéaire (t-SNE,UMAP) dans le but de représenter l'expression des milliers de gènes de chaque échantillon dans des espaces réduits à quelques dimensions qui peuvent être visualisés."
   ]
  },
  {
   "cell_type": "markdown",
   "metadata": {},
   "source": [
    "## Chargement des libraries"
   ]
  },
  {
   "cell_type": "code",
   "execution_count": 92,
   "metadata": {},
   "outputs": [],
   "source": [
    "import pandas as pd\n",
    "import plotly.express as px\n",
    "import numpy as np\n",
    "import os\n",
    "from scipy import stats\n",
    "#PCA\n",
    "from sklearn.decomposition import PCA\n",
    "#TSNE\n",
    "from sklearn.manifold import TSNE\n",
    "#UMAP\n",
    "import umap\n",
    "\n",
    "from sklearn.preprocessing import StandardScaler\n",
    "from sklearn.decomposition import PCA"
   ]
  },
  {
   "cell_type": "markdown",
   "metadata": {},
   "source": [
    "## Chargement des données"
   ]
  },
  {
   "cell_type": "markdown",
   "metadata": {},
   "source": [
    "Nous allons travailler sur le fichier d'expression génique de la cohorte de patients atteints de mélanome que nous avons normalisé en TPM (`'TCGA-SKCM.htseq_tpm.csv'`) il y a deux semaines et nous aurons également besoin du fichier d'annotations des gènes (`'gencode.v22.annotation.gene.probeMap.with.length.csv'`).\n",
    "\n",
    "Aujourd'hui, nous utiliserons également le fichier des données cliniques des patients de la cohorte (`'TCGA-SKCM.GDC_phenotype.tsv'`) que nous avons téléchargé à cette adresse: \n",
    "https://xenabrowser.net/datapages/?dataset=TCGA-SKCM.GDC_phenotype.tsv&host=https%3A%2F%2Fgdc.xenahubs.net&removeHub=https%3A%2F%2Fxena.treehouse.gi.ucsc.edu%3A443\n",
    "\n",
    "\n",
    "Nous avons mis à votre disposition ces fichiers dans le dossier UCSC_data."
   ]
  },
  {
   "cell_type": "markdown",
   "metadata": {},
   "source": [
    "## Question 1: Préparation des données"
   ]
  },
  {
   "cell_type": "markdown",
   "metadata": {},
   "source": [
    "1) Charger ces fichiers dans des tableaux `smpCounts`, `geneAnnotation` et `clinicalData`. Mettez en index (noms des lignes) la colonne `Ensembl_ID` pour `smpCounts`, `ìd` pour `geneAnnotations` et la colonne `sample`pour `survivalData`. On conservera la colonne d'index pour `geneAnnotations` et `clinicalData` (option `drop=False`).\n",
    "\n",
    "Le fichier `TCGA-SKCM.htseq_counts.tsv`se termine par 5 lignes de statistiques par échantillon qui sont à retirer."
   ]
  },
  {
   "cell_type": "code",
   "execution_count": 93,
   "metadata": {},
   "outputs": [
    {
     "data": {
      "text/html": [
       "<div>\n",
       "<style scoped>\n",
       "    .dataframe tbody tr th:only-of-type {\n",
       "        vertical-align: middle;\n",
       "    }\n",
       "\n",
       "    .dataframe tbody tr th {\n",
       "        vertical-align: top;\n",
       "    }\n",
       "\n",
       "    .dataframe thead th {\n",
       "        text-align: right;\n",
       "    }\n",
       "</style>\n",
       "<table border=\"1\" class=\"dataframe\">\n",
       "  <thead>\n",
       "    <tr style=\"text-align: right;\">\n",
       "      <th></th>\n",
       "      <th>TCGA-EE-A2GJ-06A</th>\n",
       "      <th>TCGA-EE-A2GI-06A</th>\n",
       "      <th>TCGA-WE-A8ZM-06A</th>\n",
       "      <th>TCGA-DA-A1IA-06A</th>\n",
       "      <th>TCGA-D3-A51H-06A</th>\n",
       "      <th>TCGA-XV-A9VZ-01A</th>\n",
       "      <th>TCGA-FS-A1ZE-06A</th>\n",
       "      <th>TCGA-D3-A51F-06A</th>\n",
       "      <th>TCGA-D3-A8GL-06A</th>\n",
       "      <th>TCGA-BF-A5EP-01A</th>\n",
       "      <th>...</th>\n",
       "      <th>TCGA-EE-A2GP-06A</th>\n",
       "      <th>TCGA-EE-A2M6-06A</th>\n",
       "      <th>TCGA-EE-A3AA-06A</th>\n",
       "      <th>TCGA-FS-A1ZF-06A</th>\n",
       "      <th>TCGA-D9-A6EC-06A</th>\n",
       "      <th>TCGA-FR-A8YC-06A</th>\n",
       "      <th>TCGA-EB-A4XL-01A</th>\n",
       "      <th>TCGA-EB-A551-01A</th>\n",
       "      <th>TCGA-EE-A3J4-06A</th>\n",
       "      <th>TCGA-EE-A3AC-06A</th>\n",
       "    </tr>\n",
       "    <tr>\n",
       "      <th>Ensembl_ID</th>\n",
       "      <th></th>\n",
       "      <th></th>\n",
       "      <th></th>\n",
       "      <th></th>\n",
       "      <th></th>\n",
       "      <th></th>\n",
       "      <th></th>\n",
       "      <th></th>\n",
       "      <th></th>\n",
       "      <th></th>\n",
       "      <th></th>\n",
       "      <th></th>\n",
       "      <th></th>\n",
       "      <th></th>\n",
       "      <th></th>\n",
       "      <th></th>\n",
       "      <th></th>\n",
       "      <th></th>\n",
       "      <th></th>\n",
       "      <th></th>\n",
       "      <th></th>\n",
       "    </tr>\n",
       "  </thead>\n",
       "  <tbody>\n",
       "    <tr>\n",
       "      <th>ENSG00000000003.13</th>\n",
       "      <td>5.492020</td>\n",
       "      <td>4.977245</td>\n",
       "      <td>5.686251</td>\n",
       "      <td>4.757404</td>\n",
       "      <td>2.896276</td>\n",
       "      <td>5.301672</td>\n",
       "      <td>3.461976</td>\n",
       "      <td>3.831496</td>\n",
       "      <td>3.257634</td>\n",
       "      <td>4.518998</td>\n",
       "      <td>...</td>\n",
       "      <td>5.462907</td>\n",
       "      <td>5.715717</td>\n",
       "      <td>2.391869</td>\n",
       "      <td>4.806537</td>\n",
       "      <td>5.116857</td>\n",
       "      <td>4.291547</td>\n",
       "      <td>5.300217</td>\n",
       "      <td>3.839361</td>\n",
       "      <td>4.953076</td>\n",
       "      <td>4.828908</td>\n",
       "    </tr>\n",
       "    <tr>\n",
       "      <th>ENSG00000000005.5</th>\n",
       "      <td>0.000000</td>\n",
       "      <td>0.080714</td>\n",
       "      <td>1.527938</td>\n",
       "      <td>0.000000</td>\n",
       "      <td>0.231093</td>\n",
       "      <td>0.950625</td>\n",
       "      <td>0.622636</td>\n",
       "      <td>0.050011</td>\n",
       "      <td>0.214703</td>\n",
       "      <td>0.048674</td>\n",
       "      <td>...</td>\n",
       "      <td>0.416431</td>\n",
       "      <td>0.222035</td>\n",
       "      <td>0.072866</td>\n",
       "      <td>0.153887</td>\n",
       "      <td>0.000000</td>\n",
       "      <td>0.246848</td>\n",
       "      <td>0.000000</td>\n",
       "      <td>0.000000</td>\n",
       "      <td>0.000000</td>\n",
       "      <td>0.000000</td>\n",
       "    </tr>\n",
       "    <tr>\n",
       "      <th>ENSG00000000419.11</th>\n",
       "      <td>5.523713</td>\n",
       "      <td>6.880899</td>\n",
       "      <td>6.772244</td>\n",
       "      <td>4.593481</td>\n",
       "      <td>5.942068</td>\n",
       "      <td>6.304230</td>\n",
       "      <td>6.840104</td>\n",
       "      <td>6.058202</td>\n",
       "      <td>7.133527</td>\n",
       "      <td>6.205951</td>\n",
       "      <td>...</td>\n",
       "      <td>6.885842</td>\n",
       "      <td>7.098479</td>\n",
       "      <td>7.013252</td>\n",
       "      <td>6.332303</td>\n",
       "      <td>7.159867</td>\n",
       "      <td>5.630500</td>\n",
       "      <td>5.661585</td>\n",
       "      <td>6.422101</td>\n",
       "      <td>5.906909</td>\n",
       "      <td>6.932407</td>\n",
       "    </tr>\n",
       "    <tr>\n",
       "      <th>ENSG00000000457.12</th>\n",
       "      <td>3.581697</td>\n",
       "      <td>3.684573</td>\n",
       "      <td>3.381051</td>\n",
       "      <td>2.580018</td>\n",
       "      <td>3.060895</td>\n",
       "      <td>3.472246</td>\n",
       "      <td>3.463646</td>\n",
       "      <td>2.999380</td>\n",
       "      <td>3.856717</td>\n",
       "      <td>2.408740</td>\n",
       "      <td>...</td>\n",
       "      <td>3.003973</td>\n",
       "      <td>2.610218</td>\n",
       "      <td>2.801962</td>\n",
       "      <td>3.428713</td>\n",
       "      <td>2.632950</td>\n",
       "      <td>3.355024</td>\n",
       "      <td>2.838872</td>\n",
       "      <td>2.727272</td>\n",
       "      <td>2.905733</td>\n",
       "      <td>3.779931</td>\n",
       "    </tr>\n",
       "    <tr>\n",
       "      <th>ENSG00000000460.15</th>\n",
       "      <td>3.514461</td>\n",
       "      <td>3.646168</td>\n",
       "      <td>2.500569</td>\n",
       "      <td>3.305690</td>\n",
       "      <td>2.613756</td>\n",
       "      <td>2.390197</td>\n",
       "      <td>2.825826</td>\n",
       "      <td>2.642469</td>\n",
       "      <td>3.841492</td>\n",
       "      <td>2.106094</td>\n",
       "      <td>...</td>\n",
       "      <td>3.156954</td>\n",
       "      <td>3.431138</td>\n",
       "      <td>3.542370</td>\n",
       "      <td>3.990699</td>\n",
       "      <td>2.928625</td>\n",
       "      <td>2.021066</td>\n",
       "      <td>2.125280</td>\n",
       "      <td>2.027202</td>\n",
       "      <td>2.524369</td>\n",
       "      <td>3.771591</td>\n",
       "    </tr>\n",
       "    <tr>\n",
       "      <th>...</th>\n",
       "      <td>...</td>\n",
       "      <td>...</td>\n",
       "      <td>...</td>\n",
       "      <td>...</td>\n",
       "      <td>...</td>\n",
       "      <td>...</td>\n",
       "      <td>...</td>\n",
       "      <td>...</td>\n",
       "      <td>...</td>\n",
       "      <td>...</td>\n",
       "      <td>...</td>\n",
       "      <td>...</td>\n",
       "      <td>...</td>\n",
       "      <td>...</td>\n",
       "      <td>...</td>\n",
       "      <td>...</td>\n",
       "      <td>...</td>\n",
       "      <td>...</td>\n",
       "      <td>...</td>\n",
       "      <td>...</td>\n",
       "      <td>...</td>\n",
       "    </tr>\n",
       "    <tr>\n",
       "      <th>ENSGR0000275287.3</th>\n",
       "      <td>0.000000</td>\n",
       "      <td>0.000000</td>\n",
       "      <td>0.000000</td>\n",
       "      <td>0.000000</td>\n",
       "      <td>0.000000</td>\n",
       "      <td>0.000000</td>\n",
       "      <td>0.000000</td>\n",
       "      <td>0.000000</td>\n",
       "      <td>0.000000</td>\n",
       "      <td>0.000000</td>\n",
       "      <td>...</td>\n",
       "      <td>0.000000</td>\n",
       "      <td>0.000000</td>\n",
       "      <td>0.000000</td>\n",
       "      <td>0.000000</td>\n",
       "      <td>0.000000</td>\n",
       "      <td>0.000000</td>\n",
       "      <td>0.000000</td>\n",
       "      <td>0.000000</td>\n",
       "      <td>0.000000</td>\n",
       "      <td>0.000000</td>\n",
       "    </tr>\n",
       "    <tr>\n",
       "      <th>ENSGR0000276543.3</th>\n",
       "      <td>0.000000</td>\n",
       "      <td>0.000000</td>\n",
       "      <td>0.000000</td>\n",
       "      <td>0.000000</td>\n",
       "      <td>0.000000</td>\n",
       "      <td>0.000000</td>\n",
       "      <td>0.000000</td>\n",
       "      <td>0.000000</td>\n",
       "      <td>0.000000</td>\n",
       "      <td>0.000000</td>\n",
       "      <td>...</td>\n",
       "      <td>0.000000</td>\n",
       "      <td>0.000000</td>\n",
       "      <td>0.000000</td>\n",
       "      <td>0.000000</td>\n",
       "      <td>0.000000</td>\n",
       "      <td>0.000000</td>\n",
       "      <td>0.000000</td>\n",
       "      <td>0.000000</td>\n",
       "      <td>0.000000</td>\n",
       "      <td>0.000000</td>\n",
       "    </tr>\n",
       "    <tr>\n",
       "      <th>ENSGR0000277120.3</th>\n",
       "      <td>0.000000</td>\n",
       "      <td>0.000000</td>\n",
       "      <td>0.000000</td>\n",
       "      <td>0.000000</td>\n",
       "      <td>0.000000</td>\n",
       "      <td>0.000000</td>\n",
       "      <td>0.000000</td>\n",
       "      <td>0.000000</td>\n",
       "      <td>0.000000</td>\n",
       "      <td>0.000000</td>\n",
       "      <td>...</td>\n",
       "      <td>0.000000</td>\n",
       "      <td>0.000000</td>\n",
       "      <td>0.000000</td>\n",
       "      <td>0.000000</td>\n",
       "      <td>0.000000</td>\n",
       "      <td>0.000000</td>\n",
       "      <td>0.000000</td>\n",
       "      <td>0.000000</td>\n",
       "      <td>0.000000</td>\n",
       "      <td>0.000000</td>\n",
       "    </tr>\n",
       "    <tr>\n",
       "      <th>ENSGR0000280767.1</th>\n",
       "      <td>0.000000</td>\n",
       "      <td>0.000000</td>\n",
       "      <td>0.000000</td>\n",
       "      <td>0.000000</td>\n",
       "      <td>0.000000</td>\n",
       "      <td>0.000000</td>\n",
       "      <td>0.000000</td>\n",
       "      <td>0.000000</td>\n",
       "      <td>0.000000</td>\n",
       "      <td>0.000000</td>\n",
       "      <td>...</td>\n",
       "      <td>0.000000</td>\n",
       "      <td>0.000000</td>\n",
       "      <td>0.000000</td>\n",
       "      <td>0.000000</td>\n",
       "      <td>0.000000</td>\n",
       "      <td>0.000000</td>\n",
       "      <td>0.000000</td>\n",
       "      <td>0.000000</td>\n",
       "      <td>0.000000</td>\n",
       "      <td>0.000000</td>\n",
       "    </tr>\n",
       "    <tr>\n",
       "      <th>ENSGR0000281849.1</th>\n",
       "      <td>0.000000</td>\n",
       "      <td>0.000000</td>\n",
       "      <td>0.000000</td>\n",
       "      <td>0.000000</td>\n",
       "      <td>0.000000</td>\n",
       "      <td>0.000000</td>\n",
       "      <td>0.000000</td>\n",
       "      <td>0.000000</td>\n",
       "      <td>0.000000</td>\n",
       "      <td>0.000000</td>\n",
       "      <td>...</td>\n",
       "      <td>0.000000</td>\n",
       "      <td>0.000000</td>\n",
       "      <td>0.000000</td>\n",
       "      <td>0.000000</td>\n",
       "      <td>0.000000</td>\n",
       "      <td>0.000000</td>\n",
       "      <td>0.000000</td>\n",
       "      <td>0.000000</td>\n",
       "      <td>0.000000</td>\n",
       "      <td>0.000000</td>\n",
       "    </tr>\n",
       "  </tbody>\n",
       "</table>\n",
       "<p>60483 rows × 472 columns</p>\n",
       "</div>"
      ],
      "text/plain": [
       "                    TCGA-EE-A2GJ-06A  TCGA-EE-A2GI-06A  TCGA-WE-A8ZM-06A  \\\n",
       "Ensembl_ID                                                                 \n",
       "ENSG00000000003.13          5.492020          4.977245          5.686251   \n",
       "ENSG00000000005.5           0.000000          0.080714          1.527938   \n",
       "ENSG00000000419.11          5.523713          6.880899          6.772244   \n",
       "ENSG00000000457.12          3.581697          3.684573          3.381051   \n",
       "ENSG00000000460.15          3.514461          3.646168          2.500569   \n",
       "...                              ...               ...               ...   \n",
       "ENSGR0000275287.3           0.000000          0.000000          0.000000   \n",
       "ENSGR0000276543.3           0.000000          0.000000          0.000000   \n",
       "ENSGR0000277120.3           0.000000          0.000000          0.000000   \n",
       "ENSGR0000280767.1           0.000000          0.000000          0.000000   \n",
       "ENSGR0000281849.1           0.000000          0.000000          0.000000   \n",
       "\n",
       "                    TCGA-DA-A1IA-06A  TCGA-D3-A51H-06A  TCGA-XV-A9VZ-01A  \\\n",
       "Ensembl_ID                                                                 \n",
       "ENSG00000000003.13          4.757404          2.896276          5.301672   \n",
       "ENSG00000000005.5           0.000000          0.231093          0.950625   \n",
       "ENSG00000000419.11          4.593481          5.942068          6.304230   \n",
       "ENSG00000000457.12          2.580018          3.060895          3.472246   \n",
       "ENSG00000000460.15          3.305690          2.613756          2.390197   \n",
       "...                              ...               ...               ...   \n",
       "ENSGR0000275287.3           0.000000          0.000000          0.000000   \n",
       "ENSGR0000276543.3           0.000000          0.000000          0.000000   \n",
       "ENSGR0000277120.3           0.000000          0.000000          0.000000   \n",
       "ENSGR0000280767.1           0.000000          0.000000          0.000000   \n",
       "ENSGR0000281849.1           0.000000          0.000000          0.000000   \n",
       "\n",
       "                    TCGA-FS-A1ZE-06A  TCGA-D3-A51F-06A  TCGA-D3-A8GL-06A  \\\n",
       "Ensembl_ID                                                                 \n",
       "ENSG00000000003.13          3.461976          3.831496          3.257634   \n",
       "ENSG00000000005.5           0.622636          0.050011          0.214703   \n",
       "ENSG00000000419.11          6.840104          6.058202          7.133527   \n",
       "ENSG00000000457.12          3.463646          2.999380          3.856717   \n",
       "ENSG00000000460.15          2.825826          2.642469          3.841492   \n",
       "...                              ...               ...               ...   \n",
       "ENSGR0000275287.3           0.000000          0.000000          0.000000   \n",
       "ENSGR0000276543.3           0.000000          0.000000          0.000000   \n",
       "ENSGR0000277120.3           0.000000          0.000000          0.000000   \n",
       "ENSGR0000280767.1           0.000000          0.000000          0.000000   \n",
       "ENSGR0000281849.1           0.000000          0.000000          0.000000   \n",
       "\n",
       "                    TCGA-BF-A5EP-01A  ...  TCGA-EE-A2GP-06A  TCGA-EE-A2M6-06A  \\\n",
       "Ensembl_ID                            ...                                       \n",
       "ENSG00000000003.13          4.518998  ...          5.462907          5.715717   \n",
       "ENSG00000000005.5           0.048674  ...          0.416431          0.222035   \n",
       "ENSG00000000419.11          6.205951  ...          6.885842          7.098479   \n",
       "ENSG00000000457.12          2.408740  ...          3.003973          2.610218   \n",
       "ENSG00000000460.15          2.106094  ...          3.156954          3.431138   \n",
       "...                              ...  ...               ...               ...   \n",
       "ENSGR0000275287.3           0.000000  ...          0.000000          0.000000   \n",
       "ENSGR0000276543.3           0.000000  ...          0.000000          0.000000   \n",
       "ENSGR0000277120.3           0.000000  ...          0.000000          0.000000   \n",
       "ENSGR0000280767.1           0.000000  ...          0.000000          0.000000   \n",
       "ENSGR0000281849.1           0.000000  ...          0.000000          0.000000   \n",
       "\n",
       "                    TCGA-EE-A3AA-06A  TCGA-FS-A1ZF-06A  TCGA-D9-A6EC-06A  \\\n",
       "Ensembl_ID                                                                 \n",
       "ENSG00000000003.13          2.391869          4.806537          5.116857   \n",
       "ENSG00000000005.5           0.072866          0.153887          0.000000   \n",
       "ENSG00000000419.11          7.013252          6.332303          7.159867   \n",
       "ENSG00000000457.12          2.801962          3.428713          2.632950   \n",
       "ENSG00000000460.15          3.542370          3.990699          2.928625   \n",
       "...                              ...               ...               ...   \n",
       "ENSGR0000275287.3           0.000000          0.000000          0.000000   \n",
       "ENSGR0000276543.3           0.000000          0.000000          0.000000   \n",
       "ENSGR0000277120.3           0.000000          0.000000          0.000000   \n",
       "ENSGR0000280767.1           0.000000          0.000000          0.000000   \n",
       "ENSGR0000281849.1           0.000000          0.000000          0.000000   \n",
       "\n",
       "                    TCGA-FR-A8YC-06A  TCGA-EB-A4XL-01A  TCGA-EB-A551-01A  \\\n",
       "Ensembl_ID                                                                 \n",
       "ENSG00000000003.13          4.291547          5.300217          3.839361   \n",
       "ENSG00000000005.5           0.246848          0.000000          0.000000   \n",
       "ENSG00000000419.11          5.630500          5.661585          6.422101   \n",
       "ENSG00000000457.12          3.355024          2.838872          2.727272   \n",
       "ENSG00000000460.15          2.021066          2.125280          2.027202   \n",
       "...                              ...               ...               ...   \n",
       "ENSGR0000275287.3           0.000000          0.000000          0.000000   \n",
       "ENSGR0000276543.3           0.000000          0.000000          0.000000   \n",
       "ENSGR0000277120.3           0.000000          0.000000          0.000000   \n",
       "ENSGR0000280767.1           0.000000          0.000000          0.000000   \n",
       "ENSGR0000281849.1           0.000000          0.000000          0.000000   \n",
       "\n",
       "                    TCGA-EE-A3J4-06A  TCGA-EE-A3AC-06A  \n",
       "Ensembl_ID                                              \n",
       "ENSG00000000003.13          4.953076          4.828908  \n",
       "ENSG00000000005.5           0.000000          0.000000  \n",
       "ENSG00000000419.11          5.906909          6.932407  \n",
       "ENSG00000000457.12          2.905733          3.779931  \n",
       "ENSG00000000460.15          2.524369          3.771591  \n",
       "...                              ...               ...  \n",
       "ENSGR0000275287.3           0.000000          0.000000  \n",
       "ENSGR0000276543.3           0.000000          0.000000  \n",
       "ENSGR0000277120.3           0.000000          0.000000  \n",
       "ENSGR0000280767.1           0.000000          0.000000  \n",
       "ENSGR0000281849.1           0.000000          0.000000  \n",
       "\n",
       "[60483 rows x 472 columns]"
      ]
     },
     "execution_count": 93,
     "metadata": {},
     "output_type": "execute_result"
    }
   ],
   "source": [
    "smpCounts = pd.read_csv('../UCSC_data/TCGA-SKCM.htseq_tpm.csv')\n",
    "smpCounts = smpCounts.set_index('Ensembl_ID') #his will drop Ensembl_ID column\n",
    "smpCounts"
   ]
  },
  {
   "cell_type": "code",
   "execution_count": 94,
   "metadata": {},
   "outputs": [
    {
     "data": {
      "text/html": [
       "<div>\n",
       "<style scoped>\n",
       "    .dataframe tbody tr th:only-of-type {\n",
       "        vertical-align: middle;\n",
       "    }\n",
       "\n",
       "    .dataframe tbody tr th {\n",
       "        vertical-align: top;\n",
       "    }\n",
       "\n",
       "    .dataframe thead th {\n",
       "        text-align: right;\n",
       "    }\n",
       "</style>\n",
       "<table border=\"1\" class=\"dataframe\">\n",
       "  <thead>\n",
       "    <tr style=\"text-align: right;\">\n",
       "      <th></th>\n",
       "      <th>ensembl_gene_id</th>\n",
       "      <th>hgnc_symbol</th>\n",
       "      <th>gene_length</th>\n",
       "    </tr>\n",
       "    <tr>\n",
       "      <th>ensembl_gene_id</th>\n",
       "      <th></th>\n",
       "      <th></th>\n",
       "      <th></th>\n",
       "    </tr>\n",
       "  </thead>\n",
       "  <tbody>\n",
       "    <tr>\n",
       "      <th>ENSG00000223972.5</th>\n",
       "      <td>ENSG00000223972.5</td>\n",
       "      <td>DDX11L1</td>\n",
       "      <td>1735</td>\n",
       "    </tr>\n",
       "    <tr>\n",
       "      <th>ENSG00000227232.5</th>\n",
       "      <td>ENSG00000227232.5</td>\n",
       "      <td>WASH7P</td>\n",
       "      <td>1351</td>\n",
       "    </tr>\n",
       "    <tr>\n",
       "      <th>ENSG00000278267.1</th>\n",
       "      <td>ENSG00000278267.1</td>\n",
       "      <td>MIR6859-3</td>\n",
       "      <td>68</td>\n",
       "    </tr>\n",
       "    <tr>\n",
       "      <th>ENSG00000243485.3</th>\n",
       "      <td>ENSG00000243485.3</td>\n",
       "      <td>RP11-34P13.3</td>\n",
       "      <td>1021</td>\n",
       "    </tr>\n",
       "    <tr>\n",
       "      <th>ENSG00000274890.1</th>\n",
       "      <td>ENSG00000274890.1</td>\n",
       "      <td>MIR1302-9</td>\n",
       "      <td>138</td>\n",
       "    </tr>\n",
       "    <tr>\n",
       "      <th>...</th>\n",
       "      <td>...</td>\n",
       "      <td>...</td>\n",
       "      <td>...</td>\n",
       "    </tr>\n",
       "    <tr>\n",
       "      <th>ENSG00000198695.2</th>\n",
       "      <td>ENSG00000198695.2</td>\n",
       "      <td>MT-ND6</td>\n",
       "      <td>525</td>\n",
       "    </tr>\n",
       "    <tr>\n",
       "      <th>ENSG00000210194.1</th>\n",
       "      <td>ENSG00000210194.1</td>\n",
       "      <td>MT-TE</td>\n",
       "      <td>69</td>\n",
       "    </tr>\n",
       "    <tr>\n",
       "      <th>ENSG00000198727.2</th>\n",
       "      <td>ENSG00000198727.2</td>\n",
       "      <td>MT-CYB</td>\n",
       "      <td>1141</td>\n",
       "    </tr>\n",
       "    <tr>\n",
       "      <th>ENSG00000210195.2</th>\n",
       "      <td>ENSG00000210195.2</td>\n",
       "      <td>MT-TT</td>\n",
       "      <td>66</td>\n",
       "    </tr>\n",
       "    <tr>\n",
       "      <th>ENSG00000210196.2</th>\n",
       "      <td>ENSG00000210196.2</td>\n",
       "      <td>MT-TP</td>\n",
       "      <td>68</td>\n",
       "    </tr>\n",
       "  </tbody>\n",
       "</table>\n",
       "<p>60483 rows × 3 columns</p>\n",
       "</div>"
      ],
      "text/plain": [
       "                     ensembl_gene_id   hgnc_symbol  gene_length\n",
       "ensembl_gene_id                                                \n",
       "ENSG00000223972.5  ENSG00000223972.5       DDX11L1         1735\n",
       "ENSG00000227232.5  ENSG00000227232.5        WASH7P         1351\n",
       "ENSG00000278267.1  ENSG00000278267.1     MIR6859-3           68\n",
       "ENSG00000243485.3  ENSG00000243485.3  RP11-34P13.3         1021\n",
       "ENSG00000274890.1  ENSG00000274890.1     MIR1302-9          138\n",
       "...                              ...           ...          ...\n",
       "ENSG00000198695.2  ENSG00000198695.2        MT-ND6          525\n",
       "ENSG00000210194.1  ENSG00000210194.1         MT-TE           69\n",
       "ENSG00000198727.2  ENSG00000198727.2        MT-CYB         1141\n",
       "ENSG00000210195.2  ENSG00000210195.2         MT-TT           66\n",
       "ENSG00000210196.2  ENSG00000210196.2         MT-TP           68\n",
       "\n",
       "[60483 rows x 3 columns]"
      ]
     },
     "execution_count": 94,
     "metadata": {},
     "output_type": "execute_result"
    }
   ],
   "source": [
    "geneAnnotations = pd.read_table('../UCSC_data/genes_info.txt',sep = ' ')\n",
    "geneAnnotations = geneAnnotations.set_index(\"ensembl_gene_id\",drop=False)\n",
    "geneAnnotations"
   ]
  },
  {
   "cell_type": "code",
   "execution_count": 95,
   "metadata": {},
   "outputs": [
    {
     "data": {
      "text/html": [
       "<div>\n",
       "<style scoped>\n",
       "    .dataframe tbody tr th:only-of-type {\n",
       "        vertical-align: middle;\n",
       "    }\n",
       "\n",
       "    .dataframe tbody tr th {\n",
       "        vertical-align: top;\n",
       "    }\n",
       "\n",
       "    .dataframe thead th {\n",
       "        text-align: right;\n",
       "    }\n",
       "</style>\n",
       "<table border=\"1\" class=\"dataframe\">\n",
       "  <thead>\n",
       "    <tr style=\"text-align: right;\">\n",
       "      <th></th>\n",
       "      <th>submitter_id.samples</th>\n",
       "      <th>age_at_initial_pathologic_diagnosis</th>\n",
       "      <th>batch_number</th>\n",
       "      <th>bcr</th>\n",
       "      <th>bcr_followup_barcode</th>\n",
       "      <th>bcr_followup_uuid</th>\n",
       "      <th>submitter_id</th>\n",
       "      <th>breslow_depth_value</th>\n",
       "      <th>day_of_dcc_upload</th>\n",
       "      <th>day_of_form_completion</th>\n",
       "      <th>...</th>\n",
       "      <th>days_to_collection.samples</th>\n",
       "      <th>days_to_sample_procurement.samples</th>\n",
       "      <th>initial_weight.samples</th>\n",
       "      <th>is_ffpe.samples</th>\n",
       "      <th>oct_embedded.samples</th>\n",
       "      <th>preservation_method.samples</th>\n",
       "      <th>sample_type.samples</th>\n",
       "      <th>sample_type_id.samples</th>\n",
       "      <th>state.samples</th>\n",
       "      <th>tissue_type.samples</th>\n",
       "    </tr>\n",
       "    <tr>\n",
       "      <th>submitter_id.samples</th>\n",
       "      <th></th>\n",
       "      <th></th>\n",
       "      <th></th>\n",
       "      <th></th>\n",
       "      <th></th>\n",
       "      <th></th>\n",
       "      <th></th>\n",
       "      <th></th>\n",
       "      <th></th>\n",
       "      <th></th>\n",
       "      <th></th>\n",
       "      <th></th>\n",
       "      <th></th>\n",
       "      <th></th>\n",
       "      <th></th>\n",
       "      <th></th>\n",
       "      <th></th>\n",
       "      <th></th>\n",
       "      <th></th>\n",
       "      <th></th>\n",
       "      <th></th>\n",
       "    </tr>\n",
       "  </thead>\n",
       "  <tbody>\n",
       "    <tr>\n",
       "      <th>TCGA-D9-A4Z2-01A</th>\n",
       "      <td>TCGA-D9-A4Z2-01A</td>\n",
       "      <td>50.0</td>\n",
       "      <td>262.74.0</td>\n",
       "      <td>Nationwide Children's Hospital</td>\n",
       "      <td>TCGA-D9-A4Z2-F57868</td>\n",
       "      <td>AB5F6B14-DAAE-4D19-B227-EC6E2D5ED0D0</td>\n",
       "      <td>TCGA-D9-A4Z2</td>\n",
       "      <td>25.0</td>\n",
       "      <td>14</td>\n",
       "      <td>28.0</td>\n",
       "      <td>...</td>\n",
       "      <td>66.0</td>\n",
       "      <td>NaN</td>\n",
       "      <td>160.0</td>\n",
       "      <td>False</td>\n",
       "      <td>False</td>\n",
       "      <td>NaN</td>\n",
       "      <td>Primary Tumor</td>\n",
       "      <td>1</td>\n",
       "      <td>released</td>\n",
       "      <td>Not Reported</td>\n",
       "    </tr>\n",
       "    <tr>\n",
       "      <th>TCGA-ER-A2NH-06A</th>\n",
       "      <td>TCGA-ER-A2NH-06A</td>\n",
       "      <td>49.0</td>\n",
       "      <td>180.87.0</td>\n",
       "      <td>Nationwide Children's Hospital</td>\n",
       "      <td>TCGA-ER-A2NH-F69370</td>\n",
       "      <td>CF52E6AD-959C-446F-B88F-E7E73B83E405</td>\n",
       "      <td>TCGA-ER-A2NH</td>\n",
       "      <td>4.0</td>\n",
       "      <td>14</td>\n",
       "      <td>7.0</td>\n",
       "      <td>...</td>\n",
       "      <td>744.0</td>\n",
       "      <td>NaN</td>\n",
       "      <td>NaN</td>\n",
       "      <td>False</td>\n",
       "      <td>True</td>\n",
       "      <td>NaN</td>\n",
       "      <td>Metastatic</td>\n",
       "      <td>6</td>\n",
       "      <td>released</td>\n",
       "      <td>Not Reported</td>\n",
       "    </tr>\n",
       "    <tr>\n",
       "      <th>TCGA-BF-A5EO-01A</th>\n",
       "      <td>TCGA-BF-A5EO-01A</td>\n",
       "      <td>65.0</td>\n",
       "      <td>291.69.0</td>\n",
       "      <td>Nationwide Children's Hospital</td>\n",
       "      <td>TCGA-BF-A5EO-F68880</td>\n",
       "      <td>9993CEA1-92A4-48E7-904E-542F5079A3C6</td>\n",
       "      <td>TCGA-BF-A5EO</td>\n",
       "      <td>8.0</td>\n",
       "      <td>14</td>\n",
       "      <td>23.0</td>\n",
       "      <td>...</td>\n",
       "      <td>134.0</td>\n",
       "      <td>NaN</td>\n",
       "      <td>14.0</td>\n",
       "      <td>False</td>\n",
       "      <td>True</td>\n",
       "      <td>NaN</td>\n",
       "      <td>Primary Tumor</td>\n",
       "      <td>1</td>\n",
       "      <td>released</td>\n",
       "      <td>Not Reported</td>\n",
       "    </tr>\n",
       "    <tr>\n",
       "      <th>TCGA-D9-A6EA-06A</th>\n",
       "      <td>TCGA-D9-A6EA-06A</td>\n",
       "      <td>70.0</td>\n",
       "      <td>316.66.0</td>\n",
       "      <td>Nationwide Children's Hospital</td>\n",
       "      <td>TCGA-D9-A6EA-F57860</td>\n",
       "      <td>C0168BC0-E336-4944-86D9-C332EA962EC0</td>\n",
       "      <td>TCGA-D9-A6EA</td>\n",
       "      <td>6.0</td>\n",
       "      <td>14</td>\n",
       "      <td>28.0</td>\n",
       "      <td>...</td>\n",
       "      <td>478.0</td>\n",
       "      <td>NaN</td>\n",
       "      <td>270.0</td>\n",
       "      <td>False</td>\n",
       "      <td>True</td>\n",
       "      <td>NaN</td>\n",
       "      <td>Metastatic</td>\n",
       "      <td>6</td>\n",
       "      <td>released</td>\n",
       "      <td>Not Reported</td>\n",
       "    </tr>\n",
       "    <tr>\n",
       "      <th>TCGA-D9-A4Z3-01A</th>\n",
       "      <td>TCGA-D9-A4Z3-01A</td>\n",
       "      <td>73.0</td>\n",
       "      <td>277.76.0</td>\n",
       "      <td>Nationwide Children's Hospital</td>\n",
       "      <td>TCGA-D9-A4Z3-F58483</td>\n",
       "      <td>54923FD3-981A-4649-BEDD-860A06350154</td>\n",
       "      <td>TCGA-D9-A4Z3</td>\n",
       "      <td>75.0</td>\n",
       "      <td>14</td>\n",
       "      <td>11.0</td>\n",
       "      <td>...</td>\n",
       "      <td>16.0</td>\n",
       "      <td>NaN</td>\n",
       "      <td>170.0</td>\n",
       "      <td>False</td>\n",
       "      <td>False</td>\n",
       "      <td>NaN</td>\n",
       "      <td>Primary Tumor</td>\n",
       "      <td>1</td>\n",
       "      <td>released</td>\n",
       "      <td>Not Reported</td>\n",
       "    </tr>\n",
       "    <tr>\n",
       "      <th>...</th>\n",
       "      <td>...</td>\n",
       "      <td>...</td>\n",
       "      <td>...</td>\n",
       "      <td>...</td>\n",
       "      <td>...</td>\n",
       "      <td>...</td>\n",
       "      <td>...</td>\n",
       "      <td>...</td>\n",
       "      <td>...</td>\n",
       "      <td>...</td>\n",
       "      <td>...</td>\n",
       "      <td>...</td>\n",
       "      <td>...</td>\n",
       "      <td>...</td>\n",
       "      <td>...</td>\n",
       "      <td>...</td>\n",
       "      <td>...</td>\n",
       "      <td>...</td>\n",
       "      <td>...</td>\n",
       "      <td>...</td>\n",
       "      <td>...</td>\n",
       "    </tr>\n",
       "    <tr>\n",
       "      <th>TCGA-D3-A1Q9-06A</th>\n",
       "      <td>TCGA-D3-A1Q9-06A</td>\n",
       "      <td>72.0</td>\n",
       "      <td>180.87.0</td>\n",
       "      <td>Nationwide Children's Hospital</td>\n",
       "      <td>NaN</td>\n",
       "      <td>NaN</td>\n",
       "      <td>TCGA-D3-A1Q9</td>\n",
       "      <td>6.0</td>\n",
       "      <td>14</td>\n",
       "      <td>NaN</td>\n",
       "      <td>...</td>\n",
       "      <td>2065.0</td>\n",
       "      <td>NaN</td>\n",
       "      <td>490.0</td>\n",
       "      <td>False</td>\n",
       "      <td>True</td>\n",
       "      <td>NaN</td>\n",
       "      <td>Metastatic</td>\n",
       "      <td>6</td>\n",
       "      <td>released</td>\n",
       "      <td>Not Reported</td>\n",
       "    </tr>\n",
       "    <tr>\n",
       "      <th>TCGA-FS-A1ZP-06A</th>\n",
       "      <td>TCGA-FS-A1ZP-06A</td>\n",
       "      <td>52.0</td>\n",
       "      <td>180.87.0</td>\n",
       "      <td>Nationwide Children's Hospital</td>\n",
       "      <td>NaN</td>\n",
       "      <td>NaN</td>\n",
       "      <td>TCGA-FS-A1ZP</td>\n",
       "      <td>2.5</td>\n",
       "      <td>14</td>\n",
       "      <td>NaN</td>\n",
       "      <td>...</td>\n",
       "      <td>4897.0</td>\n",
       "      <td>NaN</td>\n",
       "      <td>190.0</td>\n",
       "      <td>False</td>\n",
       "      <td>False</td>\n",
       "      <td>NaN</td>\n",
       "      <td>Metastatic</td>\n",
       "      <td>6</td>\n",
       "      <td>released</td>\n",
       "      <td>Not Reported</td>\n",
       "    </tr>\n",
       "    <tr>\n",
       "      <th>TCGA-EB-A42Y-01A</th>\n",
       "      <td>TCGA-EB-A42Y-01A</td>\n",
       "      <td>73.0</td>\n",
       "      <td>262.74.0</td>\n",
       "      <td>Nationwide Children's Hospital</td>\n",
       "      <td>TCGA-EB-A42Y-F45845</td>\n",
       "      <td>4802A84B-7396-463C-82B0-24BF85B44EFF</td>\n",
       "      <td>TCGA-EB-A42Y</td>\n",
       "      <td>5.0</td>\n",
       "      <td>14</td>\n",
       "      <td>23.0</td>\n",
       "      <td>...</td>\n",
       "      <td>99.0</td>\n",
       "      <td>NaN</td>\n",
       "      <td>650.0</td>\n",
       "      <td>False</td>\n",
       "      <td>True</td>\n",
       "      <td>NaN</td>\n",
       "      <td>Primary Tumor</td>\n",
       "      <td>1</td>\n",
       "      <td>released</td>\n",
       "      <td>Not Reported</td>\n",
       "    </tr>\n",
       "    <tr>\n",
       "      <th>TCGA-WE-A8ZY-06A</th>\n",
       "      <td>TCGA-WE-A8ZY-06A</td>\n",
       "      <td>62.0</td>\n",
       "      <td>388.48.0</td>\n",
       "      <td>Nationwide Children's Hospital</td>\n",
       "      <td>TCGA-WE-A8ZY-F67332</td>\n",
       "      <td>C8CE9B61-BA13-4E16-9639-4464707E3A18</td>\n",
       "      <td>TCGA-WE-A8ZY</td>\n",
       "      <td>3.0</td>\n",
       "      <td>14</td>\n",
       "      <td>4.0</td>\n",
       "      <td>...</td>\n",
       "      <td>1294.0</td>\n",
       "      <td>NaN</td>\n",
       "      <td>510.0</td>\n",
       "      <td>False</td>\n",
       "      <td>True</td>\n",
       "      <td>NaN</td>\n",
       "      <td>Metastatic</td>\n",
       "      <td>6</td>\n",
       "      <td>released</td>\n",
       "      <td>Not Reported</td>\n",
       "    </tr>\n",
       "    <tr>\n",
       "      <th>TCGA-EE-A20C-06A</th>\n",
       "      <td>TCGA-EE-A20C-06A</td>\n",
       "      <td>59.0</td>\n",
       "      <td>180.87.0</td>\n",
       "      <td>Nationwide Children's Hospital</td>\n",
       "      <td>NaN</td>\n",
       "      <td>NaN</td>\n",
       "      <td>TCGA-EE-A20C</td>\n",
       "      <td>NaN</td>\n",
       "      <td>14</td>\n",
       "      <td>NaN</td>\n",
       "      <td>...</td>\n",
       "      <td>5168.0</td>\n",
       "      <td>NaN</td>\n",
       "      <td>240.0</td>\n",
       "      <td>False</td>\n",
       "      <td>True</td>\n",
       "      <td>NaN</td>\n",
       "      <td>Metastatic</td>\n",
       "      <td>6</td>\n",
       "      <td>released</td>\n",
       "      <td>Not Reported</td>\n",
       "    </tr>\n",
       "  </tbody>\n",
       "</table>\n",
       "<p>477 rows × 109 columns</p>\n",
       "</div>"
      ],
      "text/plain": [
       "                     submitter_id.samples  \\\n",
       "submitter_id.samples                        \n",
       "TCGA-D9-A4Z2-01A         TCGA-D9-A4Z2-01A   \n",
       "TCGA-ER-A2NH-06A         TCGA-ER-A2NH-06A   \n",
       "TCGA-BF-A5EO-01A         TCGA-BF-A5EO-01A   \n",
       "TCGA-D9-A6EA-06A         TCGA-D9-A6EA-06A   \n",
       "TCGA-D9-A4Z3-01A         TCGA-D9-A4Z3-01A   \n",
       "...                                   ...   \n",
       "TCGA-D3-A1Q9-06A         TCGA-D3-A1Q9-06A   \n",
       "TCGA-FS-A1ZP-06A         TCGA-FS-A1ZP-06A   \n",
       "TCGA-EB-A42Y-01A         TCGA-EB-A42Y-01A   \n",
       "TCGA-WE-A8ZY-06A         TCGA-WE-A8ZY-06A   \n",
       "TCGA-EE-A20C-06A         TCGA-EE-A20C-06A   \n",
       "\n",
       "                      age_at_initial_pathologic_diagnosis batch_number  \\\n",
       "submitter_id.samples                                                     \n",
       "TCGA-D9-A4Z2-01A                                     50.0     262.74.0   \n",
       "TCGA-ER-A2NH-06A                                     49.0     180.87.0   \n",
       "TCGA-BF-A5EO-01A                                     65.0     291.69.0   \n",
       "TCGA-D9-A6EA-06A                                     70.0     316.66.0   \n",
       "TCGA-D9-A4Z3-01A                                     73.0     277.76.0   \n",
       "...                                                   ...          ...   \n",
       "TCGA-D3-A1Q9-06A                                     72.0     180.87.0   \n",
       "TCGA-FS-A1ZP-06A                                     52.0     180.87.0   \n",
       "TCGA-EB-A42Y-01A                                     73.0     262.74.0   \n",
       "TCGA-WE-A8ZY-06A                                     62.0     388.48.0   \n",
       "TCGA-EE-A20C-06A                                     59.0     180.87.0   \n",
       "\n",
       "                                                 bcr bcr_followup_barcode  \\\n",
       "submitter_id.samples                                                        \n",
       "TCGA-D9-A4Z2-01A      Nationwide Children's Hospital  TCGA-D9-A4Z2-F57868   \n",
       "TCGA-ER-A2NH-06A      Nationwide Children's Hospital  TCGA-ER-A2NH-F69370   \n",
       "TCGA-BF-A5EO-01A      Nationwide Children's Hospital  TCGA-BF-A5EO-F68880   \n",
       "TCGA-D9-A6EA-06A      Nationwide Children's Hospital  TCGA-D9-A6EA-F57860   \n",
       "TCGA-D9-A4Z3-01A      Nationwide Children's Hospital  TCGA-D9-A4Z3-F58483   \n",
       "...                                              ...                  ...   \n",
       "TCGA-D3-A1Q9-06A      Nationwide Children's Hospital                  NaN   \n",
       "TCGA-FS-A1ZP-06A      Nationwide Children's Hospital                  NaN   \n",
       "TCGA-EB-A42Y-01A      Nationwide Children's Hospital  TCGA-EB-A42Y-F45845   \n",
       "TCGA-WE-A8ZY-06A      Nationwide Children's Hospital  TCGA-WE-A8ZY-F67332   \n",
       "TCGA-EE-A20C-06A      Nationwide Children's Hospital                  NaN   \n",
       "\n",
       "                                         bcr_followup_uuid  submitter_id  \\\n",
       "submitter_id.samples                                                       \n",
       "TCGA-D9-A4Z2-01A      AB5F6B14-DAAE-4D19-B227-EC6E2D5ED0D0  TCGA-D9-A4Z2   \n",
       "TCGA-ER-A2NH-06A      CF52E6AD-959C-446F-B88F-E7E73B83E405  TCGA-ER-A2NH   \n",
       "TCGA-BF-A5EO-01A      9993CEA1-92A4-48E7-904E-542F5079A3C6  TCGA-BF-A5EO   \n",
       "TCGA-D9-A6EA-06A      C0168BC0-E336-4944-86D9-C332EA962EC0  TCGA-D9-A6EA   \n",
       "TCGA-D9-A4Z3-01A      54923FD3-981A-4649-BEDD-860A06350154  TCGA-D9-A4Z3   \n",
       "...                                                    ...           ...   \n",
       "TCGA-D3-A1Q9-06A                                       NaN  TCGA-D3-A1Q9   \n",
       "TCGA-FS-A1ZP-06A                                       NaN  TCGA-FS-A1ZP   \n",
       "TCGA-EB-A42Y-01A      4802A84B-7396-463C-82B0-24BF85B44EFF  TCGA-EB-A42Y   \n",
       "TCGA-WE-A8ZY-06A      C8CE9B61-BA13-4E16-9639-4464707E3A18  TCGA-WE-A8ZY   \n",
       "TCGA-EE-A20C-06A                                       NaN  TCGA-EE-A20C   \n",
       "\n",
       "                      breslow_depth_value  day_of_dcc_upload  \\\n",
       "submitter_id.samples                                           \n",
       "TCGA-D9-A4Z2-01A                     25.0                 14   \n",
       "TCGA-ER-A2NH-06A                      4.0                 14   \n",
       "TCGA-BF-A5EO-01A                      8.0                 14   \n",
       "TCGA-D9-A6EA-06A                      6.0                 14   \n",
       "TCGA-D9-A4Z3-01A                     75.0                 14   \n",
       "...                                   ...                ...   \n",
       "TCGA-D3-A1Q9-06A                      6.0                 14   \n",
       "TCGA-FS-A1ZP-06A                      2.5                 14   \n",
       "TCGA-EB-A42Y-01A                      5.0                 14   \n",
       "TCGA-WE-A8ZY-06A                      3.0                 14   \n",
       "TCGA-EE-A20C-06A                      NaN                 14   \n",
       "\n",
       "                      day_of_form_completion  ...  days_to_collection.samples  \\\n",
       "submitter_id.samples                          ...                               \n",
       "TCGA-D9-A4Z2-01A                        28.0  ...                        66.0   \n",
       "TCGA-ER-A2NH-06A                         7.0  ...                       744.0   \n",
       "TCGA-BF-A5EO-01A                        23.0  ...                       134.0   \n",
       "TCGA-D9-A6EA-06A                        28.0  ...                       478.0   \n",
       "TCGA-D9-A4Z3-01A                        11.0  ...                        16.0   \n",
       "...                                      ...  ...                         ...   \n",
       "TCGA-D3-A1Q9-06A                         NaN  ...                      2065.0   \n",
       "TCGA-FS-A1ZP-06A                         NaN  ...                      4897.0   \n",
       "TCGA-EB-A42Y-01A                        23.0  ...                        99.0   \n",
       "TCGA-WE-A8ZY-06A                         4.0  ...                      1294.0   \n",
       "TCGA-EE-A20C-06A                         NaN  ...                      5168.0   \n",
       "\n",
       "                      days_to_sample_procurement.samples  \\\n",
       "submitter_id.samples                                       \n",
       "TCGA-D9-A4Z2-01A                                     NaN   \n",
       "TCGA-ER-A2NH-06A                                     NaN   \n",
       "TCGA-BF-A5EO-01A                                     NaN   \n",
       "TCGA-D9-A6EA-06A                                     NaN   \n",
       "TCGA-D9-A4Z3-01A                                     NaN   \n",
       "...                                                  ...   \n",
       "TCGA-D3-A1Q9-06A                                     NaN   \n",
       "TCGA-FS-A1ZP-06A                                     NaN   \n",
       "TCGA-EB-A42Y-01A                                     NaN   \n",
       "TCGA-WE-A8ZY-06A                                     NaN   \n",
       "TCGA-EE-A20C-06A                                     NaN   \n",
       "\n",
       "                     initial_weight.samples is_ffpe.samples  \\\n",
       "submitter_id.samples                                          \n",
       "TCGA-D9-A4Z2-01A                      160.0           False   \n",
       "TCGA-ER-A2NH-06A                        NaN           False   \n",
       "TCGA-BF-A5EO-01A                       14.0           False   \n",
       "TCGA-D9-A6EA-06A                      270.0           False   \n",
       "TCGA-D9-A4Z3-01A                      170.0           False   \n",
       "...                                     ...             ...   \n",
       "TCGA-D3-A1Q9-06A                      490.0           False   \n",
       "TCGA-FS-A1ZP-06A                      190.0           False   \n",
       "TCGA-EB-A42Y-01A                      650.0           False   \n",
       "TCGA-WE-A8ZY-06A                      510.0           False   \n",
       "TCGA-EE-A20C-06A                      240.0           False   \n",
       "\n",
       "                     oct_embedded.samples preservation_method.samples  \\\n",
       "submitter_id.samples                                                    \n",
       "TCGA-D9-A4Z2-01A                    False                         NaN   \n",
       "TCGA-ER-A2NH-06A                     True                         NaN   \n",
       "TCGA-BF-A5EO-01A                     True                         NaN   \n",
       "TCGA-D9-A6EA-06A                     True                         NaN   \n",
       "TCGA-D9-A4Z3-01A                    False                         NaN   \n",
       "...                                   ...                         ...   \n",
       "TCGA-D3-A1Q9-06A                     True                         NaN   \n",
       "TCGA-FS-A1ZP-06A                    False                         NaN   \n",
       "TCGA-EB-A42Y-01A                     True                         NaN   \n",
       "TCGA-WE-A8ZY-06A                     True                         NaN   \n",
       "TCGA-EE-A20C-06A                     True                         NaN   \n",
       "\n",
       "                     sample_type.samples sample_type_id.samples state.samples  \\\n",
       "submitter_id.samples                                                            \n",
       "TCGA-D9-A4Z2-01A           Primary Tumor                      1      released   \n",
       "TCGA-ER-A2NH-06A              Metastatic                      6      released   \n",
       "TCGA-BF-A5EO-01A           Primary Tumor                      1      released   \n",
       "TCGA-D9-A6EA-06A              Metastatic                      6      released   \n",
       "TCGA-D9-A4Z3-01A           Primary Tumor                      1      released   \n",
       "...                                  ...                    ...           ...   \n",
       "TCGA-D3-A1Q9-06A              Metastatic                      6      released   \n",
       "TCGA-FS-A1ZP-06A              Metastatic                      6      released   \n",
       "TCGA-EB-A42Y-01A           Primary Tumor                      1      released   \n",
       "TCGA-WE-A8ZY-06A              Metastatic                      6      released   \n",
       "TCGA-EE-A20C-06A              Metastatic                      6      released   \n",
       "\n",
       "                     tissue_type.samples  \n",
       "submitter_id.samples                      \n",
       "TCGA-D9-A4Z2-01A            Not Reported  \n",
       "TCGA-ER-A2NH-06A            Not Reported  \n",
       "TCGA-BF-A5EO-01A            Not Reported  \n",
       "TCGA-D9-A6EA-06A            Not Reported  \n",
       "TCGA-D9-A4Z3-01A            Not Reported  \n",
       "...                                  ...  \n",
       "TCGA-D3-A1Q9-06A            Not Reported  \n",
       "TCGA-FS-A1ZP-06A            Not Reported  \n",
       "TCGA-EB-A42Y-01A            Not Reported  \n",
       "TCGA-WE-A8ZY-06A            Not Reported  \n",
       "TCGA-EE-A20C-06A            Not Reported  \n",
       "\n",
       "[477 rows x 109 columns]"
      ]
     },
     "execution_count": 95,
     "metadata": {},
     "output_type": "execute_result"
    }
   ],
   "source": [
    "clinicalData = pd.read_table('../UCSC_data/TCGA-SKCM.GDC_phenotype.tsv')\n",
    "clinicalData = clinicalData.set_index(\"submitter_id.samples\",drop=False)\n",
    "clinicalData"
   ]
  },
  {
   "cell_type": "markdown",
   "metadata": {},
   "source": [
    "2) Comme lors de la troisième séance, ne conservez que les données de patientes pour lesquelles on a à la fois les données cliniques et l'expression génique."
   ]
  },
  {
   "cell_type": "code",
   "execution_count": 1,
   "metadata": {},
   "outputs": [],
   "source": [
    "# A compléter"
   ]
  },
  {
   "cell_type": "markdown",
   "metadata": {},
   "source": [
    "Nous allons réduire la dimension du jeux de données en travaillant avec les gènes dont l'expression varie le plus.\n",
    "\n",
    "5) Selectionner les 500 gènes avec les plus grandes variances dans le jeux de données normalisées."
   ]
  },
  {
   "cell_type": "code",
   "execution_count": 97,
   "metadata": {},
   "outputs": [
    {
     "data": {
      "text/html": [
       "<div>\n",
       "<style scoped>\n",
       "    .dataframe tbody tr th:only-of-type {\n",
       "        vertical-align: middle;\n",
       "    }\n",
       "\n",
       "    .dataframe tbody tr th {\n",
       "        vertical-align: top;\n",
       "    }\n",
       "\n",
       "    .dataframe thead th {\n",
       "        text-align: right;\n",
       "    }\n",
       "</style>\n",
       "<table border=\"1\" class=\"dataframe\">\n",
       "  <thead>\n",
       "    <tr style=\"text-align: right;\">\n",
       "      <th></th>\n",
       "      <th>TCGA-DA-A1IA-06A</th>\n",
       "      <th>TCGA-XV-A9VZ-01A</th>\n",
       "      <th>TCGA-BF-A5EP-01A</th>\n",
       "      <th>TCGA-EE-A3AF-06A</th>\n",
       "      <th>TCGA-D9-A3Z3-06A</th>\n",
       "      <th>TCGA-FS-A1ZG-06A</th>\n",
       "      <th>TCGA-EB-A44P-01A</th>\n",
       "      <th>TCGA-FR-A729-06A</th>\n",
       "      <th>TCGA-D3-A5GR-06A</th>\n",
       "      <th>TCGA-FS-A4FC-06A</th>\n",
       "      <th>...</th>\n",
       "      <th>TCGA-D9-A4Z3-01A</th>\n",
       "      <th>TCGA-EB-A41B-01A</th>\n",
       "      <th>TCGA-D3-A3CF-06A</th>\n",
       "      <th>TCGA-FS-A4F0-06A</th>\n",
       "      <th>TCGA-EE-A2GM-06B</th>\n",
       "      <th>TCGA-D3-A8GN-06A</th>\n",
       "      <th>TCGA-D3-A1Q1-06A</th>\n",
       "      <th>TCGA-FS-A1ZF-06A</th>\n",
       "      <th>TCGA-EB-A4XL-01A</th>\n",
       "      <th>TCGA-EB-A551-01A</th>\n",
       "    </tr>\n",
       "    <tr>\n",
       "      <th>Ensembl_ID</th>\n",
       "      <th></th>\n",
       "      <th></th>\n",
       "      <th></th>\n",
       "      <th></th>\n",
       "      <th></th>\n",
       "      <th></th>\n",
       "      <th></th>\n",
       "      <th></th>\n",
       "      <th></th>\n",
       "      <th></th>\n",
       "      <th></th>\n",
       "      <th></th>\n",
       "      <th></th>\n",
       "      <th></th>\n",
       "      <th></th>\n",
       "      <th></th>\n",
       "      <th></th>\n",
       "      <th></th>\n",
       "      <th></th>\n",
       "      <th></th>\n",
       "      <th></th>\n",
       "    </tr>\n",
       "  </thead>\n",
       "  <tbody>\n",
       "    <tr>\n",
       "      <th>ENSG00000107165.11</th>\n",
       "      <td>7.066218</td>\n",
       "      <td>6.799930</td>\n",
       "      <td>3.425791</td>\n",
       "      <td>0.811460</td>\n",
       "      <td>10.288992</td>\n",
       "      <td>14.396544</td>\n",
       "      <td>1.852564</td>\n",
       "      <td>6.336925</td>\n",
       "      <td>0.058561</td>\n",
       "      <td>7.133724</td>\n",
       "      <td>...</td>\n",
       "      <td>0.000000</td>\n",
       "      <td>9.609366</td>\n",
       "      <td>9.958414</td>\n",
       "      <td>11.825504</td>\n",
       "      <td>7.259458</td>\n",
       "      <td>8.247886</td>\n",
       "      <td>0.134844</td>\n",
       "      <td>7.298838</td>\n",
       "      <td>9.170576</td>\n",
       "      <td>0.743548</td>\n",
       "    </tr>\n",
       "    <tr>\n",
       "      <th>ENSG00000186847.5</th>\n",
       "      <td>1.408282</td>\n",
       "      <td>12.571299</td>\n",
       "      <td>1.992407</td>\n",
       "      <td>0.742395</td>\n",
       "      <td>0.162815</td>\n",
       "      <td>0.032844</td>\n",
       "      <td>8.230878</td>\n",
       "      <td>1.511560</td>\n",
       "      <td>0.094834</td>\n",
       "      <td>10.378933</td>\n",
       "      <td>...</td>\n",
       "      <td>0.032091</td>\n",
       "      <td>0.926994</td>\n",
       "      <td>1.180265</td>\n",
       "      <td>2.542369</td>\n",
       "      <td>2.160705</td>\n",
       "      <td>0.000000</td>\n",
       "      <td>0.096080</td>\n",
       "      <td>0.353974</td>\n",
       "      <td>12.194867</td>\n",
       "      <td>2.524297</td>\n",
       "    </tr>\n",
       "    <tr>\n",
       "      <th>ENSG00000211598.2</th>\n",
       "      <td>2.712010</td>\n",
       "      <td>0.180038</td>\n",
       "      <td>0.496454</td>\n",
       "      <td>4.525218</td>\n",
       "      <td>11.041748</td>\n",
       "      <td>3.805753</td>\n",
       "      <td>6.204527</td>\n",
       "      <td>10.513391</td>\n",
       "      <td>11.780401</td>\n",
       "      <td>5.829377</td>\n",
       "      <td>...</td>\n",
       "      <td>2.267413</td>\n",
       "      <td>1.516865</td>\n",
       "      <td>11.295832</td>\n",
       "      <td>2.619667</td>\n",
       "      <td>2.377095</td>\n",
       "      <td>13.134208</td>\n",
       "      <td>0.663521</td>\n",
       "      <td>0.418840</td>\n",
       "      <td>5.049529</td>\n",
       "      <td>10.846007</td>\n",
       "    </tr>\n",
       "    <tr>\n",
       "      <th>ENSG00000211896.5</th>\n",
       "      <td>3.982768</td>\n",
       "      <td>0.445571</td>\n",
       "      <td>2.964609</td>\n",
       "      <td>7.451168</td>\n",
       "      <td>13.441734</td>\n",
       "      <td>5.499959</td>\n",
       "      <td>7.532357</td>\n",
       "      <td>12.551222</td>\n",
       "      <td>12.884868</td>\n",
       "      <td>8.850685</td>\n",
       "      <td>...</td>\n",
       "      <td>4.373067</td>\n",
       "      <td>4.040132</td>\n",
       "      <td>11.879925</td>\n",
       "      <td>4.688568</td>\n",
       "      <td>3.560111</td>\n",
       "      <td>14.899345</td>\n",
       "      <td>2.468558</td>\n",
       "      <td>0.884810</td>\n",
       "      <td>9.064013</td>\n",
       "      <td>13.119988</td>\n",
       "    </tr>\n",
       "    <tr>\n",
       "      <th>ENSG00000185664.13</th>\n",
       "      <td>14.729082</td>\n",
       "      <td>8.590050</td>\n",
       "      <td>12.376209</td>\n",
       "      <td>14.049126</td>\n",
       "      <td>14.049643</td>\n",
       "      <td>14.760182</td>\n",
       "      <td>12.729566</td>\n",
       "      <td>9.916614</td>\n",
       "      <td>6.750454</td>\n",
       "      <td>12.760053</td>\n",
       "      <td>...</td>\n",
       "      <td>1.597135</td>\n",
       "      <td>12.983562</td>\n",
       "      <td>14.331738</td>\n",
       "      <td>11.955349</td>\n",
       "      <td>13.738047</td>\n",
       "      <td>11.020641</td>\n",
       "      <td>13.626196</td>\n",
       "      <td>11.649660</td>\n",
       "      <td>12.046421</td>\n",
       "      <td>2.091082</td>\n",
       "    </tr>\n",
       "    <tr>\n",
       "      <th>...</th>\n",
       "      <td>...</td>\n",
       "      <td>...</td>\n",
       "      <td>...</td>\n",
       "      <td>...</td>\n",
       "      <td>...</td>\n",
       "      <td>...</td>\n",
       "      <td>...</td>\n",
       "      <td>...</td>\n",
       "      <td>...</td>\n",
       "      <td>...</td>\n",
       "      <td>...</td>\n",
       "      <td>...</td>\n",
       "      <td>...</td>\n",
       "      <td>...</td>\n",
       "      <td>...</td>\n",
       "      <td>...</td>\n",
       "      <td>...</td>\n",
       "      <td>...</td>\n",
       "      <td>...</td>\n",
       "      <td>...</td>\n",
       "      <td>...</td>\n",
       "    </tr>\n",
       "    <tr>\n",
       "      <th>ENSG00000124785.7</th>\n",
       "      <td>5.565315</td>\n",
       "      <td>6.551427</td>\n",
       "      <td>2.486387</td>\n",
       "      <td>5.934527</td>\n",
       "      <td>2.555172</td>\n",
       "      <td>6.978734</td>\n",
       "      <td>5.753652</td>\n",
       "      <td>7.334014</td>\n",
       "      <td>5.969634</td>\n",
       "      <td>6.580273</td>\n",
       "      <td>...</td>\n",
       "      <td>6.970748</td>\n",
       "      <td>2.243745</td>\n",
       "      <td>3.059803</td>\n",
       "      <td>6.360357</td>\n",
       "      <td>4.538002</td>\n",
       "      <td>2.077676</td>\n",
       "      <td>1.824378</td>\n",
       "      <td>2.473530</td>\n",
       "      <td>2.513193</td>\n",
       "      <td>3.297163</td>\n",
       "    </tr>\n",
       "    <tr>\n",
       "      <th>ENSG00000133063.14</th>\n",
       "      <td>0.406450</td>\n",
       "      <td>2.905731</td>\n",
       "      <td>0.089934</td>\n",
       "      <td>6.436339</td>\n",
       "      <td>4.112601</td>\n",
       "      <td>1.807551</td>\n",
       "      <td>0.920347</td>\n",
       "      <td>1.682338</td>\n",
       "      <td>1.855875</td>\n",
       "      <td>2.993947</td>\n",
       "      <td>...</td>\n",
       "      <td>0.332111</td>\n",
       "      <td>0.401105</td>\n",
       "      <td>0.690886</td>\n",
       "      <td>0.325771</td>\n",
       "      <td>1.369335</td>\n",
       "      <td>1.262195</td>\n",
       "      <td>0.148450</td>\n",
       "      <td>0.351033</td>\n",
       "      <td>0.320049</td>\n",
       "      <td>0.706487</td>\n",
       "    </tr>\n",
       "    <tr>\n",
       "      <th>ENSG00000134363.10</th>\n",
       "      <td>0.145230</td>\n",
       "      <td>4.813498</td>\n",
       "      <td>1.468679</td>\n",
       "      <td>0.520335</td>\n",
       "      <td>2.021298</td>\n",
       "      <td>1.018676</td>\n",
       "      <td>4.751289</td>\n",
       "      <td>2.647154</td>\n",
       "      <td>5.988663</td>\n",
       "      <td>1.704464</td>\n",
       "      <td>...</td>\n",
       "      <td>2.977774</td>\n",
       "      <td>2.485062</td>\n",
       "      <td>3.048075</td>\n",
       "      <td>2.025180</td>\n",
       "      <td>0.430671</td>\n",
       "      <td>3.570706</td>\n",
       "      <td>0.318345</td>\n",
       "      <td>4.216814</td>\n",
       "      <td>3.678826</td>\n",
       "      <td>1.034542</td>\n",
       "    </tr>\n",
       "    <tr>\n",
       "      <th>ENSG00000117122.12</th>\n",
       "      <td>4.201856</td>\n",
       "      <td>6.888783</td>\n",
       "      <td>5.401808</td>\n",
       "      <td>5.852151</td>\n",
       "      <td>5.308334</td>\n",
       "      <td>5.518212</td>\n",
       "      <td>5.513435</td>\n",
       "      <td>4.635008</td>\n",
       "      <td>3.865416</td>\n",
       "      <td>3.385027</td>\n",
       "      <td>...</td>\n",
       "      <td>5.987092</td>\n",
       "      <td>6.183950</td>\n",
       "      <td>6.809981</td>\n",
       "      <td>0.838038</td>\n",
       "      <td>6.034502</td>\n",
       "      <td>3.073416</td>\n",
       "      <td>6.444495</td>\n",
       "      <td>5.801871</td>\n",
       "      <td>4.981610</td>\n",
       "      <td>2.546539</td>\n",
       "    </tr>\n",
       "    <tr>\n",
       "      <th>ENSG00000253490.4</th>\n",
       "      <td>1.578292</td>\n",
       "      <td>0.175112</td>\n",
       "      <td>2.329971</td>\n",
       "      <td>0.077797</td>\n",
       "      <td>3.763623</td>\n",
       "      <td>0.000000</td>\n",
       "      <td>0.206982</td>\n",
       "      <td>2.005075</td>\n",
       "      <td>1.977011</td>\n",
       "      <td>3.527745</td>\n",
       "      <td>...</td>\n",
       "      <td>0.026473</td>\n",
       "      <td>1.284845</td>\n",
       "      <td>3.793171</td>\n",
       "      <td>6.853807</td>\n",
       "      <td>0.229693</td>\n",
       "      <td>3.606052</td>\n",
       "      <td>0.000000</td>\n",
       "      <td>4.498416</td>\n",
       "      <td>2.099666</td>\n",
       "      <td>4.717521</td>\n",
       "    </tr>\n",
       "  </tbody>\n",
       "</table>\n",
       "<p>500 rows × 179 columns</p>\n",
       "</div>"
      ],
      "text/plain": [
       "                    TCGA-DA-A1IA-06A  TCGA-XV-A9VZ-01A  TCGA-BF-A5EP-01A  \\\n",
       "Ensembl_ID                                                                 \n",
       "ENSG00000107165.11          7.066218          6.799930          3.425791   \n",
       "ENSG00000186847.5           1.408282         12.571299          1.992407   \n",
       "ENSG00000211598.2           2.712010          0.180038          0.496454   \n",
       "ENSG00000211896.5           3.982768          0.445571          2.964609   \n",
       "ENSG00000185664.13         14.729082          8.590050         12.376209   \n",
       "...                              ...               ...               ...   \n",
       "ENSG00000124785.7           5.565315          6.551427          2.486387   \n",
       "ENSG00000133063.14          0.406450          2.905731          0.089934   \n",
       "ENSG00000134363.10          0.145230          4.813498          1.468679   \n",
       "ENSG00000117122.12          4.201856          6.888783          5.401808   \n",
       "ENSG00000253490.4           1.578292          0.175112          2.329971   \n",
       "\n",
       "                    TCGA-EE-A3AF-06A  TCGA-D9-A3Z3-06A  TCGA-FS-A1ZG-06A  \\\n",
       "Ensembl_ID                                                                 \n",
       "ENSG00000107165.11          0.811460         10.288992         14.396544   \n",
       "ENSG00000186847.5           0.742395          0.162815          0.032844   \n",
       "ENSG00000211598.2           4.525218         11.041748          3.805753   \n",
       "ENSG00000211896.5           7.451168         13.441734          5.499959   \n",
       "ENSG00000185664.13         14.049126         14.049643         14.760182   \n",
       "...                              ...               ...               ...   \n",
       "ENSG00000124785.7           5.934527          2.555172          6.978734   \n",
       "ENSG00000133063.14          6.436339          4.112601          1.807551   \n",
       "ENSG00000134363.10          0.520335          2.021298          1.018676   \n",
       "ENSG00000117122.12          5.852151          5.308334          5.518212   \n",
       "ENSG00000253490.4           0.077797          3.763623          0.000000   \n",
       "\n",
       "                    TCGA-EB-A44P-01A  TCGA-FR-A729-06A  TCGA-D3-A5GR-06A  \\\n",
       "Ensembl_ID                                                                 \n",
       "ENSG00000107165.11          1.852564          6.336925          0.058561   \n",
       "ENSG00000186847.5           8.230878          1.511560          0.094834   \n",
       "ENSG00000211598.2           6.204527         10.513391         11.780401   \n",
       "ENSG00000211896.5           7.532357         12.551222         12.884868   \n",
       "ENSG00000185664.13         12.729566          9.916614          6.750454   \n",
       "...                              ...               ...               ...   \n",
       "ENSG00000124785.7           5.753652          7.334014          5.969634   \n",
       "ENSG00000133063.14          0.920347          1.682338          1.855875   \n",
       "ENSG00000134363.10          4.751289          2.647154          5.988663   \n",
       "ENSG00000117122.12          5.513435          4.635008          3.865416   \n",
       "ENSG00000253490.4           0.206982          2.005075          1.977011   \n",
       "\n",
       "                    TCGA-FS-A4FC-06A  ...  TCGA-D9-A4Z3-01A  TCGA-EB-A41B-01A  \\\n",
       "Ensembl_ID                            ...                                       \n",
       "ENSG00000107165.11          7.133724  ...          0.000000          9.609366   \n",
       "ENSG00000186847.5          10.378933  ...          0.032091          0.926994   \n",
       "ENSG00000211598.2           5.829377  ...          2.267413          1.516865   \n",
       "ENSG00000211896.5           8.850685  ...          4.373067          4.040132   \n",
       "ENSG00000185664.13         12.760053  ...          1.597135         12.983562   \n",
       "...                              ...  ...               ...               ...   \n",
       "ENSG00000124785.7           6.580273  ...          6.970748          2.243745   \n",
       "ENSG00000133063.14          2.993947  ...          0.332111          0.401105   \n",
       "ENSG00000134363.10          1.704464  ...          2.977774          2.485062   \n",
       "ENSG00000117122.12          3.385027  ...          5.987092          6.183950   \n",
       "ENSG00000253490.4           3.527745  ...          0.026473          1.284845   \n",
       "\n",
       "                    TCGA-D3-A3CF-06A  TCGA-FS-A4F0-06A  TCGA-EE-A2GM-06B  \\\n",
       "Ensembl_ID                                                                 \n",
       "ENSG00000107165.11          9.958414         11.825504          7.259458   \n",
       "ENSG00000186847.5           1.180265          2.542369          2.160705   \n",
       "ENSG00000211598.2          11.295832          2.619667          2.377095   \n",
       "ENSG00000211896.5          11.879925          4.688568          3.560111   \n",
       "ENSG00000185664.13         14.331738         11.955349         13.738047   \n",
       "...                              ...               ...               ...   \n",
       "ENSG00000124785.7           3.059803          6.360357          4.538002   \n",
       "ENSG00000133063.14          0.690886          0.325771          1.369335   \n",
       "ENSG00000134363.10          3.048075          2.025180          0.430671   \n",
       "ENSG00000117122.12          6.809981          0.838038          6.034502   \n",
       "ENSG00000253490.4           3.793171          6.853807          0.229693   \n",
       "\n",
       "                    TCGA-D3-A8GN-06A  TCGA-D3-A1Q1-06A  TCGA-FS-A1ZF-06A  \\\n",
       "Ensembl_ID                                                                 \n",
       "ENSG00000107165.11          8.247886          0.134844          7.298838   \n",
       "ENSG00000186847.5           0.000000          0.096080          0.353974   \n",
       "ENSG00000211598.2          13.134208          0.663521          0.418840   \n",
       "ENSG00000211896.5          14.899345          2.468558          0.884810   \n",
       "ENSG00000185664.13         11.020641         13.626196         11.649660   \n",
       "...                              ...               ...               ...   \n",
       "ENSG00000124785.7           2.077676          1.824378          2.473530   \n",
       "ENSG00000133063.14          1.262195          0.148450          0.351033   \n",
       "ENSG00000134363.10          3.570706          0.318345          4.216814   \n",
       "ENSG00000117122.12          3.073416          6.444495          5.801871   \n",
       "ENSG00000253490.4           3.606052          0.000000          4.498416   \n",
       "\n",
       "                    TCGA-EB-A4XL-01A  TCGA-EB-A551-01A  \n",
       "Ensembl_ID                                              \n",
       "ENSG00000107165.11          9.170576          0.743548  \n",
       "ENSG00000186847.5          12.194867          2.524297  \n",
       "ENSG00000211598.2           5.049529         10.846007  \n",
       "ENSG00000211896.5           9.064013         13.119988  \n",
       "ENSG00000185664.13         12.046421          2.091082  \n",
       "...                              ...               ...  \n",
       "ENSG00000124785.7           2.513193          3.297163  \n",
       "ENSG00000133063.14          0.320049          0.706487  \n",
       "ENSG00000134363.10          3.678826          1.034542  \n",
       "ENSG00000117122.12          4.981610          2.546539  \n",
       "ENSG00000253490.4           2.099666          4.717521  \n",
       "\n",
       "[500 rows x 179 columns]"
      ]
     },
     "execution_count": 97,
     "metadata": {},
     "output_type": "execute_result"
    }
   ],
   "source": [
    "nGenes = 500\n",
    "smpCountVarGenes = smpCounts.loc[smpCounts.var(numeric_only = True, axis = 1).sort_values(ascending=False).index[:nGenes]]\n",
    "smpCountVarGenes"
   ]
  },
  {
   "cell_type": "code",
   "execution_count": null,
   "metadata": {},
   "outputs": [],
   "source": [
    "Afficher la distribution du gène qui varie le plus, retrouver son nom."
   ]
  },
  {
   "cell_type": "code",
   "execution_count": null,
   "metadata": {},
   "outputs": [],
   "source": [
    "# A compléter pour afficher la distribution"
   ]
  },
  {
   "cell_type": "code",
   "execution_count": null,
   "metadata": {},
   "outputs": [],
   "source": [
    "# A compléter pour retrouver le nom en utilisant le tableau geneAnnotations"
   ]
  },
  {
   "cell_type": "markdown",
   "metadata": {},
   "source": [
    "6) Centrer-réduire les données."
   ]
  },
  {
   "cell_type": "code",
   "execution_count": 98,
   "metadata": {},
   "outputs": [],
   "source": [
    "# This scales each column to have mean=0 and standard deviation=1\n",
    "SS=StandardScaler()\n",
    "\n",
    "# Apply scaling\n",
    "X=pd.DataFrame(SS.fit_transform(smpCountVarGenes.T), columns=smpCountVarGenes.index,index = smpCountVarGenes.columns)"
   ]
  },
  {
   "cell_type": "markdown",
   "metadata": {},
   "source": [
    "## Question 2: Analyse en composantes principales (Principal Component Analyzis PCA) "
   ]
  },
  {
   "cell_type": "markdown",
   "metadata": {},
   "source": [
    "Réaliser une analyse en composantes principales (Principal Component Analyzis PCA) pour réduire la dimension du jeux de données. \n",
    "\n",
    "1) Calculer 30 composantes principales (choix totalement arbitraire, habituellement 10 à 50 composantes peuvent être calculées).\n",
    "\n"
   ]
  },
  {
   "cell_type": "code",
   "execution_count": 99,
   "metadata": {
    "scrolled": true
   },
   "outputs": [
    {
     "data": {
      "text/html": [
       "<div>\n",
       "<style scoped>\n",
       "    .dataframe tbody tr th:only-of-type {\n",
       "        vertical-align: middle;\n",
       "    }\n",
       "\n",
       "    .dataframe tbody tr th {\n",
       "        vertical-align: top;\n",
       "    }\n",
       "\n",
       "    .dataframe thead th {\n",
       "        text-align: right;\n",
       "    }\n",
       "</style>\n",
       "<table border=\"1\" class=\"dataframe\">\n",
       "  <thead>\n",
       "    <tr style=\"text-align: right;\">\n",
       "      <th></th>\n",
       "      <th>0</th>\n",
       "      <th>1</th>\n",
       "      <th>2</th>\n",
       "      <th>3</th>\n",
       "      <th>4</th>\n",
       "      <th>5</th>\n",
       "      <th>6</th>\n",
       "      <th>7</th>\n",
       "      <th>8</th>\n",
       "      <th>9</th>\n",
       "      <th>...</th>\n",
       "      <th>20</th>\n",
       "      <th>21</th>\n",
       "      <th>22</th>\n",
       "      <th>23</th>\n",
       "      <th>24</th>\n",
       "      <th>25</th>\n",
       "      <th>26</th>\n",
       "      <th>27</th>\n",
       "      <th>28</th>\n",
       "      <th>29</th>\n",
       "    </tr>\n",
       "  </thead>\n",
       "  <tbody>\n",
       "    <tr>\n",
       "      <th>TCGA-DA-A1IA-06A</th>\n",
       "      <td>-13.201208</td>\n",
       "      <td>-5.332833</td>\n",
       "      <td>-7.120047</td>\n",
       "      <td>-1.688675</td>\n",
       "      <td>0.106868</td>\n",
       "      <td>-6.870514</td>\n",
       "      <td>3.645978</td>\n",
       "      <td>-0.710316</td>\n",
       "      <td>3.229174</td>\n",
       "      <td>1.469350</td>\n",
       "      <td>...</td>\n",
       "      <td>-2.132045</td>\n",
       "      <td>1.529367</td>\n",
       "      <td>-1.497709</td>\n",
       "      <td>-1.505799</td>\n",
       "      <td>2.972959</td>\n",
       "      <td>0.779065</td>\n",
       "      <td>-3.092757</td>\n",
       "      <td>1.348923</td>\n",
       "      <td>0.812005</td>\n",
       "      <td>-0.161878</td>\n",
       "    </tr>\n",
       "    <tr>\n",
       "      <th>TCGA-XV-A9VZ-01A</th>\n",
       "      <td>-17.009087</td>\n",
       "      <td>8.746525</td>\n",
       "      <td>2.600618</td>\n",
       "      <td>9.461233</td>\n",
       "      <td>-1.790241</td>\n",
       "      <td>6.297873</td>\n",
       "      <td>3.816050</td>\n",
       "      <td>-3.001654</td>\n",
       "      <td>-3.127924</td>\n",
       "      <td>3.725227</td>\n",
       "      <td>...</td>\n",
       "      <td>0.009316</td>\n",
       "      <td>0.462878</td>\n",
       "      <td>1.042277</td>\n",
       "      <td>-1.447659</td>\n",
       "      <td>-0.367636</td>\n",
       "      <td>-2.307253</td>\n",
       "      <td>-1.015497</td>\n",
       "      <td>-0.346442</td>\n",
       "      <td>2.988078</td>\n",
       "      <td>-2.383099</td>\n",
       "    </tr>\n",
       "    <tr>\n",
       "      <th>TCGA-BF-A5EP-01A</th>\n",
       "      <td>-12.765447</td>\n",
       "      <td>-7.444606</td>\n",
       "      <td>-1.124032</td>\n",
       "      <td>0.078364</td>\n",
       "      <td>3.156299</td>\n",
       "      <td>-6.103066</td>\n",
       "      <td>-1.354943</td>\n",
       "      <td>-1.482552</td>\n",
       "      <td>-0.758679</td>\n",
       "      <td>-1.916549</td>\n",
       "      <td>...</td>\n",
       "      <td>1.152907</td>\n",
       "      <td>0.045436</td>\n",
       "      <td>-1.174033</td>\n",
       "      <td>-1.366333</td>\n",
       "      <td>-0.005596</td>\n",
       "      <td>-1.386545</td>\n",
       "      <td>0.412377</td>\n",
       "      <td>-2.804726</td>\n",
       "      <td>1.160685</td>\n",
       "      <td>2.639679</td>\n",
       "    </tr>\n",
       "    <tr>\n",
       "      <th>TCGA-EE-A3AF-06A</th>\n",
       "      <td>-2.347926</td>\n",
       "      <td>-2.942148</td>\n",
       "      <td>-7.631831</td>\n",
       "      <td>1.997052</td>\n",
       "      <td>5.818364</td>\n",
       "      <td>0.088144</td>\n",
       "      <td>-0.526447</td>\n",
       "      <td>-1.693006</td>\n",
       "      <td>-0.760237</td>\n",
       "      <td>-2.529180</td>\n",
       "      <td>...</td>\n",
       "      <td>-2.875763</td>\n",
       "      <td>-0.899686</td>\n",
       "      <td>-1.876233</td>\n",
       "      <td>0.013396</td>\n",
       "      <td>-0.390106</td>\n",
       "      <td>-0.087148</td>\n",
       "      <td>-2.569995</td>\n",
       "      <td>0.761482</td>\n",
       "      <td>-2.073177</td>\n",
       "      <td>0.889119</td>\n",
       "    </tr>\n",
       "    <tr>\n",
       "      <th>TCGA-D9-A3Z3-06A</th>\n",
       "      <td>14.763371</td>\n",
       "      <td>2.475197</td>\n",
       "      <td>-6.877450</td>\n",
       "      <td>-2.667754</td>\n",
       "      <td>-4.055380</td>\n",
       "      <td>-8.307180</td>\n",
       "      <td>2.777289</td>\n",
       "      <td>1.453846</td>\n",
       "      <td>-4.126435</td>\n",
       "      <td>1.171977</td>\n",
       "      <td>...</td>\n",
       "      <td>1.880090</td>\n",
       "      <td>-1.741279</td>\n",
       "      <td>0.205473</td>\n",
       "      <td>2.062424</td>\n",
       "      <td>-0.782809</td>\n",
       "      <td>-0.323229</td>\n",
       "      <td>-0.482702</td>\n",
       "      <td>-1.582687</td>\n",
       "      <td>0.985227</td>\n",
       "      <td>1.848135</td>\n",
       "    </tr>\n",
       "  </tbody>\n",
       "</table>\n",
       "<p>5 rows × 30 columns</p>\n",
       "</div>"
      ],
      "text/plain": [
       "                         0         1         2         3         4         5   \\\n",
       "TCGA-DA-A1IA-06A -13.201208 -5.332833 -7.120047 -1.688675  0.106868 -6.870514   \n",
       "TCGA-XV-A9VZ-01A -17.009087  8.746525  2.600618  9.461233 -1.790241  6.297873   \n",
       "TCGA-BF-A5EP-01A -12.765447 -7.444606 -1.124032  0.078364  3.156299 -6.103066   \n",
       "TCGA-EE-A3AF-06A  -2.347926 -2.942148 -7.631831  1.997052  5.818364  0.088144   \n",
       "TCGA-D9-A3Z3-06A  14.763371  2.475197 -6.877450 -2.667754 -4.055380 -8.307180   \n",
       "\n",
       "                        6         7         8         9   ...        20  \\\n",
       "TCGA-DA-A1IA-06A  3.645978 -0.710316  3.229174  1.469350  ... -2.132045   \n",
       "TCGA-XV-A9VZ-01A  3.816050 -3.001654 -3.127924  3.725227  ...  0.009316   \n",
       "TCGA-BF-A5EP-01A -1.354943 -1.482552 -0.758679 -1.916549  ...  1.152907   \n",
       "TCGA-EE-A3AF-06A -0.526447 -1.693006 -0.760237 -2.529180  ... -2.875763   \n",
       "TCGA-D9-A3Z3-06A  2.777289  1.453846 -4.126435  1.171977  ...  1.880090   \n",
       "\n",
       "                        21        22        23        24        25        26  \\\n",
       "TCGA-DA-A1IA-06A  1.529367 -1.497709 -1.505799  2.972959  0.779065 -3.092757   \n",
       "TCGA-XV-A9VZ-01A  0.462878  1.042277 -1.447659 -0.367636 -2.307253 -1.015497   \n",
       "TCGA-BF-A5EP-01A  0.045436 -1.174033 -1.366333 -0.005596 -1.386545  0.412377   \n",
       "TCGA-EE-A3AF-06A -0.899686 -1.876233  0.013396 -0.390106 -0.087148 -2.569995   \n",
       "TCGA-D9-A3Z3-06A -1.741279  0.205473  2.062424 -0.782809 -0.323229 -0.482702   \n",
       "\n",
       "                        27        28        29  \n",
       "TCGA-DA-A1IA-06A  1.348923  0.812005 -0.161878  \n",
       "TCGA-XV-A9VZ-01A -0.346442  2.988078 -2.383099  \n",
       "TCGA-BF-A5EP-01A -2.804726  1.160685  2.639679  \n",
       "TCGA-EE-A3AF-06A  0.761482 -2.073177  0.889119  \n",
       "TCGA-D9-A3Z3-06A -1.582687  0.985227  1.848135  \n",
       "\n",
       "[5 rows x 30 columns]"
      ]
     },
     "execution_count": 99,
     "metadata": {},
     "output_type": "execute_result"
    }
   ],
   "source": [
    "nPCs = 30\n",
    "# PCA\n",
    "pca = PCA(n_components=nPCs)\n",
    "X_pca = pca.fit_transform(X)\n",
    "\n",
    "# Convert to data frame\n",
    "principal_df = pd.DataFrame(data = X_pca)\n",
    "principal_df.index = X.index\n",
    "principal_df.head()\n",
    "\n"
   ]
  },
  {
   "cell_type": "markdown",
   "metadata": {},
   "source": [
    "2) Afficher la proportion de variance expliquée par chacune des composantes calculées (elbow plot). Que remarquez-vous?"
   ]
  },
  {
   "cell_type": "code",
   "execution_count": 100,
   "metadata": {},
   "outputs": [
    {
     "data": {
      "application/vnd.plotly.v1+json": {
       "config": {
        "plotlyServerURL": "https://plot.ly"
       },
       "data": [
        {
         "hovertemplate": "component=%{x}<br>propVarExp=%{y}<extra></extra>",
         "legendgroup": "",
         "marker": {
          "color": "#636efa",
          "symbol": "circle"
         },
         "mode": "markers",
         "name": "",
         "orientation": "v",
         "showlegend": false,
         "type": "scatter",
         "x": [
          1,
          2,
          3,
          4,
          5,
          6,
          7,
          8,
          9,
          10,
          11,
          12,
          13,
          14,
          15,
          16,
          17,
          18,
          19,
          20,
          21,
          22,
          23,
          24,
          25,
          26,
          27,
          28,
          29,
          30
         ],
         "xaxis": "x",
         "y": [
          0.24227719243641868,
          0.11022824415818654,
          0.08991173666862284,
          0.041614407045426606,
          0.03347172783520995,
          0.02764156872991347,
          0.02160154157084676,
          0.017970095500065782,
          0.014903363655096176,
          0.014364515257080088,
          0.011955781684162468,
          0.011201105056574507,
          0.010651598765732387,
          0.01001763315786697,
          0.009224641430393959,
          0.0090527941061876,
          0.008801473224098593,
          0.00805218619468312,
          0.007284225006473785,
          0.006830196302192637,
          0.00673234323586802,
          0.006422645081205345,
          0.006405751935571013,
          0.006027432196268813,
          0.005912023493357663,
          0.005506467746132855,
          0.005359756680546871,
          0.005261112156488746,
          0.005147000646161191,
          0.005090176321756858
         ],
         "yaxis": "y"
        }
       ],
       "layout": {
        "legend": {
         "tracegroupgap": 0
        },
        "margin": {
         "t": 60
        },
        "template": {
         "data": {
          "bar": [
           {
            "error_x": {
             "color": "#2a3f5f"
            },
            "error_y": {
             "color": "#2a3f5f"
            },
            "marker": {
             "line": {
              "color": "#E5ECF6",
              "width": 0.5
             },
             "pattern": {
              "fillmode": "overlay",
              "size": 10,
              "solidity": 0.2
             }
            },
            "type": "bar"
           }
          ],
          "barpolar": [
           {
            "marker": {
             "line": {
              "color": "#E5ECF6",
              "width": 0.5
             },
             "pattern": {
              "fillmode": "overlay",
              "size": 10,
              "solidity": 0.2
             }
            },
            "type": "barpolar"
           }
          ],
          "carpet": [
           {
            "aaxis": {
             "endlinecolor": "#2a3f5f",
             "gridcolor": "white",
             "linecolor": "white",
             "minorgridcolor": "white",
             "startlinecolor": "#2a3f5f"
            },
            "baxis": {
             "endlinecolor": "#2a3f5f",
             "gridcolor": "white",
             "linecolor": "white",
             "minorgridcolor": "white",
             "startlinecolor": "#2a3f5f"
            },
            "type": "carpet"
           }
          ],
          "choropleth": [
           {
            "colorbar": {
             "outlinewidth": 0,
             "ticks": ""
            },
            "type": "choropleth"
           }
          ],
          "contour": [
           {
            "colorbar": {
             "outlinewidth": 0,
             "ticks": ""
            },
            "colorscale": [
             [
              0,
              "#0d0887"
             ],
             [
              0.1111111111111111,
              "#46039f"
             ],
             [
              0.2222222222222222,
              "#7201a8"
             ],
             [
              0.3333333333333333,
              "#9c179e"
             ],
             [
              0.4444444444444444,
              "#bd3786"
             ],
             [
              0.5555555555555556,
              "#d8576b"
             ],
             [
              0.6666666666666666,
              "#ed7953"
             ],
             [
              0.7777777777777778,
              "#fb9f3a"
             ],
             [
              0.8888888888888888,
              "#fdca26"
             ],
             [
              1,
              "#f0f921"
             ]
            ],
            "type": "contour"
           }
          ],
          "contourcarpet": [
           {
            "colorbar": {
             "outlinewidth": 0,
             "ticks": ""
            },
            "type": "contourcarpet"
           }
          ],
          "heatmap": [
           {
            "colorbar": {
             "outlinewidth": 0,
             "ticks": ""
            },
            "colorscale": [
             [
              0,
              "#0d0887"
             ],
             [
              0.1111111111111111,
              "#46039f"
             ],
             [
              0.2222222222222222,
              "#7201a8"
             ],
             [
              0.3333333333333333,
              "#9c179e"
             ],
             [
              0.4444444444444444,
              "#bd3786"
             ],
             [
              0.5555555555555556,
              "#d8576b"
             ],
             [
              0.6666666666666666,
              "#ed7953"
             ],
             [
              0.7777777777777778,
              "#fb9f3a"
             ],
             [
              0.8888888888888888,
              "#fdca26"
             ],
             [
              1,
              "#f0f921"
             ]
            ],
            "type": "heatmap"
           }
          ],
          "heatmapgl": [
           {
            "colorbar": {
             "outlinewidth": 0,
             "ticks": ""
            },
            "colorscale": [
             [
              0,
              "#0d0887"
             ],
             [
              0.1111111111111111,
              "#46039f"
             ],
             [
              0.2222222222222222,
              "#7201a8"
             ],
             [
              0.3333333333333333,
              "#9c179e"
             ],
             [
              0.4444444444444444,
              "#bd3786"
             ],
             [
              0.5555555555555556,
              "#d8576b"
             ],
             [
              0.6666666666666666,
              "#ed7953"
             ],
             [
              0.7777777777777778,
              "#fb9f3a"
             ],
             [
              0.8888888888888888,
              "#fdca26"
             ],
             [
              1,
              "#f0f921"
             ]
            ],
            "type": "heatmapgl"
           }
          ],
          "histogram": [
           {
            "marker": {
             "pattern": {
              "fillmode": "overlay",
              "size": 10,
              "solidity": 0.2
             }
            },
            "type": "histogram"
           }
          ],
          "histogram2d": [
           {
            "colorbar": {
             "outlinewidth": 0,
             "ticks": ""
            },
            "colorscale": [
             [
              0,
              "#0d0887"
             ],
             [
              0.1111111111111111,
              "#46039f"
             ],
             [
              0.2222222222222222,
              "#7201a8"
             ],
             [
              0.3333333333333333,
              "#9c179e"
             ],
             [
              0.4444444444444444,
              "#bd3786"
             ],
             [
              0.5555555555555556,
              "#d8576b"
             ],
             [
              0.6666666666666666,
              "#ed7953"
             ],
             [
              0.7777777777777778,
              "#fb9f3a"
             ],
             [
              0.8888888888888888,
              "#fdca26"
             ],
             [
              1,
              "#f0f921"
             ]
            ],
            "type": "histogram2d"
           }
          ],
          "histogram2dcontour": [
           {
            "colorbar": {
             "outlinewidth": 0,
             "ticks": ""
            },
            "colorscale": [
             [
              0,
              "#0d0887"
             ],
             [
              0.1111111111111111,
              "#46039f"
             ],
             [
              0.2222222222222222,
              "#7201a8"
             ],
             [
              0.3333333333333333,
              "#9c179e"
             ],
             [
              0.4444444444444444,
              "#bd3786"
             ],
             [
              0.5555555555555556,
              "#d8576b"
             ],
             [
              0.6666666666666666,
              "#ed7953"
             ],
             [
              0.7777777777777778,
              "#fb9f3a"
             ],
             [
              0.8888888888888888,
              "#fdca26"
             ],
             [
              1,
              "#f0f921"
             ]
            ],
            "type": "histogram2dcontour"
           }
          ],
          "mesh3d": [
           {
            "colorbar": {
             "outlinewidth": 0,
             "ticks": ""
            },
            "type": "mesh3d"
           }
          ],
          "parcoords": [
           {
            "line": {
             "colorbar": {
              "outlinewidth": 0,
              "ticks": ""
             }
            },
            "type": "parcoords"
           }
          ],
          "pie": [
           {
            "automargin": true,
            "type": "pie"
           }
          ],
          "scatter": [
           {
            "fillpattern": {
             "fillmode": "overlay",
             "size": 10,
             "solidity": 0.2
            },
            "type": "scatter"
           }
          ],
          "scatter3d": [
           {
            "line": {
             "colorbar": {
              "outlinewidth": 0,
              "ticks": ""
             }
            },
            "marker": {
             "colorbar": {
              "outlinewidth": 0,
              "ticks": ""
             }
            },
            "type": "scatter3d"
           }
          ],
          "scattercarpet": [
           {
            "marker": {
             "colorbar": {
              "outlinewidth": 0,
              "ticks": ""
             }
            },
            "type": "scattercarpet"
           }
          ],
          "scattergeo": [
           {
            "marker": {
             "colorbar": {
              "outlinewidth": 0,
              "ticks": ""
             }
            },
            "type": "scattergeo"
           }
          ],
          "scattergl": [
           {
            "marker": {
             "colorbar": {
              "outlinewidth": 0,
              "ticks": ""
             }
            },
            "type": "scattergl"
           }
          ],
          "scattermapbox": [
           {
            "marker": {
             "colorbar": {
              "outlinewidth": 0,
              "ticks": ""
             }
            },
            "type": "scattermapbox"
           }
          ],
          "scatterpolar": [
           {
            "marker": {
             "colorbar": {
              "outlinewidth": 0,
              "ticks": ""
             }
            },
            "type": "scatterpolar"
           }
          ],
          "scatterpolargl": [
           {
            "marker": {
             "colorbar": {
              "outlinewidth": 0,
              "ticks": ""
             }
            },
            "type": "scatterpolargl"
           }
          ],
          "scatterternary": [
           {
            "marker": {
             "colorbar": {
              "outlinewidth": 0,
              "ticks": ""
             }
            },
            "type": "scatterternary"
           }
          ],
          "surface": [
           {
            "colorbar": {
             "outlinewidth": 0,
             "ticks": ""
            },
            "colorscale": [
             [
              0,
              "#0d0887"
             ],
             [
              0.1111111111111111,
              "#46039f"
             ],
             [
              0.2222222222222222,
              "#7201a8"
             ],
             [
              0.3333333333333333,
              "#9c179e"
             ],
             [
              0.4444444444444444,
              "#bd3786"
             ],
             [
              0.5555555555555556,
              "#d8576b"
             ],
             [
              0.6666666666666666,
              "#ed7953"
             ],
             [
              0.7777777777777778,
              "#fb9f3a"
             ],
             [
              0.8888888888888888,
              "#fdca26"
             ],
             [
              1,
              "#f0f921"
             ]
            ],
            "type": "surface"
           }
          ],
          "table": [
           {
            "cells": {
             "fill": {
              "color": "#EBF0F8"
             },
             "line": {
              "color": "white"
             }
            },
            "header": {
             "fill": {
              "color": "#C8D4E3"
             },
             "line": {
              "color": "white"
             }
            },
            "type": "table"
           }
          ]
         },
         "layout": {
          "annotationdefaults": {
           "arrowcolor": "#2a3f5f",
           "arrowhead": 0,
           "arrowwidth": 1
          },
          "autotypenumbers": "strict",
          "coloraxis": {
           "colorbar": {
            "outlinewidth": 0,
            "ticks": ""
           }
          },
          "colorscale": {
           "diverging": [
            [
             0,
             "#8e0152"
            ],
            [
             0.1,
             "#c51b7d"
            ],
            [
             0.2,
             "#de77ae"
            ],
            [
             0.3,
             "#f1b6da"
            ],
            [
             0.4,
             "#fde0ef"
            ],
            [
             0.5,
             "#f7f7f7"
            ],
            [
             0.6,
             "#e6f5d0"
            ],
            [
             0.7,
             "#b8e186"
            ],
            [
             0.8,
             "#7fbc41"
            ],
            [
             0.9,
             "#4d9221"
            ],
            [
             1,
             "#276419"
            ]
           ],
           "sequential": [
            [
             0,
             "#0d0887"
            ],
            [
             0.1111111111111111,
             "#46039f"
            ],
            [
             0.2222222222222222,
             "#7201a8"
            ],
            [
             0.3333333333333333,
             "#9c179e"
            ],
            [
             0.4444444444444444,
             "#bd3786"
            ],
            [
             0.5555555555555556,
             "#d8576b"
            ],
            [
             0.6666666666666666,
             "#ed7953"
            ],
            [
             0.7777777777777778,
             "#fb9f3a"
            ],
            [
             0.8888888888888888,
             "#fdca26"
            ],
            [
             1,
             "#f0f921"
            ]
           ],
           "sequentialminus": [
            [
             0,
             "#0d0887"
            ],
            [
             0.1111111111111111,
             "#46039f"
            ],
            [
             0.2222222222222222,
             "#7201a8"
            ],
            [
             0.3333333333333333,
             "#9c179e"
            ],
            [
             0.4444444444444444,
             "#bd3786"
            ],
            [
             0.5555555555555556,
             "#d8576b"
            ],
            [
             0.6666666666666666,
             "#ed7953"
            ],
            [
             0.7777777777777778,
             "#fb9f3a"
            ],
            [
             0.8888888888888888,
             "#fdca26"
            ],
            [
             1,
             "#f0f921"
            ]
           ]
          },
          "colorway": [
           "#636efa",
           "#EF553B",
           "#00cc96",
           "#ab63fa",
           "#FFA15A",
           "#19d3f3",
           "#FF6692",
           "#B6E880",
           "#FF97FF",
           "#FECB52"
          ],
          "font": {
           "color": "#2a3f5f"
          },
          "geo": {
           "bgcolor": "white",
           "lakecolor": "white",
           "landcolor": "#E5ECF6",
           "showlakes": true,
           "showland": true,
           "subunitcolor": "white"
          },
          "hoverlabel": {
           "align": "left"
          },
          "hovermode": "closest",
          "mapbox": {
           "style": "light"
          },
          "paper_bgcolor": "white",
          "plot_bgcolor": "#E5ECF6",
          "polar": {
           "angularaxis": {
            "gridcolor": "white",
            "linecolor": "white",
            "ticks": ""
           },
           "bgcolor": "#E5ECF6",
           "radialaxis": {
            "gridcolor": "white",
            "linecolor": "white",
            "ticks": ""
           }
          },
          "scene": {
           "xaxis": {
            "backgroundcolor": "#E5ECF6",
            "gridcolor": "white",
            "gridwidth": 2,
            "linecolor": "white",
            "showbackground": true,
            "ticks": "",
            "zerolinecolor": "white"
           },
           "yaxis": {
            "backgroundcolor": "#E5ECF6",
            "gridcolor": "white",
            "gridwidth": 2,
            "linecolor": "white",
            "showbackground": true,
            "ticks": "",
            "zerolinecolor": "white"
           },
           "zaxis": {
            "backgroundcolor": "#E5ECF6",
            "gridcolor": "white",
            "gridwidth": 2,
            "linecolor": "white",
            "showbackground": true,
            "ticks": "",
            "zerolinecolor": "white"
           }
          },
          "shapedefaults": {
           "line": {
            "color": "#2a3f5f"
           }
          },
          "ternary": {
           "aaxis": {
            "gridcolor": "white",
            "linecolor": "white",
            "ticks": ""
           },
           "baxis": {
            "gridcolor": "white",
            "linecolor": "white",
            "ticks": ""
           },
           "bgcolor": "#E5ECF6",
           "caxis": {
            "gridcolor": "white",
            "linecolor": "white",
            "ticks": ""
           }
          },
          "title": {
           "x": 0.05
          },
          "xaxis": {
           "automargin": true,
           "gridcolor": "white",
           "linecolor": "white",
           "ticks": "",
           "title": {
            "standoff": 15
           },
           "zerolinecolor": "white",
           "zerolinewidth": 2
          },
          "yaxis": {
           "automargin": true,
           "gridcolor": "white",
           "linecolor": "white",
           "ticks": "",
           "title": {
            "standoff": 15
           },
           "zerolinecolor": "white",
           "zerolinewidth": 2
          }
         }
        },
        "xaxis": {
         "anchor": "y",
         "domain": [
          0,
          1
         ],
         "title": {
          "text": "component"
         }
        },
        "yaxis": {
         "anchor": "x",
         "domain": [
          0,
          1
         ],
         "title": {
          "text": "propVarExp"
         }
        }
       }
      },
      "text/html": [
       "<div>                            <div id=\"48c36df3-872b-4623-9e28-3a378d7e94a1\" class=\"plotly-graph-div\" style=\"height:525px; width:100%;\"></div>            <script type=\"text/javascript\">                require([\"plotly\"], function(Plotly) {                    window.PLOTLYENV=window.PLOTLYENV || {};                                    if (document.getElementById(\"48c36df3-872b-4623-9e28-3a378d7e94a1\")) {                    Plotly.newPlot(                        \"48c36df3-872b-4623-9e28-3a378d7e94a1\",                        [{\"hovertemplate\":\"component=%{x}<br>propVarExp=%{y}<extra></extra>\",\"legendgroup\":\"\",\"marker\":{\"color\":\"#636efa\",\"symbol\":\"circle\"},\"mode\":\"markers\",\"name\":\"\",\"orientation\":\"v\",\"showlegend\":false,\"x\":[1,2,3,4,5,6,7,8,9,10,11,12,13,14,15,16,17,18,19,20,21,22,23,24,25,26,27,28,29,30],\"xaxis\":\"x\",\"y\":[0.24227719243641868,0.11022824415818654,0.08991173666862284,0.041614407045426606,0.03347172783520995,0.02764156872991347,0.02160154157084676,0.017970095500065782,0.014903363655096176,0.014364515257080088,0.011955781684162468,0.011201105056574507,0.010651598765732387,0.01001763315786697,0.009224641430393959,0.0090527941061876,0.008801473224098593,0.00805218619468312,0.007284225006473785,0.006830196302192637,0.00673234323586802,0.006422645081205345,0.006405751935571013,0.006027432196268813,0.005912023493357663,0.005506467746132855,0.005359756680546871,0.005261112156488746,0.005147000646161191,0.005090176321756858],\"yaxis\":\"y\",\"type\":\"scatter\"}],                        {\"template\":{\"data\":{\"histogram2dcontour\":[{\"type\":\"histogram2dcontour\",\"colorbar\":{\"outlinewidth\":0,\"ticks\":\"\"},\"colorscale\":[[0.0,\"#0d0887\"],[0.1111111111111111,\"#46039f\"],[0.2222222222222222,\"#7201a8\"],[0.3333333333333333,\"#9c179e\"],[0.4444444444444444,\"#bd3786\"],[0.5555555555555556,\"#d8576b\"],[0.6666666666666666,\"#ed7953\"],[0.7777777777777778,\"#fb9f3a\"],[0.8888888888888888,\"#fdca26\"],[1.0,\"#f0f921\"]]}],\"choropleth\":[{\"type\":\"choropleth\",\"colorbar\":{\"outlinewidth\":0,\"ticks\":\"\"}}],\"histogram2d\":[{\"type\":\"histogram2d\",\"colorbar\":{\"outlinewidth\":0,\"ticks\":\"\"},\"colorscale\":[[0.0,\"#0d0887\"],[0.1111111111111111,\"#46039f\"],[0.2222222222222222,\"#7201a8\"],[0.3333333333333333,\"#9c179e\"],[0.4444444444444444,\"#bd3786\"],[0.5555555555555556,\"#d8576b\"],[0.6666666666666666,\"#ed7953\"],[0.7777777777777778,\"#fb9f3a\"],[0.8888888888888888,\"#fdca26\"],[1.0,\"#f0f921\"]]}],\"heatmap\":[{\"type\":\"heatmap\",\"colorbar\":{\"outlinewidth\":0,\"ticks\":\"\"},\"colorscale\":[[0.0,\"#0d0887\"],[0.1111111111111111,\"#46039f\"],[0.2222222222222222,\"#7201a8\"],[0.3333333333333333,\"#9c179e\"],[0.4444444444444444,\"#bd3786\"],[0.5555555555555556,\"#d8576b\"],[0.6666666666666666,\"#ed7953\"],[0.7777777777777778,\"#fb9f3a\"],[0.8888888888888888,\"#fdca26\"],[1.0,\"#f0f921\"]]}],\"heatmapgl\":[{\"type\":\"heatmapgl\",\"colorbar\":{\"outlinewidth\":0,\"ticks\":\"\"},\"colorscale\":[[0.0,\"#0d0887\"],[0.1111111111111111,\"#46039f\"],[0.2222222222222222,\"#7201a8\"],[0.3333333333333333,\"#9c179e\"],[0.4444444444444444,\"#bd3786\"],[0.5555555555555556,\"#d8576b\"],[0.6666666666666666,\"#ed7953\"],[0.7777777777777778,\"#fb9f3a\"],[0.8888888888888888,\"#fdca26\"],[1.0,\"#f0f921\"]]}],\"contourcarpet\":[{\"type\":\"contourcarpet\",\"colorbar\":{\"outlinewidth\":0,\"ticks\":\"\"}}],\"contour\":[{\"type\":\"contour\",\"colorbar\":{\"outlinewidth\":0,\"ticks\":\"\"},\"colorscale\":[[0.0,\"#0d0887\"],[0.1111111111111111,\"#46039f\"],[0.2222222222222222,\"#7201a8\"],[0.3333333333333333,\"#9c179e\"],[0.4444444444444444,\"#bd3786\"],[0.5555555555555556,\"#d8576b\"],[0.6666666666666666,\"#ed7953\"],[0.7777777777777778,\"#fb9f3a\"],[0.8888888888888888,\"#fdca26\"],[1.0,\"#f0f921\"]]}],\"surface\":[{\"type\":\"surface\",\"colorbar\":{\"outlinewidth\":0,\"ticks\":\"\"},\"colorscale\":[[0.0,\"#0d0887\"],[0.1111111111111111,\"#46039f\"],[0.2222222222222222,\"#7201a8\"],[0.3333333333333333,\"#9c179e\"],[0.4444444444444444,\"#bd3786\"],[0.5555555555555556,\"#d8576b\"],[0.6666666666666666,\"#ed7953\"],[0.7777777777777778,\"#fb9f3a\"],[0.8888888888888888,\"#fdca26\"],[1.0,\"#f0f921\"]]}],\"mesh3d\":[{\"type\":\"mesh3d\",\"colorbar\":{\"outlinewidth\":0,\"ticks\":\"\"}}],\"scatter\":[{\"fillpattern\":{\"fillmode\":\"overlay\",\"size\":10,\"solidity\":0.2},\"type\":\"scatter\"}],\"parcoords\":[{\"type\":\"parcoords\",\"line\":{\"colorbar\":{\"outlinewidth\":0,\"ticks\":\"\"}}}],\"scatterpolargl\":[{\"type\":\"scatterpolargl\",\"marker\":{\"colorbar\":{\"outlinewidth\":0,\"ticks\":\"\"}}}],\"bar\":[{\"error_x\":{\"color\":\"#2a3f5f\"},\"error_y\":{\"color\":\"#2a3f5f\"},\"marker\":{\"line\":{\"color\":\"#E5ECF6\",\"width\":0.5},\"pattern\":{\"fillmode\":\"overlay\",\"size\":10,\"solidity\":0.2}},\"type\":\"bar\"}],\"scattergeo\":[{\"type\":\"scattergeo\",\"marker\":{\"colorbar\":{\"outlinewidth\":0,\"ticks\":\"\"}}}],\"scatterpolar\":[{\"type\":\"scatterpolar\",\"marker\":{\"colorbar\":{\"outlinewidth\":0,\"ticks\":\"\"}}}],\"histogram\":[{\"marker\":{\"pattern\":{\"fillmode\":\"overlay\",\"size\":10,\"solidity\":0.2}},\"type\":\"histogram\"}],\"scattergl\":[{\"type\":\"scattergl\",\"marker\":{\"colorbar\":{\"outlinewidth\":0,\"ticks\":\"\"}}}],\"scatter3d\":[{\"type\":\"scatter3d\",\"line\":{\"colorbar\":{\"outlinewidth\":0,\"ticks\":\"\"}},\"marker\":{\"colorbar\":{\"outlinewidth\":0,\"ticks\":\"\"}}}],\"scattermapbox\":[{\"type\":\"scattermapbox\",\"marker\":{\"colorbar\":{\"outlinewidth\":0,\"ticks\":\"\"}}}],\"scatterternary\":[{\"type\":\"scatterternary\",\"marker\":{\"colorbar\":{\"outlinewidth\":0,\"ticks\":\"\"}}}],\"scattercarpet\":[{\"type\":\"scattercarpet\",\"marker\":{\"colorbar\":{\"outlinewidth\":0,\"ticks\":\"\"}}}],\"carpet\":[{\"aaxis\":{\"endlinecolor\":\"#2a3f5f\",\"gridcolor\":\"white\",\"linecolor\":\"white\",\"minorgridcolor\":\"white\",\"startlinecolor\":\"#2a3f5f\"},\"baxis\":{\"endlinecolor\":\"#2a3f5f\",\"gridcolor\":\"white\",\"linecolor\":\"white\",\"minorgridcolor\":\"white\",\"startlinecolor\":\"#2a3f5f\"},\"type\":\"carpet\"}],\"table\":[{\"cells\":{\"fill\":{\"color\":\"#EBF0F8\"},\"line\":{\"color\":\"white\"}},\"header\":{\"fill\":{\"color\":\"#C8D4E3\"},\"line\":{\"color\":\"white\"}},\"type\":\"table\"}],\"barpolar\":[{\"marker\":{\"line\":{\"color\":\"#E5ECF6\",\"width\":0.5},\"pattern\":{\"fillmode\":\"overlay\",\"size\":10,\"solidity\":0.2}},\"type\":\"barpolar\"}],\"pie\":[{\"automargin\":true,\"type\":\"pie\"}]},\"layout\":{\"autotypenumbers\":\"strict\",\"colorway\":[\"#636efa\",\"#EF553B\",\"#00cc96\",\"#ab63fa\",\"#FFA15A\",\"#19d3f3\",\"#FF6692\",\"#B6E880\",\"#FF97FF\",\"#FECB52\"],\"font\":{\"color\":\"#2a3f5f\"},\"hovermode\":\"closest\",\"hoverlabel\":{\"align\":\"left\"},\"paper_bgcolor\":\"white\",\"plot_bgcolor\":\"#E5ECF6\",\"polar\":{\"bgcolor\":\"#E5ECF6\",\"angularaxis\":{\"gridcolor\":\"white\",\"linecolor\":\"white\",\"ticks\":\"\"},\"radialaxis\":{\"gridcolor\":\"white\",\"linecolor\":\"white\",\"ticks\":\"\"}},\"ternary\":{\"bgcolor\":\"#E5ECF6\",\"aaxis\":{\"gridcolor\":\"white\",\"linecolor\":\"white\",\"ticks\":\"\"},\"baxis\":{\"gridcolor\":\"white\",\"linecolor\":\"white\",\"ticks\":\"\"},\"caxis\":{\"gridcolor\":\"white\",\"linecolor\":\"white\",\"ticks\":\"\"}},\"coloraxis\":{\"colorbar\":{\"outlinewidth\":0,\"ticks\":\"\"}},\"colorscale\":{\"sequential\":[[0.0,\"#0d0887\"],[0.1111111111111111,\"#46039f\"],[0.2222222222222222,\"#7201a8\"],[0.3333333333333333,\"#9c179e\"],[0.4444444444444444,\"#bd3786\"],[0.5555555555555556,\"#d8576b\"],[0.6666666666666666,\"#ed7953\"],[0.7777777777777778,\"#fb9f3a\"],[0.8888888888888888,\"#fdca26\"],[1.0,\"#f0f921\"]],\"sequentialminus\":[[0.0,\"#0d0887\"],[0.1111111111111111,\"#46039f\"],[0.2222222222222222,\"#7201a8\"],[0.3333333333333333,\"#9c179e\"],[0.4444444444444444,\"#bd3786\"],[0.5555555555555556,\"#d8576b\"],[0.6666666666666666,\"#ed7953\"],[0.7777777777777778,\"#fb9f3a\"],[0.8888888888888888,\"#fdca26\"],[1.0,\"#f0f921\"]],\"diverging\":[[0,\"#8e0152\"],[0.1,\"#c51b7d\"],[0.2,\"#de77ae\"],[0.3,\"#f1b6da\"],[0.4,\"#fde0ef\"],[0.5,\"#f7f7f7\"],[0.6,\"#e6f5d0\"],[0.7,\"#b8e186\"],[0.8,\"#7fbc41\"],[0.9,\"#4d9221\"],[1,\"#276419\"]]},\"xaxis\":{\"gridcolor\":\"white\",\"linecolor\":\"white\",\"ticks\":\"\",\"title\":{\"standoff\":15},\"zerolinecolor\":\"white\",\"automargin\":true,\"zerolinewidth\":2},\"yaxis\":{\"gridcolor\":\"white\",\"linecolor\":\"white\",\"ticks\":\"\",\"title\":{\"standoff\":15},\"zerolinecolor\":\"white\",\"automargin\":true,\"zerolinewidth\":2},\"scene\":{\"xaxis\":{\"backgroundcolor\":\"#E5ECF6\",\"gridcolor\":\"white\",\"linecolor\":\"white\",\"showbackground\":true,\"ticks\":\"\",\"zerolinecolor\":\"white\",\"gridwidth\":2},\"yaxis\":{\"backgroundcolor\":\"#E5ECF6\",\"gridcolor\":\"white\",\"linecolor\":\"white\",\"showbackground\":true,\"ticks\":\"\",\"zerolinecolor\":\"white\",\"gridwidth\":2},\"zaxis\":{\"backgroundcolor\":\"#E5ECF6\",\"gridcolor\":\"white\",\"linecolor\":\"white\",\"showbackground\":true,\"ticks\":\"\",\"zerolinecolor\":\"white\",\"gridwidth\":2}},\"shapedefaults\":{\"line\":{\"color\":\"#2a3f5f\"}},\"annotationdefaults\":{\"arrowcolor\":\"#2a3f5f\",\"arrowhead\":0,\"arrowwidth\":1},\"geo\":{\"bgcolor\":\"white\",\"landcolor\":\"#E5ECF6\",\"subunitcolor\":\"white\",\"showland\":true,\"showlakes\":true,\"lakecolor\":\"white\"},\"title\":{\"x\":0.05},\"mapbox\":{\"style\":\"light\"}}},\"xaxis\":{\"anchor\":\"y\",\"domain\":[0.0,1.0],\"title\":{\"text\":\"component\"}},\"yaxis\":{\"anchor\":\"x\",\"domain\":[0.0,1.0],\"title\":{\"text\":\"propVarExp\"}},\"legend\":{\"tracegroupgap\":0},\"margin\":{\"t\":60}},                        {\"responsive\": true}                    ).then(function(){\n",
       "                            \n",
       "var gd = document.getElementById('48c36df3-872b-4623-9e28-3a378d7e94a1');\n",
       "var x = new MutationObserver(function (mutations, observer) {{\n",
       "        var display = window.getComputedStyle(gd).display;\n",
       "        if (!display || display === 'none') {{\n",
       "            console.log([gd, 'removed!']);\n",
       "            Plotly.purge(gd);\n",
       "            observer.disconnect();\n",
       "        }}\n",
       "}});\n",
       "\n",
       "// Listen for the removal of the full notebook cells\n",
       "var notebookContainer = gd.closest('#notebook-container');\n",
       "if (notebookContainer) {{\n",
       "    x.observe(notebookContainer, {childList: true});\n",
       "}}\n",
       "\n",
       "// Listen for the clearing of the current output cell\n",
       "var outputEl = gd.closest('.output');\n",
       "if (outputEl) {{\n",
       "    x.observe(outputEl, {childList: true});\n",
       "}}\n",
       "\n",
       "                        })                };                });            </script>        </div>"
      ]
     },
     "metadata": {},
     "output_type": "display_data"
    }
   ],
   "source": [
    "xi = np.arange(1, 1+nPCs, step=1)\n",
    "yi = pca.explained_variance_ratio_\n",
    "\n",
    "df = pd.DataFrame(list(zip(xi, yi)),\n",
    "               columns =['component', 'propVarExp'])\n",
    "\n",
    "px.scatter(df, x=\"component\", y=\"propVarExp\")"
   ]
  },
  {
   "cell_type": "markdown",
   "metadata": {},
   "source": [
    "3) Afficher les patients dans l'espace formé par les deux premères composantes. Puis les composantes 2 et 3.\n",
    "\n",
    "Vous pouvez colorer les points selon le type d'echantillons et la localisation de la tumeur."
   ]
  },
  {
   "cell_type": "code",
   "execution_count": 101,
   "metadata": {},
   "outputs": [
    {
     "data": {
      "application/vnd.plotly.v1+json": {
       "config": {
        "plotlyServerURL": "https://plot.ly"
       },
       "data": [
        {
         "hovertemplate": "sample_type.samples=Metastatic<br>0=%{x}<br>1=%{y}<extra></extra>",
         "legendgroup": "Metastatic",
         "marker": {
          "color": "#636efa",
          "symbol": "circle"
         },
         "mode": "markers",
         "name": "Metastatic",
         "orientation": "v",
         "showlegend": true,
         "type": "scatter",
         "x": [
          -13.201208395164315,
          -2.347925912232812,
          14.763370740547035,
          -9.041559725750611,
          15.976665615782046,
          17.888792029129867,
          -6.429167315409873,
          -1.395920940502609,
          -13.735647140123953,
          13.40779074892005,
          4.676883849213948,
          17.100741787779985,
          14.291851559908773,
          -8.205669949837912,
          2.2581094396270807,
          13.83425251199096,
          5.84749749113569,
          15.55457371067566,
          -12.661426192183928,
          1.0424425489268834,
          8.96961438136981,
          -5.776190868477774,
          3.633162714224135,
          6.098909676260104,
          9.465128143991496,
          2.4268262705044186,
          -9.604683766838207,
          -3.298452305201833,
          15.366267844590425,
          7.498872078788374,
          1.6677706022671963,
          -8.876287540296108,
          -2.9235630293087405,
          13.558378563984526,
          -5.432951604276901,
          -10.91343012270108,
          18.622475803921862,
          -10.515694967943247,
          7.114655362053543,
          -0.16292591845529086,
          7.779608160085941,
          4.622051733300409,
          -11.066650455693969,
          7.826818394682607,
          -3.5025750115944576,
          20.285273789114406,
          10.071718699988695,
          4.806750794269363,
          -10.899129272150697,
          8.412496955287443,
          4.477817026835706,
          -10.15464520818712,
          -10.99557715179558,
          0.03824813655304624,
          -8.093158261738157,
          11.945665500830374,
          17.921820308819548,
          -12.700878028977472,
          21.67505942634406,
          17.3179355146559,
          -9.266515244245644,
          7.3122986462904125,
          6.747832977877515,
          5.436098245119944,
          14.700873560301824,
          12.225383598941947,
          14.231233921964238,
          5.161345731466912,
          24.008647837028157,
          -12.100639158497748,
          -12.642108262746024,
          -10.476596023308133,
          -2.578497503395449,
          -6.080498688883809,
          12.839707344556537,
          4.774905321983728,
          9.227106906210713,
          -7.220736427094454,
          16.268062892179575,
          1.5703010469124792,
          2.651838019711033,
          -7.883525929942265,
          -14.565635583674393,
          -1.2925536687816186,
          16.661726381373047,
          -4.852457494082044,
          -2.244702566224962,
          -8.248274923019192,
          -12.755685536344659,
          15.109540133964513,
          7.451756736602869,
          2.4635528129688384,
          -3.678240462879729,
          3.8495730924938063,
          12.211472829091685,
          3.7875845479776973,
          8.81445147564657,
          6.543799889250285,
          1.0730778845192481,
          8.062805658061386,
          -2.178030619593363,
          2.218106500504507,
          -5.108056745303861,
          6.604159075071403,
          14.302104491935136,
          21.88900219778966,
          -1.0796910077733108,
          -6.668890517418675,
          -1.021807382708494,
          20.88769828428931,
          15.767230556112773,
          7.72147687550554,
          -0.3023796883797005,
          13.570606914882095,
          -11.239948673666003,
          8.562104593165392,
          4.112744921901468,
          -11.588211385160774,
          13.00533519715922,
          8.956193332686283,
          11.507868386587049,
          -13.732795074411513,
          11.527534330669383,
          -5.278088571599781,
          -2.6612874276738756,
          15.170315321352764,
          -9.460749749228404,
          13.719212999153475,
          -4.522054783701243,
          6.9254943424803015,
          9.803640370193515,
          12.9730040140546,
          -11.258669516885295,
          -10.439687739452445,
          14.937643658023612,
          -13.317631231033024,
          -11.446006801413759
         ],
         "xaxis": "x",
         "y": [
          -5.332832649951098,
          -2.9421483540585824,
          2.4751968823106005,
          -6.031598058889846,
          0.7252298306102761,
          -0.08797476466523443,
          8.62707433541775,
          -3.243716502793301,
          -8.43260432152067,
          1.0808258735548177,
          2.935745810967886,
          1.338252750681838,
          1.8411119264682694,
          -8.023871629725335,
          -3.613548439093709,
          1.7004139427112188,
          1.792314156662851,
          1.7989070396972031,
          -4.960336478276333,
          -1.1998491783003518,
          1.435025558985648,
          -6.241925711084798,
          6.021142609324987,
          -0.9087026975248557,
          0.7633481749733392,
          -3.6415114834764237,
          -9.62179082392123,
          -4.7094730893745,
          1.017136259950844,
          -0.17447193124170668,
          -2.6268245936858823,
          12.907990640508855,
          -7.25241656861017,
          1.4231886594020857,
          -8.46786457181799,
          10.549142099585328,
          4.717291439788672,
          -8.476310997256173,
          -1.4000056295805987,
          -4.46501695532209,
          -3.7360501120427534,
          -0.5985021740075089,
          -10.184129625908254,
          4.958412907489703,
          -3.677999064273674,
          2.996327838217223,
          0.676803262899439,
          0.30844468018407917,
          -10.824622450170622,
          -2.9613496786880185,
          -1.530219631698487,
          -7.36121409149735,
          -9.215536712556665,
          0.5247923697001876,
          -8.455623284982513,
          -1.4519518071951716,
          5.275763485652984,
          -5.8080144297779395,
          2.8331140367916947,
          13.449992684426077,
          -9.23538191207766,
          2.337337606086122,
          1.3206236359056585,
          -1.8794425021696641,
          0.5637521792454195,
          3.075980825195781,
          0.12185296191551745,
          -3.970483705776309,
          1.921785626685131,
          -10.290985011239934,
          -7.491764518895574,
          -8.210733935390795,
          -2.307171055903429,
          1.00182727022069,
          1.6470347841382087,
          0.23133899209057993,
          -1.167721908070841,
          3.5270792834852647,
          1.7055494422380308,
          -5.016579021870795,
          -1.6127987094977752,
          -8.429682145690386,
          -11.831582865784489,
          -4.577358457773528,
          1.0059653640688786,
          -8.290392107284816,
          -4.968825951030734,
          -4.4962626414611275,
          0.16062946604081066,
          2.891661539629927,
          -3.606192698395768,
          -1.8467320831197183,
          -4.8839232164885145,
          -2.568370461769066,
          1.3845103487296,
          -1.867239434840477,
          9.805149083843787,
          -0.7133823758583254,
          -4.368365844638366,
          1.410407509323148,
          -6.063940532637189,
          -3.004944048828598,
          4.018227230065444,
          -1.1531864897559694,
          -1.646750697947764,
          1.3021520541043121,
          -6.1865050549981815,
          -7.593480069086858,
          -2.904874292904281,
          4.336899515887761,
          -0.17497314335373643,
          -3.2853516561228844,
          -6.559916268139354,
          -1.08352726101644,
          -6.209928797107383,
          -0.9776919035710827,
          -5.013154015982622,
          -6.9595580048915044,
          0.13901795612917725,
          -2.9936320813027604,
          -2.1275744382966453,
          -9.059351011669637,
          -1.0323825183487731,
          -6.134397436304875,
          -1.1111280526616765,
          -0.6644194591442535,
          -4.390815234269424,
          0.654803329586206,
          -5.4860813835875755,
          2.434669134912942,
          0.41768964350701926,
          2.5277138402142367,
          -8.728424674315514,
          -7.618522529523564,
          0.20488843401224763,
          -9.614551871185268,
          -9.444276636387897
         ],
         "yaxis": "y"
        },
        {
         "hovertemplate": "sample_type.samples=Primary Tumor<br>0=%{x}<br>1=%{y}<extra></extra>",
         "legendgroup": "Primary Tumor",
         "marker": {
          "color": "#EF553B",
          "symbol": "circle"
         },
         "mode": "markers",
         "name": "Primary Tumor",
         "orientation": "v",
         "showlegend": true,
         "type": "scatter",
         "x": [
          -17.00908719339413,
          -12.76544707709156,
          -9.036622759151856,
          11.14446162542163,
          -12.032229900929467,
          -15.350758749064875,
          -6.239505028545901,
          -6.288721404998807,
          -6.393922956953421,
          -13.511626658095736,
          -21.424130974122413,
          -12.527196809485279,
          -1.9727310784501653,
          -4.941987557827932,
          5.1865281032933686,
          -13.2030800852975,
          -7.190455833071048,
          -12.400272683664758,
          -19.97036850599381,
          1.299594321248828,
          -16.429519470672762,
          -3.1952162762220366,
          -8.993002221876527,
          -16.251756316978586,
          -0.4639993069682391,
          -23.350909814571203,
          -19.97341798509214,
          -13.816035325998824,
          -10.51045135992959,
          -6.88888060687155,
          -0.5240633239136758,
          -9.44758307458911,
          -16.41068194851743,
          -19.37881017491674,
          -12.242053898347663,
          -13.497049736463955,
          1.9621876298310905,
          -14.424629500817646,
          -9.800699792113717,
          -10.354223682744674,
          -7.53840280758157,
          9.689981902523817
         ],
         "xaxis": "x",
         "y": [
          8.74652462180486,
          -7.444605907729096,
          0.949517573153569,
          1.7399143185152242,
          19.00429859558566,
          -1.563739889222092,
          -1.6018766526022539,
          -3.2028780461616515,
          -1.1307882155516218,
          -7.715937677501273,
          15.710755480435743,
          2.4075623592374673,
          0.14219875214262753,
          0.5464978401600712,
          0.33282592721613735,
          -4.992599975382635,
          -4.776681667826609,
          -6.598734433093514,
          9.349033069227906,
          5.791963996584202,
          -0.8902344043852211,
          28.239529814549417,
          -4.959713306853782,
          22.84773980451515,
          0.5064491007318239,
          23.183403921533042,
          11.032039822446459,
          19.244458331867644,
          21.093773972163355,
          13.015009718386606,
          12.547216963816705,
          9.36339269942877,
          12.56807396476556,
          22.162177054366314,
          2.018475931728509,
          21.250781909332453,
          7.18490955048503,
          16.560204515345593,
          -9.7703195060517,
          -6.014973269256113,
          19.096672924311772,
          -1.7791352751062401
         ],
         "yaxis": "y"
        }
       ],
       "layout": {
        "legend": {
         "title": {
          "text": "sample_type.samples"
         },
         "tracegroupgap": 0
        },
        "margin": {
         "t": 60
        },
        "template": {
         "data": {
          "bar": [
           {
            "error_x": {
             "color": "#2a3f5f"
            },
            "error_y": {
             "color": "#2a3f5f"
            },
            "marker": {
             "line": {
              "color": "#E5ECF6",
              "width": 0.5
             },
             "pattern": {
              "fillmode": "overlay",
              "size": 10,
              "solidity": 0.2
             }
            },
            "type": "bar"
           }
          ],
          "barpolar": [
           {
            "marker": {
             "line": {
              "color": "#E5ECF6",
              "width": 0.5
             },
             "pattern": {
              "fillmode": "overlay",
              "size": 10,
              "solidity": 0.2
             }
            },
            "type": "barpolar"
           }
          ],
          "carpet": [
           {
            "aaxis": {
             "endlinecolor": "#2a3f5f",
             "gridcolor": "white",
             "linecolor": "white",
             "minorgridcolor": "white",
             "startlinecolor": "#2a3f5f"
            },
            "baxis": {
             "endlinecolor": "#2a3f5f",
             "gridcolor": "white",
             "linecolor": "white",
             "minorgridcolor": "white",
             "startlinecolor": "#2a3f5f"
            },
            "type": "carpet"
           }
          ],
          "choropleth": [
           {
            "colorbar": {
             "outlinewidth": 0,
             "ticks": ""
            },
            "type": "choropleth"
           }
          ],
          "contour": [
           {
            "colorbar": {
             "outlinewidth": 0,
             "ticks": ""
            },
            "colorscale": [
             [
              0,
              "#0d0887"
             ],
             [
              0.1111111111111111,
              "#46039f"
             ],
             [
              0.2222222222222222,
              "#7201a8"
             ],
             [
              0.3333333333333333,
              "#9c179e"
             ],
             [
              0.4444444444444444,
              "#bd3786"
             ],
             [
              0.5555555555555556,
              "#d8576b"
             ],
             [
              0.6666666666666666,
              "#ed7953"
             ],
             [
              0.7777777777777778,
              "#fb9f3a"
             ],
             [
              0.8888888888888888,
              "#fdca26"
             ],
             [
              1,
              "#f0f921"
             ]
            ],
            "type": "contour"
           }
          ],
          "contourcarpet": [
           {
            "colorbar": {
             "outlinewidth": 0,
             "ticks": ""
            },
            "type": "contourcarpet"
           }
          ],
          "heatmap": [
           {
            "colorbar": {
             "outlinewidth": 0,
             "ticks": ""
            },
            "colorscale": [
             [
              0,
              "#0d0887"
             ],
             [
              0.1111111111111111,
              "#46039f"
             ],
             [
              0.2222222222222222,
              "#7201a8"
             ],
             [
              0.3333333333333333,
              "#9c179e"
             ],
             [
              0.4444444444444444,
              "#bd3786"
             ],
             [
              0.5555555555555556,
              "#d8576b"
             ],
             [
              0.6666666666666666,
              "#ed7953"
             ],
             [
              0.7777777777777778,
              "#fb9f3a"
             ],
             [
              0.8888888888888888,
              "#fdca26"
             ],
             [
              1,
              "#f0f921"
             ]
            ],
            "type": "heatmap"
           }
          ],
          "heatmapgl": [
           {
            "colorbar": {
             "outlinewidth": 0,
             "ticks": ""
            },
            "colorscale": [
             [
              0,
              "#0d0887"
             ],
             [
              0.1111111111111111,
              "#46039f"
             ],
             [
              0.2222222222222222,
              "#7201a8"
             ],
             [
              0.3333333333333333,
              "#9c179e"
             ],
             [
              0.4444444444444444,
              "#bd3786"
             ],
             [
              0.5555555555555556,
              "#d8576b"
             ],
             [
              0.6666666666666666,
              "#ed7953"
             ],
             [
              0.7777777777777778,
              "#fb9f3a"
             ],
             [
              0.8888888888888888,
              "#fdca26"
             ],
             [
              1,
              "#f0f921"
             ]
            ],
            "type": "heatmapgl"
           }
          ],
          "histogram": [
           {
            "marker": {
             "pattern": {
              "fillmode": "overlay",
              "size": 10,
              "solidity": 0.2
             }
            },
            "type": "histogram"
           }
          ],
          "histogram2d": [
           {
            "colorbar": {
             "outlinewidth": 0,
             "ticks": ""
            },
            "colorscale": [
             [
              0,
              "#0d0887"
             ],
             [
              0.1111111111111111,
              "#46039f"
             ],
             [
              0.2222222222222222,
              "#7201a8"
             ],
             [
              0.3333333333333333,
              "#9c179e"
             ],
             [
              0.4444444444444444,
              "#bd3786"
             ],
             [
              0.5555555555555556,
              "#d8576b"
             ],
             [
              0.6666666666666666,
              "#ed7953"
             ],
             [
              0.7777777777777778,
              "#fb9f3a"
             ],
             [
              0.8888888888888888,
              "#fdca26"
             ],
             [
              1,
              "#f0f921"
             ]
            ],
            "type": "histogram2d"
           }
          ],
          "histogram2dcontour": [
           {
            "colorbar": {
             "outlinewidth": 0,
             "ticks": ""
            },
            "colorscale": [
             [
              0,
              "#0d0887"
             ],
             [
              0.1111111111111111,
              "#46039f"
             ],
             [
              0.2222222222222222,
              "#7201a8"
             ],
             [
              0.3333333333333333,
              "#9c179e"
             ],
             [
              0.4444444444444444,
              "#bd3786"
             ],
             [
              0.5555555555555556,
              "#d8576b"
             ],
             [
              0.6666666666666666,
              "#ed7953"
             ],
             [
              0.7777777777777778,
              "#fb9f3a"
             ],
             [
              0.8888888888888888,
              "#fdca26"
             ],
             [
              1,
              "#f0f921"
             ]
            ],
            "type": "histogram2dcontour"
           }
          ],
          "mesh3d": [
           {
            "colorbar": {
             "outlinewidth": 0,
             "ticks": ""
            },
            "type": "mesh3d"
           }
          ],
          "parcoords": [
           {
            "line": {
             "colorbar": {
              "outlinewidth": 0,
              "ticks": ""
             }
            },
            "type": "parcoords"
           }
          ],
          "pie": [
           {
            "automargin": true,
            "type": "pie"
           }
          ],
          "scatter": [
           {
            "fillpattern": {
             "fillmode": "overlay",
             "size": 10,
             "solidity": 0.2
            },
            "type": "scatter"
           }
          ],
          "scatter3d": [
           {
            "line": {
             "colorbar": {
              "outlinewidth": 0,
              "ticks": ""
             }
            },
            "marker": {
             "colorbar": {
              "outlinewidth": 0,
              "ticks": ""
             }
            },
            "type": "scatter3d"
           }
          ],
          "scattercarpet": [
           {
            "marker": {
             "colorbar": {
              "outlinewidth": 0,
              "ticks": ""
             }
            },
            "type": "scattercarpet"
           }
          ],
          "scattergeo": [
           {
            "marker": {
             "colorbar": {
              "outlinewidth": 0,
              "ticks": ""
             }
            },
            "type": "scattergeo"
           }
          ],
          "scattergl": [
           {
            "marker": {
             "colorbar": {
              "outlinewidth": 0,
              "ticks": ""
             }
            },
            "type": "scattergl"
           }
          ],
          "scattermapbox": [
           {
            "marker": {
             "colorbar": {
              "outlinewidth": 0,
              "ticks": ""
             }
            },
            "type": "scattermapbox"
           }
          ],
          "scatterpolar": [
           {
            "marker": {
             "colorbar": {
              "outlinewidth": 0,
              "ticks": ""
             }
            },
            "type": "scatterpolar"
           }
          ],
          "scatterpolargl": [
           {
            "marker": {
             "colorbar": {
              "outlinewidth": 0,
              "ticks": ""
             }
            },
            "type": "scatterpolargl"
           }
          ],
          "scatterternary": [
           {
            "marker": {
             "colorbar": {
              "outlinewidth": 0,
              "ticks": ""
             }
            },
            "type": "scatterternary"
           }
          ],
          "surface": [
           {
            "colorbar": {
             "outlinewidth": 0,
             "ticks": ""
            },
            "colorscale": [
             [
              0,
              "#0d0887"
             ],
             [
              0.1111111111111111,
              "#46039f"
             ],
             [
              0.2222222222222222,
              "#7201a8"
             ],
             [
              0.3333333333333333,
              "#9c179e"
             ],
             [
              0.4444444444444444,
              "#bd3786"
             ],
             [
              0.5555555555555556,
              "#d8576b"
             ],
             [
              0.6666666666666666,
              "#ed7953"
             ],
             [
              0.7777777777777778,
              "#fb9f3a"
             ],
             [
              0.8888888888888888,
              "#fdca26"
             ],
             [
              1,
              "#f0f921"
             ]
            ],
            "type": "surface"
           }
          ],
          "table": [
           {
            "cells": {
             "fill": {
              "color": "#EBF0F8"
             },
             "line": {
              "color": "white"
             }
            },
            "header": {
             "fill": {
              "color": "#C8D4E3"
             },
             "line": {
              "color": "white"
             }
            },
            "type": "table"
           }
          ]
         },
         "layout": {
          "annotationdefaults": {
           "arrowcolor": "#2a3f5f",
           "arrowhead": 0,
           "arrowwidth": 1
          },
          "autotypenumbers": "strict",
          "coloraxis": {
           "colorbar": {
            "outlinewidth": 0,
            "ticks": ""
           }
          },
          "colorscale": {
           "diverging": [
            [
             0,
             "#8e0152"
            ],
            [
             0.1,
             "#c51b7d"
            ],
            [
             0.2,
             "#de77ae"
            ],
            [
             0.3,
             "#f1b6da"
            ],
            [
             0.4,
             "#fde0ef"
            ],
            [
             0.5,
             "#f7f7f7"
            ],
            [
             0.6,
             "#e6f5d0"
            ],
            [
             0.7,
             "#b8e186"
            ],
            [
             0.8,
             "#7fbc41"
            ],
            [
             0.9,
             "#4d9221"
            ],
            [
             1,
             "#276419"
            ]
           ],
           "sequential": [
            [
             0,
             "#0d0887"
            ],
            [
             0.1111111111111111,
             "#46039f"
            ],
            [
             0.2222222222222222,
             "#7201a8"
            ],
            [
             0.3333333333333333,
             "#9c179e"
            ],
            [
             0.4444444444444444,
             "#bd3786"
            ],
            [
             0.5555555555555556,
             "#d8576b"
            ],
            [
             0.6666666666666666,
             "#ed7953"
            ],
            [
             0.7777777777777778,
             "#fb9f3a"
            ],
            [
             0.8888888888888888,
             "#fdca26"
            ],
            [
             1,
             "#f0f921"
            ]
           ],
           "sequentialminus": [
            [
             0,
             "#0d0887"
            ],
            [
             0.1111111111111111,
             "#46039f"
            ],
            [
             0.2222222222222222,
             "#7201a8"
            ],
            [
             0.3333333333333333,
             "#9c179e"
            ],
            [
             0.4444444444444444,
             "#bd3786"
            ],
            [
             0.5555555555555556,
             "#d8576b"
            ],
            [
             0.6666666666666666,
             "#ed7953"
            ],
            [
             0.7777777777777778,
             "#fb9f3a"
            ],
            [
             0.8888888888888888,
             "#fdca26"
            ],
            [
             1,
             "#f0f921"
            ]
           ]
          },
          "colorway": [
           "#636efa",
           "#EF553B",
           "#00cc96",
           "#ab63fa",
           "#FFA15A",
           "#19d3f3",
           "#FF6692",
           "#B6E880",
           "#FF97FF",
           "#FECB52"
          ],
          "font": {
           "color": "#2a3f5f"
          },
          "geo": {
           "bgcolor": "white",
           "lakecolor": "white",
           "landcolor": "#E5ECF6",
           "showlakes": true,
           "showland": true,
           "subunitcolor": "white"
          },
          "hoverlabel": {
           "align": "left"
          },
          "hovermode": "closest",
          "mapbox": {
           "style": "light"
          },
          "paper_bgcolor": "white",
          "plot_bgcolor": "#E5ECF6",
          "polar": {
           "angularaxis": {
            "gridcolor": "white",
            "linecolor": "white",
            "ticks": ""
           },
           "bgcolor": "#E5ECF6",
           "radialaxis": {
            "gridcolor": "white",
            "linecolor": "white",
            "ticks": ""
           }
          },
          "scene": {
           "xaxis": {
            "backgroundcolor": "#E5ECF6",
            "gridcolor": "white",
            "gridwidth": 2,
            "linecolor": "white",
            "showbackground": true,
            "ticks": "",
            "zerolinecolor": "white"
           },
           "yaxis": {
            "backgroundcolor": "#E5ECF6",
            "gridcolor": "white",
            "gridwidth": 2,
            "linecolor": "white",
            "showbackground": true,
            "ticks": "",
            "zerolinecolor": "white"
           },
           "zaxis": {
            "backgroundcolor": "#E5ECF6",
            "gridcolor": "white",
            "gridwidth": 2,
            "linecolor": "white",
            "showbackground": true,
            "ticks": "",
            "zerolinecolor": "white"
           }
          },
          "shapedefaults": {
           "line": {
            "color": "#2a3f5f"
           }
          },
          "ternary": {
           "aaxis": {
            "gridcolor": "white",
            "linecolor": "white",
            "ticks": ""
           },
           "baxis": {
            "gridcolor": "white",
            "linecolor": "white",
            "ticks": ""
           },
           "bgcolor": "#E5ECF6",
           "caxis": {
            "gridcolor": "white",
            "linecolor": "white",
            "ticks": ""
           }
          },
          "title": {
           "x": 0.05
          },
          "xaxis": {
           "automargin": true,
           "gridcolor": "white",
           "linecolor": "white",
           "ticks": "",
           "title": {
            "standoff": 15
           },
           "zerolinecolor": "white",
           "zerolinewidth": 2
          },
          "yaxis": {
           "automargin": true,
           "gridcolor": "white",
           "linecolor": "white",
           "ticks": "",
           "title": {
            "standoff": 15
           },
           "zerolinecolor": "white",
           "zerolinewidth": 2
          }
         }
        },
        "xaxis": {
         "anchor": "y",
         "domain": [
          0,
          1
         ],
         "title": {
          "text": "0"
         }
        },
        "yaxis": {
         "anchor": "x",
         "domain": [
          0,
          1
         ],
         "title": {
          "text": "1"
         }
        }
       }
      },
      "text/html": [
       "<div>                            <div id=\"c33f59dc-a262-486c-ab24-da71ddc03790\" class=\"plotly-graph-div\" style=\"height:525px; width:100%;\"></div>            <script type=\"text/javascript\">                require([\"plotly\"], function(Plotly) {                    window.PLOTLYENV=window.PLOTLYENV || {};                                    if (document.getElementById(\"c33f59dc-a262-486c-ab24-da71ddc03790\")) {                    Plotly.newPlot(                        \"c33f59dc-a262-486c-ab24-da71ddc03790\",                        [{\"hovertemplate\":\"sample_type.samples=Metastatic<br>0=%{x}<br>1=%{y}<extra></extra>\",\"legendgroup\":\"Metastatic\",\"marker\":{\"color\":\"#636efa\",\"symbol\":\"circle\"},\"mode\":\"markers\",\"name\":\"Metastatic\",\"orientation\":\"v\",\"showlegend\":true,\"x\":[-13.201208395164315,-2.347925912232812,14.763370740547035,-9.041559725750611,15.976665615782046,17.888792029129867,-6.429167315409873,-1.395920940502609,-13.735647140123953,13.40779074892005,4.676883849213948,17.100741787779985,14.291851559908773,-8.205669949837912,2.2581094396270807,13.83425251199096,5.84749749113569,15.55457371067566,-12.661426192183928,1.0424425489268834,8.96961438136981,-5.776190868477774,3.633162714224135,6.098909676260104,9.465128143991496,2.4268262705044186,-9.604683766838207,-3.298452305201833,15.366267844590425,7.498872078788374,1.6677706022671963,-8.876287540296108,-2.9235630293087405,13.558378563984526,-5.432951604276901,-10.91343012270108,18.622475803921862,-10.515694967943247,7.114655362053543,-0.16292591845529086,7.779608160085941,4.622051733300409,-11.066650455693969,7.826818394682607,-3.5025750115944576,20.285273789114406,10.071718699988695,4.806750794269363,-10.899129272150697,8.412496955287443,4.477817026835706,-10.15464520818712,-10.99557715179558,0.03824813655304624,-8.093158261738157,11.945665500830374,17.921820308819548,-12.700878028977472,21.67505942634406,17.3179355146559,-9.266515244245644,7.3122986462904125,6.747832977877515,5.436098245119944,14.700873560301824,12.225383598941947,14.231233921964238,5.161345731466912,24.008647837028157,-12.100639158497748,-12.642108262746024,-10.476596023308133,-2.578497503395449,-6.080498688883809,12.839707344556537,4.774905321983728,9.227106906210713,-7.220736427094454,16.268062892179575,1.5703010469124792,2.651838019711033,-7.883525929942265,-14.565635583674393,-1.2925536687816186,16.661726381373047,-4.852457494082044,-2.244702566224962,-8.248274923019192,-12.755685536344659,15.109540133964513,7.451756736602869,2.4635528129688384,-3.678240462879729,3.8495730924938063,12.211472829091685,3.7875845479776973,8.81445147564657,6.543799889250285,1.0730778845192481,8.062805658061386,-2.178030619593363,2.218106500504507,-5.108056745303861,6.604159075071403,14.302104491935136,21.88900219778966,-1.0796910077733108,-6.668890517418675,-1.021807382708494,20.88769828428931,15.767230556112773,7.72147687550554,-0.3023796883797005,13.570606914882095,-11.239948673666003,8.562104593165392,4.112744921901468,-11.588211385160774,13.00533519715922,8.956193332686283,11.507868386587049,-13.732795074411513,11.527534330669383,-5.278088571599781,-2.6612874276738756,15.170315321352764,-9.460749749228404,13.719212999153475,-4.522054783701243,6.9254943424803015,9.803640370193515,12.9730040140546,-11.258669516885295,-10.439687739452445,14.937643658023612,-13.317631231033024,-11.446006801413759],\"xaxis\":\"x\",\"y\":[-5.332832649951098,-2.9421483540585824,2.4751968823106005,-6.031598058889846,0.7252298306102761,-0.08797476466523443,8.62707433541775,-3.243716502793301,-8.43260432152067,1.0808258735548177,2.935745810967886,1.338252750681838,1.8411119264682694,-8.023871629725335,-3.613548439093709,1.7004139427112188,1.792314156662851,1.7989070396972031,-4.960336478276333,-1.1998491783003518,1.435025558985648,-6.241925711084798,6.021142609324987,-0.9087026975248557,0.7633481749733392,-3.6415114834764237,-9.62179082392123,-4.7094730893745,1.017136259950844,-0.17447193124170668,-2.6268245936858823,12.907990640508855,-7.25241656861017,1.4231886594020857,-8.46786457181799,10.549142099585328,4.717291439788672,-8.476310997256173,-1.4000056295805987,-4.46501695532209,-3.7360501120427534,-0.5985021740075089,-10.184129625908254,4.958412907489703,-3.677999064273674,2.996327838217223,0.676803262899439,0.30844468018407917,-10.824622450170622,-2.9613496786880185,-1.530219631698487,-7.36121409149735,-9.215536712556665,0.5247923697001876,-8.455623284982513,-1.4519518071951716,5.275763485652984,-5.8080144297779395,2.8331140367916947,13.449992684426077,-9.23538191207766,2.337337606086122,1.3206236359056585,-1.8794425021696641,0.5637521792454195,3.075980825195781,0.12185296191551745,-3.970483705776309,1.921785626685131,-10.290985011239934,-7.491764518895574,-8.210733935390795,-2.307171055903429,1.00182727022069,1.6470347841382087,0.23133899209057993,-1.167721908070841,3.5270792834852647,1.7055494422380308,-5.016579021870795,-1.6127987094977752,-8.429682145690386,-11.831582865784489,-4.577358457773528,1.0059653640688786,-8.290392107284816,-4.968825951030734,-4.4962626414611275,0.16062946604081066,2.891661539629927,-3.606192698395768,-1.8467320831197183,-4.8839232164885145,-2.568370461769066,1.3845103487296,-1.867239434840477,9.805149083843787,-0.7133823758583254,-4.368365844638366,1.410407509323148,-6.063940532637189,-3.004944048828598,4.018227230065444,-1.1531864897559694,-1.646750697947764,1.3021520541043121,-6.1865050549981815,-7.593480069086858,-2.904874292904281,4.336899515887761,-0.17497314335373643,-3.2853516561228844,-6.559916268139354,-1.08352726101644,-6.209928797107383,-0.9776919035710827,-5.013154015982622,-6.9595580048915044,0.13901795612917725,-2.9936320813027604,-2.1275744382966453,-9.059351011669637,-1.0323825183487731,-6.134397436304875,-1.1111280526616765,-0.6644194591442535,-4.390815234269424,0.654803329586206,-5.4860813835875755,2.434669134912942,0.41768964350701926,2.5277138402142367,-8.728424674315514,-7.618522529523564,0.20488843401224763,-9.614551871185268,-9.444276636387897],\"yaxis\":\"y\",\"type\":\"scatter\"},{\"hovertemplate\":\"sample_type.samples=Primary Tumor<br>0=%{x}<br>1=%{y}<extra></extra>\",\"legendgroup\":\"Primary Tumor\",\"marker\":{\"color\":\"#EF553B\",\"symbol\":\"circle\"},\"mode\":\"markers\",\"name\":\"Primary Tumor\",\"orientation\":\"v\",\"showlegend\":true,\"x\":[-17.00908719339413,-12.76544707709156,-9.036622759151856,11.14446162542163,-12.032229900929467,-15.350758749064875,-6.239505028545901,-6.288721404998807,-6.393922956953421,-13.511626658095736,-21.424130974122413,-12.527196809485279,-1.9727310784501653,-4.941987557827932,5.1865281032933686,-13.2030800852975,-7.190455833071048,-12.400272683664758,-19.97036850599381,1.299594321248828,-16.429519470672762,-3.1952162762220366,-8.993002221876527,-16.251756316978586,-0.4639993069682391,-23.350909814571203,-19.97341798509214,-13.816035325998824,-10.51045135992959,-6.88888060687155,-0.5240633239136758,-9.44758307458911,-16.41068194851743,-19.37881017491674,-12.242053898347663,-13.497049736463955,1.9621876298310905,-14.424629500817646,-9.800699792113717,-10.354223682744674,-7.53840280758157,9.689981902523817],\"xaxis\":\"x\",\"y\":[8.74652462180486,-7.444605907729096,0.949517573153569,1.7399143185152242,19.00429859558566,-1.563739889222092,-1.6018766526022539,-3.2028780461616515,-1.1307882155516218,-7.715937677501273,15.710755480435743,2.4075623592374673,0.14219875214262753,0.5464978401600712,0.33282592721613735,-4.992599975382635,-4.776681667826609,-6.598734433093514,9.349033069227906,5.791963996584202,-0.8902344043852211,28.239529814549417,-4.959713306853782,22.84773980451515,0.5064491007318239,23.183403921533042,11.032039822446459,19.244458331867644,21.093773972163355,13.015009718386606,12.547216963816705,9.36339269942877,12.56807396476556,22.162177054366314,2.018475931728509,21.250781909332453,7.18490955048503,16.560204515345593,-9.7703195060517,-6.014973269256113,19.096672924311772,-1.7791352751062401],\"yaxis\":\"y\",\"type\":\"scatter\"}],                        {\"template\":{\"data\":{\"histogram2dcontour\":[{\"type\":\"histogram2dcontour\",\"colorbar\":{\"outlinewidth\":0,\"ticks\":\"\"},\"colorscale\":[[0.0,\"#0d0887\"],[0.1111111111111111,\"#46039f\"],[0.2222222222222222,\"#7201a8\"],[0.3333333333333333,\"#9c179e\"],[0.4444444444444444,\"#bd3786\"],[0.5555555555555556,\"#d8576b\"],[0.6666666666666666,\"#ed7953\"],[0.7777777777777778,\"#fb9f3a\"],[0.8888888888888888,\"#fdca26\"],[1.0,\"#f0f921\"]]}],\"choropleth\":[{\"type\":\"choropleth\",\"colorbar\":{\"outlinewidth\":0,\"ticks\":\"\"}}],\"histogram2d\":[{\"type\":\"histogram2d\",\"colorbar\":{\"outlinewidth\":0,\"ticks\":\"\"},\"colorscale\":[[0.0,\"#0d0887\"],[0.1111111111111111,\"#46039f\"],[0.2222222222222222,\"#7201a8\"],[0.3333333333333333,\"#9c179e\"],[0.4444444444444444,\"#bd3786\"],[0.5555555555555556,\"#d8576b\"],[0.6666666666666666,\"#ed7953\"],[0.7777777777777778,\"#fb9f3a\"],[0.8888888888888888,\"#fdca26\"],[1.0,\"#f0f921\"]]}],\"heatmap\":[{\"type\":\"heatmap\",\"colorbar\":{\"outlinewidth\":0,\"ticks\":\"\"},\"colorscale\":[[0.0,\"#0d0887\"],[0.1111111111111111,\"#46039f\"],[0.2222222222222222,\"#7201a8\"],[0.3333333333333333,\"#9c179e\"],[0.4444444444444444,\"#bd3786\"],[0.5555555555555556,\"#d8576b\"],[0.6666666666666666,\"#ed7953\"],[0.7777777777777778,\"#fb9f3a\"],[0.8888888888888888,\"#fdca26\"],[1.0,\"#f0f921\"]]}],\"heatmapgl\":[{\"type\":\"heatmapgl\",\"colorbar\":{\"outlinewidth\":0,\"ticks\":\"\"},\"colorscale\":[[0.0,\"#0d0887\"],[0.1111111111111111,\"#46039f\"],[0.2222222222222222,\"#7201a8\"],[0.3333333333333333,\"#9c179e\"],[0.4444444444444444,\"#bd3786\"],[0.5555555555555556,\"#d8576b\"],[0.6666666666666666,\"#ed7953\"],[0.7777777777777778,\"#fb9f3a\"],[0.8888888888888888,\"#fdca26\"],[1.0,\"#f0f921\"]]}],\"contourcarpet\":[{\"type\":\"contourcarpet\",\"colorbar\":{\"outlinewidth\":0,\"ticks\":\"\"}}],\"contour\":[{\"type\":\"contour\",\"colorbar\":{\"outlinewidth\":0,\"ticks\":\"\"},\"colorscale\":[[0.0,\"#0d0887\"],[0.1111111111111111,\"#46039f\"],[0.2222222222222222,\"#7201a8\"],[0.3333333333333333,\"#9c179e\"],[0.4444444444444444,\"#bd3786\"],[0.5555555555555556,\"#d8576b\"],[0.6666666666666666,\"#ed7953\"],[0.7777777777777778,\"#fb9f3a\"],[0.8888888888888888,\"#fdca26\"],[1.0,\"#f0f921\"]]}],\"surface\":[{\"type\":\"surface\",\"colorbar\":{\"outlinewidth\":0,\"ticks\":\"\"},\"colorscale\":[[0.0,\"#0d0887\"],[0.1111111111111111,\"#46039f\"],[0.2222222222222222,\"#7201a8\"],[0.3333333333333333,\"#9c179e\"],[0.4444444444444444,\"#bd3786\"],[0.5555555555555556,\"#d8576b\"],[0.6666666666666666,\"#ed7953\"],[0.7777777777777778,\"#fb9f3a\"],[0.8888888888888888,\"#fdca26\"],[1.0,\"#f0f921\"]]}],\"mesh3d\":[{\"type\":\"mesh3d\",\"colorbar\":{\"outlinewidth\":0,\"ticks\":\"\"}}],\"scatter\":[{\"fillpattern\":{\"fillmode\":\"overlay\",\"size\":10,\"solidity\":0.2},\"type\":\"scatter\"}],\"parcoords\":[{\"type\":\"parcoords\",\"line\":{\"colorbar\":{\"outlinewidth\":0,\"ticks\":\"\"}}}],\"scatterpolargl\":[{\"type\":\"scatterpolargl\",\"marker\":{\"colorbar\":{\"outlinewidth\":0,\"ticks\":\"\"}}}],\"bar\":[{\"error_x\":{\"color\":\"#2a3f5f\"},\"error_y\":{\"color\":\"#2a3f5f\"},\"marker\":{\"line\":{\"color\":\"#E5ECF6\",\"width\":0.5},\"pattern\":{\"fillmode\":\"overlay\",\"size\":10,\"solidity\":0.2}},\"type\":\"bar\"}],\"scattergeo\":[{\"type\":\"scattergeo\",\"marker\":{\"colorbar\":{\"outlinewidth\":0,\"ticks\":\"\"}}}],\"scatterpolar\":[{\"type\":\"scatterpolar\",\"marker\":{\"colorbar\":{\"outlinewidth\":0,\"ticks\":\"\"}}}],\"histogram\":[{\"marker\":{\"pattern\":{\"fillmode\":\"overlay\",\"size\":10,\"solidity\":0.2}},\"type\":\"histogram\"}],\"scattergl\":[{\"type\":\"scattergl\",\"marker\":{\"colorbar\":{\"outlinewidth\":0,\"ticks\":\"\"}}}],\"scatter3d\":[{\"type\":\"scatter3d\",\"line\":{\"colorbar\":{\"outlinewidth\":0,\"ticks\":\"\"}},\"marker\":{\"colorbar\":{\"outlinewidth\":0,\"ticks\":\"\"}}}],\"scattermapbox\":[{\"type\":\"scattermapbox\",\"marker\":{\"colorbar\":{\"outlinewidth\":0,\"ticks\":\"\"}}}],\"scatterternary\":[{\"type\":\"scatterternary\",\"marker\":{\"colorbar\":{\"outlinewidth\":0,\"ticks\":\"\"}}}],\"scattercarpet\":[{\"type\":\"scattercarpet\",\"marker\":{\"colorbar\":{\"outlinewidth\":0,\"ticks\":\"\"}}}],\"carpet\":[{\"aaxis\":{\"endlinecolor\":\"#2a3f5f\",\"gridcolor\":\"white\",\"linecolor\":\"white\",\"minorgridcolor\":\"white\",\"startlinecolor\":\"#2a3f5f\"},\"baxis\":{\"endlinecolor\":\"#2a3f5f\",\"gridcolor\":\"white\",\"linecolor\":\"white\",\"minorgridcolor\":\"white\",\"startlinecolor\":\"#2a3f5f\"},\"type\":\"carpet\"}],\"table\":[{\"cells\":{\"fill\":{\"color\":\"#EBF0F8\"},\"line\":{\"color\":\"white\"}},\"header\":{\"fill\":{\"color\":\"#C8D4E3\"},\"line\":{\"color\":\"white\"}},\"type\":\"table\"}],\"barpolar\":[{\"marker\":{\"line\":{\"color\":\"#E5ECF6\",\"width\":0.5},\"pattern\":{\"fillmode\":\"overlay\",\"size\":10,\"solidity\":0.2}},\"type\":\"barpolar\"}],\"pie\":[{\"automargin\":true,\"type\":\"pie\"}]},\"layout\":{\"autotypenumbers\":\"strict\",\"colorway\":[\"#636efa\",\"#EF553B\",\"#00cc96\",\"#ab63fa\",\"#FFA15A\",\"#19d3f3\",\"#FF6692\",\"#B6E880\",\"#FF97FF\",\"#FECB52\"],\"font\":{\"color\":\"#2a3f5f\"},\"hovermode\":\"closest\",\"hoverlabel\":{\"align\":\"left\"},\"paper_bgcolor\":\"white\",\"plot_bgcolor\":\"#E5ECF6\",\"polar\":{\"bgcolor\":\"#E5ECF6\",\"angularaxis\":{\"gridcolor\":\"white\",\"linecolor\":\"white\",\"ticks\":\"\"},\"radialaxis\":{\"gridcolor\":\"white\",\"linecolor\":\"white\",\"ticks\":\"\"}},\"ternary\":{\"bgcolor\":\"#E5ECF6\",\"aaxis\":{\"gridcolor\":\"white\",\"linecolor\":\"white\",\"ticks\":\"\"},\"baxis\":{\"gridcolor\":\"white\",\"linecolor\":\"white\",\"ticks\":\"\"},\"caxis\":{\"gridcolor\":\"white\",\"linecolor\":\"white\",\"ticks\":\"\"}},\"coloraxis\":{\"colorbar\":{\"outlinewidth\":0,\"ticks\":\"\"}},\"colorscale\":{\"sequential\":[[0.0,\"#0d0887\"],[0.1111111111111111,\"#46039f\"],[0.2222222222222222,\"#7201a8\"],[0.3333333333333333,\"#9c179e\"],[0.4444444444444444,\"#bd3786\"],[0.5555555555555556,\"#d8576b\"],[0.6666666666666666,\"#ed7953\"],[0.7777777777777778,\"#fb9f3a\"],[0.8888888888888888,\"#fdca26\"],[1.0,\"#f0f921\"]],\"sequentialminus\":[[0.0,\"#0d0887\"],[0.1111111111111111,\"#46039f\"],[0.2222222222222222,\"#7201a8\"],[0.3333333333333333,\"#9c179e\"],[0.4444444444444444,\"#bd3786\"],[0.5555555555555556,\"#d8576b\"],[0.6666666666666666,\"#ed7953\"],[0.7777777777777778,\"#fb9f3a\"],[0.8888888888888888,\"#fdca26\"],[1.0,\"#f0f921\"]],\"diverging\":[[0,\"#8e0152\"],[0.1,\"#c51b7d\"],[0.2,\"#de77ae\"],[0.3,\"#f1b6da\"],[0.4,\"#fde0ef\"],[0.5,\"#f7f7f7\"],[0.6,\"#e6f5d0\"],[0.7,\"#b8e186\"],[0.8,\"#7fbc41\"],[0.9,\"#4d9221\"],[1,\"#276419\"]]},\"xaxis\":{\"gridcolor\":\"white\",\"linecolor\":\"white\",\"ticks\":\"\",\"title\":{\"standoff\":15},\"zerolinecolor\":\"white\",\"automargin\":true,\"zerolinewidth\":2},\"yaxis\":{\"gridcolor\":\"white\",\"linecolor\":\"white\",\"ticks\":\"\",\"title\":{\"standoff\":15},\"zerolinecolor\":\"white\",\"automargin\":true,\"zerolinewidth\":2},\"scene\":{\"xaxis\":{\"backgroundcolor\":\"#E5ECF6\",\"gridcolor\":\"white\",\"linecolor\":\"white\",\"showbackground\":true,\"ticks\":\"\",\"zerolinecolor\":\"white\",\"gridwidth\":2},\"yaxis\":{\"backgroundcolor\":\"#E5ECF6\",\"gridcolor\":\"white\",\"linecolor\":\"white\",\"showbackground\":true,\"ticks\":\"\",\"zerolinecolor\":\"white\",\"gridwidth\":2},\"zaxis\":{\"backgroundcolor\":\"#E5ECF6\",\"gridcolor\":\"white\",\"linecolor\":\"white\",\"showbackground\":true,\"ticks\":\"\",\"zerolinecolor\":\"white\",\"gridwidth\":2}},\"shapedefaults\":{\"line\":{\"color\":\"#2a3f5f\"}},\"annotationdefaults\":{\"arrowcolor\":\"#2a3f5f\",\"arrowhead\":0,\"arrowwidth\":1},\"geo\":{\"bgcolor\":\"white\",\"landcolor\":\"#E5ECF6\",\"subunitcolor\":\"white\",\"showland\":true,\"showlakes\":true,\"lakecolor\":\"white\"},\"title\":{\"x\":0.05},\"mapbox\":{\"style\":\"light\"}}},\"xaxis\":{\"anchor\":\"y\",\"domain\":[0.0,1.0],\"title\":{\"text\":\"0\"}},\"yaxis\":{\"anchor\":\"x\",\"domain\":[0.0,1.0],\"title\":{\"text\":\"1\"}},\"legend\":{\"title\":{\"text\":\"sample_type.samples\"},\"tracegroupgap\":0},\"margin\":{\"t\":60}},                        {\"responsive\": true}                    ).then(function(){\n",
       "                            \n",
       "var gd = document.getElementById('c33f59dc-a262-486c-ab24-da71ddc03790');\n",
       "var x = new MutationObserver(function (mutations, observer) {{\n",
       "        var display = window.getComputedStyle(gd).display;\n",
       "        if (!display || display === 'none') {{\n",
       "            console.log([gd, 'removed!']);\n",
       "            Plotly.purge(gd);\n",
       "            observer.disconnect();\n",
       "        }}\n",
       "}});\n",
       "\n",
       "// Listen for the removal of the full notebook cells\n",
       "var notebookContainer = gd.closest('#notebook-container');\n",
       "if (notebookContainer) {{\n",
       "    x.observe(notebookContainer, {childList: true});\n",
       "}}\n",
       "\n",
       "// Listen for the clearing of the current output cell\n",
       "var outputEl = gd.closest('.output');\n",
       "if (outputEl) {{\n",
       "    x.observe(outputEl, {childList: true});\n",
       "}}\n",
       "\n",
       "                        })                };                });            </script>        </div>"
      ]
     },
     "metadata": {},
     "output_type": "display_data"
    }
   ],
   "source": [
    "principal_df2 = pd.concat([principal_df,clinicalData],axis = 1)\n",
    "fig = px.scatter(principal_df2, x=0, y=1, color=\"sample_type.samples\")\n",
    "fig.show()"
   ]
  },
  {
   "cell_type": "code",
   "execution_count": 2,
   "metadata": {},
   "outputs": [],
   "source": [
    "# A compléter pour afficher les points dans l\"espace des composante 2 et 3 de l'ACP"
   ]
  },
  {
   "cell_type": "code",
   "execution_count": 103,
   "metadata": {},
   "outputs": [
    {
     "data": {
      "application/vnd.plotly.v1+json": {
       "config": {
        "plotlyServerURL": "https://plot.ly"
       },
       "data": [
        {
         "hovertemplate": "submitted_tumor_location=Distant Metastasis<br>0=%{x}<br>1=%{y}<extra></extra>",
         "legendgroup": "Distant Metastasis",
         "marker": {
          "color": "#636efa",
          "symbol": "circle"
         },
         "mode": "markers",
         "name": "Distant Metastasis",
         "orientation": "v",
         "showlegend": true,
         "type": "scatter",
         "x": [
          -13.201208395164315,
          -1.395920940502609,
          4.676883849213948,
          2.2581094396270807,
          8.96961438136981,
          -9.604683766838207,
          -8.876287540296108,
          -10.91343012270108,
          7.779608160085941,
          4.477817026835706,
          -10.99557715179558,
          -8.093158261738157,
          -12.700878028977472,
          -9.266515244245644,
          7.3122986462904125,
          14.700873560301824,
          -12.642108262746024,
          -2.578497503395449,
          -6.080498688883809,
          -8.248274923019192,
          14.302104491935136,
          -11.588211385160774,
          -13.732795074411513,
          -9.460749749228404,
          14.937643658023612,
          -11.446006801413759
         ],
         "xaxis": "x",
         "y": [
          -5.332832649951098,
          -3.243716502793301,
          2.935745810967886,
          -3.613548439093709,
          1.435025558985648,
          -9.62179082392123,
          12.907990640508855,
          10.549142099585328,
          -3.7360501120427534,
          -1.530219631698487,
          -9.215536712556665,
          -8.455623284982513,
          -5.8080144297779395,
          -9.23538191207766,
          2.337337606086122,
          0.5637521792454195,
          -7.491764518895574,
          -2.307171055903429,
          1.00182727022069,
          -4.4962626414611275,
          -1.646750697947764,
          -6.9595580048915044,
          -9.059351011669637,
          -4.390815234269424,
          0.20488843401224763,
          -9.444276636387897
         ],
         "yaxis": "y"
        },
        {
         "hovertemplate": "submitted_tumor_location=Primary Tumor<br>0=%{x}<br>1=%{y}<extra></extra>",
         "legendgroup": "Primary Tumor",
         "marker": {
          "color": "#EF553B",
          "symbol": "circle"
         },
         "mode": "markers",
         "name": "Primary Tumor",
         "orientation": "v",
         "showlegend": true,
         "type": "scatter",
         "x": [
          -17.00908719339413,
          -12.76544707709156,
          -9.036622759151856,
          11.14446162542163,
          -12.032229900929467,
          -15.350758749064875,
          -6.239505028545901,
          -6.288721404998807,
          -6.393922956953421,
          -13.511626658095736,
          -21.424130974122413,
          -12.527196809485279,
          -1.9727310784501653,
          -4.941987557827932,
          5.1865281032933686,
          -13.2030800852975,
          -7.190455833071048,
          -12.400272683664758,
          -19.97036850599381,
          1.299594321248828,
          -16.429519470672762,
          -3.1952162762220366,
          12.839707344556537,
          -8.993002221876527,
          -16.251756316978586,
          -0.4639993069682391,
          -23.350909814571203,
          -19.97341798509214,
          -13.816035325998824,
          -10.51045135992959,
          -6.88888060687155,
          -0.5240633239136758,
          -9.44758307458911,
          -16.41068194851743,
          -19.37881017491674,
          -12.242053898347663,
          -13.497049736463955,
          1.9621876298310905,
          -14.424629500817646,
          -9.800699792113717,
          -10.354223682744674,
          -7.53840280758157,
          9.689981902523817
         ],
         "xaxis": "x",
         "y": [
          8.74652462180486,
          -7.444605907729096,
          0.949517573153569,
          1.7399143185152242,
          19.00429859558566,
          -1.563739889222092,
          -1.6018766526022539,
          -3.2028780461616515,
          -1.1307882155516218,
          -7.715937677501273,
          15.710755480435743,
          2.4075623592374673,
          0.14219875214262753,
          0.5464978401600712,
          0.33282592721613735,
          -4.992599975382635,
          -4.776681667826609,
          -6.598734433093514,
          9.349033069227906,
          5.791963996584202,
          -0.8902344043852211,
          28.239529814549417,
          1.6470347841382087,
          -4.959713306853782,
          22.84773980451515,
          0.5064491007318239,
          23.183403921533042,
          11.032039822446459,
          19.244458331867644,
          21.093773972163355,
          13.015009718386606,
          12.547216963816705,
          9.36339269942877,
          12.56807396476556,
          22.162177054366314,
          2.018475931728509,
          21.250781909332453,
          7.18490955048503,
          16.560204515345593,
          -9.7703195060517,
          -6.014973269256113,
          19.096672924311772,
          -1.7791352751062401
         ],
         "yaxis": "y"
        },
        {
         "hovertemplate": "submitted_tumor_location=Regional Lymph Node<br>0=%{x}<br>1=%{y}<extra></extra>",
         "legendgroup": "Regional Lymph Node",
         "marker": {
          "color": "#00cc96",
          "symbol": "circle"
         },
         "mode": "markers",
         "name": "Regional Lymph Node",
         "orientation": "v",
         "showlegend": true,
         "type": "scatter",
         "x": [
          -2.347925912232812,
          14.763370740547035,
          -9.041559725750611,
          15.976665615782046,
          17.888792029129867,
          -13.735647140123953,
          13.40779074892005,
          17.100741787779985,
          14.291851559908773,
          13.83425251199096,
          5.84749749113569,
          15.55457371067566,
          -12.661426192183928,
          3.633162714224135,
          6.098909676260104,
          9.465128143991496,
          2.4268262705044186,
          -3.298452305201833,
          15.366267844590425,
          7.498872078788374,
          1.6677706022671963,
          -2.9235630293087405,
          13.558378563984526,
          -5.432951604276901,
          18.622475803921862,
          -10.515694967943247,
          7.114655362053543,
          -0.16292591845529086,
          4.622051733300409,
          7.826818394682607,
          -3.5025750115944576,
          20.285273789114406,
          10.071718699988695,
          -10.899129272150697,
          8.412496955287443,
          0.03824813655304624,
          11.945665500830374,
          17.921820308819548,
          21.67505942634406,
          17.3179355146559,
          12.225383598941947,
          5.161345731466912,
          24.008647837028157,
          4.774905321983728,
          16.268062892179575,
          1.5703010469124792,
          -7.883525929942265,
          -1.2925536687816186,
          16.661726381373047,
          -4.852457494082044,
          -2.244702566224962,
          -12.755685536344659,
          15.109540133964513,
          7.451756736602869,
          2.4635528129688384,
          -3.678240462879729,
          3.8495730924938063,
          12.211472829091685,
          3.7875845479776973,
          1.0730778845192481,
          8.062805658061386,
          2.218106500504507,
          21.88900219778966,
          -6.668890517418675,
          -1.021807382708494,
          20.88769828428931,
          15.767230556112773,
          7.72147687550554,
          -0.3023796883797005,
          13.570606914882095,
          8.562104593165392,
          4.112744921901468,
          13.00533519715922,
          11.507868386587049,
          11.527534330669383,
          -5.278088571599781,
          -2.6612874276738756,
          15.170315321352764,
          13.719212999153475,
          6.9254943424803015,
          9.803640370193515,
          12.9730040140546,
          -13.317631231033024
         ],
         "xaxis": "x",
         "y": [
          -2.9421483540585824,
          2.4751968823106005,
          -6.031598058889846,
          0.7252298306102761,
          -0.08797476466523443,
          -8.43260432152067,
          1.0808258735548177,
          1.338252750681838,
          1.8411119264682694,
          1.7004139427112188,
          1.792314156662851,
          1.7989070396972031,
          -4.960336478276333,
          6.021142609324987,
          -0.9087026975248557,
          0.7633481749733392,
          -3.6415114834764237,
          -4.7094730893745,
          1.017136259950844,
          -0.17447193124170668,
          -2.6268245936858823,
          -7.25241656861017,
          1.4231886594020857,
          -8.46786457181799,
          4.717291439788672,
          -8.476310997256173,
          -1.4000056295805987,
          -4.46501695532209,
          -0.5985021740075089,
          4.958412907489703,
          -3.677999064273674,
          2.996327838217223,
          0.676803262899439,
          -10.824622450170622,
          -2.9613496786880185,
          0.5247923697001876,
          -1.4519518071951716,
          5.275763485652984,
          2.8331140367916947,
          13.449992684426077,
          3.075980825195781,
          -3.970483705776309,
          1.921785626685131,
          0.23133899209057993,
          1.7055494422380308,
          -5.016579021870795,
          -8.429682145690386,
          -4.577358457773528,
          1.0059653640688786,
          -8.290392107284816,
          -4.968825951030734,
          0.16062946604081066,
          2.891661539629927,
          -3.606192698395768,
          -1.8467320831197183,
          -4.8839232164885145,
          -2.568370461769066,
          1.3845103487296,
          -1.867239434840477,
          -4.368365844638366,
          1.410407509323148,
          -3.004944048828598,
          1.3021520541043121,
          -7.593480069086858,
          -2.904874292904281,
          4.336899515887761,
          -0.17497314335373643,
          -3.2853516561228844,
          -6.559916268139354,
          -1.08352726101644,
          -0.9776919035710827,
          -5.013154015982622,
          0.13901795612917725,
          -2.1275744382966453,
          -1.0323825183487731,
          -6.134397436304875,
          -1.1111280526616765,
          -0.6644194591442535,
          0.654803329586206,
          2.434669134912942,
          0.41768964350701926,
          2.5277138402142367,
          -9.614551871185268
         ],
         "yaxis": "y"
        },
        {
         "hovertemplate": "submitted_tumor_location=Regional Cutaneous or Subcutaneous Tissue (includes satellite and in-transit metastasis)<br>0=%{x}<br>1=%{y}<extra></extra>",
         "legendgroup": "Regional Cutaneous or Subcutaneous Tissue (includes satellite and in-transit metastasis)",
         "marker": {
          "color": "#ab63fa",
          "symbol": "circle"
         },
         "mode": "markers",
         "name": "Regional Cutaneous or Subcutaneous Tissue (includes satellite and in-transit metastasis)",
         "orientation": "v",
         "showlegend": true,
         "type": "scatter",
         "x": [
          -6.429167315409873,
          -8.205669949837912,
          1.0424425489268834,
          -5.776190868477774,
          -11.066650455693969,
          4.806750794269363,
          -10.15464520818712,
          6.747832977877515,
          5.436098245119944,
          14.231233921964238,
          -12.100639158497748,
          -10.476596023308133,
          9.227106906210713,
          2.651838019711033,
          -14.565635583674393,
          8.81445147564657,
          6.543799889250285,
          -2.178030619593363,
          -5.108056745303861,
          6.604159075071403,
          -1.0796910077733108,
          -11.239948673666003,
          8.956193332686283,
          -4.522054783701243,
          -11.258669516885295,
          -10.439687739452445
         ],
         "xaxis": "x",
         "y": [
          8.62707433541775,
          -8.023871629725335,
          -1.1998491783003518,
          -6.241925711084798,
          -10.184129625908254,
          0.30844468018407917,
          -7.36121409149735,
          1.3206236359056585,
          -1.8794425021696641,
          0.12185296191551745,
          -10.290985011239934,
          -8.210733935390795,
          -1.167721908070841,
          -1.6127987094977752,
          -11.831582865784489,
          9.805149083843787,
          -0.7133823758583254,
          -6.063940532637189,
          4.018227230065444,
          -1.1531864897559694,
          -6.1865050549981815,
          -6.209928797107383,
          -2.9936320813027604,
          -5.4860813835875755,
          -8.728424674315514,
          -7.618522529523564
         ],
         "yaxis": "y"
        }
       ],
       "layout": {
        "legend": {
         "orientation": "h",
         "title": {
          "text": "submitted_tumor_location"
         },
         "tracegroupgap": 0,
         "x": 1,
         "xanchor": "right",
         "y": 1.02,
         "yanchor": "bottom"
        },
        "margin": {
         "t": 60
        },
        "template": {
         "data": {
          "bar": [
           {
            "error_x": {
             "color": "#2a3f5f"
            },
            "error_y": {
             "color": "#2a3f5f"
            },
            "marker": {
             "line": {
              "color": "#E5ECF6",
              "width": 0.5
             },
             "pattern": {
              "fillmode": "overlay",
              "size": 10,
              "solidity": 0.2
             }
            },
            "type": "bar"
           }
          ],
          "barpolar": [
           {
            "marker": {
             "line": {
              "color": "#E5ECF6",
              "width": 0.5
             },
             "pattern": {
              "fillmode": "overlay",
              "size": 10,
              "solidity": 0.2
             }
            },
            "type": "barpolar"
           }
          ],
          "carpet": [
           {
            "aaxis": {
             "endlinecolor": "#2a3f5f",
             "gridcolor": "white",
             "linecolor": "white",
             "minorgridcolor": "white",
             "startlinecolor": "#2a3f5f"
            },
            "baxis": {
             "endlinecolor": "#2a3f5f",
             "gridcolor": "white",
             "linecolor": "white",
             "minorgridcolor": "white",
             "startlinecolor": "#2a3f5f"
            },
            "type": "carpet"
           }
          ],
          "choropleth": [
           {
            "colorbar": {
             "outlinewidth": 0,
             "ticks": ""
            },
            "type": "choropleth"
           }
          ],
          "contour": [
           {
            "colorbar": {
             "outlinewidth": 0,
             "ticks": ""
            },
            "colorscale": [
             [
              0,
              "#0d0887"
             ],
             [
              0.1111111111111111,
              "#46039f"
             ],
             [
              0.2222222222222222,
              "#7201a8"
             ],
             [
              0.3333333333333333,
              "#9c179e"
             ],
             [
              0.4444444444444444,
              "#bd3786"
             ],
             [
              0.5555555555555556,
              "#d8576b"
             ],
             [
              0.6666666666666666,
              "#ed7953"
             ],
             [
              0.7777777777777778,
              "#fb9f3a"
             ],
             [
              0.8888888888888888,
              "#fdca26"
             ],
             [
              1,
              "#f0f921"
             ]
            ],
            "type": "contour"
           }
          ],
          "contourcarpet": [
           {
            "colorbar": {
             "outlinewidth": 0,
             "ticks": ""
            },
            "type": "contourcarpet"
           }
          ],
          "heatmap": [
           {
            "colorbar": {
             "outlinewidth": 0,
             "ticks": ""
            },
            "colorscale": [
             [
              0,
              "#0d0887"
             ],
             [
              0.1111111111111111,
              "#46039f"
             ],
             [
              0.2222222222222222,
              "#7201a8"
             ],
             [
              0.3333333333333333,
              "#9c179e"
             ],
             [
              0.4444444444444444,
              "#bd3786"
             ],
             [
              0.5555555555555556,
              "#d8576b"
             ],
             [
              0.6666666666666666,
              "#ed7953"
             ],
             [
              0.7777777777777778,
              "#fb9f3a"
             ],
             [
              0.8888888888888888,
              "#fdca26"
             ],
             [
              1,
              "#f0f921"
             ]
            ],
            "type": "heatmap"
           }
          ],
          "heatmapgl": [
           {
            "colorbar": {
             "outlinewidth": 0,
             "ticks": ""
            },
            "colorscale": [
             [
              0,
              "#0d0887"
             ],
             [
              0.1111111111111111,
              "#46039f"
             ],
             [
              0.2222222222222222,
              "#7201a8"
             ],
             [
              0.3333333333333333,
              "#9c179e"
             ],
             [
              0.4444444444444444,
              "#bd3786"
             ],
             [
              0.5555555555555556,
              "#d8576b"
             ],
             [
              0.6666666666666666,
              "#ed7953"
             ],
             [
              0.7777777777777778,
              "#fb9f3a"
             ],
             [
              0.8888888888888888,
              "#fdca26"
             ],
             [
              1,
              "#f0f921"
             ]
            ],
            "type": "heatmapgl"
           }
          ],
          "histogram": [
           {
            "marker": {
             "pattern": {
              "fillmode": "overlay",
              "size": 10,
              "solidity": 0.2
             }
            },
            "type": "histogram"
           }
          ],
          "histogram2d": [
           {
            "colorbar": {
             "outlinewidth": 0,
             "ticks": ""
            },
            "colorscale": [
             [
              0,
              "#0d0887"
             ],
             [
              0.1111111111111111,
              "#46039f"
             ],
             [
              0.2222222222222222,
              "#7201a8"
             ],
             [
              0.3333333333333333,
              "#9c179e"
             ],
             [
              0.4444444444444444,
              "#bd3786"
             ],
             [
              0.5555555555555556,
              "#d8576b"
             ],
             [
              0.6666666666666666,
              "#ed7953"
             ],
             [
              0.7777777777777778,
              "#fb9f3a"
             ],
             [
              0.8888888888888888,
              "#fdca26"
             ],
             [
              1,
              "#f0f921"
             ]
            ],
            "type": "histogram2d"
           }
          ],
          "histogram2dcontour": [
           {
            "colorbar": {
             "outlinewidth": 0,
             "ticks": ""
            },
            "colorscale": [
             [
              0,
              "#0d0887"
             ],
             [
              0.1111111111111111,
              "#46039f"
             ],
             [
              0.2222222222222222,
              "#7201a8"
             ],
             [
              0.3333333333333333,
              "#9c179e"
             ],
             [
              0.4444444444444444,
              "#bd3786"
             ],
             [
              0.5555555555555556,
              "#d8576b"
             ],
             [
              0.6666666666666666,
              "#ed7953"
             ],
             [
              0.7777777777777778,
              "#fb9f3a"
             ],
             [
              0.8888888888888888,
              "#fdca26"
             ],
             [
              1,
              "#f0f921"
             ]
            ],
            "type": "histogram2dcontour"
           }
          ],
          "mesh3d": [
           {
            "colorbar": {
             "outlinewidth": 0,
             "ticks": ""
            },
            "type": "mesh3d"
           }
          ],
          "parcoords": [
           {
            "line": {
             "colorbar": {
              "outlinewidth": 0,
              "ticks": ""
             }
            },
            "type": "parcoords"
           }
          ],
          "pie": [
           {
            "automargin": true,
            "type": "pie"
           }
          ],
          "scatter": [
           {
            "fillpattern": {
             "fillmode": "overlay",
             "size": 10,
             "solidity": 0.2
            },
            "type": "scatter"
           }
          ],
          "scatter3d": [
           {
            "line": {
             "colorbar": {
              "outlinewidth": 0,
              "ticks": ""
             }
            },
            "marker": {
             "colorbar": {
              "outlinewidth": 0,
              "ticks": ""
             }
            },
            "type": "scatter3d"
           }
          ],
          "scattercarpet": [
           {
            "marker": {
             "colorbar": {
              "outlinewidth": 0,
              "ticks": ""
             }
            },
            "type": "scattercarpet"
           }
          ],
          "scattergeo": [
           {
            "marker": {
             "colorbar": {
              "outlinewidth": 0,
              "ticks": ""
             }
            },
            "type": "scattergeo"
           }
          ],
          "scattergl": [
           {
            "marker": {
             "colorbar": {
              "outlinewidth": 0,
              "ticks": ""
             }
            },
            "type": "scattergl"
           }
          ],
          "scattermapbox": [
           {
            "marker": {
             "colorbar": {
              "outlinewidth": 0,
              "ticks": ""
             }
            },
            "type": "scattermapbox"
           }
          ],
          "scatterpolar": [
           {
            "marker": {
             "colorbar": {
              "outlinewidth": 0,
              "ticks": ""
             }
            },
            "type": "scatterpolar"
           }
          ],
          "scatterpolargl": [
           {
            "marker": {
             "colorbar": {
              "outlinewidth": 0,
              "ticks": ""
             }
            },
            "type": "scatterpolargl"
           }
          ],
          "scatterternary": [
           {
            "marker": {
             "colorbar": {
              "outlinewidth": 0,
              "ticks": ""
             }
            },
            "type": "scatterternary"
           }
          ],
          "surface": [
           {
            "colorbar": {
             "outlinewidth": 0,
             "ticks": ""
            },
            "colorscale": [
             [
              0,
              "#0d0887"
             ],
             [
              0.1111111111111111,
              "#46039f"
             ],
             [
              0.2222222222222222,
              "#7201a8"
             ],
             [
              0.3333333333333333,
              "#9c179e"
             ],
             [
              0.4444444444444444,
              "#bd3786"
             ],
             [
              0.5555555555555556,
              "#d8576b"
             ],
             [
              0.6666666666666666,
              "#ed7953"
             ],
             [
              0.7777777777777778,
              "#fb9f3a"
             ],
             [
              0.8888888888888888,
              "#fdca26"
             ],
             [
              1,
              "#f0f921"
             ]
            ],
            "type": "surface"
           }
          ],
          "table": [
           {
            "cells": {
             "fill": {
              "color": "#EBF0F8"
             },
             "line": {
              "color": "white"
             }
            },
            "header": {
             "fill": {
              "color": "#C8D4E3"
             },
             "line": {
              "color": "white"
             }
            },
            "type": "table"
           }
          ]
         },
         "layout": {
          "annotationdefaults": {
           "arrowcolor": "#2a3f5f",
           "arrowhead": 0,
           "arrowwidth": 1
          },
          "autotypenumbers": "strict",
          "coloraxis": {
           "colorbar": {
            "outlinewidth": 0,
            "ticks": ""
           }
          },
          "colorscale": {
           "diverging": [
            [
             0,
             "#8e0152"
            ],
            [
             0.1,
             "#c51b7d"
            ],
            [
             0.2,
             "#de77ae"
            ],
            [
             0.3,
             "#f1b6da"
            ],
            [
             0.4,
             "#fde0ef"
            ],
            [
             0.5,
             "#f7f7f7"
            ],
            [
             0.6,
             "#e6f5d0"
            ],
            [
             0.7,
             "#b8e186"
            ],
            [
             0.8,
             "#7fbc41"
            ],
            [
             0.9,
             "#4d9221"
            ],
            [
             1,
             "#276419"
            ]
           ],
           "sequential": [
            [
             0,
             "#0d0887"
            ],
            [
             0.1111111111111111,
             "#46039f"
            ],
            [
             0.2222222222222222,
             "#7201a8"
            ],
            [
             0.3333333333333333,
             "#9c179e"
            ],
            [
             0.4444444444444444,
             "#bd3786"
            ],
            [
             0.5555555555555556,
             "#d8576b"
            ],
            [
             0.6666666666666666,
             "#ed7953"
            ],
            [
             0.7777777777777778,
             "#fb9f3a"
            ],
            [
             0.8888888888888888,
             "#fdca26"
            ],
            [
             1,
             "#f0f921"
            ]
           ],
           "sequentialminus": [
            [
             0,
             "#0d0887"
            ],
            [
             0.1111111111111111,
             "#46039f"
            ],
            [
             0.2222222222222222,
             "#7201a8"
            ],
            [
             0.3333333333333333,
             "#9c179e"
            ],
            [
             0.4444444444444444,
             "#bd3786"
            ],
            [
             0.5555555555555556,
             "#d8576b"
            ],
            [
             0.6666666666666666,
             "#ed7953"
            ],
            [
             0.7777777777777778,
             "#fb9f3a"
            ],
            [
             0.8888888888888888,
             "#fdca26"
            ],
            [
             1,
             "#f0f921"
            ]
           ]
          },
          "colorway": [
           "#636efa",
           "#EF553B",
           "#00cc96",
           "#ab63fa",
           "#FFA15A",
           "#19d3f3",
           "#FF6692",
           "#B6E880",
           "#FF97FF",
           "#FECB52"
          ],
          "font": {
           "color": "#2a3f5f"
          },
          "geo": {
           "bgcolor": "white",
           "lakecolor": "white",
           "landcolor": "#E5ECF6",
           "showlakes": true,
           "showland": true,
           "subunitcolor": "white"
          },
          "hoverlabel": {
           "align": "left"
          },
          "hovermode": "closest",
          "mapbox": {
           "style": "light"
          },
          "paper_bgcolor": "white",
          "plot_bgcolor": "#E5ECF6",
          "polar": {
           "angularaxis": {
            "gridcolor": "white",
            "linecolor": "white",
            "ticks": ""
           },
           "bgcolor": "#E5ECF6",
           "radialaxis": {
            "gridcolor": "white",
            "linecolor": "white",
            "ticks": ""
           }
          },
          "scene": {
           "xaxis": {
            "backgroundcolor": "#E5ECF6",
            "gridcolor": "white",
            "gridwidth": 2,
            "linecolor": "white",
            "showbackground": true,
            "ticks": "",
            "zerolinecolor": "white"
           },
           "yaxis": {
            "backgroundcolor": "#E5ECF6",
            "gridcolor": "white",
            "gridwidth": 2,
            "linecolor": "white",
            "showbackground": true,
            "ticks": "",
            "zerolinecolor": "white"
           },
           "zaxis": {
            "backgroundcolor": "#E5ECF6",
            "gridcolor": "white",
            "gridwidth": 2,
            "linecolor": "white",
            "showbackground": true,
            "ticks": "",
            "zerolinecolor": "white"
           }
          },
          "shapedefaults": {
           "line": {
            "color": "#2a3f5f"
           }
          },
          "ternary": {
           "aaxis": {
            "gridcolor": "white",
            "linecolor": "white",
            "ticks": ""
           },
           "baxis": {
            "gridcolor": "white",
            "linecolor": "white",
            "ticks": ""
           },
           "bgcolor": "#E5ECF6",
           "caxis": {
            "gridcolor": "white",
            "linecolor": "white",
            "ticks": ""
           }
          },
          "title": {
           "x": 0.05
          },
          "xaxis": {
           "automargin": true,
           "gridcolor": "white",
           "linecolor": "white",
           "ticks": "",
           "title": {
            "standoff": 15
           },
           "zerolinecolor": "white",
           "zerolinewidth": 2
          },
          "yaxis": {
           "automargin": true,
           "gridcolor": "white",
           "linecolor": "white",
           "ticks": "",
           "title": {
            "standoff": 15
           },
           "zerolinecolor": "white",
           "zerolinewidth": 2
          }
         }
        },
        "xaxis": {
         "anchor": "y",
         "domain": [
          0,
          1
         ],
         "title": {
          "text": "0"
         }
        },
        "yaxis": {
         "anchor": "x",
         "domain": [
          0,
          1
         ],
         "title": {
          "text": "1"
         }
        }
       }
      },
      "text/html": [
       "<div>                            <div id=\"a4d1561d-f916-45ad-a89b-e2ccc292f656\" class=\"plotly-graph-div\" style=\"height:525px; width:100%;\"></div>            <script type=\"text/javascript\">                require([\"plotly\"], function(Plotly) {                    window.PLOTLYENV=window.PLOTLYENV || {};                                    if (document.getElementById(\"a4d1561d-f916-45ad-a89b-e2ccc292f656\")) {                    Plotly.newPlot(                        \"a4d1561d-f916-45ad-a89b-e2ccc292f656\",                        [{\"hovertemplate\":\"submitted_tumor_location=Distant Metastasis<br>0=%{x}<br>1=%{y}<extra></extra>\",\"legendgroup\":\"Distant Metastasis\",\"marker\":{\"color\":\"#636efa\",\"symbol\":\"circle\"},\"mode\":\"markers\",\"name\":\"Distant Metastasis\",\"orientation\":\"v\",\"showlegend\":true,\"x\":[-13.201208395164315,-1.395920940502609,4.676883849213948,2.2581094396270807,8.96961438136981,-9.604683766838207,-8.876287540296108,-10.91343012270108,7.779608160085941,4.477817026835706,-10.99557715179558,-8.093158261738157,-12.700878028977472,-9.266515244245644,7.3122986462904125,14.700873560301824,-12.642108262746024,-2.578497503395449,-6.080498688883809,-8.248274923019192,14.302104491935136,-11.588211385160774,-13.732795074411513,-9.460749749228404,14.937643658023612,-11.446006801413759],\"xaxis\":\"x\",\"y\":[-5.332832649951098,-3.243716502793301,2.935745810967886,-3.613548439093709,1.435025558985648,-9.62179082392123,12.907990640508855,10.549142099585328,-3.7360501120427534,-1.530219631698487,-9.215536712556665,-8.455623284982513,-5.8080144297779395,-9.23538191207766,2.337337606086122,0.5637521792454195,-7.491764518895574,-2.307171055903429,1.00182727022069,-4.4962626414611275,-1.646750697947764,-6.9595580048915044,-9.059351011669637,-4.390815234269424,0.20488843401224763,-9.444276636387897],\"yaxis\":\"y\",\"type\":\"scatter\"},{\"hovertemplate\":\"submitted_tumor_location=Primary Tumor<br>0=%{x}<br>1=%{y}<extra></extra>\",\"legendgroup\":\"Primary Tumor\",\"marker\":{\"color\":\"#EF553B\",\"symbol\":\"circle\"},\"mode\":\"markers\",\"name\":\"Primary Tumor\",\"orientation\":\"v\",\"showlegend\":true,\"x\":[-17.00908719339413,-12.76544707709156,-9.036622759151856,11.14446162542163,-12.032229900929467,-15.350758749064875,-6.239505028545901,-6.288721404998807,-6.393922956953421,-13.511626658095736,-21.424130974122413,-12.527196809485279,-1.9727310784501653,-4.941987557827932,5.1865281032933686,-13.2030800852975,-7.190455833071048,-12.400272683664758,-19.97036850599381,1.299594321248828,-16.429519470672762,-3.1952162762220366,12.839707344556537,-8.993002221876527,-16.251756316978586,-0.4639993069682391,-23.350909814571203,-19.97341798509214,-13.816035325998824,-10.51045135992959,-6.88888060687155,-0.5240633239136758,-9.44758307458911,-16.41068194851743,-19.37881017491674,-12.242053898347663,-13.497049736463955,1.9621876298310905,-14.424629500817646,-9.800699792113717,-10.354223682744674,-7.53840280758157,9.689981902523817],\"xaxis\":\"x\",\"y\":[8.74652462180486,-7.444605907729096,0.949517573153569,1.7399143185152242,19.00429859558566,-1.563739889222092,-1.6018766526022539,-3.2028780461616515,-1.1307882155516218,-7.715937677501273,15.710755480435743,2.4075623592374673,0.14219875214262753,0.5464978401600712,0.33282592721613735,-4.992599975382635,-4.776681667826609,-6.598734433093514,9.349033069227906,5.791963996584202,-0.8902344043852211,28.239529814549417,1.6470347841382087,-4.959713306853782,22.84773980451515,0.5064491007318239,23.183403921533042,11.032039822446459,19.244458331867644,21.093773972163355,13.015009718386606,12.547216963816705,9.36339269942877,12.56807396476556,22.162177054366314,2.018475931728509,21.250781909332453,7.18490955048503,16.560204515345593,-9.7703195060517,-6.014973269256113,19.096672924311772,-1.7791352751062401],\"yaxis\":\"y\",\"type\":\"scatter\"},{\"hovertemplate\":\"submitted_tumor_location=Regional Lymph Node<br>0=%{x}<br>1=%{y}<extra></extra>\",\"legendgroup\":\"Regional Lymph Node\",\"marker\":{\"color\":\"#00cc96\",\"symbol\":\"circle\"},\"mode\":\"markers\",\"name\":\"Regional Lymph Node\",\"orientation\":\"v\",\"showlegend\":true,\"x\":[-2.347925912232812,14.763370740547035,-9.041559725750611,15.976665615782046,17.888792029129867,-13.735647140123953,13.40779074892005,17.100741787779985,14.291851559908773,13.83425251199096,5.84749749113569,15.55457371067566,-12.661426192183928,3.633162714224135,6.098909676260104,9.465128143991496,2.4268262705044186,-3.298452305201833,15.366267844590425,7.498872078788374,1.6677706022671963,-2.9235630293087405,13.558378563984526,-5.432951604276901,18.622475803921862,-10.515694967943247,7.114655362053543,-0.16292591845529086,4.622051733300409,7.826818394682607,-3.5025750115944576,20.285273789114406,10.071718699988695,-10.899129272150697,8.412496955287443,0.03824813655304624,11.945665500830374,17.921820308819548,21.67505942634406,17.3179355146559,12.225383598941947,5.161345731466912,24.008647837028157,4.774905321983728,16.268062892179575,1.5703010469124792,-7.883525929942265,-1.2925536687816186,16.661726381373047,-4.852457494082044,-2.244702566224962,-12.755685536344659,15.109540133964513,7.451756736602869,2.4635528129688384,-3.678240462879729,3.8495730924938063,12.211472829091685,3.7875845479776973,1.0730778845192481,8.062805658061386,2.218106500504507,21.88900219778966,-6.668890517418675,-1.021807382708494,20.88769828428931,15.767230556112773,7.72147687550554,-0.3023796883797005,13.570606914882095,8.562104593165392,4.112744921901468,13.00533519715922,11.507868386587049,11.527534330669383,-5.278088571599781,-2.6612874276738756,15.170315321352764,13.719212999153475,6.9254943424803015,9.803640370193515,12.9730040140546,-13.317631231033024],\"xaxis\":\"x\",\"y\":[-2.9421483540585824,2.4751968823106005,-6.031598058889846,0.7252298306102761,-0.08797476466523443,-8.43260432152067,1.0808258735548177,1.338252750681838,1.8411119264682694,1.7004139427112188,1.792314156662851,1.7989070396972031,-4.960336478276333,6.021142609324987,-0.9087026975248557,0.7633481749733392,-3.6415114834764237,-4.7094730893745,1.017136259950844,-0.17447193124170668,-2.6268245936858823,-7.25241656861017,1.4231886594020857,-8.46786457181799,4.717291439788672,-8.476310997256173,-1.4000056295805987,-4.46501695532209,-0.5985021740075089,4.958412907489703,-3.677999064273674,2.996327838217223,0.676803262899439,-10.824622450170622,-2.9613496786880185,0.5247923697001876,-1.4519518071951716,5.275763485652984,2.8331140367916947,13.449992684426077,3.075980825195781,-3.970483705776309,1.921785626685131,0.23133899209057993,1.7055494422380308,-5.016579021870795,-8.429682145690386,-4.577358457773528,1.0059653640688786,-8.290392107284816,-4.968825951030734,0.16062946604081066,2.891661539629927,-3.606192698395768,-1.8467320831197183,-4.8839232164885145,-2.568370461769066,1.3845103487296,-1.867239434840477,-4.368365844638366,1.410407509323148,-3.004944048828598,1.3021520541043121,-7.593480069086858,-2.904874292904281,4.336899515887761,-0.17497314335373643,-3.2853516561228844,-6.559916268139354,-1.08352726101644,-0.9776919035710827,-5.013154015982622,0.13901795612917725,-2.1275744382966453,-1.0323825183487731,-6.134397436304875,-1.1111280526616765,-0.6644194591442535,0.654803329586206,2.434669134912942,0.41768964350701926,2.5277138402142367,-9.614551871185268],\"yaxis\":\"y\",\"type\":\"scatter\"},{\"hovertemplate\":\"submitted_tumor_location=Regional Cutaneous or Subcutaneous Tissue (includes satellite and in-transit metastasis)<br>0=%{x}<br>1=%{y}<extra></extra>\",\"legendgroup\":\"Regional Cutaneous or Subcutaneous Tissue (includes satellite and in-transit metastasis)\",\"marker\":{\"color\":\"#ab63fa\",\"symbol\":\"circle\"},\"mode\":\"markers\",\"name\":\"Regional Cutaneous or Subcutaneous Tissue (includes satellite and in-transit metastasis)\",\"orientation\":\"v\",\"showlegend\":true,\"x\":[-6.429167315409873,-8.205669949837912,1.0424425489268834,-5.776190868477774,-11.066650455693969,4.806750794269363,-10.15464520818712,6.747832977877515,5.436098245119944,14.231233921964238,-12.100639158497748,-10.476596023308133,9.227106906210713,2.651838019711033,-14.565635583674393,8.81445147564657,6.543799889250285,-2.178030619593363,-5.108056745303861,6.604159075071403,-1.0796910077733108,-11.239948673666003,8.956193332686283,-4.522054783701243,-11.258669516885295,-10.439687739452445],\"xaxis\":\"x\",\"y\":[8.62707433541775,-8.023871629725335,-1.1998491783003518,-6.241925711084798,-10.184129625908254,0.30844468018407917,-7.36121409149735,1.3206236359056585,-1.8794425021696641,0.12185296191551745,-10.290985011239934,-8.210733935390795,-1.167721908070841,-1.6127987094977752,-11.831582865784489,9.805149083843787,-0.7133823758583254,-6.063940532637189,4.018227230065444,-1.1531864897559694,-6.1865050549981815,-6.209928797107383,-2.9936320813027604,-5.4860813835875755,-8.728424674315514,-7.618522529523564],\"yaxis\":\"y\",\"type\":\"scatter\"}],                        {\"template\":{\"data\":{\"histogram2dcontour\":[{\"type\":\"histogram2dcontour\",\"colorbar\":{\"outlinewidth\":0,\"ticks\":\"\"},\"colorscale\":[[0.0,\"#0d0887\"],[0.1111111111111111,\"#46039f\"],[0.2222222222222222,\"#7201a8\"],[0.3333333333333333,\"#9c179e\"],[0.4444444444444444,\"#bd3786\"],[0.5555555555555556,\"#d8576b\"],[0.6666666666666666,\"#ed7953\"],[0.7777777777777778,\"#fb9f3a\"],[0.8888888888888888,\"#fdca26\"],[1.0,\"#f0f921\"]]}],\"choropleth\":[{\"type\":\"choropleth\",\"colorbar\":{\"outlinewidth\":0,\"ticks\":\"\"}}],\"histogram2d\":[{\"type\":\"histogram2d\",\"colorbar\":{\"outlinewidth\":0,\"ticks\":\"\"},\"colorscale\":[[0.0,\"#0d0887\"],[0.1111111111111111,\"#46039f\"],[0.2222222222222222,\"#7201a8\"],[0.3333333333333333,\"#9c179e\"],[0.4444444444444444,\"#bd3786\"],[0.5555555555555556,\"#d8576b\"],[0.6666666666666666,\"#ed7953\"],[0.7777777777777778,\"#fb9f3a\"],[0.8888888888888888,\"#fdca26\"],[1.0,\"#f0f921\"]]}],\"heatmap\":[{\"type\":\"heatmap\",\"colorbar\":{\"outlinewidth\":0,\"ticks\":\"\"},\"colorscale\":[[0.0,\"#0d0887\"],[0.1111111111111111,\"#46039f\"],[0.2222222222222222,\"#7201a8\"],[0.3333333333333333,\"#9c179e\"],[0.4444444444444444,\"#bd3786\"],[0.5555555555555556,\"#d8576b\"],[0.6666666666666666,\"#ed7953\"],[0.7777777777777778,\"#fb9f3a\"],[0.8888888888888888,\"#fdca26\"],[1.0,\"#f0f921\"]]}],\"heatmapgl\":[{\"type\":\"heatmapgl\",\"colorbar\":{\"outlinewidth\":0,\"ticks\":\"\"},\"colorscale\":[[0.0,\"#0d0887\"],[0.1111111111111111,\"#46039f\"],[0.2222222222222222,\"#7201a8\"],[0.3333333333333333,\"#9c179e\"],[0.4444444444444444,\"#bd3786\"],[0.5555555555555556,\"#d8576b\"],[0.6666666666666666,\"#ed7953\"],[0.7777777777777778,\"#fb9f3a\"],[0.8888888888888888,\"#fdca26\"],[1.0,\"#f0f921\"]]}],\"contourcarpet\":[{\"type\":\"contourcarpet\",\"colorbar\":{\"outlinewidth\":0,\"ticks\":\"\"}}],\"contour\":[{\"type\":\"contour\",\"colorbar\":{\"outlinewidth\":0,\"ticks\":\"\"},\"colorscale\":[[0.0,\"#0d0887\"],[0.1111111111111111,\"#46039f\"],[0.2222222222222222,\"#7201a8\"],[0.3333333333333333,\"#9c179e\"],[0.4444444444444444,\"#bd3786\"],[0.5555555555555556,\"#d8576b\"],[0.6666666666666666,\"#ed7953\"],[0.7777777777777778,\"#fb9f3a\"],[0.8888888888888888,\"#fdca26\"],[1.0,\"#f0f921\"]]}],\"surface\":[{\"type\":\"surface\",\"colorbar\":{\"outlinewidth\":0,\"ticks\":\"\"},\"colorscale\":[[0.0,\"#0d0887\"],[0.1111111111111111,\"#46039f\"],[0.2222222222222222,\"#7201a8\"],[0.3333333333333333,\"#9c179e\"],[0.4444444444444444,\"#bd3786\"],[0.5555555555555556,\"#d8576b\"],[0.6666666666666666,\"#ed7953\"],[0.7777777777777778,\"#fb9f3a\"],[0.8888888888888888,\"#fdca26\"],[1.0,\"#f0f921\"]]}],\"mesh3d\":[{\"type\":\"mesh3d\",\"colorbar\":{\"outlinewidth\":0,\"ticks\":\"\"}}],\"scatter\":[{\"fillpattern\":{\"fillmode\":\"overlay\",\"size\":10,\"solidity\":0.2},\"type\":\"scatter\"}],\"parcoords\":[{\"type\":\"parcoords\",\"line\":{\"colorbar\":{\"outlinewidth\":0,\"ticks\":\"\"}}}],\"scatterpolargl\":[{\"type\":\"scatterpolargl\",\"marker\":{\"colorbar\":{\"outlinewidth\":0,\"ticks\":\"\"}}}],\"bar\":[{\"error_x\":{\"color\":\"#2a3f5f\"},\"error_y\":{\"color\":\"#2a3f5f\"},\"marker\":{\"line\":{\"color\":\"#E5ECF6\",\"width\":0.5},\"pattern\":{\"fillmode\":\"overlay\",\"size\":10,\"solidity\":0.2}},\"type\":\"bar\"}],\"scattergeo\":[{\"type\":\"scattergeo\",\"marker\":{\"colorbar\":{\"outlinewidth\":0,\"ticks\":\"\"}}}],\"scatterpolar\":[{\"type\":\"scatterpolar\",\"marker\":{\"colorbar\":{\"outlinewidth\":0,\"ticks\":\"\"}}}],\"histogram\":[{\"marker\":{\"pattern\":{\"fillmode\":\"overlay\",\"size\":10,\"solidity\":0.2}},\"type\":\"histogram\"}],\"scattergl\":[{\"type\":\"scattergl\",\"marker\":{\"colorbar\":{\"outlinewidth\":0,\"ticks\":\"\"}}}],\"scatter3d\":[{\"type\":\"scatter3d\",\"line\":{\"colorbar\":{\"outlinewidth\":0,\"ticks\":\"\"}},\"marker\":{\"colorbar\":{\"outlinewidth\":0,\"ticks\":\"\"}}}],\"scattermapbox\":[{\"type\":\"scattermapbox\",\"marker\":{\"colorbar\":{\"outlinewidth\":0,\"ticks\":\"\"}}}],\"scatterternary\":[{\"type\":\"scatterternary\",\"marker\":{\"colorbar\":{\"outlinewidth\":0,\"ticks\":\"\"}}}],\"scattercarpet\":[{\"type\":\"scattercarpet\",\"marker\":{\"colorbar\":{\"outlinewidth\":0,\"ticks\":\"\"}}}],\"carpet\":[{\"aaxis\":{\"endlinecolor\":\"#2a3f5f\",\"gridcolor\":\"white\",\"linecolor\":\"white\",\"minorgridcolor\":\"white\",\"startlinecolor\":\"#2a3f5f\"},\"baxis\":{\"endlinecolor\":\"#2a3f5f\",\"gridcolor\":\"white\",\"linecolor\":\"white\",\"minorgridcolor\":\"white\",\"startlinecolor\":\"#2a3f5f\"},\"type\":\"carpet\"}],\"table\":[{\"cells\":{\"fill\":{\"color\":\"#EBF0F8\"},\"line\":{\"color\":\"white\"}},\"header\":{\"fill\":{\"color\":\"#C8D4E3\"},\"line\":{\"color\":\"white\"}},\"type\":\"table\"}],\"barpolar\":[{\"marker\":{\"line\":{\"color\":\"#E5ECF6\",\"width\":0.5},\"pattern\":{\"fillmode\":\"overlay\",\"size\":10,\"solidity\":0.2}},\"type\":\"barpolar\"}],\"pie\":[{\"automargin\":true,\"type\":\"pie\"}]},\"layout\":{\"autotypenumbers\":\"strict\",\"colorway\":[\"#636efa\",\"#EF553B\",\"#00cc96\",\"#ab63fa\",\"#FFA15A\",\"#19d3f3\",\"#FF6692\",\"#B6E880\",\"#FF97FF\",\"#FECB52\"],\"font\":{\"color\":\"#2a3f5f\"},\"hovermode\":\"closest\",\"hoverlabel\":{\"align\":\"left\"},\"paper_bgcolor\":\"white\",\"plot_bgcolor\":\"#E5ECF6\",\"polar\":{\"bgcolor\":\"#E5ECF6\",\"angularaxis\":{\"gridcolor\":\"white\",\"linecolor\":\"white\",\"ticks\":\"\"},\"radialaxis\":{\"gridcolor\":\"white\",\"linecolor\":\"white\",\"ticks\":\"\"}},\"ternary\":{\"bgcolor\":\"#E5ECF6\",\"aaxis\":{\"gridcolor\":\"white\",\"linecolor\":\"white\",\"ticks\":\"\"},\"baxis\":{\"gridcolor\":\"white\",\"linecolor\":\"white\",\"ticks\":\"\"},\"caxis\":{\"gridcolor\":\"white\",\"linecolor\":\"white\",\"ticks\":\"\"}},\"coloraxis\":{\"colorbar\":{\"outlinewidth\":0,\"ticks\":\"\"}},\"colorscale\":{\"sequential\":[[0.0,\"#0d0887\"],[0.1111111111111111,\"#46039f\"],[0.2222222222222222,\"#7201a8\"],[0.3333333333333333,\"#9c179e\"],[0.4444444444444444,\"#bd3786\"],[0.5555555555555556,\"#d8576b\"],[0.6666666666666666,\"#ed7953\"],[0.7777777777777778,\"#fb9f3a\"],[0.8888888888888888,\"#fdca26\"],[1.0,\"#f0f921\"]],\"sequentialminus\":[[0.0,\"#0d0887\"],[0.1111111111111111,\"#46039f\"],[0.2222222222222222,\"#7201a8\"],[0.3333333333333333,\"#9c179e\"],[0.4444444444444444,\"#bd3786\"],[0.5555555555555556,\"#d8576b\"],[0.6666666666666666,\"#ed7953\"],[0.7777777777777778,\"#fb9f3a\"],[0.8888888888888888,\"#fdca26\"],[1.0,\"#f0f921\"]],\"diverging\":[[0,\"#8e0152\"],[0.1,\"#c51b7d\"],[0.2,\"#de77ae\"],[0.3,\"#f1b6da\"],[0.4,\"#fde0ef\"],[0.5,\"#f7f7f7\"],[0.6,\"#e6f5d0\"],[0.7,\"#b8e186\"],[0.8,\"#7fbc41\"],[0.9,\"#4d9221\"],[1,\"#276419\"]]},\"xaxis\":{\"gridcolor\":\"white\",\"linecolor\":\"white\",\"ticks\":\"\",\"title\":{\"standoff\":15},\"zerolinecolor\":\"white\",\"automargin\":true,\"zerolinewidth\":2},\"yaxis\":{\"gridcolor\":\"white\",\"linecolor\":\"white\",\"ticks\":\"\",\"title\":{\"standoff\":15},\"zerolinecolor\":\"white\",\"automargin\":true,\"zerolinewidth\":2},\"scene\":{\"xaxis\":{\"backgroundcolor\":\"#E5ECF6\",\"gridcolor\":\"white\",\"linecolor\":\"white\",\"showbackground\":true,\"ticks\":\"\",\"zerolinecolor\":\"white\",\"gridwidth\":2},\"yaxis\":{\"backgroundcolor\":\"#E5ECF6\",\"gridcolor\":\"white\",\"linecolor\":\"white\",\"showbackground\":true,\"ticks\":\"\",\"zerolinecolor\":\"white\",\"gridwidth\":2},\"zaxis\":{\"backgroundcolor\":\"#E5ECF6\",\"gridcolor\":\"white\",\"linecolor\":\"white\",\"showbackground\":true,\"ticks\":\"\",\"zerolinecolor\":\"white\",\"gridwidth\":2}},\"shapedefaults\":{\"line\":{\"color\":\"#2a3f5f\"}},\"annotationdefaults\":{\"arrowcolor\":\"#2a3f5f\",\"arrowhead\":0,\"arrowwidth\":1},\"geo\":{\"bgcolor\":\"white\",\"landcolor\":\"#E5ECF6\",\"subunitcolor\":\"white\",\"showland\":true,\"showlakes\":true,\"lakecolor\":\"white\"},\"title\":{\"x\":0.05},\"mapbox\":{\"style\":\"light\"}}},\"xaxis\":{\"anchor\":\"y\",\"domain\":[0.0,1.0],\"title\":{\"text\":\"0\"}},\"yaxis\":{\"anchor\":\"x\",\"domain\":[0.0,1.0],\"title\":{\"text\":\"1\"}},\"legend\":{\"title\":{\"text\":\"submitted_tumor_location\"},\"tracegroupgap\":0,\"orientation\":\"h\",\"yanchor\":\"bottom\",\"y\":1.02,\"xanchor\":\"right\",\"x\":1},\"margin\":{\"t\":60}},                        {\"responsive\": true}                    ).then(function(){\n",
       "                            \n",
       "var gd = document.getElementById('a4d1561d-f916-45ad-a89b-e2ccc292f656');\n",
       "var x = new MutationObserver(function (mutations, observer) {{\n",
       "        var display = window.getComputedStyle(gd).display;\n",
       "        if (!display || display === 'none') {{\n",
       "            console.log([gd, 'removed!']);\n",
       "            Plotly.purge(gd);\n",
       "            observer.disconnect();\n",
       "        }}\n",
       "}});\n",
       "\n",
       "// Listen for the removal of the full notebook cells\n",
       "var notebookContainer = gd.closest('#notebook-container');\n",
       "if (notebookContainer) {{\n",
       "    x.observe(notebookContainer, {childList: true});\n",
       "}}\n",
       "\n",
       "// Listen for the clearing of the current output cell\n",
       "var outputEl = gd.closest('.output');\n",
       "if (outputEl) {{\n",
       "    x.observe(outputEl, {childList: true});\n",
       "}}\n",
       "\n",
       "                        })                };                });            </script>        </div>"
      ]
     },
     "metadata": {},
     "output_type": "display_data"
    }
   ],
   "source": [
    "principal_df2 = pd.concat([principal_df,clinicalData],axis = 1)\n",
    "fig = px.scatter(principal_df2, x=0, y=1, color=\"submitted_tumor_location\")\n",
    "fig.update_layout(legend=dict(\n",
    "    orientation=\"h\",\n",
    "    yanchor=\"bottom\",\n",
    "    y=1.02,\n",
    "    xanchor=\"right\",\n",
    "    x=1\n",
    "))\n",
    "fig.show()"
   ]
  },
  {
   "cell_type": "markdown",
   "metadata": {},
   "source": [
    "## Question 2 : t-SNE et UMAP à partir des composantes calculées de l'ACP\n",
    "\n",
    "les algoritmes t-SNE et UMAP sont deux méthodes de réduction de dimension non linéaires qui sont couramment utilisées pour visualiser les différentes composantes de l'ACP en 2 ou 3 dimensions.\n",
    "\n",
    "1) Réalisez un t-SNE avec 2 dimensions à partir de 10 composantes principales de l'ACP calculées. Le choix d'utiliser 10 composantes de l'ACP s'appuie sur la chute de variance observée (elbow plot) mais reste lui aussi très arbitraire."
   ]
  },
  {
   "cell_type": "code",
   "execution_count": 104,
   "metadata": {},
   "outputs": [
    {
     "name": "stderr",
     "output_type": "stream",
     "text": [
      "/home/leonard/bin/miniconda3/envs/seacells/lib/python3.8/site-packages/sklearn/manifold/_t_sne.py:795: FutureWarning:\n",
      "\n",
      "The default initialization in TSNE will change from 'random' to 'pca' in 1.2.\n",
      "\n",
      "/home/leonard/bin/miniconda3/envs/seacells/lib/python3.8/site-packages/sklearn/manifold/_t_sne.py:805: FutureWarning:\n",
      "\n",
      "The default learning rate in TSNE will change from 200.0 to 'auto' in 1.2.\n",
      "\n"
     ]
    },
    {
     "data": {
      "text/html": [
       "<div>\n",
       "<style scoped>\n",
       "    .dataframe tbody tr th:only-of-type {\n",
       "        vertical-align: middle;\n",
       "    }\n",
       "\n",
       "    .dataframe tbody tr th {\n",
       "        vertical-align: top;\n",
       "    }\n",
       "\n",
       "    .dataframe thead th {\n",
       "        text-align: right;\n",
       "    }\n",
       "</style>\n",
       "<table border=\"1\" class=\"dataframe\">\n",
       "  <thead>\n",
       "    <tr style=\"text-align: right;\">\n",
       "      <th></th>\n",
       "      <th>tsne comp. 1</th>\n",
       "      <th>tsne comp. 2</th>\n",
       "    </tr>\n",
       "  </thead>\n",
       "  <tbody>\n",
       "    <tr>\n",
       "      <th>TCGA-DA-A1IA-06A</th>\n",
       "      <td>6.167206</td>\n",
       "      <td>5.916380</td>\n",
       "    </tr>\n",
       "    <tr>\n",
       "      <th>TCGA-XV-A9VZ-01A</th>\n",
       "      <td>2.052893</td>\n",
       "      <td>11.310045</td>\n",
       "    </tr>\n",
       "    <tr>\n",
       "      <th>TCGA-BF-A5EP-01A</th>\n",
       "      <td>6.657155</td>\n",
       "      <td>3.822048</td>\n",
       "    </tr>\n",
       "    <tr>\n",
       "      <th>TCGA-EE-A3AF-06A</th>\n",
       "      <td>2.515359</td>\n",
       "      <td>3.531321</td>\n",
       "    </tr>\n",
       "    <tr>\n",
       "      <th>TCGA-D9-A3Z3-06A</th>\n",
       "      <td>-4.117940</td>\n",
       "      <td>-7.342070</td>\n",
       "    </tr>\n",
       "    <tr>\n",
       "      <th>...</th>\n",
       "      <td>...</td>\n",
       "      <td>...</td>\n",
       "    </tr>\n",
       "    <tr>\n",
       "      <th>TCGA-D3-A8GN-06A</th>\n",
       "      <td>-7.432470</td>\n",
       "      <td>-6.665917</td>\n",
       "    </tr>\n",
       "    <tr>\n",
       "      <th>TCGA-D3-A1Q1-06A</th>\n",
       "      <td>8.994388</td>\n",
       "      <td>3.185796</td>\n",
       "    </tr>\n",
       "    <tr>\n",
       "      <th>TCGA-FS-A1ZF-06A</th>\n",
       "      <td>8.597097</td>\n",
       "      <td>0.870094</td>\n",
       "    </tr>\n",
       "    <tr>\n",
       "      <th>TCGA-EB-A4XL-01A</th>\n",
       "      <td>-1.589879</td>\n",
       "      <td>10.450930</td>\n",
       "    </tr>\n",
       "    <tr>\n",
       "      <th>TCGA-EB-A551-01A</th>\n",
       "      <td>-7.481739</td>\n",
       "      <td>-4.030681</td>\n",
       "    </tr>\n",
       "  </tbody>\n",
       "</table>\n",
       "<p>179 rows × 2 columns</p>\n",
       "</div>"
      ],
      "text/plain": [
       "                  tsne comp. 1  tsne comp. 2\n",
       "TCGA-DA-A1IA-06A      6.167206      5.916380\n",
       "TCGA-XV-A9VZ-01A      2.052893     11.310045\n",
       "TCGA-BF-A5EP-01A      6.657155      3.822048\n",
       "TCGA-EE-A3AF-06A      2.515359      3.531321\n",
       "TCGA-D9-A3Z3-06A     -4.117940     -7.342070\n",
       "...                        ...           ...\n",
       "TCGA-D3-A8GN-06A     -7.432470     -6.665917\n",
       "TCGA-D3-A1Q1-06A      8.994388      3.185796\n",
       "TCGA-FS-A1ZF-06A      8.597097      0.870094\n",
       "TCGA-EB-A4XL-01A     -1.589879     10.450930\n",
       "TCGA-EB-A551-01A     -7.481739     -4.030681\n",
       "\n",
       "[179 rows x 2 columns]"
      ]
     },
     "execution_count": 104,
     "metadata": {},
     "output_type": "execute_result"
    }
   ],
   "source": [
    "nPCsecRed = 10\n",
    "# t-SNE\n",
    "tsne = TSNE(n_components=2)\n",
    "X_tsne = tsne.fit_transform(principal_df.iloc[:,0:nPCsecRed -1],)\n",
    "\n",
    "# Convert to data frame\n",
    "tsne_df = pd.DataFrame(data = X_tsne, columns = ['tsne comp. 1', 'tsne comp. 2'])\n",
    "tsne_df.index = X.index\n",
    "tsne_df"
   ]
  },
  {
   "cell_type": "markdown",
   "metadata": {},
   "source": [
    "2) Comme précedemment, afficher les patientes dans cet espace et colorer les points selon le type d'echantillons et la localisation de la tumeur"
   ]
  },
  {
   "cell_type": "code",
   "execution_count": 105,
   "metadata": {},
   "outputs": [
    {
     "data": {
      "application/vnd.plotly.v1+json": {
       "config": {
        "plotlyServerURL": "https://plot.ly"
       },
       "data": [
        {
         "hovertemplate": "sample_type.samples=Metastatic<br>tsne comp. 1=%{x}<br>tsne comp. 2=%{y}<extra></extra>",
         "legendgroup": "Metastatic",
         "marker": {
          "color": "#636efa",
          "symbol": "circle"
         },
         "mode": "markers",
         "name": "Metastatic",
         "orientation": "v",
         "showlegend": true,
         "type": "scatter",
         "x": [
          6.167206287384033,
          2.5153591632843018,
          -4.117940425872803,
          4.166428565979004,
          -6.6675944328308105,
          -0.3367822468280792,
          -0.7886056303977966,
          0.8851642608642578,
          9.400193214416504,
          -5.759581089019775,
          -2.401843547821045,
          -6.125544548034668,
          -7.756892204284668,
          8.616268157958984,
          -0.3143644630908966,
          0.7577518820762634,
          -4.2421979904174805,
          -5.151711463928223,
          5.091406345367432,
          0.8872299790382385,
          -2.7357475757598877,
          5.245632171630859,
          -5.536520481109619,
          -4.835102558135986,
          -3.941584348678589,
          2.4491114616394043,
          7.912639617919922,
          0.5432729125022888,
          -5.984466552734375,
          1.5312923192977905,
          0.5798898935317993,
          1.9898854494094849,
          3.093763589859009,
          -4.029999732971191,
          10.124510765075684,
          -0.29517287015914917,
          -2.9259448051452637,
          4.956640720367432,
          -1.7357749938964844,
          1.8100069761276245,
          0.7785422205924988,
          -1.484305500984192,
          7.6940717697143555,
          -7.036020278930664,
          2.7569868564605713,
          -5.7927937507629395,
          -2.315730094909668,
          -4.284723281860352,
          9.078117370605469,
          0.6763444542884827,
          2.4212145805358887,
          5.4824604988098145,
          7.978522777557373,
          3.046809673309326,
          3.8141322135925293,
          -0.7558066248893738,
          -2.959580421447754,
          5.5658674240112305,
          -5.970555305480957,
          -4.602126121520996,
          9.291728019714355,
          1.8510900735855103,
          -3.638309955596924,
          -1.256353497505188,
          -5.208333492279053,
          -4.847620010375977,
          -8.738992691040039,
          3.6325833797454834,
          -5.857543468475342,
          7.794604778289795,
          6.4585280418396,
          6.3824782371521,
          0.3576718866825104,
          -0.6735230088233948,
          -4.589653015136719,
          -3.705759286880493,
          -5.776492118835449,
          1.5889103412628174,
          -7.083118438720703,
          1.7241860628128052,
          1.3568471670150757,
          8.510117530822754,
          9.652891159057617,
          0.6381943225860596,
          -8.396138191223145,
          7.584500789642334,
          2.0776450634002686,
          4.174684047698975,
          4.473799228668213,
          -3.807535409927368,
          2.4655942916870117,
          -3.120387315750122,
          4.176454067230225,
          0.5705205202102661,
          -4.324408531188965,
          -2.0231966972351074,
          -2.7019646167755127,
          2.307255983352661,
          -0.7423691153526306,
          -4.187766075134277,
          9.60629940032959,
          6.048788547515869,
          -0.23216554522514343,
          -5.390178203582764,
          0.2156476080417633,
          -5.481410026550293,
          6.097912311553955,
          8.68018913269043,
          -0.026430457830429077,
          -4.343984127044678,
          0.6846802830696106,
          -0.7627183198928833,
          0.06434983760118484,
          -8.274240493774414,
          7.747530460357666,
          -3.8174474239349365,
          1.5964288711547852,
          5.619956970214844,
          -2.526822090148926,
          2.1220297813415527,
          -7.480599403381348,
          8.162298202514648,
          -7.031173229217529,
          9.137941360473633,
          -0.862776517868042,
          -0.6095433235168457,
          4.358630657196045,
          -2.2503976821899414,
          6.518495082855225,
          -3.148533344268799,
          -2.6801674365997314,
          -3.3113293647766113,
          5.540701866149902,
          7.915245532989502,
          -7.432470321655273,
          8.99438762664795,
          8.597097396850586
         ],
         "xaxis": "x",
         "y": [
          5.916380405426025,
          3.5313210487365723,
          -7.342069625854492,
          4.495408058166504,
          -6.394188404083252,
          -9.128349304199219,
          7.899552822113037,
          2.3430285453796387,
          0.6429810523986816,
          -5.119271755218506,
          2.2879912853240967,
          -6.978335380554199,
          -8.450304985046387,
          0.5451703071594238,
          -2.798368453979492,
          -9.23414421081543,
          -0.13061079382896423,
          -6.19942569732666,
          6.182517051696777,
          -1.6257929801940918,
          -4.999142646789551,
          0.2941741943359375,
          -0.3767881393432617,
          -1.7322916984558105,
          -2.9147183895111084,
          -2.5031375885009766,
          -3.9268155097961426,
          0.8563945889472961,
          -5.6615447998046875,
          -6.005719184875488,
          -1.4987064599990845,
          9.234322547912598,
          -0.014432577416300774,
          -6.194422721862793,
          0.07980489730834961,
          9.174121856689453,
          -10.094925880432129,
          2.8688783645629883,
          -2.8420987129211426,
          0.9236467480659485,
          -4.587413787841797,
          -4.317360877990723,
          -2.938035011291504,
          -3.422227382659912,
          2.790192127227783,
          -7.751374244689941,
          -6.648987293243408,
          -1.2395448684692383,
          -0.058961957693099976,
          -7.775880336761475,
          -5.672657012939453,
          3.2844042778015137,
          0.9054369926452637,
          -5.277256488800049,
          1.4688661098480225,
          -8.148518562316895,
          -10.003372192382812,
          4.375574588775635,
          -8.20219898223877,
          -9.47038459777832,
          2.7705655097961426,
          -8.753933906555176,
          -1.9162583351135254,
          -2.9984564781188965,
          -5.922152519226074,
          -3.496485710144043,
          -4.834773063659668,
          -7.148007869720459,
          -9.048325538635254,
          -1.7342606782913208,
          4.808389663696289,
          1.3926066160202026,
          3.0573408603668213,
          5.290088653564453,
          -4.5080461502075195,
          -0.16440388560295105,
          -4.294099807739258,
          5.596960544586182,
          -7.421375274658203,
          -4.00460958480835,
          -1.4911408424377441,
          -1.084580659866333,
          1.4002180099487305,
          0.7761155962944031,
          -6.976046085357666,
          -3.5289008617401123,
          0.49603748321533203,
          4.989303112030029,
          6.807631969451904,
          -6.515753269195557,
          -7.541360855102539,
          0.45346125960350037,
          -3.524925708770752,
          -3.5168209075927734,
          -5.438067436218262,
          -1.1640623807907104,
          -11.13884449005127,
          -5.786739826202393,
          -0.725856363773346,
          -1.9522004127502441,
          -1.2863880395889282,
          -5.625061988830566,
          6.966869831085205,
          -2.4567153453826904,
          -8.819734573364258,
          -8.423898696899414,
          -4.785025596618652,
          1.7551043033599854,
          2.7941060066223145,
          -8.325899124145508,
          -9.016201972961426,
          -4.282763957977295,
          0.08243520557880402,
          -6.480281352996826,
          -4.140481948852539,
          1.7574121952056885,
          -2.9256396293640137,
          4.963028430938721,
          -7.301553726196289,
          -7.603637218475342,
          -5.125560760498047,
          3.536292552947998,
          -4.394009113311768,
          -1.887491226196289,
          3.3215792179107666,
          -8.686422348022461,
          5.783824920654297,
          -8.033407211303711,
          -4.724430561065674,
          -3.6559910774230957,
          -5.714543342590332,
          -6.039608001708984,
          1.9756425619125366,
          1.9591457843780518,
          -6.66591739654541,
          3.185796022415161,
          0.8700942993164062
         ],
         "yaxis": "y"
        },
        {
         "hovertemplate": "sample_type.samples=Primary Tumor<br>tsne comp. 1=%{x}<br>tsne comp. 2=%{y}<extra></extra>",
         "legendgroup": "Primary Tumor",
         "marker": {
          "color": "#EF553B",
          "symbol": "circle"
         },
         "mode": "markers",
         "name": "Primary Tumor",
         "orientation": "v",
         "showlegend": true,
         "type": "scatter",
         "x": [
          2.0528926849365234,
          6.657154560089111,
          1.0710511207580566,
          -7.727243423461914,
          -0.9721769094467163,
          7.448986530303955,
          3.0673654079437256,
          3.193890333175659,
          0.7205762267112732,
          7.229975700378418,
          -0.2788273096084595,
          4.028321743011475,
          1.8270916938781738,
          -0.19998735189437866,
          -4.761561870574951,
          5.26736307144165,
          3.526198387145996,
          8.58771800994873,
          1.6697289943695068,
          -3.511324882507324,
          7.098930835723877,
          -0.33356335759162903,
          4.683302879333496,
          -0.8311859369277954,
          -1.2344955205917358,
          0.8952512145042419,
          -0.6687635779380798,
          -1.7126953601837158,
          -0.37991660833358765,
          -1.6910747289657593,
          -1.805130124092102,
          -0.06555565446615219,
          1.6529088020324707,
          0.5261075496673584,
          2.065586566925049,
          0.4711512625217438,
          -3.654008626937866,
          -1.4260175228118896,
          5.741659164428711,
          4.9614973068237305,
          -1.5898786783218384,
          -7.481739044189453
         ],
         "xaxis": "x",
         "y": [
          11.31004524230957,
          3.8220481872558594,
          7.037113666534424,
          -8.048455238342285,
          10.815911293029785,
          0.1755387932062149,
          5.313719272613525,
          4.1893744468688965,
          3.8857221603393555,
          3.0547261238098145,
          12.210503578186035,
          7.0855231285095215,
          3.751568555831909,
          3.6424012184143066,
          -1.3884806632995605,
          5.4172587394714355,
          3.2185113430023193,
          -0.23834386467933655,
          10.33602523803711,
          3.627856492996216,
          5.973058223724365,
          10.366264343261719,
          3.476045846939087,
          11.790186882019043,
          -0.5080143809318542,
          11.774327278137207,
          12.59912395477295,
          11.360343933105469,
          11.06191349029541,
          10.021259307861328,
          9.158956527709961,
          8.451419830322266,
          10.46263313293457,
          11.4548921585083,
          6.786531925201416,
          10.893630027770996,
          3.851201057434082,
          11.691107749938965,
          2.6234941482543945,
          4.359370231628418,
          10.450929641723633,
          -4.030681133270264
         ],
         "yaxis": "y"
        }
       ],
       "layout": {
        "legend": {
         "title": {
          "text": "sample_type.samples"
         },
         "tracegroupgap": 0
        },
        "margin": {
         "t": 60
        },
        "template": {
         "data": {
          "bar": [
           {
            "error_x": {
             "color": "#2a3f5f"
            },
            "error_y": {
             "color": "#2a3f5f"
            },
            "marker": {
             "line": {
              "color": "#E5ECF6",
              "width": 0.5
             },
             "pattern": {
              "fillmode": "overlay",
              "size": 10,
              "solidity": 0.2
             }
            },
            "type": "bar"
           }
          ],
          "barpolar": [
           {
            "marker": {
             "line": {
              "color": "#E5ECF6",
              "width": 0.5
             },
             "pattern": {
              "fillmode": "overlay",
              "size": 10,
              "solidity": 0.2
             }
            },
            "type": "barpolar"
           }
          ],
          "carpet": [
           {
            "aaxis": {
             "endlinecolor": "#2a3f5f",
             "gridcolor": "white",
             "linecolor": "white",
             "minorgridcolor": "white",
             "startlinecolor": "#2a3f5f"
            },
            "baxis": {
             "endlinecolor": "#2a3f5f",
             "gridcolor": "white",
             "linecolor": "white",
             "minorgridcolor": "white",
             "startlinecolor": "#2a3f5f"
            },
            "type": "carpet"
           }
          ],
          "choropleth": [
           {
            "colorbar": {
             "outlinewidth": 0,
             "ticks": ""
            },
            "type": "choropleth"
           }
          ],
          "contour": [
           {
            "colorbar": {
             "outlinewidth": 0,
             "ticks": ""
            },
            "colorscale": [
             [
              0,
              "#0d0887"
             ],
             [
              0.1111111111111111,
              "#46039f"
             ],
             [
              0.2222222222222222,
              "#7201a8"
             ],
             [
              0.3333333333333333,
              "#9c179e"
             ],
             [
              0.4444444444444444,
              "#bd3786"
             ],
             [
              0.5555555555555556,
              "#d8576b"
             ],
             [
              0.6666666666666666,
              "#ed7953"
             ],
             [
              0.7777777777777778,
              "#fb9f3a"
             ],
             [
              0.8888888888888888,
              "#fdca26"
             ],
             [
              1,
              "#f0f921"
             ]
            ],
            "type": "contour"
           }
          ],
          "contourcarpet": [
           {
            "colorbar": {
             "outlinewidth": 0,
             "ticks": ""
            },
            "type": "contourcarpet"
           }
          ],
          "heatmap": [
           {
            "colorbar": {
             "outlinewidth": 0,
             "ticks": ""
            },
            "colorscale": [
             [
              0,
              "#0d0887"
             ],
             [
              0.1111111111111111,
              "#46039f"
             ],
             [
              0.2222222222222222,
              "#7201a8"
             ],
             [
              0.3333333333333333,
              "#9c179e"
             ],
             [
              0.4444444444444444,
              "#bd3786"
             ],
             [
              0.5555555555555556,
              "#d8576b"
             ],
             [
              0.6666666666666666,
              "#ed7953"
             ],
             [
              0.7777777777777778,
              "#fb9f3a"
             ],
             [
              0.8888888888888888,
              "#fdca26"
             ],
             [
              1,
              "#f0f921"
             ]
            ],
            "type": "heatmap"
           }
          ],
          "heatmapgl": [
           {
            "colorbar": {
             "outlinewidth": 0,
             "ticks": ""
            },
            "colorscale": [
             [
              0,
              "#0d0887"
             ],
             [
              0.1111111111111111,
              "#46039f"
             ],
             [
              0.2222222222222222,
              "#7201a8"
             ],
             [
              0.3333333333333333,
              "#9c179e"
             ],
             [
              0.4444444444444444,
              "#bd3786"
             ],
             [
              0.5555555555555556,
              "#d8576b"
             ],
             [
              0.6666666666666666,
              "#ed7953"
             ],
             [
              0.7777777777777778,
              "#fb9f3a"
             ],
             [
              0.8888888888888888,
              "#fdca26"
             ],
             [
              1,
              "#f0f921"
             ]
            ],
            "type": "heatmapgl"
           }
          ],
          "histogram": [
           {
            "marker": {
             "pattern": {
              "fillmode": "overlay",
              "size": 10,
              "solidity": 0.2
             }
            },
            "type": "histogram"
           }
          ],
          "histogram2d": [
           {
            "colorbar": {
             "outlinewidth": 0,
             "ticks": ""
            },
            "colorscale": [
             [
              0,
              "#0d0887"
             ],
             [
              0.1111111111111111,
              "#46039f"
             ],
             [
              0.2222222222222222,
              "#7201a8"
             ],
             [
              0.3333333333333333,
              "#9c179e"
             ],
             [
              0.4444444444444444,
              "#bd3786"
             ],
             [
              0.5555555555555556,
              "#d8576b"
             ],
             [
              0.6666666666666666,
              "#ed7953"
             ],
             [
              0.7777777777777778,
              "#fb9f3a"
             ],
             [
              0.8888888888888888,
              "#fdca26"
             ],
             [
              1,
              "#f0f921"
             ]
            ],
            "type": "histogram2d"
           }
          ],
          "histogram2dcontour": [
           {
            "colorbar": {
             "outlinewidth": 0,
             "ticks": ""
            },
            "colorscale": [
             [
              0,
              "#0d0887"
             ],
             [
              0.1111111111111111,
              "#46039f"
             ],
             [
              0.2222222222222222,
              "#7201a8"
             ],
             [
              0.3333333333333333,
              "#9c179e"
             ],
             [
              0.4444444444444444,
              "#bd3786"
             ],
             [
              0.5555555555555556,
              "#d8576b"
             ],
             [
              0.6666666666666666,
              "#ed7953"
             ],
             [
              0.7777777777777778,
              "#fb9f3a"
             ],
             [
              0.8888888888888888,
              "#fdca26"
             ],
             [
              1,
              "#f0f921"
             ]
            ],
            "type": "histogram2dcontour"
           }
          ],
          "mesh3d": [
           {
            "colorbar": {
             "outlinewidth": 0,
             "ticks": ""
            },
            "type": "mesh3d"
           }
          ],
          "parcoords": [
           {
            "line": {
             "colorbar": {
              "outlinewidth": 0,
              "ticks": ""
             }
            },
            "type": "parcoords"
           }
          ],
          "pie": [
           {
            "automargin": true,
            "type": "pie"
           }
          ],
          "scatter": [
           {
            "fillpattern": {
             "fillmode": "overlay",
             "size": 10,
             "solidity": 0.2
            },
            "type": "scatter"
           }
          ],
          "scatter3d": [
           {
            "line": {
             "colorbar": {
              "outlinewidth": 0,
              "ticks": ""
             }
            },
            "marker": {
             "colorbar": {
              "outlinewidth": 0,
              "ticks": ""
             }
            },
            "type": "scatter3d"
           }
          ],
          "scattercarpet": [
           {
            "marker": {
             "colorbar": {
              "outlinewidth": 0,
              "ticks": ""
             }
            },
            "type": "scattercarpet"
           }
          ],
          "scattergeo": [
           {
            "marker": {
             "colorbar": {
              "outlinewidth": 0,
              "ticks": ""
             }
            },
            "type": "scattergeo"
           }
          ],
          "scattergl": [
           {
            "marker": {
             "colorbar": {
              "outlinewidth": 0,
              "ticks": ""
             }
            },
            "type": "scattergl"
           }
          ],
          "scattermapbox": [
           {
            "marker": {
             "colorbar": {
              "outlinewidth": 0,
              "ticks": ""
             }
            },
            "type": "scattermapbox"
           }
          ],
          "scatterpolar": [
           {
            "marker": {
             "colorbar": {
              "outlinewidth": 0,
              "ticks": ""
             }
            },
            "type": "scatterpolar"
           }
          ],
          "scatterpolargl": [
           {
            "marker": {
             "colorbar": {
              "outlinewidth": 0,
              "ticks": ""
             }
            },
            "type": "scatterpolargl"
           }
          ],
          "scatterternary": [
           {
            "marker": {
             "colorbar": {
              "outlinewidth": 0,
              "ticks": ""
             }
            },
            "type": "scatterternary"
           }
          ],
          "surface": [
           {
            "colorbar": {
             "outlinewidth": 0,
             "ticks": ""
            },
            "colorscale": [
             [
              0,
              "#0d0887"
             ],
             [
              0.1111111111111111,
              "#46039f"
             ],
             [
              0.2222222222222222,
              "#7201a8"
             ],
             [
              0.3333333333333333,
              "#9c179e"
             ],
             [
              0.4444444444444444,
              "#bd3786"
             ],
             [
              0.5555555555555556,
              "#d8576b"
             ],
             [
              0.6666666666666666,
              "#ed7953"
             ],
             [
              0.7777777777777778,
              "#fb9f3a"
             ],
             [
              0.8888888888888888,
              "#fdca26"
             ],
             [
              1,
              "#f0f921"
             ]
            ],
            "type": "surface"
           }
          ],
          "table": [
           {
            "cells": {
             "fill": {
              "color": "#EBF0F8"
             },
             "line": {
              "color": "white"
             }
            },
            "header": {
             "fill": {
              "color": "#C8D4E3"
             },
             "line": {
              "color": "white"
             }
            },
            "type": "table"
           }
          ]
         },
         "layout": {
          "annotationdefaults": {
           "arrowcolor": "#2a3f5f",
           "arrowhead": 0,
           "arrowwidth": 1
          },
          "autotypenumbers": "strict",
          "coloraxis": {
           "colorbar": {
            "outlinewidth": 0,
            "ticks": ""
           }
          },
          "colorscale": {
           "diverging": [
            [
             0,
             "#8e0152"
            ],
            [
             0.1,
             "#c51b7d"
            ],
            [
             0.2,
             "#de77ae"
            ],
            [
             0.3,
             "#f1b6da"
            ],
            [
             0.4,
             "#fde0ef"
            ],
            [
             0.5,
             "#f7f7f7"
            ],
            [
             0.6,
             "#e6f5d0"
            ],
            [
             0.7,
             "#b8e186"
            ],
            [
             0.8,
             "#7fbc41"
            ],
            [
             0.9,
             "#4d9221"
            ],
            [
             1,
             "#276419"
            ]
           ],
           "sequential": [
            [
             0,
             "#0d0887"
            ],
            [
             0.1111111111111111,
             "#46039f"
            ],
            [
             0.2222222222222222,
             "#7201a8"
            ],
            [
             0.3333333333333333,
             "#9c179e"
            ],
            [
             0.4444444444444444,
             "#bd3786"
            ],
            [
             0.5555555555555556,
             "#d8576b"
            ],
            [
             0.6666666666666666,
             "#ed7953"
            ],
            [
             0.7777777777777778,
             "#fb9f3a"
            ],
            [
             0.8888888888888888,
             "#fdca26"
            ],
            [
             1,
             "#f0f921"
            ]
           ],
           "sequentialminus": [
            [
             0,
             "#0d0887"
            ],
            [
             0.1111111111111111,
             "#46039f"
            ],
            [
             0.2222222222222222,
             "#7201a8"
            ],
            [
             0.3333333333333333,
             "#9c179e"
            ],
            [
             0.4444444444444444,
             "#bd3786"
            ],
            [
             0.5555555555555556,
             "#d8576b"
            ],
            [
             0.6666666666666666,
             "#ed7953"
            ],
            [
             0.7777777777777778,
             "#fb9f3a"
            ],
            [
             0.8888888888888888,
             "#fdca26"
            ],
            [
             1,
             "#f0f921"
            ]
           ]
          },
          "colorway": [
           "#636efa",
           "#EF553B",
           "#00cc96",
           "#ab63fa",
           "#FFA15A",
           "#19d3f3",
           "#FF6692",
           "#B6E880",
           "#FF97FF",
           "#FECB52"
          ],
          "font": {
           "color": "#2a3f5f"
          },
          "geo": {
           "bgcolor": "white",
           "lakecolor": "white",
           "landcolor": "#E5ECF6",
           "showlakes": true,
           "showland": true,
           "subunitcolor": "white"
          },
          "hoverlabel": {
           "align": "left"
          },
          "hovermode": "closest",
          "mapbox": {
           "style": "light"
          },
          "paper_bgcolor": "white",
          "plot_bgcolor": "#E5ECF6",
          "polar": {
           "angularaxis": {
            "gridcolor": "white",
            "linecolor": "white",
            "ticks": ""
           },
           "bgcolor": "#E5ECF6",
           "radialaxis": {
            "gridcolor": "white",
            "linecolor": "white",
            "ticks": ""
           }
          },
          "scene": {
           "xaxis": {
            "backgroundcolor": "#E5ECF6",
            "gridcolor": "white",
            "gridwidth": 2,
            "linecolor": "white",
            "showbackground": true,
            "ticks": "",
            "zerolinecolor": "white"
           },
           "yaxis": {
            "backgroundcolor": "#E5ECF6",
            "gridcolor": "white",
            "gridwidth": 2,
            "linecolor": "white",
            "showbackground": true,
            "ticks": "",
            "zerolinecolor": "white"
           },
           "zaxis": {
            "backgroundcolor": "#E5ECF6",
            "gridcolor": "white",
            "gridwidth": 2,
            "linecolor": "white",
            "showbackground": true,
            "ticks": "",
            "zerolinecolor": "white"
           }
          },
          "shapedefaults": {
           "line": {
            "color": "#2a3f5f"
           }
          },
          "ternary": {
           "aaxis": {
            "gridcolor": "white",
            "linecolor": "white",
            "ticks": ""
           },
           "baxis": {
            "gridcolor": "white",
            "linecolor": "white",
            "ticks": ""
           },
           "bgcolor": "#E5ECF6",
           "caxis": {
            "gridcolor": "white",
            "linecolor": "white",
            "ticks": ""
           }
          },
          "title": {
           "x": 0.05
          },
          "xaxis": {
           "automargin": true,
           "gridcolor": "white",
           "linecolor": "white",
           "ticks": "",
           "title": {
            "standoff": 15
           },
           "zerolinecolor": "white",
           "zerolinewidth": 2
          },
          "yaxis": {
           "automargin": true,
           "gridcolor": "white",
           "linecolor": "white",
           "ticks": "",
           "title": {
            "standoff": 15
           },
           "zerolinecolor": "white",
           "zerolinewidth": 2
          }
         }
        },
        "xaxis": {
         "anchor": "y",
         "domain": [
          0,
          1
         ],
         "title": {
          "text": "tsne comp. 1"
         }
        },
        "yaxis": {
         "anchor": "x",
         "domain": [
          0,
          1
         ],
         "title": {
          "text": "tsne comp. 2"
         }
        }
       }
      },
      "text/html": [
       "<div>                            <div id=\"37e41bb5-f8ac-4646-b002-29b03df1f25f\" class=\"plotly-graph-div\" style=\"height:525px; width:100%;\"></div>            <script type=\"text/javascript\">                require([\"plotly\"], function(Plotly) {                    window.PLOTLYENV=window.PLOTLYENV || {};                                    if (document.getElementById(\"37e41bb5-f8ac-4646-b002-29b03df1f25f\")) {                    Plotly.newPlot(                        \"37e41bb5-f8ac-4646-b002-29b03df1f25f\",                        [{\"hovertemplate\":\"sample_type.samples=Metastatic<br>tsne comp. 1=%{x}<br>tsne comp. 2=%{y}<extra></extra>\",\"legendgroup\":\"Metastatic\",\"marker\":{\"color\":\"#636efa\",\"symbol\":\"circle\"},\"mode\":\"markers\",\"name\":\"Metastatic\",\"orientation\":\"v\",\"showlegend\":true,\"x\":[6.167206287384033,2.5153591632843018,-4.117940425872803,4.166428565979004,-6.6675944328308105,-0.3367822468280792,-0.7886056303977966,0.8851642608642578,9.400193214416504,-5.759581089019775,-2.401843547821045,-6.125544548034668,-7.756892204284668,8.616268157958984,-0.3143644630908966,0.7577518820762634,-4.2421979904174805,-5.151711463928223,5.091406345367432,0.8872299790382385,-2.7357475757598877,5.245632171630859,-5.536520481109619,-4.835102558135986,-3.941584348678589,2.4491114616394043,7.912639617919922,0.5432729125022888,-5.984466552734375,1.5312923192977905,0.5798898935317993,1.9898854494094849,3.093763589859009,-4.029999732971191,10.124510765075684,-0.29517287015914917,-2.9259448051452637,4.956640720367432,-1.7357749938964844,1.8100069761276245,0.7785422205924988,-1.484305500984192,7.6940717697143555,-7.036020278930664,2.7569868564605713,-5.7927937507629395,-2.315730094909668,-4.284723281860352,9.078117370605469,0.6763444542884827,2.4212145805358887,5.4824604988098145,7.978522777557373,3.046809673309326,3.8141322135925293,-0.7558066248893738,-2.959580421447754,5.5658674240112305,-5.970555305480957,-4.602126121520996,9.291728019714355,1.8510900735855103,-3.638309955596924,-1.256353497505188,-5.208333492279053,-4.847620010375977,-8.738992691040039,3.6325833797454834,-5.857543468475342,7.794604778289795,6.4585280418396,6.3824782371521,0.3576718866825104,-0.6735230088233948,-4.589653015136719,-3.705759286880493,-5.776492118835449,1.5889103412628174,-7.083118438720703,1.7241860628128052,1.3568471670150757,8.510117530822754,9.652891159057617,0.6381943225860596,-8.396138191223145,7.584500789642334,2.0776450634002686,4.174684047698975,4.473799228668213,-3.807535409927368,2.4655942916870117,-3.120387315750122,4.176454067230225,0.5705205202102661,-4.324408531188965,-2.0231966972351074,-2.7019646167755127,2.307255983352661,-0.7423691153526306,-4.187766075134277,9.60629940032959,6.048788547515869,-0.23216554522514343,-5.390178203582764,0.2156476080417633,-5.481410026550293,6.097912311553955,8.68018913269043,-0.026430457830429077,-4.343984127044678,0.6846802830696106,-0.7627183198928833,0.06434983760118484,-8.274240493774414,7.747530460357666,-3.8174474239349365,1.5964288711547852,5.619956970214844,-2.526822090148926,2.1220297813415527,-7.480599403381348,8.162298202514648,-7.031173229217529,9.137941360473633,-0.862776517868042,-0.6095433235168457,4.358630657196045,-2.2503976821899414,6.518495082855225,-3.148533344268799,-2.6801674365997314,-3.3113293647766113,5.540701866149902,7.915245532989502,-7.432470321655273,8.99438762664795,8.597097396850586],\"xaxis\":\"x\",\"y\":[5.916380405426025,3.5313210487365723,-7.342069625854492,4.495408058166504,-6.394188404083252,-9.128349304199219,7.899552822113037,2.3430285453796387,0.6429810523986816,-5.119271755218506,2.2879912853240967,-6.978335380554199,-8.450304985046387,0.5451703071594238,-2.798368453979492,-9.23414421081543,-0.13061079382896423,-6.19942569732666,6.182517051696777,-1.6257929801940918,-4.999142646789551,0.2941741943359375,-0.3767881393432617,-1.7322916984558105,-2.9147183895111084,-2.5031375885009766,-3.9268155097961426,0.8563945889472961,-5.6615447998046875,-6.005719184875488,-1.4987064599990845,9.234322547912598,-0.014432577416300774,-6.194422721862793,0.07980489730834961,9.174121856689453,-10.094925880432129,2.8688783645629883,-2.8420987129211426,0.9236467480659485,-4.587413787841797,-4.317360877990723,-2.938035011291504,-3.422227382659912,2.790192127227783,-7.751374244689941,-6.648987293243408,-1.2395448684692383,-0.058961957693099976,-7.775880336761475,-5.672657012939453,3.2844042778015137,0.9054369926452637,-5.277256488800049,1.4688661098480225,-8.148518562316895,-10.003372192382812,4.375574588775635,-8.20219898223877,-9.47038459777832,2.7705655097961426,-8.753933906555176,-1.9162583351135254,-2.9984564781188965,-5.922152519226074,-3.496485710144043,-4.834773063659668,-7.148007869720459,-9.048325538635254,-1.7342606782913208,4.808389663696289,1.3926066160202026,3.0573408603668213,5.290088653564453,-4.5080461502075195,-0.16440388560295105,-4.294099807739258,5.596960544586182,-7.421375274658203,-4.00460958480835,-1.4911408424377441,-1.084580659866333,1.4002180099487305,0.7761155962944031,-6.976046085357666,-3.5289008617401123,0.49603748321533203,4.989303112030029,6.807631969451904,-6.515753269195557,-7.541360855102539,0.45346125960350037,-3.524925708770752,-3.5168209075927734,-5.438067436218262,-1.1640623807907104,-11.13884449005127,-5.786739826202393,-0.725856363773346,-1.9522004127502441,-1.2863880395889282,-5.625061988830566,6.966869831085205,-2.4567153453826904,-8.819734573364258,-8.423898696899414,-4.785025596618652,1.7551043033599854,2.7941060066223145,-8.325899124145508,-9.016201972961426,-4.282763957977295,0.08243520557880402,-6.480281352996826,-4.140481948852539,1.7574121952056885,-2.9256396293640137,4.963028430938721,-7.301553726196289,-7.603637218475342,-5.125560760498047,3.536292552947998,-4.394009113311768,-1.887491226196289,3.3215792179107666,-8.686422348022461,5.783824920654297,-8.033407211303711,-4.724430561065674,-3.6559910774230957,-5.714543342590332,-6.039608001708984,1.9756425619125366,1.9591457843780518,-6.66591739654541,3.185796022415161,0.8700942993164062],\"yaxis\":\"y\",\"type\":\"scatter\"},{\"hovertemplate\":\"sample_type.samples=Primary Tumor<br>tsne comp. 1=%{x}<br>tsne comp. 2=%{y}<extra></extra>\",\"legendgroup\":\"Primary Tumor\",\"marker\":{\"color\":\"#EF553B\",\"symbol\":\"circle\"},\"mode\":\"markers\",\"name\":\"Primary Tumor\",\"orientation\":\"v\",\"showlegend\":true,\"x\":[2.0528926849365234,6.657154560089111,1.0710511207580566,-7.727243423461914,-0.9721769094467163,7.448986530303955,3.0673654079437256,3.193890333175659,0.7205762267112732,7.229975700378418,-0.2788273096084595,4.028321743011475,1.8270916938781738,-0.19998735189437866,-4.761561870574951,5.26736307144165,3.526198387145996,8.58771800994873,1.6697289943695068,-3.511324882507324,7.098930835723877,-0.33356335759162903,4.683302879333496,-0.8311859369277954,-1.2344955205917358,0.8952512145042419,-0.6687635779380798,-1.7126953601837158,-0.37991660833358765,-1.6910747289657593,-1.805130124092102,-0.06555565446615219,1.6529088020324707,0.5261075496673584,2.065586566925049,0.4711512625217438,-3.654008626937866,-1.4260175228118896,5.741659164428711,4.9614973068237305,-1.5898786783218384,-7.481739044189453],\"xaxis\":\"x\",\"y\":[11.31004524230957,3.8220481872558594,7.037113666534424,-8.048455238342285,10.815911293029785,0.1755387932062149,5.313719272613525,4.1893744468688965,3.8857221603393555,3.0547261238098145,12.210503578186035,7.0855231285095215,3.751568555831909,3.6424012184143066,-1.3884806632995605,5.4172587394714355,3.2185113430023193,-0.23834386467933655,10.33602523803711,3.627856492996216,5.973058223724365,10.366264343261719,3.476045846939087,11.790186882019043,-0.5080143809318542,11.774327278137207,12.59912395477295,11.360343933105469,11.06191349029541,10.021259307861328,9.158956527709961,8.451419830322266,10.46263313293457,11.4548921585083,6.786531925201416,10.893630027770996,3.851201057434082,11.691107749938965,2.6234941482543945,4.359370231628418,10.450929641723633,-4.030681133270264],\"yaxis\":\"y\",\"type\":\"scatter\"}],                        {\"template\":{\"data\":{\"histogram2dcontour\":[{\"type\":\"histogram2dcontour\",\"colorbar\":{\"outlinewidth\":0,\"ticks\":\"\"},\"colorscale\":[[0.0,\"#0d0887\"],[0.1111111111111111,\"#46039f\"],[0.2222222222222222,\"#7201a8\"],[0.3333333333333333,\"#9c179e\"],[0.4444444444444444,\"#bd3786\"],[0.5555555555555556,\"#d8576b\"],[0.6666666666666666,\"#ed7953\"],[0.7777777777777778,\"#fb9f3a\"],[0.8888888888888888,\"#fdca26\"],[1.0,\"#f0f921\"]]}],\"choropleth\":[{\"type\":\"choropleth\",\"colorbar\":{\"outlinewidth\":0,\"ticks\":\"\"}}],\"histogram2d\":[{\"type\":\"histogram2d\",\"colorbar\":{\"outlinewidth\":0,\"ticks\":\"\"},\"colorscale\":[[0.0,\"#0d0887\"],[0.1111111111111111,\"#46039f\"],[0.2222222222222222,\"#7201a8\"],[0.3333333333333333,\"#9c179e\"],[0.4444444444444444,\"#bd3786\"],[0.5555555555555556,\"#d8576b\"],[0.6666666666666666,\"#ed7953\"],[0.7777777777777778,\"#fb9f3a\"],[0.8888888888888888,\"#fdca26\"],[1.0,\"#f0f921\"]]}],\"heatmap\":[{\"type\":\"heatmap\",\"colorbar\":{\"outlinewidth\":0,\"ticks\":\"\"},\"colorscale\":[[0.0,\"#0d0887\"],[0.1111111111111111,\"#46039f\"],[0.2222222222222222,\"#7201a8\"],[0.3333333333333333,\"#9c179e\"],[0.4444444444444444,\"#bd3786\"],[0.5555555555555556,\"#d8576b\"],[0.6666666666666666,\"#ed7953\"],[0.7777777777777778,\"#fb9f3a\"],[0.8888888888888888,\"#fdca26\"],[1.0,\"#f0f921\"]]}],\"heatmapgl\":[{\"type\":\"heatmapgl\",\"colorbar\":{\"outlinewidth\":0,\"ticks\":\"\"},\"colorscale\":[[0.0,\"#0d0887\"],[0.1111111111111111,\"#46039f\"],[0.2222222222222222,\"#7201a8\"],[0.3333333333333333,\"#9c179e\"],[0.4444444444444444,\"#bd3786\"],[0.5555555555555556,\"#d8576b\"],[0.6666666666666666,\"#ed7953\"],[0.7777777777777778,\"#fb9f3a\"],[0.8888888888888888,\"#fdca26\"],[1.0,\"#f0f921\"]]}],\"contourcarpet\":[{\"type\":\"contourcarpet\",\"colorbar\":{\"outlinewidth\":0,\"ticks\":\"\"}}],\"contour\":[{\"type\":\"contour\",\"colorbar\":{\"outlinewidth\":0,\"ticks\":\"\"},\"colorscale\":[[0.0,\"#0d0887\"],[0.1111111111111111,\"#46039f\"],[0.2222222222222222,\"#7201a8\"],[0.3333333333333333,\"#9c179e\"],[0.4444444444444444,\"#bd3786\"],[0.5555555555555556,\"#d8576b\"],[0.6666666666666666,\"#ed7953\"],[0.7777777777777778,\"#fb9f3a\"],[0.8888888888888888,\"#fdca26\"],[1.0,\"#f0f921\"]]}],\"surface\":[{\"type\":\"surface\",\"colorbar\":{\"outlinewidth\":0,\"ticks\":\"\"},\"colorscale\":[[0.0,\"#0d0887\"],[0.1111111111111111,\"#46039f\"],[0.2222222222222222,\"#7201a8\"],[0.3333333333333333,\"#9c179e\"],[0.4444444444444444,\"#bd3786\"],[0.5555555555555556,\"#d8576b\"],[0.6666666666666666,\"#ed7953\"],[0.7777777777777778,\"#fb9f3a\"],[0.8888888888888888,\"#fdca26\"],[1.0,\"#f0f921\"]]}],\"mesh3d\":[{\"type\":\"mesh3d\",\"colorbar\":{\"outlinewidth\":0,\"ticks\":\"\"}}],\"scatter\":[{\"fillpattern\":{\"fillmode\":\"overlay\",\"size\":10,\"solidity\":0.2},\"type\":\"scatter\"}],\"parcoords\":[{\"type\":\"parcoords\",\"line\":{\"colorbar\":{\"outlinewidth\":0,\"ticks\":\"\"}}}],\"scatterpolargl\":[{\"type\":\"scatterpolargl\",\"marker\":{\"colorbar\":{\"outlinewidth\":0,\"ticks\":\"\"}}}],\"bar\":[{\"error_x\":{\"color\":\"#2a3f5f\"},\"error_y\":{\"color\":\"#2a3f5f\"},\"marker\":{\"line\":{\"color\":\"#E5ECF6\",\"width\":0.5},\"pattern\":{\"fillmode\":\"overlay\",\"size\":10,\"solidity\":0.2}},\"type\":\"bar\"}],\"scattergeo\":[{\"type\":\"scattergeo\",\"marker\":{\"colorbar\":{\"outlinewidth\":0,\"ticks\":\"\"}}}],\"scatterpolar\":[{\"type\":\"scatterpolar\",\"marker\":{\"colorbar\":{\"outlinewidth\":0,\"ticks\":\"\"}}}],\"histogram\":[{\"marker\":{\"pattern\":{\"fillmode\":\"overlay\",\"size\":10,\"solidity\":0.2}},\"type\":\"histogram\"}],\"scattergl\":[{\"type\":\"scattergl\",\"marker\":{\"colorbar\":{\"outlinewidth\":0,\"ticks\":\"\"}}}],\"scatter3d\":[{\"type\":\"scatter3d\",\"line\":{\"colorbar\":{\"outlinewidth\":0,\"ticks\":\"\"}},\"marker\":{\"colorbar\":{\"outlinewidth\":0,\"ticks\":\"\"}}}],\"scattermapbox\":[{\"type\":\"scattermapbox\",\"marker\":{\"colorbar\":{\"outlinewidth\":0,\"ticks\":\"\"}}}],\"scatterternary\":[{\"type\":\"scatterternary\",\"marker\":{\"colorbar\":{\"outlinewidth\":0,\"ticks\":\"\"}}}],\"scattercarpet\":[{\"type\":\"scattercarpet\",\"marker\":{\"colorbar\":{\"outlinewidth\":0,\"ticks\":\"\"}}}],\"carpet\":[{\"aaxis\":{\"endlinecolor\":\"#2a3f5f\",\"gridcolor\":\"white\",\"linecolor\":\"white\",\"minorgridcolor\":\"white\",\"startlinecolor\":\"#2a3f5f\"},\"baxis\":{\"endlinecolor\":\"#2a3f5f\",\"gridcolor\":\"white\",\"linecolor\":\"white\",\"minorgridcolor\":\"white\",\"startlinecolor\":\"#2a3f5f\"},\"type\":\"carpet\"}],\"table\":[{\"cells\":{\"fill\":{\"color\":\"#EBF0F8\"},\"line\":{\"color\":\"white\"}},\"header\":{\"fill\":{\"color\":\"#C8D4E3\"},\"line\":{\"color\":\"white\"}},\"type\":\"table\"}],\"barpolar\":[{\"marker\":{\"line\":{\"color\":\"#E5ECF6\",\"width\":0.5},\"pattern\":{\"fillmode\":\"overlay\",\"size\":10,\"solidity\":0.2}},\"type\":\"barpolar\"}],\"pie\":[{\"automargin\":true,\"type\":\"pie\"}]},\"layout\":{\"autotypenumbers\":\"strict\",\"colorway\":[\"#636efa\",\"#EF553B\",\"#00cc96\",\"#ab63fa\",\"#FFA15A\",\"#19d3f3\",\"#FF6692\",\"#B6E880\",\"#FF97FF\",\"#FECB52\"],\"font\":{\"color\":\"#2a3f5f\"},\"hovermode\":\"closest\",\"hoverlabel\":{\"align\":\"left\"},\"paper_bgcolor\":\"white\",\"plot_bgcolor\":\"#E5ECF6\",\"polar\":{\"bgcolor\":\"#E5ECF6\",\"angularaxis\":{\"gridcolor\":\"white\",\"linecolor\":\"white\",\"ticks\":\"\"},\"radialaxis\":{\"gridcolor\":\"white\",\"linecolor\":\"white\",\"ticks\":\"\"}},\"ternary\":{\"bgcolor\":\"#E5ECF6\",\"aaxis\":{\"gridcolor\":\"white\",\"linecolor\":\"white\",\"ticks\":\"\"},\"baxis\":{\"gridcolor\":\"white\",\"linecolor\":\"white\",\"ticks\":\"\"},\"caxis\":{\"gridcolor\":\"white\",\"linecolor\":\"white\",\"ticks\":\"\"}},\"coloraxis\":{\"colorbar\":{\"outlinewidth\":0,\"ticks\":\"\"}},\"colorscale\":{\"sequential\":[[0.0,\"#0d0887\"],[0.1111111111111111,\"#46039f\"],[0.2222222222222222,\"#7201a8\"],[0.3333333333333333,\"#9c179e\"],[0.4444444444444444,\"#bd3786\"],[0.5555555555555556,\"#d8576b\"],[0.6666666666666666,\"#ed7953\"],[0.7777777777777778,\"#fb9f3a\"],[0.8888888888888888,\"#fdca26\"],[1.0,\"#f0f921\"]],\"sequentialminus\":[[0.0,\"#0d0887\"],[0.1111111111111111,\"#46039f\"],[0.2222222222222222,\"#7201a8\"],[0.3333333333333333,\"#9c179e\"],[0.4444444444444444,\"#bd3786\"],[0.5555555555555556,\"#d8576b\"],[0.6666666666666666,\"#ed7953\"],[0.7777777777777778,\"#fb9f3a\"],[0.8888888888888888,\"#fdca26\"],[1.0,\"#f0f921\"]],\"diverging\":[[0,\"#8e0152\"],[0.1,\"#c51b7d\"],[0.2,\"#de77ae\"],[0.3,\"#f1b6da\"],[0.4,\"#fde0ef\"],[0.5,\"#f7f7f7\"],[0.6,\"#e6f5d0\"],[0.7,\"#b8e186\"],[0.8,\"#7fbc41\"],[0.9,\"#4d9221\"],[1,\"#276419\"]]},\"xaxis\":{\"gridcolor\":\"white\",\"linecolor\":\"white\",\"ticks\":\"\",\"title\":{\"standoff\":15},\"zerolinecolor\":\"white\",\"automargin\":true,\"zerolinewidth\":2},\"yaxis\":{\"gridcolor\":\"white\",\"linecolor\":\"white\",\"ticks\":\"\",\"title\":{\"standoff\":15},\"zerolinecolor\":\"white\",\"automargin\":true,\"zerolinewidth\":2},\"scene\":{\"xaxis\":{\"backgroundcolor\":\"#E5ECF6\",\"gridcolor\":\"white\",\"linecolor\":\"white\",\"showbackground\":true,\"ticks\":\"\",\"zerolinecolor\":\"white\",\"gridwidth\":2},\"yaxis\":{\"backgroundcolor\":\"#E5ECF6\",\"gridcolor\":\"white\",\"linecolor\":\"white\",\"showbackground\":true,\"ticks\":\"\",\"zerolinecolor\":\"white\",\"gridwidth\":2},\"zaxis\":{\"backgroundcolor\":\"#E5ECF6\",\"gridcolor\":\"white\",\"linecolor\":\"white\",\"showbackground\":true,\"ticks\":\"\",\"zerolinecolor\":\"white\",\"gridwidth\":2}},\"shapedefaults\":{\"line\":{\"color\":\"#2a3f5f\"}},\"annotationdefaults\":{\"arrowcolor\":\"#2a3f5f\",\"arrowhead\":0,\"arrowwidth\":1},\"geo\":{\"bgcolor\":\"white\",\"landcolor\":\"#E5ECF6\",\"subunitcolor\":\"white\",\"showland\":true,\"showlakes\":true,\"lakecolor\":\"white\"},\"title\":{\"x\":0.05},\"mapbox\":{\"style\":\"light\"}}},\"xaxis\":{\"anchor\":\"y\",\"domain\":[0.0,1.0],\"title\":{\"text\":\"tsne comp. 1\"}},\"yaxis\":{\"anchor\":\"x\",\"domain\":[0.0,1.0],\"title\":{\"text\":\"tsne comp. 2\"}},\"legend\":{\"title\":{\"text\":\"sample_type.samples\"},\"tracegroupgap\":0},\"margin\":{\"t\":60}},                        {\"responsive\": true}                    ).then(function(){\n",
       "                            \n",
       "var gd = document.getElementById('37e41bb5-f8ac-4646-b002-29b03df1f25f');\n",
       "var x = new MutationObserver(function (mutations, observer) {{\n",
       "        var display = window.getComputedStyle(gd).display;\n",
       "        if (!display || display === 'none') {{\n",
       "            console.log([gd, 'removed!']);\n",
       "            Plotly.purge(gd);\n",
       "            observer.disconnect();\n",
       "        }}\n",
       "}});\n",
       "\n",
       "// Listen for the removal of the full notebook cells\n",
       "var notebookContainer = gd.closest('#notebook-container');\n",
       "if (notebookContainer) {{\n",
       "    x.observe(notebookContainer, {childList: true});\n",
       "}}\n",
       "\n",
       "// Listen for the clearing of the current output cell\n",
       "var outputEl = gd.closest('.output');\n",
       "if (outputEl) {{\n",
       "    x.observe(outputEl, {childList: true});\n",
       "}}\n",
       "\n",
       "                        })                };                });            </script>        </div>"
      ]
     },
     "metadata": {},
     "output_type": "display_data"
    }
   ],
   "source": [
    "tsne_df2 = pd.concat([tsne_df,clinicalData],axis = 1)\n",
    "fig = px.scatter(tsne_df2, x=\"tsne comp. 1\", y=\"tsne comp. 2\", color=\"sample_type.samples\")\n",
    "fig.show()"
   ]
  },
  {
   "cell_type": "code",
   "execution_count": 3,
   "metadata": {},
   "outputs": [],
   "source": [
    "# A compléter pour afficher le t-SNE avec les points colorés selon la localisation de la tumeur"
   ]
  },
  {
   "cell_type": "markdown",
   "metadata": {},
   "source": [
    "3) Réaliser maintenant un UMAP avec 2 dimensions à partir des 10 premières composantes principales de l'ACP calculées."
   ]
  },
  {
   "cell_type": "code",
   "execution_count": 107,
   "metadata": {},
   "outputs": [
    {
     "name": "stdout",
     "output_type": "stream",
     "text": [
      "(179, 2)\n"
     ]
    },
    {
     "data": {
      "text/html": [
       "<div>\n",
       "<style scoped>\n",
       "    .dataframe tbody tr th:only-of-type {\n",
       "        vertical-align: middle;\n",
       "    }\n",
       "\n",
       "    .dataframe tbody tr th {\n",
       "        vertical-align: top;\n",
       "    }\n",
       "\n",
       "    .dataframe thead th {\n",
       "        text-align: right;\n",
       "    }\n",
       "</style>\n",
       "<table border=\"1\" class=\"dataframe\">\n",
       "  <thead>\n",
       "    <tr style=\"text-align: right;\">\n",
       "      <th></th>\n",
       "      <th>umap comp. 1</th>\n",
       "      <th>umap comp. 2</th>\n",
       "    </tr>\n",
       "  </thead>\n",
       "  <tbody>\n",
       "    <tr>\n",
       "      <th>TCGA-DA-A1IA-06A</th>\n",
       "      <td>0.476995</td>\n",
       "      <td>3.465962</td>\n",
       "    </tr>\n",
       "    <tr>\n",
       "      <th>TCGA-XV-A9VZ-01A</th>\n",
       "      <td>-0.574793</td>\n",
       "      <td>4.690711</td>\n",
       "    </tr>\n",
       "    <tr>\n",
       "      <th>TCGA-BF-A5EP-01A</th>\n",
       "      <td>1.003067</td>\n",
       "      <td>3.733876</td>\n",
       "    </tr>\n",
       "    <tr>\n",
       "      <th>TCGA-EE-A3AF-06A</th>\n",
       "      <td>1.352787</td>\n",
       "      <td>2.410891</td>\n",
       "    </tr>\n",
       "    <tr>\n",
       "      <th>TCGA-D9-A3Z3-06A</th>\n",
       "      <td>4.900092</td>\n",
       "      <td>1.376532</td>\n",
       "    </tr>\n",
       "    <tr>\n",
       "      <th>...</th>\n",
       "      <td>...</td>\n",
       "      <td>...</td>\n",
       "    </tr>\n",
       "    <tr>\n",
       "      <th>TCGA-D3-A8GN-06A</th>\n",
       "      <td>5.806057</td>\n",
       "      <td>0.619873</td>\n",
       "    </tr>\n",
       "    <tr>\n",
       "      <th>TCGA-D3-A1Q1-06A</th>\n",
       "      <td>2.028565</td>\n",
       "      <td>4.493577</td>\n",
       "    </tr>\n",
       "    <tr>\n",
       "      <th>TCGA-FS-A1ZF-06A</th>\n",
       "      <td>2.484835</td>\n",
       "      <td>5.133914</td>\n",
       "    </tr>\n",
       "    <tr>\n",
       "      <th>TCGA-EB-A4XL-01A</th>\n",
       "      <td>-0.297909</td>\n",
       "      <td>5.486286</td>\n",
       "    </tr>\n",
       "    <tr>\n",
       "      <th>TCGA-EB-A551-01A</th>\n",
       "      <td>4.896857</td>\n",
       "      <td>2.229926</td>\n",
       "    </tr>\n",
       "  </tbody>\n",
       "</table>\n",
       "<p>179 rows × 2 columns</p>\n",
       "</div>"
      ],
      "text/plain": [
       "                  umap comp. 1  umap comp. 2\n",
       "TCGA-DA-A1IA-06A      0.476995      3.465962\n",
       "TCGA-XV-A9VZ-01A     -0.574793      4.690711\n",
       "TCGA-BF-A5EP-01A      1.003067      3.733876\n",
       "TCGA-EE-A3AF-06A      1.352787      2.410891\n",
       "TCGA-D9-A3Z3-06A      4.900092      1.376532\n",
       "...                        ...           ...\n",
       "TCGA-D3-A8GN-06A      5.806057      0.619873\n",
       "TCGA-D3-A1Q1-06A      2.028565      4.493577\n",
       "TCGA-FS-A1ZF-06A      2.484835      5.133914\n",
       "TCGA-EB-A4XL-01A     -0.297909      5.486286\n",
       "TCGA-EB-A551-01A      4.896857      2.229926\n",
       "\n",
       "[179 rows x 2 columns]"
      ]
     },
     "execution_count": 107,
     "metadata": {},
     "output_type": "execute_result"
    }
   ],
   "source": [
    "# UMAP\n",
    "um = umap.UMAP()\n",
    "um.fit(principal_df)\n",
    "X_umap = um.transform(principal_df)\n",
    "\n",
    "# Convert to data frame\n",
    "umap_df = pd.DataFrame(data = X_umap, columns = ['umap comp. 1', 'umap comp. 2'])\n",
    "\n",
    "# Shape and preview\n",
    "print(umap_df.shape)\n",
    "umap_df.head()\n",
    "umap_df.index = clinicalData.index\n",
    "umap_df\n"
   ]
  },
  {
   "cell_type": "markdown",
   "metadata": {},
   "source": [
    "4) Afficher les patientes dans cet espace et colorer les points selon le type d'echantillon et la localisation de la tumeur."
   ]
  },
  {
   "cell_type": "code",
   "execution_count": 108,
   "metadata": {
    "scrolled": true
   },
   "outputs": [
    {
     "data": {
      "application/vnd.plotly.v1+json": {
       "config": {
        "plotlyServerURL": "https://plot.ly"
       },
       "data": [
        {
         "hovertemplate": "sample_type.samples=Metastatic<br>umap comp. 1=%{x}<br>umap comp. 2=%{y}<extra></extra>",
         "legendgroup": "Metastatic",
         "marker": {
          "color": "#636efa",
          "symbol": "circle"
         },
         "mode": "markers",
         "name": "Metastatic",
         "orientation": "v",
         "showlegend": true,
         "type": "scatter",
         "x": [
          0.4769953191280365,
          1.3527865409851074,
          4.900091648101807,
          0.776159405708313,
          5.81779146194458,
          5.861719608306885,
          0.7842036485671997,
          1.5609344244003296,
          2.472541093826294,
          5.055769920349121,
          2.809574604034424,
          5.3433942794799805,
          4.49949836730957,
          2.439709424972534,
          3.541715145111084,
          5.616331577301025,
          3.292393922805786,
          5.355608940124512,
          0.3878655731678009,
          3.4004197120666504,
          4.792561054229736,
          2.2884681224823,
          3.9144270420074463,
          3.4899613857269287,
          4.046327590942383,
          3.6913955211639404,
          3.57916522026062,
          2.3779821395874023,
          5.506998538970947,
          4.501594543457031,
          3.5323073863983154,
          -0.28143396973609924,
          2.1318302154541016,
          5.451845169067383,
          2.462111711502075,
          0.06372290849685669,
          5.6843414306640625,
          1.014291763305664,
          3.9383020401000977,
          2.6721696853637695,
          4.007485866546631,
          3.874058246612549,
          3.615386724472046,
          4.535721302032471,
          1.3486251831054688,
          5.6902546882629395,
          5.346224784851074,
          3.5040440559387207,
          2.7324275970458984,
          5.4333176612854,
          4.6895012855529785,
          0.9709829092025757,
          2.537128210067749,
          4.750014781951904,
          1.9571744203567505,
          5.6347270011901855,
          5.597871780395508,
          0.696793258190155,
          5.78605318069458,
          5.414912700653076,
          2.2282333374023438,
          5.295116424560547,
          3.620546817779541,
          3.8640811443328857,
          5.265382289886475,
          4.124029159545898,
          5.108036041259766,
          4.769508361816406,
          6.069649696350098,
          3.1420018672943115,
          0.6519963145256042,
          1.8101619482040405,
          2.1196584701538086,
          1.929364800453186,
          4.8430047035217285,
          3.737447738647461,
          4.645401477813721,
          1.587859034538269,
          5.502042770385742,
          3.8284521102905273,
          3.039557456970215,
          2.9783875942230225,
          2.3519582748413086,
          2.418938636779785,
          6.039977550506592,
          3.5902099609375,
          2.9050192832946777,
          0.8426611423492432,
          0.17834514379501343,
          5.463722229003906,
          5.166733741760254,
          3.2018887996673584,
          4.279350280761719,
          3.809433937072754,
          5.193198204040527,
          3.5887415409088135,
          4.678554534912109,
          4.95646858215332,
          2.7264137268066406,
          3.9120664596557617,
          3.4189558029174805,
          4.077544212341309,
          1.474335789680481,
          3.8805043697357178,
          5.738053321838379,
          5.780577182769775,
          4.261526584625244,
          2.3433022499084473,
          1.9933319091796875,
          5.306565284729004,
          5.523641109466553,
          4.1432976722717285,
          2.6168603897094727,
          5.961374282836914,
          3.8334834575653076,
          3.3151862621307373,
          4.444754600524902,
          0.5109224319458008,
          5.400974750518799,
          5.260463714599609,
          5.059561252593994,
          1.8582425117492676,
          4.510890007019043,
          3.0842695236206055,
          1.6388366222381592,
          5.798651695251465,
          0.530650794506073,
          5.62587308883667,
          4.043696403503418,
          4.104586124420166,
          4.281184673309326,
          5.058957099914551,
          1.280837893486023,
          2.1416521072387695,
          5.806057453155518,
          2.028564929962158,
          2.484835386276245
         ],
         "xaxis": "x",
         "y": [
          3.4659621715545654,
          2.410891056060791,
          1.376531720161438,
          2.5844171047210693,
          1.3061625957489014,
          3.0831470489501953,
          4.490290641784668,
          2.332380771636963,
          5.276187419891357,
          0.55411297082901,
          1.4324219226837158,
          0.5543568134307861,
          1.082168698310852,
          4.999237537384033,
          3.0047314167022705,
          3.3374783992767334,
          1.0291274785995483,
          1.2463877201080322,
          2.9807333946228027,
          2.822423219680786,
          1.9035913944244385,
          4.125833511352539,
          1.4706801176071167,
          0.9894649982452393,
          1.4386967420578003,
          3.1588480472564697,
          5.010567665100098,
          2.691035509109497,
          0.8113269209861755,
          3.6545636653900146,
          2.7073254585266113,
          4.1226396560668945,
          3.0982699394226074,
          1.6124688386917114,
          5.225546360015869,
          5.015538692474365,
          2.119155168533325,
          2.969158411026001,
          1.958793044090271,
          3.0876383781433105,
          3.3599936962127686,
          2.6841588020324707,
          4.969899654388428,
          2.0295870304107666,
          2.6501176357269287,
          0.8830621838569641,
          2.115041971206665,
          1.1721217632293701,
          4.9029388427734375,
          3.7079379558563232,
          3.9308478832244873,
          3.2397899627685547,
          4.651907444000244,
          3.841463804244995,
          2.7795863151550293,
          2.818453788757324,
          2.160961627960205,
          3.1586368083953857,
          1.0176761150360107,
          1.696475863456726,
          4.340892791748047,
          3.1862804889678955,
          1.3887807130813599,
          2.241814136505127,
          0.9326991438865662,
          0.7151024341583252,
          0.6836574673652649,
          2.900543451309204,
          1.2181071043014526,
          4.952814102172852,
          2.48551082611084,
          4.227819919586182,
          2.577336549758911,
          2.9380924701690674,
          0.9244276285171509,
          1.3244528770446777,
          0.8109622001647949,
          2.589343786239624,
          0.6154100894927979,
          3.7874302864074707,
          2.9030160903930664,
          4.807824611663818,
          5.023619174957275,
          2.6854474544525146,
          0.7658567428588867,
          4.875851631164551,
          3.1340103149414062,
          2.60459041595459,
          3.071587324142456,
          1.5857080221176147,
          3.61059832572937,
          1.6258574724197388,
          3.8378806114196777,
          2.7640812397003174,
          1.3286582231521606,
          2.3789539337158203,
          2.1967108249664307,
          3.870079278945923,
          2.6980881690979004,
          0.702844500541687,
          4.066508769989014,
          4.7571306228637695,
          3.7088515758514404,
          1.9512076377868652,
          3.294682502746582,
          1.1536024808883667,
          4.565655708312988,
          4.505280494689941,
          2.150510787963867,
          1.4304132461547852,
          3.4992940425872803,
          2.5070462226867676,
          2.7109735012054443,
          0.814817488193512,
          4.968339920043945,
          1.6947311162948608,
          2.717975378036499,
          3.3550357818603516,
          2.1317782402038574,
          3.6129467487335205,
          0.9554656744003296,
          4.147824764251709,
          1.4095524549484253,
          4.71809720993042,
          1.9581457376480103,
          2.873429536819458,
          2.7462666034698486,
          2.4023332595825195,
          4.786655426025391,
          1.696675181388855,
          1.8589593172073364,
          1.579641580581665,
          3.259953260421753,
          4.6997528076171875,
          0.6198734641075134,
          4.493577480316162,
          5.133913516998291
         ],
         "yaxis": "y"
        },
        {
         "hovertemplate": "sample_type.samples=Primary Tumor<br>umap comp. 1=%{x}<br>umap comp. 2=%{y}<extra></extra>",
         "legendgroup": "Primary Tumor",
         "marker": {
          "color": "#EF553B",
          "symbol": "circle"
         },
         "mode": "markers",
         "name": "Primary Tumor",
         "orientation": "v",
         "showlegend": true,
         "type": "scatter",
         "x": [
          -0.574792742729187,
          1.003066897392273,
          1.1752872467041016,
          4.4302167892456055,
          -0.649025022983551,
          2.169442892074585,
          1.1997771263122559,
          0.9650393128395081,
          1.8045332431793213,
          1.5050824880599976,
          -0.6804885268211365,
          0.2716796398162842,
          1.6029078960418701,
          1.6209396123886108,
          3.7031311988830566,
          0.4951835870742798,
          1.1351444721221924,
          2.6467533111572266,
          -0.233059823513031,
          2.8643112182617188,
          1.0173231363296509,
          -0.7784608602523804,
          0.9320504665374756,
          -0.5466663837432861,
          3.352424383163452,
          -0.5860112309455872,
          -0.6599922776222229,
          -0.6030315160751343,
          -0.4826362729072571,
          -0.08749833703041077,
          -0.0541130006313324,
          0.3658936321735382,
          -0.43527209758758545,
          -0.6282256245613098,
          1.1996822357177734,
          -0.5636889338493347,
          2.8991079330444336,
          -0.4141053557395935,
          0.9992297291755676,
          0.7761165499687195,
          -0.2979085147380829,
          4.896857261657715
         ],
         "xaxis": "x",
         "y": [
          4.690710544586182,
          3.7338759899139404,
          4.6507697105407715,
          1.1265270709991455,
          5.45513391494751,
          5.082096099853516,
          3.6194937229156494,
          2.6378049850463867,
          3.144158363342285,
          4.1222100257873535,
          5.106295585632324,
          2.8261499404907227,
          2.009033679962158,
          1.9905239343643188,
          0.809400200843811,
          2.7805774211883545,
          2.4924168586730957,
          5.081485748291016,
          4.616135597229004,
          1.8991026878356934,
          4.209611415863037,
          5.225311279296875,
          2.9418976306915283,
          5.34088134765625,
          2.010896921157837,
          4.866576194763184,
          5.483662128448486,
          5.570278167724609,
          5.373073577880859,
          5.388911247253418,
          5.443328380584717,
          4.78996467590332,
          4.505221843719482,
          4.935840606689453,
          4.1955180168151855,
          4.892029762268066,
          2.148191452026367,
          5.236197471618652,
          3.1309127807617188,
          3.0268237590789795,
          5.486286163330078,
          2.229926109313965
         ],
         "yaxis": "y"
        }
       ],
       "layout": {
        "legend": {
         "title": {
          "text": "sample_type.samples"
         },
         "tracegroupgap": 0
        },
        "margin": {
         "t": 60
        },
        "template": {
         "data": {
          "bar": [
           {
            "error_x": {
             "color": "#2a3f5f"
            },
            "error_y": {
             "color": "#2a3f5f"
            },
            "marker": {
             "line": {
              "color": "#E5ECF6",
              "width": 0.5
             },
             "pattern": {
              "fillmode": "overlay",
              "size": 10,
              "solidity": 0.2
             }
            },
            "type": "bar"
           }
          ],
          "barpolar": [
           {
            "marker": {
             "line": {
              "color": "#E5ECF6",
              "width": 0.5
             },
             "pattern": {
              "fillmode": "overlay",
              "size": 10,
              "solidity": 0.2
             }
            },
            "type": "barpolar"
           }
          ],
          "carpet": [
           {
            "aaxis": {
             "endlinecolor": "#2a3f5f",
             "gridcolor": "white",
             "linecolor": "white",
             "minorgridcolor": "white",
             "startlinecolor": "#2a3f5f"
            },
            "baxis": {
             "endlinecolor": "#2a3f5f",
             "gridcolor": "white",
             "linecolor": "white",
             "minorgridcolor": "white",
             "startlinecolor": "#2a3f5f"
            },
            "type": "carpet"
           }
          ],
          "choropleth": [
           {
            "colorbar": {
             "outlinewidth": 0,
             "ticks": ""
            },
            "type": "choropleth"
           }
          ],
          "contour": [
           {
            "colorbar": {
             "outlinewidth": 0,
             "ticks": ""
            },
            "colorscale": [
             [
              0,
              "#0d0887"
             ],
             [
              0.1111111111111111,
              "#46039f"
             ],
             [
              0.2222222222222222,
              "#7201a8"
             ],
             [
              0.3333333333333333,
              "#9c179e"
             ],
             [
              0.4444444444444444,
              "#bd3786"
             ],
             [
              0.5555555555555556,
              "#d8576b"
             ],
             [
              0.6666666666666666,
              "#ed7953"
             ],
             [
              0.7777777777777778,
              "#fb9f3a"
             ],
             [
              0.8888888888888888,
              "#fdca26"
             ],
             [
              1,
              "#f0f921"
             ]
            ],
            "type": "contour"
           }
          ],
          "contourcarpet": [
           {
            "colorbar": {
             "outlinewidth": 0,
             "ticks": ""
            },
            "type": "contourcarpet"
           }
          ],
          "heatmap": [
           {
            "colorbar": {
             "outlinewidth": 0,
             "ticks": ""
            },
            "colorscale": [
             [
              0,
              "#0d0887"
             ],
             [
              0.1111111111111111,
              "#46039f"
             ],
             [
              0.2222222222222222,
              "#7201a8"
             ],
             [
              0.3333333333333333,
              "#9c179e"
             ],
             [
              0.4444444444444444,
              "#bd3786"
             ],
             [
              0.5555555555555556,
              "#d8576b"
             ],
             [
              0.6666666666666666,
              "#ed7953"
             ],
             [
              0.7777777777777778,
              "#fb9f3a"
             ],
             [
              0.8888888888888888,
              "#fdca26"
             ],
             [
              1,
              "#f0f921"
             ]
            ],
            "type": "heatmap"
           }
          ],
          "heatmapgl": [
           {
            "colorbar": {
             "outlinewidth": 0,
             "ticks": ""
            },
            "colorscale": [
             [
              0,
              "#0d0887"
             ],
             [
              0.1111111111111111,
              "#46039f"
             ],
             [
              0.2222222222222222,
              "#7201a8"
             ],
             [
              0.3333333333333333,
              "#9c179e"
             ],
             [
              0.4444444444444444,
              "#bd3786"
             ],
             [
              0.5555555555555556,
              "#d8576b"
             ],
             [
              0.6666666666666666,
              "#ed7953"
             ],
             [
              0.7777777777777778,
              "#fb9f3a"
             ],
             [
              0.8888888888888888,
              "#fdca26"
             ],
             [
              1,
              "#f0f921"
             ]
            ],
            "type": "heatmapgl"
           }
          ],
          "histogram": [
           {
            "marker": {
             "pattern": {
              "fillmode": "overlay",
              "size": 10,
              "solidity": 0.2
             }
            },
            "type": "histogram"
           }
          ],
          "histogram2d": [
           {
            "colorbar": {
             "outlinewidth": 0,
             "ticks": ""
            },
            "colorscale": [
             [
              0,
              "#0d0887"
             ],
             [
              0.1111111111111111,
              "#46039f"
             ],
             [
              0.2222222222222222,
              "#7201a8"
             ],
             [
              0.3333333333333333,
              "#9c179e"
             ],
             [
              0.4444444444444444,
              "#bd3786"
             ],
             [
              0.5555555555555556,
              "#d8576b"
             ],
             [
              0.6666666666666666,
              "#ed7953"
             ],
             [
              0.7777777777777778,
              "#fb9f3a"
             ],
             [
              0.8888888888888888,
              "#fdca26"
             ],
             [
              1,
              "#f0f921"
             ]
            ],
            "type": "histogram2d"
           }
          ],
          "histogram2dcontour": [
           {
            "colorbar": {
             "outlinewidth": 0,
             "ticks": ""
            },
            "colorscale": [
             [
              0,
              "#0d0887"
             ],
             [
              0.1111111111111111,
              "#46039f"
             ],
             [
              0.2222222222222222,
              "#7201a8"
             ],
             [
              0.3333333333333333,
              "#9c179e"
             ],
             [
              0.4444444444444444,
              "#bd3786"
             ],
             [
              0.5555555555555556,
              "#d8576b"
             ],
             [
              0.6666666666666666,
              "#ed7953"
             ],
             [
              0.7777777777777778,
              "#fb9f3a"
             ],
             [
              0.8888888888888888,
              "#fdca26"
             ],
             [
              1,
              "#f0f921"
             ]
            ],
            "type": "histogram2dcontour"
           }
          ],
          "mesh3d": [
           {
            "colorbar": {
             "outlinewidth": 0,
             "ticks": ""
            },
            "type": "mesh3d"
           }
          ],
          "parcoords": [
           {
            "line": {
             "colorbar": {
              "outlinewidth": 0,
              "ticks": ""
             }
            },
            "type": "parcoords"
           }
          ],
          "pie": [
           {
            "automargin": true,
            "type": "pie"
           }
          ],
          "scatter": [
           {
            "fillpattern": {
             "fillmode": "overlay",
             "size": 10,
             "solidity": 0.2
            },
            "type": "scatter"
           }
          ],
          "scatter3d": [
           {
            "line": {
             "colorbar": {
              "outlinewidth": 0,
              "ticks": ""
             }
            },
            "marker": {
             "colorbar": {
              "outlinewidth": 0,
              "ticks": ""
             }
            },
            "type": "scatter3d"
           }
          ],
          "scattercarpet": [
           {
            "marker": {
             "colorbar": {
              "outlinewidth": 0,
              "ticks": ""
             }
            },
            "type": "scattercarpet"
           }
          ],
          "scattergeo": [
           {
            "marker": {
             "colorbar": {
              "outlinewidth": 0,
              "ticks": ""
             }
            },
            "type": "scattergeo"
           }
          ],
          "scattergl": [
           {
            "marker": {
             "colorbar": {
              "outlinewidth": 0,
              "ticks": ""
             }
            },
            "type": "scattergl"
           }
          ],
          "scattermapbox": [
           {
            "marker": {
             "colorbar": {
              "outlinewidth": 0,
              "ticks": ""
             }
            },
            "type": "scattermapbox"
           }
          ],
          "scatterpolar": [
           {
            "marker": {
             "colorbar": {
              "outlinewidth": 0,
              "ticks": ""
             }
            },
            "type": "scatterpolar"
           }
          ],
          "scatterpolargl": [
           {
            "marker": {
             "colorbar": {
              "outlinewidth": 0,
              "ticks": ""
             }
            },
            "type": "scatterpolargl"
           }
          ],
          "scatterternary": [
           {
            "marker": {
             "colorbar": {
              "outlinewidth": 0,
              "ticks": ""
             }
            },
            "type": "scatterternary"
           }
          ],
          "surface": [
           {
            "colorbar": {
             "outlinewidth": 0,
             "ticks": ""
            },
            "colorscale": [
             [
              0,
              "#0d0887"
             ],
             [
              0.1111111111111111,
              "#46039f"
             ],
             [
              0.2222222222222222,
              "#7201a8"
             ],
             [
              0.3333333333333333,
              "#9c179e"
             ],
             [
              0.4444444444444444,
              "#bd3786"
             ],
             [
              0.5555555555555556,
              "#d8576b"
             ],
             [
              0.6666666666666666,
              "#ed7953"
             ],
             [
              0.7777777777777778,
              "#fb9f3a"
             ],
             [
              0.8888888888888888,
              "#fdca26"
             ],
             [
              1,
              "#f0f921"
             ]
            ],
            "type": "surface"
           }
          ],
          "table": [
           {
            "cells": {
             "fill": {
              "color": "#EBF0F8"
             },
             "line": {
              "color": "white"
             }
            },
            "header": {
             "fill": {
              "color": "#C8D4E3"
             },
             "line": {
              "color": "white"
             }
            },
            "type": "table"
           }
          ]
         },
         "layout": {
          "annotationdefaults": {
           "arrowcolor": "#2a3f5f",
           "arrowhead": 0,
           "arrowwidth": 1
          },
          "autotypenumbers": "strict",
          "coloraxis": {
           "colorbar": {
            "outlinewidth": 0,
            "ticks": ""
           }
          },
          "colorscale": {
           "diverging": [
            [
             0,
             "#8e0152"
            ],
            [
             0.1,
             "#c51b7d"
            ],
            [
             0.2,
             "#de77ae"
            ],
            [
             0.3,
             "#f1b6da"
            ],
            [
             0.4,
             "#fde0ef"
            ],
            [
             0.5,
             "#f7f7f7"
            ],
            [
             0.6,
             "#e6f5d0"
            ],
            [
             0.7,
             "#b8e186"
            ],
            [
             0.8,
             "#7fbc41"
            ],
            [
             0.9,
             "#4d9221"
            ],
            [
             1,
             "#276419"
            ]
           ],
           "sequential": [
            [
             0,
             "#0d0887"
            ],
            [
             0.1111111111111111,
             "#46039f"
            ],
            [
             0.2222222222222222,
             "#7201a8"
            ],
            [
             0.3333333333333333,
             "#9c179e"
            ],
            [
             0.4444444444444444,
             "#bd3786"
            ],
            [
             0.5555555555555556,
             "#d8576b"
            ],
            [
             0.6666666666666666,
             "#ed7953"
            ],
            [
             0.7777777777777778,
             "#fb9f3a"
            ],
            [
             0.8888888888888888,
             "#fdca26"
            ],
            [
             1,
             "#f0f921"
            ]
           ],
           "sequentialminus": [
            [
             0,
             "#0d0887"
            ],
            [
             0.1111111111111111,
             "#46039f"
            ],
            [
             0.2222222222222222,
             "#7201a8"
            ],
            [
             0.3333333333333333,
             "#9c179e"
            ],
            [
             0.4444444444444444,
             "#bd3786"
            ],
            [
             0.5555555555555556,
             "#d8576b"
            ],
            [
             0.6666666666666666,
             "#ed7953"
            ],
            [
             0.7777777777777778,
             "#fb9f3a"
            ],
            [
             0.8888888888888888,
             "#fdca26"
            ],
            [
             1,
             "#f0f921"
            ]
           ]
          },
          "colorway": [
           "#636efa",
           "#EF553B",
           "#00cc96",
           "#ab63fa",
           "#FFA15A",
           "#19d3f3",
           "#FF6692",
           "#B6E880",
           "#FF97FF",
           "#FECB52"
          ],
          "font": {
           "color": "#2a3f5f"
          },
          "geo": {
           "bgcolor": "white",
           "lakecolor": "white",
           "landcolor": "#E5ECF6",
           "showlakes": true,
           "showland": true,
           "subunitcolor": "white"
          },
          "hoverlabel": {
           "align": "left"
          },
          "hovermode": "closest",
          "mapbox": {
           "style": "light"
          },
          "paper_bgcolor": "white",
          "plot_bgcolor": "#E5ECF6",
          "polar": {
           "angularaxis": {
            "gridcolor": "white",
            "linecolor": "white",
            "ticks": ""
           },
           "bgcolor": "#E5ECF6",
           "radialaxis": {
            "gridcolor": "white",
            "linecolor": "white",
            "ticks": ""
           }
          },
          "scene": {
           "xaxis": {
            "backgroundcolor": "#E5ECF6",
            "gridcolor": "white",
            "gridwidth": 2,
            "linecolor": "white",
            "showbackground": true,
            "ticks": "",
            "zerolinecolor": "white"
           },
           "yaxis": {
            "backgroundcolor": "#E5ECF6",
            "gridcolor": "white",
            "gridwidth": 2,
            "linecolor": "white",
            "showbackground": true,
            "ticks": "",
            "zerolinecolor": "white"
           },
           "zaxis": {
            "backgroundcolor": "#E5ECF6",
            "gridcolor": "white",
            "gridwidth": 2,
            "linecolor": "white",
            "showbackground": true,
            "ticks": "",
            "zerolinecolor": "white"
           }
          },
          "shapedefaults": {
           "line": {
            "color": "#2a3f5f"
           }
          },
          "ternary": {
           "aaxis": {
            "gridcolor": "white",
            "linecolor": "white",
            "ticks": ""
           },
           "baxis": {
            "gridcolor": "white",
            "linecolor": "white",
            "ticks": ""
           },
           "bgcolor": "#E5ECF6",
           "caxis": {
            "gridcolor": "white",
            "linecolor": "white",
            "ticks": ""
           }
          },
          "title": {
           "x": 0.05
          },
          "xaxis": {
           "automargin": true,
           "gridcolor": "white",
           "linecolor": "white",
           "ticks": "",
           "title": {
            "standoff": 15
           },
           "zerolinecolor": "white",
           "zerolinewidth": 2
          },
          "yaxis": {
           "automargin": true,
           "gridcolor": "white",
           "linecolor": "white",
           "ticks": "",
           "title": {
            "standoff": 15
           },
           "zerolinecolor": "white",
           "zerolinewidth": 2
          }
         }
        },
        "xaxis": {
         "anchor": "y",
         "domain": [
          0,
          1
         ],
         "title": {
          "text": "umap comp. 1"
         }
        },
        "yaxis": {
         "anchor": "x",
         "domain": [
          0,
          1
         ],
         "title": {
          "text": "umap comp. 2"
         }
        }
       }
      },
      "text/html": [
       "<div>                            <div id=\"453d45be-3189-45d7-a68b-012578ef8598\" class=\"plotly-graph-div\" style=\"height:525px; width:100%;\"></div>            <script type=\"text/javascript\">                require([\"plotly\"], function(Plotly) {                    window.PLOTLYENV=window.PLOTLYENV || {};                                    if (document.getElementById(\"453d45be-3189-45d7-a68b-012578ef8598\")) {                    Plotly.newPlot(                        \"453d45be-3189-45d7-a68b-012578ef8598\",                        [{\"hovertemplate\":\"sample_type.samples=Metastatic<br>umap comp. 1=%{x}<br>umap comp. 2=%{y}<extra></extra>\",\"legendgroup\":\"Metastatic\",\"marker\":{\"color\":\"#636efa\",\"symbol\":\"circle\"},\"mode\":\"markers\",\"name\":\"Metastatic\",\"orientation\":\"v\",\"showlegend\":true,\"x\":[0.4769953191280365,1.3527865409851074,4.900091648101807,0.776159405708313,5.81779146194458,5.861719608306885,0.7842036485671997,1.5609344244003296,2.472541093826294,5.055769920349121,2.809574604034424,5.3433942794799805,4.49949836730957,2.439709424972534,3.541715145111084,5.616331577301025,3.292393922805786,5.355608940124512,0.3878655731678009,3.4004197120666504,4.792561054229736,2.2884681224823,3.9144270420074463,3.4899613857269287,4.046327590942383,3.6913955211639404,3.57916522026062,2.3779821395874023,5.506998538970947,4.501594543457031,3.5323073863983154,-0.28143396973609924,2.1318302154541016,5.451845169067383,2.462111711502075,0.06372290849685669,5.6843414306640625,1.014291763305664,3.9383020401000977,2.6721696853637695,4.007485866546631,3.874058246612549,3.615386724472046,4.535721302032471,1.3486251831054688,5.6902546882629395,5.346224784851074,3.5040440559387207,2.7324275970458984,5.4333176612854,4.6895012855529785,0.9709829092025757,2.537128210067749,4.750014781951904,1.9571744203567505,5.6347270011901855,5.597871780395508,0.696793258190155,5.78605318069458,5.414912700653076,2.2282333374023438,5.295116424560547,3.620546817779541,3.8640811443328857,5.265382289886475,4.124029159545898,5.108036041259766,4.769508361816406,6.069649696350098,3.1420018672943115,0.6519963145256042,1.8101619482040405,2.1196584701538086,1.929364800453186,4.8430047035217285,3.737447738647461,4.645401477813721,1.587859034538269,5.502042770385742,3.8284521102905273,3.039557456970215,2.9783875942230225,2.3519582748413086,2.418938636779785,6.039977550506592,3.5902099609375,2.9050192832946777,0.8426611423492432,0.17834514379501343,5.463722229003906,5.166733741760254,3.2018887996673584,4.279350280761719,3.809433937072754,5.193198204040527,3.5887415409088135,4.678554534912109,4.95646858215332,2.7264137268066406,3.9120664596557617,3.4189558029174805,4.077544212341309,1.474335789680481,3.8805043697357178,5.738053321838379,5.780577182769775,4.261526584625244,2.3433022499084473,1.9933319091796875,5.306565284729004,5.523641109466553,4.1432976722717285,2.6168603897094727,5.961374282836914,3.8334834575653076,3.3151862621307373,4.444754600524902,0.5109224319458008,5.400974750518799,5.260463714599609,5.059561252593994,1.8582425117492676,4.510890007019043,3.0842695236206055,1.6388366222381592,5.798651695251465,0.530650794506073,5.62587308883667,4.043696403503418,4.104586124420166,4.281184673309326,5.058957099914551,1.280837893486023,2.1416521072387695,5.806057453155518,2.028564929962158,2.484835386276245],\"xaxis\":\"x\",\"y\":[3.4659621715545654,2.410891056060791,1.376531720161438,2.5844171047210693,1.3061625957489014,3.0831470489501953,4.490290641784668,2.332380771636963,5.276187419891357,0.55411297082901,1.4324219226837158,0.5543568134307861,1.082168698310852,4.999237537384033,3.0047314167022705,3.3374783992767334,1.0291274785995483,1.2463877201080322,2.9807333946228027,2.822423219680786,1.9035913944244385,4.125833511352539,1.4706801176071167,0.9894649982452393,1.4386967420578003,3.1588480472564697,5.010567665100098,2.691035509109497,0.8113269209861755,3.6545636653900146,2.7073254585266113,4.1226396560668945,3.0982699394226074,1.6124688386917114,5.225546360015869,5.015538692474365,2.119155168533325,2.969158411026001,1.958793044090271,3.0876383781433105,3.3599936962127686,2.6841588020324707,4.969899654388428,2.0295870304107666,2.6501176357269287,0.8830621838569641,2.115041971206665,1.1721217632293701,4.9029388427734375,3.7079379558563232,3.9308478832244873,3.2397899627685547,4.651907444000244,3.841463804244995,2.7795863151550293,2.818453788757324,2.160961627960205,3.1586368083953857,1.0176761150360107,1.696475863456726,4.340892791748047,3.1862804889678955,1.3887807130813599,2.241814136505127,0.9326991438865662,0.7151024341583252,0.6836574673652649,2.900543451309204,1.2181071043014526,4.952814102172852,2.48551082611084,4.227819919586182,2.577336549758911,2.9380924701690674,0.9244276285171509,1.3244528770446777,0.8109622001647949,2.589343786239624,0.6154100894927979,3.7874302864074707,2.9030160903930664,4.807824611663818,5.023619174957275,2.6854474544525146,0.7658567428588867,4.875851631164551,3.1340103149414062,2.60459041595459,3.071587324142456,1.5857080221176147,3.61059832572937,1.6258574724197388,3.8378806114196777,2.7640812397003174,1.3286582231521606,2.3789539337158203,2.1967108249664307,3.870079278945923,2.6980881690979004,0.702844500541687,4.066508769989014,4.7571306228637695,3.7088515758514404,1.9512076377868652,3.294682502746582,1.1536024808883667,4.565655708312988,4.505280494689941,2.150510787963867,1.4304132461547852,3.4992940425872803,2.5070462226867676,2.7109735012054443,0.814817488193512,4.968339920043945,1.6947311162948608,2.717975378036499,3.3550357818603516,2.1317782402038574,3.6129467487335205,0.9554656744003296,4.147824764251709,1.4095524549484253,4.71809720993042,1.9581457376480103,2.873429536819458,2.7462666034698486,2.4023332595825195,4.786655426025391,1.696675181388855,1.8589593172073364,1.579641580581665,3.259953260421753,4.6997528076171875,0.6198734641075134,4.493577480316162,5.133913516998291],\"yaxis\":\"y\",\"type\":\"scatter\"},{\"hovertemplate\":\"sample_type.samples=Primary Tumor<br>umap comp. 1=%{x}<br>umap comp. 2=%{y}<extra></extra>\",\"legendgroup\":\"Primary Tumor\",\"marker\":{\"color\":\"#EF553B\",\"symbol\":\"circle\"},\"mode\":\"markers\",\"name\":\"Primary Tumor\",\"orientation\":\"v\",\"showlegend\":true,\"x\":[-0.574792742729187,1.003066897392273,1.1752872467041016,4.4302167892456055,-0.649025022983551,2.169442892074585,1.1997771263122559,0.9650393128395081,1.8045332431793213,1.5050824880599976,-0.6804885268211365,0.2716796398162842,1.6029078960418701,1.6209396123886108,3.7031311988830566,0.4951835870742798,1.1351444721221924,2.6467533111572266,-0.233059823513031,2.8643112182617188,1.0173231363296509,-0.7784608602523804,0.9320504665374756,-0.5466663837432861,3.352424383163452,-0.5860112309455872,-0.6599922776222229,-0.6030315160751343,-0.4826362729072571,-0.08749833703041077,-0.0541130006313324,0.3658936321735382,-0.43527209758758545,-0.6282256245613098,1.1996822357177734,-0.5636889338493347,2.8991079330444336,-0.4141053557395935,0.9992297291755676,0.7761165499687195,-0.2979085147380829,4.896857261657715],\"xaxis\":\"x\",\"y\":[4.690710544586182,3.7338759899139404,4.6507697105407715,1.1265270709991455,5.45513391494751,5.082096099853516,3.6194937229156494,2.6378049850463867,3.144158363342285,4.1222100257873535,5.106295585632324,2.8261499404907227,2.009033679962158,1.9905239343643188,0.809400200843811,2.7805774211883545,2.4924168586730957,5.081485748291016,4.616135597229004,1.8991026878356934,4.209611415863037,5.225311279296875,2.9418976306915283,5.34088134765625,2.010896921157837,4.866576194763184,5.483662128448486,5.570278167724609,5.373073577880859,5.388911247253418,5.443328380584717,4.78996467590332,4.505221843719482,4.935840606689453,4.1955180168151855,4.892029762268066,2.148191452026367,5.236197471618652,3.1309127807617188,3.0268237590789795,5.486286163330078,2.229926109313965],\"yaxis\":\"y\",\"type\":\"scatter\"}],                        {\"template\":{\"data\":{\"histogram2dcontour\":[{\"type\":\"histogram2dcontour\",\"colorbar\":{\"outlinewidth\":0,\"ticks\":\"\"},\"colorscale\":[[0.0,\"#0d0887\"],[0.1111111111111111,\"#46039f\"],[0.2222222222222222,\"#7201a8\"],[0.3333333333333333,\"#9c179e\"],[0.4444444444444444,\"#bd3786\"],[0.5555555555555556,\"#d8576b\"],[0.6666666666666666,\"#ed7953\"],[0.7777777777777778,\"#fb9f3a\"],[0.8888888888888888,\"#fdca26\"],[1.0,\"#f0f921\"]]}],\"choropleth\":[{\"type\":\"choropleth\",\"colorbar\":{\"outlinewidth\":0,\"ticks\":\"\"}}],\"histogram2d\":[{\"type\":\"histogram2d\",\"colorbar\":{\"outlinewidth\":0,\"ticks\":\"\"},\"colorscale\":[[0.0,\"#0d0887\"],[0.1111111111111111,\"#46039f\"],[0.2222222222222222,\"#7201a8\"],[0.3333333333333333,\"#9c179e\"],[0.4444444444444444,\"#bd3786\"],[0.5555555555555556,\"#d8576b\"],[0.6666666666666666,\"#ed7953\"],[0.7777777777777778,\"#fb9f3a\"],[0.8888888888888888,\"#fdca26\"],[1.0,\"#f0f921\"]]}],\"heatmap\":[{\"type\":\"heatmap\",\"colorbar\":{\"outlinewidth\":0,\"ticks\":\"\"},\"colorscale\":[[0.0,\"#0d0887\"],[0.1111111111111111,\"#46039f\"],[0.2222222222222222,\"#7201a8\"],[0.3333333333333333,\"#9c179e\"],[0.4444444444444444,\"#bd3786\"],[0.5555555555555556,\"#d8576b\"],[0.6666666666666666,\"#ed7953\"],[0.7777777777777778,\"#fb9f3a\"],[0.8888888888888888,\"#fdca26\"],[1.0,\"#f0f921\"]]}],\"heatmapgl\":[{\"type\":\"heatmapgl\",\"colorbar\":{\"outlinewidth\":0,\"ticks\":\"\"},\"colorscale\":[[0.0,\"#0d0887\"],[0.1111111111111111,\"#46039f\"],[0.2222222222222222,\"#7201a8\"],[0.3333333333333333,\"#9c179e\"],[0.4444444444444444,\"#bd3786\"],[0.5555555555555556,\"#d8576b\"],[0.6666666666666666,\"#ed7953\"],[0.7777777777777778,\"#fb9f3a\"],[0.8888888888888888,\"#fdca26\"],[1.0,\"#f0f921\"]]}],\"contourcarpet\":[{\"type\":\"contourcarpet\",\"colorbar\":{\"outlinewidth\":0,\"ticks\":\"\"}}],\"contour\":[{\"type\":\"contour\",\"colorbar\":{\"outlinewidth\":0,\"ticks\":\"\"},\"colorscale\":[[0.0,\"#0d0887\"],[0.1111111111111111,\"#46039f\"],[0.2222222222222222,\"#7201a8\"],[0.3333333333333333,\"#9c179e\"],[0.4444444444444444,\"#bd3786\"],[0.5555555555555556,\"#d8576b\"],[0.6666666666666666,\"#ed7953\"],[0.7777777777777778,\"#fb9f3a\"],[0.8888888888888888,\"#fdca26\"],[1.0,\"#f0f921\"]]}],\"surface\":[{\"type\":\"surface\",\"colorbar\":{\"outlinewidth\":0,\"ticks\":\"\"},\"colorscale\":[[0.0,\"#0d0887\"],[0.1111111111111111,\"#46039f\"],[0.2222222222222222,\"#7201a8\"],[0.3333333333333333,\"#9c179e\"],[0.4444444444444444,\"#bd3786\"],[0.5555555555555556,\"#d8576b\"],[0.6666666666666666,\"#ed7953\"],[0.7777777777777778,\"#fb9f3a\"],[0.8888888888888888,\"#fdca26\"],[1.0,\"#f0f921\"]]}],\"mesh3d\":[{\"type\":\"mesh3d\",\"colorbar\":{\"outlinewidth\":0,\"ticks\":\"\"}}],\"scatter\":[{\"fillpattern\":{\"fillmode\":\"overlay\",\"size\":10,\"solidity\":0.2},\"type\":\"scatter\"}],\"parcoords\":[{\"type\":\"parcoords\",\"line\":{\"colorbar\":{\"outlinewidth\":0,\"ticks\":\"\"}}}],\"scatterpolargl\":[{\"type\":\"scatterpolargl\",\"marker\":{\"colorbar\":{\"outlinewidth\":0,\"ticks\":\"\"}}}],\"bar\":[{\"error_x\":{\"color\":\"#2a3f5f\"},\"error_y\":{\"color\":\"#2a3f5f\"},\"marker\":{\"line\":{\"color\":\"#E5ECF6\",\"width\":0.5},\"pattern\":{\"fillmode\":\"overlay\",\"size\":10,\"solidity\":0.2}},\"type\":\"bar\"}],\"scattergeo\":[{\"type\":\"scattergeo\",\"marker\":{\"colorbar\":{\"outlinewidth\":0,\"ticks\":\"\"}}}],\"scatterpolar\":[{\"type\":\"scatterpolar\",\"marker\":{\"colorbar\":{\"outlinewidth\":0,\"ticks\":\"\"}}}],\"histogram\":[{\"marker\":{\"pattern\":{\"fillmode\":\"overlay\",\"size\":10,\"solidity\":0.2}},\"type\":\"histogram\"}],\"scattergl\":[{\"type\":\"scattergl\",\"marker\":{\"colorbar\":{\"outlinewidth\":0,\"ticks\":\"\"}}}],\"scatter3d\":[{\"type\":\"scatter3d\",\"line\":{\"colorbar\":{\"outlinewidth\":0,\"ticks\":\"\"}},\"marker\":{\"colorbar\":{\"outlinewidth\":0,\"ticks\":\"\"}}}],\"scattermapbox\":[{\"type\":\"scattermapbox\",\"marker\":{\"colorbar\":{\"outlinewidth\":0,\"ticks\":\"\"}}}],\"scatterternary\":[{\"type\":\"scatterternary\",\"marker\":{\"colorbar\":{\"outlinewidth\":0,\"ticks\":\"\"}}}],\"scattercarpet\":[{\"type\":\"scattercarpet\",\"marker\":{\"colorbar\":{\"outlinewidth\":0,\"ticks\":\"\"}}}],\"carpet\":[{\"aaxis\":{\"endlinecolor\":\"#2a3f5f\",\"gridcolor\":\"white\",\"linecolor\":\"white\",\"minorgridcolor\":\"white\",\"startlinecolor\":\"#2a3f5f\"},\"baxis\":{\"endlinecolor\":\"#2a3f5f\",\"gridcolor\":\"white\",\"linecolor\":\"white\",\"minorgridcolor\":\"white\",\"startlinecolor\":\"#2a3f5f\"},\"type\":\"carpet\"}],\"table\":[{\"cells\":{\"fill\":{\"color\":\"#EBF0F8\"},\"line\":{\"color\":\"white\"}},\"header\":{\"fill\":{\"color\":\"#C8D4E3\"},\"line\":{\"color\":\"white\"}},\"type\":\"table\"}],\"barpolar\":[{\"marker\":{\"line\":{\"color\":\"#E5ECF6\",\"width\":0.5},\"pattern\":{\"fillmode\":\"overlay\",\"size\":10,\"solidity\":0.2}},\"type\":\"barpolar\"}],\"pie\":[{\"automargin\":true,\"type\":\"pie\"}]},\"layout\":{\"autotypenumbers\":\"strict\",\"colorway\":[\"#636efa\",\"#EF553B\",\"#00cc96\",\"#ab63fa\",\"#FFA15A\",\"#19d3f3\",\"#FF6692\",\"#B6E880\",\"#FF97FF\",\"#FECB52\"],\"font\":{\"color\":\"#2a3f5f\"},\"hovermode\":\"closest\",\"hoverlabel\":{\"align\":\"left\"},\"paper_bgcolor\":\"white\",\"plot_bgcolor\":\"#E5ECF6\",\"polar\":{\"bgcolor\":\"#E5ECF6\",\"angularaxis\":{\"gridcolor\":\"white\",\"linecolor\":\"white\",\"ticks\":\"\"},\"radialaxis\":{\"gridcolor\":\"white\",\"linecolor\":\"white\",\"ticks\":\"\"}},\"ternary\":{\"bgcolor\":\"#E5ECF6\",\"aaxis\":{\"gridcolor\":\"white\",\"linecolor\":\"white\",\"ticks\":\"\"},\"baxis\":{\"gridcolor\":\"white\",\"linecolor\":\"white\",\"ticks\":\"\"},\"caxis\":{\"gridcolor\":\"white\",\"linecolor\":\"white\",\"ticks\":\"\"}},\"coloraxis\":{\"colorbar\":{\"outlinewidth\":0,\"ticks\":\"\"}},\"colorscale\":{\"sequential\":[[0.0,\"#0d0887\"],[0.1111111111111111,\"#46039f\"],[0.2222222222222222,\"#7201a8\"],[0.3333333333333333,\"#9c179e\"],[0.4444444444444444,\"#bd3786\"],[0.5555555555555556,\"#d8576b\"],[0.6666666666666666,\"#ed7953\"],[0.7777777777777778,\"#fb9f3a\"],[0.8888888888888888,\"#fdca26\"],[1.0,\"#f0f921\"]],\"sequentialminus\":[[0.0,\"#0d0887\"],[0.1111111111111111,\"#46039f\"],[0.2222222222222222,\"#7201a8\"],[0.3333333333333333,\"#9c179e\"],[0.4444444444444444,\"#bd3786\"],[0.5555555555555556,\"#d8576b\"],[0.6666666666666666,\"#ed7953\"],[0.7777777777777778,\"#fb9f3a\"],[0.8888888888888888,\"#fdca26\"],[1.0,\"#f0f921\"]],\"diverging\":[[0,\"#8e0152\"],[0.1,\"#c51b7d\"],[0.2,\"#de77ae\"],[0.3,\"#f1b6da\"],[0.4,\"#fde0ef\"],[0.5,\"#f7f7f7\"],[0.6,\"#e6f5d0\"],[0.7,\"#b8e186\"],[0.8,\"#7fbc41\"],[0.9,\"#4d9221\"],[1,\"#276419\"]]},\"xaxis\":{\"gridcolor\":\"white\",\"linecolor\":\"white\",\"ticks\":\"\",\"title\":{\"standoff\":15},\"zerolinecolor\":\"white\",\"automargin\":true,\"zerolinewidth\":2},\"yaxis\":{\"gridcolor\":\"white\",\"linecolor\":\"white\",\"ticks\":\"\",\"title\":{\"standoff\":15},\"zerolinecolor\":\"white\",\"automargin\":true,\"zerolinewidth\":2},\"scene\":{\"xaxis\":{\"backgroundcolor\":\"#E5ECF6\",\"gridcolor\":\"white\",\"linecolor\":\"white\",\"showbackground\":true,\"ticks\":\"\",\"zerolinecolor\":\"white\",\"gridwidth\":2},\"yaxis\":{\"backgroundcolor\":\"#E5ECF6\",\"gridcolor\":\"white\",\"linecolor\":\"white\",\"showbackground\":true,\"ticks\":\"\",\"zerolinecolor\":\"white\",\"gridwidth\":2},\"zaxis\":{\"backgroundcolor\":\"#E5ECF6\",\"gridcolor\":\"white\",\"linecolor\":\"white\",\"showbackground\":true,\"ticks\":\"\",\"zerolinecolor\":\"white\",\"gridwidth\":2}},\"shapedefaults\":{\"line\":{\"color\":\"#2a3f5f\"}},\"annotationdefaults\":{\"arrowcolor\":\"#2a3f5f\",\"arrowhead\":0,\"arrowwidth\":1},\"geo\":{\"bgcolor\":\"white\",\"landcolor\":\"#E5ECF6\",\"subunitcolor\":\"white\",\"showland\":true,\"showlakes\":true,\"lakecolor\":\"white\"},\"title\":{\"x\":0.05},\"mapbox\":{\"style\":\"light\"}}},\"xaxis\":{\"anchor\":\"y\",\"domain\":[0.0,1.0],\"title\":{\"text\":\"umap comp. 1\"}},\"yaxis\":{\"anchor\":\"x\",\"domain\":[0.0,1.0],\"title\":{\"text\":\"umap comp. 2\"}},\"legend\":{\"title\":{\"text\":\"sample_type.samples\"},\"tracegroupgap\":0},\"margin\":{\"t\":60}},                        {\"responsive\": true}                    ).then(function(){\n",
       "                            \n",
       "var gd = document.getElementById('453d45be-3189-45d7-a68b-012578ef8598');\n",
       "var x = new MutationObserver(function (mutations, observer) {{\n",
       "        var display = window.getComputedStyle(gd).display;\n",
       "        if (!display || display === 'none') {{\n",
       "            console.log([gd, 'removed!']);\n",
       "            Plotly.purge(gd);\n",
       "            observer.disconnect();\n",
       "        }}\n",
       "}});\n",
       "\n",
       "// Listen for the removal of the full notebook cells\n",
       "var notebookContainer = gd.closest('#notebook-container');\n",
       "if (notebookContainer) {{\n",
       "    x.observe(notebookContainer, {childList: true});\n",
       "}}\n",
       "\n",
       "// Listen for the clearing of the current output cell\n",
       "var outputEl = gd.closest('.output');\n",
       "if (outputEl) {{\n",
       "    x.observe(outputEl, {childList: true});\n",
       "}}\n",
       "\n",
       "                        })                };                });            </script>        </div>"
      ]
     },
     "metadata": {},
     "output_type": "display_data"
    }
   ],
   "source": [
    "umap_df2 = pd.concat([umap_df,clinicalData],axis = 1)\n",
    "fig = px.scatter(umap_df2, x=\"umap comp. 1\", y=\"umap comp. 2\",color=\"sample_type.samples\")\n",
    "fig.show()"
   ]
  },
  {
   "cell_type": "code",
   "execution_count": 109,
   "metadata": {},
   "outputs": [
    {
     "data": {
      "application/vnd.plotly.v1+json": {
       "config": {
        "plotlyServerURL": "https://plot.ly"
       },
       "data": [
        {
         "hovertemplate": "submitted_tumor_location=Distant Metastasis<br>umap comp. 1=%{x}<br>umap comp. 2=%{y}<extra></extra>",
         "legendgroup": "Distant Metastasis",
         "marker": {
          "color": "#636efa",
          "symbol": "circle"
         },
         "mode": "markers",
         "name": "Distant Metastasis",
         "orientation": "v",
         "showlegend": true,
         "type": "scatter",
         "x": [
          0.4769953191280365,
          1.5609344244003296,
          2.809574604034424,
          3.541715145111084,
          4.792561054229736,
          3.57916522026062,
          -0.28143396973609924,
          0.06372290849685669,
          4.007485866546631,
          4.6895012855529785,
          2.537128210067749,
          1.9571744203567505,
          0.696793258190155,
          2.2282333374023438,
          5.295116424560547,
          5.265382289886475,
          0.6519963145256042,
          2.1196584701538086,
          1.929364800453186,
          0.8426611423492432,
          5.738053321838379,
          0.5109224319458008,
          1.8582425117492676,
          0.530650794506073,
          5.806057453155518,
          2.484835386276245
         ],
         "xaxis": "x",
         "y": [
          3.4659621715545654,
          2.332380771636963,
          1.4324219226837158,
          3.0047314167022705,
          1.9035913944244385,
          5.010567665100098,
          4.1226396560668945,
          5.015538692474365,
          3.3599936962127686,
          3.9308478832244873,
          4.651907444000244,
          2.7795863151550293,
          3.1586368083953857,
          4.340892791748047,
          3.1862804889678955,
          0.9326991438865662,
          2.48551082611084,
          2.577336549758911,
          2.9380924701690674,
          2.60459041595459,
          3.294682502746582,
          3.3550357818603516,
          4.147824764251709,
          2.7462666034698486,
          0.6198734641075134,
          5.133913516998291
         ],
         "yaxis": "y"
        },
        {
         "hovertemplate": "submitted_tumor_location=Primary Tumor<br>umap comp. 1=%{x}<br>umap comp. 2=%{y}<extra></extra>",
         "legendgroup": "Primary Tumor",
         "marker": {
          "color": "#EF553B",
          "symbol": "circle"
         },
         "mode": "markers",
         "name": "Primary Tumor",
         "orientation": "v",
         "showlegend": true,
         "type": "scatter",
         "x": [
          -0.574792742729187,
          1.003066897392273,
          1.1752872467041016,
          4.4302167892456055,
          -0.649025022983551,
          2.169442892074585,
          1.1997771263122559,
          0.9650393128395081,
          1.8045332431793213,
          1.5050824880599976,
          -0.6804885268211365,
          0.2716796398162842,
          1.6029078960418701,
          1.6209396123886108,
          3.7031311988830566,
          0.4951835870742798,
          1.1351444721221924,
          2.6467533111572266,
          -0.233059823513031,
          2.8643112182617188,
          1.0173231363296509,
          -0.7784608602523804,
          4.8430047035217285,
          0.9320504665374756,
          -0.5466663837432861,
          3.352424383163452,
          -0.5860112309455872,
          -0.6599922776222229,
          -0.6030315160751343,
          -0.4826362729072571,
          -0.08749833703041077,
          -0.0541130006313324,
          0.3658936321735382,
          -0.43527209758758545,
          -0.6282256245613098,
          1.1996822357177734,
          -0.5636889338493347,
          2.8991079330444336,
          -0.4141053557395935,
          0.9992297291755676,
          0.7761165499687195,
          -0.2979085147380829,
          4.896857261657715
         ],
         "xaxis": "x",
         "y": [
          4.690710544586182,
          3.7338759899139404,
          4.6507697105407715,
          1.1265270709991455,
          5.45513391494751,
          5.082096099853516,
          3.6194937229156494,
          2.6378049850463867,
          3.144158363342285,
          4.1222100257873535,
          5.106295585632324,
          2.8261499404907227,
          2.009033679962158,
          1.9905239343643188,
          0.809400200843811,
          2.7805774211883545,
          2.4924168586730957,
          5.081485748291016,
          4.616135597229004,
          1.8991026878356934,
          4.209611415863037,
          5.225311279296875,
          0.9244276285171509,
          2.9418976306915283,
          5.34088134765625,
          2.010896921157837,
          4.866576194763184,
          5.483662128448486,
          5.570278167724609,
          5.373073577880859,
          5.388911247253418,
          5.443328380584717,
          4.78996467590332,
          4.505221843719482,
          4.935840606689453,
          4.1955180168151855,
          4.892029762268066,
          2.148191452026367,
          5.236197471618652,
          3.1309127807617188,
          3.0268237590789795,
          5.486286163330078,
          2.229926109313965
         ],
         "yaxis": "y"
        },
        {
         "hovertemplate": "submitted_tumor_location=Regional Lymph Node<br>umap comp. 1=%{x}<br>umap comp. 2=%{y}<extra></extra>",
         "legendgroup": "Regional Lymph Node",
         "marker": {
          "color": "#00cc96",
          "symbol": "circle"
         },
         "mode": "markers",
         "name": "Regional Lymph Node",
         "orientation": "v",
         "showlegend": true,
         "type": "scatter",
         "x": [
          1.3527865409851074,
          4.900091648101807,
          0.776159405708313,
          5.81779146194458,
          5.861719608306885,
          2.472541093826294,
          5.055769920349121,
          5.3433942794799805,
          4.49949836730957,
          5.616331577301025,
          3.292393922805786,
          5.355608940124512,
          0.3878655731678009,
          3.9144270420074463,
          3.4899613857269287,
          4.046327590942383,
          3.6913955211639404,
          2.3779821395874023,
          5.506998538970947,
          4.501594543457031,
          3.5323073863983154,
          2.1318302154541016,
          5.451845169067383,
          2.462111711502075,
          5.6843414306640625,
          1.014291763305664,
          3.9383020401000977,
          2.6721696853637695,
          3.874058246612549,
          4.535721302032471,
          1.3486251831054688,
          5.6902546882629395,
          5.346224784851074,
          2.7324275970458984,
          5.4333176612854,
          4.750014781951904,
          5.6347270011901855,
          5.597871780395508,
          5.78605318069458,
          5.414912700653076,
          4.124029159545898,
          4.769508361816406,
          6.069649696350098,
          3.737447738647461,
          5.502042770385742,
          3.8284521102905273,
          2.9783875942230225,
          2.418938636779785,
          6.039977550506592,
          3.5902099609375,
          2.9050192832946777,
          0.17834514379501343,
          5.463722229003906,
          5.166733741760254,
          3.2018887996673584,
          4.279350280761719,
          3.809433937072754,
          5.193198204040527,
          3.5887415409088135,
          2.7264137268066406,
          3.9120664596557617,
          4.077544212341309,
          5.780577182769775,
          2.3433022499084473,
          1.9933319091796875,
          5.306565284729004,
          5.523641109466553,
          4.1432976722717285,
          2.6168603897094727,
          5.961374282836914,
          3.3151862621307373,
          4.444754600524902,
          5.400974750518799,
          5.059561252593994,
          4.510890007019043,
          3.0842695236206055,
          1.6388366222381592,
          5.798651695251465,
          5.62587308883667,
          4.104586124420166,
          4.281184673309326,
          5.058957099914551,
          2.028564929962158
         ],
         "xaxis": "x",
         "y": [
          2.410891056060791,
          1.376531720161438,
          2.5844171047210693,
          1.3061625957489014,
          3.0831470489501953,
          5.276187419891357,
          0.55411297082901,
          0.5543568134307861,
          1.082168698310852,
          3.3374783992767334,
          1.0291274785995483,
          1.2463877201080322,
          2.9807333946228027,
          1.4706801176071167,
          0.9894649982452393,
          1.4386967420578003,
          3.1588480472564697,
          2.691035509109497,
          0.8113269209861755,
          3.6545636653900146,
          2.7073254585266113,
          3.0982699394226074,
          1.6124688386917114,
          5.225546360015869,
          2.119155168533325,
          2.969158411026001,
          1.958793044090271,
          3.0876383781433105,
          2.6841588020324707,
          2.0295870304107666,
          2.6501176357269287,
          0.8830621838569641,
          2.115041971206665,
          4.9029388427734375,
          3.7079379558563232,
          3.841463804244995,
          2.818453788757324,
          2.160961627960205,
          1.0176761150360107,
          1.696475863456726,
          0.7151024341583252,
          2.900543451309204,
          1.2181071043014526,
          1.3244528770446777,
          0.6154100894927979,
          3.7874302864074707,
          4.807824611663818,
          2.6854474544525146,
          0.7658567428588867,
          4.875851631164551,
          3.1340103149414062,
          3.071587324142456,
          1.5857080221176147,
          3.61059832572937,
          1.6258574724197388,
          3.8378806114196777,
          2.7640812397003174,
          1.3286582231521606,
          2.3789539337158203,
          2.6980881690979004,
          0.702844500541687,
          4.7571306228637695,
          1.1536024808883667,
          4.505280494689941,
          2.150510787963867,
          1.4304132461547852,
          3.4992940425872803,
          2.5070462226867676,
          2.7109735012054443,
          0.814817488193512,
          1.6947311162948608,
          2.717975378036499,
          2.1317782402038574,
          0.9554656744003296,
          1.4095524549484253,
          4.71809720993042,
          1.9581457376480103,
          2.873429536819458,
          2.4023332595825195,
          1.696675181388855,
          1.8589593172073364,
          1.579641580581665,
          4.493577480316162
         ],
         "yaxis": "y"
        },
        {
         "hovertemplate": "submitted_tumor_location=Regional Cutaneous or Subcutaneous Tissue (includes satellite and in-transit metastasis)<br>umap comp. 1=%{x}<br>umap comp. 2=%{y}<extra></extra>",
         "legendgroup": "Regional Cutaneous or Subcutaneous Tissue (includes satellite and in-transit metastasis)",
         "marker": {
          "color": "#ab63fa",
          "symbol": "circle"
         },
         "mode": "markers",
         "name": "Regional Cutaneous or Subcutaneous Tissue (includes satellite and in-transit metastasis)",
         "orientation": "v",
         "showlegend": true,
         "type": "scatter",
         "x": [
          0.7842036485671997,
          2.439709424972534,
          3.4004197120666504,
          2.2884681224823,
          3.615386724472046,
          3.5040440559387207,
          0.9709829092025757,
          3.620546817779541,
          3.8640811443328857,
          5.108036041259766,
          3.1420018672943115,
          1.8101619482040405,
          4.645401477813721,
          3.039557456970215,
          2.3519582748413086,
          4.678554534912109,
          4.95646858215332,
          3.4189558029174805,
          1.474335789680481,
          3.8805043697357178,
          4.261526584625244,
          3.8334834575653076,
          5.260463714599609,
          4.043696403503418,
          1.280837893486023,
          2.1416521072387695
         ],
         "xaxis": "x",
         "y": [
          4.490290641784668,
          4.999237537384033,
          2.822423219680786,
          4.125833511352539,
          4.969899654388428,
          1.1721217632293701,
          3.2397899627685547,
          1.3887807130813599,
          2.241814136505127,
          0.6836574673652649,
          4.952814102172852,
          4.227819919586182,
          0.8109622001647949,
          2.9030160903930664,
          5.023619174957275,
          2.1967108249664307,
          3.870079278945923,
          4.066508769989014,
          3.7088515758514404,
          1.9512076377868652,
          4.565655708312988,
          4.968339920043945,
          3.6129467487335205,
          4.786655426025391,
          3.259953260421753,
          4.6997528076171875
         ],
         "yaxis": "y"
        }
       ],
       "layout": {
        "legend": {
         "orientation": "h",
         "title": {
          "text": "submitted_tumor_location"
         },
         "tracegroupgap": 0,
         "x": 1,
         "xanchor": "right",
         "y": 1.02,
         "yanchor": "bottom"
        },
        "margin": {
         "t": 60
        },
        "template": {
         "data": {
          "bar": [
           {
            "error_x": {
             "color": "#2a3f5f"
            },
            "error_y": {
             "color": "#2a3f5f"
            },
            "marker": {
             "line": {
              "color": "#E5ECF6",
              "width": 0.5
             },
             "pattern": {
              "fillmode": "overlay",
              "size": 10,
              "solidity": 0.2
             }
            },
            "type": "bar"
           }
          ],
          "barpolar": [
           {
            "marker": {
             "line": {
              "color": "#E5ECF6",
              "width": 0.5
             },
             "pattern": {
              "fillmode": "overlay",
              "size": 10,
              "solidity": 0.2
             }
            },
            "type": "barpolar"
           }
          ],
          "carpet": [
           {
            "aaxis": {
             "endlinecolor": "#2a3f5f",
             "gridcolor": "white",
             "linecolor": "white",
             "minorgridcolor": "white",
             "startlinecolor": "#2a3f5f"
            },
            "baxis": {
             "endlinecolor": "#2a3f5f",
             "gridcolor": "white",
             "linecolor": "white",
             "minorgridcolor": "white",
             "startlinecolor": "#2a3f5f"
            },
            "type": "carpet"
           }
          ],
          "choropleth": [
           {
            "colorbar": {
             "outlinewidth": 0,
             "ticks": ""
            },
            "type": "choropleth"
           }
          ],
          "contour": [
           {
            "colorbar": {
             "outlinewidth": 0,
             "ticks": ""
            },
            "colorscale": [
             [
              0,
              "#0d0887"
             ],
             [
              0.1111111111111111,
              "#46039f"
             ],
             [
              0.2222222222222222,
              "#7201a8"
             ],
             [
              0.3333333333333333,
              "#9c179e"
             ],
             [
              0.4444444444444444,
              "#bd3786"
             ],
             [
              0.5555555555555556,
              "#d8576b"
             ],
             [
              0.6666666666666666,
              "#ed7953"
             ],
             [
              0.7777777777777778,
              "#fb9f3a"
             ],
             [
              0.8888888888888888,
              "#fdca26"
             ],
             [
              1,
              "#f0f921"
             ]
            ],
            "type": "contour"
           }
          ],
          "contourcarpet": [
           {
            "colorbar": {
             "outlinewidth": 0,
             "ticks": ""
            },
            "type": "contourcarpet"
           }
          ],
          "heatmap": [
           {
            "colorbar": {
             "outlinewidth": 0,
             "ticks": ""
            },
            "colorscale": [
             [
              0,
              "#0d0887"
             ],
             [
              0.1111111111111111,
              "#46039f"
             ],
             [
              0.2222222222222222,
              "#7201a8"
             ],
             [
              0.3333333333333333,
              "#9c179e"
             ],
             [
              0.4444444444444444,
              "#bd3786"
             ],
             [
              0.5555555555555556,
              "#d8576b"
             ],
             [
              0.6666666666666666,
              "#ed7953"
             ],
             [
              0.7777777777777778,
              "#fb9f3a"
             ],
             [
              0.8888888888888888,
              "#fdca26"
             ],
             [
              1,
              "#f0f921"
             ]
            ],
            "type": "heatmap"
           }
          ],
          "heatmapgl": [
           {
            "colorbar": {
             "outlinewidth": 0,
             "ticks": ""
            },
            "colorscale": [
             [
              0,
              "#0d0887"
             ],
             [
              0.1111111111111111,
              "#46039f"
             ],
             [
              0.2222222222222222,
              "#7201a8"
             ],
             [
              0.3333333333333333,
              "#9c179e"
             ],
             [
              0.4444444444444444,
              "#bd3786"
             ],
             [
              0.5555555555555556,
              "#d8576b"
             ],
             [
              0.6666666666666666,
              "#ed7953"
             ],
             [
              0.7777777777777778,
              "#fb9f3a"
             ],
             [
              0.8888888888888888,
              "#fdca26"
             ],
             [
              1,
              "#f0f921"
             ]
            ],
            "type": "heatmapgl"
           }
          ],
          "histogram": [
           {
            "marker": {
             "pattern": {
              "fillmode": "overlay",
              "size": 10,
              "solidity": 0.2
             }
            },
            "type": "histogram"
           }
          ],
          "histogram2d": [
           {
            "colorbar": {
             "outlinewidth": 0,
             "ticks": ""
            },
            "colorscale": [
             [
              0,
              "#0d0887"
             ],
             [
              0.1111111111111111,
              "#46039f"
             ],
             [
              0.2222222222222222,
              "#7201a8"
             ],
             [
              0.3333333333333333,
              "#9c179e"
             ],
             [
              0.4444444444444444,
              "#bd3786"
             ],
             [
              0.5555555555555556,
              "#d8576b"
             ],
             [
              0.6666666666666666,
              "#ed7953"
             ],
             [
              0.7777777777777778,
              "#fb9f3a"
             ],
             [
              0.8888888888888888,
              "#fdca26"
             ],
             [
              1,
              "#f0f921"
             ]
            ],
            "type": "histogram2d"
           }
          ],
          "histogram2dcontour": [
           {
            "colorbar": {
             "outlinewidth": 0,
             "ticks": ""
            },
            "colorscale": [
             [
              0,
              "#0d0887"
             ],
             [
              0.1111111111111111,
              "#46039f"
             ],
             [
              0.2222222222222222,
              "#7201a8"
             ],
             [
              0.3333333333333333,
              "#9c179e"
             ],
             [
              0.4444444444444444,
              "#bd3786"
             ],
             [
              0.5555555555555556,
              "#d8576b"
             ],
             [
              0.6666666666666666,
              "#ed7953"
             ],
             [
              0.7777777777777778,
              "#fb9f3a"
             ],
             [
              0.8888888888888888,
              "#fdca26"
             ],
             [
              1,
              "#f0f921"
             ]
            ],
            "type": "histogram2dcontour"
           }
          ],
          "mesh3d": [
           {
            "colorbar": {
             "outlinewidth": 0,
             "ticks": ""
            },
            "type": "mesh3d"
           }
          ],
          "parcoords": [
           {
            "line": {
             "colorbar": {
              "outlinewidth": 0,
              "ticks": ""
             }
            },
            "type": "parcoords"
           }
          ],
          "pie": [
           {
            "automargin": true,
            "type": "pie"
           }
          ],
          "scatter": [
           {
            "fillpattern": {
             "fillmode": "overlay",
             "size": 10,
             "solidity": 0.2
            },
            "type": "scatter"
           }
          ],
          "scatter3d": [
           {
            "line": {
             "colorbar": {
              "outlinewidth": 0,
              "ticks": ""
             }
            },
            "marker": {
             "colorbar": {
              "outlinewidth": 0,
              "ticks": ""
             }
            },
            "type": "scatter3d"
           }
          ],
          "scattercarpet": [
           {
            "marker": {
             "colorbar": {
              "outlinewidth": 0,
              "ticks": ""
             }
            },
            "type": "scattercarpet"
           }
          ],
          "scattergeo": [
           {
            "marker": {
             "colorbar": {
              "outlinewidth": 0,
              "ticks": ""
             }
            },
            "type": "scattergeo"
           }
          ],
          "scattergl": [
           {
            "marker": {
             "colorbar": {
              "outlinewidth": 0,
              "ticks": ""
             }
            },
            "type": "scattergl"
           }
          ],
          "scattermapbox": [
           {
            "marker": {
             "colorbar": {
              "outlinewidth": 0,
              "ticks": ""
             }
            },
            "type": "scattermapbox"
           }
          ],
          "scatterpolar": [
           {
            "marker": {
             "colorbar": {
              "outlinewidth": 0,
              "ticks": ""
             }
            },
            "type": "scatterpolar"
           }
          ],
          "scatterpolargl": [
           {
            "marker": {
             "colorbar": {
              "outlinewidth": 0,
              "ticks": ""
             }
            },
            "type": "scatterpolargl"
           }
          ],
          "scatterternary": [
           {
            "marker": {
             "colorbar": {
              "outlinewidth": 0,
              "ticks": ""
             }
            },
            "type": "scatterternary"
           }
          ],
          "surface": [
           {
            "colorbar": {
             "outlinewidth": 0,
             "ticks": ""
            },
            "colorscale": [
             [
              0,
              "#0d0887"
             ],
             [
              0.1111111111111111,
              "#46039f"
             ],
             [
              0.2222222222222222,
              "#7201a8"
             ],
             [
              0.3333333333333333,
              "#9c179e"
             ],
             [
              0.4444444444444444,
              "#bd3786"
             ],
             [
              0.5555555555555556,
              "#d8576b"
             ],
             [
              0.6666666666666666,
              "#ed7953"
             ],
             [
              0.7777777777777778,
              "#fb9f3a"
             ],
             [
              0.8888888888888888,
              "#fdca26"
             ],
             [
              1,
              "#f0f921"
             ]
            ],
            "type": "surface"
           }
          ],
          "table": [
           {
            "cells": {
             "fill": {
              "color": "#EBF0F8"
             },
             "line": {
              "color": "white"
             }
            },
            "header": {
             "fill": {
              "color": "#C8D4E3"
             },
             "line": {
              "color": "white"
             }
            },
            "type": "table"
           }
          ]
         },
         "layout": {
          "annotationdefaults": {
           "arrowcolor": "#2a3f5f",
           "arrowhead": 0,
           "arrowwidth": 1
          },
          "autotypenumbers": "strict",
          "coloraxis": {
           "colorbar": {
            "outlinewidth": 0,
            "ticks": ""
           }
          },
          "colorscale": {
           "diverging": [
            [
             0,
             "#8e0152"
            ],
            [
             0.1,
             "#c51b7d"
            ],
            [
             0.2,
             "#de77ae"
            ],
            [
             0.3,
             "#f1b6da"
            ],
            [
             0.4,
             "#fde0ef"
            ],
            [
             0.5,
             "#f7f7f7"
            ],
            [
             0.6,
             "#e6f5d0"
            ],
            [
             0.7,
             "#b8e186"
            ],
            [
             0.8,
             "#7fbc41"
            ],
            [
             0.9,
             "#4d9221"
            ],
            [
             1,
             "#276419"
            ]
           ],
           "sequential": [
            [
             0,
             "#0d0887"
            ],
            [
             0.1111111111111111,
             "#46039f"
            ],
            [
             0.2222222222222222,
             "#7201a8"
            ],
            [
             0.3333333333333333,
             "#9c179e"
            ],
            [
             0.4444444444444444,
             "#bd3786"
            ],
            [
             0.5555555555555556,
             "#d8576b"
            ],
            [
             0.6666666666666666,
             "#ed7953"
            ],
            [
             0.7777777777777778,
             "#fb9f3a"
            ],
            [
             0.8888888888888888,
             "#fdca26"
            ],
            [
             1,
             "#f0f921"
            ]
           ],
           "sequentialminus": [
            [
             0,
             "#0d0887"
            ],
            [
             0.1111111111111111,
             "#46039f"
            ],
            [
             0.2222222222222222,
             "#7201a8"
            ],
            [
             0.3333333333333333,
             "#9c179e"
            ],
            [
             0.4444444444444444,
             "#bd3786"
            ],
            [
             0.5555555555555556,
             "#d8576b"
            ],
            [
             0.6666666666666666,
             "#ed7953"
            ],
            [
             0.7777777777777778,
             "#fb9f3a"
            ],
            [
             0.8888888888888888,
             "#fdca26"
            ],
            [
             1,
             "#f0f921"
            ]
           ]
          },
          "colorway": [
           "#636efa",
           "#EF553B",
           "#00cc96",
           "#ab63fa",
           "#FFA15A",
           "#19d3f3",
           "#FF6692",
           "#B6E880",
           "#FF97FF",
           "#FECB52"
          ],
          "font": {
           "color": "#2a3f5f"
          },
          "geo": {
           "bgcolor": "white",
           "lakecolor": "white",
           "landcolor": "#E5ECF6",
           "showlakes": true,
           "showland": true,
           "subunitcolor": "white"
          },
          "hoverlabel": {
           "align": "left"
          },
          "hovermode": "closest",
          "mapbox": {
           "style": "light"
          },
          "paper_bgcolor": "white",
          "plot_bgcolor": "#E5ECF6",
          "polar": {
           "angularaxis": {
            "gridcolor": "white",
            "linecolor": "white",
            "ticks": ""
           },
           "bgcolor": "#E5ECF6",
           "radialaxis": {
            "gridcolor": "white",
            "linecolor": "white",
            "ticks": ""
           }
          },
          "scene": {
           "xaxis": {
            "backgroundcolor": "#E5ECF6",
            "gridcolor": "white",
            "gridwidth": 2,
            "linecolor": "white",
            "showbackground": true,
            "ticks": "",
            "zerolinecolor": "white"
           },
           "yaxis": {
            "backgroundcolor": "#E5ECF6",
            "gridcolor": "white",
            "gridwidth": 2,
            "linecolor": "white",
            "showbackground": true,
            "ticks": "",
            "zerolinecolor": "white"
           },
           "zaxis": {
            "backgroundcolor": "#E5ECF6",
            "gridcolor": "white",
            "gridwidth": 2,
            "linecolor": "white",
            "showbackground": true,
            "ticks": "",
            "zerolinecolor": "white"
           }
          },
          "shapedefaults": {
           "line": {
            "color": "#2a3f5f"
           }
          },
          "ternary": {
           "aaxis": {
            "gridcolor": "white",
            "linecolor": "white",
            "ticks": ""
           },
           "baxis": {
            "gridcolor": "white",
            "linecolor": "white",
            "ticks": ""
           },
           "bgcolor": "#E5ECF6",
           "caxis": {
            "gridcolor": "white",
            "linecolor": "white",
            "ticks": ""
           }
          },
          "title": {
           "x": 0.05
          },
          "xaxis": {
           "automargin": true,
           "gridcolor": "white",
           "linecolor": "white",
           "ticks": "",
           "title": {
            "standoff": 15
           },
           "zerolinecolor": "white",
           "zerolinewidth": 2
          },
          "yaxis": {
           "automargin": true,
           "gridcolor": "white",
           "linecolor": "white",
           "ticks": "",
           "title": {
            "standoff": 15
           },
           "zerolinecolor": "white",
           "zerolinewidth": 2
          }
         }
        },
        "xaxis": {
         "anchor": "y",
         "domain": [
          0,
          1
         ],
         "title": {
          "text": "umap comp. 1"
         }
        },
        "yaxis": {
         "anchor": "x",
         "domain": [
          0,
          1
         ],
         "title": {
          "text": "umap comp. 2"
         }
        }
       }
      },
      "text/html": [
       "<div>                            <div id=\"d75ff13b-b91d-40ea-a0d8-da5dc7c675e7\" class=\"plotly-graph-div\" style=\"height:525px; width:100%;\"></div>            <script type=\"text/javascript\">                require([\"plotly\"], function(Plotly) {                    window.PLOTLYENV=window.PLOTLYENV || {};                                    if (document.getElementById(\"d75ff13b-b91d-40ea-a0d8-da5dc7c675e7\")) {                    Plotly.newPlot(                        \"d75ff13b-b91d-40ea-a0d8-da5dc7c675e7\",                        [{\"hovertemplate\":\"submitted_tumor_location=Distant Metastasis<br>umap comp. 1=%{x}<br>umap comp. 2=%{y}<extra></extra>\",\"legendgroup\":\"Distant Metastasis\",\"marker\":{\"color\":\"#636efa\",\"symbol\":\"circle\"},\"mode\":\"markers\",\"name\":\"Distant Metastasis\",\"orientation\":\"v\",\"showlegend\":true,\"x\":[0.4769953191280365,1.5609344244003296,2.809574604034424,3.541715145111084,4.792561054229736,3.57916522026062,-0.28143396973609924,0.06372290849685669,4.007485866546631,4.6895012855529785,2.537128210067749,1.9571744203567505,0.696793258190155,2.2282333374023438,5.295116424560547,5.265382289886475,0.6519963145256042,2.1196584701538086,1.929364800453186,0.8426611423492432,5.738053321838379,0.5109224319458008,1.8582425117492676,0.530650794506073,5.806057453155518,2.484835386276245],\"xaxis\":\"x\",\"y\":[3.4659621715545654,2.332380771636963,1.4324219226837158,3.0047314167022705,1.9035913944244385,5.010567665100098,4.1226396560668945,5.015538692474365,3.3599936962127686,3.9308478832244873,4.651907444000244,2.7795863151550293,3.1586368083953857,4.340892791748047,3.1862804889678955,0.9326991438865662,2.48551082611084,2.577336549758911,2.9380924701690674,2.60459041595459,3.294682502746582,3.3550357818603516,4.147824764251709,2.7462666034698486,0.6198734641075134,5.133913516998291],\"yaxis\":\"y\",\"type\":\"scatter\"},{\"hovertemplate\":\"submitted_tumor_location=Primary Tumor<br>umap comp. 1=%{x}<br>umap comp. 2=%{y}<extra></extra>\",\"legendgroup\":\"Primary Tumor\",\"marker\":{\"color\":\"#EF553B\",\"symbol\":\"circle\"},\"mode\":\"markers\",\"name\":\"Primary Tumor\",\"orientation\":\"v\",\"showlegend\":true,\"x\":[-0.574792742729187,1.003066897392273,1.1752872467041016,4.4302167892456055,-0.649025022983551,2.169442892074585,1.1997771263122559,0.9650393128395081,1.8045332431793213,1.5050824880599976,-0.6804885268211365,0.2716796398162842,1.6029078960418701,1.6209396123886108,3.7031311988830566,0.4951835870742798,1.1351444721221924,2.6467533111572266,-0.233059823513031,2.8643112182617188,1.0173231363296509,-0.7784608602523804,4.8430047035217285,0.9320504665374756,-0.5466663837432861,3.352424383163452,-0.5860112309455872,-0.6599922776222229,-0.6030315160751343,-0.4826362729072571,-0.08749833703041077,-0.0541130006313324,0.3658936321735382,-0.43527209758758545,-0.6282256245613098,1.1996822357177734,-0.5636889338493347,2.8991079330444336,-0.4141053557395935,0.9992297291755676,0.7761165499687195,-0.2979085147380829,4.896857261657715],\"xaxis\":\"x\",\"y\":[4.690710544586182,3.7338759899139404,4.6507697105407715,1.1265270709991455,5.45513391494751,5.082096099853516,3.6194937229156494,2.6378049850463867,3.144158363342285,4.1222100257873535,5.106295585632324,2.8261499404907227,2.009033679962158,1.9905239343643188,0.809400200843811,2.7805774211883545,2.4924168586730957,5.081485748291016,4.616135597229004,1.8991026878356934,4.209611415863037,5.225311279296875,0.9244276285171509,2.9418976306915283,5.34088134765625,2.010896921157837,4.866576194763184,5.483662128448486,5.570278167724609,5.373073577880859,5.388911247253418,5.443328380584717,4.78996467590332,4.505221843719482,4.935840606689453,4.1955180168151855,4.892029762268066,2.148191452026367,5.236197471618652,3.1309127807617188,3.0268237590789795,5.486286163330078,2.229926109313965],\"yaxis\":\"y\",\"type\":\"scatter\"},{\"hovertemplate\":\"submitted_tumor_location=Regional Lymph Node<br>umap comp. 1=%{x}<br>umap comp. 2=%{y}<extra></extra>\",\"legendgroup\":\"Regional Lymph Node\",\"marker\":{\"color\":\"#00cc96\",\"symbol\":\"circle\"},\"mode\":\"markers\",\"name\":\"Regional Lymph Node\",\"orientation\":\"v\",\"showlegend\":true,\"x\":[1.3527865409851074,4.900091648101807,0.776159405708313,5.81779146194458,5.861719608306885,2.472541093826294,5.055769920349121,5.3433942794799805,4.49949836730957,5.616331577301025,3.292393922805786,5.355608940124512,0.3878655731678009,3.9144270420074463,3.4899613857269287,4.046327590942383,3.6913955211639404,2.3779821395874023,5.506998538970947,4.501594543457031,3.5323073863983154,2.1318302154541016,5.451845169067383,2.462111711502075,5.6843414306640625,1.014291763305664,3.9383020401000977,2.6721696853637695,3.874058246612549,4.535721302032471,1.3486251831054688,5.6902546882629395,5.346224784851074,2.7324275970458984,5.4333176612854,4.750014781951904,5.6347270011901855,5.597871780395508,5.78605318069458,5.414912700653076,4.124029159545898,4.769508361816406,6.069649696350098,3.737447738647461,5.502042770385742,3.8284521102905273,2.9783875942230225,2.418938636779785,6.039977550506592,3.5902099609375,2.9050192832946777,0.17834514379501343,5.463722229003906,5.166733741760254,3.2018887996673584,4.279350280761719,3.809433937072754,5.193198204040527,3.5887415409088135,2.7264137268066406,3.9120664596557617,4.077544212341309,5.780577182769775,2.3433022499084473,1.9933319091796875,5.306565284729004,5.523641109466553,4.1432976722717285,2.6168603897094727,5.961374282836914,3.3151862621307373,4.444754600524902,5.400974750518799,5.059561252593994,4.510890007019043,3.0842695236206055,1.6388366222381592,5.798651695251465,5.62587308883667,4.104586124420166,4.281184673309326,5.058957099914551,2.028564929962158],\"xaxis\":\"x\",\"y\":[2.410891056060791,1.376531720161438,2.5844171047210693,1.3061625957489014,3.0831470489501953,5.276187419891357,0.55411297082901,0.5543568134307861,1.082168698310852,3.3374783992767334,1.0291274785995483,1.2463877201080322,2.9807333946228027,1.4706801176071167,0.9894649982452393,1.4386967420578003,3.1588480472564697,2.691035509109497,0.8113269209861755,3.6545636653900146,2.7073254585266113,3.0982699394226074,1.6124688386917114,5.225546360015869,2.119155168533325,2.969158411026001,1.958793044090271,3.0876383781433105,2.6841588020324707,2.0295870304107666,2.6501176357269287,0.8830621838569641,2.115041971206665,4.9029388427734375,3.7079379558563232,3.841463804244995,2.818453788757324,2.160961627960205,1.0176761150360107,1.696475863456726,0.7151024341583252,2.900543451309204,1.2181071043014526,1.3244528770446777,0.6154100894927979,3.7874302864074707,4.807824611663818,2.6854474544525146,0.7658567428588867,4.875851631164551,3.1340103149414062,3.071587324142456,1.5857080221176147,3.61059832572937,1.6258574724197388,3.8378806114196777,2.7640812397003174,1.3286582231521606,2.3789539337158203,2.6980881690979004,0.702844500541687,4.7571306228637695,1.1536024808883667,4.505280494689941,2.150510787963867,1.4304132461547852,3.4992940425872803,2.5070462226867676,2.7109735012054443,0.814817488193512,1.6947311162948608,2.717975378036499,2.1317782402038574,0.9554656744003296,1.4095524549484253,4.71809720993042,1.9581457376480103,2.873429536819458,2.4023332595825195,1.696675181388855,1.8589593172073364,1.579641580581665,4.493577480316162],\"yaxis\":\"y\",\"type\":\"scatter\"},{\"hovertemplate\":\"submitted_tumor_location=Regional Cutaneous or Subcutaneous Tissue (includes satellite and in-transit metastasis)<br>umap comp. 1=%{x}<br>umap comp. 2=%{y}<extra></extra>\",\"legendgroup\":\"Regional Cutaneous or Subcutaneous Tissue (includes satellite and in-transit metastasis)\",\"marker\":{\"color\":\"#ab63fa\",\"symbol\":\"circle\"},\"mode\":\"markers\",\"name\":\"Regional Cutaneous or Subcutaneous Tissue (includes satellite and in-transit metastasis)\",\"orientation\":\"v\",\"showlegend\":true,\"x\":[0.7842036485671997,2.439709424972534,3.4004197120666504,2.2884681224823,3.615386724472046,3.5040440559387207,0.9709829092025757,3.620546817779541,3.8640811443328857,5.108036041259766,3.1420018672943115,1.8101619482040405,4.645401477813721,3.039557456970215,2.3519582748413086,4.678554534912109,4.95646858215332,3.4189558029174805,1.474335789680481,3.8805043697357178,4.261526584625244,3.8334834575653076,5.260463714599609,4.043696403503418,1.280837893486023,2.1416521072387695],\"xaxis\":\"x\",\"y\":[4.490290641784668,4.999237537384033,2.822423219680786,4.125833511352539,4.969899654388428,1.1721217632293701,3.2397899627685547,1.3887807130813599,2.241814136505127,0.6836574673652649,4.952814102172852,4.227819919586182,0.8109622001647949,2.9030160903930664,5.023619174957275,2.1967108249664307,3.870079278945923,4.066508769989014,3.7088515758514404,1.9512076377868652,4.565655708312988,4.968339920043945,3.6129467487335205,4.786655426025391,3.259953260421753,4.6997528076171875],\"yaxis\":\"y\",\"type\":\"scatter\"}],                        {\"template\":{\"data\":{\"histogram2dcontour\":[{\"type\":\"histogram2dcontour\",\"colorbar\":{\"outlinewidth\":0,\"ticks\":\"\"},\"colorscale\":[[0.0,\"#0d0887\"],[0.1111111111111111,\"#46039f\"],[0.2222222222222222,\"#7201a8\"],[0.3333333333333333,\"#9c179e\"],[0.4444444444444444,\"#bd3786\"],[0.5555555555555556,\"#d8576b\"],[0.6666666666666666,\"#ed7953\"],[0.7777777777777778,\"#fb9f3a\"],[0.8888888888888888,\"#fdca26\"],[1.0,\"#f0f921\"]]}],\"choropleth\":[{\"type\":\"choropleth\",\"colorbar\":{\"outlinewidth\":0,\"ticks\":\"\"}}],\"histogram2d\":[{\"type\":\"histogram2d\",\"colorbar\":{\"outlinewidth\":0,\"ticks\":\"\"},\"colorscale\":[[0.0,\"#0d0887\"],[0.1111111111111111,\"#46039f\"],[0.2222222222222222,\"#7201a8\"],[0.3333333333333333,\"#9c179e\"],[0.4444444444444444,\"#bd3786\"],[0.5555555555555556,\"#d8576b\"],[0.6666666666666666,\"#ed7953\"],[0.7777777777777778,\"#fb9f3a\"],[0.8888888888888888,\"#fdca26\"],[1.0,\"#f0f921\"]]}],\"heatmap\":[{\"type\":\"heatmap\",\"colorbar\":{\"outlinewidth\":0,\"ticks\":\"\"},\"colorscale\":[[0.0,\"#0d0887\"],[0.1111111111111111,\"#46039f\"],[0.2222222222222222,\"#7201a8\"],[0.3333333333333333,\"#9c179e\"],[0.4444444444444444,\"#bd3786\"],[0.5555555555555556,\"#d8576b\"],[0.6666666666666666,\"#ed7953\"],[0.7777777777777778,\"#fb9f3a\"],[0.8888888888888888,\"#fdca26\"],[1.0,\"#f0f921\"]]}],\"heatmapgl\":[{\"type\":\"heatmapgl\",\"colorbar\":{\"outlinewidth\":0,\"ticks\":\"\"},\"colorscale\":[[0.0,\"#0d0887\"],[0.1111111111111111,\"#46039f\"],[0.2222222222222222,\"#7201a8\"],[0.3333333333333333,\"#9c179e\"],[0.4444444444444444,\"#bd3786\"],[0.5555555555555556,\"#d8576b\"],[0.6666666666666666,\"#ed7953\"],[0.7777777777777778,\"#fb9f3a\"],[0.8888888888888888,\"#fdca26\"],[1.0,\"#f0f921\"]]}],\"contourcarpet\":[{\"type\":\"contourcarpet\",\"colorbar\":{\"outlinewidth\":0,\"ticks\":\"\"}}],\"contour\":[{\"type\":\"contour\",\"colorbar\":{\"outlinewidth\":0,\"ticks\":\"\"},\"colorscale\":[[0.0,\"#0d0887\"],[0.1111111111111111,\"#46039f\"],[0.2222222222222222,\"#7201a8\"],[0.3333333333333333,\"#9c179e\"],[0.4444444444444444,\"#bd3786\"],[0.5555555555555556,\"#d8576b\"],[0.6666666666666666,\"#ed7953\"],[0.7777777777777778,\"#fb9f3a\"],[0.8888888888888888,\"#fdca26\"],[1.0,\"#f0f921\"]]}],\"surface\":[{\"type\":\"surface\",\"colorbar\":{\"outlinewidth\":0,\"ticks\":\"\"},\"colorscale\":[[0.0,\"#0d0887\"],[0.1111111111111111,\"#46039f\"],[0.2222222222222222,\"#7201a8\"],[0.3333333333333333,\"#9c179e\"],[0.4444444444444444,\"#bd3786\"],[0.5555555555555556,\"#d8576b\"],[0.6666666666666666,\"#ed7953\"],[0.7777777777777778,\"#fb9f3a\"],[0.8888888888888888,\"#fdca26\"],[1.0,\"#f0f921\"]]}],\"mesh3d\":[{\"type\":\"mesh3d\",\"colorbar\":{\"outlinewidth\":0,\"ticks\":\"\"}}],\"scatter\":[{\"fillpattern\":{\"fillmode\":\"overlay\",\"size\":10,\"solidity\":0.2},\"type\":\"scatter\"}],\"parcoords\":[{\"type\":\"parcoords\",\"line\":{\"colorbar\":{\"outlinewidth\":0,\"ticks\":\"\"}}}],\"scatterpolargl\":[{\"type\":\"scatterpolargl\",\"marker\":{\"colorbar\":{\"outlinewidth\":0,\"ticks\":\"\"}}}],\"bar\":[{\"error_x\":{\"color\":\"#2a3f5f\"},\"error_y\":{\"color\":\"#2a3f5f\"},\"marker\":{\"line\":{\"color\":\"#E5ECF6\",\"width\":0.5},\"pattern\":{\"fillmode\":\"overlay\",\"size\":10,\"solidity\":0.2}},\"type\":\"bar\"}],\"scattergeo\":[{\"type\":\"scattergeo\",\"marker\":{\"colorbar\":{\"outlinewidth\":0,\"ticks\":\"\"}}}],\"scatterpolar\":[{\"type\":\"scatterpolar\",\"marker\":{\"colorbar\":{\"outlinewidth\":0,\"ticks\":\"\"}}}],\"histogram\":[{\"marker\":{\"pattern\":{\"fillmode\":\"overlay\",\"size\":10,\"solidity\":0.2}},\"type\":\"histogram\"}],\"scattergl\":[{\"type\":\"scattergl\",\"marker\":{\"colorbar\":{\"outlinewidth\":0,\"ticks\":\"\"}}}],\"scatter3d\":[{\"type\":\"scatter3d\",\"line\":{\"colorbar\":{\"outlinewidth\":0,\"ticks\":\"\"}},\"marker\":{\"colorbar\":{\"outlinewidth\":0,\"ticks\":\"\"}}}],\"scattermapbox\":[{\"type\":\"scattermapbox\",\"marker\":{\"colorbar\":{\"outlinewidth\":0,\"ticks\":\"\"}}}],\"scatterternary\":[{\"type\":\"scatterternary\",\"marker\":{\"colorbar\":{\"outlinewidth\":0,\"ticks\":\"\"}}}],\"scattercarpet\":[{\"type\":\"scattercarpet\",\"marker\":{\"colorbar\":{\"outlinewidth\":0,\"ticks\":\"\"}}}],\"carpet\":[{\"aaxis\":{\"endlinecolor\":\"#2a3f5f\",\"gridcolor\":\"white\",\"linecolor\":\"white\",\"minorgridcolor\":\"white\",\"startlinecolor\":\"#2a3f5f\"},\"baxis\":{\"endlinecolor\":\"#2a3f5f\",\"gridcolor\":\"white\",\"linecolor\":\"white\",\"minorgridcolor\":\"white\",\"startlinecolor\":\"#2a3f5f\"},\"type\":\"carpet\"}],\"table\":[{\"cells\":{\"fill\":{\"color\":\"#EBF0F8\"},\"line\":{\"color\":\"white\"}},\"header\":{\"fill\":{\"color\":\"#C8D4E3\"},\"line\":{\"color\":\"white\"}},\"type\":\"table\"}],\"barpolar\":[{\"marker\":{\"line\":{\"color\":\"#E5ECF6\",\"width\":0.5},\"pattern\":{\"fillmode\":\"overlay\",\"size\":10,\"solidity\":0.2}},\"type\":\"barpolar\"}],\"pie\":[{\"automargin\":true,\"type\":\"pie\"}]},\"layout\":{\"autotypenumbers\":\"strict\",\"colorway\":[\"#636efa\",\"#EF553B\",\"#00cc96\",\"#ab63fa\",\"#FFA15A\",\"#19d3f3\",\"#FF6692\",\"#B6E880\",\"#FF97FF\",\"#FECB52\"],\"font\":{\"color\":\"#2a3f5f\"},\"hovermode\":\"closest\",\"hoverlabel\":{\"align\":\"left\"},\"paper_bgcolor\":\"white\",\"plot_bgcolor\":\"#E5ECF6\",\"polar\":{\"bgcolor\":\"#E5ECF6\",\"angularaxis\":{\"gridcolor\":\"white\",\"linecolor\":\"white\",\"ticks\":\"\"},\"radialaxis\":{\"gridcolor\":\"white\",\"linecolor\":\"white\",\"ticks\":\"\"}},\"ternary\":{\"bgcolor\":\"#E5ECF6\",\"aaxis\":{\"gridcolor\":\"white\",\"linecolor\":\"white\",\"ticks\":\"\"},\"baxis\":{\"gridcolor\":\"white\",\"linecolor\":\"white\",\"ticks\":\"\"},\"caxis\":{\"gridcolor\":\"white\",\"linecolor\":\"white\",\"ticks\":\"\"}},\"coloraxis\":{\"colorbar\":{\"outlinewidth\":0,\"ticks\":\"\"}},\"colorscale\":{\"sequential\":[[0.0,\"#0d0887\"],[0.1111111111111111,\"#46039f\"],[0.2222222222222222,\"#7201a8\"],[0.3333333333333333,\"#9c179e\"],[0.4444444444444444,\"#bd3786\"],[0.5555555555555556,\"#d8576b\"],[0.6666666666666666,\"#ed7953\"],[0.7777777777777778,\"#fb9f3a\"],[0.8888888888888888,\"#fdca26\"],[1.0,\"#f0f921\"]],\"sequentialminus\":[[0.0,\"#0d0887\"],[0.1111111111111111,\"#46039f\"],[0.2222222222222222,\"#7201a8\"],[0.3333333333333333,\"#9c179e\"],[0.4444444444444444,\"#bd3786\"],[0.5555555555555556,\"#d8576b\"],[0.6666666666666666,\"#ed7953\"],[0.7777777777777778,\"#fb9f3a\"],[0.8888888888888888,\"#fdca26\"],[1.0,\"#f0f921\"]],\"diverging\":[[0,\"#8e0152\"],[0.1,\"#c51b7d\"],[0.2,\"#de77ae\"],[0.3,\"#f1b6da\"],[0.4,\"#fde0ef\"],[0.5,\"#f7f7f7\"],[0.6,\"#e6f5d0\"],[0.7,\"#b8e186\"],[0.8,\"#7fbc41\"],[0.9,\"#4d9221\"],[1,\"#276419\"]]},\"xaxis\":{\"gridcolor\":\"white\",\"linecolor\":\"white\",\"ticks\":\"\",\"title\":{\"standoff\":15},\"zerolinecolor\":\"white\",\"automargin\":true,\"zerolinewidth\":2},\"yaxis\":{\"gridcolor\":\"white\",\"linecolor\":\"white\",\"ticks\":\"\",\"title\":{\"standoff\":15},\"zerolinecolor\":\"white\",\"automargin\":true,\"zerolinewidth\":2},\"scene\":{\"xaxis\":{\"backgroundcolor\":\"#E5ECF6\",\"gridcolor\":\"white\",\"linecolor\":\"white\",\"showbackground\":true,\"ticks\":\"\",\"zerolinecolor\":\"white\",\"gridwidth\":2},\"yaxis\":{\"backgroundcolor\":\"#E5ECF6\",\"gridcolor\":\"white\",\"linecolor\":\"white\",\"showbackground\":true,\"ticks\":\"\",\"zerolinecolor\":\"white\",\"gridwidth\":2},\"zaxis\":{\"backgroundcolor\":\"#E5ECF6\",\"gridcolor\":\"white\",\"linecolor\":\"white\",\"showbackground\":true,\"ticks\":\"\",\"zerolinecolor\":\"white\",\"gridwidth\":2}},\"shapedefaults\":{\"line\":{\"color\":\"#2a3f5f\"}},\"annotationdefaults\":{\"arrowcolor\":\"#2a3f5f\",\"arrowhead\":0,\"arrowwidth\":1},\"geo\":{\"bgcolor\":\"white\",\"landcolor\":\"#E5ECF6\",\"subunitcolor\":\"white\",\"showland\":true,\"showlakes\":true,\"lakecolor\":\"white\"},\"title\":{\"x\":0.05},\"mapbox\":{\"style\":\"light\"}}},\"xaxis\":{\"anchor\":\"y\",\"domain\":[0.0,1.0],\"title\":{\"text\":\"umap comp. 1\"}},\"yaxis\":{\"anchor\":\"x\",\"domain\":[0.0,1.0],\"title\":{\"text\":\"umap comp. 2\"}},\"legend\":{\"title\":{\"text\":\"submitted_tumor_location\"},\"tracegroupgap\":0,\"orientation\":\"h\",\"yanchor\":\"bottom\",\"y\":1.02,\"xanchor\":\"right\",\"x\":1},\"margin\":{\"t\":60}},                        {\"responsive\": true}                    ).then(function(){\n",
       "                            \n",
       "var gd = document.getElementById('d75ff13b-b91d-40ea-a0d8-da5dc7c675e7');\n",
       "var x = new MutationObserver(function (mutations, observer) {{\n",
       "        var display = window.getComputedStyle(gd).display;\n",
       "        if (!display || display === 'none') {{\n",
       "            console.log([gd, 'removed!']);\n",
       "            Plotly.purge(gd);\n",
       "            observer.disconnect();\n",
       "        }}\n",
       "}});\n",
       "\n",
       "// Listen for the removal of the full notebook cells\n",
       "var notebookContainer = gd.closest('#notebook-container');\n",
       "if (notebookContainer) {{\n",
       "    x.observe(notebookContainer, {childList: true});\n",
       "}}\n",
       "\n",
       "// Listen for the clearing of the current output cell\n",
       "var outputEl = gd.closest('.output');\n",
       "if (outputEl) {{\n",
       "    x.observe(outputEl, {childList: true});\n",
       "}}\n",
       "\n",
       "                        })                };                });            </script>        </div>"
      ]
     },
     "metadata": {},
     "output_type": "display_data"
    }
   ],
   "source": [
    "# A compléter pour afficher UMAP avec les points colorés selon la localisation de la tumeur"
   ]
  },
  {
   "cell_type": "markdown",
   "metadata": {},
   "source": [
    "5) Colorer les patientes selon l'expression de gènes différentiellement exprimés entre les différents types d'echantillons trouvés lors de la troisième séance."
   ]
  },
  {
   "cell_type": "code",
   "execution_count": 110,
   "metadata": {},
   "outputs": [
    {
     "data": {
      "application/vnd.plotly.v1+json": {
       "config": {
        "plotlyServerURL": "https://plot.ly"
       },
       "data": [
        {
         "hovertemplate": "umap comp. 1=%{x}<br>umap comp. 2=%{y}<br>ENSG00000211899.6=%{marker.color}<extra></extra>",
         "legendgroup": "",
         "marker": {
          "color": [
           1.6472235142523026,
           0.5359761435314463,
           1.2001876243885188,
           6.079006534999265,
           10.924583249463112,
           5.125436363040182,
           3.026029378955958,
           10.348168163860992,
           8.903943093622674,
           6.4840512825325325,
           4.537685480531323,
           9.662564507238386,
           0.921685878929506,
           11.658791838131313,
           9.152061011493933,
           10.850305030746323,
           14.501690623177106,
           2.040227094648788,
           6.899362789170461,
           3.537889535835263,
           9.401371881029243,
           0.5471368931301129,
           9.18353852388752,
           10.678246526070774,
           3.1539253413999484,
           2.414138214356997,
           3.62401511856239,
           3.843673525212585,
           11.238479809631045,
           2.8170841183092787,
           5.127744213960023,
           0.2628411470607792,
           5.1665604180447415,
           8.275129423131748,
           8.713590767344716,
           8.111748161762039,
           3.810219250609069,
           4.082394056697849,
           0.6936168264308713,
           10.03078947182176,
           6.537140897453026,
           2.650307734642732,
           6.775405028921691,
           5.106915246749794,
           6.737937314465902,
           9.826605681214112,
           9.218145571913665,
           5.202669808788182,
           3.650966513667489,
           7.743836616173445,
           11.948277090770192,
           8.90300252098209,
           4.67331401147846,
           1.8600658170383784,
           8.2406636046646,
           1.840544503949575,
           5.73237841341746,
           8.61039807228125,
           1.3401836848722934,
           8.989418567710816,
           0.1381088698768326,
           8.986239323910487,
           4.680630740466452,
           0.5321289308093538,
           10.559982596992992,
           10.026150455655364,
           6.994010414018874,
           4.647985995430792,
           8.72099391997569,
           7.128082828457184,
           3.096224191537305,
           1.2930542911670313,
           6.790471005906959,
           3.025558103212324,
           9.21683591724103,
           11.42813071678622,
           1.275305207509837,
           12.195327438941172,
           11.247754854242784,
           4.338104692336683,
           11.06680099966757,
           7.824258565743487,
           9.6513385486493,
           10.888682334476442,
           10.483860612005778,
           1.051478110570441,
           10.233769665220812,
           11.219713806673797,
           6.804990466272666,
           8.934799107877842,
           0.2092930945756901,
           1.0412304026598578,
           2.510644584203288,
           9.623742534269002,
           9.16852201935088,
           5.675278881640785,
           8.665271707952682,
           7.264740650684833,
           2.333627518607342,
           2.433785836495943,
           7.556719014063685,
           3.1340709832038463,
           13.29362039545987,
           6.213747600805845,
           7.88974410732771,
           4.714576435604405,
           0.11069244629829,
           5.039671517071859,
           4.214439336844835,
           6.4767910745661,
           1.2600439118224012,
           4.977861398101483,
           6.689398178066322,
           5.814034035412986,
           2.505999062294346,
           10.215558025047866,
           7.258551125354005,
           8.1829353728125,
           3.674685884619808,
           9.607525982180178,
           8.179787052064409,
           5.09728991241666,
           8.918485879095446,
           0.6993588278769033,
           8.013369427682386,
           9.268737684117156,
           8.015211147380624,
           3.556660760848098,
           5.899181995184045,
           7.175780296286422,
           2.5684253288547656,
           6.317052588579498,
           6.474201660952452,
           8.052129409851117,
           13.282963379545397,
           16.354927003334186,
           9.902601003034452,
           3.9735950566817806,
           3.679441421395716,
           7.3749483136212355,
           10.291317461160578,
           9.53965596126939,
           2.011367715372197,
           7.077771915415227,
           8.188318258723651,
           9.146184317162149,
           0.6331894151544625,
           8.70836619058234,
           6.572842390197926,
           1.5116015099729454,
           1.8511423978050572,
           11.920514247325835,
           1.788577519120052,
           8.603399851631016,
           10.15126428628462,
           1.715729567475504,
           1.679891938547848,
           6.923966916867331,
           2.9274760026318614,
           4.021828734957374,
           7.133526275862979,
           8.074219852522251,
           8.014565417418867,
           3.587779685793728,
           9.655492146230308,
           2.9797405643266304,
           1.4645168990789588,
           7.499927864263264,
           8.640012011597168,
           2.0200547931673523,
           1.6428190429239198,
           9.061886655126226,
           1.0928822282683894,
           2.597945254705232,
           9.184270950304974,
           1.2127515063047631,
           0.7520288043218087,
           6.76602742499615,
           9.68290824929891
          ],
          "coloraxis": "coloraxis",
          "symbol": "circle"
         },
         "mode": "markers",
         "name": "",
         "orientation": "v",
         "showlegend": false,
         "type": "scatter",
         "x": [
          0.4769953191280365,
          -0.574792742729187,
          1.003066897392273,
          1.3527865409851074,
          4.900091648101807,
          0.776159405708313,
          1.1752872467041016,
          5.81779146194458,
          5.861719608306885,
          0.7842036485671997,
          1.5609344244003296,
          4.4302167892456055,
          2.472541093826294,
          5.055769920349121,
          2.809574604034424,
          5.3433942794799805,
          4.49949836730957,
          2.439709424972534,
          3.541715145111084,
          -0.649025022983551,
          5.616331577301025,
          2.169442892074585,
          3.292393922805786,
          5.355608940124512,
          1.1997771263122559,
          0.9650393128395081,
          0.3878655731678009,
          3.4004197120666504,
          4.792561054229736,
          1.8045332431793213,
          2.2884681224823,
          1.5050824880599976,
          3.9144270420074463,
          3.4899613857269287,
          4.046327590942383,
          3.6913955211639404,
          3.57916522026062,
          2.3779821395874023,
          -0.6804885268211365,
          5.506998538970947,
          4.501594543457031,
          0.2716796398162842,
          3.5323073863983154,
          -0.28143396973609924,
          2.1318302154541016,
          5.451845169067383,
          1.6029078960418701,
          2.462111711502075,
          0.06372290849685669,
          1.6209396123886108,
          5.6843414306640625,
          3.7031311988830566,
          1.014291763305664,
          0.4951835870742798,
          3.9383020401000977,
          1.1351444721221924,
          2.6721696853637695,
          4.007485866546631,
          2.6467533111572266,
          3.874058246612549,
          3.615386724472046,
          4.535721302032471,
          1.3486251831054688,
          -0.233059823513031,
          5.6902546882629395,
          5.346224784851074,
          3.5040440559387207,
          2.7324275970458984,
          5.4333176612854,
          4.6895012855529785,
          0.9709829092025757,
          2.537128210067749,
          4.750014781951904,
          1.9571744203567505,
          5.6347270011901855,
          5.597871780395508,
          0.696793258190155,
          5.78605318069458,
          5.414912700653076,
          2.2282333374023438,
          5.295116424560547,
          2.8643112182617188,
          3.620546817779541,
          3.8640811443328857,
          5.265382289886475,
          1.0173231363296509,
          4.124029159545898,
          5.108036041259766,
          4.769508361816406,
          6.069649696350098,
          3.1420018672943115,
          0.6519963145256042,
          1.8101619482040405,
          2.1196584701538086,
          -0.7784608602523804,
          1.929364800453186,
          4.8430047035217285,
          3.737447738647461,
          0.9320504665374756,
          -0.5466663837432861,
          4.645401477813721,
          1.587859034538269,
          5.502042770385742,
          3.8284521102905273,
          3.039557456970215,
          2.9783875942230225,
          2.3519582748413086,
          2.418938636779785,
          3.352424383163452,
          6.039977550506592,
          -0.5860112309455872,
          3.5902099609375,
          2.9050192832946777,
          0.8426611423492432,
          0.17834514379501343,
          5.463722229003906,
          5.166733741760254,
          3.2018887996673584,
          4.279350280761719,
          3.809433937072754,
          5.193198204040527,
          3.5887415409088135,
          4.678554534912109,
          -0.6599922776222229,
          4.95646858215332,
          2.7264137268066406,
          3.9120664596557617,
          -0.6030315160751343,
          -0.4826362729072571,
          3.4189558029174805,
          -0.08749833703041077,
          4.077544212341309,
          -0.0541130006313324,
          1.474335789680481,
          3.8805043697357178,
          5.738053321838379,
          5.780577182769775,
          4.261526584625244,
          2.3433022499084473,
          1.9933319091796875,
          5.306565284729004,
          5.523641109466553,
          0.3658936321735382,
          4.1432976722717285,
          2.6168603897094727,
          5.961374282836914,
          3.8334834575653076,
          3.3151862621307373,
          4.444754600524902,
          -0.43527209758758545,
          0.5109224319458008,
          5.400974750518799,
          -0.6282256245613098,
          5.260463714599609,
          5.059561252593994,
          1.1996822357177734,
          1.8582425117492676,
          4.510890007019043,
          -0.5636889338493347,
          3.0842695236206055,
          1.6388366222381592,
          2.8991079330444336,
          5.798651695251465,
          0.530650794506073,
          5.62587308883667,
          4.043696403503418,
          -0.4141053557395935,
          4.104586124420166,
          4.281184673309326,
          0.9992297291755676,
          0.7761165499687195,
          5.058957099914551,
          1.280837893486023,
          2.1416521072387695,
          5.806057453155518,
          2.028564929962158,
          2.484835386276245,
          -0.2979085147380829,
          4.896857261657715
         ],
         "xaxis": "x",
         "y": [
          3.4659621715545654,
          4.690710544586182,
          3.7338759899139404,
          2.410891056060791,
          1.376531720161438,
          2.5844171047210693,
          4.6507697105407715,
          1.3061625957489014,
          3.0831470489501953,
          4.490290641784668,
          2.332380771636963,
          1.1265270709991455,
          5.276187419891357,
          0.55411297082901,
          1.4324219226837158,
          0.5543568134307861,
          1.082168698310852,
          4.999237537384033,
          3.0047314167022705,
          5.45513391494751,
          3.3374783992767334,
          5.082096099853516,
          1.0291274785995483,
          1.2463877201080322,
          3.6194937229156494,
          2.6378049850463867,
          2.9807333946228027,
          2.822423219680786,
          1.9035913944244385,
          3.144158363342285,
          4.125833511352539,
          4.1222100257873535,
          1.4706801176071167,
          0.9894649982452393,
          1.4386967420578003,
          3.1588480472564697,
          5.010567665100098,
          2.691035509109497,
          5.106295585632324,
          0.8113269209861755,
          3.6545636653900146,
          2.8261499404907227,
          2.7073254585266113,
          4.1226396560668945,
          3.0982699394226074,
          1.6124688386917114,
          2.009033679962158,
          5.225546360015869,
          5.015538692474365,
          1.9905239343643188,
          2.119155168533325,
          0.809400200843811,
          2.969158411026001,
          2.7805774211883545,
          1.958793044090271,
          2.4924168586730957,
          3.0876383781433105,
          3.3599936962127686,
          5.081485748291016,
          2.6841588020324707,
          4.969899654388428,
          2.0295870304107666,
          2.6501176357269287,
          4.616135597229004,
          0.8830621838569641,
          2.115041971206665,
          1.1721217632293701,
          4.9029388427734375,
          3.7079379558563232,
          3.9308478832244873,
          3.2397899627685547,
          4.651907444000244,
          3.841463804244995,
          2.7795863151550293,
          2.818453788757324,
          2.160961627960205,
          3.1586368083953857,
          1.0176761150360107,
          1.696475863456726,
          4.340892791748047,
          3.1862804889678955,
          1.8991026878356934,
          1.3887807130813599,
          2.241814136505127,
          0.9326991438865662,
          4.209611415863037,
          0.7151024341583252,
          0.6836574673652649,
          2.900543451309204,
          1.2181071043014526,
          4.952814102172852,
          2.48551082611084,
          4.227819919586182,
          2.577336549758911,
          5.225311279296875,
          2.9380924701690674,
          0.9244276285171509,
          1.3244528770446777,
          2.9418976306915283,
          5.34088134765625,
          0.8109622001647949,
          2.589343786239624,
          0.6154100894927979,
          3.7874302864074707,
          2.9030160903930664,
          4.807824611663818,
          5.023619174957275,
          2.6854474544525146,
          2.010896921157837,
          0.7658567428588867,
          4.866576194763184,
          4.875851631164551,
          3.1340103149414062,
          2.60459041595459,
          3.071587324142456,
          1.5857080221176147,
          3.61059832572937,
          1.6258574724197388,
          3.8378806114196777,
          2.7640812397003174,
          1.3286582231521606,
          2.3789539337158203,
          2.1967108249664307,
          5.483662128448486,
          3.870079278945923,
          2.6980881690979004,
          0.702844500541687,
          5.570278167724609,
          5.373073577880859,
          4.066508769989014,
          5.388911247253418,
          4.7571306228637695,
          5.443328380584717,
          3.7088515758514404,
          1.9512076377868652,
          3.294682502746582,
          1.1536024808883667,
          4.565655708312988,
          4.505280494689941,
          2.150510787963867,
          1.4304132461547852,
          3.4992940425872803,
          4.78996467590332,
          2.5070462226867676,
          2.7109735012054443,
          0.814817488193512,
          4.968339920043945,
          1.6947311162948608,
          2.717975378036499,
          4.505221843719482,
          3.3550357818603516,
          2.1317782402038574,
          4.935840606689453,
          3.6129467487335205,
          0.9554656744003296,
          4.1955180168151855,
          4.147824764251709,
          1.4095524549484253,
          4.892029762268066,
          4.71809720993042,
          1.9581457376480103,
          2.148191452026367,
          2.873429536819458,
          2.7462666034698486,
          2.4023332595825195,
          4.786655426025391,
          5.236197471618652,
          1.696675181388855,
          1.8589593172073364,
          3.1309127807617188,
          3.0268237590789795,
          1.579641580581665,
          3.259953260421753,
          4.6997528076171875,
          0.6198734641075134,
          4.493577480316162,
          5.133913516998291,
          5.486286163330078,
          2.229926109313965
         ],
         "yaxis": "y"
        }
       ],
       "layout": {
        "coloraxis": {
         "colorbar": {
          "title": {
           "text": "ENSG00000211899.6"
          }
         },
         "colorscale": [
          [
           0,
           "#0d0887"
          ],
          [
           0.1111111111111111,
           "#46039f"
          ],
          [
           0.2222222222222222,
           "#7201a8"
          ],
          [
           0.3333333333333333,
           "#9c179e"
          ],
          [
           0.4444444444444444,
           "#bd3786"
          ],
          [
           0.5555555555555556,
           "#d8576b"
          ],
          [
           0.6666666666666666,
           "#ed7953"
          ],
          [
           0.7777777777777778,
           "#fb9f3a"
          ],
          [
           0.8888888888888888,
           "#fdca26"
          ],
          [
           1,
           "#f0f921"
          ]
         ]
        },
        "legend": {
         "tracegroupgap": 0
        },
        "margin": {
         "t": 60
        },
        "template": {
         "data": {
          "bar": [
           {
            "error_x": {
             "color": "#2a3f5f"
            },
            "error_y": {
             "color": "#2a3f5f"
            },
            "marker": {
             "line": {
              "color": "#E5ECF6",
              "width": 0.5
             },
             "pattern": {
              "fillmode": "overlay",
              "size": 10,
              "solidity": 0.2
             }
            },
            "type": "bar"
           }
          ],
          "barpolar": [
           {
            "marker": {
             "line": {
              "color": "#E5ECF6",
              "width": 0.5
             },
             "pattern": {
              "fillmode": "overlay",
              "size": 10,
              "solidity": 0.2
             }
            },
            "type": "barpolar"
           }
          ],
          "carpet": [
           {
            "aaxis": {
             "endlinecolor": "#2a3f5f",
             "gridcolor": "white",
             "linecolor": "white",
             "minorgridcolor": "white",
             "startlinecolor": "#2a3f5f"
            },
            "baxis": {
             "endlinecolor": "#2a3f5f",
             "gridcolor": "white",
             "linecolor": "white",
             "minorgridcolor": "white",
             "startlinecolor": "#2a3f5f"
            },
            "type": "carpet"
           }
          ],
          "choropleth": [
           {
            "colorbar": {
             "outlinewidth": 0,
             "ticks": ""
            },
            "type": "choropleth"
           }
          ],
          "contour": [
           {
            "colorbar": {
             "outlinewidth": 0,
             "ticks": ""
            },
            "colorscale": [
             [
              0,
              "#0d0887"
             ],
             [
              0.1111111111111111,
              "#46039f"
             ],
             [
              0.2222222222222222,
              "#7201a8"
             ],
             [
              0.3333333333333333,
              "#9c179e"
             ],
             [
              0.4444444444444444,
              "#bd3786"
             ],
             [
              0.5555555555555556,
              "#d8576b"
             ],
             [
              0.6666666666666666,
              "#ed7953"
             ],
             [
              0.7777777777777778,
              "#fb9f3a"
             ],
             [
              0.8888888888888888,
              "#fdca26"
             ],
             [
              1,
              "#f0f921"
             ]
            ],
            "type": "contour"
           }
          ],
          "contourcarpet": [
           {
            "colorbar": {
             "outlinewidth": 0,
             "ticks": ""
            },
            "type": "contourcarpet"
           }
          ],
          "heatmap": [
           {
            "colorbar": {
             "outlinewidth": 0,
             "ticks": ""
            },
            "colorscale": [
             [
              0,
              "#0d0887"
             ],
             [
              0.1111111111111111,
              "#46039f"
             ],
             [
              0.2222222222222222,
              "#7201a8"
             ],
             [
              0.3333333333333333,
              "#9c179e"
             ],
             [
              0.4444444444444444,
              "#bd3786"
             ],
             [
              0.5555555555555556,
              "#d8576b"
             ],
             [
              0.6666666666666666,
              "#ed7953"
             ],
             [
              0.7777777777777778,
              "#fb9f3a"
             ],
             [
              0.8888888888888888,
              "#fdca26"
             ],
             [
              1,
              "#f0f921"
             ]
            ],
            "type": "heatmap"
           }
          ],
          "heatmapgl": [
           {
            "colorbar": {
             "outlinewidth": 0,
             "ticks": ""
            },
            "colorscale": [
             [
              0,
              "#0d0887"
             ],
             [
              0.1111111111111111,
              "#46039f"
             ],
             [
              0.2222222222222222,
              "#7201a8"
             ],
             [
              0.3333333333333333,
              "#9c179e"
             ],
             [
              0.4444444444444444,
              "#bd3786"
             ],
             [
              0.5555555555555556,
              "#d8576b"
             ],
             [
              0.6666666666666666,
              "#ed7953"
             ],
             [
              0.7777777777777778,
              "#fb9f3a"
             ],
             [
              0.8888888888888888,
              "#fdca26"
             ],
             [
              1,
              "#f0f921"
             ]
            ],
            "type": "heatmapgl"
           }
          ],
          "histogram": [
           {
            "marker": {
             "pattern": {
              "fillmode": "overlay",
              "size": 10,
              "solidity": 0.2
             }
            },
            "type": "histogram"
           }
          ],
          "histogram2d": [
           {
            "colorbar": {
             "outlinewidth": 0,
             "ticks": ""
            },
            "colorscale": [
             [
              0,
              "#0d0887"
             ],
             [
              0.1111111111111111,
              "#46039f"
             ],
             [
              0.2222222222222222,
              "#7201a8"
             ],
             [
              0.3333333333333333,
              "#9c179e"
             ],
             [
              0.4444444444444444,
              "#bd3786"
             ],
             [
              0.5555555555555556,
              "#d8576b"
             ],
             [
              0.6666666666666666,
              "#ed7953"
             ],
             [
              0.7777777777777778,
              "#fb9f3a"
             ],
             [
              0.8888888888888888,
              "#fdca26"
             ],
             [
              1,
              "#f0f921"
             ]
            ],
            "type": "histogram2d"
           }
          ],
          "histogram2dcontour": [
           {
            "colorbar": {
             "outlinewidth": 0,
             "ticks": ""
            },
            "colorscale": [
             [
              0,
              "#0d0887"
             ],
             [
              0.1111111111111111,
              "#46039f"
             ],
             [
              0.2222222222222222,
              "#7201a8"
             ],
             [
              0.3333333333333333,
              "#9c179e"
             ],
             [
              0.4444444444444444,
              "#bd3786"
             ],
             [
              0.5555555555555556,
              "#d8576b"
             ],
             [
              0.6666666666666666,
              "#ed7953"
             ],
             [
              0.7777777777777778,
              "#fb9f3a"
             ],
             [
              0.8888888888888888,
              "#fdca26"
             ],
             [
              1,
              "#f0f921"
             ]
            ],
            "type": "histogram2dcontour"
           }
          ],
          "mesh3d": [
           {
            "colorbar": {
             "outlinewidth": 0,
             "ticks": ""
            },
            "type": "mesh3d"
           }
          ],
          "parcoords": [
           {
            "line": {
             "colorbar": {
              "outlinewidth": 0,
              "ticks": ""
             }
            },
            "type": "parcoords"
           }
          ],
          "pie": [
           {
            "automargin": true,
            "type": "pie"
           }
          ],
          "scatter": [
           {
            "fillpattern": {
             "fillmode": "overlay",
             "size": 10,
             "solidity": 0.2
            },
            "type": "scatter"
           }
          ],
          "scatter3d": [
           {
            "line": {
             "colorbar": {
              "outlinewidth": 0,
              "ticks": ""
             }
            },
            "marker": {
             "colorbar": {
              "outlinewidth": 0,
              "ticks": ""
             }
            },
            "type": "scatter3d"
           }
          ],
          "scattercarpet": [
           {
            "marker": {
             "colorbar": {
              "outlinewidth": 0,
              "ticks": ""
             }
            },
            "type": "scattercarpet"
           }
          ],
          "scattergeo": [
           {
            "marker": {
             "colorbar": {
              "outlinewidth": 0,
              "ticks": ""
             }
            },
            "type": "scattergeo"
           }
          ],
          "scattergl": [
           {
            "marker": {
             "colorbar": {
              "outlinewidth": 0,
              "ticks": ""
             }
            },
            "type": "scattergl"
           }
          ],
          "scattermapbox": [
           {
            "marker": {
             "colorbar": {
              "outlinewidth": 0,
              "ticks": ""
             }
            },
            "type": "scattermapbox"
           }
          ],
          "scatterpolar": [
           {
            "marker": {
             "colorbar": {
              "outlinewidth": 0,
              "ticks": ""
             }
            },
            "type": "scatterpolar"
           }
          ],
          "scatterpolargl": [
           {
            "marker": {
             "colorbar": {
              "outlinewidth": 0,
              "ticks": ""
             }
            },
            "type": "scatterpolargl"
           }
          ],
          "scatterternary": [
           {
            "marker": {
             "colorbar": {
              "outlinewidth": 0,
              "ticks": ""
             }
            },
            "type": "scatterternary"
           }
          ],
          "surface": [
           {
            "colorbar": {
             "outlinewidth": 0,
             "ticks": ""
            },
            "colorscale": [
             [
              0,
              "#0d0887"
             ],
             [
              0.1111111111111111,
              "#46039f"
             ],
             [
              0.2222222222222222,
              "#7201a8"
             ],
             [
              0.3333333333333333,
              "#9c179e"
             ],
             [
              0.4444444444444444,
              "#bd3786"
             ],
             [
              0.5555555555555556,
              "#d8576b"
             ],
             [
              0.6666666666666666,
              "#ed7953"
             ],
             [
              0.7777777777777778,
              "#fb9f3a"
             ],
             [
              0.8888888888888888,
              "#fdca26"
             ],
             [
              1,
              "#f0f921"
             ]
            ],
            "type": "surface"
           }
          ],
          "table": [
           {
            "cells": {
             "fill": {
              "color": "#EBF0F8"
             },
             "line": {
              "color": "white"
             }
            },
            "header": {
             "fill": {
              "color": "#C8D4E3"
             },
             "line": {
              "color": "white"
             }
            },
            "type": "table"
           }
          ]
         },
         "layout": {
          "annotationdefaults": {
           "arrowcolor": "#2a3f5f",
           "arrowhead": 0,
           "arrowwidth": 1
          },
          "autotypenumbers": "strict",
          "coloraxis": {
           "colorbar": {
            "outlinewidth": 0,
            "ticks": ""
           }
          },
          "colorscale": {
           "diverging": [
            [
             0,
             "#8e0152"
            ],
            [
             0.1,
             "#c51b7d"
            ],
            [
             0.2,
             "#de77ae"
            ],
            [
             0.3,
             "#f1b6da"
            ],
            [
             0.4,
             "#fde0ef"
            ],
            [
             0.5,
             "#f7f7f7"
            ],
            [
             0.6,
             "#e6f5d0"
            ],
            [
             0.7,
             "#b8e186"
            ],
            [
             0.8,
             "#7fbc41"
            ],
            [
             0.9,
             "#4d9221"
            ],
            [
             1,
             "#276419"
            ]
           ],
           "sequential": [
            [
             0,
             "#0d0887"
            ],
            [
             0.1111111111111111,
             "#46039f"
            ],
            [
             0.2222222222222222,
             "#7201a8"
            ],
            [
             0.3333333333333333,
             "#9c179e"
            ],
            [
             0.4444444444444444,
             "#bd3786"
            ],
            [
             0.5555555555555556,
             "#d8576b"
            ],
            [
             0.6666666666666666,
             "#ed7953"
            ],
            [
             0.7777777777777778,
             "#fb9f3a"
            ],
            [
             0.8888888888888888,
             "#fdca26"
            ],
            [
             1,
             "#f0f921"
            ]
           ],
           "sequentialminus": [
            [
             0,
             "#0d0887"
            ],
            [
             0.1111111111111111,
             "#46039f"
            ],
            [
             0.2222222222222222,
             "#7201a8"
            ],
            [
             0.3333333333333333,
             "#9c179e"
            ],
            [
             0.4444444444444444,
             "#bd3786"
            ],
            [
             0.5555555555555556,
             "#d8576b"
            ],
            [
             0.6666666666666666,
             "#ed7953"
            ],
            [
             0.7777777777777778,
             "#fb9f3a"
            ],
            [
             0.8888888888888888,
             "#fdca26"
            ],
            [
             1,
             "#f0f921"
            ]
           ]
          },
          "colorway": [
           "#636efa",
           "#EF553B",
           "#00cc96",
           "#ab63fa",
           "#FFA15A",
           "#19d3f3",
           "#FF6692",
           "#B6E880",
           "#FF97FF",
           "#FECB52"
          ],
          "font": {
           "color": "#2a3f5f"
          },
          "geo": {
           "bgcolor": "white",
           "lakecolor": "white",
           "landcolor": "#E5ECF6",
           "showlakes": true,
           "showland": true,
           "subunitcolor": "white"
          },
          "hoverlabel": {
           "align": "left"
          },
          "hovermode": "closest",
          "mapbox": {
           "style": "light"
          },
          "paper_bgcolor": "white",
          "plot_bgcolor": "#E5ECF6",
          "polar": {
           "angularaxis": {
            "gridcolor": "white",
            "linecolor": "white",
            "ticks": ""
           },
           "bgcolor": "#E5ECF6",
           "radialaxis": {
            "gridcolor": "white",
            "linecolor": "white",
            "ticks": ""
           }
          },
          "scene": {
           "xaxis": {
            "backgroundcolor": "#E5ECF6",
            "gridcolor": "white",
            "gridwidth": 2,
            "linecolor": "white",
            "showbackground": true,
            "ticks": "",
            "zerolinecolor": "white"
           },
           "yaxis": {
            "backgroundcolor": "#E5ECF6",
            "gridcolor": "white",
            "gridwidth": 2,
            "linecolor": "white",
            "showbackground": true,
            "ticks": "",
            "zerolinecolor": "white"
           },
           "zaxis": {
            "backgroundcolor": "#E5ECF6",
            "gridcolor": "white",
            "gridwidth": 2,
            "linecolor": "white",
            "showbackground": true,
            "ticks": "",
            "zerolinecolor": "white"
           }
          },
          "shapedefaults": {
           "line": {
            "color": "#2a3f5f"
           }
          },
          "ternary": {
           "aaxis": {
            "gridcolor": "white",
            "linecolor": "white",
            "ticks": ""
           },
           "baxis": {
            "gridcolor": "white",
            "linecolor": "white",
            "ticks": ""
           },
           "bgcolor": "#E5ECF6",
           "caxis": {
            "gridcolor": "white",
            "linecolor": "white",
            "ticks": ""
           }
          },
          "title": {
           "x": 0.05
          },
          "xaxis": {
           "automargin": true,
           "gridcolor": "white",
           "linecolor": "white",
           "ticks": "",
           "title": {
            "standoff": 15
           },
           "zerolinecolor": "white",
           "zerolinewidth": 2
          },
          "yaxis": {
           "automargin": true,
           "gridcolor": "white",
           "linecolor": "white",
           "ticks": "",
           "title": {
            "standoff": 15
           },
           "zerolinecolor": "white",
           "zerolinewidth": 2
          }
         }
        },
        "xaxis": {
         "anchor": "y",
         "domain": [
          0,
          1
         ],
         "title": {
          "text": "umap comp. 1"
         }
        },
        "yaxis": {
         "anchor": "x",
         "domain": [
          0,
          1
         ],
         "title": {
          "text": "umap comp. 2"
         }
        }
       }
      },
      "text/html": [
       "<div>                            <div id=\"346f9802-02c4-4e0b-bed3-8a43e1111ed4\" class=\"plotly-graph-div\" style=\"height:525px; width:100%;\"></div>            <script type=\"text/javascript\">                require([\"plotly\"], function(Plotly) {                    window.PLOTLYENV=window.PLOTLYENV || {};                                    if (document.getElementById(\"346f9802-02c4-4e0b-bed3-8a43e1111ed4\")) {                    Plotly.newPlot(                        \"346f9802-02c4-4e0b-bed3-8a43e1111ed4\",                        [{\"hovertemplate\":\"umap comp. 1=%{x}<br>umap comp. 2=%{y}<br>ENSG00000211899.6=%{marker.color}<extra></extra>\",\"legendgroup\":\"\",\"marker\":{\"color\":[1.6472235142523026,0.5359761435314463,1.2001876243885188,6.079006534999265,10.924583249463112,5.125436363040182,3.026029378955958,10.348168163860992,8.903943093622674,6.4840512825325325,4.537685480531323,9.662564507238386,0.921685878929506,11.658791838131313,9.152061011493933,10.850305030746323,14.501690623177106,2.040227094648788,6.899362789170461,3.537889535835263,9.401371881029243,0.5471368931301129,9.18353852388752,10.678246526070774,3.1539253413999484,2.414138214356997,3.62401511856239,3.843673525212585,11.238479809631045,2.8170841183092787,5.127744213960023,0.2628411470607792,5.1665604180447415,8.275129423131748,8.713590767344716,8.111748161762039,3.810219250609069,4.082394056697849,0.6936168264308713,10.03078947182176,6.537140897453026,2.650307734642732,6.775405028921691,5.106915246749794,6.737937314465902,9.826605681214112,9.218145571913665,5.202669808788182,3.650966513667489,7.743836616173445,11.948277090770192,8.90300252098209,4.67331401147846,1.8600658170383784,8.2406636046646,1.840544503949575,5.73237841341746,8.61039807228125,1.3401836848722934,8.989418567710816,0.1381088698768326,8.986239323910487,4.680630740466452,0.5321289308093538,10.559982596992992,10.026150455655364,6.994010414018874,4.647985995430792,8.72099391997569,7.128082828457184,3.096224191537305,1.2930542911670313,6.790471005906959,3.025558103212324,9.21683591724103,11.42813071678622,1.275305207509837,12.195327438941172,11.247754854242784,4.338104692336683,11.06680099966757,7.824258565743487,9.6513385486493,10.888682334476442,10.483860612005778,1.051478110570441,10.233769665220812,11.219713806673797,6.804990466272666,8.934799107877842,0.2092930945756901,1.0412304026598578,2.510644584203288,9.623742534269002,9.16852201935088,5.675278881640785,8.665271707952682,7.264740650684833,2.333627518607342,2.433785836495943,7.556719014063685,3.1340709832038463,13.29362039545987,6.213747600805845,7.88974410732771,4.714576435604405,0.11069244629829,5.039671517071859,4.214439336844835,6.4767910745661,1.2600439118224012,4.977861398101483,6.689398178066322,5.814034035412986,2.505999062294346,10.215558025047866,7.258551125354005,8.1829353728125,3.674685884619808,9.607525982180178,8.179787052064409,5.09728991241666,8.918485879095446,0.6993588278769033,8.013369427682386,9.268737684117156,8.015211147380624,3.556660760848098,5.899181995184045,7.175780296286422,2.5684253288547656,6.317052588579498,6.474201660952452,8.052129409851117,13.282963379545397,16.354927003334186,9.902601003034452,3.9735950566817806,3.679441421395716,7.3749483136212355,10.291317461160578,9.53965596126939,2.011367715372197,7.077771915415227,8.188318258723651,9.146184317162149,0.6331894151544625,8.70836619058234,6.572842390197926,1.5116015099729454,1.8511423978050572,11.920514247325835,1.788577519120052,8.603399851631016,10.15126428628462,1.715729567475504,1.679891938547848,6.923966916867331,2.9274760026318614,4.021828734957374,7.133526275862979,8.074219852522251,8.014565417418867,3.587779685793728,9.655492146230308,2.9797405643266304,1.4645168990789588,7.499927864263264,8.640012011597168,2.0200547931673523,1.6428190429239198,9.061886655126226,1.0928822282683894,2.597945254705232,9.184270950304974,1.2127515063047631,0.7520288043218087,6.76602742499615,9.68290824929891],\"coloraxis\":\"coloraxis\",\"symbol\":\"circle\"},\"mode\":\"markers\",\"name\":\"\",\"orientation\":\"v\",\"showlegend\":false,\"x\":[0.4769953191280365,-0.574792742729187,1.003066897392273,1.3527865409851074,4.900091648101807,0.776159405708313,1.1752872467041016,5.81779146194458,5.861719608306885,0.7842036485671997,1.5609344244003296,4.4302167892456055,2.472541093826294,5.055769920349121,2.809574604034424,5.3433942794799805,4.49949836730957,2.439709424972534,3.541715145111084,-0.649025022983551,5.616331577301025,2.169442892074585,3.292393922805786,5.355608940124512,1.1997771263122559,0.9650393128395081,0.3878655731678009,3.4004197120666504,4.792561054229736,1.8045332431793213,2.2884681224823,1.5050824880599976,3.9144270420074463,3.4899613857269287,4.046327590942383,3.6913955211639404,3.57916522026062,2.3779821395874023,-0.6804885268211365,5.506998538970947,4.501594543457031,0.2716796398162842,3.5323073863983154,-0.28143396973609924,2.1318302154541016,5.451845169067383,1.6029078960418701,2.462111711502075,0.06372290849685669,1.6209396123886108,5.6843414306640625,3.7031311988830566,1.014291763305664,0.4951835870742798,3.9383020401000977,1.1351444721221924,2.6721696853637695,4.007485866546631,2.6467533111572266,3.874058246612549,3.615386724472046,4.535721302032471,1.3486251831054688,-0.233059823513031,5.6902546882629395,5.346224784851074,3.5040440559387207,2.7324275970458984,5.4333176612854,4.6895012855529785,0.9709829092025757,2.537128210067749,4.750014781951904,1.9571744203567505,5.6347270011901855,5.597871780395508,0.696793258190155,5.78605318069458,5.414912700653076,2.2282333374023438,5.295116424560547,2.8643112182617188,3.620546817779541,3.8640811443328857,5.265382289886475,1.0173231363296509,4.124029159545898,5.108036041259766,4.769508361816406,6.069649696350098,3.1420018672943115,0.6519963145256042,1.8101619482040405,2.1196584701538086,-0.7784608602523804,1.929364800453186,4.8430047035217285,3.737447738647461,0.9320504665374756,-0.5466663837432861,4.645401477813721,1.587859034538269,5.502042770385742,3.8284521102905273,3.039557456970215,2.9783875942230225,2.3519582748413086,2.418938636779785,3.352424383163452,6.039977550506592,-0.5860112309455872,3.5902099609375,2.9050192832946777,0.8426611423492432,0.17834514379501343,5.463722229003906,5.166733741760254,3.2018887996673584,4.279350280761719,3.809433937072754,5.193198204040527,3.5887415409088135,4.678554534912109,-0.6599922776222229,4.95646858215332,2.7264137268066406,3.9120664596557617,-0.6030315160751343,-0.4826362729072571,3.4189558029174805,-0.08749833703041077,4.077544212341309,-0.0541130006313324,1.474335789680481,3.8805043697357178,5.738053321838379,5.780577182769775,4.261526584625244,2.3433022499084473,1.9933319091796875,5.306565284729004,5.523641109466553,0.3658936321735382,4.1432976722717285,2.6168603897094727,5.961374282836914,3.8334834575653076,3.3151862621307373,4.444754600524902,-0.43527209758758545,0.5109224319458008,5.400974750518799,-0.6282256245613098,5.260463714599609,5.059561252593994,1.1996822357177734,1.8582425117492676,4.510890007019043,-0.5636889338493347,3.0842695236206055,1.6388366222381592,2.8991079330444336,5.798651695251465,0.530650794506073,5.62587308883667,4.043696403503418,-0.4141053557395935,4.104586124420166,4.281184673309326,0.9992297291755676,0.7761165499687195,5.058957099914551,1.280837893486023,2.1416521072387695,5.806057453155518,2.028564929962158,2.484835386276245,-0.2979085147380829,4.896857261657715],\"xaxis\":\"x\",\"y\":[3.4659621715545654,4.690710544586182,3.7338759899139404,2.410891056060791,1.376531720161438,2.5844171047210693,4.6507697105407715,1.3061625957489014,3.0831470489501953,4.490290641784668,2.332380771636963,1.1265270709991455,5.276187419891357,0.55411297082901,1.4324219226837158,0.5543568134307861,1.082168698310852,4.999237537384033,3.0047314167022705,5.45513391494751,3.3374783992767334,5.082096099853516,1.0291274785995483,1.2463877201080322,3.6194937229156494,2.6378049850463867,2.9807333946228027,2.822423219680786,1.9035913944244385,3.144158363342285,4.125833511352539,4.1222100257873535,1.4706801176071167,0.9894649982452393,1.4386967420578003,3.1588480472564697,5.010567665100098,2.691035509109497,5.106295585632324,0.8113269209861755,3.6545636653900146,2.8261499404907227,2.7073254585266113,4.1226396560668945,3.0982699394226074,1.6124688386917114,2.009033679962158,5.225546360015869,5.015538692474365,1.9905239343643188,2.119155168533325,0.809400200843811,2.969158411026001,2.7805774211883545,1.958793044090271,2.4924168586730957,3.0876383781433105,3.3599936962127686,5.081485748291016,2.6841588020324707,4.969899654388428,2.0295870304107666,2.6501176357269287,4.616135597229004,0.8830621838569641,2.115041971206665,1.1721217632293701,4.9029388427734375,3.7079379558563232,3.9308478832244873,3.2397899627685547,4.651907444000244,3.841463804244995,2.7795863151550293,2.818453788757324,2.160961627960205,3.1586368083953857,1.0176761150360107,1.696475863456726,4.340892791748047,3.1862804889678955,1.8991026878356934,1.3887807130813599,2.241814136505127,0.9326991438865662,4.209611415863037,0.7151024341583252,0.6836574673652649,2.900543451309204,1.2181071043014526,4.952814102172852,2.48551082611084,4.227819919586182,2.577336549758911,5.225311279296875,2.9380924701690674,0.9244276285171509,1.3244528770446777,2.9418976306915283,5.34088134765625,0.8109622001647949,2.589343786239624,0.6154100894927979,3.7874302864074707,2.9030160903930664,4.807824611663818,5.023619174957275,2.6854474544525146,2.010896921157837,0.7658567428588867,4.866576194763184,4.875851631164551,3.1340103149414062,2.60459041595459,3.071587324142456,1.5857080221176147,3.61059832572937,1.6258574724197388,3.8378806114196777,2.7640812397003174,1.3286582231521606,2.3789539337158203,2.1967108249664307,5.483662128448486,3.870079278945923,2.6980881690979004,0.702844500541687,5.570278167724609,5.373073577880859,4.066508769989014,5.388911247253418,4.7571306228637695,5.443328380584717,3.7088515758514404,1.9512076377868652,3.294682502746582,1.1536024808883667,4.565655708312988,4.505280494689941,2.150510787963867,1.4304132461547852,3.4992940425872803,4.78996467590332,2.5070462226867676,2.7109735012054443,0.814817488193512,4.968339920043945,1.6947311162948608,2.717975378036499,4.505221843719482,3.3550357818603516,2.1317782402038574,4.935840606689453,3.6129467487335205,0.9554656744003296,4.1955180168151855,4.147824764251709,1.4095524549484253,4.892029762268066,4.71809720993042,1.9581457376480103,2.148191452026367,2.873429536819458,2.7462666034698486,2.4023332595825195,4.786655426025391,5.236197471618652,1.696675181388855,1.8589593172073364,3.1309127807617188,3.0268237590789795,1.579641580581665,3.259953260421753,4.6997528076171875,0.6198734641075134,4.493577480316162,5.133913516998291,5.486286163330078,2.229926109313965],\"yaxis\":\"y\",\"type\":\"scatter\"}],                        {\"template\":{\"data\":{\"histogram2dcontour\":[{\"type\":\"histogram2dcontour\",\"colorbar\":{\"outlinewidth\":0,\"ticks\":\"\"},\"colorscale\":[[0.0,\"#0d0887\"],[0.1111111111111111,\"#46039f\"],[0.2222222222222222,\"#7201a8\"],[0.3333333333333333,\"#9c179e\"],[0.4444444444444444,\"#bd3786\"],[0.5555555555555556,\"#d8576b\"],[0.6666666666666666,\"#ed7953\"],[0.7777777777777778,\"#fb9f3a\"],[0.8888888888888888,\"#fdca26\"],[1.0,\"#f0f921\"]]}],\"choropleth\":[{\"type\":\"choropleth\",\"colorbar\":{\"outlinewidth\":0,\"ticks\":\"\"}}],\"histogram2d\":[{\"type\":\"histogram2d\",\"colorbar\":{\"outlinewidth\":0,\"ticks\":\"\"},\"colorscale\":[[0.0,\"#0d0887\"],[0.1111111111111111,\"#46039f\"],[0.2222222222222222,\"#7201a8\"],[0.3333333333333333,\"#9c179e\"],[0.4444444444444444,\"#bd3786\"],[0.5555555555555556,\"#d8576b\"],[0.6666666666666666,\"#ed7953\"],[0.7777777777777778,\"#fb9f3a\"],[0.8888888888888888,\"#fdca26\"],[1.0,\"#f0f921\"]]}],\"heatmap\":[{\"type\":\"heatmap\",\"colorbar\":{\"outlinewidth\":0,\"ticks\":\"\"},\"colorscale\":[[0.0,\"#0d0887\"],[0.1111111111111111,\"#46039f\"],[0.2222222222222222,\"#7201a8\"],[0.3333333333333333,\"#9c179e\"],[0.4444444444444444,\"#bd3786\"],[0.5555555555555556,\"#d8576b\"],[0.6666666666666666,\"#ed7953\"],[0.7777777777777778,\"#fb9f3a\"],[0.8888888888888888,\"#fdca26\"],[1.0,\"#f0f921\"]]}],\"heatmapgl\":[{\"type\":\"heatmapgl\",\"colorbar\":{\"outlinewidth\":0,\"ticks\":\"\"},\"colorscale\":[[0.0,\"#0d0887\"],[0.1111111111111111,\"#46039f\"],[0.2222222222222222,\"#7201a8\"],[0.3333333333333333,\"#9c179e\"],[0.4444444444444444,\"#bd3786\"],[0.5555555555555556,\"#d8576b\"],[0.6666666666666666,\"#ed7953\"],[0.7777777777777778,\"#fb9f3a\"],[0.8888888888888888,\"#fdca26\"],[1.0,\"#f0f921\"]]}],\"contourcarpet\":[{\"type\":\"contourcarpet\",\"colorbar\":{\"outlinewidth\":0,\"ticks\":\"\"}}],\"contour\":[{\"type\":\"contour\",\"colorbar\":{\"outlinewidth\":0,\"ticks\":\"\"},\"colorscale\":[[0.0,\"#0d0887\"],[0.1111111111111111,\"#46039f\"],[0.2222222222222222,\"#7201a8\"],[0.3333333333333333,\"#9c179e\"],[0.4444444444444444,\"#bd3786\"],[0.5555555555555556,\"#d8576b\"],[0.6666666666666666,\"#ed7953\"],[0.7777777777777778,\"#fb9f3a\"],[0.8888888888888888,\"#fdca26\"],[1.0,\"#f0f921\"]]}],\"surface\":[{\"type\":\"surface\",\"colorbar\":{\"outlinewidth\":0,\"ticks\":\"\"},\"colorscale\":[[0.0,\"#0d0887\"],[0.1111111111111111,\"#46039f\"],[0.2222222222222222,\"#7201a8\"],[0.3333333333333333,\"#9c179e\"],[0.4444444444444444,\"#bd3786\"],[0.5555555555555556,\"#d8576b\"],[0.6666666666666666,\"#ed7953\"],[0.7777777777777778,\"#fb9f3a\"],[0.8888888888888888,\"#fdca26\"],[1.0,\"#f0f921\"]]}],\"mesh3d\":[{\"type\":\"mesh3d\",\"colorbar\":{\"outlinewidth\":0,\"ticks\":\"\"}}],\"scatter\":[{\"fillpattern\":{\"fillmode\":\"overlay\",\"size\":10,\"solidity\":0.2},\"type\":\"scatter\"}],\"parcoords\":[{\"type\":\"parcoords\",\"line\":{\"colorbar\":{\"outlinewidth\":0,\"ticks\":\"\"}}}],\"scatterpolargl\":[{\"type\":\"scatterpolargl\",\"marker\":{\"colorbar\":{\"outlinewidth\":0,\"ticks\":\"\"}}}],\"bar\":[{\"error_x\":{\"color\":\"#2a3f5f\"},\"error_y\":{\"color\":\"#2a3f5f\"},\"marker\":{\"line\":{\"color\":\"#E5ECF6\",\"width\":0.5},\"pattern\":{\"fillmode\":\"overlay\",\"size\":10,\"solidity\":0.2}},\"type\":\"bar\"}],\"scattergeo\":[{\"type\":\"scattergeo\",\"marker\":{\"colorbar\":{\"outlinewidth\":0,\"ticks\":\"\"}}}],\"scatterpolar\":[{\"type\":\"scatterpolar\",\"marker\":{\"colorbar\":{\"outlinewidth\":0,\"ticks\":\"\"}}}],\"histogram\":[{\"marker\":{\"pattern\":{\"fillmode\":\"overlay\",\"size\":10,\"solidity\":0.2}},\"type\":\"histogram\"}],\"scattergl\":[{\"type\":\"scattergl\",\"marker\":{\"colorbar\":{\"outlinewidth\":0,\"ticks\":\"\"}}}],\"scatter3d\":[{\"type\":\"scatter3d\",\"line\":{\"colorbar\":{\"outlinewidth\":0,\"ticks\":\"\"}},\"marker\":{\"colorbar\":{\"outlinewidth\":0,\"ticks\":\"\"}}}],\"scattermapbox\":[{\"type\":\"scattermapbox\",\"marker\":{\"colorbar\":{\"outlinewidth\":0,\"ticks\":\"\"}}}],\"scatterternary\":[{\"type\":\"scatterternary\",\"marker\":{\"colorbar\":{\"outlinewidth\":0,\"ticks\":\"\"}}}],\"scattercarpet\":[{\"type\":\"scattercarpet\",\"marker\":{\"colorbar\":{\"outlinewidth\":0,\"ticks\":\"\"}}}],\"carpet\":[{\"aaxis\":{\"endlinecolor\":\"#2a3f5f\",\"gridcolor\":\"white\",\"linecolor\":\"white\",\"minorgridcolor\":\"white\",\"startlinecolor\":\"#2a3f5f\"},\"baxis\":{\"endlinecolor\":\"#2a3f5f\",\"gridcolor\":\"white\",\"linecolor\":\"white\",\"minorgridcolor\":\"white\",\"startlinecolor\":\"#2a3f5f\"},\"type\":\"carpet\"}],\"table\":[{\"cells\":{\"fill\":{\"color\":\"#EBF0F8\"},\"line\":{\"color\":\"white\"}},\"header\":{\"fill\":{\"color\":\"#C8D4E3\"},\"line\":{\"color\":\"white\"}},\"type\":\"table\"}],\"barpolar\":[{\"marker\":{\"line\":{\"color\":\"#E5ECF6\",\"width\":0.5},\"pattern\":{\"fillmode\":\"overlay\",\"size\":10,\"solidity\":0.2}},\"type\":\"barpolar\"}],\"pie\":[{\"automargin\":true,\"type\":\"pie\"}]},\"layout\":{\"autotypenumbers\":\"strict\",\"colorway\":[\"#636efa\",\"#EF553B\",\"#00cc96\",\"#ab63fa\",\"#FFA15A\",\"#19d3f3\",\"#FF6692\",\"#B6E880\",\"#FF97FF\",\"#FECB52\"],\"font\":{\"color\":\"#2a3f5f\"},\"hovermode\":\"closest\",\"hoverlabel\":{\"align\":\"left\"},\"paper_bgcolor\":\"white\",\"plot_bgcolor\":\"#E5ECF6\",\"polar\":{\"bgcolor\":\"#E5ECF6\",\"angularaxis\":{\"gridcolor\":\"white\",\"linecolor\":\"white\",\"ticks\":\"\"},\"radialaxis\":{\"gridcolor\":\"white\",\"linecolor\":\"white\",\"ticks\":\"\"}},\"ternary\":{\"bgcolor\":\"#E5ECF6\",\"aaxis\":{\"gridcolor\":\"white\",\"linecolor\":\"white\",\"ticks\":\"\"},\"baxis\":{\"gridcolor\":\"white\",\"linecolor\":\"white\",\"ticks\":\"\"},\"caxis\":{\"gridcolor\":\"white\",\"linecolor\":\"white\",\"ticks\":\"\"}},\"coloraxis\":{\"colorbar\":{\"outlinewidth\":0,\"ticks\":\"\"}},\"colorscale\":{\"sequential\":[[0.0,\"#0d0887\"],[0.1111111111111111,\"#46039f\"],[0.2222222222222222,\"#7201a8\"],[0.3333333333333333,\"#9c179e\"],[0.4444444444444444,\"#bd3786\"],[0.5555555555555556,\"#d8576b\"],[0.6666666666666666,\"#ed7953\"],[0.7777777777777778,\"#fb9f3a\"],[0.8888888888888888,\"#fdca26\"],[1.0,\"#f0f921\"]],\"sequentialminus\":[[0.0,\"#0d0887\"],[0.1111111111111111,\"#46039f\"],[0.2222222222222222,\"#7201a8\"],[0.3333333333333333,\"#9c179e\"],[0.4444444444444444,\"#bd3786\"],[0.5555555555555556,\"#d8576b\"],[0.6666666666666666,\"#ed7953\"],[0.7777777777777778,\"#fb9f3a\"],[0.8888888888888888,\"#fdca26\"],[1.0,\"#f0f921\"]],\"diverging\":[[0,\"#8e0152\"],[0.1,\"#c51b7d\"],[0.2,\"#de77ae\"],[0.3,\"#f1b6da\"],[0.4,\"#fde0ef\"],[0.5,\"#f7f7f7\"],[0.6,\"#e6f5d0\"],[0.7,\"#b8e186\"],[0.8,\"#7fbc41\"],[0.9,\"#4d9221\"],[1,\"#276419\"]]},\"xaxis\":{\"gridcolor\":\"white\",\"linecolor\":\"white\",\"ticks\":\"\",\"title\":{\"standoff\":15},\"zerolinecolor\":\"white\",\"automargin\":true,\"zerolinewidth\":2},\"yaxis\":{\"gridcolor\":\"white\",\"linecolor\":\"white\",\"ticks\":\"\",\"title\":{\"standoff\":15},\"zerolinecolor\":\"white\",\"automargin\":true,\"zerolinewidth\":2},\"scene\":{\"xaxis\":{\"backgroundcolor\":\"#E5ECF6\",\"gridcolor\":\"white\",\"linecolor\":\"white\",\"showbackground\":true,\"ticks\":\"\",\"zerolinecolor\":\"white\",\"gridwidth\":2},\"yaxis\":{\"backgroundcolor\":\"#E5ECF6\",\"gridcolor\":\"white\",\"linecolor\":\"white\",\"showbackground\":true,\"ticks\":\"\",\"zerolinecolor\":\"white\",\"gridwidth\":2},\"zaxis\":{\"backgroundcolor\":\"#E5ECF6\",\"gridcolor\":\"white\",\"linecolor\":\"white\",\"showbackground\":true,\"ticks\":\"\",\"zerolinecolor\":\"white\",\"gridwidth\":2}},\"shapedefaults\":{\"line\":{\"color\":\"#2a3f5f\"}},\"annotationdefaults\":{\"arrowcolor\":\"#2a3f5f\",\"arrowhead\":0,\"arrowwidth\":1},\"geo\":{\"bgcolor\":\"white\",\"landcolor\":\"#E5ECF6\",\"subunitcolor\":\"white\",\"showland\":true,\"showlakes\":true,\"lakecolor\":\"white\"},\"title\":{\"x\":0.05},\"mapbox\":{\"style\":\"light\"}}},\"xaxis\":{\"anchor\":\"y\",\"domain\":[0.0,1.0],\"title\":{\"text\":\"umap comp. 1\"}},\"yaxis\":{\"anchor\":\"x\",\"domain\":[0.0,1.0],\"title\":{\"text\":\"umap comp. 2\"}},\"coloraxis\":{\"colorbar\":{\"title\":{\"text\":\"ENSG00000211899.6\"}},\"colorscale\":[[0.0,\"#0d0887\"],[0.1111111111111111,\"#46039f\"],[0.2222222222222222,\"#7201a8\"],[0.3333333333333333,\"#9c179e\"],[0.4444444444444444,\"#bd3786\"],[0.5555555555555556,\"#d8576b\"],[0.6666666666666666,\"#ed7953\"],[0.7777777777777778,\"#fb9f3a\"],[0.8888888888888888,\"#fdca26\"],[1.0,\"#f0f921\"]]},\"legend\":{\"tracegroupgap\":0},\"margin\":{\"t\":60}},                        {\"responsive\": true}                    ).then(function(){\n",
       "                            \n",
       "var gd = document.getElementById('346f9802-02c4-4e0b-bed3-8a43e1111ed4');\n",
       "var x = new MutationObserver(function (mutations, observer) {{\n",
       "        var display = window.getComputedStyle(gd).display;\n",
       "        if (!display || display === 'none') {{\n",
       "            console.log([gd, 'removed!']);\n",
       "            Plotly.purge(gd);\n",
       "            observer.disconnect();\n",
       "        }}\n",
       "}});\n",
       "\n",
       "// Listen for the removal of the full notebook cells\n",
       "var notebookContainer = gd.closest('#notebook-container');\n",
       "if (notebookContainer) {{\n",
       "    x.observe(notebookContainer, {childList: true});\n",
       "}}\n",
       "\n",
       "// Listen for the clearing of the current output cell\n",
       "var outputEl = gd.closest('.output');\n",
       "if (outputEl) {{\n",
       "    x.observe(outputEl, {childList: true});\n",
       "}}\n",
       "\n",
       "                        })                };                });            </script>        </div>"
      ]
     },
     "metadata": {},
     "output_type": "display_data"
    }
   ],
   "source": [
    "umap_df2[\"ENSG00000211899.6\"] = smpCounts.loc[\"ENSG00000211899.6\"] # IGHM\n",
    "fig = px.scatter(umap_df2, x=\"umap comp. 1\", y=\"umap comp. 2\",color=\"ENSG00000211899.6\")\n",
    "fig.show()"
   ]
  },
  {
   "cell_type": "code",
   "execution_count": 4,
   "metadata": {},
   "outputs": [],
   "source": [
    "# A compléter pour faire la même figure pour TGM1"
   ]
  }
 ],
 "metadata": {
  "kernelspec": {
   "display_name": "Python 3",
   "language": "python",
   "name": "python3"
  },
  "language_info": {
   "codemirror_mode": {
    "name": "ipython",
    "version": 3
   },
   "file_extension": ".py",
   "mimetype": "text/x-python",
   "name": "python",
   "nbconvert_exporter": "python",
   "pygments_lexer": "ipython3",
   "version": "3.8.5"
  }
 },
 "nbformat": 4,
 "nbformat_minor": 4
}
