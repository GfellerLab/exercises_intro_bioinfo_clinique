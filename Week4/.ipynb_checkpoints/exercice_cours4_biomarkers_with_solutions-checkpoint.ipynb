{
 "cells": [
  {
   "cell_type": "markdown",
   "metadata": {},
   "source": [
    "# Exercice semaine 4: Correction tests multiples et biomarqueurs"
   ]
  },
  {
   "cell_type": "markdown",
   "metadata": {},
   "source": [
    "## Chargement des libraries"
   ]
  },
  {
   "cell_type": "code",
   "execution_count": 34,
   "metadata": {},
   "outputs": [],
   "source": [
    "import pandas as pd\n",
    "import plotly.express as px\n",
    "import numpy as np\n",
    "import os\n",
    "from scipy import stats\n",
    "\n",
    "%matplotlib inline\n",
    "import matplotlib.pyplot as plt\n",
    "from sksurv.nonparametric import kaplan_meier_estimator\n",
    "from sksurv.compare import compare_survival"
   ]
  },
  {
   "cell_type": "markdown",
   "metadata": {},
   "source": [
    "## Partie 1 : Introduction aux tests multiples"
   ]
  },
  {
   "cell_type": "markdown",
   "metadata": {},
   "source": [
    "1) Faîtes 1000 t-tests entre des distributions normales centrées réduites de taille 30 générées aléatoirement. Afficher les deux dernières distributions générées."
   ]
  },
  {
   "cell_type": "code",
   "execution_count": 35,
   "metadata": {},
   "outputs": [],
   "source": [
    "resRandom = list()\n",
    "for g in range(1000):\n",
    "    group1 = np.random.normal(loc=0.0, scale=1.0, size=30)\n",
    "    group2 = np.random.normal(loc=0.0, scale=1.0, size=30)\n",
    "    diff = np.mean(group2) - np.mean(group1)\n",
    "    t, p = stats.ttest_ind(group1, group2,equal_var = True) \n",
    "    #t, p  = stats.wilcoxon(x = group1, y = group2) \n",
    "    resRandom.append([g,diff,t,p])"
   ]
  },
  {
   "cell_type": "code",
   "execution_count": 36,
   "metadata": {},
   "outputs": [
    {
     "data": {
      "application/vnd.plotly.v1+json": {
       "config": {
        "plotlyServerURL": "https://plot.ly"
       },
       "data": [
        {
         "alignmentgroup": "True",
         "bingroup": "x",
         "hovertemplate": "variable=0<br>value=%{x}<br>count=%{y}<extra></extra>",
         "legendgroup": "0",
         "marker": {
          "color": "#636efa",
          "pattern": {
           "shape": ""
          }
         },
         "name": "0",
         "nbinsx": 10,
         "offsetgroup": "0",
         "orientation": "v",
         "showlegend": true,
         "type": "histogram",
         "x": [
          -1.0393836659460658,
          -0.8276312681332139,
          -1.1166843522858967,
          -0.07433156946219077,
          -0.9805612285448813,
          2.617910629984606,
          1.2703349566529711,
          -1.0109687445786055,
          -0.657392471744742,
          0.18803679605588938,
          0.24483438168712776,
          0.8394055635662449,
          0.046100326018537544,
          0.04372552322995729,
          -0.2038722678845541,
          -1.2479252424175662,
          0.5250171776910998,
          -0.8257469767982595,
          -1.6265033234264032,
          0.20325510110547584,
          0.4762674588001562,
          0.13293377970008532,
          0.9950909716550221,
          0.32496320421996766,
          0.43336340936212586,
          -0.9352208203746747,
          -0.1471404111808582,
          -0.3013682342939859,
          -0.5889442726411817,
          0.4533364527634003
         ],
         "xaxis": "x",
         "yaxis": "y"
        }
       ],
       "layout": {
        "autosize": true,
        "barmode": "relative",
        "legend": {
         "title": {
          "text": "variable"
         },
         "tracegroupgap": 0
        },
        "margin": {
         "t": 60
        },
        "template": {
         "data": {
          "bar": [
           {
            "error_x": {
             "color": "#2a3f5f"
            },
            "error_y": {
             "color": "#2a3f5f"
            },
            "marker": {
             "line": {
              "color": "#E5ECF6",
              "width": 0.5
             },
             "pattern": {
              "fillmode": "overlay",
              "size": 10,
              "solidity": 0.2
             }
            },
            "type": "bar"
           }
          ],
          "barpolar": [
           {
            "marker": {
             "line": {
              "color": "#E5ECF6",
              "width": 0.5
             },
             "pattern": {
              "fillmode": "overlay",
              "size": 10,
              "solidity": 0.2
             }
            },
            "type": "barpolar"
           }
          ],
          "carpet": [
           {
            "aaxis": {
             "endlinecolor": "#2a3f5f",
             "gridcolor": "white",
             "linecolor": "white",
             "minorgridcolor": "white",
             "startlinecolor": "#2a3f5f"
            },
            "baxis": {
             "endlinecolor": "#2a3f5f",
             "gridcolor": "white",
             "linecolor": "white",
             "minorgridcolor": "white",
             "startlinecolor": "#2a3f5f"
            },
            "type": "carpet"
           }
          ],
          "choropleth": [
           {
            "colorbar": {
             "outlinewidth": 0,
             "ticks": ""
            },
            "type": "choropleth"
           }
          ],
          "contour": [
           {
            "colorbar": {
             "outlinewidth": 0,
             "ticks": ""
            },
            "colorscale": [
             [
              0,
              "#0d0887"
             ],
             [
              0.1111111111111111,
              "#46039f"
             ],
             [
              0.2222222222222222,
              "#7201a8"
             ],
             [
              0.3333333333333333,
              "#9c179e"
             ],
             [
              0.4444444444444444,
              "#bd3786"
             ],
             [
              0.5555555555555556,
              "#d8576b"
             ],
             [
              0.6666666666666666,
              "#ed7953"
             ],
             [
              0.7777777777777778,
              "#fb9f3a"
             ],
             [
              0.8888888888888888,
              "#fdca26"
             ],
             [
              1,
              "#f0f921"
             ]
            ],
            "type": "contour"
           }
          ],
          "contourcarpet": [
           {
            "colorbar": {
             "outlinewidth": 0,
             "ticks": ""
            },
            "type": "contourcarpet"
           }
          ],
          "heatmap": [
           {
            "colorbar": {
             "outlinewidth": 0,
             "ticks": ""
            },
            "colorscale": [
             [
              0,
              "#0d0887"
             ],
             [
              0.1111111111111111,
              "#46039f"
             ],
             [
              0.2222222222222222,
              "#7201a8"
             ],
             [
              0.3333333333333333,
              "#9c179e"
             ],
             [
              0.4444444444444444,
              "#bd3786"
             ],
             [
              0.5555555555555556,
              "#d8576b"
             ],
             [
              0.6666666666666666,
              "#ed7953"
             ],
             [
              0.7777777777777778,
              "#fb9f3a"
             ],
             [
              0.8888888888888888,
              "#fdca26"
             ],
             [
              1,
              "#f0f921"
             ]
            ],
            "type": "heatmap"
           }
          ],
          "heatmapgl": [
           {
            "colorbar": {
             "outlinewidth": 0,
             "ticks": ""
            },
            "colorscale": [
             [
              0,
              "#0d0887"
             ],
             [
              0.1111111111111111,
              "#46039f"
             ],
             [
              0.2222222222222222,
              "#7201a8"
             ],
             [
              0.3333333333333333,
              "#9c179e"
             ],
             [
              0.4444444444444444,
              "#bd3786"
             ],
             [
              0.5555555555555556,
              "#d8576b"
             ],
             [
              0.6666666666666666,
              "#ed7953"
             ],
             [
              0.7777777777777778,
              "#fb9f3a"
             ],
             [
              0.8888888888888888,
              "#fdca26"
             ],
             [
              1,
              "#f0f921"
             ]
            ],
            "type": "heatmapgl"
           }
          ],
          "histogram": [
           {
            "marker": {
             "pattern": {
              "fillmode": "overlay",
              "size": 10,
              "solidity": 0.2
             }
            },
            "type": "histogram"
           }
          ],
          "histogram2d": [
           {
            "colorbar": {
             "outlinewidth": 0,
             "ticks": ""
            },
            "colorscale": [
             [
              0,
              "#0d0887"
             ],
             [
              0.1111111111111111,
              "#46039f"
             ],
             [
              0.2222222222222222,
              "#7201a8"
             ],
             [
              0.3333333333333333,
              "#9c179e"
             ],
             [
              0.4444444444444444,
              "#bd3786"
             ],
             [
              0.5555555555555556,
              "#d8576b"
             ],
             [
              0.6666666666666666,
              "#ed7953"
             ],
             [
              0.7777777777777778,
              "#fb9f3a"
             ],
             [
              0.8888888888888888,
              "#fdca26"
             ],
             [
              1,
              "#f0f921"
             ]
            ],
            "type": "histogram2d"
           }
          ],
          "histogram2dcontour": [
           {
            "colorbar": {
             "outlinewidth": 0,
             "ticks": ""
            },
            "colorscale": [
             [
              0,
              "#0d0887"
             ],
             [
              0.1111111111111111,
              "#46039f"
             ],
             [
              0.2222222222222222,
              "#7201a8"
             ],
             [
              0.3333333333333333,
              "#9c179e"
             ],
             [
              0.4444444444444444,
              "#bd3786"
             ],
             [
              0.5555555555555556,
              "#d8576b"
             ],
             [
              0.6666666666666666,
              "#ed7953"
             ],
             [
              0.7777777777777778,
              "#fb9f3a"
             ],
             [
              0.8888888888888888,
              "#fdca26"
             ],
             [
              1,
              "#f0f921"
             ]
            ],
            "type": "histogram2dcontour"
           }
          ],
          "mesh3d": [
           {
            "colorbar": {
             "outlinewidth": 0,
             "ticks": ""
            },
            "type": "mesh3d"
           }
          ],
          "parcoords": [
           {
            "line": {
             "colorbar": {
              "outlinewidth": 0,
              "ticks": ""
             }
            },
            "type": "parcoords"
           }
          ],
          "pie": [
           {
            "automargin": true,
            "type": "pie"
           }
          ],
          "scatter": [
           {
            "fillpattern": {
             "fillmode": "overlay",
             "size": 10,
             "solidity": 0.2
            },
            "type": "scatter"
           }
          ],
          "scatter3d": [
           {
            "line": {
             "colorbar": {
              "outlinewidth": 0,
              "ticks": ""
             }
            },
            "marker": {
             "colorbar": {
              "outlinewidth": 0,
              "ticks": ""
             }
            },
            "type": "scatter3d"
           }
          ],
          "scattercarpet": [
           {
            "marker": {
             "colorbar": {
              "outlinewidth": 0,
              "ticks": ""
             }
            },
            "type": "scattercarpet"
           }
          ],
          "scattergeo": [
           {
            "marker": {
             "colorbar": {
              "outlinewidth": 0,
              "ticks": ""
             }
            },
            "type": "scattergeo"
           }
          ],
          "scattergl": [
           {
            "marker": {
             "colorbar": {
              "outlinewidth": 0,
              "ticks": ""
             }
            },
            "type": "scattergl"
           }
          ],
          "scattermapbox": [
           {
            "marker": {
             "colorbar": {
              "outlinewidth": 0,
              "ticks": ""
             }
            },
            "type": "scattermapbox"
           }
          ],
          "scatterpolar": [
           {
            "marker": {
             "colorbar": {
              "outlinewidth": 0,
              "ticks": ""
             }
            },
            "type": "scatterpolar"
           }
          ],
          "scatterpolargl": [
           {
            "marker": {
             "colorbar": {
              "outlinewidth": 0,
              "ticks": ""
             }
            },
            "type": "scatterpolargl"
           }
          ],
          "scatterternary": [
           {
            "marker": {
             "colorbar": {
              "outlinewidth": 0,
              "ticks": ""
             }
            },
            "type": "scatterternary"
           }
          ],
          "surface": [
           {
            "colorbar": {
             "outlinewidth": 0,
             "ticks": ""
            },
            "colorscale": [
             [
              0,
              "#0d0887"
             ],
             [
              0.1111111111111111,
              "#46039f"
             ],
             [
              0.2222222222222222,
              "#7201a8"
             ],
             [
              0.3333333333333333,
              "#9c179e"
             ],
             [
              0.4444444444444444,
              "#bd3786"
             ],
             [
              0.5555555555555556,
              "#d8576b"
             ],
             [
              0.6666666666666666,
              "#ed7953"
             ],
             [
              0.7777777777777778,
              "#fb9f3a"
             ],
             [
              0.8888888888888888,
              "#fdca26"
             ],
             [
              1,
              "#f0f921"
             ]
            ],
            "type": "surface"
           }
          ],
          "table": [
           {
            "cells": {
             "fill": {
              "color": "#EBF0F8"
             },
             "line": {
              "color": "white"
             }
            },
            "header": {
             "fill": {
              "color": "#C8D4E3"
             },
             "line": {
              "color": "white"
             }
            },
            "type": "table"
           }
          ]
         },
         "layout": {
          "annotationdefaults": {
           "arrowcolor": "#2a3f5f",
           "arrowhead": 0,
           "arrowwidth": 1
          },
          "autotypenumbers": "strict",
          "coloraxis": {
           "colorbar": {
            "outlinewidth": 0,
            "ticks": ""
           }
          },
          "colorscale": {
           "diverging": [
            [
             0,
             "#8e0152"
            ],
            [
             0.1,
             "#c51b7d"
            ],
            [
             0.2,
             "#de77ae"
            ],
            [
             0.3,
             "#f1b6da"
            ],
            [
             0.4,
             "#fde0ef"
            ],
            [
             0.5,
             "#f7f7f7"
            ],
            [
             0.6,
             "#e6f5d0"
            ],
            [
             0.7,
             "#b8e186"
            ],
            [
             0.8,
             "#7fbc41"
            ],
            [
             0.9,
             "#4d9221"
            ],
            [
             1,
             "#276419"
            ]
           ],
           "sequential": [
            [
             0,
             "#0d0887"
            ],
            [
             0.1111111111111111,
             "#46039f"
            ],
            [
             0.2222222222222222,
             "#7201a8"
            ],
            [
             0.3333333333333333,
             "#9c179e"
            ],
            [
             0.4444444444444444,
             "#bd3786"
            ],
            [
             0.5555555555555556,
             "#d8576b"
            ],
            [
             0.6666666666666666,
             "#ed7953"
            ],
            [
             0.7777777777777778,
             "#fb9f3a"
            ],
            [
             0.8888888888888888,
             "#fdca26"
            ],
            [
             1,
             "#f0f921"
            ]
           ],
           "sequentialminus": [
            [
             0,
             "#0d0887"
            ],
            [
             0.1111111111111111,
             "#46039f"
            ],
            [
             0.2222222222222222,
             "#7201a8"
            ],
            [
             0.3333333333333333,
             "#9c179e"
            ],
            [
             0.4444444444444444,
             "#bd3786"
            ],
            [
             0.5555555555555556,
             "#d8576b"
            ],
            [
             0.6666666666666666,
             "#ed7953"
            ],
            [
             0.7777777777777778,
             "#fb9f3a"
            ],
            [
             0.8888888888888888,
             "#fdca26"
            ],
            [
             1,
             "#f0f921"
            ]
           ]
          },
          "colorway": [
           "#636efa",
           "#EF553B",
           "#00cc96",
           "#ab63fa",
           "#FFA15A",
           "#19d3f3",
           "#FF6692",
           "#B6E880",
           "#FF97FF",
           "#FECB52"
          ],
          "font": {
           "color": "#2a3f5f"
          },
          "geo": {
           "bgcolor": "white",
           "lakecolor": "white",
           "landcolor": "#E5ECF6",
           "showlakes": true,
           "showland": true,
           "subunitcolor": "white"
          },
          "hoverlabel": {
           "align": "left"
          },
          "hovermode": "closest",
          "mapbox": {
           "style": "light"
          },
          "paper_bgcolor": "white",
          "plot_bgcolor": "#E5ECF6",
          "polar": {
           "angularaxis": {
            "gridcolor": "white",
            "linecolor": "white",
            "ticks": ""
           },
           "bgcolor": "#E5ECF6",
           "radialaxis": {
            "gridcolor": "white",
            "linecolor": "white",
            "ticks": ""
           }
          },
          "scene": {
           "xaxis": {
            "backgroundcolor": "#E5ECF6",
            "gridcolor": "white",
            "gridwidth": 2,
            "linecolor": "white",
            "showbackground": true,
            "ticks": "",
            "zerolinecolor": "white"
           },
           "yaxis": {
            "backgroundcolor": "#E5ECF6",
            "gridcolor": "white",
            "gridwidth": 2,
            "linecolor": "white",
            "showbackground": true,
            "ticks": "",
            "zerolinecolor": "white"
           },
           "zaxis": {
            "backgroundcolor": "#E5ECF6",
            "gridcolor": "white",
            "gridwidth": 2,
            "linecolor": "white",
            "showbackground": true,
            "ticks": "",
            "zerolinecolor": "white"
           }
          },
          "shapedefaults": {
           "line": {
            "color": "#2a3f5f"
           }
          },
          "ternary": {
           "aaxis": {
            "gridcolor": "white",
            "linecolor": "white",
            "ticks": ""
           },
           "baxis": {
            "gridcolor": "white",
            "linecolor": "white",
            "ticks": ""
           },
           "bgcolor": "#E5ECF6",
           "caxis": {
            "gridcolor": "white",
            "linecolor": "white",
            "ticks": ""
           }
          },
          "title": {
           "x": 0.05
          },
          "xaxis": {
           "automargin": true,
           "gridcolor": "white",
           "linecolor": "white",
           "ticks": "",
           "title": {
            "standoff": 15
           },
           "zerolinecolor": "white",
           "zerolinewidth": 2
          },
          "yaxis": {
           "automargin": true,
           "gridcolor": "white",
           "linecolor": "white",
           "ticks": "",
           "title": {
            "standoff": 15
           },
           "zerolinecolor": "white",
           "zerolinewidth": 2
          }
         }
        },
        "xaxis": {
         "anchor": "y",
         "autorange": true,
         "domain": [
          0,
          1
         ],
         "range": [
          -2,
          3
         ],
         "title": {
          "text": "value"
         },
         "type": "linear"
        },
        "yaxis": {
         "anchor": "x",
         "autorange": true,
         "domain": [
          0,
          1
         ],
         "range": [
          0,
          10.526315789473685
         ],
         "title": {
          "text": "count"
         }
        }
       }
      },
      "text/html": [
       "<div>                            <div id=\"a711d4e8-e248-47b6-9bab-b17474deb2a9\" class=\"plotly-graph-div\" style=\"height:525px; width:100%;\"></div>            <script type=\"text/javascript\">                require([\"plotly\"], function(Plotly) {                    window.PLOTLYENV=window.PLOTLYENV || {};                                    if (document.getElementById(\"a711d4e8-e248-47b6-9bab-b17474deb2a9\")) {                    Plotly.newPlot(                        \"a711d4e8-e248-47b6-9bab-b17474deb2a9\",                        [{\"alignmentgroup\":\"True\",\"bingroup\":\"x\",\"hovertemplate\":\"variable=0\\u003cbr\\u003evalue=%{x}\\u003cbr\\u003ecount=%{y}\\u003cextra\\u003e\\u003c\\u002fextra\\u003e\",\"legendgroup\":\"0\",\"marker\":{\"color\":\"#636efa\",\"pattern\":{\"shape\":\"\"}},\"name\":\"0\",\"nbinsx\":10,\"offsetgroup\":\"0\",\"orientation\":\"v\",\"showlegend\":true,\"x\":[-1.0393836659460658,-0.8276312681332139,-1.1166843522858967,-0.07433156946219077,-0.9805612285448813,2.617910629984606,1.2703349566529711,-1.0109687445786055,-0.657392471744742,0.18803679605588938,0.24483438168712776,0.8394055635662449,0.046100326018537544,0.04372552322995729,-0.2038722678845541,-1.2479252424175662,0.5250171776910998,-0.8257469767982595,-1.6265033234264032,0.20325510110547584,0.4762674588001562,0.13293377970008532,0.9950909716550221,0.32496320421996766,0.43336340936212586,-0.9352208203746747,-0.1471404111808582,-0.3013682342939859,-0.5889442726411817,0.4533364527634003],\"xaxis\":\"x\",\"yaxis\":\"y\",\"type\":\"histogram\"}],                        {\"template\":{\"data\":{\"histogram2dcontour\":[{\"type\":\"histogram2dcontour\",\"colorbar\":{\"outlinewidth\":0,\"ticks\":\"\"},\"colorscale\":[[0.0,\"#0d0887\"],[0.1111111111111111,\"#46039f\"],[0.2222222222222222,\"#7201a8\"],[0.3333333333333333,\"#9c179e\"],[0.4444444444444444,\"#bd3786\"],[0.5555555555555556,\"#d8576b\"],[0.6666666666666666,\"#ed7953\"],[0.7777777777777778,\"#fb9f3a\"],[0.8888888888888888,\"#fdca26\"],[1.0,\"#f0f921\"]]}],\"choropleth\":[{\"type\":\"choropleth\",\"colorbar\":{\"outlinewidth\":0,\"ticks\":\"\"}}],\"histogram2d\":[{\"type\":\"histogram2d\",\"colorbar\":{\"outlinewidth\":0,\"ticks\":\"\"},\"colorscale\":[[0.0,\"#0d0887\"],[0.1111111111111111,\"#46039f\"],[0.2222222222222222,\"#7201a8\"],[0.3333333333333333,\"#9c179e\"],[0.4444444444444444,\"#bd3786\"],[0.5555555555555556,\"#d8576b\"],[0.6666666666666666,\"#ed7953\"],[0.7777777777777778,\"#fb9f3a\"],[0.8888888888888888,\"#fdca26\"],[1.0,\"#f0f921\"]]}],\"heatmap\":[{\"type\":\"heatmap\",\"colorbar\":{\"outlinewidth\":0,\"ticks\":\"\"},\"colorscale\":[[0.0,\"#0d0887\"],[0.1111111111111111,\"#46039f\"],[0.2222222222222222,\"#7201a8\"],[0.3333333333333333,\"#9c179e\"],[0.4444444444444444,\"#bd3786\"],[0.5555555555555556,\"#d8576b\"],[0.6666666666666666,\"#ed7953\"],[0.7777777777777778,\"#fb9f3a\"],[0.8888888888888888,\"#fdca26\"],[1.0,\"#f0f921\"]]}],\"heatmapgl\":[{\"type\":\"heatmapgl\",\"colorbar\":{\"outlinewidth\":0,\"ticks\":\"\"},\"colorscale\":[[0.0,\"#0d0887\"],[0.1111111111111111,\"#46039f\"],[0.2222222222222222,\"#7201a8\"],[0.3333333333333333,\"#9c179e\"],[0.4444444444444444,\"#bd3786\"],[0.5555555555555556,\"#d8576b\"],[0.6666666666666666,\"#ed7953\"],[0.7777777777777778,\"#fb9f3a\"],[0.8888888888888888,\"#fdca26\"],[1.0,\"#f0f921\"]]}],\"contourcarpet\":[{\"type\":\"contourcarpet\",\"colorbar\":{\"outlinewidth\":0,\"ticks\":\"\"}}],\"contour\":[{\"type\":\"contour\",\"colorbar\":{\"outlinewidth\":0,\"ticks\":\"\"},\"colorscale\":[[0.0,\"#0d0887\"],[0.1111111111111111,\"#46039f\"],[0.2222222222222222,\"#7201a8\"],[0.3333333333333333,\"#9c179e\"],[0.4444444444444444,\"#bd3786\"],[0.5555555555555556,\"#d8576b\"],[0.6666666666666666,\"#ed7953\"],[0.7777777777777778,\"#fb9f3a\"],[0.8888888888888888,\"#fdca26\"],[1.0,\"#f0f921\"]]}],\"surface\":[{\"type\":\"surface\",\"colorbar\":{\"outlinewidth\":0,\"ticks\":\"\"},\"colorscale\":[[0.0,\"#0d0887\"],[0.1111111111111111,\"#46039f\"],[0.2222222222222222,\"#7201a8\"],[0.3333333333333333,\"#9c179e\"],[0.4444444444444444,\"#bd3786\"],[0.5555555555555556,\"#d8576b\"],[0.6666666666666666,\"#ed7953\"],[0.7777777777777778,\"#fb9f3a\"],[0.8888888888888888,\"#fdca26\"],[1.0,\"#f0f921\"]]}],\"mesh3d\":[{\"type\":\"mesh3d\",\"colorbar\":{\"outlinewidth\":0,\"ticks\":\"\"}}],\"scatter\":[{\"fillpattern\":{\"fillmode\":\"overlay\",\"size\":10,\"solidity\":0.2},\"type\":\"scatter\"}],\"parcoords\":[{\"type\":\"parcoords\",\"line\":{\"colorbar\":{\"outlinewidth\":0,\"ticks\":\"\"}}}],\"scatterpolargl\":[{\"type\":\"scatterpolargl\",\"marker\":{\"colorbar\":{\"outlinewidth\":0,\"ticks\":\"\"}}}],\"bar\":[{\"error_x\":{\"color\":\"#2a3f5f\"},\"error_y\":{\"color\":\"#2a3f5f\"},\"marker\":{\"line\":{\"color\":\"#E5ECF6\",\"width\":0.5},\"pattern\":{\"fillmode\":\"overlay\",\"size\":10,\"solidity\":0.2}},\"type\":\"bar\"}],\"scattergeo\":[{\"type\":\"scattergeo\",\"marker\":{\"colorbar\":{\"outlinewidth\":0,\"ticks\":\"\"}}}],\"scatterpolar\":[{\"type\":\"scatterpolar\",\"marker\":{\"colorbar\":{\"outlinewidth\":0,\"ticks\":\"\"}}}],\"histogram\":[{\"marker\":{\"pattern\":{\"fillmode\":\"overlay\",\"size\":10,\"solidity\":0.2}},\"type\":\"histogram\"}],\"scattergl\":[{\"type\":\"scattergl\",\"marker\":{\"colorbar\":{\"outlinewidth\":0,\"ticks\":\"\"}}}],\"scatter3d\":[{\"type\":\"scatter3d\",\"line\":{\"colorbar\":{\"outlinewidth\":0,\"ticks\":\"\"}},\"marker\":{\"colorbar\":{\"outlinewidth\":0,\"ticks\":\"\"}}}],\"scattermapbox\":[{\"type\":\"scattermapbox\",\"marker\":{\"colorbar\":{\"outlinewidth\":0,\"ticks\":\"\"}}}],\"scatterternary\":[{\"type\":\"scatterternary\",\"marker\":{\"colorbar\":{\"outlinewidth\":0,\"ticks\":\"\"}}}],\"scattercarpet\":[{\"type\":\"scattercarpet\",\"marker\":{\"colorbar\":{\"outlinewidth\":0,\"ticks\":\"\"}}}],\"carpet\":[{\"aaxis\":{\"endlinecolor\":\"#2a3f5f\",\"gridcolor\":\"white\",\"linecolor\":\"white\",\"minorgridcolor\":\"white\",\"startlinecolor\":\"#2a3f5f\"},\"baxis\":{\"endlinecolor\":\"#2a3f5f\",\"gridcolor\":\"white\",\"linecolor\":\"white\",\"minorgridcolor\":\"white\",\"startlinecolor\":\"#2a3f5f\"},\"type\":\"carpet\"}],\"table\":[{\"cells\":{\"fill\":{\"color\":\"#EBF0F8\"},\"line\":{\"color\":\"white\"}},\"header\":{\"fill\":{\"color\":\"#C8D4E3\"},\"line\":{\"color\":\"white\"}},\"type\":\"table\"}],\"barpolar\":[{\"marker\":{\"line\":{\"color\":\"#E5ECF6\",\"width\":0.5},\"pattern\":{\"fillmode\":\"overlay\",\"size\":10,\"solidity\":0.2}},\"type\":\"barpolar\"}],\"pie\":[{\"automargin\":true,\"type\":\"pie\"}]},\"layout\":{\"autotypenumbers\":\"strict\",\"colorway\":[\"#636efa\",\"#EF553B\",\"#00cc96\",\"#ab63fa\",\"#FFA15A\",\"#19d3f3\",\"#FF6692\",\"#B6E880\",\"#FF97FF\",\"#FECB52\"],\"font\":{\"color\":\"#2a3f5f\"},\"hovermode\":\"closest\",\"hoverlabel\":{\"align\":\"left\"},\"paper_bgcolor\":\"white\",\"plot_bgcolor\":\"#E5ECF6\",\"polar\":{\"bgcolor\":\"#E5ECF6\",\"angularaxis\":{\"gridcolor\":\"white\",\"linecolor\":\"white\",\"ticks\":\"\"},\"radialaxis\":{\"gridcolor\":\"white\",\"linecolor\":\"white\",\"ticks\":\"\"}},\"ternary\":{\"bgcolor\":\"#E5ECF6\",\"aaxis\":{\"gridcolor\":\"white\",\"linecolor\":\"white\",\"ticks\":\"\"},\"baxis\":{\"gridcolor\":\"white\",\"linecolor\":\"white\",\"ticks\":\"\"},\"caxis\":{\"gridcolor\":\"white\",\"linecolor\":\"white\",\"ticks\":\"\"}},\"coloraxis\":{\"colorbar\":{\"outlinewidth\":0,\"ticks\":\"\"}},\"colorscale\":{\"sequential\":[[0.0,\"#0d0887\"],[0.1111111111111111,\"#46039f\"],[0.2222222222222222,\"#7201a8\"],[0.3333333333333333,\"#9c179e\"],[0.4444444444444444,\"#bd3786\"],[0.5555555555555556,\"#d8576b\"],[0.6666666666666666,\"#ed7953\"],[0.7777777777777778,\"#fb9f3a\"],[0.8888888888888888,\"#fdca26\"],[1.0,\"#f0f921\"]],\"sequentialminus\":[[0.0,\"#0d0887\"],[0.1111111111111111,\"#46039f\"],[0.2222222222222222,\"#7201a8\"],[0.3333333333333333,\"#9c179e\"],[0.4444444444444444,\"#bd3786\"],[0.5555555555555556,\"#d8576b\"],[0.6666666666666666,\"#ed7953\"],[0.7777777777777778,\"#fb9f3a\"],[0.8888888888888888,\"#fdca26\"],[1.0,\"#f0f921\"]],\"diverging\":[[0,\"#8e0152\"],[0.1,\"#c51b7d\"],[0.2,\"#de77ae\"],[0.3,\"#f1b6da\"],[0.4,\"#fde0ef\"],[0.5,\"#f7f7f7\"],[0.6,\"#e6f5d0\"],[0.7,\"#b8e186\"],[0.8,\"#7fbc41\"],[0.9,\"#4d9221\"],[1,\"#276419\"]]},\"xaxis\":{\"gridcolor\":\"white\",\"linecolor\":\"white\",\"ticks\":\"\",\"title\":{\"standoff\":15},\"zerolinecolor\":\"white\",\"automargin\":true,\"zerolinewidth\":2},\"yaxis\":{\"gridcolor\":\"white\",\"linecolor\":\"white\",\"ticks\":\"\",\"title\":{\"standoff\":15},\"zerolinecolor\":\"white\",\"automargin\":true,\"zerolinewidth\":2},\"scene\":{\"xaxis\":{\"backgroundcolor\":\"#E5ECF6\",\"gridcolor\":\"white\",\"linecolor\":\"white\",\"showbackground\":true,\"ticks\":\"\",\"zerolinecolor\":\"white\",\"gridwidth\":2},\"yaxis\":{\"backgroundcolor\":\"#E5ECF6\",\"gridcolor\":\"white\",\"linecolor\":\"white\",\"showbackground\":true,\"ticks\":\"\",\"zerolinecolor\":\"white\",\"gridwidth\":2},\"zaxis\":{\"backgroundcolor\":\"#E5ECF6\",\"gridcolor\":\"white\",\"linecolor\":\"white\",\"showbackground\":true,\"ticks\":\"\",\"zerolinecolor\":\"white\",\"gridwidth\":2}},\"shapedefaults\":{\"line\":{\"color\":\"#2a3f5f\"}},\"annotationdefaults\":{\"arrowcolor\":\"#2a3f5f\",\"arrowhead\":0,\"arrowwidth\":1},\"geo\":{\"bgcolor\":\"white\",\"landcolor\":\"#E5ECF6\",\"subunitcolor\":\"white\",\"showland\":true,\"showlakes\":true,\"lakecolor\":\"white\"},\"title\":{\"x\":0.05},\"mapbox\":{\"style\":\"light\"}}},\"xaxis\":{\"anchor\":\"y\",\"domain\":[0.0,1.0],\"title\":{\"text\":\"value\"}},\"yaxis\":{\"anchor\":\"x\",\"domain\":[0.0,1.0],\"title\":{\"text\":\"count\"}},\"legend\":{\"title\":{\"text\":\"variable\"},\"tracegroupgap\":0},\"margin\":{\"t\":60},\"barmode\":\"relative\"},                        {\"responsive\": true}                    ).then(function(){\n",
       "                            \n",
       "var gd = document.getElementById('a711d4e8-e248-47b6-9bab-b17474deb2a9');\n",
       "var x = new MutationObserver(function (mutations, observer) {{\n",
       "        var display = window.getComputedStyle(gd).display;\n",
       "        if (!display || display === 'none') {{\n",
       "            console.log([gd, 'removed!']);\n",
       "            Plotly.purge(gd);\n",
       "            observer.disconnect();\n",
       "        }}\n",
       "}});\n",
       "\n",
       "// Listen for the removal of the full notebook cells\n",
       "var notebookContainer = gd.closest('#notebook-container');\n",
       "if (notebookContainer) {{\n",
       "    x.observe(notebookContainer, {childList: true});\n",
       "}}\n",
       "\n",
       "// Listen for the clearing of the current output cell\n",
       "var outputEl = gd.closest('.output');\n",
       "if (outputEl) {{\n",
       "    x.observe(outputEl, {childList: true});\n",
       "}}\n",
       "\n",
       "                        })                };                });            </script>        </div>"
      ]
     },
     "metadata": {},
     "output_type": "display_data"
    }
   ],
   "source": [
    "fig = px.histogram(group1,nbins=10)\n",
    "fig.show()"
   ]
  },
  {
   "cell_type": "code",
   "execution_count": 37,
   "metadata": {},
   "outputs": [
    {
     "data": {
      "application/vnd.plotly.v1+json": {
       "config": {
        "plotlyServerURL": "https://plot.ly"
       },
       "data": [
        {
         "alignmentgroup": "True",
         "bingroup": "x",
         "hovertemplate": "variable=0<br>value=%{x}<br>count=%{y}<extra></extra>",
         "legendgroup": "0",
         "marker": {
          "color": "#636efa",
          "pattern": {
           "shape": ""
          }
         },
         "name": "0",
         "nbinsx": 10,
         "offsetgroup": "0",
         "orientation": "v",
         "showlegend": true,
         "type": "histogram",
         "x": [
          -0.7516020410048503,
          0.5038535099877158,
          0.9470280504450418,
          -1.427200754981251,
          0.6781865499216521,
          -0.6438479659602453,
          -0.4996119274409522,
          -0.8801224758352459,
          -0.22178822293148465,
          0.1407908811994073,
          0.5321874531608417,
          -0.3971564761610936,
          -0.28282503193907427,
          -0.8240365389402915,
          -0.74762405601692,
          -0.1790338973042206,
          1.0850890618338989,
          -0.7340486557767827,
          -0.2051980651428019,
          1.1025633420574288,
          -0.12100596630849314,
          -0.22176026878533808,
          -0.4631625878046528,
          2.0884643144183204,
          -1.8888358504695153,
          0.18611885550999413,
          -0.3385222728394886,
          -0.30867694684484026,
          -2.0147352080267864,
          -0.831202199975615
         ],
         "xaxis": "x",
         "yaxis": "y"
        }
       ],
       "layout": {
        "autosize": true,
        "barmode": "relative",
        "legend": {
         "title": {
          "text": "variable"
         },
         "tracegroupgap": 0
        },
        "margin": {
         "t": 60
        },
        "template": {
         "data": {
          "bar": [
           {
            "error_x": {
             "color": "#2a3f5f"
            },
            "error_y": {
             "color": "#2a3f5f"
            },
            "marker": {
             "line": {
              "color": "#E5ECF6",
              "width": 0.5
             },
             "pattern": {
              "fillmode": "overlay",
              "size": 10,
              "solidity": 0.2
             }
            },
            "type": "bar"
           }
          ],
          "barpolar": [
           {
            "marker": {
             "line": {
              "color": "#E5ECF6",
              "width": 0.5
             },
             "pattern": {
              "fillmode": "overlay",
              "size": 10,
              "solidity": 0.2
             }
            },
            "type": "barpolar"
           }
          ],
          "carpet": [
           {
            "aaxis": {
             "endlinecolor": "#2a3f5f",
             "gridcolor": "white",
             "linecolor": "white",
             "minorgridcolor": "white",
             "startlinecolor": "#2a3f5f"
            },
            "baxis": {
             "endlinecolor": "#2a3f5f",
             "gridcolor": "white",
             "linecolor": "white",
             "minorgridcolor": "white",
             "startlinecolor": "#2a3f5f"
            },
            "type": "carpet"
           }
          ],
          "choropleth": [
           {
            "colorbar": {
             "outlinewidth": 0,
             "ticks": ""
            },
            "type": "choropleth"
           }
          ],
          "contour": [
           {
            "colorbar": {
             "outlinewidth": 0,
             "ticks": ""
            },
            "colorscale": [
             [
              0,
              "#0d0887"
             ],
             [
              0.1111111111111111,
              "#46039f"
             ],
             [
              0.2222222222222222,
              "#7201a8"
             ],
             [
              0.3333333333333333,
              "#9c179e"
             ],
             [
              0.4444444444444444,
              "#bd3786"
             ],
             [
              0.5555555555555556,
              "#d8576b"
             ],
             [
              0.6666666666666666,
              "#ed7953"
             ],
             [
              0.7777777777777778,
              "#fb9f3a"
             ],
             [
              0.8888888888888888,
              "#fdca26"
             ],
             [
              1,
              "#f0f921"
             ]
            ],
            "type": "contour"
           }
          ],
          "contourcarpet": [
           {
            "colorbar": {
             "outlinewidth": 0,
             "ticks": ""
            },
            "type": "contourcarpet"
           }
          ],
          "heatmap": [
           {
            "colorbar": {
             "outlinewidth": 0,
             "ticks": ""
            },
            "colorscale": [
             [
              0,
              "#0d0887"
             ],
             [
              0.1111111111111111,
              "#46039f"
             ],
             [
              0.2222222222222222,
              "#7201a8"
             ],
             [
              0.3333333333333333,
              "#9c179e"
             ],
             [
              0.4444444444444444,
              "#bd3786"
             ],
             [
              0.5555555555555556,
              "#d8576b"
             ],
             [
              0.6666666666666666,
              "#ed7953"
             ],
             [
              0.7777777777777778,
              "#fb9f3a"
             ],
             [
              0.8888888888888888,
              "#fdca26"
             ],
             [
              1,
              "#f0f921"
             ]
            ],
            "type": "heatmap"
           }
          ],
          "heatmapgl": [
           {
            "colorbar": {
             "outlinewidth": 0,
             "ticks": ""
            },
            "colorscale": [
             [
              0,
              "#0d0887"
             ],
             [
              0.1111111111111111,
              "#46039f"
             ],
             [
              0.2222222222222222,
              "#7201a8"
             ],
             [
              0.3333333333333333,
              "#9c179e"
             ],
             [
              0.4444444444444444,
              "#bd3786"
             ],
             [
              0.5555555555555556,
              "#d8576b"
             ],
             [
              0.6666666666666666,
              "#ed7953"
             ],
             [
              0.7777777777777778,
              "#fb9f3a"
             ],
             [
              0.8888888888888888,
              "#fdca26"
             ],
             [
              1,
              "#f0f921"
             ]
            ],
            "type": "heatmapgl"
           }
          ],
          "histogram": [
           {
            "marker": {
             "pattern": {
              "fillmode": "overlay",
              "size": 10,
              "solidity": 0.2
             }
            },
            "type": "histogram"
           }
          ],
          "histogram2d": [
           {
            "colorbar": {
             "outlinewidth": 0,
             "ticks": ""
            },
            "colorscale": [
             [
              0,
              "#0d0887"
             ],
             [
              0.1111111111111111,
              "#46039f"
             ],
             [
              0.2222222222222222,
              "#7201a8"
             ],
             [
              0.3333333333333333,
              "#9c179e"
             ],
             [
              0.4444444444444444,
              "#bd3786"
             ],
             [
              0.5555555555555556,
              "#d8576b"
             ],
             [
              0.6666666666666666,
              "#ed7953"
             ],
             [
              0.7777777777777778,
              "#fb9f3a"
             ],
             [
              0.8888888888888888,
              "#fdca26"
             ],
             [
              1,
              "#f0f921"
             ]
            ],
            "type": "histogram2d"
           }
          ],
          "histogram2dcontour": [
           {
            "colorbar": {
             "outlinewidth": 0,
             "ticks": ""
            },
            "colorscale": [
             [
              0,
              "#0d0887"
             ],
             [
              0.1111111111111111,
              "#46039f"
             ],
             [
              0.2222222222222222,
              "#7201a8"
             ],
             [
              0.3333333333333333,
              "#9c179e"
             ],
             [
              0.4444444444444444,
              "#bd3786"
             ],
             [
              0.5555555555555556,
              "#d8576b"
             ],
             [
              0.6666666666666666,
              "#ed7953"
             ],
             [
              0.7777777777777778,
              "#fb9f3a"
             ],
             [
              0.8888888888888888,
              "#fdca26"
             ],
             [
              1,
              "#f0f921"
             ]
            ],
            "type": "histogram2dcontour"
           }
          ],
          "mesh3d": [
           {
            "colorbar": {
             "outlinewidth": 0,
             "ticks": ""
            },
            "type": "mesh3d"
           }
          ],
          "parcoords": [
           {
            "line": {
             "colorbar": {
              "outlinewidth": 0,
              "ticks": ""
             }
            },
            "type": "parcoords"
           }
          ],
          "pie": [
           {
            "automargin": true,
            "type": "pie"
           }
          ],
          "scatter": [
           {
            "fillpattern": {
             "fillmode": "overlay",
             "size": 10,
             "solidity": 0.2
            },
            "type": "scatter"
           }
          ],
          "scatter3d": [
           {
            "line": {
             "colorbar": {
              "outlinewidth": 0,
              "ticks": ""
             }
            },
            "marker": {
             "colorbar": {
              "outlinewidth": 0,
              "ticks": ""
             }
            },
            "type": "scatter3d"
           }
          ],
          "scattercarpet": [
           {
            "marker": {
             "colorbar": {
              "outlinewidth": 0,
              "ticks": ""
             }
            },
            "type": "scattercarpet"
           }
          ],
          "scattergeo": [
           {
            "marker": {
             "colorbar": {
              "outlinewidth": 0,
              "ticks": ""
             }
            },
            "type": "scattergeo"
           }
          ],
          "scattergl": [
           {
            "marker": {
             "colorbar": {
              "outlinewidth": 0,
              "ticks": ""
             }
            },
            "type": "scattergl"
           }
          ],
          "scattermapbox": [
           {
            "marker": {
             "colorbar": {
              "outlinewidth": 0,
              "ticks": ""
             }
            },
            "type": "scattermapbox"
           }
          ],
          "scatterpolar": [
           {
            "marker": {
             "colorbar": {
              "outlinewidth": 0,
              "ticks": ""
             }
            },
            "type": "scatterpolar"
           }
          ],
          "scatterpolargl": [
           {
            "marker": {
             "colorbar": {
              "outlinewidth": 0,
              "ticks": ""
             }
            },
            "type": "scatterpolargl"
           }
          ],
          "scatterternary": [
           {
            "marker": {
             "colorbar": {
              "outlinewidth": 0,
              "ticks": ""
             }
            },
            "type": "scatterternary"
           }
          ],
          "surface": [
           {
            "colorbar": {
             "outlinewidth": 0,
             "ticks": ""
            },
            "colorscale": [
             [
              0,
              "#0d0887"
             ],
             [
              0.1111111111111111,
              "#46039f"
             ],
             [
              0.2222222222222222,
              "#7201a8"
             ],
             [
              0.3333333333333333,
              "#9c179e"
             ],
             [
              0.4444444444444444,
              "#bd3786"
             ],
             [
              0.5555555555555556,
              "#d8576b"
             ],
             [
              0.6666666666666666,
              "#ed7953"
             ],
             [
              0.7777777777777778,
              "#fb9f3a"
             ],
             [
              0.8888888888888888,
              "#fdca26"
             ],
             [
              1,
              "#f0f921"
             ]
            ],
            "type": "surface"
           }
          ],
          "table": [
           {
            "cells": {
             "fill": {
              "color": "#EBF0F8"
             },
             "line": {
              "color": "white"
             }
            },
            "header": {
             "fill": {
              "color": "#C8D4E3"
             },
             "line": {
              "color": "white"
             }
            },
            "type": "table"
           }
          ]
         },
         "layout": {
          "annotationdefaults": {
           "arrowcolor": "#2a3f5f",
           "arrowhead": 0,
           "arrowwidth": 1
          },
          "autotypenumbers": "strict",
          "coloraxis": {
           "colorbar": {
            "outlinewidth": 0,
            "ticks": ""
           }
          },
          "colorscale": {
           "diverging": [
            [
             0,
             "#8e0152"
            ],
            [
             0.1,
             "#c51b7d"
            ],
            [
             0.2,
             "#de77ae"
            ],
            [
             0.3,
             "#f1b6da"
            ],
            [
             0.4,
             "#fde0ef"
            ],
            [
             0.5,
             "#f7f7f7"
            ],
            [
             0.6,
             "#e6f5d0"
            ],
            [
             0.7,
             "#b8e186"
            ],
            [
             0.8,
             "#7fbc41"
            ],
            [
             0.9,
             "#4d9221"
            ],
            [
             1,
             "#276419"
            ]
           ],
           "sequential": [
            [
             0,
             "#0d0887"
            ],
            [
             0.1111111111111111,
             "#46039f"
            ],
            [
             0.2222222222222222,
             "#7201a8"
            ],
            [
             0.3333333333333333,
             "#9c179e"
            ],
            [
             0.4444444444444444,
             "#bd3786"
            ],
            [
             0.5555555555555556,
             "#d8576b"
            ],
            [
             0.6666666666666666,
             "#ed7953"
            ],
            [
             0.7777777777777778,
             "#fb9f3a"
            ],
            [
             0.8888888888888888,
             "#fdca26"
            ],
            [
             1,
             "#f0f921"
            ]
           ],
           "sequentialminus": [
            [
             0,
             "#0d0887"
            ],
            [
             0.1111111111111111,
             "#46039f"
            ],
            [
             0.2222222222222222,
             "#7201a8"
            ],
            [
             0.3333333333333333,
             "#9c179e"
            ],
            [
             0.4444444444444444,
             "#bd3786"
            ],
            [
             0.5555555555555556,
             "#d8576b"
            ],
            [
             0.6666666666666666,
             "#ed7953"
            ],
            [
             0.7777777777777778,
             "#fb9f3a"
            ],
            [
             0.8888888888888888,
             "#fdca26"
            ],
            [
             1,
             "#f0f921"
            ]
           ]
          },
          "colorway": [
           "#636efa",
           "#EF553B",
           "#00cc96",
           "#ab63fa",
           "#FFA15A",
           "#19d3f3",
           "#FF6692",
           "#B6E880",
           "#FF97FF",
           "#FECB52"
          ],
          "font": {
           "color": "#2a3f5f"
          },
          "geo": {
           "bgcolor": "white",
           "lakecolor": "white",
           "landcolor": "#E5ECF6",
           "showlakes": true,
           "showland": true,
           "subunitcolor": "white"
          },
          "hoverlabel": {
           "align": "left"
          },
          "hovermode": "closest",
          "mapbox": {
           "style": "light"
          },
          "paper_bgcolor": "white",
          "plot_bgcolor": "#E5ECF6",
          "polar": {
           "angularaxis": {
            "gridcolor": "white",
            "linecolor": "white",
            "ticks": ""
           },
           "bgcolor": "#E5ECF6",
           "radialaxis": {
            "gridcolor": "white",
            "linecolor": "white",
            "ticks": ""
           }
          },
          "scene": {
           "xaxis": {
            "backgroundcolor": "#E5ECF6",
            "gridcolor": "white",
            "gridwidth": 2,
            "linecolor": "white",
            "showbackground": true,
            "ticks": "",
            "zerolinecolor": "white"
           },
           "yaxis": {
            "backgroundcolor": "#E5ECF6",
            "gridcolor": "white",
            "gridwidth": 2,
            "linecolor": "white",
            "showbackground": true,
            "ticks": "",
            "zerolinecolor": "white"
           },
           "zaxis": {
            "backgroundcolor": "#E5ECF6",
            "gridcolor": "white",
            "gridwidth": 2,
            "linecolor": "white",
            "showbackground": true,
            "ticks": "",
            "zerolinecolor": "white"
           }
          },
          "shapedefaults": {
           "line": {
            "color": "#2a3f5f"
           }
          },
          "ternary": {
           "aaxis": {
            "gridcolor": "white",
            "linecolor": "white",
            "ticks": ""
           },
           "baxis": {
            "gridcolor": "white",
            "linecolor": "white",
            "ticks": ""
           },
           "bgcolor": "#E5ECF6",
           "caxis": {
            "gridcolor": "white",
            "linecolor": "white",
            "ticks": ""
           }
          },
          "title": {
           "x": 0.05
          },
          "xaxis": {
           "automargin": true,
           "gridcolor": "white",
           "linecolor": "white",
           "ticks": "",
           "title": {
            "standoff": 15
           },
           "zerolinecolor": "white",
           "zerolinewidth": 2
          },
          "yaxis": {
           "automargin": true,
           "gridcolor": "white",
           "linecolor": "white",
           "ticks": "",
           "title": {
            "standoff": 15
           },
           "zerolinecolor": "white",
           "zerolinewidth": 2
          }
         }
        },
        "xaxis": {
         "anchor": "y",
         "autorange": true,
         "domain": [
          0,
          1
         ],
         "range": [
          -2.5,
          2.5
         ],
         "title": {
          "text": "value"
         },
         "type": "linear"
        },
        "yaxis": {
         "anchor": "x",
         "autorange": true,
         "domain": [
          0,
          1
         ],
         "range": [
          0,
          11.578947368421053
         ],
         "title": {
          "text": "count"
         }
        }
       }
      },
      "text/html": [
       "<div>                            <div id=\"55dd49ea-739b-4fb1-b892-1c1c77a3ae8f\" class=\"plotly-graph-div\" style=\"height:525px; width:100%;\"></div>            <script type=\"text/javascript\">                require([\"plotly\"], function(Plotly) {                    window.PLOTLYENV=window.PLOTLYENV || {};                                    if (document.getElementById(\"55dd49ea-739b-4fb1-b892-1c1c77a3ae8f\")) {                    Plotly.newPlot(                        \"55dd49ea-739b-4fb1-b892-1c1c77a3ae8f\",                        [{\"alignmentgroup\":\"True\",\"bingroup\":\"x\",\"hovertemplate\":\"variable=0\\u003cbr\\u003evalue=%{x}\\u003cbr\\u003ecount=%{y}\\u003cextra\\u003e\\u003c\\u002fextra\\u003e\",\"legendgroup\":\"0\",\"marker\":{\"color\":\"#636efa\",\"pattern\":{\"shape\":\"\"}},\"name\":\"0\",\"nbinsx\":10,\"offsetgroup\":\"0\",\"orientation\":\"v\",\"showlegend\":true,\"x\":[-0.7516020410048503,0.5038535099877158,0.9470280504450418,-1.427200754981251,0.6781865499216521,-0.6438479659602453,-0.4996119274409522,-0.8801224758352459,-0.22178822293148465,0.1407908811994073,0.5321874531608417,-0.3971564761610936,-0.28282503193907427,-0.8240365389402915,-0.74762405601692,-0.1790338973042206,1.0850890618338989,-0.7340486557767827,-0.2051980651428019,1.1025633420574288,-0.12100596630849314,-0.22176026878533808,-0.4631625878046528,2.0884643144183204,-1.8888358504695153,0.18611885550999413,-0.3385222728394886,-0.30867694684484026,-2.0147352080267864,-0.831202199975615],\"xaxis\":\"x\",\"yaxis\":\"y\",\"type\":\"histogram\"}],                        {\"template\":{\"data\":{\"histogram2dcontour\":[{\"type\":\"histogram2dcontour\",\"colorbar\":{\"outlinewidth\":0,\"ticks\":\"\"},\"colorscale\":[[0.0,\"#0d0887\"],[0.1111111111111111,\"#46039f\"],[0.2222222222222222,\"#7201a8\"],[0.3333333333333333,\"#9c179e\"],[0.4444444444444444,\"#bd3786\"],[0.5555555555555556,\"#d8576b\"],[0.6666666666666666,\"#ed7953\"],[0.7777777777777778,\"#fb9f3a\"],[0.8888888888888888,\"#fdca26\"],[1.0,\"#f0f921\"]]}],\"choropleth\":[{\"type\":\"choropleth\",\"colorbar\":{\"outlinewidth\":0,\"ticks\":\"\"}}],\"histogram2d\":[{\"type\":\"histogram2d\",\"colorbar\":{\"outlinewidth\":0,\"ticks\":\"\"},\"colorscale\":[[0.0,\"#0d0887\"],[0.1111111111111111,\"#46039f\"],[0.2222222222222222,\"#7201a8\"],[0.3333333333333333,\"#9c179e\"],[0.4444444444444444,\"#bd3786\"],[0.5555555555555556,\"#d8576b\"],[0.6666666666666666,\"#ed7953\"],[0.7777777777777778,\"#fb9f3a\"],[0.8888888888888888,\"#fdca26\"],[1.0,\"#f0f921\"]]}],\"heatmap\":[{\"type\":\"heatmap\",\"colorbar\":{\"outlinewidth\":0,\"ticks\":\"\"},\"colorscale\":[[0.0,\"#0d0887\"],[0.1111111111111111,\"#46039f\"],[0.2222222222222222,\"#7201a8\"],[0.3333333333333333,\"#9c179e\"],[0.4444444444444444,\"#bd3786\"],[0.5555555555555556,\"#d8576b\"],[0.6666666666666666,\"#ed7953\"],[0.7777777777777778,\"#fb9f3a\"],[0.8888888888888888,\"#fdca26\"],[1.0,\"#f0f921\"]]}],\"heatmapgl\":[{\"type\":\"heatmapgl\",\"colorbar\":{\"outlinewidth\":0,\"ticks\":\"\"},\"colorscale\":[[0.0,\"#0d0887\"],[0.1111111111111111,\"#46039f\"],[0.2222222222222222,\"#7201a8\"],[0.3333333333333333,\"#9c179e\"],[0.4444444444444444,\"#bd3786\"],[0.5555555555555556,\"#d8576b\"],[0.6666666666666666,\"#ed7953\"],[0.7777777777777778,\"#fb9f3a\"],[0.8888888888888888,\"#fdca26\"],[1.0,\"#f0f921\"]]}],\"contourcarpet\":[{\"type\":\"contourcarpet\",\"colorbar\":{\"outlinewidth\":0,\"ticks\":\"\"}}],\"contour\":[{\"type\":\"contour\",\"colorbar\":{\"outlinewidth\":0,\"ticks\":\"\"},\"colorscale\":[[0.0,\"#0d0887\"],[0.1111111111111111,\"#46039f\"],[0.2222222222222222,\"#7201a8\"],[0.3333333333333333,\"#9c179e\"],[0.4444444444444444,\"#bd3786\"],[0.5555555555555556,\"#d8576b\"],[0.6666666666666666,\"#ed7953\"],[0.7777777777777778,\"#fb9f3a\"],[0.8888888888888888,\"#fdca26\"],[1.0,\"#f0f921\"]]}],\"surface\":[{\"type\":\"surface\",\"colorbar\":{\"outlinewidth\":0,\"ticks\":\"\"},\"colorscale\":[[0.0,\"#0d0887\"],[0.1111111111111111,\"#46039f\"],[0.2222222222222222,\"#7201a8\"],[0.3333333333333333,\"#9c179e\"],[0.4444444444444444,\"#bd3786\"],[0.5555555555555556,\"#d8576b\"],[0.6666666666666666,\"#ed7953\"],[0.7777777777777778,\"#fb9f3a\"],[0.8888888888888888,\"#fdca26\"],[1.0,\"#f0f921\"]]}],\"mesh3d\":[{\"type\":\"mesh3d\",\"colorbar\":{\"outlinewidth\":0,\"ticks\":\"\"}}],\"scatter\":[{\"fillpattern\":{\"fillmode\":\"overlay\",\"size\":10,\"solidity\":0.2},\"type\":\"scatter\"}],\"parcoords\":[{\"type\":\"parcoords\",\"line\":{\"colorbar\":{\"outlinewidth\":0,\"ticks\":\"\"}}}],\"scatterpolargl\":[{\"type\":\"scatterpolargl\",\"marker\":{\"colorbar\":{\"outlinewidth\":0,\"ticks\":\"\"}}}],\"bar\":[{\"error_x\":{\"color\":\"#2a3f5f\"},\"error_y\":{\"color\":\"#2a3f5f\"},\"marker\":{\"line\":{\"color\":\"#E5ECF6\",\"width\":0.5},\"pattern\":{\"fillmode\":\"overlay\",\"size\":10,\"solidity\":0.2}},\"type\":\"bar\"}],\"scattergeo\":[{\"type\":\"scattergeo\",\"marker\":{\"colorbar\":{\"outlinewidth\":0,\"ticks\":\"\"}}}],\"scatterpolar\":[{\"type\":\"scatterpolar\",\"marker\":{\"colorbar\":{\"outlinewidth\":0,\"ticks\":\"\"}}}],\"histogram\":[{\"marker\":{\"pattern\":{\"fillmode\":\"overlay\",\"size\":10,\"solidity\":0.2}},\"type\":\"histogram\"}],\"scattergl\":[{\"type\":\"scattergl\",\"marker\":{\"colorbar\":{\"outlinewidth\":0,\"ticks\":\"\"}}}],\"scatter3d\":[{\"type\":\"scatter3d\",\"line\":{\"colorbar\":{\"outlinewidth\":0,\"ticks\":\"\"}},\"marker\":{\"colorbar\":{\"outlinewidth\":0,\"ticks\":\"\"}}}],\"scattermapbox\":[{\"type\":\"scattermapbox\",\"marker\":{\"colorbar\":{\"outlinewidth\":0,\"ticks\":\"\"}}}],\"scatterternary\":[{\"type\":\"scatterternary\",\"marker\":{\"colorbar\":{\"outlinewidth\":0,\"ticks\":\"\"}}}],\"scattercarpet\":[{\"type\":\"scattercarpet\",\"marker\":{\"colorbar\":{\"outlinewidth\":0,\"ticks\":\"\"}}}],\"carpet\":[{\"aaxis\":{\"endlinecolor\":\"#2a3f5f\",\"gridcolor\":\"white\",\"linecolor\":\"white\",\"minorgridcolor\":\"white\",\"startlinecolor\":\"#2a3f5f\"},\"baxis\":{\"endlinecolor\":\"#2a3f5f\",\"gridcolor\":\"white\",\"linecolor\":\"white\",\"minorgridcolor\":\"white\",\"startlinecolor\":\"#2a3f5f\"},\"type\":\"carpet\"}],\"table\":[{\"cells\":{\"fill\":{\"color\":\"#EBF0F8\"},\"line\":{\"color\":\"white\"}},\"header\":{\"fill\":{\"color\":\"#C8D4E3\"},\"line\":{\"color\":\"white\"}},\"type\":\"table\"}],\"barpolar\":[{\"marker\":{\"line\":{\"color\":\"#E5ECF6\",\"width\":0.5},\"pattern\":{\"fillmode\":\"overlay\",\"size\":10,\"solidity\":0.2}},\"type\":\"barpolar\"}],\"pie\":[{\"automargin\":true,\"type\":\"pie\"}]},\"layout\":{\"autotypenumbers\":\"strict\",\"colorway\":[\"#636efa\",\"#EF553B\",\"#00cc96\",\"#ab63fa\",\"#FFA15A\",\"#19d3f3\",\"#FF6692\",\"#B6E880\",\"#FF97FF\",\"#FECB52\"],\"font\":{\"color\":\"#2a3f5f\"},\"hovermode\":\"closest\",\"hoverlabel\":{\"align\":\"left\"},\"paper_bgcolor\":\"white\",\"plot_bgcolor\":\"#E5ECF6\",\"polar\":{\"bgcolor\":\"#E5ECF6\",\"angularaxis\":{\"gridcolor\":\"white\",\"linecolor\":\"white\",\"ticks\":\"\"},\"radialaxis\":{\"gridcolor\":\"white\",\"linecolor\":\"white\",\"ticks\":\"\"}},\"ternary\":{\"bgcolor\":\"#E5ECF6\",\"aaxis\":{\"gridcolor\":\"white\",\"linecolor\":\"white\",\"ticks\":\"\"},\"baxis\":{\"gridcolor\":\"white\",\"linecolor\":\"white\",\"ticks\":\"\"},\"caxis\":{\"gridcolor\":\"white\",\"linecolor\":\"white\",\"ticks\":\"\"}},\"coloraxis\":{\"colorbar\":{\"outlinewidth\":0,\"ticks\":\"\"}},\"colorscale\":{\"sequential\":[[0.0,\"#0d0887\"],[0.1111111111111111,\"#46039f\"],[0.2222222222222222,\"#7201a8\"],[0.3333333333333333,\"#9c179e\"],[0.4444444444444444,\"#bd3786\"],[0.5555555555555556,\"#d8576b\"],[0.6666666666666666,\"#ed7953\"],[0.7777777777777778,\"#fb9f3a\"],[0.8888888888888888,\"#fdca26\"],[1.0,\"#f0f921\"]],\"sequentialminus\":[[0.0,\"#0d0887\"],[0.1111111111111111,\"#46039f\"],[0.2222222222222222,\"#7201a8\"],[0.3333333333333333,\"#9c179e\"],[0.4444444444444444,\"#bd3786\"],[0.5555555555555556,\"#d8576b\"],[0.6666666666666666,\"#ed7953\"],[0.7777777777777778,\"#fb9f3a\"],[0.8888888888888888,\"#fdca26\"],[1.0,\"#f0f921\"]],\"diverging\":[[0,\"#8e0152\"],[0.1,\"#c51b7d\"],[0.2,\"#de77ae\"],[0.3,\"#f1b6da\"],[0.4,\"#fde0ef\"],[0.5,\"#f7f7f7\"],[0.6,\"#e6f5d0\"],[0.7,\"#b8e186\"],[0.8,\"#7fbc41\"],[0.9,\"#4d9221\"],[1,\"#276419\"]]},\"xaxis\":{\"gridcolor\":\"white\",\"linecolor\":\"white\",\"ticks\":\"\",\"title\":{\"standoff\":15},\"zerolinecolor\":\"white\",\"automargin\":true,\"zerolinewidth\":2},\"yaxis\":{\"gridcolor\":\"white\",\"linecolor\":\"white\",\"ticks\":\"\",\"title\":{\"standoff\":15},\"zerolinecolor\":\"white\",\"automargin\":true,\"zerolinewidth\":2},\"scene\":{\"xaxis\":{\"backgroundcolor\":\"#E5ECF6\",\"gridcolor\":\"white\",\"linecolor\":\"white\",\"showbackground\":true,\"ticks\":\"\",\"zerolinecolor\":\"white\",\"gridwidth\":2},\"yaxis\":{\"backgroundcolor\":\"#E5ECF6\",\"gridcolor\":\"white\",\"linecolor\":\"white\",\"showbackground\":true,\"ticks\":\"\",\"zerolinecolor\":\"white\",\"gridwidth\":2},\"zaxis\":{\"backgroundcolor\":\"#E5ECF6\",\"gridcolor\":\"white\",\"linecolor\":\"white\",\"showbackground\":true,\"ticks\":\"\",\"zerolinecolor\":\"white\",\"gridwidth\":2}},\"shapedefaults\":{\"line\":{\"color\":\"#2a3f5f\"}},\"annotationdefaults\":{\"arrowcolor\":\"#2a3f5f\",\"arrowhead\":0,\"arrowwidth\":1},\"geo\":{\"bgcolor\":\"white\",\"landcolor\":\"#E5ECF6\",\"subunitcolor\":\"white\",\"showland\":true,\"showlakes\":true,\"lakecolor\":\"white\"},\"title\":{\"x\":0.05},\"mapbox\":{\"style\":\"light\"}}},\"xaxis\":{\"anchor\":\"y\",\"domain\":[0.0,1.0],\"title\":{\"text\":\"value\"}},\"yaxis\":{\"anchor\":\"x\",\"domain\":[0.0,1.0],\"title\":{\"text\":\"count\"}},\"legend\":{\"title\":{\"text\":\"variable\"},\"tracegroupgap\":0},\"margin\":{\"t\":60},\"barmode\":\"relative\"},                        {\"responsive\": true}                    ).then(function(){\n",
       "                            \n",
       "var gd = document.getElementById('55dd49ea-739b-4fb1-b892-1c1c77a3ae8f');\n",
       "var x = new MutationObserver(function (mutations, observer) {{\n",
       "        var display = window.getComputedStyle(gd).display;\n",
       "        if (!display || display === 'none') {{\n",
       "            console.log([gd, 'removed!']);\n",
       "            Plotly.purge(gd);\n",
       "            observer.disconnect();\n",
       "        }}\n",
       "}});\n",
       "\n",
       "// Listen for the removal of the full notebook cells\n",
       "var notebookContainer = gd.closest('#notebook-container');\n",
       "if (notebookContainer) {{\n",
       "    x.observe(notebookContainer, {childList: true});\n",
       "}}\n",
       "\n",
       "// Listen for the clearing of the current output cell\n",
       "var outputEl = gd.closest('.output');\n",
       "if (outputEl) {{\n",
       "    x.observe(outputEl, {childList: true});\n",
       "}}\n",
       "\n",
       "                        })                };                });            </script>        </div>"
      ]
     },
     "metadata": {},
     "output_type": "display_data"
    }
   ],
   "source": [
    "fig = px.histogram(group2,nbins=10)\n",
    "fig.show()"
   ]
  },
  {
   "cell_type": "markdown",
   "metadata": {},
   "source": [
    "2) Obtenez vous des différences significatives (p-valeur < 0.05)?"
   ]
  },
  {
   "cell_type": "code",
   "execution_count": 38,
   "metadata": {},
   "outputs": [
    {
     "data": {
      "text/html": [
       "<div>\n",
       "<style scoped>\n",
       "    .dataframe tbody tr th:only-of-type {\n",
       "        vertical-align: middle;\n",
       "    }\n",
       "\n",
       "    .dataframe tbody tr th {\n",
       "        vertical-align: top;\n",
       "    }\n",
       "\n",
       "    .dataframe thead th {\n",
       "        text-align: right;\n",
       "    }\n",
       "</style>\n",
       "<table border=\"1\" class=\"dataframe\">\n",
       "  <thead>\n",
       "    <tr style=\"text-align: right;\">\n",
       "      <th></th>\n",
       "      <th>test_number</th>\n",
       "      <th>diff</th>\n",
       "      <th>T stat</th>\n",
       "      <th>p_value</th>\n",
       "    </tr>\n",
       "  </thead>\n",
       "  <tbody>\n",
       "    <tr>\n",
       "      <th>996</th>\n",
       "      <td>996</td>\n",
       "      <td>0.891141</td>\n",
       "      <td>-3.467803</td>\n",
       "      <td>0.000995</td>\n",
       "    </tr>\n",
       "    <tr>\n",
       "      <th>144</th>\n",
       "      <td>144</td>\n",
       "      <td>-0.742720</td>\n",
       "      <td>3.261776</td>\n",
       "      <td>0.001857</td>\n",
       "    </tr>\n",
       "    <tr>\n",
       "      <th>154</th>\n",
       "      <td>154</td>\n",
       "      <td>-0.736322</td>\n",
       "      <td>3.161906</td>\n",
       "      <td>0.002493</td>\n",
       "    </tr>\n",
       "    <tr>\n",
       "      <th>818</th>\n",
       "      <td>818</td>\n",
       "      <td>-0.713869</td>\n",
       "      <td>3.041477</td>\n",
       "      <td>0.003532</td>\n",
       "    </tr>\n",
       "    <tr>\n",
       "      <th>872</th>\n",
       "      <td>872</td>\n",
       "      <td>0.848473</td>\n",
       "      <td>-2.959615</td>\n",
       "      <td>0.004455</td>\n",
       "    </tr>\n",
       "    <tr>\n",
       "      <th>231</th>\n",
       "      <td>231</td>\n",
       "      <td>0.756927</td>\n",
       "      <td>-2.930317</td>\n",
       "      <td>0.004836</td>\n",
       "    </tr>\n",
       "    <tr>\n",
       "      <th>249</th>\n",
       "      <td>249</td>\n",
       "      <td>-0.662157</td>\n",
       "      <td>2.902729</td>\n",
       "      <td>0.005223</td>\n",
       "    </tr>\n",
       "    <tr>\n",
       "      <th>332</th>\n",
       "      <td>332</td>\n",
       "      <td>0.644645</td>\n",
       "      <td>-2.890849</td>\n",
       "      <td>0.005398</td>\n",
       "    </tr>\n",
       "    <tr>\n",
       "      <th>396</th>\n",
       "      <td>396</td>\n",
       "      <td>0.695471</td>\n",
       "      <td>-2.839324</td>\n",
       "      <td>0.006223</td>\n",
       "    </tr>\n",
       "    <tr>\n",
       "      <th>280</th>\n",
       "      <td>280</td>\n",
       "      <td>-0.599161</td>\n",
       "      <td>2.782730</td>\n",
       "      <td>0.007263</td>\n",
       "    </tr>\n",
       "    <tr>\n",
       "      <th>204</th>\n",
       "      <td>204</td>\n",
       "      <td>-0.682224</td>\n",
       "      <td>2.778081</td>\n",
       "      <td>0.007355</td>\n",
       "    </tr>\n",
       "    <tr>\n",
       "      <th>774</th>\n",
       "      <td>774</td>\n",
       "      <td>-0.650173</td>\n",
       "      <td>2.764361</td>\n",
       "      <td>0.007633</td>\n",
       "    </tr>\n",
       "    <tr>\n",
       "      <th>625</th>\n",
       "      <td>625</td>\n",
       "      <td>-0.576398</td>\n",
       "      <td>2.568918</td>\n",
       "      <td>0.012797</td>\n",
       "    </tr>\n",
       "    <tr>\n",
       "      <th>29</th>\n",
       "      <td>29</td>\n",
       "      <td>0.600570</td>\n",
       "      <td>-2.550357</td>\n",
       "      <td>0.013424</td>\n",
       "    </tr>\n",
       "    <tr>\n",
       "      <th>884</th>\n",
       "      <td>884</td>\n",
       "      <td>0.512124</td>\n",
       "      <td>-2.535610</td>\n",
       "      <td>0.013942</td>\n",
       "    </tr>\n",
       "    <tr>\n",
       "      <th>217</th>\n",
       "      <td>217</td>\n",
       "      <td>-0.510687</td>\n",
       "      <td>2.533687</td>\n",
       "      <td>0.014011</td>\n",
       "    </tr>\n",
       "    <tr>\n",
       "      <th>992</th>\n",
       "      <td>992</td>\n",
       "      <td>-0.574816</td>\n",
       "      <td>2.533321</td>\n",
       "      <td>0.014024</td>\n",
       "    </tr>\n",
       "    <tr>\n",
       "      <th>735</th>\n",
       "      <td>735</td>\n",
       "      <td>0.541680</td>\n",
       "      <td>-2.509103</td>\n",
       "      <td>0.014920</td>\n",
       "    </tr>\n",
       "    <tr>\n",
       "      <th>646</th>\n",
       "      <td>646</td>\n",
       "      <td>0.566908</td>\n",
       "      <td>-2.481157</td>\n",
       "      <td>0.016017</td>\n",
       "    </tr>\n",
       "    <tr>\n",
       "      <th>708</th>\n",
       "      <td>708</td>\n",
       "      <td>0.551919</td>\n",
       "      <td>-2.444285</td>\n",
       "      <td>0.017575</td>\n",
       "    </tr>\n",
       "    <tr>\n",
       "      <th>874</th>\n",
       "      <td>874</td>\n",
       "      <td>0.523607</td>\n",
       "      <td>-2.422585</td>\n",
       "      <td>0.018555</td>\n",
       "    </tr>\n",
       "    <tr>\n",
       "      <th>796</th>\n",
       "      <td>796</td>\n",
       "      <td>-0.533923</td>\n",
       "      <td>2.386958</td>\n",
       "      <td>0.020270</td>\n",
       "    </tr>\n",
       "    <tr>\n",
       "      <th>520</th>\n",
       "      <td>520</td>\n",
       "      <td>-0.594839</td>\n",
       "      <td>2.379861</td>\n",
       "      <td>0.020628</td>\n",
       "    </tr>\n",
       "    <tr>\n",
       "      <th>436</th>\n",
       "      <td>436</td>\n",
       "      <td>0.528326</td>\n",
       "      <td>-2.378753</td>\n",
       "      <td>0.020684</td>\n",
       "    </tr>\n",
       "    <tr>\n",
       "      <th>960</th>\n",
       "      <td>960</td>\n",
       "      <td>0.555848</td>\n",
       "      <td>-2.355578</td>\n",
       "      <td>0.021896</td>\n",
       "    </tr>\n",
       "    <tr>\n",
       "      <th>822</th>\n",
       "      <td>822</td>\n",
       "      <td>0.555565</td>\n",
       "      <td>-2.343289</td>\n",
       "      <td>0.022565</td>\n",
       "    </tr>\n",
       "    <tr>\n",
       "      <th>744</th>\n",
       "      <td>744</td>\n",
       "      <td>-0.667040</td>\n",
       "      <td>2.325456</td>\n",
       "      <td>0.023567</td>\n",
       "    </tr>\n",
       "    <tr>\n",
       "      <th>967</th>\n",
       "      <td>967</td>\n",
       "      <td>0.489879</td>\n",
       "      <td>-2.306155</td>\n",
       "      <td>0.024696</td>\n",
       "    </tr>\n",
       "    <tr>\n",
       "      <th>190</th>\n",
       "      <td>190</td>\n",
       "      <td>-0.509564</td>\n",
       "      <td>2.298219</td>\n",
       "      <td>0.025173</td>\n",
       "    </tr>\n",
       "    <tr>\n",
       "      <th>418</th>\n",
       "      <td>418</td>\n",
       "      <td>-0.561252</td>\n",
       "      <td>2.294333</td>\n",
       "      <td>0.025410</td>\n",
       "    </tr>\n",
       "    <tr>\n",
       "      <th>467</th>\n",
       "      <td>467</td>\n",
       "      <td>-0.453422</td>\n",
       "      <td>2.261805</td>\n",
       "      <td>0.027473</td>\n",
       "    </tr>\n",
       "    <tr>\n",
       "      <th>674</th>\n",
       "      <td>674</td>\n",
       "      <td>0.658740</td>\n",
       "      <td>-2.246509</td>\n",
       "      <td>0.028494</td>\n",
       "    </tr>\n",
       "    <tr>\n",
       "      <th>143</th>\n",
       "      <td>143</td>\n",
       "      <td>-0.537055</td>\n",
       "      <td>2.220503</td>\n",
       "      <td>0.030305</td>\n",
       "    </tr>\n",
       "    <tr>\n",
       "      <th>956</th>\n",
       "      <td>956</td>\n",
       "      <td>0.594827</td>\n",
       "      <td>-2.211755</td>\n",
       "      <td>0.030937</td>\n",
       "    </tr>\n",
       "    <tr>\n",
       "      <th>443</th>\n",
       "      <td>443</td>\n",
       "      <td>-0.446702</td>\n",
       "      <td>2.208830</td>\n",
       "      <td>0.031151</td>\n",
       "    </tr>\n",
       "    <tr>\n",
       "      <th>549</th>\n",
       "      <td>549</td>\n",
       "      <td>0.621212</td>\n",
       "      <td>-2.188678</td>\n",
       "      <td>0.032660</td>\n",
       "    </tr>\n",
       "    <tr>\n",
       "      <th>410</th>\n",
       "      <td>410</td>\n",
       "      <td>-0.518590</td>\n",
       "      <td>2.183381</td>\n",
       "      <td>0.033067</td>\n",
       "    </tr>\n",
       "    <tr>\n",
       "      <th>28</th>\n",
       "      <td>28</td>\n",
       "      <td>0.556611</td>\n",
       "      <td>-2.181393</td>\n",
       "      <td>0.033221</td>\n",
       "    </tr>\n",
       "    <tr>\n",
       "      <th>301</th>\n",
       "      <td>301</td>\n",
       "      <td>0.545184</td>\n",
       "      <td>-2.167689</td>\n",
       "      <td>0.034300</td>\n",
       "    </tr>\n",
       "    <tr>\n",
       "      <th>502</th>\n",
       "      <td>502</td>\n",
       "      <td>-0.613269</td>\n",
       "      <td>2.149018</td>\n",
       "      <td>0.035818</td>\n",
       "    </tr>\n",
       "    <tr>\n",
       "      <th>313</th>\n",
       "      <td>313</td>\n",
       "      <td>-0.520785</td>\n",
       "      <td>2.144749</td>\n",
       "      <td>0.036174</td>\n",
       "    </tr>\n",
       "    <tr>\n",
       "      <th>954</th>\n",
       "      <td>954</td>\n",
       "      <td>-0.504717</td>\n",
       "      <td>2.129820</td>\n",
       "      <td>0.037441</td>\n",
       "    </tr>\n",
       "    <tr>\n",
       "      <th>445</th>\n",
       "      <td>445</td>\n",
       "      <td>-0.530686</td>\n",
       "      <td>2.111980</td>\n",
       "      <td>0.039006</td>\n",
       "    </tr>\n",
       "    <tr>\n",
       "      <th>995</th>\n",
       "      <td>995</td>\n",
       "      <td>0.501116</td>\n",
       "      <td>-2.096776</td>\n",
       "      <td>0.040384</td>\n",
       "    </tr>\n",
       "    <tr>\n",
       "      <th>320</th>\n",
       "      <td>320</td>\n",
       "      <td>-0.495479</td>\n",
       "      <td>2.096011</td>\n",
       "      <td>0.040455</td>\n",
       "    </tr>\n",
       "    <tr>\n",
       "      <th>475</th>\n",
       "      <td>475</td>\n",
       "      <td>0.374496</td>\n",
       "      <td>-2.088873</td>\n",
       "      <td>0.041118</td>\n",
       "    </tr>\n",
       "    <tr>\n",
       "      <th>248</th>\n",
       "      <td>248</td>\n",
       "      <td>-0.504759</td>\n",
       "      <td>2.087011</td>\n",
       "      <td>0.041292</td>\n",
       "    </tr>\n",
       "    <tr>\n",
       "      <th>595</th>\n",
       "      <td>595</td>\n",
       "      <td>-0.539190</td>\n",
       "      <td>2.082070</td>\n",
       "      <td>0.041758</td>\n",
       "    </tr>\n",
       "    <tr>\n",
       "      <th>88</th>\n",
       "      <td>88</td>\n",
       "      <td>0.542421</td>\n",
       "      <td>-2.081728</td>\n",
       "      <td>0.041790</td>\n",
       "    </tr>\n",
       "    <tr>\n",
       "      <th>516</th>\n",
       "      <td>516</td>\n",
       "      <td>-0.455396</td>\n",
       "      <td>2.075122</td>\n",
       "      <td>0.042421</td>\n",
       "    </tr>\n",
       "    <tr>\n",
       "      <th>209</th>\n",
       "      <td>209</td>\n",
       "      <td>0.507842</td>\n",
       "      <td>-2.068750</td>\n",
       "      <td>0.043037</td>\n",
       "    </tr>\n",
       "    <tr>\n",
       "      <th>166</th>\n",
       "      <td>166</td>\n",
       "      <td>0.477699</td>\n",
       "      <td>-2.027469</td>\n",
       "      <td>0.047218</td>\n",
       "    </tr>\n",
       "    <tr>\n",
       "      <th>420</th>\n",
       "      <td>420</td>\n",
       "      <td>-0.545577</td>\n",
       "      <td>2.026116</td>\n",
       "      <td>0.047361</td>\n",
       "    </tr>\n",
       "    <tr>\n",
       "      <th>241</th>\n",
       "      <td>241</td>\n",
       "      <td>-0.561512</td>\n",
       "      <td>2.015999</td>\n",
       "      <td>0.048440</td>\n",
       "    </tr>\n",
       "    <tr>\n",
       "      <th>541</th>\n",
       "      <td>541</td>\n",
       "      <td>-0.447907</td>\n",
       "      <td>2.011101</td>\n",
       "      <td>0.048970</td>\n",
       "    </tr>\n",
       "  </tbody>\n",
       "</table>\n",
       "</div>"
      ],
      "text/plain": [
       "     test_number      diff    T stat   p_value\n",
       "996          996  0.891141 -3.467803  0.000995\n",
       "144          144 -0.742720  3.261776  0.001857\n",
       "154          154 -0.736322  3.161906  0.002493\n",
       "818          818 -0.713869  3.041477  0.003532\n",
       "872          872  0.848473 -2.959615  0.004455\n",
       "231          231  0.756927 -2.930317  0.004836\n",
       "249          249 -0.662157  2.902729  0.005223\n",
       "332          332  0.644645 -2.890849  0.005398\n",
       "396          396  0.695471 -2.839324  0.006223\n",
       "280          280 -0.599161  2.782730  0.007263\n",
       "204          204 -0.682224  2.778081  0.007355\n",
       "774          774 -0.650173  2.764361  0.007633\n",
       "625          625 -0.576398  2.568918  0.012797\n",
       "29            29  0.600570 -2.550357  0.013424\n",
       "884          884  0.512124 -2.535610  0.013942\n",
       "217          217 -0.510687  2.533687  0.014011\n",
       "992          992 -0.574816  2.533321  0.014024\n",
       "735          735  0.541680 -2.509103  0.014920\n",
       "646          646  0.566908 -2.481157  0.016017\n",
       "708          708  0.551919 -2.444285  0.017575\n",
       "874          874  0.523607 -2.422585  0.018555\n",
       "796          796 -0.533923  2.386958  0.020270\n",
       "520          520 -0.594839  2.379861  0.020628\n",
       "436          436  0.528326 -2.378753  0.020684\n",
       "960          960  0.555848 -2.355578  0.021896\n",
       "822          822  0.555565 -2.343289  0.022565\n",
       "744          744 -0.667040  2.325456  0.023567\n",
       "967          967  0.489879 -2.306155  0.024696\n",
       "190          190 -0.509564  2.298219  0.025173\n",
       "418          418 -0.561252  2.294333  0.025410\n",
       "467          467 -0.453422  2.261805  0.027473\n",
       "674          674  0.658740 -2.246509  0.028494\n",
       "143          143 -0.537055  2.220503  0.030305\n",
       "956          956  0.594827 -2.211755  0.030937\n",
       "443          443 -0.446702  2.208830  0.031151\n",
       "549          549  0.621212 -2.188678  0.032660\n",
       "410          410 -0.518590  2.183381  0.033067\n",
       "28            28  0.556611 -2.181393  0.033221\n",
       "301          301  0.545184 -2.167689  0.034300\n",
       "502          502 -0.613269  2.149018  0.035818\n",
       "313          313 -0.520785  2.144749  0.036174\n",
       "954          954 -0.504717  2.129820  0.037441\n",
       "445          445 -0.530686  2.111980  0.039006\n",
       "995          995  0.501116 -2.096776  0.040384\n",
       "320          320 -0.495479  2.096011  0.040455\n",
       "475          475  0.374496 -2.088873  0.041118\n",
       "248          248 -0.504759  2.087011  0.041292\n",
       "595          595 -0.539190  2.082070  0.041758\n",
       "88            88  0.542421 -2.081728  0.041790\n",
       "516          516 -0.455396  2.075122  0.042421\n",
       "209          209  0.507842 -2.068750  0.043037\n",
       "166          166  0.477699 -2.027469  0.047218\n",
       "420          420 -0.545577  2.026116  0.047361\n",
       "241          241 -0.561512  2.015999  0.048440\n",
       "541          541 -0.447907  2.011101  0.048970"
      ]
     },
     "execution_count": 38,
     "metadata": {},
     "output_type": "execute_result"
    }
   ],
   "source": [
    "resRandomTable = pd.DataFrame(resRandom, columns = ['test_number', 'diff',\"T stat\",\"p_value\"])\n",
    "resRandomTable[resRandomTable['p_value'] < 0.05].sort_values(\"p_value\")"
   ]
  },
  {
   "cell_type": "code",
   "execution_count": 39,
   "metadata": {},
   "outputs": [
    {
     "data": {
      "text/plain": [
       "55"
      ]
     },
     "execution_count": 39,
     "metadata": {},
     "output_type": "execute_result"
    }
   ],
   "source": [
    "len(resRandomTable[resRandomTable['p_value'] < 0.05].sort_values(\"p_value\"))"
   ]
  },
  {
   "cell_type": "markdown",
   "metadata": {},
   "source": [
    "3) Effectuer la correction de Benjamin et Hotchberg pour déterminer les différences significatives pour ces 1000 tests (on prendra un seuil initial sigma de 0.05)."
   ]
  },
  {
   "cell_type": "code",
   "execution_count": 40,
   "metadata": {},
   "outputs": [
    {
     "data": {
      "text/html": [
       "<div>\n",
       "<style scoped>\n",
       "    .dataframe tbody tr th:only-of-type {\n",
       "        vertical-align: middle;\n",
       "    }\n",
       "\n",
       "    .dataframe tbody tr th {\n",
       "        vertical-align: top;\n",
       "    }\n",
       "\n",
       "    .dataframe thead th {\n",
       "        text-align: right;\n",
       "    }\n",
       "</style>\n",
       "<table border=\"1\" class=\"dataframe\">\n",
       "  <thead>\n",
       "    <tr style=\"text-align: right;\">\n",
       "      <th></th>\n",
       "      <th>test_number</th>\n",
       "      <th>diff</th>\n",
       "      <th>T stat</th>\n",
       "      <th>p_value</th>\n",
       "      <th>corrected_threshold</th>\n",
       "      <th>H0 rejected</th>\n",
       "    </tr>\n",
       "  </thead>\n",
       "  <tbody>\n",
       "    <tr>\n",
       "      <th>996</th>\n",
       "      <td>996</td>\n",
       "      <td>0.891141</td>\n",
       "      <td>-3.467803</td>\n",
       "      <td>0.000995</td>\n",
       "      <td>0.00005</td>\n",
       "      <td>False</td>\n",
       "    </tr>\n",
       "    <tr>\n",
       "      <th>144</th>\n",
       "      <td>144</td>\n",
       "      <td>-0.742720</td>\n",
       "      <td>3.261776</td>\n",
       "      <td>0.001857</td>\n",
       "      <td>0.00010</td>\n",
       "      <td>False</td>\n",
       "    </tr>\n",
       "    <tr>\n",
       "      <th>154</th>\n",
       "      <td>154</td>\n",
       "      <td>-0.736322</td>\n",
       "      <td>3.161906</td>\n",
       "      <td>0.002493</td>\n",
       "      <td>0.00015</td>\n",
       "      <td>False</td>\n",
       "    </tr>\n",
       "    <tr>\n",
       "      <th>818</th>\n",
       "      <td>818</td>\n",
       "      <td>-0.713869</td>\n",
       "      <td>3.041477</td>\n",
       "      <td>0.003532</td>\n",
       "      <td>0.00020</td>\n",
       "      <td>False</td>\n",
       "    </tr>\n",
       "    <tr>\n",
       "      <th>872</th>\n",
       "      <td>872</td>\n",
       "      <td>0.848473</td>\n",
       "      <td>-2.959615</td>\n",
       "      <td>0.004455</td>\n",
       "      <td>0.00025</td>\n",
       "      <td>False</td>\n",
       "    </tr>\n",
       "    <tr>\n",
       "      <th>...</th>\n",
       "      <td>...</td>\n",
       "      <td>...</td>\n",
       "      <td>...</td>\n",
       "      <td>...</td>\n",
       "      <td>...</td>\n",
       "      <td>...</td>\n",
       "    </tr>\n",
       "    <tr>\n",
       "      <th>949</th>\n",
       "      <td>949</td>\n",
       "      <td>0.001270</td>\n",
       "      <td>-0.004527</td>\n",
       "      <td>0.996404</td>\n",
       "      <td>0.04980</td>\n",
       "      <td>False</td>\n",
       "    </tr>\n",
       "    <tr>\n",
       "      <th>808</th>\n",
       "      <td>808</td>\n",
       "      <td>-0.000820</td>\n",
       "      <td>0.003355</td>\n",
       "      <td>0.997335</td>\n",
       "      <td>0.04985</td>\n",
       "      <td>False</td>\n",
       "    </tr>\n",
       "    <tr>\n",
       "      <th>480</th>\n",
       "      <td>480</td>\n",
       "      <td>-0.000667</td>\n",
       "      <td>0.002538</td>\n",
       "      <td>0.997983</td>\n",
       "      <td>0.04990</td>\n",
       "      <td>False</td>\n",
       "    </tr>\n",
       "    <tr>\n",
       "      <th>529</th>\n",
       "      <td>529</td>\n",
       "      <td>-0.000571</td>\n",
       "      <td>0.002245</td>\n",
       "      <td>0.998217</td>\n",
       "      <td>0.04995</td>\n",
       "      <td>False</td>\n",
       "    </tr>\n",
       "    <tr>\n",
       "      <th>462</th>\n",
       "      <td>462</td>\n",
       "      <td>-0.000505</td>\n",
       "      <td>0.002125</td>\n",
       "      <td>0.998312</td>\n",
       "      <td>0.05000</td>\n",
       "      <td>False</td>\n",
       "    </tr>\n",
       "  </tbody>\n",
       "</table>\n",
       "<p>1000 rows × 6 columns</p>\n",
       "</div>"
      ],
      "text/plain": [
       "     test_number      diff    T stat   p_value  corrected_threshold  \\\n",
       "996          996  0.891141 -3.467803  0.000995              0.00005   \n",
       "144          144 -0.742720  3.261776  0.001857              0.00010   \n",
       "154          154 -0.736322  3.161906  0.002493              0.00015   \n",
       "818          818 -0.713869  3.041477  0.003532              0.00020   \n",
       "872          872  0.848473 -2.959615  0.004455              0.00025   \n",
       "..           ...       ...       ...       ...                  ...   \n",
       "949          949  0.001270 -0.004527  0.996404              0.04980   \n",
       "808          808 -0.000820  0.003355  0.997335              0.04985   \n",
       "480          480 -0.000667  0.002538  0.997983              0.04990   \n",
       "529          529 -0.000571  0.002245  0.998217              0.04995   \n",
       "462          462 -0.000505  0.002125  0.998312              0.05000   \n",
       "\n",
       "     H0 rejected  \n",
       "996        False  \n",
       "144        False  \n",
       "154        False  \n",
       "818        False  \n",
       "872        False  \n",
       "..           ...  \n",
       "949        False  \n",
       "808        False  \n",
       "480        False  \n",
       "529        False  \n",
       "462        False  \n",
       "\n",
       "[1000 rows x 6 columns]"
      ]
     },
     "execution_count": 40,
     "metadata": {},
     "output_type": "execute_result"
    }
   ],
   "source": [
    "resRandomTable = resRandomTable.sort_values(\"p_value\")\n",
    "resRandomTable[\"corrected_threshold\"]=[(r/len(resRandomTable))*0.05 for r in range(len(resRandomTable)+1)[1:]]\n",
    "resRandomTable['H0 rejected'] = resRandomTable['p_value'] < resRandomTable['corrected_threshold']\n",
    "resRandomTable"
   ]
  },
  {
   "cell_type": "markdown",
   "metadata": {},
   "source": [
    "#### Remarque sur le code:\n",
    "Nous avons utilisé ici (et nous utiliserons plus tard dans l'exercice) une liste en compréhension pour écrire de manière synthétique une boucle for: `[(r/len(resRandomTable))*0.05 for r in range(len(resRandomTable)+1)[1:]]`. Le code équivalent avec une boucle for classique, beaucoup plus long à écrire, est le suivant:"
   ]
  },
  {
   "cell_type": "code",
   "execution_count": 41,
   "metadata": {},
   "outputs": [
    {
     "data": {
      "text/html": [
       "<div>\n",
       "<style scoped>\n",
       "    .dataframe tbody tr th:only-of-type {\n",
       "        vertical-align: middle;\n",
       "    }\n",
       "\n",
       "    .dataframe tbody tr th {\n",
       "        vertical-align: top;\n",
       "    }\n",
       "\n",
       "    .dataframe thead th {\n",
       "        text-align: right;\n",
       "    }\n",
       "</style>\n",
       "<table border=\"1\" class=\"dataframe\">\n",
       "  <thead>\n",
       "    <tr style=\"text-align: right;\">\n",
       "      <th></th>\n",
       "      <th>test_number</th>\n",
       "      <th>diff</th>\n",
       "      <th>T stat</th>\n",
       "      <th>p_value</th>\n",
       "      <th>corrected_threshold</th>\n",
       "      <th>H0 rejected</th>\n",
       "      <th>corrected_threshold_2</th>\n",
       "    </tr>\n",
       "  </thead>\n",
       "  <tbody>\n",
       "    <tr>\n",
       "      <th>996</th>\n",
       "      <td>996</td>\n",
       "      <td>0.891141</td>\n",
       "      <td>-3.467803</td>\n",
       "      <td>0.000995</td>\n",
       "      <td>0.00005</td>\n",
       "      <td>False</td>\n",
       "      <td>0.00005</td>\n",
       "    </tr>\n",
       "    <tr>\n",
       "      <th>144</th>\n",
       "      <td>144</td>\n",
       "      <td>-0.742720</td>\n",
       "      <td>3.261776</td>\n",
       "      <td>0.001857</td>\n",
       "      <td>0.00010</td>\n",
       "      <td>False</td>\n",
       "      <td>0.00010</td>\n",
       "    </tr>\n",
       "    <tr>\n",
       "      <th>154</th>\n",
       "      <td>154</td>\n",
       "      <td>-0.736322</td>\n",
       "      <td>3.161906</td>\n",
       "      <td>0.002493</td>\n",
       "      <td>0.00015</td>\n",
       "      <td>False</td>\n",
       "      <td>0.00015</td>\n",
       "    </tr>\n",
       "    <tr>\n",
       "      <th>818</th>\n",
       "      <td>818</td>\n",
       "      <td>-0.713869</td>\n",
       "      <td>3.041477</td>\n",
       "      <td>0.003532</td>\n",
       "      <td>0.00020</td>\n",
       "      <td>False</td>\n",
       "      <td>0.00020</td>\n",
       "    </tr>\n",
       "    <tr>\n",
       "      <th>872</th>\n",
       "      <td>872</td>\n",
       "      <td>0.848473</td>\n",
       "      <td>-2.959615</td>\n",
       "      <td>0.004455</td>\n",
       "      <td>0.00025</td>\n",
       "      <td>False</td>\n",
       "      <td>0.00025</td>\n",
       "    </tr>\n",
       "    <tr>\n",
       "      <th>...</th>\n",
       "      <td>...</td>\n",
       "      <td>...</td>\n",
       "      <td>...</td>\n",
       "      <td>...</td>\n",
       "      <td>...</td>\n",
       "      <td>...</td>\n",
       "      <td>...</td>\n",
       "    </tr>\n",
       "    <tr>\n",
       "      <th>949</th>\n",
       "      <td>949</td>\n",
       "      <td>0.001270</td>\n",
       "      <td>-0.004527</td>\n",
       "      <td>0.996404</td>\n",
       "      <td>0.04980</td>\n",
       "      <td>False</td>\n",
       "      <td>0.04980</td>\n",
       "    </tr>\n",
       "    <tr>\n",
       "      <th>808</th>\n",
       "      <td>808</td>\n",
       "      <td>-0.000820</td>\n",
       "      <td>0.003355</td>\n",
       "      <td>0.997335</td>\n",
       "      <td>0.04985</td>\n",
       "      <td>False</td>\n",
       "      <td>0.04985</td>\n",
       "    </tr>\n",
       "    <tr>\n",
       "      <th>480</th>\n",
       "      <td>480</td>\n",
       "      <td>-0.000667</td>\n",
       "      <td>0.002538</td>\n",
       "      <td>0.997983</td>\n",
       "      <td>0.04990</td>\n",
       "      <td>False</td>\n",
       "      <td>0.04990</td>\n",
       "    </tr>\n",
       "    <tr>\n",
       "      <th>529</th>\n",
       "      <td>529</td>\n",
       "      <td>-0.000571</td>\n",
       "      <td>0.002245</td>\n",
       "      <td>0.998217</td>\n",
       "      <td>0.04995</td>\n",
       "      <td>False</td>\n",
       "      <td>0.04995</td>\n",
       "    </tr>\n",
       "    <tr>\n",
       "      <th>462</th>\n",
       "      <td>462</td>\n",
       "      <td>-0.000505</td>\n",
       "      <td>0.002125</td>\n",
       "      <td>0.998312</td>\n",
       "      <td>0.05000</td>\n",
       "      <td>False</td>\n",
       "      <td>0.05000</td>\n",
       "    </tr>\n",
       "  </tbody>\n",
       "</table>\n",
       "<p>1000 rows × 7 columns</p>\n",
       "</div>"
      ],
      "text/plain": [
       "     test_number      diff    T stat   p_value  corrected_threshold  \\\n",
       "996          996  0.891141 -3.467803  0.000995              0.00005   \n",
       "144          144 -0.742720  3.261776  0.001857              0.00010   \n",
       "154          154 -0.736322  3.161906  0.002493              0.00015   \n",
       "818          818 -0.713869  3.041477  0.003532              0.00020   \n",
       "872          872  0.848473 -2.959615  0.004455              0.00025   \n",
       "..           ...       ...       ...       ...                  ...   \n",
       "949          949  0.001270 -0.004527  0.996404              0.04980   \n",
       "808          808 -0.000820  0.003355  0.997335              0.04985   \n",
       "480          480 -0.000667  0.002538  0.997983              0.04990   \n",
       "529          529 -0.000571  0.002245  0.998217              0.04995   \n",
       "462          462 -0.000505  0.002125  0.998312              0.05000   \n",
       "\n",
       "     H0 rejected  corrected_threshold_2  \n",
       "996        False                0.00005  \n",
       "144        False                0.00010  \n",
       "154        False                0.00015  \n",
       "818        False                0.00020  \n",
       "872        False                0.00025  \n",
       "..           ...                    ...  \n",
       "949        False                0.04980  \n",
       "808        False                0.04985  \n",
       "480        False                0.04990  \n",
       "529        False                0.04995  \n",
       "462        False                0.05000  \n",
       "\n",
       "[1000 rows x 7 columns]"
      ]
     },
     "execution_count": 41,
     "metadata": {},
     "output_type": "execute_result"
    }
   ],
   "source": [
    "corrected_threshold_list = [] #déclaration d'une liste vide\n",
    "for r in range(len(resRandomTable)+1)[1:]: # range fait partir la séquence à 0 mais notre premier rang est 1\n",
    "    corrected_threshold = (r/len(resRandomTable))*0.05 #calcul du nouveau seuil pour le rang donné\n",
    "    corrected_threshold_list.append(corrected_threshold) #ajout du seuil à la liste\n",
    "    \n",
    "resRandomTable[\"corrected_threshold_2\"] = corrected_threshold_list\n",
    "resRandomTable"
   ]
  },
  {
   "cell_type": "markdown",
   "metadata": {},
   "source": [
    "4) Reste-t-il des différences significatives pour ces nouveaux seuils? Si oui, dans quelle proportion par rapport au nombre de tests effectués (1000)?"
   ]
  },
  {
   "cell_type": "code",
   "execution_count": 42,
   "metadata": {},
   "outputs": [
    {
     "data": {
      "text/html": [
       "<div>\n",
       "<style scoped>\n",
       "    .dataframe tbody tr th:only-of-type {\n",
       "        vertical-align: middle;\n",
       "    }\n",
       "\n",
       "    .dataframe tbody tr th {\n",
       "        vertical-align: top;\n",
       "    }\n",
       "\n",
       "    .dataframe thead th {\n",
       "        text-align: right;\n",
       "    }\n",
       "</style>\n",
       "<table border=\"1\" class=\"dataframe\">\n",
       "  <thead>\n",
       "    <tr style=\"text-align: right;\">\n",
       "      <th></th>\n",
       "      <th>test_number</th>\n",
       "      <th>diff</th>\n",
       "      <th>T stat</th>\n",
       "      <th>p_value</th>\n",
       "      <th>corrected_threshold</th>\n",
       "      <th>H0 rejected</th>\n",
       "      <th>corrected_threshold_2</th>\n",
       "    </tr>\n",
       "  </thead>\n",
       "  <tbody>\n",
       "  </tbody>\n",
       "</table>\n",
       "</div>"
      ],
      "text/plain": [
       "Empty DataFrame\n",
       "Columns: [test_number, diff, T stat, p_value, corrected_threshold, H0 rejected, corrected_threshold_2]\n",
       "Index: []"
      ]
     },
     "execution_count": 42,
     "metadata": {},
     "output_type": "execute_result"
    }
   ],
   "source": [
    "resRandomTable[resRandomTable['H0 rejected']]"
   ]
  },
  {
   "cell_type": "markdown",
   "metadata": {},
   "source": [
    "5) Effectuer la même correction pour les tests de différences d'expression réalisés lors de la séance précédente.\n",
    "\n",
    "Commencer par charger le tableau des résultats sauvegardés précedemment. Combien de gènes sont à priori différentiellement exprimés (on prendra p_value < 0.05) entre les echantillons métastatiques et les echantillons de tumeurs primaires?"
   ]
  },
  {
   "cell_type": "code",
   "execution_count": 43,
   "metadata": {},
   "outputs": [
    {
     "data": {
      "text/html": [
       "<div>\n",
       "<style scoped>\n",
       "    .dataframe tbody tr th:only-of-type {\n",
       "        vertical-align: middle;\n",
       "    }\n",
       "\n",
       "    .dataframe tbody tr th {\n",
       "        vertical-align: top;\n",
       "    }\n",
       "\n",
       "    .dataframe thead th {\n",
       "        text-align: right;\n",
       "    }\n",
       "</style>\n",
       "<table border=\"1\" class=\"dataframe\">\n",
       "  <thead>\n",
       "    <tr style=\"text-align: right;\">\n",
       "      <th></th>\n",
       "      <th>Ensembl_ID</th>\n",
       "      <th>log1p_diff</th>\n",
       "      <th>T stat</th>\n",
       "      <th>p_value</th>\n",
       "      <th>gene_name</th>\n",
       "    </tr>\n",
       "  </thead>\n",
       "  <tbody>\n",
       "    <tr>\n",
       "      <th>0</th>\n",
       "      <td>ENSG00000215398.10</td>\n",
       "      <td>-0.016788</td>\n",
       "      <td>-2.752333</td>\n",
       "      <td>6.725146e-03</td>\n",
       "      <td>RP11-754I20.1</td>\n",
       "    </tr>\n",
       "    <tr>\n",
       "      <th>9</th>\n",
       "      <td>ENSG00000257115.1</td>\n",
       "      <td>-0.004267</td>\n",
       "      <td>-2.062118</td>\n",
       "      <td>4.110023e-02</td>\n",
       "      <td>OR11H12</td>\n",
       "    </tr>\n",
       "    <tr>\n",
       "      <th>43</th>\n",
       "      <td>ENSG00000244306.8</td>\n",
       "      <td>-0.115900</td>\n",
       "      <td>-2.084979</td>\n",
       "      <td>4.015687e-02</td>\n",
       "      <td>LINC01296</td>\n",
       "    </tr>\n",
       "    <tr>\n",
       "      <th>65</th>\n",
       "      <td>ENSG00000258080.1</td>\n",
       "      <td>-0.001736</td>\n",
       "      <td>-2.592771</td>\n",
       "      <td>1.056170e-02</td>\n",
       "      <td>ARHGAP42P4</td>\n",
       "    </tr>\n",
       "    <tr>\n",
       "      <th>73</th>\n",
       "      <td>ENSG00000258564.1</td>\n",
       "      <td>-0.004920</td>\n",
       "      <td>-2.497437</td>\n",
       "      <td>1.370230e-02</td>\n",
       "      <td>OR4N1P</td>\n",
       "    </tr>\n",
       "    <tr>\n",
       "      <th>...</th>\n",
       "      <td>...</td>\n",
       "      <td>...</td>\n",
       "      <td>...</td>\n",
       "      <td>...</td>\n",
       "      <td>...</td>\n",
       "    </tr>\n",
       "    <tr>\n",
       "      <th>2280</th>\n",
       "      <td>ENSG00000254176.1</td>\n",
       "      <td>-0.185423</td>\n",
       "      <td>-2.181168</td>\n",
       "      <td>3.117287e-02</td>\n",
       "      <td>IGHV3-75</td>\n",
       "    </tr>\n",
       "    <tr>\n",
       "      <th>2281</th>\n",
       "      <td>ENSG00000253247.1</td>\n",
       "      <td>-0.401323</td>\n",
       "      <td>-3.388917</td>\n",
       "      <td>9.851175e-04</td>\n",
       "      <td>IGHV3-76</td>\n",
       "    </tr>\n",
       "    <tr>\n",
       "      <th>2283</th>\n",
       "      <td>ENSG00000265929.1</td>\n",
       "      <td>-0.756539</td>\n",
       "      <td>-5.248022</td>\n",
       "      <td>4.380960e-07</td>\n",
       "      <td>MIR5195</td>\n",
       "    </tr>\n",
       "    <tr>\n",
       "      <th>2284</th>\n",
       "      <td>ENSG00000211978.2</td>\n",
       "      <td>-1.012137</td>\n",
       "      <td>-5.490279</td>\n",
       "      <td>1.926521e-07</td>\n",
       "      <td>IGHV5-78</td>\n",
       "    </tr>\n",
       "    <tr>\n",
       "      <th>2287</th>\n",
       "      <td>ENSG00000211979.2</td>\n",
       "      <td>-0.492227</td>\n",
       "      <td>-2.794239</td>\n",
       "      <td>6.429772e-03</td>\n",
       "      <td>IGHV7-81</td>\n",
       "    </tr>\n",
       "  </tbody>\n",
       "</table>\n",
       "<p>627 rows × 5 columns</p>\n",
       "</div>"
      ],
      "text/plain": [
       "              Ensembl_ID  log1p_diff    T stat       p_value      gene_name\n",
       "0     ENSG00000215398.10   -0.016788 -2.752333  6.725146e-03  RP11-754I20.1\n",
       "9      ENSG00000257115.1   -0.004267 -2.062118  4.110023e-02        OR11H12\n",
       "43     ENSG00000244306.8   -0.115900 -2.084979  4.015687e-02      LINC01296\n",
       "65     ENSG00000258080.1   -0.001736 -2.592771  1.056170e-02     ARHGAP42P4\n",
       "73     ENSG00000258564.1   -0.004920 -2.497437  1.370230e-02         OR4N1P\n",
       "...                  ...         ...       ...           ...            ...\n",
       "2280   ENSG00000254176.1   -0.185423 -2.181168  3.117287e-02       IGHV3-75\n",
       "2281   ENSG00000253247.1   -0.401323 -3.388917  9.851175e-04       IGHV3-76\n",
       "2283   ENSG00000265929.1   -0.756539 -5.248022  4.380960e-07        MIR5195\n",
       "2284   ENSG00000211978.2   -1.012137 -5.490279  1.926521e-07       IGHV5-78\n",
       "2287   ENSG00000211979.2   -0.492227 -2.794239  6.429772e-03       IGHV7-81\n",
       "\n",
       "[627 rows x 5 columns]"
      ]
     },
     "execution_count": 43,
     "metadata": {},
     "output_type": "execute_result"
    }
   ],
   "source": [
    "diffExpResults = pd.read_csv(\"../Week4/diffExpMetastaticPrimaryTumor_chr14.csv\")\n",
    "diffExpResults[diffExpResults[\"p_value\"]< 0.05]"
   ]
  },
  {
   "cell_type": "code",
   "execution_count": 44,
   "metadata": {},
   "outputs": [
    {
     "data": {
      "text/plain": [
       "627"
      ]
     },
     "execution_count": 44,
     "metadata": {},
     "output_type": "execute_result"
    }
   ],
   "source": [
    "## Solution\n",
    "len(diffExpResults[diffExpResults[\"p_value\"]< 0.05])"
   ]
  },
  {
   "cell_type": "markdown",
   "metadata": {},
   "source": [
    "Puis réaliser la correction comme précédemment."
   ]
  },
  {
   "cell_type": "code",
   "execution_count": 45,
   "metadata": {},
   "outputs": [
    {
     "data": {
      "text/html": [
       "<div>\n",
       "<style scoped>\n",
       "    .dataframe tbody tr th:only-of-type {\n",
       "        vertical-align: middle;\n",
       "    }\n",
       "\n",
       "    .dataframe tbody tr th {\n",
       "        vertical-align: top;\n",
       "    }\n",
       "\n",
       "    .dataframe thead th {\n",
       "        text-align: right;\n",
       "    }\n",
       "</style>\n",
       "<table border=\"1\" class=\"dataframe\">\n",
       "  <thead>\n",
       "    <tr style=\"text-align: right;\">\n",
       "      <th></th>\n",
       "      <th>Ensembl_ID</th>\n",
       "      <th>log1p_diff</th>\n",
       "      <th>T stat</th>\n",
       "      <th>p_value</th>\n",
       "      <th>gene_name</th>\n",
       "      <th>corrected_threshold</th>\n",
       "      <th>H0 rejected</th>\n",
       "    </tr>\n",
       "  </thead>\n",
       "  <tbody>\n",
       "    <tr>\n",
       "      <th>2135</th>\n",
       "      <td>ENSG00000211911.1</td>\n",
       "      <td>-1.338808</td>\n",
       "      <td>-8.223607</td>\n",
       "      <td>4.256752e-14</td>\n",
       "      <td>IGHD3-22</td>\n",
       "      <td>0.000022</td>\n",
       "      <td>True</td>\n",
       "    </tr>\n",
       "    <tr>\n",
       "      <th>2172</th>\n",
       "      <td>ENSG00000211941.3</td>\n",
       "      <td>-3.033411</td>\n",
       "      <td>-7.740083</td>\n",
       "      <td>5.362804e-12</td>\n",
       "      <td>IGHV3-11</td>\n",
       "      <td>0.000044</td>\n",
       "      <td>True</td>\n",
       "    </tr>\n",
       "    <tr>\n",
       "      <th>2188</th>\n",
       "      <td>ENSG00000253957.1</td>\n",
       "      <td>-0.560431</td>\n",
       "      <td>-7.269396</td>\n",
       "      <td>1.421840e-11</td>\n",
       "      <td>IGHV3-22</td>\n",
       "      <td>0.000066</td>\n",
       "      <td>True</td>\n",
       "    </tr>\n",
       "    <tr>\n",
       "      <th>2112</th>\n",
       "      <td>ENSG00000211898.6</td>\n",
       "      <td>-1.856373</td>\n",
       "      <td>-7.246155</td>\n",
       "      <td>1.861155e-11</td>\n",
       "      <td>IGHD</td>\n",
       "      <td>0.000087</td>\n",
       "      <td>True</td>\n",
       "    </tr>\n",
       "    <tr>\n",
       "      <th>1407</th>\n",
       "      <td>ENSG00000259124.1</td>\n",
       "      <td>-0.238446</td>\n",
       "      <td>-7.050480</td>\n",
       "      <td>6.088311e-11</td>\n",
       "      <td>RP11-187O7.3</td>\n",
       "      <td>0.000109</td>\n",
       "      <td>True</td>\n",
       "    </tr>\n",
       "    <tr>\n",
       "      <th>...</th>\n",
       "      <td>...</td>\n",
       "      <td>...</td>\n",
       "      <td>...</td>\n",
       "      <td>...</td>\n",
       "      <td>...</td>\n",
       "      <td>...</td>\n",
       "      <td>...</td>\n",
       "    </tr>\n",
       "    <tr>\n",
       "      <th>2108</th>\n",
       "      <td>ENSG00000278556.1</td>\n",
       "      <td>0.000000</td>\n",
       "      <td>NaN</td>\n",
       "      <td>NaN</td>\n",
       "      <td>AL122127.3</td>\n",
       "      <td>0.049913</td>\n",
       "      <td>False</td>\n",
       "    </tr>\n",
       "    <tr>\n",
       "      <th>2121</th>\n",
       "      <td>ENSG00000211900.2</td>\n",
       "      <td>0.000000</td>\n",
       "      <td>NaN</td>\n",
       "      <td>NaN</td>\n",
       "      <td>IGHJ6</td>\n",
       "      <td>0.049934</td>\n",
       "      <td>False</td>\n",
       "    </tr>\n",
       "    <tr>\n",
       "      <th>2123</th>\n",
       "      <td>ENSG00000242472.1</td>\n",
       "      <td>0.000000</td>\n",
       "      <td>NaN</td>\n",
       "      <td>NaN</td>\n",
       "      <td>IGHJ5</td>\n",
       "      <td>0.049956</td>\n",
       "      <td>False</td>\n",
       "    </tr>\n",
       "    <tr>\n",
       "      <th>2124</th>\n",
       "      <td>ENSG00000240041.1</td>\n",
       "      <td>0.000000</td>\n",
       "      <td>NaN</td>\n",
       "      <td>NaN</td>\n",
       "      <td>IGHJ4</td>\n",
       "      <td>0.049978</td>\n",
       "      <td>False</td>\n",
       "    </tr>\n",
       "    <tr>\n",
       "      <th>2254</th>\n",
       "      <td>ENSG00000280494.1</td>\n",
       "      <td>0.000000</td>\n",
       "      <td>NaN</td>\n",
       "      <td>NaN</td>\n",
       "      <td>AC245369.3</td>\n",
       "      <td>0.050000</td>\n",
       "      <td>False</td>\n",
       "    </tr>\n",
       "  </tbody>\n",
       "</table>\n",
       "<p>2289 rows × 7 columns</p>\n",
       "</div>"
      ],
      "text/plain": [
       "             Ensembl_ID  log1p_diff    T stat       p_value     gene_name  \\\n",
       "2135  ENSG00000211911.1   -1.338808 -8.223607  4.256752e-14      IGHD3-22   \n",
       "2172  ENSG00000211941.3   -3.033411 -7.740083  5.362804e-12      IGHV3-11   \n",
       "2188  ENSG00000253957.1   -0.560431 -7.269396  1.421840e-11      IGHV3-22   \n",
       "2112  ENSG00000211898.6   -1.856373 -7.246155  1.861155e-11          IGHD   \n",
       "1407  ENSG00000259124.1   -0.238446 -7.050480  6.088311e-11  RP11-187O7.3   \n",
       "...                 ...         ...       ...           ...           ...   \n",
       "2108  ENSG00000278556.1    0.000000       NaN           NaN    AL122127.3   \n",
       "2121  ENSG00000211900.2    0.000000       NaN           NaN         IGHJ6   \n",
       "2123  ENSG00000242472.1    0.000000       NaN           NaN         IGHJ5   \n",
       "2124  ENSG00000240041.1    0.000000       NaN           NaN         IGHJ4   \n",
       "2254  ENSG00000280494.1    0.000000       NaN           NaN    AC245369.3   \n",
       "\n",
       "      corrected_threshold  H0 rejected  \n",
       "2135             0.000022         True  \n",
       "2172             0.000044         True  \n",
       "2188             0.000066         True  \n",
       "2112             0.000087         True  \n",
       "1407             0.000109         True  \n",
       "...                   ...          ...  \n",
       "2108             0.049913        False  \n",
       "2121             0.049934        False  \n",
       "2123             0.049956        False  \n",
       "2124             0.049978        False  \n",
       "2254             0.050000        False  \n",
       "\n",
       "[2289 rows x 7 columns]"
      ]
     },
     "execution_count": 45,
     "metadata": {},
     "output_type": "execute_result"
    }
   ],
   "source": [
    "## Solution\n",
    "diffExpResults = diffExpResults.sort_values(\"p_value\")\n",
    "\n",
    "diffExpResults[\"corrected_threshold\"]=[(r/len(diffExpResults))*0.05 for r in range(len(diffExpResults)+1)[1:]]\n",
    "diffExpResults['H0 rejected'] = diffExpResults['p_value'] < diffExpResults['corrected_threshold']\n",
    "diffExpResults"
   ]
  },
  {
   "cell_type": "markdown",
   "metadata": {},
   "source": [
    "6) Combien de gènes différentiellement exprimés reste-t-il après cette correction?"
   ]
  },
  {
   "cell_type": "code",
   "execution_count": 46,
   "metadata": {},
   "outputs": [
    {
     "data": {
      "text/html": [
       "<div>\n",
       "<style scoped>\n",
       "    .dataframe tbody tr th:only-of-type {\n",
       "        vertical-align: middle;\n",
       "    }\n",
       "\n",
       "    .dataframe tbody tr th {\n",
       "        vertical-align: top;\n",
       "    }\n",
       "\n",
       "    .dataframe thead th {\n",
       "        text-align: right;\n",
       "    }\n",
       "</style>\n",
       "<table border=\"1\" class=\"dataframe\">\n",
       "  <thead>\n",
       "    <tr style=\"text-align: right;\">\n",
       "      <th></th>\n",
       "      <th>Ensembl_ID</th>\n",
       "      <th>log1p_diff</th>\n",
       "      <th>T stat</th>\n",
       "      <th>p_value</th>\n",
       "      <th>gene_name</th>\n",
       "      <th>corrected_threshold</th>\n",
       "      <th>H0 rejected</th>\n",
       "    </tr>\n",
       "  </thead>\n",
       "  <tbody>\n",
       "    <tr>\n",
       "      <th>2113</th>\n",
       "      <td>ENSG00000211899.6</td>\n",
       "      <td>-3.438130</td>\n",
       "      <td>-6.360826</td>\n",
       "      <td>1.361990e-08</td>\n",
       "      <td>IGHM</td>\n",
       "      <td>0.000393</td>\n",
       "      <td>True</td>\n",
       "    </tr>\n",
       "    <tr>\n",
       "      <th>2191</th>\n",
       "      <td>ENSG00000211949.3</td>\n",
       "      <td>-3.328866</td>\n",
       "      <td>-5.992284</td>\n",
       "      <td>5.759279e-08</td>\n",
       "      <td>IGHV3-23</td>\n",
       "      <td>0.000721</td>\n",
       "      <td>True</td>\n",
       "    </tr>\n",
       "    <tr>\n",
       "      <th>2183</th>\n",
       "      <td>ENSG00000211945.2</td>\n",
       "      <td>-3.140367</td>\n",
       "      <td>-5.387288</td>\n",
       "      <td>7.618754e-07</td>\n",
       "      <td>IGHV1-18</td>\n",
       "      <td>0.001726</td>\n",
       "      <td>True</td>\n",
       "    </tr>\n",
       "    <tr>\n",
       "      <th>2172</th>\n",
       "      <td>ENSG00000211941.3</td>\n",
       "      <td>-3.033411</td>\n",
       "      <td>-7.740083</td>\n",
       "      <td>5.362804e-12</td>\n",
       "      <td>IGHV3-11</td>\n",
       "      <td>0.000044</td>\n",
       "      <td>True</td>\n",
       "    </tr>\n",
       "    <tr>\n",
       "      <th>2203</th>\n",
       "      <td>ENSG00000270550.1</td>\n",
       "      <td>-2.985253</td>\n",
       "      <td>-5.880781</td>\n",
       "      <td>8.498874e-08</td>\n",
       "      <td>IGHV3-30</td>\n",
       "      <td>0.000874</td>\n",
       "      <td>True</td>\n",
       "    </tr>\n",
       "    <tr>\n",
       "      <th>...</th>\n",
       "      <td>...</td>\n",
       "      <td>...</td>\n",
       "      <td>...</td>\n",
       "      <td>...</td>\n",
       "      <td>...</td>\n",
       "      <td>...</td>\n",
       "      <td>...</td>\n",
       "    </tr>\n",
       "    <tr>\n",
       "      <th>156</th>\n",
       "      <td>ENSG00000165794.8</td>\n",
       "      <td>1.366532</td>\n",
       "      <td>4.525664</td>\n",
       "      <td>4.768882e-05</td>\n",
       "      <td>SLC39A2</td>\n",
       "      <td>0.003626</td>\n",
       "      <td>True</td>\n",
       "    </tr>\n",
       "    <tr>\n",
       "      <th>1187</th>\n",
       "      <td>ENSG00000139988.8</td>\n",
       "      <td>1.555879</td>\n",
       "      <td>4.524924</td>\n",
       "      <td>3.581887e-05</td>\n",
       "      <td>RDH12</td>\n",
       "      <td>0.003539</td>\n",
       "      <td>True</td>\n",
       "    </tr>\n",
       "    <tr>\n",
       "      <th>163</th>\n",
       "      <td>ENSG00000165799.4</td>\n",
       "      <td>1.628900</td>\n",
       "      <td>4.693965</td>\n",
       "      <td>2.926148e-05</td>\n",
       "      <td>RNASE7</td>\n",
       "      <td>0.003386</td>\n",
       "      <td>True</td>\n",
       "    </tr>\n",
       "    <tr>\n",
       "      <th>1131</th>\n",
       "      <td>ENSG00000176153.11</td>\n",
       "      <td>1.667518</td>\n",
       "      <td>5.222255</td>\n",
       "      <td>4.967779e-06</td>\n",
       "      <td>GPX2</td>\n",
       "      <td>0.002468</td>\n",
       "      <td>True</td>\n",
       "    </tr>\n",
       "    <tr>\n",
       "      <th>447</th>\n",
       "      <td>ENSG00000092295.10</td>\n",
       "      <td>2.159654</td>\n",
       "      <td>4.957346</td>\n",
       "      <td>1.160033e-05</td>\n",
       "      <td>TGM1</td>\n",
       "      <td>0.002818</td>\n",
       "      <td>True</td>\n",
       "    </tr>\n",
       "  </tbody>\n",
       "</table>\n",
       "<p>391 rows × 7 columns</p>\n",
       "</div>"
      ],
      "text/plain": [
       "              Ensembl_ID  log1p_diff    T stat       p_value gene_name  \\\n",
       "2113   ENSG00000211899.6   -3.438130 -6.360826  1.361990e-08      IGHM   \n",
       "2191   ENSG00000211949.3   -3.328866 -5.992284  5.759279e-08  IGHV3-23   \n",
       "2183   ENSG00000211945.2   -3.140367 -5.387288  7.618754e-07  IGHV1-18   \n",
       "2172   ENSG00000211941.3   -3.033411 -7.740083  5.362804e-12  IGHV3-11   \n",
       "2203   ENSG00000270550.1   -2.985253 -5.880781  8.498874e-08  IGHV3-30   \n",
       "...                  ...         ...       ...           ...       ...   \n",
       "156    ENSG00000165794.8    1.366532  4.525664  4.768882e-05   SLC39A2   \n",
       "1187   ENSG00000139988.8    1.555879  4.524924  3.581887e-05     RDH12   \n",
       "163    ENSG00000165799.4    1.628900  4.693965  2.926148e-05    RNASE7   \n",
       "1131  ENSG00000176153.11    1.667518  5.222255  4.967779e-06      GPX2   \n",
       "447   ENSG00000092295.10    2.159654  4.957346  1.160033e-05      TGM1   \n",
       "\n",
       "      corrected_threshold  H0 rejected  \n",
       "2113             0.000393         True  \n",
       "2191             0.000721         True  \n",
       "2183             0.001726         True  \n",
       "2172             0.000044         True  \n",
       "2203             0.000874         True  \n",
       "...                   ...          ...  \n",
       "156              0.003626         True  \n",
       "1187             0.003539         True  \n",
       "163              0.003386         True  \n",
       "1131             0.002468         True  \n",
       "447              0.002818         True  \n",
       "\n",
       "[391 rows x 7 columns]"
      ]
     },
     "execution_count": 46,
     "metadata": {},
     "output_type": "execute_result"
    }
   ],
   "source": [
    "diffExpResults[diffExpResults['H0 rejected']].sort_values('log1p_diff')"
   ]
  },
  {
   "cell_type": "markdown",
   "metadata": {},
   "source": [
    "## Partie 2: Analyse des biomarqueurs prédictifs de la survie des patients atteints de melanomes"
   ]
  },
  {
   "cell_type": "markdown",
   "metadata": {},
   "source": [
    "Nous allons travailler sur le fichier d'expression génique de la cohorte de patients atteints de mélanome que nous avons normalisé en TPM (`'TCGA-SKCM.htseq_tpm.csv'`)la semaine dernière et nous aurons également besoin du fichier d'annotations des gènes (`'gencode.v22.annotation.gene.probeMap.with.length.csv'`).\n",
    "\n",
    "Aujourd'hui, nous utiliserons en plus le fichier de suivi de la survie des patients de la cohorte (`'TCGA-SKCM.survival.tsv'`) que nous avons téléchargé à cette adresse: https://xenabrowser.net/datapages/?dataset=TCGA-SKCM.survival.tsv&host=https%3A%2F%2Fgdc.xenahubs.net&removeHub=https%3A%2F%2Fxena.treehouse.gi.ucsc.edu%3A443\n",
    "\n",
    "Nous avons mis à votre disposition ces fichiers dans le dossier UCSC_data.\n",
    "\n",
    "1) Charger ces fichiers dans des tableaux `smpCounts`, `geneAnnotation` et `survivalData`. Mettez en index (noms des lignes) la colonne `Ensembl_ID` pour `smpCounts`, `ìd` pour `geneAnnotations` et la colonne `sample`pour `survivalData`. On conservera la colonne d'index pour geneAnnotations et survivalData (option `drop=False`)."
   ]
  },
  {
   "cell_type": "code",
   "execution_count": 47,
   "metadata": {},
   "outputs": [
    {
     "data": {
      "text/html": [
       "<div>\n",
       "<style scoped>\n",
       "    .dataframe tbody tr th:only-of-type {\n",
       "        vertical-align: middle;\n",
       "    }\n",
       "\n",
       "    .dataframe tbody tr th {\n",
       "        vertical-align: top;\n",
       "    }\n",
       "\n",
       "    .dataframe thead th {\n",
       "        text-align: right;\n",
       "    }\n",
       "</style>\n",
       "<table border=\"1\" class=\"dataframe\">\n",
       "  <thead>\n",
       "    <tr style=\"text-align: right;\">\n",
       "      <th></th>\n",
       "      <th>TCGA-EE-A2GJ-06A</th>\n",
       "      <th>TCGA-EE-A2GI-06A</th>\n",
       "      <th>TCGA-WE-A8ZM-06A</th>\n",
       "      <th>TCGA-DA-A1IA-06A</th>\n",
       "      <th>TCGA-D3-A51H-06A</th>\n",
       "      <th>TCGA-XV-A9VZ-01A</th>\n",
       "      <th>TCGA-FS-A1ZE-06A</th>\n",
       "      <th>TCGA-D3-A51F-06A</th>\n",
       "      <th>TCGA-D3-A8GL-06A</th>\n",
       "      <th>TCGA-BF-A5EP-01A</th>\n",
       "      <th>...</th>\n",
       "      <th>TCGA-EE-A2GP-06A</th>\n",
       "      <th>TCGA-EE-A2M6-06A</th>\n",
       "      <th>TCGA-EE-A3AA-06A</th>\n",
       "      <th>TCGA-FS-A1ZF-06A</th>\n",
       "      <th>TCGA-D9-A6EC-06A</th>\n",
       "      <th>TCGA-FR-A8YC-06A</th>\n",
       "      <th>TCGA-EB-A4XL-01A</th>\n",
       "      <th>TCGA-EB-A551-01A</th>\n",
       "      <th>TCGA-EE-A3J4-06A</th>\n",
       "      <th>TCGA-EE-A3AC-06A</th>\n",
       "    </tr>\n",
       "    <tr>\n",
       "      <th>Ensembl_ID</th>\n",
       "      <th></th>\n",
       "      <th></th>\n",
       "      <th></th>\n",
       "      <th></th>\n",
       "      <th></th>\n",
       "      <th></th>\n",
       "      <th></th>\n",
       "      <th></th>\n",
       "      <th></th>\n",
       "      <th></th>\n",
       "      <th></th>\n",
       "      <th></th>\n",
       "      <th></th>\n",
       "      <th></th>\n",
       "      <th></th>\n",
       "      <th></th>\n",
       "      <th></th>\n",
       "      <th></th>\n",
       "      <th></th>\n",
       "      <th></th>\n",
       "      <th></th>\n",
       "    </tr>\n",
       "  </thead>\n",
       "  <tbody>\n",
       "    <tr>\n",
       "      <th>ENSG00000000003.13</th>\n",
       "      <td>5.492020</td>\n",
       "      <td>4.977245</td>\n",
       "      <td>5.686251</td>\n",
       "      <td>4.757404</td>\n",
       "      <td>2.896276</td>\n",
       "      <td>5.301672</td>\n",
       "      <td>3.461976</td>\n",
       "      <td>3.831496</td>\n",
       "      <td>3.257634</td>\n",
       "      <td>4.518998</td>\n",
       "      <td>...</td>\n",
       "      <td>5.462907</td>\n",
       "      <td>5.715717</td>\n",
       "      <td>2.391869</td>\n",
       "      <td>4.806537</td>\n",
       "      <td>5.116857</td>\n",
       "      <td>4.291547</td>\n",
       "      <td>5.300217</td>\n",
       "      <td>3.839361</td>\n",
       "      <td>4.953076</td>\n",
       "      <td>4.828908</td>\n",
       "    </tr>\n",
       "    <tr>\n",
       "      <th>ENSG00000000005.5</th>\n",
       "      <td>0.000000</td>\n",
       "      <td>0.080714</td>\n",
       "      <td>1.527938</td>\n",
       "      <td>0.000000</td>\n",
       "      <td>0.231093</td>\n",
       "      <td>0.950625</td>\n",
       "      <td>0.622636</td>\n",
       "      <td>0.050011</td>\n",
       "      <td>0.214703</td>\n",
       "      <td>0.048674</td>\n",
       "      <td>...</td>\n",
       "      <td>0.416431</td>\n",
       "      <td>0.222035</td>\n",
       "      <td>0.072866</td>\n",
       "      <td>0.153887</td>\n",
       "      <td>0.000000</td>\n",
       "      <td>0.246848</td>\n",
       "      <td>0.000000</td>\n",
       "      <td>0.000000</td>\n",
       "      <td>0.000000</td>\n",
       "      <td>0.000000</td>\n",
       "    </tr>\n",
       "    <tr>\n",
       "      <th>ENSG00000000419.11</th>\n",
       "      <td>5.523713</td>\n",
       "      <td>6.880899</td>\n",
       "      <td>6.772244</td>\n",
       "      <td>4.593481</td>\n",
       "      <td>5.942068</td>\n",
       "      <td>6.304230</td>\n",
       "      <td>6.840104</td>\n",
       "      <td>6.058202</td>\n",
       "      <td>7.133527</td>\n",
       "      <td>6.205951</td>\n",
       "      <td>...</td>\n",
       "      <td>6.885842</td>\n",
       "      <td>7.098479</td>\n",
       "      <td>7.013252</td>\n",
       "      <td>6.332303</td>\n",
       "      <td>7.159867</td>\n",
       "      <td>5.630500</td>\n",
       "      <td>5.661585</td>\n",
       "      <td>6.422101</td>\n",
       "      <td>5.906909</td>\n",
       "      <td>6.932407</td>\n",
       "    </tr>\n",
       "    <tr>\n",
       "      <th>ENSG00000000457.12</th>\n",
       "      <td>3.581697</td>\n",
       "      <td>3.684573</td>\n",
       "      <td>3.381051</td>\n",
       "      <td>2.580018</td>\n",
       "      <td>3.060895</td>\n",
       "      <td>3.472246</td>\n",
       "      <td>3.463646</td>\n",
       "      <td>2.999380</td>\n",
       "      <td>3.856717</td>\n",
       "      <td>2.408740</td>\n",
       "      <td>...</td>\n",
       "      <td>3.003973</td>\n",
       "      <td>2.610218</td>\n",
       "      <td>2.801962</td>\n",
       "      <td>3.428713</td>\n",
       "      <td>2.632950</td>\n",
       "      <td>3.355024</td>\n",
       "      <td>2.838872</td>\n",
       "      <td>2.727272</td>\n",
       "      <td>2.905733</td>\n",
       "      <td>3.779931</td>\n",
       "    </tr>\n",
       "    <tr>\n",
       "      <th>ENSG00000000460.15</th>\n",
       "      <td>3.514461</td>\n",
       "      <td>3.646168</td>\n",
       "      <td>2.500569</td>\n",
       "      <td>3.305690</td>\n",
       "      <td>2.613756</td>\n",
       "      <td>2.390197</td>\n",
       "      <td>2.825826</td>\n",
       "      <td>2.642469</td>\n",
       "      <td>3.841492</td>\n",
       "      <td>2.106094</td>\n",
       "      <td>...</td>\n",
       "      <td>3.156954</td>\n",
       "      <td>3.431138</td>\n",
       "      <td>3.542370</td>\n",
       "      <td>3.990699</td>\n",
       "      <td>2.928625</td>\n",
       "      <td>2.021066</td>\n",
       "      <td>2.125280</td>\n",
       "      <td>2.027202</td>\n",
       "      <td>2.524369</td>\n",
       "      <td>3.771591</td>\n",
       "    </tr>\n",
       "    <tr>\n",
       "      <th>...</th>\n",
       "      <td>...</td>\n",
       "      <td>...</td>\n",
       "      <td>...</td>\n",
       "      <td>...</td>\n",
       "      <td>...</td>\n",
       "      <td>...</td>\n",
       "      <td>...</td>\n",
       "      <td>...</td>\n",
       "      <td>...</td>\n",
       "      <td>...</td>\n",
       "      <td>...</td>\n",
       "      <td>...</td>\n",
       "      <td>...</td>\n",
       "      <td>...</td>\n",
       "      <td>...</td>\n",
       "      <td>...</td>\n",
       "      <td>...</td>\n",
       "      <td>...</td>\n",
       "      <td>...</td>\n",
       "      <td>...</td>\n",
       "      <td>...</td>\n",
       "    </tr>\n",
       "    <tr>\n",
       "      <th>ENSGR0000275287.3</th>\n",
       "      <td>0.000000</td>\n",
       "      <td>0.000000</td>\n",
       "      <td>0.000000</td>\n",
       "      <td>0.000000</td>\n",
       "      <td>0.000000</td>\n",
       "      <td>0.000000</td>\n",
       "      <td>0.000000</td>\n",
       "      <td>0.000000</td>\n",
       "      <td>0.000000</td>\n",
       "      <td>0.000000</td>\n",
       "      <td>...</td>\n",
       "      <td>0.000000</td>\n",
       "      <td>0.000000</td>\n",
       "      <td>0.000000</td>\n",
       "      <td>0.000000</td>\n",
       "      <td>0.000000</td>\n",
       "      <td>0.000000</td>\n",
       "      <td>0.000000</td>\n",
       "      <td>0.000000</td>\n",
       "      <td>0.000000</td>\n",
       "      <td>0.000000</td>\n",
       "    </tr>\n",
       "    <tr>\n",
       "      <th>ENSGR0000276543.3</th>\n",
       "      <td>0.000000</td>\n",
       "      <td>0.000000</td>\n",
       "      <td>0.000000</td>\n",
       "      <td>0.000000</td>\n",
       "      <td>0.000000</td>\n",
       "      <td>0.000000</td>\n",
       "      <td>0.000000</td>\n",
       "      <td>0.000000</td>\n",
       "      <td>0.000000</td>\n",
       "      <td>0.000000</td>\n",
       "      <td>...</td>\n",
       "      <td>0.000000</td>\n",
       "      <td>0.000000</td>\n",
       "      <td>0.000000</td>\n",
       "      <td>0.000000</td>\n",
       "      <td>0.000000</td>\n",
       "      <td>0.000000</td>\n",
       "      <td>0.000000</td>\n",
       "      <td>0.000000</td>\n",
       "      <td>0.000000</td>\n",
       "      <td>0.000000</td>\n",
       "    </tr>\n",
       "    <tr>\n",
       "      <th>ENSGR0000277120.3</th>\n",
       "      <td>0.000000</td>\n",
       "      <td>0.000000</td>\n",
       "      <td>0.000000</td>\n",
       "      <td>0.000000</td>\n",
       "      <td>0.000000</td>\n",
       "      <td>0.000000</td>\n",
       "      <td>0.000000</td>\n",
       "      <td>0.000000</td>\n",
       "      <td>0.000000</td>\n",
       "      <td>0.000000</td>\n",
       "      <td>...</td>\n",
       "      <td>0.000000</td>\n",
       "      <td>0.000000</td>\n",
       "      <td>0.000000</td>\n",
       "      <td>0.000000</td>\n",
       "      <td>0.000000</td>\n",
       "      <td>0.000000</td>\n",
       "      <td>0.000000</td>\n",
       "      <td>0.000000</td>\n",
       "      <td>0.000000</td>\n",
       "      <td>0.000000</td>\n",
       "    </tr>\n",
       "    <tr>\n",
       "      <th>ENSGR0000280767.1</th>\n",
       "      <td>0.000000</td>\n",
       "      <td>0.000000</td>\n",
       "      <td>0.000000</td>\n",
       "      <td>0.000000</td>\n",
       "      <td>0.000000</td>\n",
       "      <td>0.000000</td>\n",
       "      <td>0.000000</td>\n",
       "      <td>0.000000</td>\n",
       "      <td>0.000000</td>\n",
       "      <td>0.000000</td>\n",
       "      <td>...</td>\n",
       "      <td>0.000000</td>\n",
       "      <td>0.000000</td>\n",
       "      <td>0.000000</td>\n",
       "      <td>0.000000</td>\n",
       "      <td>0.000000</td>\n",
       "      <td>0.000000</td>\n",
       "      <td>0.000000</td>\n",
       "      <td>0.000000</td>\n",
       "      <td>0.000000</td>\n",
       "      <td>0.000000</td>\n",
       "    </tr>\n",
       "    <tr>\n",
       "      <th>ENSGR0000281849.1</th>\n",
       "      <td>0.000000</td>\n",
       "      <td>0.000000</td>\n",
       "      <td>0.000000</td>\n",
       "      <td>0.000000</td>\n",
       "      <td>0.000000</td>\n",
       "      <td>0.000000</td>\n",
       "      <td>0.000000</td>\n",
       "      <td>0.000000</td>\n",
       "      <td>0.000000</td>\n",
       "      <td>0.000000</td>\n",
       "      <td>...</td>\n",
       "      <td>0.000000</td>\n",
       "      <td>0.000000</td>\n",
       "      <td>0.000000</td>\n",
       "      <td>0.000000</td>\n",
       "      <td>0.000000</td>\n",
       "      <td>0.000000</td>\n",
       "      <td>0.000000</td>\n",
       "      <td>0.000000</td>\n",
       "      <td>0.000000</td>\n",
       "      <td>0.000000</td>\n",
       "    </tr>\n",
       "  </tbody>\n",
       "</table>\n",
       "<p>60483 rows × 472 columns</p>\n",
       "</div>"
      ],
      "text/plain": [
       "                    TCGA-EE-A2GJ-06A  TCGA-EE-A2GI-06A  TCGA-WE-A8ZM-06A  \\\n",
       "Ensembl_ID                                                                 \n",
       "ENSG00000000003.13          5.492020          4.977245          5.686251   \n",
       "ENSG00000000005.5           0.000000          0.080714          1.527938   \n",
       "ENSG00000000419.11          5.523713          6.880899          6.772244   \n",
       "ENSG00000000457.12          3.581697          3.684573          3.381051   \n",
       "ENSG00000000460.15          3.514461          3.646168          2.500569   \n",
       "...                              ...               ...               ...   \n",
       "ENSGR0000275287.3           0.000000          0.000000          0.000000   \n",
       "ENSGR0000276543.3           0.000000          0.000000          0.000000   \n",
       "ENSGR0000277120.3           0.000000          0.000000          0.000000   \n",
       "ENSGR0000280767.1           0.000000          0.000000          0.000000   \n",
       "ENSGR0000281849.1           0.000000          0.000000          0.000000   \n",
       "\n",
       "                    TCGA-DA-A1IA-06A  TCGA-D3-A51H-06A  TCGA-XV-A9VZ-01A  \\\n",
       "Ensembl_ID                                                                 \n",
       "ENSG00000000003.13          4.757404          2.896276          5.301672   \n",
       "ENSG00000000005.5           0.000000          0.231093          0.950625   \n",
       "ENSG00000000419.11          4.593481          5.942068          6.304230   \n",
       "ENSG00000000457.12          2.580018          3.060895          3.472246   \n",
       "ENSG00000000460.15          3.305690          2.613756          2.390197   \n",
       "...                              ...               ...               ...   \n",
       "ENSGR0000275287.3           0.000000          0.000000          0.000000   \n",
       "ENSGR0000276543.3           0.000000          0.000000          0.000000   \n",
       "ENSGR0000277120.3           0.000000          0.000000          0.000000   \n",
       "ENSGR0000280767.1           0.000000          0.000000          0.000000   \n",
       "ENSGR0000281849.1           0.000000          0.000000          0.000000   \n",
       "\n",
       "                    TCGA-FS-A1ZE-06A  TCGA-D3-A51F-06A  TCGA-D3-A8GL-06A  \\\n",
       "Ensembl_ID                                                                 \n",
       "ENSG00000000003.13          3.461976          3.831496          3.257634   \n",
       "ENSG00000000005.5           0.622636          0.050011          0.214703   \n",
       "ENSG00000000419.11          6.840104          6.058202          7.133527   \n",
       "ENSG00000000457.12          3.463646          2.999380          3.856717   \n",
       "ENSG00000000460.15          2.825826          2.642469          3.841492   \n",
       "...                              ...               ...               ...   \n",
       "ENSGR0000275287.3           0.000000          0.000000          0.000000   \n",
       "ENSGR0000276543.3           0.000000          0.000000          0.000000   \n",
       "ENSGR0000277120.3           0.000000          0.000000          0.000000   \n",
       "ENSGR0000280767.1           0.000000          0.000000          0.000000   \n",
       "ENSGR0000281849.1           0.000000          0.000000          0.000000   \n",
       "\n",
       "                    TCGA-BF-A5EP-01A  ...  TCGA-EE-A2GP-06A  TCGA-EE-A2M6-06A  \\\n",
       "Ensembl_ID                            ...                                       \n",
       "ENSG00000000003.13          4.518998  ...          5.462907          5.715717   \n",
       "ENSG00000000005.5           0.048674  ...          0.416431          0.222035   \n",
       "ENSG00000000419.11          6.205951  ...          6.885842          7.098479   \n",
       "ENSG00000000457.12          2.408740  ...          3.003973          2.610218   \n",
       "ENSG00000000460.15          2.106094  ...          3.156954          3.431138   \n",
       "...                              ...  ...               ...               ...   \n",
       "ENSGR0000275287.3           0.000000  ...          0.000000          0.000000   \n",
       "ENSGR0000276543.3           0.000000  ...          0.000000          0.000000   \n",
       "ENSGR0000277120.3           0.000000  ...          0.000000          0.000000   \n",
       "ENSGR0000280767.1           0.000000  ...          0.000000          0.000000   \n",
       "ENSGR0000281849.1           0.000000  ...          0.000000          0.000000   \n",
       "\n",
       "                    TCGA-EE-A3AA-06A  TCGA-FS-A1ZF-06A  TCGA-D9-A6EC-06A  \\\n",
       "Ensembl_ID                                                                 \n",
       "ENSG00000000003.13          2.391869          4.806537          5.116857   \n",
       "ENSG00000000005.5           0.072866          0.153887          0.000000   \n",
       "ENSG00000000419.11          7.013252          6.332303          7.159867   \n",
       "ENSG00000000457.12          2.801962          3.428713          2.632950   \n",
       "ENSG00000000460.15          3.542370          3.990699          2.928625   \n",
       "...                              ...               ...               ...   \n",
       "ENSGR0000275287.3           0.000000          0.000000          0.000000   \n",
       "ENSGR0000276543.3           0.000000          0.000000          0.000000   \n",
       "ENSGR0000277120.3           0.000000          0.000000          0.000000   \n",
       "ENSGR0000280767.1           0.000000          0.000000          0.000000   \n",
       "ENSGR0000281849.1           0.000000          0.000000          0.000000   \n",
       "\n",
       "                    TCGA-FR-A8YC-06A  TCGA-EB-A4XL-01A  TCGA-EB-A551-01A  \\\n",
       "Ensembl_ID                                                                 \n",
       "ENSG00000000003.13          4.291547          5.300217          3.839361   \n",
       "ENSG00000000005.5           0.246848          0.000000          0.000000   \n",
       "ENSG00000000419.11          5.630500          5.661585          6.422101   \n",
       "ENSG00000000457.12          3.355024          2.838872          2.727272   \n",
       "ENSG00000000460.15          2.021066          2.125280          2.027202   \n",
       "...                              ...               ...               ...   \n",
       "ENSGR0000275287.3           0.000000          0.000000          0.000000   \n",
       "ENSGR0000276543.3           0.000000          0.000000          0.000000   \n",
       "ENSGR0000277120.3           0.000000          0.000000          0.000000   \n",
       "ENSGR0000280767.1           0.000000          0.000000          0.000000   \n",
       "ENSGR0000281849.1           0.000000          0.000000          0.000000   \n",
       "\n",
       "                    TCGA-EE-A3J4-06A  TCGA-EE-A3AC-06A  \n",
       "Ensembl_ID                                              \n",
       "ENSG00000000003.13          4.953076          4.828908  \n",
       "ENSG00000000005.5           0.000000          0.000000  \n",
       "ENSG00000000419.11          5.906909          6.932407  \n",
       "ENSG00000000457.12          2.905733          3.779931  \n",
       "ENSG00000000460.15          2.524369          3.771591  \n",
       "...                              ...               ...  \n",
       "ENSGR0000275287.3           0.000000          0.000000  \n",
       "ENSGR0000276543.3           0.000000          0.000000  \n",
       "ENSGR0000277120.3           0.000000          0.000000  \n",
       "ENSGR0000280767.1           0.000000          0.000000  \n",
       "ENSGR0000281849.1           0.000000          0.000000  \n",
       "\n",
       "[60483 rows x 472 columns]"
      ]
     },
     "execution_count": 47,
     "metadata": {},
     "output_type": "execute_result"
    }
   ],
   "source": [
    "smpCounts = pd.read_csv('../UCSC_data/TCGA-SKCM.htseq_tpm.csv')\n",
    "smpCounts = smpCounts.set_index('Ensembl_ID') #his will drop Ensembl_ID column\n",
    "smpCounts"
   ]
  },
  {
   "cell_type": "code",
   "execution_count": 48,
   "metadata": {},
   "outputs": [
    {
     "data": {
      "text/html": [
       "<div>\n",
       "<style scoped>\n",
       "    .dataframe tbody tr th:only-of-type {\n",
       "        vertical-align: middle;\n",
       "    }\n",
       "\n",
       "    .dataframe tbody tr th {\n",
       "        vertical-align: top;\n",
       "    }\n",
       "\n",
       "    .dataframe thead th {\n",
       "        text-align: right;\n",
       "    }\n",
       "</style>\n",
       "<table border=\"1\" class=\"dataframe\">\n",
       "  <thead>\n",
       "    <tr style=\"text-align: right;\">\n",
       "      <th></th>\n",
       "      <th>gene</th>\n",
       "      <th>chrom</th>\n",
       "      <th>chromStart</th>\n",
       "      <th>chromEnd</th>\n",
       "      <th>strand</th>\n",
       "      <th>gene_length</th>\n",
       "    </tr>\n",
       "    <tr>\n",
       "      <th>id</th>\n",
       "      <th></th>\n",
       "      <th></th>\n",
       "      <th></th>\n",
       "      <th></th>\n",
       "      <th></th>\n",
       "      <th></th>\n",
       "    </tr>\n",
       "  </thead>\n",
       "  <tbody>\n",
       "    <tr>\n",
       "      <th>ENSG00000223972.5</th>\n",
       "      <td>DDX11L1</td>\n",
       "      <td>chr1</td>\n",
       "      <td>11869</td>\n",
       "      <td>14409</td>\n",
       "      <td>+</td>\n",
       "      <td>1735</td>\n",
       "    </tr>\n",
       "    <tr>\n",
       "      <th>ENSG00000227232.5</th>\n",
       "      <td>WASH7P</td>\n",
       "      <td>chr1</td>\n",
       "      <td>14404</td>\n",
       "      <td>29570</td>\n",
       "      <td>-</td>\n",
       "      <td>1351</td>\n",
       "    </tr>\n",
       "    <tr>\n",
       "      <th>ENSG00000278267.1</th>\n",
       "      <td>MIR6859-3</td>\n",
       "      <td>chr1</td>\n",
       "      <td>17369</td>\n",
       "      <td>17436</td>\n",
       "      <td>-</td>\n",
       "      <td>68</td>\n",
       "    </tr>\n",
       "    <tr>\n",
       "      <th>ENSG00000243485.3</th>\n",
       "      <td>RP11-34P13.3</td>\n",
       "      <td>chr1</td>\n",
       "      <td>29554</td>\n",
       "      <td>31109</td>\n",
       "      <td>+</td>\n",
       "      <td>1021</td>\n",
       "    </tr>\n",
       "    <tr>\n",
       "      <th>ENSG00000274890.1</th>\n",
       "      <td>MIR1302-9</td>\n",
       "      <td>chr1</td>\n",
       "      <td>30366</td>\n",
       "      <td>30503</td>\n",
       "      <td>+</td>\n",
       "      <td>138</td>\n",
       "    </tr>\n",
       "    <tr>\n",
       "      <th>...</th>\n",
       "      <td>...</td>\n",
       "      <td>...</td>\n",
       "      <td>...</td>\n",
       "      <td>...</td>\n",
       "      <td>...</td>\n",
       "      <td>...</td>\n",
       "    </tr>\n",
       "    <tr>\n",
       "      <th>ENSG00000198695.2</th>\n",
       "      <td>MT-ND6</td>\n",
       "      <td>chrM</td>\n",
       "      <td>14149</td>\n",
       "      <td>14673</td>\n",
       "      <td>-</td>\n",
       "      <td>525</td>\n",
       "    </tr>\n",
       "    <tr>\n",
       "      <th>ENSG00000210194.1</th>\n",
       "      <td>MT-TE</td>\n",
       "      <td>chrM</td>\n",
       "      <td>14674</td>\n",
       "      <td>14742</td>\n",
       "      <td>-</td>\n",
       "      <td>69</td>\n",
       "    </tr>\n",
       "    <tr>\n",
       "      <th>ENSG00000198727.2</th>\n",
       "      <td>MT-CYB</td>\n",
       "      <td>chrM</td>\n",
       "      <td>14747</td>\n",
       "      <td>15887</td>\n",
       "      <td>+</td>\n",
       "      <td>1141</td>\n",
       "    </tr>\n",
       "    <tr>\n",
       "      <th>ENSG00000210195.2</th>\n",
       "      <td>MT-TT</td>\n",
       "      <td>chrM</td>\n",
       "      <td>15888</td>\n",
       "      <td>15953</td>\n",
       "      <td>+</td>\n",
       "      <td>66</td>\n",
       "    </tr>\n",
       "    <tr>\n",
       "      <th>ENSG00000210196.2</th>\n",
       "      <td>MT-TP</td>\n",
       "      <td>chrM</td>\n",
       "      <td>15956</td>\n",
       "      <td>16023</td>\n",
       "      <td>-</td>\n",
       "      <td>68</td>\n",
       "    </tr>\n",
       "  </tbody>\n",
       "</table>\n",
       "<p>60483 rows × 6 columns</p>\n",
       "</div>"
      ],
      "text/plain": [
       "                           gene chrom  chromStart  chromEnd strand  \\\n",
       "id                                                                   \n",
       "ENSG00000223972.5       DDX11L1  chr1       11869     14409      +   \n",
       "ENSG00000227232.5        WASH7P  chr1       14404     29570      -   \n",
       "ENSG00000278267.1     MIR6859-3  chr1       17369     17436      -   \n",
       "ENSG00000243485.3  RP11-34P13.3  chr1       29554     31109      +   \n",
       "ENSG00000274890.1     MIR1302-9  chr1       30366     30503      +   \n",
       "...                         ...   ...         ...       ...    ...   \n",
       "ENSG00000198695.2        MT-ND6  chrM       14149     14673      -   \n",
       "ENSG00000210194.1         MT-TE  chrM       14674     14742      -   \n",
       "ENSG00000198727.2        MT-CYB  chrM       14747     15887      +   \n",
       "ENSG00000210195.2         MT-TT  chrM       15888     15953      +   \n",
       "ENSG00000210196.2         MT-TP  chrM       15956     16023      -   \n",
       "\n",
       "                   gene_length  \n",
       "id                              \n",
       "ENSG00000223972.5         1735  \n",
       "ENSG00000227232.5         1351  \n",
       "ENSG00000278267.1           68  \n",
       "ENSG00000243485.3         1021  \n",
       "ENSG00000274890.1          138  \n",
       "...                        ...  \n",
       "ENSG00000198695.2          525  \n",
       "ENSG00000210194.1           69  \n",
       "ENSG00000198727.2         1141  \n",
       "ENSG00000210195.2           66  \n",
       "ENSG00000210196.2           68  \n",
       "\n",
       "[60483 rows x 6 columns]"
      ]
     },
     "execution_count": 48,
     "metadata": {},
     "output_type": "execute_result"
    }
   ],
   "source": [
    "geneAnnotations = pd.read_csv('../UCSC_data/gencode.v22.annotation.gene.probeMap.with.length.csv')\n",
    "geneAnnotations = geneAnnotations.set_index('id') #this will drop Ensembl_ID column\n",
    "geneAnnotations"
   ]
  },
  {
   "cell_type": "markdown",
   "metadata": {},
   "source": [
    "Dans `survivalData` la colonne `OS` correspond au dernier status vital connu du patient: 1 s'il était mort, 0 s'il etait en vie.\n",
    "La colonne `OS.time` correspond au temps de survie mesuré en jours du patient jusqu'à sa mort (si `OS=1`), jusqu'à la fin de l'étude s'il était à ce moment là toujours en vie, ou jusqu'à ce qu'il quitte l'étude avant la fin de celle ci (si `OS=0`).\n"
   ]
  },
  {
   "cell_type": "code",
   "execution_count": 49,
   "metadata": {},
   "outputs": [
    {
     "data": {
      "text/html": [
       "<div>\n",
       "<style scoped>\n",
       "    .dataframe tbody tr th:only-of-type {\n",
       "        vertical-align: middle;\n",
       "    }\n",
       "\n",
       "    .dataframe tbody tr th {\n",
       "        vertical-align: top;\n",
       "    }\n",
       "\n",
       "    .dataframe thead th {\n",
       "        text-align: right;\n",
       "    }\n",
       "</style>\n",
       "<table border=\"1\" class=\"dataframe\">\n",
       "  <thead>\n",
       "    <tr style=\"text-align: right;\">\n",
       "      <th></th>\n",
       "      <th>OS</th>\n",
       "      <th>_PATIENT</th>\n",
       "      <th>OS.time</th>\n",
       "    </tr>\n",
       "    <tr>\n",
       "      <th>sample</th>\n",
       "      <th></th>\n",
       "      <th></th>\n",
       "      <th></th>\n",
       "    </tr>\n",
       "  </thead>\n",
       "  <tbody>\n",
       "    <tr>\n",
       "      <th>TCGA-RP-A690-06A</th>\n",
       "      <td>0</td>\n",
       "      <td>TCGA-RP-A690</td>\n",
       "      <td>6</td>\n",
       "    </tr>\n",
       "    <tr>\n",
       "      <th>TCGA-HR-A2OG-06A</th>\n",
       "      <td>0</td>\n",
       "      <td>TCGA-HR-A2OG</td>\n",
       "      <td>7</td>\n",
       "    </tr>\n",
       "    <tr>\n",
       "      <th>TCGA-RP-A693-06A</th>\n",
       "      <td>0</td>\n",
       "      <td>TCGA-RP-A693</td>\n",
       "      <td>10</td>\n",
       "    </tr>\n",
       "    <tr>\n",
       "      <th>TCGA-BF-A1PV-01A</th>\n",
       "      <td>0</td>\n",
       "      <td>TCGA-BF-A1PV</td>\n",
       "      <td>14</td>\n",
       "    </tr>\n",
       "    <tr>\n",
       "      <th>TCGA-EB-A82C-01A</th>\n",
       "      <td>0</td>\n",
       "      <td>TCGA-EB-A82C</td>\n",
       "      <td>17</td>\n",
       "    </tr>\n",
       "    <tr>\n",
       "      <th>...</th>\n",
       "      <td>...</td>\n",
       "      <td>...</td>\n",
       "      <td>...</td>\n",
       "    </tr>\n",
       "    <tr>\n",
       "      <th>TCGA-ER-A19G-06A</th>\n",
       "      <td>0</td>\n",
       "      <td>TCGA-ER-A19G</td>\n",
       "      <td>9188</td>\n",
       "    </tr>\n",
       "    <tr>\n",
       "      <th>TCGA-EE-A2GD-06A</th>\n",
       "      <td>1</td>\n",
       "      <td>TCGA-EE-A2GD</td>\n",
       "      <td>10346</td>\n",
       "    </tr>\n",
       "    <tr>\n",
       "      <th>TCGA-FS-A1ZC-06A</th>\n",
       "      <td>1</td>\n",
       "      <td>TCGA-FS-A1ZC</td>\n",
       "      <td>10870</td>\n",
       "    </tr>\n",
       "    <tr>\n",
       "      <th>TCGA-LH-A9QB-06A</th>\n",
       "      <td>0</td>\n",
       "      <td>TCGA-LH-A9QB</td>\n",
       "      <td>11217</td>\n",
       "    </tr>\n",
       "    <tr>\n",
       "      <th>TCGA-EE-A29T-06A</th>\n",
       "      <td>0</td>\n",
       "      <td>TCGA-EE-A29T</td>\n",
       "      <td>11252</td>\n",
       "    </tr>\n",
       "  </tbody>\n",
       "</table>\n",
       "<p>463 rows × 3 columns</p>\n",
       "</div>"
      ],
      "text/plain": [
       "                  OS      _PATIENT  OS.time\n",
       "sample                                     \n",
       "TCGA-RP-A690-06A   0  TCGA-RP-A690        6\n",
       "TCGA-HR-A2OG-06A   0  TCGA-HR-A2OG        7\n",
       "TCGA-RP-A693-06A   0  TCGA-RP-A693       10\n",
       "TCGA-BF-A1PV-01A   0  TCGA-BF-A1PV       14\n",
       "TCGA-EB-A82C-01A   0  TCGA-EB-A82C       17\n",
       "...               ..           ...      ...\n",
       "TCGA-ER-A19G-06A   0  TCGA-ER-A19G     9188\n",
       "TCGA-EE-A2GD-06A   1  TCGA-EE-A2GD    10346\n",
       "TCGA-FS-A1ZC-06A   1  TCGA-FS-A1ZC    10870\n",
       "TCGA-LH-A9QB-06A   0  TCGA-LH-A9QB    11217\n",
       "TCGA-EE-A29T-06A   0  TCGA-EE-A29T    11252\n",
       "\n",
       "[463 rows x 3 columns]"
      ]
     },
     "execution_count": 49,
     "metadata": {},
     "output_type": "execute_result"
    }
   ],
   "source": [
    "survivalData = pd.read_table('../UCSC_data/TCGA-SKCM.survival.tsv',sep=\"\\t\")\n",
    "survivalData = survivalData.set_index('sample')\n",
    "survivalData"
   ]
  },
  {
   "cell_type": "markdown",
   "metadata": {},
   "source": [
    "La recherche des biomarqueurs de survie dans l'ensemble des gènes séquencés étant assez longue sur un ordinateur standard, nous ne travaillerons aujourd'hui qu'avec les gènes du chromosome 11.\n",
    "\n",
    "2) En utilisant le tableau `geneAnnotations` ne conservez dans `smpCounts`que les gènes présents sur le chromosome 11"
   ]
  },
  {
   "cell_type": "code",
   "execution_count": 50,
   "metadata": {},
   "outputs": [
    {
     "data": {
      "text/html": [
       "<div>\n",
       "<style scoped>\n",
       "    .dataframe tbody tr th:only-of-type {\n",
       "        vertical-align: middle;\n",
       "    }\n",
       "\n",
       "    .dataframe tbody tr th {\n",
       "        vertical-align: top;\n",
       "    }\n",
       "\n",
       "    .dataframe thead th {\n",
       "        text-align: right;\n",
       "    }\n",
       "</style>\n",
       "<table border=\"1\" class=\"dataframe\">\n",
       "  <thead>\n",
       "    <tr style=\"text-align: right;\">\n",
       "      <th></th>\n",
       "      <th>TCGA-EE-A2GJ-06A</th>\n",
       "      <th>TCGA-EE-A2GI-06A</th>\n",
       "      <th>TCGA-WE-A8ZM-06A</th>\n",
       "      <th>TCGA-DA-A1IA-06A</th>\n",
       "      <th>TCGA-D3-A51H-06A</th>\n",
       "      <th>TCGA-XV-A9VZ-01A</th>\n",
       "      <th>TCGA-FS-A1ZE-06A</th>\n",
       "      <th>TCGA-D3-A51F-06A</th>\n",
       "      <th>TCGA-D3-A8GL-06A</th>\n",
       "      <th>TCGA-BF-A5EP-01A</th>\n",
       "      <th>...</th>\n",
       "      <th>TCGA-EE-A2GP-06A</th>\n",
       "      <th>TCGA-EE-A2M6-06A</th>\n",
       "      <th>TCGA-EE-A3AA-06A</th>\n",
       "      <th>TCGA-FS-A1ZF-06A</th>\n",
       "      <th>TCGA-D9-A6EC-06A</th>\n",
       "      <th>TCGA-FR-A8YC-06A</th>\n",
       "      <th>TCGA-EB-A4XL-01A</th>\n",
       "      <th>TCGA-EB-A551-01A</th>\n",
       "      <th>TCGA-EE-A3J4-06A</th>\n",
       "      <th>TCGA-EE-A3AC-06A</th>\n",
       "    </tr>\n",
       "    <tr>\n",
       "      <th>Ensembl_ID</th>\n",
       "      <th></th>\n",
       "      <th></th>\n",
       "      <th></th>\n",
       "      <th></th>\n",
       "      <th></th>\n",
       "      <th></th>\n",
       "      <th></th>\n",
       "      <th></th>\n",
       "      <th></th>\n",
       "      <th></th>\n",
       "      <th></th>\n",
       "      <th></th>\n",
       "      <th></th>\n",
       "      <th></th>\n",
       "      <th></th>\n",
       "      <th></th>\n",
       "      <th></th>\n",
       "      <th></th>\n",
       "      <th></th>\n",
       "      <th></th>\n",
       "      <th></th>\n",
       "    </tr>\n",
       "  </thead>\n",
       "  <tbody>\n",
       "    <tr>\n",
       "      <th>ENSG00000253826.1</th>\n",
       "      <td>0.000000</td>\n",
       "      <td>0.000000</td>\n",
       "      <td>0.000000</td>\n",
       "      <td>0.000000</td>\n",
       "      <td>0.000000</td>\n",
       "      <td>0.000000</td>\n",
       "      <td>0.000000</td>\n",
       "      <td>0.000000</td>\n",
       "      <td>0.000000</td>\n",
       "      <td>0.000000</td>\n",
       "      <td>...</td>\n",
       "      <td>0.000000</td>\n",
       "      <td>0.000000</td>\n",
       "      <td>0.000000</td>\n",
       "      <td>0.000000</td>\n",
       "      <td>0.000000</td>\n",
       "      <td>0.000000</td>\n",
       "      <td>0.000000</td>\n",
       "      <td>0.000000</td>\n",
       "      <td>0.000000</td>\n",
       "      <td>0.000000</td>\n",
       "    </tr>\n",
       "    <tr>\n",
       "      <th>ENSG00000224777.3</th>\n",
       "      <td>0.000000</td>\n",
       "      <td>0.000000</td>\n",
       "      <td>0.000000</td>\n",
       "      <td>0.000000</td>\n",
       "      <td>0.000000</td>\n",
       "      <td>0.000000</td>\n",
       "      <td>0.000000</td>\n",
       "      <td>0.000000</td>\n",
       "      <td>0.000000</td>\n",
       "      <td>0.000000</td>\n",
       "      <td>...</td>\n",
       "      <td>0.000000</td>\n",
       "      <td>0.000000</td>\n",
       "      <td>0.000000</td>\n",
       "      <td>0.000000</td>\n",
       "      <td>0.000000</td>\n",
       "      <td>0.000000</td>\n",
       "      <td>0.000000</td>\n",
       "      <td>0.000000</td>\n",
       "      <td>0.000000</td>\n",
       "      <td>0.000000</td>\n",
       "    </tr>\n",
       "    <tr>\n",
       "      <th>ENSG00000254468.2</th>\n",
       "      <td>0.000000</td>\n",
       "      <td>0.000000</td>\n",
       "      <td>0.000000</td>\n",
       "      <td>0.000000</td>\n",
       "      <td>0.000000</td>\n",
       "      <td>0.000000</td>\n",
       "      <td>0.000000</td>\n",
       "      <td>0.000000</td>\n",
       "      <td>0.000000</td>\n",
       "      <td>0.000000</td>\n",
       "      <td>...</td>\n",
       "      <td>0.000000</td>\n",
       "      <td>0.000000</td>\n",
       "      <td>0.000000</td>\n",
       "      <td>0.000000</td>\n",
       "      <td>0.000000</td>\n",
       "      <td>0.000000</td>\n",
       "      <td>0.000000</td>\n",
       "      <td>0.000000</td>\n",
       "      <td>0.000000</td>\n",
       "      <td>0.000000</td>\n",
       "    </tr>\n",
       "    <tr>\n",
       "      <th>ENSG00000270921.1</th>\n",
       "      <td>0.000000</td>\n",
       "      <td>0.000000</td>\n",
       "      <td>0.065024</td>\n",
       "      <td>0.000000</td>\n",
       "      <td>0.036342</td>\n",
       "      <td>0.000000</td>\n",
       "      <td>0.026654</td>\n",
       "      <td>0.000000</td>\n",
       "      <td>0.000000</td>\n",
       "      <td>0.000000</td>\n",
       "      <td>...</td>\n",
       "      <td>0.039950</td>\n",
       "      <td>0.000000</td>\n",
       "      <td>0.000000</td>\n",
       "      <td>0.023652</td>\n",
       "      <td>0.000000</td>\n",
       "      <td>0.039002</td>\n",
       "      <td>0.063765</td>\n",
       "      <td>0.082351</td>\n",
       "      <td>0.000000</td>\n",
       "      <td>0.000000</td>\n",
       "    </tr>\n",
       "    <tr>\n",
       "      <th>ENSG00000230724.8</th>\n",
       "      <td>0.432452</td>\n",
       "      <td>0.211028</td>\n",
       "      <td>1.130904</td>\n",
       "      <td>0.185336</td>\n",
       "      <td>0.895027</td>\n",
       "      <td>1.007231</td>\n",
       "      <td>0.356998</td>\n",
       "      <td>0.884961</td>\n",
       "      <td>0.513986</td>\n",
       "      <td>0.490177</td>\n",
       "      <td>...</td>\n",
       "      <td>0.734953</td>\n",
       "      <td>0.372154</td>\n",
       "      <td>0.384525</td>\n",
       "      <td>0.899274</td>\n",
       "      <td>0.150108</td>\n",
       "      <td>1.001449</td>\n",
       "      <td>0.617866</td>\n",
       "      <td>1.512543</td>\n",
       "      <td>0.604252</td>\n",
       "      <td>0.615044</td>\n",
       "    </tr>\n",
       "    <tr>\n",
       "      <th>...</th>\n",
       "      <td>...</td>\n",
       "      <td>...</td>\n",
       "      <td>...</td>\n",
       "      <td>...</td>\n",
       "      <td>...</td>\n",
       "      <td>...</td>\n",
       "      <td>...</td>\n",
       "      <td>...</td>\n",
       "      <td>...</td>\n",
       "      <td>...</td>\n",
       "      <td>...</td>\n",
       "      <td>...</td>\n",
       "      <td>...</td>\n",
       "      <td>...</td>\n",
       "      <td>...</td>\n",
       "      <td>...</td>\n",
       "      <td>...</td>\n",
       "      <td>...</td>\n",
       "      <td>...</td>\n",
       "      <td>...</td>\n",
       "      <td>...</td>\n",
       "    </tr>\n",
       "    <tr>\n",
       "      <th>ENSG00000255344.1</th>\n",
       "      <td>0.000000</td>\n",
       "      <td>0.000000</td>\n",
       "      <td>0.000000</td>\n",
       "      <td>0.000000</td>\n",
       "      <td>0.000000</td>\n",
       "      <td>0.000000</td>\n",
       "      <td>0.000000</td>\n",
       "      <td>0.000000</td>\n",
       "      <td>0.000000</td>\n",
       "      <td>0.000000</td>\n",
       "      <td>...</td>\n",
       "      <td>0.000000</td>\n",
       "      <td>0.305082</td>\n",
       "      <td>0.000000</td>\n",
       "      <td>0.000000</td>\n",
       "      <td>0.000000</td>\n",
       "      <td>0.000000</td>\n",
       "      <td>0.000000</td>\n",
       "      <td>0.000000</td>\n",
       "      <td>0.000000</td>\n",
       "      <td>0.000000</td>\n",
       "    </tr>\n",
       "    <tr>\n",
       "      <th>ENSG00000251226.1</th>\n",
       "      <td>0.000000</td>\n",
       "      <td>1.237527</td>\n",
       "      <td>0.000000</td>\n",
       "      <td>0.099129</td>\n",
       "      <td>0.027126</td>\n",
       "      <td>0.054947</td>\n",
       "      <td>0.000000</td>\n",
       "      <td>0.065221</td>\n",
       "      <td>2.528232</td>\n",
       "      <td>0.021474</td>\n",
       "      <td>...</td>\n",
       "      <td>0.000000</td>\n",
       "      <td>1.479591</td>\n",
       "      <td>0.094802</td>\n",
       "      <td>1.083476</td>\n",
       "      <td>0.023263</td>\n",
       "      <td>0.243056</td>\n",
       "      <td>0.000000</td>\n",
       "      <td>0.232443</td>\n",
       "      <td>0.000000</td>\n",
       "      <td>0.000000</td>\n",
       "    </tr>\n",
       "    <tr>\n",
       "      <th>ENSG00000255327.1</th>\n",
       "      <td>0.000000</td>\n",
       "      <td>0.000000</td>\n",
       "      <td>0.000000</td>\n",
       "      <td>0.000000</td>\n",
       "      <td>0.000000</td>\n",
       "      <td>0.000000</td>\n",
       "      <td>0.000000</td>\n",
       "      <td>0.000000</td>\n",
       "      <td>0.000000</td>\n",
       "      <td>0.000000</td>\n",
       "      <td>...</td>\n",
       "      <td>0.000000</td>\n",
       "      <td>0.000000</td>\n",
       "      <td>0.000000</td>\n",
       "      <td>0.000000</td>\n",
       "      <td>0.000000</td>\n",
       "      <td>0.000000</td>\n",
       "      <td>0.000000</td>\n",
       "      <td>0.000000</td>\n",
       "      <td>0.000000</td>\n",
       "      <td>0.000000</td>\n",
       "    </tr>\n",
       "    <tr>\n",
       "      <th>ENSG00000279046.1</th>\n",
       "      <td>0.000000</td>\n",
       "      <td>0.000000</td>\n",
       "      <td>0.000000</td>\n",
       "      <td>0.000000</td>\n",
       "      <td>0.000000</td>\n",
       "      <td>0.000000</td>\n",
       "      <td>0.000000</td>\n",
       "      <td>0.000000</td>\n",
       "      <td>0.000000</td>\n",
       "      <td>0.000000</td>\n",
       "      <td>...</td>\n",
       "      <td>0.000000</td>\n",
       "      <td>0.000000</td>\n",
       "      <td>0.000000</td>\n",
       "      <td>0.000000</td>\n",
       "      <td>0.000000</td>\n",
       "      <td>0.000000</td>\n",
       "      <td>0.000000</td>\n",
       "      <td>0.000000</td>\n",
       "      <td>0.000000</td>\n",
       "      <td>0.000000</td>\n",
       "    </tr>\n",
       "    <tr>\n",
       "      <th>ENSG00000255512.1</th>\n",
       "      <td>0.000000</td>\n",
       "      <td>0.000000</td>\n",
       "      <td>0.000000</td>\n",
       "      <td>0.000000</td>\n",
       "      <td>0.000000</td>\n",
       "      <td>0.000000</td>\n",
       "      <td>0.000000</td>\n",
       "      <td>0.000000</td>\n",
       "      <td>0.000000</td>\n",
       "      <td>0.000000</td>\n",
       "      <td>...</td>\n",
       "      <td>0.000000</td>\n",
       "      <td>0.000000</td>\n",
       "      <td>0.000000</td>\n",
       "      <td>0.000000</td>\n",
       "      <td>0.000000</td>\n",
       "      <td>0.000000</td>\n",
       "      <td>0.000000</td>\n",
       "      <td>0.000000</td>\n",
       "      <td>0.000000</td>\n",
       "      <td>0.000000</td>\n",
       "    </tr>\n",
       "  </tbody>\n",
       "</table>\n",
       "<p>3381 rows × 472 columns</p>\n",
       "</div>"
      ],
      "text/plain": [
       "                   TCGA-EE-A2GJ-06A  TCGA-EE-A2GI-06A  TCGA-WE-A8ZM-06A  \\\n",
       "Ensembl_ID                                                                \n",
       "ENSG00000253826.1          0.000000          0.000000          0.000000   \n",
       "ENSG00000224777.3          0.000000          0.000000          0.000000   \n",
       "ENSG00000254468.2          0.000000          0.000000          0.000000   \n",
       "ENSG00000270921.1          0.000000          0.000000          0.065024   \n",
       "ENSG00000230724.8          0.432452          0.211028          1.130904   \n",
       "...                             ...               ...               ...   \n",
       "ENSG00000255344.1          0.000000          0.000000          0.000000   \n",
       "ENSG00000251226.1          0.000000          1.237527          0.000000   \n",
       "ENSG00000255327.1          0.000000          0.000000          0.000000   \n",
       "ENSG00000279046.1          0.000000          0.000000          0.000000   \n",
       "ENSG00000255512.1          0.000000          0.000000          0.000000   \n",
       "\n",
       "                   TCGA-DA-A1IA-06A  TCGA-D3-A51H-06A  TCGA-XV-A9VZ-01A  \\\n",
       "Ensembl_ID                                                                \n",
       "ENSG00000253826.1          0.000000          0.000000          0.000000   \n",
       "ENSG00000224777.3          0.000000          0.000000          0.000000   \n",
       "ENSG00000254468.2          0.000000          0.000000          0.000000   \n",
       "ENSG00000270921.1          0.000000          0.036342          0.000000   \n",
       "ENSG00000230724.8          0.185336          0.895027          1.007231   \n",
       "...                             ...               ...               ...   \n",
       "ENSG00000255344.1          0.000000          0.000000          0.000000   \n",
       "ENSG00000251226.1          0.099129          0.027126          0.054947   \n",
       "ENSG00000255327.1          0.000000          0.000000          0.000000   \n",
       "ENSG00000279046.1          0.000000          0.000000          0.000000   \n",
       "ENSG00000255512.1          0.000000          0.000000          0.000000   \n",
       "\n",
       "                   TCGA-FS-A1ZE-06A  TCGA-D3-A51F-06A  TCGA-D3-A8GL-06A  \\\n",
       "Ensembl_ID                                                                \n",
       "ENSG00000253826.1          0.000000          0.000000          0.000000   \n",
       "ENSG00000224777.3          0.000000          0.000000          0.000000   \n",
       "ENSG00000254468.2          0.000000          0.000000          0.000000   \n",
       "ENSG00000270921.1          0.026654          0.000000          0.000000   \n",
       "ENSG00000230724.8          0.356998          0.884961          0.513986   \n",
       "...                             ...               ...               ...   \n",
       "ENSG00000255344.1          0.000000          0.000000          0.000000   \n",
       "ENSG00000251226.1          0.000000          0.065221          2.528232   \n",
       "ENSG00000255327.1          0.000000          0.000000          0.000000   \n",
       "ENSG00000279046.1          0.000000          0.000000          0.000000   \n",
       "ENSG00000255512.1          0.000000          0.000000          0.000000   \n",
       "\n",
       "                   TCGA-BF-A5EP-01A  ...  TCGA-EE-A2GP-06A  TCGA-EE-A2M6-06A  \\\n",
       "Ensembl_ID                           ...                                       \n",
       "ENSG00000253826.1          0.000000  ...          0.000000          0.000000   \n",
       "ENSG00000224777.3          0.000000  ...          0.000000          0.000000   \n",
       "ENSG00000254468.2          0.000000  ...          0.000000          0.000000   \n",
       "ENSG00000270921.1          0.000000  ...          0.039950          0.000000   \n",
       "ENSG00000230724.8          0.490177  ...          0.734953          0.372154   \n",
       "...                             ...  ...               ...               ...   \n",
       "ENSG00000255344.1          0.000000  ...          0.000000          0.305082   \n",
       "ENSG00000251226.1          0.021474  ...          0.000000          1.479591   \n",
       "ENSG00000255327.1          0.000000  ...          0.000000          0.000000   \n",
       "ENSG00000279046.1          0.000000  ...          0.000000          0.000000   \n",
       "ENSG00000255512.1          0.000000  ...          0.000000          0.000000   \n",
       "\n",
       "                   TCGA-EE-A3AA-06A  TCGA-FS-A1ZF-06A  TCGA-D9-A6EC-06A  \\\n",
       "Ensembl_ID                                                                \n",
       "ENSG00000253826.1          0.000000          0.000000          0.000000   \n",
       "ENSG00000224777.3          0.000000          0.000000          0.000000   \n",
       "ENSG00000254468.2          0.000000          0.000000          0.000000   \n",
       "ENSG00000270921.1          0.000000          0.023652          0.000000   \n",
       "ENSG00000230724.8          0.384525          0.899274          0.150108   \n",
       "...                             ...               ...               ...   \n",
       "ENSG00000255344.1          0.000000          0.000000          0.000000   \n",
       "ENSG00000251226.1          0.094802          1.083476          0.023263   \n",
       "ENSG00000255327.1          0.000000          0.000000          0.000000   \n",
       "ENSG00000279046.1          0.000000          0.000000          0.000000   \n",
       "ENSG00000255512.1          0.000000          0.000000          0.000000   \n",
       "\n",
       "                   TCGA-FR-A8YC-06A  TCGA-EB-A4XL-01A  TCGA-EB-A551-01A  \\\n",
       "Ensembl_ID                                                                \n",
       "ENSG00000253826.1          0.000000          0.000000          0.000000   \n",
       "ENSG00000224777.3          0.000000          0.000000          0.000000   \n",
       "ENSG00000254468.2          0.000000          0.000000          0.000000   \n",
       "ENSG00000270921.1          0.039002          0.063765          0.082351   \n",
       "ENSG00000230724.8          1.001449          0.617866          1.512543   \n",
       "...                             ...               ...               ...   \n",
       "ENSG00000255344.1          0.000000          0.000000          0.000000   \n",
       "ENSG00000251226.1          0.243056          0.000000          0.232443   \n",
       "ENSG00000255327.1          0.000000          0.000000          0.000000   \n",
       "ENSG00000279046.1          0.000000          0.000000          0.000000   \n",
       "ENSG00000255512.1          0.000000          0.000000          0.000000   \n",
       "\n",
       "                   TCGA-EE-A3J4-06A  TCGA-EE-A3AC-06A  \n",
       "Ensembl_ID                                             \n",
       "ENSG00000253826.1          0.000000          0.000000  \n",
       "ENSG00000224777.3          0.000000          0.000000  \n",
       "ENSG00000254468.2          0.000000          0.000000  \n",
       "ENSG00000270921.1          0.000000          0.000000  \n",
       "ENSG00000230724.8          0.604252          0.615044  \n",
       "...                             ...               ...  \n",
       "ENSG00000255344.1          0.000000          0.000000  \n",
       "ENSG00000251226.1          0.000000          0.000000  \n",
       "ENSG00000255327.1          0.000000          0.000000  \n",
       "ENSG00000279046.1          0.000000          0.000000  \n",
       "ENSG00000255512.1          0.000000          0.000000  \n",
       "\n",
       "[3381 rows x 472 columns]"
      ]
     },
     "execution_count": 50,
     "metadata": {},
     "output_type": "execute_result"
    }
   ],
   "source": [
    "smpCounts = smpCounts.loc[geneAnnotations[geneAnnotations[\"chrom\"] == \"chr11\"].index.to_list()]\n",
    "smpCounts"
   ]
  },
  {
   "cell_type": "markdown",
   "metadata": {},
   "source": [
    "3) Ne conserver dans `smpCounts` et `survivalData` que les patients pour lesquels nous avons à la fois le suivie de la survie et l'expression génique et ordonner les patients avec le même ordre dans les deux tableaux (colonnes de `smpCounts` et index de `survivalData`)."
   ]
  },
  {
   "cell_type": "code",
   "execution_count": 51,
   "metadata": {},
   "outputs": [
    {
     "data": {
      "text/html": [
       "<div>\n",
       "<style scoped>\n",
       "    .dataframe tbody tr th:only-of-type {\n",
       "        vertical-align: middle;\n",
       "    }\n",
       "\n",
       "    .dataframe tbody tr th {\n",
       "        vertical-align: top;\n",
       "    }\n",
       "\n",
       "    .dataframe thead th {\n",
       "        text-align: right;\n",
       "    }\n",
       "</style>\n",
       "<table border=\"1\" class=\"dataframe\">\n",
       "  <thead>\n",
       "    <tr style=\"text-align: right;\">\n",
       "      <th></th>\n",
       "      <th>OS</th>\n",
       "      <th>_PATIENT</th>\n",
       "      <th>OS.time</th>\n",
       "    </tr>\n",
       "  </thead>\n",
       "  <tbody>\n",
       "    <tr>\n",
       "      <th>TCGA-EE-A2GJ-06A</th>\n",
       "      <td>1</td>\n",
       "      <td>TCGA-EE-A2GJ</td>\n",
       "      <td>2270</td>\n",
       "    </tr>\n",
       "    <tr>\n",
       "      <th>TCGA-EE-A2GI-06A</th>\n",
       "      <td>0</td>\n",
       "      <td>TCGA-EE-A2GI</td>\n",
       "      <td>1482</td>\n",
       "    </tr>\n",
       "    <tr>\n",
       "      <th>TCGA-WE-A8ZM-06A</th>\n",
       "      <td>0</td>\n",
       "      <td>TCGA-WE-A8ZM</td>\n",
       "      <td>3082</td>\n",
       "    </tr>\n",
       "    <tr>\n",
       "      <th>TCGA-DA-A1IA-06A</th>\n",
       "      <td>1</td>\n",
       "      <td>TCGA-DA-A1IA</td>\n",
       "      <td>2005</td>\n",
       "    </tr>\n",
       "    <tr>\n",
       "      <th>TCGA-D3-A51H-06A</th>\n",
       "      <td>0</td>\n",
       "      <td>TCGA-D3-A51H</td>\n",
       "      <td>1714</td>\n",
       "    </tr>\n",
       "    <tr>\n",
       "      <th>...</th>\n",
       "      <td>...</td>\n",
       "      <td>...</td>\n",
       "      <td>...</td>\n",
       "    </tr>\n",
       "    <tr>\n",
       "      <th>TCGA-FR-A8YC-06A</th>\n",
       "      <td>1</td>\n",
       "      <td>TCGA-FR-A8YC</td>\n",
       "      <td>1059</td>\n",
       "    </tr>\n",
       "    <tr>\n",
       "      <th>TCGA-EB-A4XL-01A</th>\n",
       "      <td>0</td>\n",
       "      <td>TCGA-EB-A4XL</td>\n",
       "      <td>777</td>\n",
       "    </tr>\n",
       "    <tr>\n",
       "      <th>TCGA-EB-A551-01A</th>\n",
       "      <td>0</td>\n",
       "      <td>TCGA-EB-A551</td>\n",
       "      <td>590</td>\n",
       "    </tr>\n",
       "    <tr>\n",
       "      <th>TCGA-EE-A3J4-06A</th>\n",
       "      <td>1</td>\n",
       "      <td>TCGA-EE-A3J4</td>\n",
       "      <td>3869</td>\n",
       "    </tr>\n",
       "    <tr>\n",
       "      <th>TCGA-EE-A3AC-06A</th>\n",
       "      <td>0</td>\n",
       "      <td>TCGA-EE-A3AC</td>\n",
       "      <td>1948</td>\n",
       "    </tr>\n",
       "  </tbody>\n",
       "</table>\n",
       "<p>458 rows × 3 columns</p>\n",
       "</div>"
      ],
      "text/plain": [
       "                  OS      _PATIENT  OS.time\n",
       "TCGA-EE-A2GJ-06A   1  TCGA-EE-A2GJ     2270\n",
       "TCGA-EE-A2GI-06A   0  TCGA-EE-A2GI     1482\n",
       "TCGA-WE-A8ZM-06A   0  TCGA-WE-A8ZM     3082\n",
       "TCGA-DA-A1IA-06A   1  TCGA-DA-A1IA     2005\n",
       "TCGA-D3-A51H-06A   0  TCGA-D3-A51H     1714\n",
       "...               ..           ...      ...\n",
       "TCGA-FR-A8YC-06A   1  TCGA-FR-A8YC     1059\n",
       "TCGA-EB-A4XL-01A   0  TCGA-EB-A4XL      777\n",
       "TCGA-EB-A551-01A   0  TCGA-EB-A551      590\n",
       "TCGA-EE-A3J4-06A   1  TCGA-EE-A3J4     3869\n",
       "TCGA-EE-A3AC-06A   0  TCGA-EE-A3AC     1948\n",
       "\n",
       "[458 rows x 3 columns]"
      ]
     },
     "execution_count": 51,
     "metadata": {},
     "output_type": "execute_result"
    }
   ],
   "source": [
    "smpCounts = smpCounts[smpCounts.columns.intersection(survivalData.index)]\n",
    "survivalData = survivalData.loc[survivalData.index.intersection(smpCounts.columns)]\n",
    "survivalData = survivalData.loc[smpCounts.columns]\n",
    "survivalData"
   ]
  },
  {
   "cell_type": "markdown",
   "metadata": {},
   "source": [
    "Nous allons utiliser le package scikit-survival pour faire l'analyse des biomarqueurs prédictifs de la surive des patients.\n",
    "Celui-ci  prend les données de statuts des patients (0/1 colonnes OS de survivalData) sous forme booléenne (True / False) décés confirmés / non confirmés.\n",
    "\n",
    "4) Ajouter une colonne `Status` à `survivalData` correspondant à la colonne `OS`sous forme booléenne."
   ]
  },
  {
   "cell_type": "code",
   "execution_count": 52,
   "metadata": {},
   "outputs": [
    {
     "data": {
      "text/html": [
       "<div>\n",
       "<style scoped>\n",
       "    .dataframe tbody tr th:only-of-type {\n",
       "        vertical-align: middle;\n",
       "    }\n",
       "\n",
       "    .dataframe tbody tr th {\n",
       "        vertical-align: top;\n",
       "    }\n",
       "\n",
       "    .dataframe thead th {\n",
       "        text-align: right;\n",
       "    }\n",
       "</style>\n",
       "<table border=\"1\" class=\"dataframe\">\n",
       "  <thead>\n",
       "    <tr style=\"text-align: right;\">\n",
       "      <th></th>\n",
       "      <th>OS</th>\n",
       "      <th>_PATIENT</th>\n",
       "      <th>OS.time</th>\n",
       "      <th>Status</th>\n",
       "    </tr>\n",
       "  </thead>\n",
       "  <tbody>\n",
       "    <tr>\n",
       "      <th>TCGA-EE-A2GJ-06A</th>\n",
       "      <td>1</td>\n",
       "      <td>TCGA-EE-A2GJ</td>\n",
       "      <td>2270</td>\n",
       "      <td>True</td>\n",
       "    </tr>\n",
       "    <tr>\n",
       "      <th>TCGA-EE-A2GI-06A</th>\n",
       "      <td>0</td>\n",
       "      <td>TCGA-EE-A2GI</td>\n",
       "      <td>1482</td>\n",
       "      <td>False</td>\n",
       "    </tr>\n",
       "    <tr>\n",
       "      <th>TCGA-WE-A8ZM-06A</th>\n",
       "      <td>0</td>\n",
       "      <td>TCGA-WE-A8ZM</td>\n",
       "      <td>3082</td>\n",
       "      <td>False</td>\n",
       "    </tr>\n",
       "    <tr>\n",
       "      <th>TCGA-DA-A1IA-06A</th>\n",
       "      <td>1</td>\n",
       "      <td>TCGA-DA-A1IA</td>\n",
       "      <td>2005</td>\n",
       "      <td>True</td>\n",
       "    </tr>\n",
       "    <tr>\n",
       "      <th>TCGA-D3-A51H-06A</th>\n",
       "      <td>0</td>\n",
       "      <td>TCGA-D3-A51H</td>\n",
       "      <td>1714</td>\n",
       "      <td>False</td>\n",
       "    </tr>\n",
       "    <tr>\n",
       "      <th>...</th>\n",
       "      <td>...</td>\n",
       "      <td>...</td>\n",
       "      <td>...</td>\n",
       "      <td>...</td>\n",
       "    </tr>\n",
       "    <tr>\n",
       "      <th>TCGA-FR-A8YC-06A</th>\n",
       "      <td>1</td>\n",
       "      <td>TCGA-FR-A8YC</td>\n",
       "      <td>1059</td>\n",
       "      <td>True</td>\n",
       "    </tr>\n",
       "    <tr>\n",
       "      <th>TCGA-EB-A4XL-01A</th>\n",
       "      <td>0</td>\n",
       "      <td>TCGA-EB-A4XL</td>\n",
       "      <td>777</td>\n",
       "      <td>False</td>\n",
       "    </tr>\n",
       "    <tr>\n",
       "      <th>TCGA-EB-A551-01A</th>\n",
       "      <td>0</td>\n",
       "      <td>TCGA-EB-A551</td>\n",
       "      <td>590</td>\n",
       "      <td>False</td>\n",
       "    </tr>\n",
       "    <tr>\n",
       "      <th>TCGA-EE-A3J4-06A</th>\n",
       "      <td>1</td>\n",
       "      <td>TCGA-EE-A3J4</td>\n",
       "      <td>3869</td>\n",
       "      <td>True</td>\n",
       "    </tr>\n",
       "    <tr>\n",
       "      <th>TCGA-EE-A3AC-06A</th>\n",
       "      <td>0</td>\n",
       "      <td>TCGA-EE-A3AC</td>\n",
       "      <td>1948</td>\n",
       "      <td>False</td>\n",
       "    </tr>\n",
       "  </tbody>\n",
       "</table>\n",
       "<p>458 rows × 4 columns</p>\n",
       "</div>"
      ],
      "text/plain": [
       "                  OS      _PATIENT  OS.time  Status\n",
       "TCGA-EE-A2GJ-06A   1  TCGA-EE-A2GJ     2270    True\n",
       "TCGA-EE-A2GI-06A   0  TCGA-EE-A2GI     1482   False\n",
       "TCGA-WE-A8ZM-06A   0  TCGA-WE-A8ZM     3082   False\n",
       "TCGA-DA-A1IA-06A   1  TCGA-DA-A1IA     2005    True\n",
       "TCGA-D3-A51H-06A   0  TCGA-D3-A51H     1714   False\n",
       "...               ..           ...      ...     ...\n",
       "TCGA-FR-A8YC-06A   1  TCGA-FR-A8YC     1059    True\n",
       "TCGA-EB-A4XL-01A   0  TCGA-EB-A4XL      777   False\n",
       "TCGA-EB-A551-01A   0  TCGA-EB-A551      590   False\n",
       "TCGA-EE-A3J4-06A   1  TCGA-EE-A3J4     3869    True\n",
       "TCGA-EE-A3AC-06A   0  TCGA-EE-A3AC     1948   False\n",
       "\n",
       "[458 rows x 4 columns]"
      ]
     },
     "execution_count": 52,
     "metadata": {},
     "output_type": "execute_result"
    }
   ],
   "source": [
    "survivalData[\"Status\"] = survivalData[\"OS\"] == 1\n",
    "survivalData"
   ]
  },
  {
   "cell_type": "markdown",
   "metadata": {},
   "source": [
    "Nous allons commencer par regarder si l'expression du gène CD3G chez les patients peut être prédictif de leur survie. Ce gène code pour une sous unité du recepteur des cellules T. \n",
    "\n",
    "5) Séparez les patients en deux groupes selon qu'il expriment fortement ou non CD3G. On prendra la médiane d'expression de CD3G de la cohorte comme seuil pour définir ces deux groupes. Stocker le résultat dans une nouvelle colonne de survivalData."
   ]
  },
  {
   "cell_type": "code",
   "execution_count": 53,
   "metadata": {},
   "outputs": [
    {
     "data": {
      "text/html": [
       "<div>\n",
       "<style scoped>\n",
       "    .dataframe tbody tr th:only-of-type {\n",
       "        vertical-align: middle;\n",
       "    }\n",
       "\n",
       "    .dataframe tbody tr th {\n",
       "        vertical-align: top;\n",
       "    }\n",
       "\n",
       "    .dataframe thead th {\n",
       "        text-align: right;\n",
       "    }\n",
       "</style>\n",
       "<table border=\"1\" class=\"dataframe\">\n",
       "  <thead>\n",
       "    <tr style=\"text-align: right;\">\n",
       "      <th></th>\n",
       "      <th>OS</th>\n",
       "      <th>_PATIENT</th>\n",
       "      <th>OS.time</th>\n",
       "      <th>Status</th>\n",
       "      <th>ENSG00000160654.8</th>\n",
       "    </tr>\n",
       "  </thead>\n",
       "  <tbody>\n",
       "    <tr>\n",
       "      <th>TCGA-EE-A2GJ-06A</th>\n",
       "      <td>1</td>\n",
       "      <td>TCGA-EE-A2GJ</td>\n",
       "      <td>2270</td>\n",
       "      <td>True</td>\n",
       "      <td>high</td>\n",
       "    </tr>\n",
       "    <tr>\n",
       "      <th>TCGA-EE-A2GI-06A</th>\n",
       "      <td>0</td>\n",
       "      <td>TCGA-EE-A2GI</td>\n",
       "      <td>1482</td>\n",
       "      <td>False</td>\n",
       "      <td>high</td>\n",
       "    </tr>\n",
       "    <tr>\n",
       "      <th>TCGA-WE-A8ZM-06A</th>\n",
       "      <td>0</td>\n",
       "      <td>TCGA-WE-A8ZM</td>\n",
       "      <td>3082</td>\n",
       "      <td>False</td>\n",
       "      <td>low</td>\n",
       "    </tr>\n",
       "    <tr>\n",
       "      <th>TCGA-DA-A1IA-06A</th>\n",
       "      <td>1</td>\n",
       "      <td>TCGA-DA-A1IA</td>\n",
       "      <td>2005</td>\n",
       "      <td>True</td>\n",
       "      <td>low</td>\n",
       "    </tr>\n",
       "    <tr>\n",
       "      <th>TCGA-D3-A51H-06A</th>\n",
       "      <td>0</td>\n",
       "      <td>TCGA-D3-A51H</td>\n",
       "      <td>1714</td>\n",
       "      <td>False</td>\n",
       "      <td>high</td>\n",
       "    </tr>\n",
       "    <tr>\n",
       "      <th>...</th>\n",
       "      <td>...</td>\n",
       "      <td>...</td>\n",
       "      <td>...</td>\n",
       "      <td>...</td>\n",
       "      <td>...</td>\n",
       "    </tr>\n",
       "    <tr>\n",
       "      <th>TCGA-FR-A8YC-06A</th>\n",
       "      <td>1</td>\n",
       "      <td>TCGA-FR-A8YC</td>\n",
       "      <td>1059</td>\n",
       "      <td>True</td>\n",
       "      <td>high</td>\n",
       "    </tr>\n",
       "    <tr>\n",
       "      <th>TCGA-EB-A4XL-01A</th>\n",
       "      <td>0</td>\n",
       "      <td>TCGA-EB-A4XL</td>\n",
       "      <td>777</td>\n",
       "      <td>False</td>\n",
       "      <td>high</td>\n",
       "    </tr>\n",
       "    <tr>\n",
       "      <th>TCGA-EB-A551-01A</th>\n",
       "      <td>0</td>\n",
       "      <td>TCGA-EB-A551</td>\n",
       "      <td>590</td>\n",
       "      <td>False</td>\n",
       "      <td>high</td>\n",
       "    </tr>\n",
       "    <tr>\n",
       "      <th>TCGA-EE-A3J4-06A</th>\n",
       "      <td>1</td>\n",
       "      <td>TCGA-EE-A3J4</td>\n",
       "      <td>3869</td>\n",
       "      <td>True</td>\n",
       "      <td>low</td>\n",
       "    </tr>\n",
       "    <tr>\n",
       "      <th>TCGA-EE-A3AC-06A</th>\n",
       "      <td>0</td>\n",
       "      <td>TCGA-EE-A3AC</td>\n",
       "      <td>1948</td>\n",
       "      <td>False</td>\n",
       "      <td>high</td>\n",
       "    </tr>\n",
       "  </tbody>\n",
       "</table>\n",
       "<p>458 rows × 5 columns</p>\n",
       "</div>"
      ],
      "text/plain": [
       "                  OS      _PATIENT  OS.time  Status ENSG00000160654.8\n",
       "TCGA-EE-A2GJ-06A   1  TCGA-EE-A2GJ     2270    True              high\n",
       "TCGA-EE-A2GI-06A   0  TCGA-EE-A2GI     1482   False              high\n",
       "TCGA-WE-A8ZM-06A   0  TCGA-WE-A8ZM     3082   False               low\n",
       "TCGA-DA-A1IA-06A   1  TCGA-DA-A1IA     2005    True               low\n",
       "TCGA-D3-A51H-06A   0  TCGA-D3-A51H     1714   False              high\n",
       "...               ..           ...      ...     ...               ...\n",
       "TCGA-FR-A8YC-06A   1  TCGA-FR-A8YC     1059    True              high\n",
       "TCGA-EB-A4XL-01A   0  TCGA-EB-A4XL      777   False              high\n",
       "TCGA-EB-A551-01A   0  TCGA-EB-A551      590   False              high\n",
       "TCGA-EE-A3J4-06A   1  TCGA-EE-A3J4     3869    True               low\n",
       "TCGA-EE-A3AC-06A   0  TCGA-EE-A3AC     1948   False              high\n",
       "\n",
       "[458 rows x 5 columns]"
      ]
     },
     "execution_count": 53,
     "metadata": {},
     "output_type": "execute_result"
    }
   ],
   "source": [
    "gene_name = \"CD3G\"\n",
    "gene_id = geneAnnotations[geneAnnotations[\"gene\"]==\"CD3G\"].index[0]\n",
    "gene_id\n",
    "survivalData[gene_id] = ['high' if i > np.median(smpCounts.loc[gene_id]) else 'low' for i in smpCounts.loc[gene_id]]\n",
    "survivalData"
   ]
  },
  {
   "cell_type": "markdown",
   "metadata": {},
   "source": [
    "6) Utiliser la fonction `kaplan_meier_estimator` du package scikit-survival pour tracer la courbe de survie pour chacun des deux groupes. "
   ]
  },
  {
   "cell_type": "code",
   "execution_count": 54,
   "metadata": {},
   "outputs": [
    {
     "data": {
      "text/plain": [
       "<matplotlib.legend.Legend at 0x7face4a67790>"
      ]
     },
     "execution_count": 54,
     "metadata": {},
     "output_type": "execute_result"
    },
    {
     "data": {
      "image/png": "[encoded data removed]",
      "text/plain": [
       "<Figure size 640x480 with 1 Axes>"
      ]
     },
     "metadata": {},
     "output_type": "display_data"
    }
   ],
   "source": [
    "for gene_exp in ('low', 'high'):\n",
    "    mask_exp = survivalData[gene_id] == gene_exp\n",
    "    time_exp, survival_prob_exp = kaplan_meier_estimator(\n",
    "        survivalData[\"Status\"][mask_exp],\n",
    "        survivalData['OS.time'][mask_exp])\n",
    "\n",
    "    plt.step(time_exp, survival_prob_exp, where=\"post\",\n",
    "             label=\"Exp CD3G %s\" % gene_exp)\n",
    "\n",
    "plt.ylabel(\"est. probability of survival $\\hat{S}(t)$\")\n",
    "plt.xlabel(\"time $t$\")\n",
    "plt.legend(loc=\"best\")"
   ]
  },
  {
   "cell_type": "markdown",
   "metadata": {},
   "source": [
    "7) A l'aide de la fonction `compare_survival`déterminer si la différence observée semble significative."
   ]
  },
  {
   "cell_type": "code",
   "execution_count": 75,
   "metadata": {},
   "outputs": [
    {
     "data": {
      "text/plain": [
       "(np.float64(19.508312438716132), np.float64(1.0016286348874325e-05))"
      ]
     },
     "execution_count": 75,
     "metadata": {},
     "output_type": "execute_result"
    }
   ],
   "source": [
    "survivalData_array = survivalData[['Status','OS.time']].to_records(index=False)\n",
    "compare_survival(survivalData_array, survivalData[[gene_id]].to_numpy())"
   ]
  },
  {
   "cell_type": "code",
   "execution_count": 73,
   "metadata": {},
   "outputs": [
    {
     "name": "stdout",
     "output_type": "stream",
     "text": [
      "Help on function compare_survival in module sksurv.compare:\n",
      "\n",
      "compare_survival(y, group_indicator, return_stats=False)\n",
      "    K-sample log-rank hypothesis test of identical survival functions.\n",
      "    \n",
      "    Compares the pooled hazard rate with each group-specific\n",
      "    hazard rate. The alternative hypothesis is that the hazard\n",
      "    rate of at least one group differs from the others at some time.\n",
      "    \n",
      "    See [1]_ for more details.\n",
      "    \n",
      "    Parameters\n",
      "    ----------\n",
      "    y : structured array, shape = (n_samples,)\n",
      "        A structured array containing the binary event indicator\n",
      "        as first field, and time of event or time of censoring as\n",
      "        second field.\n",
      "    \n",
      "    group_indicator : array-like, shape = (n_samples,)\n",
      "        Group membership of each sample.\n",
      "    \n",
      "    return_stats : bool, optional, default: False\n",
      "        Whether to return a data frame with statistics for each group\n",
      "        and the covariance matrix of the test statistic.\n",
      "    \n",
      "    Returns\n",
      "    -------\n",
      "    chisq : float\n",
      "        Test statistic.\n",
      "    pvalue : float\n",
      "        Two-sided p-value with respect to the null hypothesis\n",
      "        that the hazard rates across all groups are equal.\n",
      "    stats : pandas.DataFrame\n",
      "        Summary statistics for each group:  number of samples,\n",
      "        observed number of events, expected number of events,\n",
      "        and test statistic.\n",
      "        Only provided if `return_stats` is True.\n",
      "    covariance : array, shape=(n_groups, n_groups)\n",
      "        Covariance matrix of the test statistic.\n",
      "        Only provided if `return_stats` is True.\n",
      "    \n",
      "    References\n",
      "    ----------\n",
      "    .. [1] Fleming, T. R. and Harrington, D. P.\n",
      "           A Class of Hypothesis Tests for One and Two Samples of Censored Survival Data.\n",
      "           Communications In Statistics 10 (1981): 763-794.\n",
      "\n"
     ]
    }
   ],
   "source": [
    "help(compare_survival)"
   ]
  },
  {
   "cell_type": "markdown",
   "metadata": {},
   "source": [
    "8) A l'aide d'une boucle for, répétez maintenant ce test pour l'ensemble des gènes du chromosome 11. Ne tester que les gènes dont l'expression est détectée dans au moins 10 patients."
   ]
  },
  {
   "cell_type": "code",
   "execution_count": 80,
   "metadata": {},
   "outputs": [],
   "source": [
    "res = []\n",
    "new_cols = {}  # Dictionary to store new columns\n",
    "\n",
    "for g in smpCounts.index:\n",
    "    x = smpCounts.loc[g]\n",
    "    if np.count_nonzero(x) > 10:\n",
    "        y = survivalData[\"OS.time\"]\n",
    "        new_cols[g] = ['high' if i > np.median(x) else 'low' for i in x]\n",
    "        \n",
    "        survivalData_array = survivalData[['Status', 'OS.time']].to_records(index=False)\n",
    "        stat, p = compare_survival(survivalData_array, np.array(new_cols[g]))\n",
    "        \n",
    "        res.append([g, stat, p])"
   ]
  },
  {
   "cell_type": "code",
   "execution_count": 124,
   "metadata": {},
   "outputs": [
    {
     "data": {
      "text/html": [
       "<div>\n",
       "<style scoped>\n",
       "    .dataframe tbody tr th:only-of-type {\n",
       "        vertical-align: middle;\n",
       "    }\n",
       "\n",
       "    .dataframe tbody tr th {\n",
       "        vertical-align: top;\n",
       "    }\n",
       "\n",
       "    .dataframe thead th {\n",
       "        text-align: right;\n",
       "    }\n",
       "</style>\n",
       "<table border=\"1\" class=\"dataframe\">\n",
       "  <thead>\n",
       "    <tr style=\"text-align: right;\">\n",
       "      <th></th>\n",
       "      <th>OS</th>\n",
       "      <th>_PATIENT</th>\n",
       "      <th>OS.time</th>\n",
       "      <th>Status</th>\n",
       "      <th>ENSG00000224777.3</th>\n",
       "      <th>ENSG00000270921.1</th>\n",
       "      <th>ENSG00000230724.8</th>\n",
       "      <th>ENSG00000255229.1</th>\n",
       "      <th>ENSG00000177951.16</th>\n",
       "      <th>ENSG00000188076.2</th>\n",
       "      <th>...</th>\n",
       "      <th>ENSG00000151498.10</th>\n",
       "      <th>ENSG00000166105.14</th>\n",
       "      <th>ENSG00000254442.1</th>\n",
       "      <th>ENSG00000149328.13</th>\n",
       "      <th>ENSG00000109956.11</th>\n",
       "      <th>ENSG00000255545.6</th>\n",
       "      <th>ENSG00000254573.1</th>\n",
       "      <th>ENSG00000255344.1</th>\n",
       "      <th>ENSG00000251226.1</th>\n",
       "      <th>ENSG00000255327.1</th>\n",
       "    </tr>\n",
       "  </thead>\n",
       "  <tbody>\n",
       "    <tr>\n",
       "      <th>TCGA-EE-A2GJ-06A</th>\n",
       "      <td>1</td>\n",
       "      <td>TCGA-EE-A2GJ</td>\n",
       "      <td>2270</td>\n",
       "      <td>True</td>\n",
       "      <td>low</td>\n",
       "      <td>low</td>\n",
       "      <td>high</td>\n",
       "      <td>low</td>\n",
       "      <td>low</td>\n",
       "      <td>low</td>\n",
       "      <td>...</td>\n",
       "      <td>low</td>\n",
       "      <td>low</td>\n",
       "      <td>low</td>\n",
       "      <td>low</td>\n",
       "      <td>low</td>\n",
       "      <td>low</td>\n",
       "      <td>low</td>\n",
       "      <td>low</td>\n",
       "      <td>low</td>\n",
       "      <td>low</td>\n",
       "    </tr>\n",
       "    <tr>\n",
       "      <th>TCGA-EE-A2GI-06A</th>\n",
       "      <td>0</td>\n",
       "      <td>TCGA-EE-A2GI</td>\n",
       "      <td>1482</td>\n",
       "      <td>False</td>\n",
       "      <td>low</td>\n",
       "      <td>low</td>\n",
       "      <td>low</td>\n",
       "      <td>low</td>\n",
       "      <td>high</td>\n",
       "      <td>low</td>\n",
       "      <td>...</td>\n",
       "      <td>low</td>\n",
       "      <td>low</td>\n",
       "      <td>low</td>\n",
       "      <td>low</td>\n",
       "      <td>low</td>\n",
       "      <td>low</td>\n",
       "      <td>low</td>\n",
       "      <td>low</td>\n",
       "      <td>high</td>\n",
       "      <td>low</td>\n",
       "    </tr>\n",
       "    <tr>\n",
       "      <th>TCGA-WE-A8ZM-06A</th>\n",
       "      <td>0</td>\n",
       "      <td>TCGA-WE-A8ZM</td>\n",
       "      <td>3082</td>\n",
       "      <td>False</td>\n",
       "      <td>low</td>\n",
       "      <td>high</td>\n",
       "      <td>high</td>\n",
       "      <td>low</td>\n",
       "      <td>low</td>\n",
       "      <td>low</td>\n",
       "      <td>...</td>\n",
       "      <td>low</td>\n",
       "      <td>high</td>\n",
       "      <td>low</td>\n",
       "      <td>low</td>\n",
       "      <td>high</td>\n",
       "      <td>low</td>\n",
       "      <td>low</td>\n",
       "      <td>low</td>\n",
       "      <td>low</td>\n",
       "      <td>low</td>\n",
       "    </tr>\n",
       "    <tr>\n",
       "      <th>TCGA-DA-A1IA-06A</th>\n",
       "      <td>1</td>\n",
       "      <td>TCGA-DA-A1IA</td>\n",
       "      <td>2005</td>\n",
       "      <td>True</td>\n",
       "      <td>low</td>\n",
       "      <td>low</td>\n",
       "      <td>low</td>\n",
       "      <td>high</td>\n",
       "      <td>high</td>\n",
       "      <td>low</td>\n",
       "      <td>...</td>\n",
       "      <td>low</td>\n",
       "      <td>high</td>\n",
       "      <td>low</td>\n",
       "      <td>low</td>\n",
       "      <td>high</td>\n",
       "      <td>high</td>\n",
       "      <td>low</td>\n",
       "      <td>low</td>\n",
       "      <td>high</td>\n",
       "      <td>low</td>\n",
       "    </tr>\n",
       "    <tr>\n",
       "      <th>TCGA-D3-A51H-06A</th>\n",
       "      <td>0</td>\n",
       "      <td>TCGA-D3-A51H</td>\n",
       "      <td>1714</td>\n",
       "      <td>False</td>\n",
       "      <td>low</td>\n",
       "      <td>high</td>\n",
       "      <td>high</td>\n",
       "      <td>low</td>\n",
       "      <td>low</td>\n",
       "      <td>low</td>\n",
       "      <td>...</td>\n",
       "      <td>low</td>\n",
       "      <td>high</td>\n",
       "      <td>low</td>\n",
       "      <td>low</td>\n",
       "      <td>high</td>\n",
       "      <td>high</td>\n",
       "      <td>low</td>\n",
       "      <td>low</td>\n",
       "      <td>high</td>\n",
       "      <td>low</td>\n",
       "    </tr>\n",
       "    <tr>\n",
       "      <th>...</th>\n",
       "      <td>...</td>\n",
       "      <td>...</td>\n",
       "      <td>...</td>\n",
       "      <td>...</td>\n",
       "      <td>...</td>\n",
       "      <td>...</td>\n",
       "      <td>...</td>\n",
       "      <td>...</td>\n",
       "      <td>...</td>\n",
       "      <td>...</td>\n",
       "      <td>...</td>\n",
       "      <td>...</td>\n",
       "      <td>...</td>\n",
       "      <td>...</td>\n",
       "      <td>...</td>\n",
       "      <td>...</td>\n",
       "      <td>...</td>\n",
       "      <td>...</td>\n",
       "      <td>...</td>\n",
       "      <td>...</td>\n",
       "      <td>...</td>\n",
       "    </tr>\n",
       "    <tr>\n",
       "      <th>TCGA-FR-A8YC-06A</th>\n",
       "      <td>1</td>\n",
       "      <td>TCGA-FR-A8YC</td>\n",
       "      <td>1059</td>\n",
       "      <td>True</td>\n",
       "      <td>low</td>\n",
       "      <td>high</td>\n",
       "      <td>high</td>\n",
       "      <td>low</td>\n",
       "      <td>low</td>\n",
       "      <td>low</td>\n",
       "      <td>...</td>\n",
       "      <td>high</td>\n",
       "      <td>low</td>\n",
       "      <td>low</td>\n",
       "      <td>low</td>\n",
       "      <td>low</td>\n",
       "      <td>high</td>\n",
       "      <td>low</td>\n",
       "      <td>low</td>\n",
       "      <td>high</td>\n",
       "      <td>low</td>\n",
       "    </tr>\n",
       "    <tr>\n",
       "      <th>TCGA-EB-A4XL-01A</th>\n",
       "      <td>0</td>\n",
       "      <td>TCGA-EB-A4XL</td>\n",
       "      <td>777</td>\n",
       "      <td>False</td>\n",
       "      <td>low</td>\n",
       "      <td>high</td>\n",
       "      <td>high</td>\n",
       "      <td>low</td>\n",
       "      <td>high</td>\n",
       "      <td>low</td>\n",
       "      <td>...</td>\n",
       "      <td>high</td>\n",
       "      <td>high</td>\n",
       "      <td>low</td>\n",
       "      <td>high</td>\n",
       "      <td>low</td>\n",
       "      <td>low</td>\n",
       "      <td>low</td>\n",
       "      <td>low</td>\n",
       "      <td>low</td>\n",
       "      <td>low</td>\n",
       "    </tr>\n",
       "    <tr>\n",
       "      <th>TCGA-EB-A551-01A</th>\n",
       "      <td>0</td>\n",
       "      <td>TCGA-EB-A551</td>\n",
       "      <td>590</td>\n",
       "      <td>False</td>\n",
       "      <td>low</td>\n",
       "      <td>high</td>\n",
       "      <td>high</td>\n",
       "      <td>low</td>\n",
       "      <td>high</td>\n",
       "      <td>high</td>\n",
       "      <td>...</td>\n",
       "      <td>low</td>\n",
       "      <td>high</td>\n",
       "      <td>high</td>\n",
       "      <td>high</td>\n",
       "      <td>high</td>\n",
       "      <td>high</td>\n",
       "      <td>high</td>\n",
       "      <td>low</td>\n",
       "      <td>high</td>\n",
       "      <td>low</td>\n",
       "    </tr>\n",
       "    <tr>\n",
       "      <th>TCGA-EE-A3J4-06A</th>\n",
       "      <td>1</td>\n",
       "      <td>TCGA-EE-A3J4</td>\n",
       "      <td>3869</td>\n",
       "      <td>True</td>\n",
       "      <td>low</td>\n",
       "      <td>low</td>\n",
       "      <td>high</td>\n",
       "      <td>low</td>\n",
       "      <td>high</td>\n",
       "      <td>high</td>\n",
       "      <td>...</td>\n",
       "      <td>high</td>\n",
       "      <td>low</td>\n",
       "      <td>low</td>\n",
       "      <td>low</td>\n",
       "      <td>low</td>\n",
       "      <td>low</td>\n",
       "      <td>low</td>\n",
       "      <td>low</td>\n",
       "      <td>low</td>\n",
       "      <td>low</td>\n",
       "    </tr>\n",
       "    <tr>\n",
       "      <th>TCGA-EE-A3AC-06A</th>\n",
       "      <td>0</td>\n",
       "      <td>TCGA-EE-A3AC</td>\n",
       "      <td>1948</td>\n",
       "      <td>False</td>\n",
       "      <td>low</td>\n",
       "      <td>low</td>\n",
       "      <td>high</td>\n",
       "      <td>low</td>\n",
       "      <td>high</td>\n",
       "      <td>low</td>\n",
       "      <td>...</td>\n",
       "      <td>high</td>\n",
       "      <td>low</td>\n",
       "      <td>low</td>\n",
       "      <td>low</td>\n",
       "      <td>low</td>\n",
       "      <td>low</td>\n",
       "      <td>low</td>\n",
       "      <td>low</td>\n",
       "      <td>low</td>\n",
       "      <td>low</td>\n",
       "    </tr>\n",
       "  </tbody>\n",
       "</table>\n",
       "<p>458 rows × 2767 columns</p>\n",
       "</div>"
      ],
      "text/plain": [
       "                  OS      _PATIENT  OS.time  Status ENSG00000224777.3  \\\n",
       "TCGA-EE-A2GJ-06A   1  TCGA-EE-A2GJ     2270    True               low   \n",
       "TCGA-EE-A2GI-06A   0  TCGA-EE-A2GI     1482   False               low   \n",
       "TCGA-WE-A8ZM-06A   0  TCGA-WE-A8ZM     3082   False               low   \n",
       "TCGA-DA-A1IA-06A   1  TCGA-DA-A1IA     2005    True               low   \n",
       "TCGA-D3-A51H-06A   0  TCGA-D3-A51H     1714   False               low   \n",
       "...               ..           ...      ...     ...               ...   \n",
       "TCGA-FR-A8YC-06A   1  TCGA-FR-A8YC     1059    True               low   \n",
       "TCGA-EB-A4XL-01A   0  TCGA-EB-A4XL      777   False               low   \n",
       "TCGA-EB-A551-01A   0  TCGA-EB-A551      590   False               low   \n",
       "TCGA-EE-A3J4-06A   1  TCGA-EE-A3J4     3869    True               low   \n",
       "TCGA-EE-A3AC-06A   0  TCGA-EE-A3AC     1948   False               low   \n",
       "\n",
       "                 ENSG00000270921.1 ENSG00000230724.8 ENSG00000255229.1  \\\n",
       "TCGA-EE-A2GJ-06A               low              high               low   \n",
       "TCGA-EE-A2GI-06A               low               low               low   \n",
       "TCGA-WE-A8ZM-06A              high              high               low   \n",
       "TCGA-DA-A1IA-06A               low               low              high   \n",
       "TCGA-D3-A51H-06A              high              high               low   \n",
       "...                            ...               ...               ...   \n",
       "TCGA-FR-A8YC-06A              high              high               low   \n",
       "TCGA-EB-A4XL-01A              high              high               low   \n",
       "TCGA-EB-A551-01A              high              high               low   \n",
       "TCGA-EE-A3J4-06A               low              high               low   \n",
       "TCGA-EE-A3AC-06A               low              high               low   \n",
       "\n",
       "                 ENSG00000177951.16 ENSG00000188076.2  ... ENSG00000151498.10  \\\n",
       "TCGA-EE-A2GJ-06A                low               low  ...                low   \n",
       "TCGA-EE-A2GI-06A               high               low  ...                low   \n",
       "TCGA-WE-A8ZM-06A                low               low  ...                low   \n",
       "TCGA-DA-A1IA-06A               high               low  ...                low   \n",
       "TCGA-D3-A51H-06A                low               low  ...                low   \n",
       "...                             ...               ...  ...                ...   \n",
       "TCGA-FR-A8YC-06A                low               low  ...               high   \n",
       "TCGA-EB-A4XL-01A               high               low  ...               high   \n",
       "TCGA-EB-A551-01A               high              high  ...                low   \n",
       "TCGA-EE-A3J4-06A               high              high  ...               high   \n",
       "TCGA-EE-A3AC-06A               high               low  ...               high   \n",
       "\n",
       "                 ENSG00000166105.14 ENSG00000254442.1 ENSG00000149328.13  \\\n",
       "TCGA-EE-A2GJ-06A                low               low                low   \n",
       "TCGA-EE-A2GI-06A                low               low                low   \n",
       "TCGA-WE-A8ZM-06A               high               low                low   \n",
       "TCGA-DA-A1IA-06A               high               low                low   \n",
       "TCGA-D3-A51H-06A               high               low                low   \n",
       "...                             ...               ...                ...   \n",
       "TCGA-FR-A8YC-06A                low               low                low   \n",
       "TCGA-EB-A4XL-01A               high               low               high   \n",
       "TCGA-EB-A551-01A               high              high               high   \n",
       "TCGA-EE-A3J4-06A                low               low                low   \n",
       "TCGA-EE-A3AC-06A                low               low                low   \n",
       "\n",
       "                 ENSG00000109956.11 ENSG00000255545.6 ENSG00000254573.1  \\\n",
       "TCGA-EE-A2GJ-06A                low               low               low   \n",
       "TCGA-EE-A2GI-06A                low               low               low   \n",
       "TCGA-WE-A8ZM-06A               high               low               low   \n",
       "TCGA-DA-A1IA-06A               high              high               low   \n",
       "TCGA-D3-A51H-06A               high              high               low   \n",
       "...                             ...               ...               ...   \n",
       "TCGA-FR-A8YC-06A                low              high               low   \n",
       "TCGA-EB-A4XL-01A                low               low               low   \n",
       "TCGA-EB-A551-01A               high              high              high   \n",
       "TCGA-EE-A3J4-06A                low               low               low   \n",
       "TCGA-EE-A3AC-06A                low               low               low   \n",
       "\n",
       "                 ENSG00000255344.1 ENSG00000251226.1 ENSG00000255327.1  \n",
       "TCGA-EE-A2GJ-06A               low               low               low  \n",
       "TCGA-EE-A2GI-06A               low              high               low  \n",
       "TCGA-WE-A8ZM-06A               low               low               low  \n",
       "TCGA-DA-A1IA-06A               low              high               low  \n",
       "TCGA-D3-A51H-06A               low              high               low  \n",
       "...                            ...               ...               ...  \n",
       "TCGA-FR-A8YC-06A               low              high               low  \n",
       "TCGA-EB-A4XL-01A               low               low               low  \n",
       "TCGA-EB-A551-01A               low              high               low  \n",
       "TCGA-EE-A3J4-06A               low               low               low  \n",
       "TCGA-EE-A3AC-06A               low               low               low  \n",
       "\n",
       "[458 rows x 2767 columns]"
      ]
     },
     "execution_count": 124,
     "metadata": {},
     "output_type": "execute_result"
    }
   ],
   "source": [
    "survivalDataChr11 = pd.concat([survivalData[[\"OS\",\"_PATIENT\",\"OS.time\",\"Status\"]], pd.DataFrame(new_cols,index=survivalData.index)], axis=1)\n",
    "survivalDataChr11"
   ]
  },
  {
   "cell_type": "code",
   "execution_count": 113,
   "metadata": {},
   "outputs": [],
   "source": [
    "biomarkerResults = pd.DataFrame(res, columns = ['Ensembl_ID',\"stat\",\"p_value\"])\n",
    "biomarkerResults[\"gene_name\"] = geneAnnotations[\"gene\"].loc[biomarkerResults[\"Ensembl_ID\"]].to_list()"
   ]
  },
  {
   "cell_type": "markdown",
   "metadata": {},
   "source": [
    "9) Combien de gènes du chromosme 11 semblent à priori être prédictifs de la survie des patients (p-valeur < 0.05)? Peut-on retenir cette liste telle quelle?"
   ]
  },
  {
   "cell_type": "code",
   "execution_count": 114,
   "metadata": {},
   "outputs": [
    {
     "data": {
      "text/html": [
       "<div>\n",
       "<style scoped>\n",
       "    .dataframe tbody tr th:only-of-type {\n",
       "        vertical-align: middle;\n",
       "    }\n",
       "\n",
       "    .dataframe tbody tr th {\n",
       "        vertical-align: top;\n",
       "    }\n",
       "\n",
       "    .dataframe thead th {\n",
       "        text-align: right;\n",
       "    }\n",
       "</style>\n",
       "<table border=\"1\" class=\"dataframe\">\n",
       "  <thead>\n",
       "    <tr style=\"text-align: right;\">\n",
       "      <th></th>\n",
       "      <th>Ensembl_ID</th>\n",
       "      <th>stat</th>\n",
       "      <th>p_value</th>\n",
       "      <th>gene_name</th>\n",
       "    </tr>\n",
       "  </thead>\n",
       "  <tbody>\n",
       "    <tr>\n",
       "      <th>4</th>\n",
       "      <td>ENSG00000177951.16</td>\n",
       "      <td>5.615021</td>\n",
       "      <td>0.017807</td>\n",
       "      <td>BET1L</td>\n",
       "    </tr>\n",
       "    <tr>\n",
       "      <th>11</th>\n",
       "      <td>ENSG00000174885.11</td>\n",
       "      <td>20.040423</td>\n",
       "      <td>0.000008</td>\n",
       "      <td>NLRP6</td>\n",
       "    </tr>\n",
       "    <tr>\n",
       "      <th>12</th>\n",
       "      <td>ENSG00000255026.1</td>\n",
       "      <td>6.060273</td>\n",
       "      <td>0.013826</td>\n",
       "      <td>RP11-326C3.2</td>\n",
       "    </tr>\n",
       "    <tr>\n",
       "      <th>13</th>\n",
       "      <td>ENSG00000142102.14</td>\n",
       "      <td>13.438443</td>\n",
       "      <td>0.000247</td>\n",
       "      <td>ATHL1</td>\n",
       "    </tr>\n",
       "    <tr>\n",
       "      <th>16</th>\n",
       "      <td>ENSG00000185201.15</td>\n",
       "      <td>8.611873</td>\n",
       "      <td>0.003340</td>\n",
       "      <td>IFITM2</td>\n",
       "    </tr>\n",
       "    <tr>\n",
       "      <th>...</th>\n",
       "      <td>...</td>\n",
       "      <td>...</td>\n",
       "      <td>...</td>\n",
       "      <td>...</td>\n",
       "    </tr>\n",
       "    <tr>\n",
       "      <th>2715</th>\n",
       "      <td>ENSG00000166106.3</td>\n",
       "      <td>4.825007</td>\n",
       "      <td>0.028050</td>\n",
       "      <td>ADAMTS15</td>\n",
       "    </tr>\n",
       "    <tr>\n",
       "      <th>2734</th>\n",
       "      <td>ENSG00000279497.1</td>\n",
       "      <td>3.979641</td>\n",
       "      <td>0.046053</td>\n",
       "      <td>RP11-654C20.1</td>\n",
       "    </tr>\n",
       "    <tr>\n",
       "      <th>2752</th>\n",
       "      <td>ENSG00000151500.13</td>\n",
       "      <td>11.827851</td>\n",
       "      <td>0.000584</td>\n",
       "      <td>THYN1</td>\n",
       "    </tr>\n",
       "    <tr>\n",
       "      <th>2754</th>\n",
       "      <td>ENSG00000166105.14</td>\n",
       "      <td>3.854245</td>\n",
       "      <td>0.049620</td>\n",
       "      <td>GLB1L3</td>\n",
       "    </tr>\n",
       "    <tr>\n",
       "      <th>2761</th>\n",
       "      <td>ENSG00000251226.1</td>\n",
       "      <td>15.365412</td>\n",
       "      <td>0.000089</td>\n",
       "      <td>RP11-469N6.1</td>\n",
       "    </tr>\n",
       "  </tbody>\n",
       "</table>\n",
       "<p>403 rows × 4 columns</p>\n",
       "</div>"
      ],
      "text/plain": [
       "              Ensembl_ID       stat   p_value      gene_name\n",
       "4     ENSG00000177951.16   5.615021  0.017807          BET1L\n",
       "11    ENSG00000174885.11  20.040423  0.000008          NLRP6\n",
       "12     ENSG00000255026.1   6.060273  0.013826   RP11-326C3.2\n",
       "13    ENSG00000142102.14  13.438443  0.000247          ATHL1\n",
       "16    ENSG00000185201.15   8.611873  0.003340         IFITM2\n",
       "...                  ...        ...       ...            ...\n",
       "2715   ENSG00000166106.3   4.825007  0.028050       ADAMTS15\n",
       "2734   ENSG00000279497.1   3.979641  0.046053  RP11-654C20.1\n",
       "2752  ENSG00000151500.13  11.827851  0.000584          THYN1\n",
       "2754  ENSG00000166105.14   3.854245  0.049620         GLB1L3\n",
       "2761   ENSG00000251226.1  15.365412  0.000089   RP11-469N6.1\n",
       "\n",
       "[403 rows x 4 columns]"
      ]
     },
     "execution_count": 114,
     "metadata": {},
     "output_type": "execute_result"
    }
   ],
   "source": [
    "## A compléter\n",
    "biomarkerResults[biomarkerResults[\"p_value\"]< 0.05]"
   ]
  },
  {
   "cell_type": "markdown",
   "metadata": {},
   "source": [
    "## Question bonus (à regarder chez vous, pas à l'examen): "
   ]
  },
  {
   "cell_type": "markdown",
   "metadata": {},
   "source": [
    "10) Effectuer la correction de Benjamin et Hotchberg sur ces résultats. Combien restent-t'ils de résultats significatifs?\n"
   ]
  },
  {
   "cell_type": "code",
   "execution_count": 125,
   "metadata": {},
   "outputs": [
    {
     "data": {
      "text/html": [
       "<div>\n",
       "<style scoped>\n",
       "    .dataframe tbody tr th:only-of-type {\n",
       "        vertical-align: middle;\n",
       "    }\n",
       "\n",
       "    .dataframe tbody tr th {\n",
       "        vertical-align: top;\n",
       "    }\n",
       "\n",
       "    .dataframe thead th {\n",
       "        text-align: right;\n",
       "    }\n",
       "</style>\n",
       "<table border=\"1\" class=\"dataframe\">\n",
       "  <thead>\n",
       "    <tr style=\"text-align: right;\">\n",
       "      <th></th>\n",
       "      <th>Ensembl_ID</th>\n",
       "      <th>stat</th>\n",
       "      <th>p_value</th>\n",
       "      <th>gene_name</th>\n",
       "      <th>corrected_threshold</th>\n",
       "      <th>H0 rejected</th>\n",
       "    </tr>\n",
       "  </thead>\n",
       "  <tbody>\n",
       "    <tr>\n",
       "      <th>1906</th>\n",
       "      <td>ENSG00000254965.1</td>\n",
       "      <td>27.676464</td>\n",
       "      <td>1.433968e-07</td>\n",
       "      <td>RP11-113K21.2</td>\n",
       "      <td>0.000018</td>\n",
       "      <td>True</td>\n",
       "    </tr>\n",
       "    <tr>\n",
       "      <th>1297</th>\n",
       "      <td>ENSG00000133321.9</td>\n",
       "      <td>25.031287</td>\n",
       "      <td>5.640753e-07</td>\n",
       "      <td>RARRES3</td>\n",
       "      <td>0.000036</td>\n",
       "      <td>True</td>\n",
       "    </tr>\n",
       "    <tr>\n",
       "      <th>18</th>\n",
       "      <td>ENSG00000185885.14</td>\n",
       "      <td>24.656842</td>\n",
       "      <td>6.850111e-07</td>\n",
       "      <td>IFITM1</td>\n",
       "      <td>0.000054</td>\n",
       "      <td>True</td>\n",
       "    </tr>\n",
       "    <tr>\n",
       "      <th>263</th>\n",
       "      <td>ENSG00000132274.14</td>\n",
       "      <td>24.603914</td>\n",
       "      <td>7.040859e-07</td>\n",
       "      <td>TRIM22</td>\n",
       "      <td>0.000072</td>\n",
       "      <td>True</td>\n",
       "    </tr>\n",
       "    <tr>\n",
       "      <th>2148</th>\n",
       "      <td>ENSG00000023445.12</td>\n",
       "      <td>24.547776</td>\n",
       "      <td>7.248998e-07</td>\n",
       "      <td>BIRC3</td>\n",
       "      <td>0.000090</td>\n",
       "      <td>True</td>\n",
       "    </tr>\n",
       "    <tr>\n",
       "      <th>...</th>\n",
       "      <td>...</td>\n",
       "      <td>...</td>\n",
       "      <td>...</td>\n",
       "      <td>...</td>\n",
       "      <td>...</td>\n",
       "      <td>...</td>\n",
       "    </tr>\n",
       "    <tr>\n",
       "      <th>2612</th>\n",
       "      <td>ENSG00000165478.6</td>\n",
       "      <td>9.877512</td>\n",
       "      <td>1.673110e-03</td>\n",
       "      <td>HEPACAM</td>\n",
       "      <td>0.001719</td>\n",
       "      <td>True</td>\n",
       "    </tr>\n",
       "    <tr>\n",
       "      <th>2144</th>\n",
       "      <td>ENSG00000243777.1</td>\n",
       "      <td>9.845892</td>\n",
       "      <td>1.702114e-03</td>\n",
       "      <td>RP11-864G5.1</td>\n",
       "      <td>0.001737</td>\n",
       "      <td>True</td>\n",
       "    </tr>\n",
       "    <tr>\n",
       "      <th>1081</th>\n",
       "      <td>ENSG00000172362.2</td>\n",
       "      <td>9.807478</td>\n",
       "      <td>1.738037e-03</td>\n",
       "      <td>OR5B12</td>\n",
       "      <td>0.001755</td>\n",
       "      <td>True</td>\n",
       "    </tr>\n",
       "    <tr>\n",
       "      <th>66</th>\n",
       "      <td>ENSG00000177700.5</td>\n",
       "      <td>9.804806</td>\n",
       "      <td>1.740564e-03</td>\n",
       "      <td>POLR2L</td>\n",
       "      <td>0.001773</td>\n",
       "      <td>True</td>\n",
       "    </tr>\n",
       "    <tr>\n",
       "      <th>262</th>\n",
       "      <td>ENSG00000132256.17</td>\n",
       "      <td>9.762378</td>\n",
       "      <td>1.781193e-03</td>\n",
       "      <td>TRIM5</td>\n",
       "      <td>0.001792</td>\n",
       "      <td>True</td>\n",
       "    </tr>\n",
       "  </tbody>\n",
       "</table>\n",
       "<p>99 rows × 6 columns</p>\n",
       "</div>"
      ],
      "text/plain": [
       "              Ensembl_ID       stat       p_value      gene_name  \\\n",
       "1906   ENSG00000254965.1  27.676464  1.433968e-07  RP11-113K21.2   \n",
       "1297   ENSG00000133321.9  25.031287  5.640753e-07        RARRES3   \n",
       "18    ENSG00000185885.14  24.656842  6.850111e-07         IFITM1   \n",
       "263   ENSG00000132274.14  24.603914  7.040859e-07         TRIM22   \n",
       "2148  ENSG00000023445.12  24.547776  7.248998e-07          BIRC3   \n",
       "...                  ...        ...           ...            ...   \n",
       "2612   ENSG00000165478.6   9.877512  1.673110e-03        HEPACAM   \n",
       "2144   ENSG00000243777.1   9.845892  1.702114e-03   RP11-864G5.1   \n",
       "1081   ENSG00000172362.2   9.807478  1.738037e-03         OR5B12   \n",
       "66     ENSG00000177700.5   9.804806  1.740564e-03         POLR2L   \n",
       "262   ENSG00000132256.17   9.762378  1.781193e-03          TRIM5   \n",
       "\n",
       "      corrected_threshold  H0 rejected  \n",
       "1906             0.000018         True  \n",
       "1297             0.000036         True  \n",
       "18               0.000054         True  \n",
       "263              0.000072         True  \n",
       "2148             0.000090         True  \n",
       "...                   ...          ...  \n",
       "2612             0.001719         True  \n",
       "2144             0.001737         True  \n",
       "1081             0.001755         True  \n",
       "66               0.001773         True  \n",
       "262              0.001792         True  \n",
       "\n",
       "[99 rows x 6 columns]"
      ]
     },
     "execution_count": 125,
     "metadata": {},
     "output_type": "execute_result"
    }
   ],
   "source": [
    "biomarkerResults = biomarkerResults.sort_values(\"p_value\")\n",
    "biomarkerResults[\"corrected_threshold\"]=[(r/len(biomarkerResults))*0.05 for r in range(len(biomarkerResults)+1)[1:]]\n",
    "biomarkerResults['H0 rejected'] = biomarkerResults['p_value'] < biomarkerResults['corrected_threshold']\n",
    "biomarkerResults[biomarkerResults['H0 rejected']]"
   ]
  },
  {
   "cell_type": "markdown",
   "metadata": {},
   "source": [
    "11) Est ce que les expressions des autres gènes du complexe CD3 des cellules T sont predictives de la survie des patients? Tracer les courbes de survies associées."
   ]
  },
  {
   "cell_type": "code",
   "execution_count": 116,
   "metadata": {},
   "outputs": [],
   "source": [
    "CD3_genes = [i for i in biomarkerResults[\"gene_name\"] if i.startswith('CD3')]"
   ]
  },
  {
   "cell_type": "code",
   "execution_count": 117,
   "metadata": {},
   "outputs": [
    {
     "data": {
      "text/html": [
       "<div>\n",
       "<style scoped>\n",
       "    .dataframe tbody tr th:only-of-type {\n",
       "        vertical-align: middle;\n",
       "    }\n",
       "\n",
       "    .dataframe tbody tr th {\n",
       "        vertical-align: top;\n",
       "    }\n",
       "\n",
       "    .dataframe thead th {\n",
       "        text-align: right;\n",
       "    }\n",
       "</style>\n",
       "<table border=\"1\" class=\"dataframe\">\n",
       "  <thead>\n",
       "    <tr style=\"text-align: right;\">\n",
       "      <th></th>\n",
       "      <th>Ensembl_ID</th>\n",
       "      <th>stat</th>\n",
       "      <th>p_value</th>\n",
       "      <th>gene_name</th>\n",
       "      <th>corrected_threshold</th>\n",
       "      <th>H0 rejected</th>\n",
       "    </tr>\n",
       "  </thead>\n",
       "  <tbody>\n",
       "    <tr>\n",
       "      <th>2432</th>\n",
       "      <td>ENSG00000167286.8</td>\n",
       "      <td>20.992354</td>\n",
       "      <td>0.000005</td>\n",
       "      <td>CD3D</td>\n",
       "      <td>0.000181</td>\n",
       "      <td>True</td>\n",
       "    </tr>\n",
       "    <tr>\n",
       "      <th>2433</th>\n",
       "      <td>ENSG00000160654.8</td>\n",
       "      <td>19.508312</td>\n",
       "      <td>0.000010</td>\n",
       "      <td>CD3G</td>\n",
       "      <td>0.000326</td>\n",
       "      <td>True</td>\n",
       "    </tr>\n",
       "    <tr>\n",
       "      <th>2430</th>\n",
       "      <td>ENSG00000198851.8</td>\n",
       "      <td>14.704992</td>\n",
       "      <td>0.000126</td>\n",
       "      <td>CD3E</td>\n",
       "      <td>0.000670</td>\n",
       "      <td>True</td>\n",
       "    </tr>\n",
       "  </tbody>\n",
       "</table>\n",
       "</div>"
      ],
      "text/plain": [
       "             Ensembl_ID       stat   p_value gene_name  corrected_threshold  \\\n",
       "2432  ENSG00000167286.8  20.992354  0.000005      CD3D             0.000181   \n",
       "2433  ENSG00000160654.8  19.508312  0.000010      CD3G             0.000326   \n",
       "2430  ENSG00000198851.8  14.704992  0.000126      CD3E             0.000670   \n",
       "\n",
       "      H0 rejected  \n",
       "2432         True  \n",
       "2433         True  \n",
       "2430         True  "
      ]
     },
     "execution_count": 117,
     "metadata": {},
     "output_type": "execute_result"
    }
   ],
   "source": [
    "biomarkerResults[biomarkerResults[\"gene_name\"].isin(CD3_genes)]"
   ]
  },
  {
   "cell_type": "code",
   "execution_count": 126,
   "metadata": {},
   "outputs": [
    {
     "data": {
      "image/png": "[encoded data removed]",
      "text/plain": [
       "<Figure size 640x480 with 1 Axes>"
      ]
     },
     "metadata": {},
     "output_type": "display_data"
    },
    {
     "data": {
      "image/png": "[encoded data removed]",
      "text/plain": [
       "<Figure size 640x480 with 1 Axes>"
      ]
     },
     "metadata": {},
     "output_type": "display_data"
    }
   ],
   "source": [
    "for gene_name in [\"CD3G\",\"CD3E\"]:\n",
    "    gene_id = geneAnnotations[geneAnnotations[\"gene\"]==gene_name].index[0]\n",
    "    survivalData[gene_id] = ['high' if i > np.median(smpCounts.loc[gene_id]) else 'low' for i in smpCounts.loc[gene_id]]\n",
    "    for gene_exp in ('low', 'high'):\n",
    "        mask_exp = survivalData[gene_id] == gene_exp\n",
    "        time_exp, survival_prob_exp = kaplan_meier_estimator(\n",
    "            survivalData[\"Status\"][mask_exp],\n",
    "            survivalData['OS.time'][mask_exp])\n",
    "\n",
    "        plt.step(time_exp, survival_prob_exp, where=\"post\",\n",
    "             label=\"Exp \"+gene_name +\" %s\" % gene_exp)\n",
    "\n",
    "    plt.ylabel(\"est. probability of survival $\\hat{S}(t)$\")\n",
    "    plt.xlabel(\"time $t$\")\n",
    "    plt.legend(loc=\"best\")\n",
    "    plt.show()"
   ]
  },
  {
   "cell_type": "markdown",
   "metadata": {},
   "source": [
    "Répéter cette analyse mais cette fois ci en distinguant les différents types d'echantillons. Vous aurez besoin de charger le tableau des données cliniques: `\"../UCSC_data/TCGA-SKCM.GDC_phenotype.tsv\"`\n"
   ]
  },
  {
   "cell_type": "code",
   "execution_count": 127,
   "metadata": {},
   "outputs": [],
   "source": [
    "clinicalData = pd.read_table(\"../UCSC_data/TCGA-SKCM.GDC_phenotype.tsv\")\n",
    "clinicalData = clinicalData.set_index(\"submitter_id.samples\",drop = False)\n",
    "survivalDataChr11[\"sample_type\"] = clinicalData.loc[survivalDataChr11.index,\"sample_type.samples\"]"
   ]
  },
  {
   "cell_type": "code",
   "execution_count": 128,
   "metadata": {},
   "outputs": [
    {
     "data": {
      "image/png": "[encoded data removed]",
      "text/plain": [
       "<Figure size 640x480 with 1 Axes>"
      ]
     },
     "metadata": {},
     "output_type": "display_data"
    },
    {
     "data": {
      "image/png": "[encoded data removed]",
      "text/plain": [
       "<Figure size 640x480 with 1 Axes>"
      ]
     },
     "metadata": {},
     "output_type": "display_data"
    },
    {
     "data": {
      "image/png": "[encoded data removed]",
      "text/plain": [
       "<Figure size 640x480 with 1 Axes>"
      ]
     },
     "metadata": {},
     "output_type": "display_data"
    }
   ],
   "source": [
    "for gene_name in [\"CD3D\",\"CD3G\",\"CD3E\"]:\n",
    "    gene_id = geneAnnotations[geneAnnotations[\"gene\"]==gene_name].index[0]\n",
    "    for smp_type in ('Primary Tumor', 'Metastatic'):\n",
    "        survivalDataSmp = survivalDataChr11[survivalDataChr11[\"sample_type\"] == smp_type]\n",
    "        for gene_exp in ('low', 'high'):\n",
    "            # Ensure that survivalDataSmp[gene_id] is treated as a Series, not DataFrame\n",
    "            mask_exp = survivalDataSmp[gene_id].astype(str) == gene_exp\n",
    "\n",
    "            time_exp, survival_prob_exp = kaplan_meier_estimator(\n",
    "                survivalDataSmp[\"Status\"][mask_exp],\n",
    "                survivalDataSmp['OS.time'][mask_exp])\n",
    "\n",
    "            plt.step(time_exp, survival_prob_exp, where=\"post\",\n",
    "                     label=smp_type+\" Exp \"+gene_name +\" %s\" % gene_exp)\n",
    "\n",
    "    plt.ylabel(\"est. probability of survival $\\hat{S}(t)$\")\n",
    "    plt.xlabel(\"time $t$\")\n",
    "    plt.legend(loc=\"best\")\n",
    "    plt.show()"
   ]
  },
  {
   "cell_type": "code",
   "execution_count": 109,
   "metadata": {},
   "outputs": [
    {
     "data": {
      "text/html": [
       "<div>\n",
       "<style scoped>\n",
       "    .dataframe tbody tr th:only-of-type {\n",
       "        vertical-align: middle;\n",
       "    }\n",
       "\n",
       "    .dataframe tbody tr th {\n",
       "        vertical-align: top;\n",
       "    }\n",
       "\n",
       "    .dataframe thead th {\n",
       "        text-align: right;\n",
       "    }\n",
       "</style>\n",
       "<table border=\"1\" class=\"dataframe\">\n",
       "  <thead>\n",
       "    <tr style=\"text-align: right;\">\n",
       "      <th></th>\n",
       "      <th>OS</th>\n",
       "      <th>_PATIENT</th>\n",
       "      <th>OS.time</th>\n",
       "      <th>Status</th>\n",
       "      <th>ENSG00000160654.8</th>\n",
       "      <th>ENSG00000224777.3</th>\n",
       "      <th>ENSG00000270921.1</th>\n",
       "      <th>ENSG00000230724.8</th>\n",
       "      <th>ENSG00000255229.1</th>\n",
       "      <th>ENSG00000177951.16</th>\n",
       "      <th>...</th>\n",
       "      <th>ENSG00000166105.14</th>\n",
       "      <th>ENSG00000254442.1</th>\n",
       "      <th>ENSG00000149328.13</th>\n",
       "      <th>ENSG00000109956.11</th>\n",
       "      <th>ENSG00000255545.6</th>\n",
       "      <th>ENSG00000254573.1</th>\n",
       "      <th>ENSG00000255344.1</th>\n",
       "      <th>ENSG00000251226.1</th>\n",
       "      <th>ENSG00000255327.1</th>\n",
       "      <th>sample_type</th>\n",
       "    </tr>\n",
       "  </thead>\n",
       "  <tbody>\n",
       "    <tr>\n",
       "      <th>TCGA-BF-A5EP-01A</th>\n",
       "      <td>0</td>\n",
       "      <td>TCGA-BF-A5EP</td>\n",
       "      <td>335</td>\n",
       "      <td>False</td>\n",
       "      <td>low</td>\n",
       "      <td>low</td>\n",
       "      <td>low</td>\n",
       "      <td>high</td>\n",
       "      <td>low</td>\n",
       "      <td>high</td>\n",
       "      <td>...</td>\n",
       "      <td>low</td>\n",
       "      <td>low</td>\n",
       "      <td>high</td>\n",
       "      <td>high</td>\n",
       "      <td>high</td>\n",
       "      <td>low</td>\n",
       "      <td>low</td>\n",
       "      <td>high</td>\n",
       "      <td>low</td>\n",
       "      <td>Primary Tumor</td>\n",
       "    </tr>\n",
       "    <tr>\n",
       "      <th>TCGA-BF-AAP6-01A</th>\n",
       "      <td>0</td>\n",
       "      <td>TCGA-BF-AAP6</td>\n",
       "      <td>325</td>\n",
       "      <td>False</td>\n",
       "      <td>low</td>\n",
       "      <td>low</td>\n",
       "      <td>low</td>\n",
       "      <td>high</td>\n",
       "      <td>low</td>\n",
       "      <td>high</td>\n",
       "      <td>...</td>\n",
       "      <td>low</td>\n",
       "      <td>low</td>\n",
       "      <td>high</td>\n",
       "      <td>low</td>\n",
       "      <td>low</td>\n",
       "      <td>low</td>\n",
       "      <td>low</td>\n",
       "      <td>high</td>\n",
       "      <td>low</td>\n",
       "      <td>Primary Tumor</td>\n",
       "    </tr>\n",
       "    <tr>\n",
       "      <th>TCGA-XV-A9W5-01A</th>\n",
       "      <td>0</td>\n",
       "      <td>TCGA-XV-A9W5</td>\n",
       "      <td>392</td>\n",
       "      <td>False</td>\n",
       "      <td>low</td>\n",
       "      <td>low</td>\n",
       "      <td>low</td>\n",
       "      <td>high</td>\n",
       "      <td>low</td>\n",
       "      <td>low</td>\n",
       "      <td>...</td>\n",
       "      <td>high</td>\n",
       "      <td>low</td>\n",
       "      <td>high</td>\n",
       "      <td>low</td>\n",
       "      <td>low</td>\n",
       "      <td>low</td>\n",
       "      <td>low</td>\n",
       "      <td>high</td>\n",
       "      <td>low</td>\n",
       "      <td>Primary Tumor</td>\n",
       "    </tr>\n",
       "    <tr>\n",
       "      <th>TCGA-ER-A42H-01A</th>\n",
       "      <td>1</td>\n",
       "      <td>TCGA-ER-A42H</td>\n",
       "      <td>426</td>\n",
       "      <td>True</td>\n",
       "      <td>low</td>\n",
       "      <td>low</td>\n",
       "      <td>low</td>\n",
       "      <td>high</td>\n",
       "      <td>low</td>\n",
       "      <td>low</td>\n",
       "      <td>...</td>\n",
       "      <td>low</td>\n",
       "      <td>low</td>\n",
       "      <td>high</td>\n",
       "      <td>high</td>\n",
       "      <td>low</td>\n",
       "      <td>low</td>\n",
       "      <td>low</td>\n",
       "      <td>high</td>\n",
       "      <td>low</td>\n",
       "      <td>Primary Tumor</td>\n",
       "    </tr>\n",
       "    <tr>\n",
       "      <th>TCGA-EB-A44P-01A</th>\n",
       "      <td>0</td>\n",
       "      <td>TCGA-EB-A44P</td>\n",
       "      <td>741</td>\n",
       "      <td>False</td>\n",
       "      <td>low</td>\n",
       "      <td>low</td>\n",
       "      <td>high</td>\n",
       "      <td>high</td>\n",
       "      <td>high</td>\n",
       "      <td>high</td>\n",
       "      <td>...</td>\n",
       "      <td>high</td>\n",
       "      <td>low</td>\n",
       "      <td>high</td>\n",
       "      <td>high</td>\n",
       "      <td>high</td>\n",
       "      <td>low</td>\n",
       "      <td>low</td>\n",
       "      <td>low</td>\n",
       "      <td>low</td>\n",
       "      <td>Primary Tumor</td>\n",
       "    </tr>\n",
       "    <tr>\n",
       "      <th>...</th>\n",
       "      <td>...</td>\n",
       "      <td>...</td>\n",
       "      <td>...</td>\n",
       "      <td>...</td>\n",
       "      <td>...</td>\n",
       "      <td>...</td>\n",
       "      <td>...</td>\n",
       "      <td>...</td>\n",
       "      <td>...</td>\n",
       "      <td>...</td>\n",
       "      <td>...</td>\n",
       "      <td>...</td>\n",
       "      <td>...</td>\n",
       "      <td>...</td>\n",
       "      <td>...</td>\n",
       "      <td>...</td>\n",
       "      <td>...</td>\n",
       "      <td>...</td>\n",
       "      <td>...</td>\n",
       "      <td>...</td>\n",
       "      <td>...</td>\n",
       "    </tr>\n",
       "    <tr>\n",
       "      <th>TCGA-EB-A41B-01A</th>\n",
       "      <td>0</td>\n",
       "      <td>TCGA-EB-A41B</td>\n",
       "      <td>291</td>\n",
       "      <td>False</td>\n",
       "      <td>low</td>\n",
       "      <td>low</td>\n",
       "      <td>low</td>\n",
       "      <td>high</td>\n",
       "      <td>low</td>\n",
       "      <td>high</td>\n",
       "      <td>...</td>\n",
       "      <td>high</td>\n",
       "      <td>low</td>\n",
       "      <td>high</td>\n",
       "      <td>high</td>\n",
       "      <td>high</td>\n",
       "      <td>low</td>\n",
       "      <td>low</td>\n",
       "      <td>low</td>\n",
       "      <td>low</td>\n",
       "      <td>Primary Tumor</td>\n",
       "    </tr>\n",
       "    <tr>\n",
       "      <th>TCGA-EB-A553-01A</th>\n",
       "      <td>0</td>\n",
       "      <td>TCGA-EB-A553</td>\n",
       "      <td>226</td>\n",
       "      <td>False</td>\n",
       "      <td>low</td>\n",
       "      <td>low</td>\n",
       "      <td>low</td>\n",
       "      <td>low</td>\n",
       "      <td>low</td>\n",
       "      <td>low</td>\n",
       "      <td>...</td>\n",
       "      <td>low</td>\n",
       "      <td>low</td>\n",
       "      <td>high</td>\n",
       "      <td>low</td>\n",
       "      <td>low</td>\n",
       "      <td>low</td>\n",
       "      <td>low</td>\n",
       "      <td>low</td>\n",
       "      <td>low</td>\n",
       "      <td>Primary Tumor</td>\n",
       "    </tr>\n",
       "    <tr>\n",
       "      <th>TCGA-BF-A5EQ-01A</th>\n",
       "      <td>0</td>\n",
       "      <td>TCGA-BF-A5EQ</td>\n",
       "      <td>323</td>\n",
       "      <td>False</td>\n",
       "      <td>high</td>\n",
       "      <td>low</td>\n",
       "      <td>low</td>\n",
       "      <td>low</td>\n",
       "      <td>low</td>\n",
       "      <td>low</td>\n",
       "      <td>...</td>\n",
       "      <td>low</td>\n",
       "      <td>low</td>\n",
       "      <td>low</td>\n",
       "      <td>low</td>\n",
       "      <td>low</td>\n",
       "      <td>low</td>\n",
       "      <td>low</td>\n",
       "      <td>high</td>\n",
       "      <td>high</td>\n",
       "      <td>Primary Tumor</td>\n",
       "    </tr>\n",
       "    <tr>\n",
       "      <th>TCGA-EB-A4XL-01A</th>\n",
       "      <td>0</td>\n",
       "      <td>TCGA-EB-A4XL</td>\n",
       "      <td>777</td>\n",
       "      <td>False</td>\n",
       "      <td>high</td>\n",
       "      <td>low</td>\n",
       "      <td>high</td>\n",
       "      <td>high</td>\n",
       "      <td>low</td>\n",
       "      <td>high</td>\n",
       "      <td>...</td>\n",
       "      <td>high</td>\n",
       "      <td>low</td>\n",
       "      <td>high</td>\n",
       "      <td>low</td>\n",
       "      <td>low</td>\n",
       "      <td>low</td>\n",
       "      <td>low</td>\n",
       "      <td>low</td>\n",
       "      <td>low</td>\n",
       "      <td>Primary Tumor</td>\n",
       "    </tr>\n",
       "    <tr>\n",
       "      <th>TCGA-EB-A551-01A</th>\n",
       "      <td>0</td>\n",
       "      <td>TCGA-EB-A551</td>\n",
       "      <td>590</td>\n",
       "      <td>False</td>\n",
       "      <td>high</td>\n",
       "      <td>low</td>\n",
       "      <td>high</td>\n",
       "      <td>high</td>\n",
       "      <td>low</td>\n",
       "      <td>high</td>\n",
       "      <td>...</td>\n",
       "      <td>high</td>\n",
       "      <td>high</td>\n",
       "      <td>high</td>\n",
       "      <td>high</td>\n",
       "      <td>high</td>\n",
       "      <td>high</td>\n",
       "      <td>low</td>\n",
       "      <td>high</td>\n",
       "      <td>low</td>\n",
       "      <td>Primary Tumor</td>\n",
       "    </tr>\n",
       "  </tbody>\n",
       "</table>\n",
       "<p>98 rows × 2769 columns</p>\n",
       "</div>"
      ],
      "text/plain": [
       "                  OS      _PATIENT  OS.time  Status ENSG00000160654.8  \\\n",
       "TCGA-BF-A5EP-01A   0  TCGA-BF-A5EP      335   False               low   \n",
       "TCGA-BF-AAP6-01A   0  TCGA-BF-AAP6      325   False               low   \n",
       "TCGA-XV-A9W5-01A   0  TCGA-XV-A9W5      392   False               low   \n",
       "TCGA-ER-A42H-01A   1  TCGA-ER-A42H      426    True               low   \n",
       "TCGA-EB-A44P-01A   0  TCGA-EB-A44P      741   False               low   \n",
       "...               ..           ...      ...     ...               ...   \n",
       "TCGA-EB-A41B-01A   0  TCGA-EB-A41B      291   False               low   \n",
       "TCGA-EB-A553-01A   0  TCGA-EB-A553      226   False               low   \n",
       "TCGA-BF-A5EQ-01A   0  TCGA-BF-A5EQ      323   False              high   \n",
       "TCGA-EB-A4XL-01A   0  TCGA-EB-A4XL      777   False              high   \n",
       "TCGA-EB-A551-01A   0  TCGA-EB-A551      590   False              high   \n",
       "\n",
       "                 ENSG00000224777.3 ENSG00000270921.1 ENSG00000230724.8  \\\n",
       "TCGA-BF-A5EP-01A               low               low              high   \n",
       "TCGA-BF-AAP6-01A               low               low              high   \n",
       "TCGA-XV-A9W5-01A               low               low              high   \n",
       "TCGA-ER-A42H-01A               low               low              high   \n",
       "TCGA-EB-A44P-01A               low              high              high   \n",
       "...                            ...               ...               ...   \n",
       "TCGA-EB-A41B-01A               low               low              high   \n",
       "TCGA-EB-A553-01A               low               low               low   \n",
       "TCGA-BF-A5EQ-01A               low               low               low   \n",
       "TCGA-EB-A4XL-01A               low              high              high   \n",
       "TCGA-EB-A551-01A               low              high              high   \n",
       "\n",
       "                 ENSG00000255229.1 ENSG00000177951.16  ... ENSG00000166105.14  \\\n",
       "TCGA-BF-A5EP-01A               low               high  ...                low   \n",
       "TCGA-BF-AAP6-01A               low               high  ...                low   \n",
       "TCGA-XV-A9W5-01A               low                low  ...               high   \n",
       "TCGA-ER-A42H-01A               low                low  ...                low   \n",
       "TCGA-EB-A44P-01A              high               high  ...               high   \n",
       "...                            ...                ...  ...                ...   \n",
       "TCGA-EB-A41B-01A               low               high  ...               high   \n",
       "TCGA-EB-A553-01A               low                low  ...                low   \n",
       "TCGA-BF-A5EQ-01A               low                low  ...                low   \n",
       "TCGA-EB-A4XL-01A               low               high  ...               high   \n",
       "TCGA-EB-A551-01A               low               high  ...               high   \n",
       "\n",
       "                 ENSG00000254442.1 ENSG00000149328.13 ENSG00000109956.11  \\\n",
       "TCGA-BF-A5EP-01A               low               high               high   \n",
       "TCGA-BF-AAP6-01A               low               high                low   \n",
       "TCGA-XV-A9W5-01A               low               high                low   \n",
       "TCGA-ER-A42H-01A               low               high               high   \n",
       "TCGA-EB-A44P-01A               low               high               high   \n",
       "...                            ...                ...                ...   \n",
       "TCGA-EB-A41B-01A               low               high               high   \n",
       "TCGA-EB-A553-01A               low               high                low   \n",
       "TCGA-BF-A5EQ-01A               low                low                low   \n",
       "TCGA-EB-A4XL-01A               low               high                low   \n",
       "TCGA-EB-A551-01A              high               high               high   \n",
       "\n",
       "                 ENSG00000255545.6 ENSG00000254573.1 ENSG00000255344.1  \\\n",
       "TCGA-BF-A5EP-01A              high               low               low   \n",
       "TCGA-BF-AAP6-01A               low               low               low   \n",
       "TCGA-XV-A9W5-01A               low               low               low   \n",
       "TCGA-ER-A42H-01A               low               low               low   \n",
       "TCGA-EB-A44P-01A              high               low               low   \n",
       "...                            ...               ...               ...   \n",
       "TCGA-EB-A41B-01A              high               low               low   \n",
       "TCGA-EB-A553-01A               low               low               low   \n",
       "TCGA-BF-A5EQ-01A               low               low               low   \n",
       "TCGA-EB-A4XL-01A               low               low               low   \n",
       "TCGA-EB-A551-01A              high              high               low   \n",
       "\n",
       "                 ENSG00000251226.1 ENSG00000255327.1    sample_type  \n",
       "TCGA-BF-A5EP-01A              high               low  Primary Tumor  \n",
       "TCGA-BF-AAP6-01A              high               low  Primary Tumor  \n",
       "TCGA-XV-A9W5-01A              high               low  Primary Tumor  \n",
       "TCGA-ER-A42H-01A              high               low  Primary Tumor  \n",
       "TCGA-EB-A44P-01A               low               low  Primary Tumor  \n",
       "...                            ...               ...            ...  \n",
       "TCGA-EB-A41B-01A               low               low  Primary Tumor  \n",
       "TCGA-EB-A553-01A               low               low  Primary Tumor  \n",
       "TCGA-BF-A5EQ-01A              high              high  Primary Tumor  \n",
       "TCGA-EB-A4XL-01A               low               low  Primary Tumor  \n",
       "TCGA-EB-A551-01A              high               low  Primary Tumor  \n",
       "\n",
       "[98 rows x 2769 columns]"
      ]
     },
     "execution_count": 109,
     "metadata": {},
     "output_type": "execute_result"
    }
   ],
   "source": [
    "survivalDataSmp"
   ]
  },
  {
   "cell_type": "markdown",
   "metadata": {},
   "source": [
    "Afficher ces courbes de survies uniquement pour les échantillons de tumeurs primaires"
   ]
  },
  {
   "cell_type": "code",
   "execution_count": 129,
   "metadata": {},
   "outputs": [
    {
     "data": {
      "image/png": "[encoded data removed]",
      "text/plain": [
       "<Figure size 640x480 with 1 Axes>"
      ]
     },
     "metadata": {},
     "output_type": "display_data"
    },
    {
     "data": {
      "image/png": "[encoded data removed]",
      "text/plain": [
       "<Figure size 640x480 with 1 Axes>"
      ]
     },
     "metadata": {},
     "output_type": "display_data"
    },
    {
     "data": {
      "image/png": "[encoded data removed]",
      "text/plain": [
       "<Figure size 640x480 with 1 Axes>"
      ]
     },
     "metadata": {},
     "output_type": "display_data"
    }
   ],
   "source": [
    "smp_type = \"Primary Tumor\"\n",
    "survivalDataChr11 = survivalDataChr11[survivalData[\"sample_type\"] == smp_type]\n",
    "for gene_name in [\"CD3D\",\"CD3G\",\"CD3E\"]:\n",
    "    gene_id = geneAnnotations[geneAnnotations[\"gene\"]==gene_name].index[0]\n",
    "    smp_type = 'Primary Tumor'\n",
    "    survivalDataSmp = survivalDataChr11[survivalDataChr11[\"sample_type\"] == smp_type]\n",
    "    for gene_exp in ('low', 'high'):\n",
    "        mask_exp = survivalDataSmp[gene_id] == gene_exp\n",
    "        time_exp, survival_prob_exp = kaplan_meier_estimator(\n",
    "            survivalDataSmp[\"Status\"][mask_exp],\n",
    "            survivalDataSmp['OS.time'][mask_exp])\n",
    "\n",
    "        plt.step(time_exp, survival_prob_exp, where=\"post\",\n",
    "                 label=smp_type+\" Exp \"+gene_name +\" %s\" % gene_exp)\n",
    "\n",
    "    plt.ylabel(\"est. probability of survival $\\hat{S}(t)$\")\n",
    "    plt.xlabel(\"time $t$\")\n",
    "    plt.legend(loc=\"best\")\n",
    "    plt.show()"
   ]
  }
 ],
 "metadata": {
  "kernelspec": {
   "display_name": "Python 3 (ipykernel)",
   "language": "python",
   "name": "python3"
  },
  "language_info": {
   "codemirror_mode": {
    "name": "ipython",
    "version": 3
   },
   "file_extension": ".py",
   "mimetype": "text/x-python",
   "name": "python",
   "nbconvert_exporter": "python",
   "pygments_lexer": "ipython3",
   "version": "3.10.10"
  }
 },
 "nbformat": 4,
 "nbformat_minor": 4
}
