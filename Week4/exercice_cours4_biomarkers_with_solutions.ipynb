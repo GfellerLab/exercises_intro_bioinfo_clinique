{
 "cells": [
  {
   "cell_type": "markdown",
   "metadata": {},
   "source": [
    "# Exercice semaine 4: Correction tests multiples et biomarqueurs"
   ]
  },
  {
   "cell_type": "markdown",
   "metadata": {},
   "source": [
    "## Chargement des libraries"
   ]
  },
  {
   "cell_type": "code",
   "execution_count": 13,
   "metadata": {},
   "outputs": [],
   "source": [
    "import pandas as pd\n",
    "import plotly.express as px\n",
    "import numpy as np\n",
    "import os\n",
    "from scipy import stats\n",
    "\n",
    "%matplotlib inline\n",
    "import matplotlib.pyplot as plt\n",
    "from sksurv.nonparametric import kaplan_meier_estimator\n",
    "from sksurv.compare import compare_survival"
   ]
  },
  {
   "cell_type": "markdown",
   "metadata": {},
   "source": [
    "## Partie 1 : Introduction aux tests multiples"
   ]
  },
  {
   "cell_type": "markdown",
   "metadata": {},
   "source": [
    "1) Faîtes 1000 t-tests entre des distributions normales centrées réduites de taille 30 générées aléatoirement. Afficher les deux dernières distributions générées."
   ]
  },
  {
   "cell_type": "code",
   "execution_count": 14,
   "metadata": {},
   "outputs": [],
   "source": [
    "resRandom = list()\n",
    "for g in range(1000):\n",
    "    group1 = np.random.normal(loc=0.0, scale=1.0, size=30)\n",
    "    group2 = np.random.normal(loc=0.0, scale=1.0, size=30)\n",
    "    diff = np.mean(group2) - np.mean(group1)\n",
    "    t, p = stats.ttest_ind(group1, group2,equal_var = True) \n",
    "    #t, p  = stats.wilcoxon(x = group1, y = group2) \n",
    "    resRandom.append([g,diff,t,p])"
   ]
  },
  {
   "cell_type": "code",
   "execution_count": 15,
   "metadata": {},
   "outputs": [
    {
     "data": {
      "application/vnd.plotly.v1+json": {
       "config": {
        "plotlyServerURL": "https://plot.ly"
       },
       "data": [
        {
         "alignmentgroup": "True",
         "bingroup": "x",
         "hovertemplate": "variable=0<br>value=%{x}<br>count=%{y}<extra></extra>",
         "legendgroup": "0",
         "marker": {
          "color": "#636efa",
          "pattern": {
           "shape": ""
          }
         },
         "name": "0",
         "nbinsx": 10,
         "offsetgroup": "0",
         "orientation": "v",
         "showlegend": true,
         "type": "histogram",
         "x": [
          -1.221057524989923,
          0.8131641494153444,
          0.7139500883950627,
          0.5379398308634511,
          -0.08545910965793094,
          -1.0636192407610194,
          0.47404471218354133,
          1.039645770321909,
          -0.04956526237831181,
          1.3658200213236806,
          -1.7342705981743682,
          -0.3151971520229616,
          -0.22386136194255432,
          -0.23851859584199375,
          0.00952982721128188,
          0.42874714290365123,
          -0.5101175431920738,
          0.5455506937377103,
          -2.7914024073357986,
          0.22712032855775718,
          -0.2551422021012153,
          -0.8249591027461176,
          -0.1702868626140082,
          -0.9104116325645872,
          -0.16561919387564866,
          -0.5266310439166322,
          0.9534998976509383,
          1.0805080102690627,
          0.11318284681311123,
          -1.0715518225957976
         ],
         "xaxis": "x",
         "yaxis": "y"
        }
       ],
       "layout": {
        "barmode": "relative",
        "legend": {
         "title": {
          "text": "variable"
         },
         "tracegroupgap": 0
        },
        "margin": {
         "t": 60
        },
        "template": {
         "data": {
          "bar": [
           {
            "error_x": {
             "color": "#2a3f5f"
            },
            "error_y": {
             "color": "#2a3f5f"
            },
            "marker": {
             "line": {
              "color": "#E5ECF6",
              "width": 0.5
             },
             "pattern": {
              "fillmode": "overlay",
              "size": 10,
              "solidity": 0.2
             }
            },
            "type": "bar"
           }
          ],
          "barpolar": [
           {
            "marker": {
             "line": {
              "color": "#E5ECF6",
              "width": 0.5
             },
             "pattern": {
              "fillmode": "overlay",
              "size": 10,
              "solidity": 0.2
             }
            },
            "type": "barpolar"
           }
          ],
          "carpet": [
           {
            "aaxis": {
             "endlinecolor": "#2a3f5f",
             "gridcolor": "white",
             "linecolor": "white",
             "minorgridcolor": "white",
             "startlinecolor": "#2a3f5f"
            },
            "baxis": {
             "endlinecolor": "#2a3f5f",
             "gridcolor": "white",
             "linecolor": "white",
             "minorgridcolor": "white",
             "startlinecolor": "#2a3f5f"
            },
            "type": "carpet"
           }
          ],
          "choropleth": [
           {
            "colorbar": {
             "outlinewidth": 0,
             "ticks": ""
            },
            "type": "choropleth"
           }
          ],
          "contour": [
           {
            "colorbar": {
             "outlinewidth": 0,
             "ticks": ""
            },
            "colorscale": [
             [
              0,
              "#0d0887"
             ],
             [
              0.1111111111111111,
              "#46039f"
             ],
             [
              0.2222222222222222,
              "#7201a8"
             ],
             [
              0.3333333333333333,
              "#9c179e"
             ],
             [
              0.4444444444444444,
              "#bd3786"
             ],
             [
              0.5555555555555556,
              "#d8576b"
             ],
             [
              0.6666666666666666,
              "#ed7953"
             ],
             [
              0.7777777777777778,
              "#fb9f3a"
             ],
             [
              0.8888888888888888,
              "#fdca26"
             ],
             [
              1,
              "#f0f921"
             ]
            ],
            "type": "contour"
           }
          ],
          "contourcarpet": [
           {
            "colorbar": {
             "outlinewidth": 0,
             "ticks": ""
            },
            "type": "contourcarpet"
           }
          ],
          "heatmap": [
           {
            "colorbar": {
             "outlinewidth": 0,
             "ticks": ""
            },
            "colorscale": [
             [
              0,
              "#0d0887"
             ],
             [
              0.1111111111111111,
              "#46039f"
             ],
             [
              0.2222222222222222,
              "#7201a8"
             ],
             [
              0.3333333333333333,
              "#9c179e"
             ],
             [
              0.4444444444444444,
              "#bd3786"
             ],
             [
              0.5555555555555556,
              "#d8576b"
             ],
             [
              0.6666666666666666,
              "#ed7953"
             ],
             [
              0.7777777777777778,
              "#fb9f3a"
             ],
             [
              0.8888888888888888,
              "#fdca26"
             ],
             [
              1,
              "#f0f921"
             ]
            ],
            "type": "heatmap"
           }
          ],
          "heatmapgl": [
           {
            "colorbar": {
             "outlinewidth": 0,
             "ticks": ""
            },
            "colorscale": [
             [
              0,
              "#0d0887"
             ],
             [
              0.1111111111111111,
              "#46039f"
             ],
             [
              0.2222222222222222,
              "#7201a8"
             ],
             [
              0.3333333333333333,
              "#9c179e"
             ],
             [
              0.4444444444444444,
              "#bd3786"
             ],
             [
              0.5555555555555556,
              "#d8576b"
             ],
             [
              0.6666666666666666,
              "#ed7953"
             ],
             [
              0.7777777777777778,
              "#fb9f3a"
             ],
             [
              0.8888888888888888,
              "#fdca26"
             ],
             [
              1,
              "#f0f921"
             ]
            ],
            "type": "heatmapgl"
           }
          ],
          "histogram": [
           {
            "marker": {
             "pattern": {
              "fillmode": "overlay",
              "size": 10,
              "solidity": 0.2
             }
            },
            "type": "histogram"
           }
          ],
          "histogram2d": [
           {
            "colorbar": {
             "outlinewidth": 0,
             "ticks": ""
            },
            "colorscale": [
             [
              0,
              "#0d0887"
             ],
             [
              0.1111111111111111,
              "#46039f"
             ],
             [
              0.2222222222222222,
              "#7201a8"
             ],
             [
              0.3333333333333333,
              "#9c179e"
             ],
             [
              0.4444444444444444,
              "#bd3786"
             ],
             [
              0.5555555555555556,
              "#d8576b"
             ],
             [
              0.6666666666666666,
              "#ed7953"
             ],
             [
              0.7777777777777778,
              "#fb9f3a"
             ],
             [
              0.8888888888888888,
              "#fdca26"
             ],
             [
              1,
              "#f0f921"
             ]
            ],
            "type": "histogram2d"
           }
          ],
          "histogram2dcontour": [
           {
            "colorbar": {
             "outlinewidth": 0,
             "ticks": ""
            },
            "colorscale": [
             [
              0,
              "#0d0887"
             ],
             [
              0.1111111111111111,
              "#46039f"
             ],
             [
              0.2222222222222222,
              "#7201a8"
             ],
             [
              0.3333333333333333,
              "#9c179e"
             ],
             [
              0.4444444444444444,
              "#bd3786"
             ],
             [
              0.5555555555555556,
              "#d8576b"
             ],
             [
              0.6666666666666666,
              "#ed7953"
             ],
             [
              0.7777777777777778,
              "#fb9f3a"
             ],
             [
              0.8888888888888888,
              "#fdca26"
             ],
             [
              1,
              "#f0f921"
             ]
            ],
            "type": "histogram2dcontour"
           }
          ],
          "mesh3d": [
           {
            "colorbar": {
             "outlinewidth": 0,
             "ticks": ""
            },
            "type": "mesh3d"
           }
          ],
          "parcoords": [
           {
            "line": {
             "colorbar": {
              "outlinewidth": 0,
              "ticks": ""
             }
            },
            "type": "parcoords"
           }
          ],
          "pie": [
           {
            "automargin": true,
            "type": "pie"
           }
          ],
          "scatter": [
           {
            "fillpattern": {
             "fillmode": "overlay",
             "size": 10,
             "solidity": 0.2
            },
            "type": "scatter"
           }
          ],
          "scatter3d": [
           {
            "line": {
             "colorbar": {
              "outlinewidth": 0,
              "ticks": ""
             }
            },
            "marker": {
             "colorbar": {
              "outlinewidth": 0,
              "ticks": ""
             }
            },
            "type": "scatter3d"
           }
          ],
          "scattercarpet": [
           {
            "marker": {
             "colorbar": {
              "outlinewidth": 0,
              "ticks": ""
             }
            },
            "type": "scattercarpet"
           }
          ],
          "scattergeo": [
           {
            "marker": {
             "colorbar": {
              "outlinewidth": 0,
              "ticks": ""
             }
            },
            "type": "scattergeo"
           }
          ],
          "scattergl": [
           {
            "marker": {
             "colorbar": {
              "outlinewidth": 0,
              "ticks": ""
             }
            },
            "type": "scattergl"
           }
          ],
          "scattermapbox": [
           {
            "marker": {
             "colorbar": {
              "outlinewidth": 0,
              "ticks": ""
             }
            },
            "type": "scattermapbox"
           }
          ],
          "scatterpolar": [
           {
            "marker": {
             "colorbar": {
              "outlinewidth": 0,
              "ticks": ""
             }
            },
            "type": "scatterpolar"
           }
          ],
          "scatterpolargl": [
           {
            "marker": {
             "colorbar": {
              "outlinewidth": 0,
              "ticks": ""
             }
            },
            "type": "scatterpolargl"
           }
          ],
          "scatterternary": [
           {
            "marker": {
             "colorbar": {
              "outlinewidth": 0,
              "ticks": ""
             }
            },
            "type": "scatterternary"
           }
          ],
          "surface": [
           {
            "colorbar": {
             "outlinewidth": 0,
             "ticks": ""
            },
            "colorscale": [
             [
              0,
              "#0d0887"
             ],
             [
              0.1111111111111111,
              "#46039f"
             ],
             [
              0.2222222222222222,
              "#7201a8"
             ],
             [
              0.3333333333333333,
              "#9c179e"
             ],
             [
              0.4444444444444444,
              "#bd3786"
             ],
             [
              0.5555555555555556,
              "#d8576b"
             ],
             [
              0.6666666666666666,
              "#ed7953"
             ],
             [
              0.7777777777777778,
              "#fb9f3a"
             ],
             [
              0.8888888888888888,
              "#fdca26"
             ],
             [
              1,
              "#f0f921"
             ]
            ],
            "type": "surface"
           }
          ],
          "table": [
           {
            "cells": {
             "fill": {
              "color": "#EBF0F8"
             },
             "line": {
              "color": "white"
             }
            },
            "header": {
             "fill": {
              "color": "#C8D4E3"
             },
             "line": {
              "color": "white"
             }
            },
            "type": "table"
           }
          ]
         },
         "layout": {
          "annotationdefaults": {
           "arrowcolor": "#2a3f5f",
           "arrowhead": 0,
           "arrowwidth": 1
          },
          "autotypenumbers": "strict",
          "coloraxis": {
           "colorbar": {
            "outlinewidth": 0,
            "ticks": ""
           }
          },
          "colorscale": {
           "diverging": [
            [
             0,
             "#8e0152"
            ],
            [
             0.1,
             "#c51b7d"
            ],
            [
             0.2,
             "#de77ae"
            ],
            [
             0.3,
             "#f1b6da"
            ],
            [
             0.4,
             "#fde0ef"
            ],
            [
             0.5,
             "#f7f7f7"
            ],
            [
             0.6,
             "#e6f5d0"
            ],
            [
             0.7,
             "#b8e186"
            ],
            [
             0.8,
             "#7fbc41"
            ],
            [
             0.9,
             "#4d9221"
            ],
            [
             1,
             "#276419"
            ]
           ],
           "sequential": [
            [
             0,
             "#0d0887"
            ],
            [
             0.1111111111111111,
             "#46039f"
            ],
            [
             0.2222222222222222,
             "#7201a8"
            ],
            [
             0.3333333333333333,
             "#9c179e"
            ],
            [
             0.4444444444444444,
             "#bd3786"
            ],
            [
             0.5555555555555556,
             "#d8576b"
            ],
            [
             0.6666666666666666,
             "#ed7953"
            ],
            [
             0.7777777777777778,
             "#fb9f3a"
            ],
            [
             0.8888888888888888,
             "#fdca26"
            ],
            [
             1,
             "#f0f921"
            ]
           ],
           "sequentialminus": [
            [
             0,
             "#0d0887"
            ],
            [
             0.1111111111111111,
             "#46039f"
            ],
            [
             0.2222222222222222,
             "#7201a8"
            ],
            [
             0.3333333333333333,
             "#9c179e"
            ],
            [
             0.4444444444444444,
             "#bd3786"
            ],
            [
             0.5555555555555556,
             "#d8576b"
            ],
            [
             0.6666666666666666,
             "#ed7953"
            ],
            [
             0.7777777777777778,
             "#fb9f3a"
            ],
            [
             0.8888888888888888,
             "#fdca26"
            ],
            [
             1,
             "#f0f921"
            ]
           ]
          },
          "colorway": [
           "#636efa",
           "#EF553B",
           "#00cc96",
           "#ab63fa",
           "#FFA15A",
           "#19d3f3",
           "#FF6692",
           "#B6E880",
           "#FF97FF",
           "#FECB52"
          ],
          "font": {
           "color": "#2a3f5f"
          },
          "geo": {
           "bgcolor": "white",
           "lakecolor": "white",
           "landcolor": "#E5ECF6",
           "showlakes": true,
           "showland": true,
           "subunitcolor": "white"
          },
          "hoverlabel": {
           "align": "left"
          },
          "hovermode": "closest",
          "mapbox": {
           "style": "light"
          },
          "paper_bgcolor": "white",
          "plot_bgcolor": "#E5ECF6",
          "polar": {
           "angularaxis": {
            "gridcolor": "white",
            "linecolor": "white",
            "ticks": ""
           },
           "bgcolor": "#E5ECF6",
           "radialaxis": {
            "gridcolor": "white",
            "linecolor": "white",
            "ticks": ""
           }
          },
          "scene": {
           "xaxis": {
            "backgroundcolor": "#E5ECF6",
            "gridcolor": "white",
            "gridwidth": 2,
            "linecolor": "white",
            "showbackground": true,
            "ticks": "",
            "zerolinecolor": "white"
           },
           "yaxis": {
            "backgroundcolor": "#E5ECF6",
            "gridcolor": "white",
            "gridwidth": 2,
            "linecolor": "white",
            "showbackground": true,
            "ticks": "",
            "zerolinecolor": "white"
           },
           "zaxis": {
            "backgroundcolor": "#E5ECF6",
            "gridcolor": "white",
            "gridwidth": 2,
            "linecolor": "white",
            "showbackground": true,
            "ticks": "",
            "zerolinecolor": "white"
           }
          },
          "shapedefaults": {
           "line": {
            "color": "#2a3f5f"
           }
          },
          "ternary": {
           "aaxis": {
            "gridcolor": "white",
            "linecolor": "white",
            "ticks": ""
           },
           "baxis": {
            "gridcolor": "white",
            "linecolor": "white",
            "ticks": ""
           },
           "bgcolor": "#E5ECF6",
           "caxis": {
            "gridcolor": "white",
            "linecolor": "white",
            "ticks": ""
           }
          },
          "title": {
           "x": 0.05
          },
          "xaxis": {
           "automargin": true,
           "gridcolor": "white",
           "linecolor": "white",
           "ticks": "",
           "title": {
            "standoff": 15
           },
           "zerolinecolor": "white",
           "zerolinewidth": 2
          },
          "yaxis": {
           "automargin": true,
           "gridcolor": "white",
           "linecolor": "white",
           "ticks": "",
           "title": {
            "standoff": 15
           },
           "zerolinecolor": "white",
           "zerolinewidth": 2
          }
         }
        },
        "xaxis": {
         "anchor": "y",
         "domain": [
          0,
          1
         ],
         "title": {
          "text": "value"
         }
        },
        "yaxis": {
         "anchor": "x",
         "domain": [
          0,
          1
         ],
         "title": {
          "text": "count"
         }
        }
       }
      },
      "text/html": [
       "<div>                            <div id=\"95bbbf72-c1ea-4bae-9eb3-83abe5dd0b29\" class=\"plotly-graph-div\" style=\"height:525px; width:100%;\"></div>            <script type=\"text/javascript\">                require([\"plotly\"], function(Plotly) {                    window.PLOTLYENV=window.PLOTLYENV || {};                                    if (document.getElementById(\"95bbbf72-c1ea-4bae-9eb3-83abe5dd0b29\")) {                    Plotly.newPlot(                        \"95bbbf72-c1ea-4bae-9eb3-83abe5dd0b29\",                        [{\"alignmentgroup\":\"True\",\"bingroup\":\"x\",\"hovertemplate\":\"variable=0<br>value=%{x}<br>count=%{y}<extra></extra>\",\"legendgroup\":\"0\",\"marker\":{\"color\":\"#636efa\",\"pattern\":{\"shape\":\"\"}},\"name\":\"0\",\"nbinsx\":10,\"offsetgroup\":\"0\",\"orientation\":\"v\",\"showlegend\":true,\"x\":[-1.221057524989923,0.8131641494153444,0.7139500883950627,0.5379398308634511,-0.08545910965793094,-1.0636192407610194,0.47404471218354133,1.039645770321909,-0.04956526237831181,1.3658200213236806,-1.7342705981743682,-0.3151971520229616,-0.22386136194255432,-0.23851859584199375,0.00952982721128188,0.42874714290365123,-0.5101175431920738,0.5455506937377103,-2.7914024073357986,0.22712032855775718,-0.2551422021012153,-0.8249591027461176,-0.1702868626140082,-0.9104116325645872,-0.16561919387564866,-0.5266310439166322,0.9534998976509383,1.0805080102690627,0.11318284681311123,-1.0715518225957976],\"xaxis\":\"x\",\"yaxis\":\"y\",\"type\":\"histogram\"}],                        {\"template\":{\"data\":{\"histogram2dcontour\":[{\"type\":\"histogram2dcontour\",\"colorbar\":{\"outlinewidth\":0,\"ticks\":\"\"},\"colorscale\":[[0.0,\"#0d0887\"],[0.1111111111111111,\"#46039f\"],[0.2222222222222222,\"#7201a8\"],[0.3333333333333333,\"#9c179e\"],[0.4444444444444444,\"#bd3786\"],[0.5555555555555556,\"#d8576b\"],[0.6666666666666666,\"#ed7953\"],[0.7777777777777778,\"#fb9f3a\"],[0.8888888888888888,\"#fdca26\"],[1.0,\"#f0f921\"]]}],\"choropleth\":[{\"type\":\"choropleth\",\"colorbar\":{\"outlinewidth\":0,\"ticks\":\"\"}}],\"histogram2d\":[{\"type\":\"histogram2d\",\"colorbar\":{\"outlinewidth\":0,\"ticks\":\"\"},\"colorscale\":[[0.0,\"#0d0887\"],[0.1111111111111111,\"#46039f\"],[0.2222222222222222,\"#7201a8\"],[0.3333333333333333,\"#9c179e\"],[0.4444444444444444,\"#bd3786\"],[0.5555555555555556,\"#d8576b\"],[0.6666666666666666,\"#ed7953\"],[0.7777777777777778,\"#fb9f3a\"],[0.8888888888888888,\"#fdca26\"],[1.0,\"#f0f921\"]]}],\"heatmap\":[{\"type\":\"heatmap\",\"colorbar\":{\"outlinewidth\":0,\"ticks\":\"\"},\"colorscale\":[[0.0,\"#0d0887\"],[0.1111111111111111,\"#46039f\"],[0.2222222222222222,\"#7201a8\"],[0.3333333333333333,\"#9c179e\"],[0.4444444444444444,\"#bd3786\"],[0.5555555555555556,\"#d8576b\"],[0.6666666666666666,\"#ed7953\"],[0.7777777777777778,\"#fb9f3a\"],[0.8888888888888888,\"#fdca26\"],[1.0,\"#f0f921\"]]}],\"heatmapgl\":[{\"type\":\"heatmapgl\",\"colorbar\":{\"outlinewidth\":0,\"ticks\":\"\"},\"colorscale\":[[0.0,\"#0d0887\"],[0.1111111111111111,\"#46039f\"],[0.2222222222222222,\"#7201a8\"],[0.3333333333333333,\"#9c179e\"],[0.4444444444444444,\"#bd3786\"],[0.5555555555555556,\"#d8576b\"],[0.6666666666666666,\"#ed7953\"],[0.7777777777777778,\"#fb9f3a\"],[0.8888888888888888,\"#fdca26\"],[1.0,\"#f0f921\"]]}],\"contourcarpet\":[{\"type\":\"contourcarpet\",\"colorbar\":{\"outlinewidth\":0,\"ticks\":\"\"}}],\"contour\":[{\"type\":\"contour\",\"colorbar\":{\"outlinewidth\":0,\"ticks\":\"\"},\"colorscale\":[[0.0,\"#0d0887\"],[0.1111111111111111,\"#46039f\"],[0.2222222222222222,\"#7201a8\"],[0.3333333333333333,\"#9c179e\"],[0.4444444444444444,\"#bd3786\"],[0.5555555555555556,\"#d8576b\"],[0.6666666666666666,\"#ed7953\"],[0.7777777777777778,\"#fb9f3a\"],[0.8888888888888888,\"#fdca26\"],[1.0,\"#f0f921\"]]}],\"surface\":[{\"type\":\"surface\",\"colorbar\":{\"outlinewidth\":0,\"ticks\":\"\"},\"colorscale\":[[0.0,\"#0d0887\"],[0.1111111111111111,\"#46039f\"],[0.2222222222222222,\"#7201a8\"],[0.3333333333333333,\"#9c179e\"],[0.4444444444444444,\"#bd3786\"],[0.5555555555555556,\"#d8576b\"],[0.6666666666666666,\"#ed7953\"],[0.7777777777777778,\"#fb9f3a\"],[0.8888888888888888,\"#fdca26\"],[1.0,\"#f0f921\"]]}],\"mesh3d\":[{\"type\":\"mesh3d\",\"colorbar\":{\"outlinewidth\":0,\"ticks\":\"\"}}],\"scatter\":[{\"fillpattern\":{\"fillmode\":\"overlay\",\"size\":10,\"solidity\":0.2},\"type\":\"scatter\"}],\"parcoords\":[{\"type\":\"parcoords\",\"line\":{\"colorbar\":{\"outlinewidth\":0,\"ticks\":\"\"}}}],\"scatterpolargl\":[{\"type\":\"scatterpolargl\",\"marker\":{\"colorbar\":{\"outlinewidth\":0,\"ticks\":\"\"}}}],\"bar\":[{\"error_x\":{\"color\":\"#2a3f5f\"},\"error_y\":{\"color\":\"#2a3f5f\"},\"marker\":{\"line\":{\"color\":\"#E5ECF6\",\"width\":0.5},\"pattern\":{\"fillmode\":\"overlay\",\"size\":10,\"solidity\":0.2}},\"type\":\"bar\"}],\"scattergeo\":[{\"type\":\"scattergeo\",\"marker\":{\"colorbar\":{\"outlinewidth\":0,\"ticks\":\"\"}}}],\"scatterpolar\":[{\"type\":\"scatterpolar\",\"marker\":{\"colorbar\":{\"outlinewidth\":0,\"ticks\":\"\"}}}],\"histogram\":[{\"marker\":{\"pattern\":{\"fillmode\":\"overlay\",\"size\":10,\"solidity\":0.2}},\"type\":\"histogram\"}],\"scattergl\":[{\"type\":\"scattergl\",\"marker\":{\"colorbar\":{\"outlinewidth\":0,\"ticks\":\"\"}}}],\"scatter3d\":[{\"type\":\"scatter3d\",\"line\":{\"colorbar\":{\"outlinewidth\":0,\"ticks\":\"\"}},\"marker\":{\"colorbar\":{\"outlinewidth\":0,\"ticks\":\"\"}}}],\"scattermapbox\":[{\"type\":\"scattermapbox\",\"marker\":{\"colorbar\":{\"outlinewidth\":0,\"ticks\":\"\"}}}],\"scatterternary\":[{\"type\":\"scatterternary\",\"marker\":{\"colorbar\":{\"outlinewidth\":0,\"ticks\":\"\"}}}],\"scattercarpet\":[{\"type\":\"scattercarpet\",\"marker\":{\"colorbar\":{\"outlinewidth\":0,\"ticks\":\"\"}}}],\"carpet\":[{\"aaxis\":{\"endlinecolor\":\"#2a3f5f\",\"gridcolor\":\"white\",\"linecolor\":\"white\",\"minorgridcolor\":\"white\",\"startlinecolor\":\"#2a3f5f\"},\"baxis\":{\"endlinecolor\":\"#2a3f5f\",\"gridcolor\":\"white\",\"linecolor\":\"white\",\"minorgridcolor\":\"white\",\"startlinecolor\":\"#2a3f5f\"},\"type\":\"carpet\"}],\"table\":[{\"cells\":{\"fill\":{\"color\":\"#EBF0F8\"},\"line\":{\"color\":\"white\"}},\"header\":{\"fill\":{\"color\":\"#C8D4E3\"},\"line\":{\"color\":\"white\"}},\"type\":\"table\"}],\"barpolar\":[{\"marker\":{\"line\":{\"color\":\"#E5ECF6\",\"width\":0.5},\"pattern\":{\"fillmode\":\"overlay\",\"size\":10,\"solidity\":0.2}},\"type\":\"barpolar\"}],\"pie\":[{\"automargin\":true,\"type\":\"pie\"}]},\"layout\":{\"autotypenumbers\":\"strict\",\"colorway\":[\"#636efa\",\"#EF553B\",\"#00cc96\",\"#ab63fa\",\"#FFA15A\",\"#19d3f3\",\"#FF6692\",\"#B6E880\",\"#FF97FF\",\"#FECB52\"],\"font\":{\"color\":\"#2a3f5f\"},\"hovermode\":\"closest\",\"hoverlabel\":{\"align\":\"left\"},\"paper_bgcolor\":\"white\",\"plot_bgcolor\":\"#E5ECF6\",\"polar\":{\"bgcolor\":\"#E5ECF6\",\"angularaxis\":{\"gridcolor\":\"white\",\"linecolor\":\"white\",\"ticks\":\"\"},\"radialaxis\":{\"gridcolor\":\"white\",\"linecolor\":\"white\",\"ticks\":\"\"}},\"ternary\":{\"bgcolor\":\"#E5ECF6\",\"aaxis\":{\"gridcolor\":\"white\",\"linecolor\":\"white\",\"ticks\":\"\"},\"baxis\":{\"gridcolor\":\"white\",\"linecolor\":\"white\",\"ticks\":\"\"},\"caxis\":{\"gridcolor\":\"white\",\"linecolor\":\"white\",\"ticks\":\"\"}},\"coloraxis\":{\"colorbar\":{\"outlinewidth\":0,\"ticks\":\"\"}},\"colorscale\":{\"sequential\":[[0.0,\"#0d0887\"],[0.1111111111111111,\"#46039f\"],[0.2222222222222222,\"#7201a8\"],[0.3333333333333333,\"#9c179e\"],[0.4444444444444444,\"#bd3786\"],[0.5555555555555556,\"#d8576b\"],[0.6666666666666666,\"#ed7953\"],[0.7777777777777778,\"#fb9f3a\"],[0.8888888888888888,\"#fdca26\"],[1.0,\"#f0f921\"]],\"sequentialminus\":[[0.0,\"#0d0887\"],[0.1111111111111111,\"#46039f\"],[0.2222222222222222,\"#7201a8\"],[0.3333333333333333,\"#9c179e\"],[0.4444444444444444,\"#bd3786\"],[0.5555555555555556,\"#d8576b\"],[0.6666666666666666,\"#ed7953\"],[0.7777777777777778,\"#fb9f3a\"],[0.8888888888888888,\"#fdca26\"],[1.0,\"#f0f921\"]],\"diverging\":[[0,\"#8e0152\"],[0.1,\"#c51b7d\"],[0.2,\"#de77ae\"],[0.3,\"#f1b6da\"],[0.4,\"#fde0ef\"],[0.5,\"#f7f7f7\"],[0.6,\"#e6f5d0\"],[0.7,\"#b8e186\"],[0.8,\"#7fbc41\"],[0.9,\"#4d9221\"],[1,\"#276419\"]]},\"xaxis\":{\"gridcolor\":\"white\",\"linecolor\":\"white\",\"ticks\":\"\",\"title\":{\"standoff\":15},\"zerolinecolor\":\"white\",\"automargin\":true,\"zerolinewidth\":2},\"yaxis\":{\"gridcolor\":\"white\",\"linecolor\":\"white\",\"ticks\":\"\",\"title\":{\"standoff\":15},\"zerolinecolor\":\"white\",\"automargin\":true,\"zerolinewidth\":2},\"scene\":{\"xaxis\":{\"backgroundcolor\":\"#E5ECF6\",\"gridcolor\":\"white\",\"linecolor\":\"white\",\"showbackground\":true,\"ticks\":\"\",\"zerolinecolor\":\"white\",\"gridwidth\":2},\"yaxis\":{\"backgroundcolor\":\"#E5ECF6\",\"gridcolor\":\"white\",\"linecolor\":\"white\",\"showbackground\":true,\"ticks\":\"\",\"zerolinecolor\":\"white\",\"gridwidth\":2},\"zaxis\":{\"backgroundcolor\":\"#E5ECF6\",\"gridcolor\":\"white\",\"linecolor\":\"white\",\"showbackground\":true,\"ticks\":\"\",\"zerolinecolor\":\"white\",\"gridwidth\":2}},\"shapedefaults\":{\"line\":{\"color\":\"#2a3f5f\"}},\"annotationdefaults\":{\"arrowcolor\":\"#2a3f5f\",\"arrowhead\":0,\"arrowwidth\":1},\"geo\":{\"bgcolor\":\"white\",\"landcolor\":\"#E5ECF6\",\"subunitcolor\":\"white\",\"showland\":true,\"showlakes\":true,\"lakecolor\":\"white\"},\"title\":{\"x\":0.05},\"mapbox\":{\"style\":\"light\"}}},\"xaxis\":{\"anchor\":\"y\",\"domain\":[0.0,1.0],\"title\":{\"text\":\"value\"}},\"yaxis\":{\"anchor\":\"x\",\"domain\":[0.0,1.0],\"title\":{\"text\":\"count\"}},\"legend\":{\"title\":{\"text\":\"variable\"},\"tracegroupgap\":0},\"margin\":{\"t\":60},\"barmode\":\"relative\"},                        {\"responsive\": true}                    ).then(function(){\n",
       "                            \n",
       "var gd = document.getElementById('95bbbf72-c1ea-4bae-9eb3-83abe5dd0b29');\n",
       "var x = new MutationObserver(function (mutations, observer) {{\n",
       "        var display = window.getComputedStyle(gd).display;\n",
       "        if (!display || display === 'none') {{\n",
       "            console.log([gd, 'removed!']);\n",
       "            Plotly.purge(gd);\n",
       "            observer.disconnect();\n",
       "        }}\n",
       "}});\n",
       "\n",
       "// Listen for the removal of the full notebook cells\n",
       "var notebookContainer = gd.closest('#notebook-container');\n",
       "if (notebookContainer) {{\n",
       "    x.observe(notebookContainer, {childList: true});\n",
       "}}\n",
       "\n",
       "// Listen for the clearing of the current output cell\n",
       "var outputEl = gd.closest('.output');\n",
       "if (outputEl) {{\n",
       "    x.observe(outputEl, {childList: true});\n",
       "}}\n",
       "\n",
       "                        })                };                });            </script>        </div>"
      ]
     },
     "metadata": {},
     "output_type": "display_data"
    }
   ],
   "source": [
    "fig = px.histogram(group1,nbins=10)\n",
    "fig.show()"
   ]
  },
  {
   "cell_type": "code",
   "execution_count": 16,
   "metadata": {},
   "outputs": [
    {
     "data": {
      "application/vnd.plotly.v1+json": {
       "config": {
        "plotlyServerURL": "https://plot.ly"
       },
       "data": [
        {
         "alignmentgroup": "True",
         "bingroup": "x",
         "hovertemplate": "variable=0<br>value=%{x}<br>count=%{y}<extra></extra>",
         "legendgroup": "0",
         "marker": {
          "color": "#636efa",
          "pattern": {
           "shape": ""
          }
         },
         "name": "0",
         "nbinsx": 10,
         "offsetgroup": "0",
         "orientation": "v",
         "showlegend": true,
         "type": "histogram",
         "x": [
          -0.7260455064563996,
          -0.684764038491091,
          -1.4900986645074141,
          0.4464866197881923,
          0.15170137065415226,
          -0.6132258993996077,
          1.2761236644312999,
          -0.5567779211361433,
          0.24842009944402407,
          -0.5866099360138226,
          -2.2195477681771436,
          -1.7265890615285915,
          0.5555451659578743,
          0.057286385692553336,
          0.48520487521757544,
          -1.427566733719675,
          0.39052658443948535,
          0.49302840501294914,
          -0.00413140235422068,
          0.18517311266341568,
          0.24718941043900808,
          -0.05570044820492088,
          0.8426759866344006,
          0.21469092775913798,
          -0.20832094871715473,
          -0.34592120487015715,
          -0.9033769772617667,
          -0.9284689439644191,
          2.012842182644866,
          0.029400361731073892
         ],
         "xaxis": "x",
         "yaxis": "y"
        }
       ],
       "layout": {
        "barmode": "relative",
        "legend": {
         "title": {
          "text": "variable"
         },
         "tracegroupgap": 0
        },
        "margin": {
         "t": 60
        },
        "template": {
         "data": {
          "bar": [
           {
            "error_x": {
             "color": "#2a3f5f"
            },
            "error_y": {
             "color": "#2a3f5f"
            },
            "marker": {
             "line": {
              "color": "#E5ECF6",
              "width": 0.5
             },
             "pattern": {
              "fillmode": "overlay",
              "size": 10,
              "solidity": 0.2
             }
            },
            "type": "bar"
           }
          ],
          "barpolar": [
           {
            "marker": {
             "line": {
              "color": "#E5ECF6",
              "width": 0.5
             },
             "pattern": {
              "fillmode": "overlay",
              "size": 10,
              "solidity": 0.2
             }
            },
            "type": "barpolar"
           }
          ],
          "carpet": [
           {
            "aaxis": {
             "endlinecolor": "#2a3f5f",
             "gridcolor": "white",
             "linecolor": "white",
             "minorgridcolor": "white",
             "startlinecolor": "#2a3f5f"
            },
            "baxis": {
             "endlinecolor": "#2a3f5f",
             "gridcolor": "white",
             "linecolor": "white",
             "minorgridcolor": "white",
             "startlinecolor": "#2a3f5f"
            },
            "type": "carpet"
           }
          ],
          "choropleth": [
           {
            "colorbar": {
             "outlinewidth": 0,
             "ticks": ""
            },
            "type": "choropleth"
           }
          ],
          "contour": [
           {
            "colorbar": {
             "outlinewidth": 0,
             "ticks": ""
            },
            "colorscale": [
             [
              0,
              "#0d0887"
             ],
             [
              0.1111111111111111,
              "#46039f"
             ],
             [
              0.2222222222222222,
              "#7201a8"
             ],
             [
              0.3333333333333333,
              "#9c179e"
             ],
             [
              0.4444444444444444,
              "#bd3786"
             ],
             [
              0.5555555555555556,
              "#d8576b"
             ],
             [
              0.6666666666666666,
              "#ed7953"
             ],
             [
              0.7777777777777778,
              "#fb9f3a"
             ],
             [
              0.8888888888888888,
              "#fdca26"
             ],
             [
              1,
              "#f0f921"
             ]
            ],
            "type": "contour"
           }
          ],
          "contourcarpet": [
           {
            "colorbar": {
             "outlinewidth": 0,
             "ticks": ""
            },
            "type": "contourcarpet"
           }
          ],
          "heatmap": [
           {
            "colorbar": {
             "outlinewidth": 0,
             "ticks": ""
            },
            "colorscale": [
             [
              0,
              "#0d0887"
             ],
             [
              0.1111111111111111,
              "#46039f"
             ],
             [
              0.2222222222222222,
              "#7201a8"
             ],
             [
              0.3333333333333333,
              "#9c179e"
             ],
             [
              0.4444444444444444,
              "#bd3786"
             ],
             [
              0.5555555555555556,
              "#d8576b"
             ],
             [
              0.6666666666666666,
              "#ed7953"
             ],
             [
              0.7777777777777778,
              "#fb9f3a"
             ],
             [
              0.8888888888888888,
              "#fdca26"
             ],
             [
              1,
              "#f0f921"
             ]
            ],
            "type": "heatmap"
           }
          ],
          "heatmapgl": [
           {
            "colorbar": {
             "outlinewidth": 0,
             "ticks": ""
            },
            "colorscale": [
             [
              0,
              "#0d0887"
             ],
             [
              0.1111111111111111,
              "#46039f"
             ],
             [
              0.2222222222222222,
              "#7201a8"
             ],
             [
              0.3333333333333333,
              "#9c179e"
             ],
             [
              0.4444444444444444,
              "#bd3786"
             ],
             [
              0.5555555555555556,
              "#d8576b"
             ],
             [
              0.6666666666666666,
              "#ed7953"
             ],
             [
              0.7777777777777778,
              "#fb9f3a"
             ],
             [
              0.8888888888888888,
              "#fdca26"
             ],
             [
              1,
              "#f0f921"
             ]
            ],
            "type": "heatmapgl"
           }
          ],
          "histogram": [
           {
            "marker": {
             "pattern": {
              "fillmode": "overlay",
              "size": 10,
              "solidity": 0.2
             }
            },
            "type": "histogram"
           }
          ],
          "histogram2d": [
           {
            "colorbar": {
             "outlinewidth": 0,
             "ticks": ""
            },
            "colorscale": [
             [
              0,
              "#0d0887"
             ],
             [
              0.1111111111111111,
              "#46039f"
             ],
             [
              0.2222222222222222,
              "#7201a8"
             ],
             [
              0.3333333333333333,
              "#9c179e"
             ],
             [
              0.4444444444444444,
              "#bd3786"
             ],
             [
              0.5555555555555556,
              "#d8576b"
             ],
             [
              0.6666666666666666,
              "#ed7953"
             ],
             [
              0.7777777777777778,
              "#fb9f3a"
             ],
             [
              0.8888888888888888,
              "#fdca26"
             ],
             [
              1,
              "#f0f921"
             ]
            ],
            "type": "histogram2d"
           }
          ],
          "histogram2dcontour": [
           {
            "colorbar": {
             "outlinewidth": 0,
             "ticks": ""
            },
            "colorscale": [
             [
              0,
              "#0d0887"
             ],
             [
              0.1111111111111111,
              "#46039f"
             ],
             [
              0.2222222222222222,
              "#7201a8"
             ],
             [
              0.3333333333333333,
              "#9c179e"
             ],
             [
              0.4444444444444444,
              "#bd3786"
             ],
             [
              0.5555555555555556,
              "#d8576b"
             ],
             [
              0.6666666666666666,
              "#ed7953"
             ],
             [
              0.7777777777777778,
              "#fb9f3a"
             ],
             [
              0.8888888888888888,
              "#fdca26"
             ],
             [
              1,
              "#f0f921"
             ]
            ],
            "type": "histogram2dcontour"
           }
          ],
          "mesh3d": [
           {
            "colorbar": {
             "outlinewidth": 0,
             "ticks": ""
            },
            "type": "mesh3d"
           }
          ],
          "parcoords": [
           {
            "line": {
             "colorbar": {
              "outlinewidth": 0,
              "ticks": ""
             }
            },
            "type": "parcoords"
           }
          ],
          "pie": [
           {
            "automargin": true,
            "type": "pie"
           }
          ],
          "scatter": [
           {
            "fillpattern": {
             "fillmode": "overlay",
             "size": 10,
             "solidity": 0.2
            },
            "type": "scatter"
           }
          ],
          "scatter3d": [
           {
            "line": {
             "colorbar": {
              "outlinewidth": 0,
              "ticks": ""
             }
            },
            "marker": {
             "colorbar": {
              "outlinewidth": 0,
              "ticks": ""
             }
            },
            "type": "scatter3d"
           }
          ],
          "scattercarpet": [
           {
            "marker": {
             "colorbar": {
              "outlinewidth": 0,
              "ticks": ""
             }
            },
            "type": "scattercarpet"
           }
          ],
          "scattergeo": [
           {
            "marker": {
             "colorbar": {
              "outlinewidth": 0,
              "ticks": ""
             }
            },
            "type": "scattergeo"
           }
          ],
          "scattergl": [
           {
            "marker": {
             "colorbar": {
              "outlinewidth": 0,
              "ticks": ""
             }
            },
            "type": "scattergl"
           }
          ],
          "scattermapbox": [
           {
            "marker": {
             "colorbar": {
              "outlinewidth": 0,
              "ticks": ""
             }
            },
            "type": "scattermapbox"
           }
          ],
          "scatterpolar": [
           {
            "marker": {
             "colorbar": {
              "outlinewidth": 0,
              "ticks": ""
             }
            },
            "type": "scatterpolar"
           }
          ],
          "scatterpolargl": [
           {
            "marker": {
             "colorbar": {
              "outlinewidth": 0,
              "ticks": ""
             }
            },
            "type": "scatterpolargl"
           }
          ],
          "scatterternary": [
           {
            "marker": {
             "colorbar": {
              "outlinewidth": 0,
              "ticks": ""
             }
            },
            "type": "scatterternary"
           }
          ],
          "surface": [
           {
            "colorbar": {
             "outlinewidth": 0,
             "ticks": ""
            },
            "colorscale": [
             [
              0,
              "#0d0887"
             ],
             [
              0.1111111111111111,
              "#46039f"
             ],
             [
              0.2222222222222222,
              "#7201a8"
             ],
             [
              0.3333333333333333,
              "#9c179e"
             ],
             [
              0.4444444444444444,
              "#bd3786"
             ],
             [
              0.5555555555555556,
              "#d8576b"
             ],
             [
              0.6666666666666666,
              "#ed7953"
             ],
             [
              0.7777777777777778,
              "#fb9f3a"
             ],
             [
              0.8888888888888888,
              "#fdca26"
             ],
             [
              1,
              "#f0f921"
             ]
            ],
            "type": "surface"
           }
          ],
          "table": [
           {
            "cells": {
             "fill": {
              "color": "#EBF0F8"
             },
             "line": {
              "color": "white"
             }
            },
            "header": {
             "fill": {
              "color": "#C8D4E3"
             },
             "line": {
              "color": "white"
             }
            },
            "type": "table"
           }
          ]
         },
         "layout": {
          "annotationdefaults": {
           "arrowcolor": "#2a3f5f",
           "arrowhead": 0,
           "arrowwidth": 1
          },
          "autotypenumbers": "strict",
          "coloraxis": {
           "colorbar": {
            "outlinewidth": 0,
            "ticks": ""
           }
          },
          "colorscale": {
           "diverging": [
            [
             0,
             "#8e0152"
            ],
            [
             0.1,
             "#c51b7d"
            ],
            [
             0.2,
             "#de77ae"
            ],
            [
             0.3,
             "#f1b6da"
            ],
            [
             0.4,
             "#fde0ef"
            ],
            [
             0.5,
             "#f7f7f7"
            ],
            [
             0.6,
             "#e6f5d0"
            ],
            [
             0.7,
             "#b8e186"
            ],
            [
             0.8,
             "#7fbc41"
            ],
            [
             0.9,
             "#4d9221"
            ],
            [
             1,
             "#276419"
            ]
           ],
           "sequential": [
            [
             0,
             "#0d0887"
            ],
            [
             0.1111111111111111,
             "#46039f"
            ],
            [
             0.2222222222222222,
             "#7201a8"
            ],
            [
             0.3333333333333333,
             "#9c179e"
            ],
            [
             0.4444444444444444,
             "#bd3786"
            ],
            [
             0.5555555555555556,
             "#d8576b"
            ],
            [
             0.6666666666666666,
             "#ed7953"
            ],
            [
             0.7777777777777778,
             "#fb9f3a"
            ],
            [
             0.8888888888888888,
             "#fdca26"
            ],
            [
             1,
             "#f0f921"
            ]
           ],
           "sequentialminus": [
            [
             0,
             "#0d0887"
            ],
            [
             0.1111111111111111,
             "#46039f"
            ],
            [
             0.2222222222222222,
             "#7201a8"
            ],
            [
             0.3333333333333333,
             "#9c179e"
            ],
            [
             0.4444444444444444,
             "#bd3786"
            ],
            [
             0.5555555555555556,
             "#d8576b"
            ],
            [
             0.6666666666666666,
             "#ed7953"
            ],
            [
             0.7777777777777778,
             "#fb9f3a"
            ],
            [
             0.8888888888888888,
             "#fdca26"
            ],
            [
             1,
             "#f0f921"
            ]
           ]
          },
          "colorway": [
           "#636efa",
           "#EF553B",
           "#00cc96",
           "#ab63fa",
           "#FFA15A",
           "#19d3f3",
           "#FF6692",
           "#B6E880",
           "#FF97FF",
           "#FECB52"
          ],
          "font": {
           "color": "#2a3f5f"
          },
          "geo": {
           "bgcolor": "white",
           "lakecolor": "white",
           "landcolor": "#E5ECF6",
           "showlakes": true,
           "showland": true,
           "subunitcolor": "white"
          },
          "hoverlabel": {
           "align": "left"
          },
          "hovermode": "closest",
          "mapbox": {
           "style": "light"
          },
          "paper_bgcolor": "white",
          "plot_bgcolor": "#E5ECF6",
          "polar": {
           "angularaxis": {
            "gridcolor": "white",
            "linecolor": "white",
            "ticks": ""
           },
           "bgcolor": "#E5ECF6",
           "radialaxis": {
            "gridcolor": "white",
            "linecolor": "white",
            "ticks": ""
           }
          },
          "scene": {
           "xaxis": {
            "backgroundcolor": "#E5ECF6",
            "gridcolor": "white",
            "gridwidth": 2,
            "linecolor": "white",
            "showbackground": true,
            "ticks": "",
            "zerolinecolor": "white"
           },
           "yaxis": {
            "backgroundcolor": "#E5ECF6",
            "gridcolor": "white",
            "gridwidth": 2,
            "linecolor": "white",
            "showbackground": true,
            "ticks": "",
            "zerolinecolor": "white"
           },
           "zaxis": {
            "backgroundcolor": "#E5ECF6",
            "gridcolor": "white",
            "gridwidth": 2,
            "linecolor": "white",
            "showbackground": true,
            "ticks": "",
            "zerolinecolor": "white"
           }
          },
          "shapedefaults": {
           "line": {
            "color": "#2a3f5f"
           }
          },
          "ternary": {
           "aaxis": {
            "gridcolor": "white",
            "linecolor": "white",
            "ticks": ""
           },
           "baxis": {
            "gridcolor": "white",
            "linecolor": "white",
            "ticks": ""
           },
           "bgcolor": "#E5ECF6",
           "caxis": {
            "gridcolor": "white",
            "linecolor": "white",
            "ticks": ""
           }
          },
          "title": {
           "x": 0.05
          },
          "xaxis": {
           "automargin": true,
           "gridcolor": "white",
           "linecolor": "white",
           "ticks": "",
           "title": {
            "standoff": 15
           },
           "zerolinecolor": "white",
           "zerolinewidth": 2
          },
          "yaxis": {
           "automargin": true,
           "gridcolor": "white",
           "linecolor": "white",
           "ticks": "",
           "title": {
            "standoff": 15
           },
           "zerolinecolor": "white",
           "zerolinewidth": 2
          }
         }
        },
        "xaxis": {
         "anchor": "y",
         "domain": [
          0,
          1
         ],
         "title": {
          "text": "value"
         }
        },
        "yaxis": {
         "anchor": "x",
         "domain": [
          0,
          1
         ],
         "title": {
          "text": "count"
         }
        }
       }
      },
      "text/html": [
       "<div>                            <div id=\"ef66510d-007c-41b8-8412-c2155592354c\" class=\"plotly-graph-div\" style=\"height:525px; width:100%;\"></div>            <script type=\"text/javascript\">                require([\"plotly\"], function(Plotly) {                    window.PLOTLYENV=window.PLOTLYENV || {};                                    if (document.getElementById(\"ef66510d-007c-41b8-8412-c2155592354c\")) {                    Plotly.newPlot(                        \"ef66510d-007c-41b8-8412-c2155592354c\",                        [{\"alignmentgroup\":\"True\",\"bingroup\":\"x\",\"hovertemplate\":\"variable=0<br>value=%{x}<br>count=%{y}<extra></extra>\",\"legendgroup\":\"0\",\"marker\":{\"color\":\"#636efa\",\"pattern\":{\"shape\":\"\"}},\"name\":\"0\",\"nbinsx\":10,\"offsetgroup\":\"0\",\"orientation\":\"v\",\"showlegend\":true,\"x\":[-0.7260455064563996,-0.684764038491091,-1.4900986645074141,0.4464866197881923,0.15170137065415226,-0.6132258993996077,1.2761236644312999,-0.5567779211361433,0.24842009944402407,-0.5866099360138226,-2.2195477681771436,-1.7265890615285915,0.5555451659578743,0.057286385692553336,0.48520487521757544,-1.427566733719675,0.39052658443948535,0.49302840501294914,-0.00413140235422068,0.18517311266341568,0.24718941043900808,-0.05570044820492088,0.8426759866344006,0.21469092775913798,-0.20832094871715473,-0.34592120487015715,-0.9033769772617667,-0.9284689439644191,2.012842182644866,0.029400361731073892],\"xaxis\":\"x\",\"yaxis\":\"y\",\"type\":\"histogram\"}],                        {\"template\":{\"data\":{\"histogram2dcontour\":[{\"type\":\"histogram2dcontour\",\"colorbar\":{\"outlinewidth\":0,\"ticks\":\"\"},\"colorscale\":[[0.0,\"#0d0887\"],[0.1111111111111111,\"#46039f\"],[0.2222222222222222,\"#7201a8\"],[0.3333333333333333,\"#9c179e\"],[0.4444444444444444,\"#bd3786\"],[0.5555555555555556,\"#d8576b\"],[0.6666666666666666,\"#ed7953\"],[0.7777777777777778,\"#fb9f3a\"],[0.8888888888888888,\"#fdca26\"],[1.0,\"#f0f921\"]]}],\"choropleth\":[{\"type\":\"choropleth\",\"colorbar\":{\"outlinewidth\":0,\"ticks\":\"\"}}],\"histogram2d\":[{\"type\":\"histogram2d\",\"colorbar\":{\"outlinewidth\":0,\"ticks\":\"\"},\"colorscale\":[[0.0,\"#0d0887\"],[0.1111111111111111,\"#46039f\"],[0.2222222222222222,\"#7201a8\"],[0.3333333333333333,\"#9c179e\"],[0.4444444444444444,\"#bd3786\"],[0.5555555555555556,\"#d8576b\"],[0.6666666666666666,\"#ed7953\"],[0.7777777777777778,\"#fb9f3a\"],[0.8888888888888888,\"#fdca26\"],[1.0,\"#f0f921\"]]}],\"heatmap\":[{\"type\":\"heatmap\",\"colorbar\":{\"outlinewidth\":0,\"ticks\":\"\"},\"colorscale\":[[0.0,\"#0d0887\"],[0.1111111111111111,\"#46039f\"],[0.2222222222222222,\"#7201a8\"],[0.3333333333333333,\"#9c179e\"],[0.4444444444444444,\"#bd3786\"],[0.5555555555555556,\"#d8576b\"],[0.6666666666666666,\"#ed7953\"],[0.7777777777777778,\"#fb9f3a\"],[0.8888888888888888,\"#fdca26\"],[1.0,\"#f0f921\"]]}],\"heatmapgl\":[{\"type\":\"heatmapgl\",\"colorbar\":{\"outlinewidth\":0,\"ticks\":\"\"},\"colorscale\":[[0.0,\"#0d0887\"],[0.1111111111111111,\"#46039f\"],[0.2222222222222222,\"#7201a8\"],[0.3333333333333333,\"#9c179e\"],[0.4444444444444444,\"#bd3786\"],[0.5555555555555556,\"#d8576b\"],[0.6666666666666666,\"#ed7953\"],[0.7777777777777778,\"#fb9f3a\"],[0.8888888888888888,\"#fdca26\"],[1.0,\"#f0f921\"]]}],\"contourcarpet\":[{\"type\":\"contourcarpet\",\"colorbar\":{\"outlinewidth\":0,\"ticks\":\"\"}}],\"contour\":[{\"type\":\"contour\",\"colorbar\":{\"outlinewidth\":0,\"ticks\":\"\"},\"colorscale\":[[0.0,\"#0d0887\"],[0.1111111111111111,\"#46039f\"],[0.2222222222222222,\"#7201a8\"],[0.3333333333333333,\"#9c179e\"],[0.4444444444444444,\"#bd3786\"],[0.5555555555555556,\"#d8576b\"],[0.6666666666666666,\"#ed7953\"],[0.7777777777777778,\"#fb9f3a\"],[0.8888888888888888,\"#fdca26\"],[1.0,\"#f0f921\"]]}],\"surface\":[{\"type\":\"surface\",\"colorbar\":{\"outlinewidth\":0,\"ticks\":\"\"},\"colorscale\":[[0.0,\"#0d0887\"],[0.1111111111111111,\"#46039f\"],[0.2222222222222222,\"#7201a8\"],[0.3333333333333333,\"#9c179e\"],[0.4444444444444444,\"#bd3786\"],[0.5555555555555556,\"#d8576b\"],[0.6666666666666666,\"#ed7953\"],[0.7777777777777778,\"#fb9f3a\"],[0.8888888888888888,\"#fdca26\"],[1.0,\"#f0f921\"]]}],\"mesh3d\":[{\"type\":\"mesh3d\",\"colorbar\":{\"outlinewidth\":0,\"ticks\":\"\"}}],\"scatter\":[{\"fillpattern\":{\"fillmode\":\"overlay\",\"size\":10,\"solidity\":0.2},\"type\":\"scatter\"}],\"parcoords\":[{\"type\":\"parcoords\",\"line\":{\"colorbar\":{\"outlinewidth\":0,\"ticks\":\"\"}}}],\"scatterpolargl\":[{\"type\":\"scatterpolargl\",\"marker\":{\"colorbar\":{\"outlinewidth\":0,\"ticks\":\"\"}}}],\"bar\":[{\"error_x\":{\"color\":\"#2a3f5f\"},\"error_y\":{\"color\":\"#2a3f5f\"},\"marker\":{\"line\":{\"color\":\"#E5ECF6\",\"width\":0.5},\"pattern\":{\"fillmode\":\"overlay\",\"size\":10,\"solidity\":0.2}},\"type\":\"bar\"}],\"scattergeo\":[{\"type\":\"scattergeo\",\"marker\":{\"colorbar\":{\"outlinewidth\":0,\"ticks\":\"\"}}}],\"scatterpolar\":[{\"type\":\"scatterpolar\",\"marker\":{\"colorbar\":{\"outlinewidth\":0,\"ticks\":\"\"}}}],\"histogram\":[{\"marker\":{\"pattern\":{\"fillmode\":\"overlay\",\"size\":10,\"solidity\":0.2}},\"type\":\"histogram\"}],\"scattergl\":[{\"type\":\"scattergl\",\"marker\":{\"colorbar\":{\"outlinewidth\":0,\"ticks\":\"\"}}}],\"scatter3d\":[{\"type\":\"scatter3d\",\"line\":{\"colorbar\":{\"outlinewidth\":0,\"ticks\":\"\"}},\"marker\":{\"colorbar\":{\"outlinewidth\":0,\"ticks\":\"\"}}}],\"scattermapbox\":[{\"type\":\"scattermapbox\",\"marker\":{\"colorbar\":{\"outlinewidth\":0,\"ticks\":\"\"}}}],\"scatterternary\":[{\"type\":\"scatterternary\",\"marker\":{\"colorbar\":{\"outlinewidth\":0,\"ticks\":\"\"}}}],\"scattercarpet\":[{\"type\":\"scattercarpet\",\"marker\":{\"colorbar\":{\"outlinewidth\":0,\"ticks\":\"\"}}}],\"carpet\":[{\"aaxis\":{\"endlinecolor\":\"#2a3f5f\",\"gridcolor\":\"white\",\"linecolor\":\"white\",\"minorgridcolor\":\"white\",\"startlinecolor\":\"#2a3f5f\"},\"baxis\":{\"endlinecolor\":\"#2a3f5f\",\"gridcolor\":\"white\",\"linecolor\":\"white\",\"minorgridcolor\":\"white\",\"startlinecolor\":\"#2a3f5f\"},\"type\":\"carpet\"}],\"table\":[{\"cells\":{\"fill\":{\"color\":\"#EBF0F8\"},\"line\":{\"color\":\"white\"}},\"header\":{\"fill\":{\"color\":\"#C8D4E3\"},\"line\":{\"color\":\"white\"}},\"type\":\"table\"}],\"barpolar\":[{\"marker\":{\"line\":{\"color\":\"#E5ECF6\",\"width\":0.5},\"pattern\":{\"fillmode\":\"overlay\",\"size\":10,\"solidity\":0.2}},\"type\":\"barpolar\"}],\"pie\":[{\"automargin\":true,\"type\":\"pie\"}]},\"layout\":{\"autotypenumbers\":\"strict\",\"colorway\":[\"#636efa\",\"#EF553B\",\"#00cc96\",\"#ab63fa\",\"#FFA15A\",\"#19d3f3\",\"#FF6692\",\"#B6E880\",\"#FF97FF\",\"#FECB52\"],\"font\":{\"color\":\"#2a3f5f\"},\"hovermode\":\"closest\",\"hoverlabel\":{\"align\":\"left\"},\"paper_bgcolor\":\"white\",\"plot_bgcolor\":\"#E5ECF6\",\"polar\":{\"bgcolor\":\"#E5ECF6\",\"angularaxis\":{\"gridcolor\":\"white\",\"linecolor\":\"white\",\"ticks\":\"\"},\"radialaxis\":{\"gridcolor\":\"white\",\"linecolor\":\"white\",\"ticks\":\"\"}},\"ternary\":{\"bgcolor\":\"#E5ECF6\",\"aaxis\":{\"gridcolor\":\"white\",\"linecolor\":\"white\",\"ticks\":\"\"},\"baxis\":{\"gridcolor\":\"white\",\"linecolor\":\"white\",\"ticks\":\"\"},\"caxis\":{\"gridcolor\":\"white\",\"linecolor\":\"white\",\"ticks\":\"\"}},\"coloraxis\":{\"colorbar\":{\"outlinewidth\":0,\"ticks\":\"\"}},\"colorscale\":{\"sequential\":[[0.0,\"#0d0887\"],[0.1111111111111111,\"#46039f\"],[0.2222222222222222,\"#7201a8\"],[0.3333333333333333,\"#9c179e\"],[0.4444444444444444,\"#bd3786\"],[0.5555555555555556,\"#d8576b\"],[0.6666666666666666,\"#ed7953\"],[0.7777777777777778,\"#fb9f3a\"],[0.8888888888888888,\"#fdca26\"],[1.0,\"#f0f921\"]],\"sequentialminus\":[[0.0,\"#0d0887\"],[0.1111111111111111,\"#46039f\"],[0.2222222222222222,\"#7201a8\"],[0.3333333333333333,\"#9c179e\"],[0.4444444444444444,\"#bd3786\"],[0.5555555555555556,\"#d8576b\"],[0.6666666666666666,\"#ed7953\"],[0.7777777777777778,\"#fb9f3a\"],[0.8888888888888888,\"#fdca26\"],[1.0,\"#f0f921\"]],\"diverging\":[[0,\"#8e0152\"],[0.1,\"#c51b7d\"],[0.2,\"#de77ae\"],[0.3,\"#f1b6da\"],[0.4,\"#fde0ef\"],[0.5,\"#f7f7f7\"],[0.6,\"#e6f5d0\"],[0.7,\"#b8e186\"],[0.8,\"#7fbc41\"],[0.9,\"#4d9221\"],[1,\"#276419\"]]},\"xaxis\":{\"gridcolor\":\"white\",\"linecolor\":\"white\",\"ticks\":\"\",\"title\":{\"standoff\":15},\"zerolinecolor\":\"white\",\"automargin\":true,\"zerolinewidth\":2},\"yaxis\":{\"gridcolor\":\"white\",\"linecolor\":\"white\",\"ticks\":\"\",\"title\":{\"standoff\":15},\"zerolinecolor\":\"white\",\"automargin\":true,\"zerolinewidth\":2},\"scene\":{\"xaxis\":{\"backgroundcolor\":\"#E5ECF6\",\"gridcolor\":\"white\",\"linecolor\":\"white\",\"showbackground\":true,\"ticks\":\"\",\"zerolinecolor\":\"white\",\"gridwidth\":2},\"yaxis\":{\"backgroundcolor\":\"#E5ECF6\",\"gridcolor\":\"white\",\"linecolor\":\"white\",\"showbackground\":true,\"ticks\":\"\",\"zerolinecolor\":\"white\",\"gridwidth\":2},\"zaxis\":{\"backgroundcolor\":\"#E5ECF6\",\"gridcolor\":\"white\",\"linecolor\":\"white\",\"showbackground\":true,\"ticks\":\"\",\"zerolinecolor\":\"white\",\"gridwidth\":2}},\"shapedefaults\":{\"line\":{\"color\":\"#2a3f5f\"}},\"annotationdefaults\":{\"arrowcolor\":\"#2a3f5f\",\"arrowhead\":0,\"arrowwidth\":1},\"geo\":{\"bgcolor\":\"white\",\"landcolor\":\"#E5ECF6\",\"subunitcolor\":\"white\",\"showland\":true,\"showlakes\":true,\"lakecolor\":\"white\"},\"title\":{\"x\":0.05},\"mapbox\":{\"style\":\"light\"}}},\"xaxis\":{\"anchor\":\"y\",\"domain\":[0.0,1.0],\"title\":{\"text\":\"value\"}},\"yaxis\":{\"anchor\":\"x\",\"domain\":[0.0,1.0],\"title\":{\"text\":\"count\"}},\"legend\":{\"title\":{\"text\":\"variable\"},\"tracegroupgap\":0},\"margin\":{\"t\":60},\"barmode\":\"relative\"},                        {\"responsive\": true}                    ).then(function(){\n",
       "                            \n",
       "var gd = document.getElementById('ef66510d-007c-41b8-8412-c2155592354c');\n",
       "var x = new MutationObserver(function (mutations, observer) {{\n",
       "        var display = window.getComputedStyle(gd).display;\n",
       "        if (!display || display === 'none') {{\n",
       "            console.log([gd, 'removed!']);\n",
       "            Plotly.purge(gd);\n",
       "            observer.disconnect();\n",
       "        }}\n",
       "}});\n",
       "\n",
       "// Listen for the removal of the full notebook cells\n",
       "var notebookContainer = gd.closest('#notebook-container');\n",
       "if (notebookContainer) {{\n",
       "    x.observe(notebookContainer, {childList: true});\n",
       "}}\n",
       "\n",
       "// Listen for the clearing of the current output cell\n",
       "var outputEl = gd.closest('.output');\n",
       "if (outputEl) {{\n",
       "    x.observe(outputEl, {childList: true});\n",
       "}}\n",
       "\n",
       "                        })                };                });            </script>        </div>"
      ]
     },
     "metadata": {},
     "output_type": "display_data"
    }
   ],
   "source": [
    "fig = px.histogram(group2,nbins=10)\n",
    "fig.show()"
   ]
  },
  {
   "cell_type": "markdown",
   "metadata": {},
   "source": [
    "2) Obtenez vous des différences significatives (p-valeure < 0.05)?"
   ]
  },
  {
   "cell_type": "code",
   "execution_count": 17,
   "metadata": {},
   "outputs": [
    {
     "data": {
      "text/html": [
       "<div>\n",
       "<style scoped>\n",
       "    .dataframe tbody tr th:only-of-type {\n",
       "        vertical-align: middle;\n",
       "    }\n",
       "\n",
       "    .dataframe tbody tr th {\n",
       "        vertical-align: top;\n",
       "    }\n",
       "\n",
       "    .dataframe thead th {\n",
       "        text-align: right;\n",
       "    }\n",
       "</style>\n",
       "<table border=\"1\" class=\"dataframe\">\n",
       "  <thead>\n",
       "    <tr style=\"text-align: right;\">\n",
       "      <th></th>\n",
       "      <th>test_number</th>\n",
       "      <th>diff</th>\n",
       "      <th>T stat</th>\n",
       "      <th>p_value</th>\n",
       "    </tr>\n",
       "  </thead>\n",
       "  <tbody>\n",
       "    <tr>\n",
       "      <th>868</th>\n",
       "      <td>868</td>\n",
       "      <td>0.890139</td>\n",
       "      <td>-3.694636</td>\n",
       "      <td>0.000490</td>\n",
       "    </tr>\n",
       "    <tr>\n",
       "      <th>284</th>\n",
       "      <td>284</td>\n",
       "      <td>-0.750071</td>\n",
       "      <td>3.223675</td>\n",
       "      <td>0.002079</td>\n",
       "    </tr>\n",
       "    <tr>\n",
       "      <th>319</th>\n",
       "      <td>319</td>\n",
       "      <td>-0.747182</td>\n",
       "      <td>3.173516</td>\n",
       "      <td>0.002410</td>\n",
       "    </tr>\n",
       "    <tr>\n",
       "      <th>394</th>\n",
       "      <td>394</td>\n",
       "      <td>0.838964</td>\n",
       "      <td>-3.142852</td>\n",
       "      <td>0.002636</td>\n",
       "    </tr>\n",
       "    <tr>\n",
       "      <th>477</th>\n",
       "      <td>477</td>\n",
       "      <td>-0.585396</td>\n",
       "      <td>2.931297</td>\n",
       "      <td>0.004823</td>\n",
       "    </tr>\n",
       "    <tr>\n",
       "      <th>322</th>\n",
       "      <td>322</td>\n",
       "      <td>0.865184</td>\n",
       "      <td>-2.920130</td>\n",
       "      <td>0.004976</td>\n",
       "    </tr>\n",
       "    <tr>\n",
       "      <th>520</th>\n",
       "      <td>520</td>\n",
       "      <td>0.728908</td>\n",
       "      <td>-2.912217</td>\n",
       "      <td>0.005087</td>\n",
       "    </tr>\n",
       "    <tr>\n",
       "      <th>384</th>\n",
       "      <td>384</td>\n",
       "      <td>0.679722</td>\n",
       "      <td>-2.809556</td>\n",
       "      <td>0.006752</td>\n",
       "    </tr>\n",
       "    <tr>\n",
       "      <th>318</th>\n",
       "      <td>318</td>\n",
       "      <td>0.662990</td>\n",
       "      <td>-2.799052</td>\n",
       "      <td>0.006948</td>\n",
       "    </tr>\n",
       "    <tr>\n",
       "      <th>368</th>\n",
       "      <td>368</td>\n",
       "      <td>0.682173</td>\n",
       "      <td>-2.784389</td>\n",
       "      <td>0.007230</td>\n",
       "    </tr>\n",
       "    <tr>\n",
       "      <th>286</th>\n",
       "      <td>286</td>\n",
       "      <td>-0.589577</td>\n",
       "      <td>2.748154</td>\n",
       "      <td>0.007974</td>\n",
       "    </tr>\n",
       "    <tr>\n",
       "      <th>74</th>\n",
       "      <td>74</td>\n",
       "      <td>-0.669035</td>\n",
       "      <td>2.701204</td>\n",
       "      <td>0.009043</td>\n",
       "    </tr>\n",
       "    <tr>\n",
       "      <th>945</th>\n",
       "      <td>945</td>\n",
       "      <td>0.532075</td>\n",
       "      <td>-2.608937</td>\n",
       "      <td>0.011534</td>\n",
       "    </tr>\n",
       "    <tr>\n",
       "      <th>742</th>\n",
       "      <td>742</td>\n",
       "      <td>0.630449</td>\n",
       "      <td>-2.524927</td>\n",
       "      <td>0.014329</td>\n",
       "    </tr>\n",
       "    <tr>\n",
       "      <th>984</th>\n",
       "      <td>984</td>\n",
       "      <td>-0.682013</td>\n",
       "      <td>2.439792</td>\n",
       "      <td>0.017774</td>\n",
       "    </tr>\n",
       "    <tr>\n",
       "      <th>704</th>\n",
       "      <td>704</td>\n",
       "      <td>0.602282</td>\n",
       "      <td>-2.410776</td>\n",
       "      <td>0.019108</td>\n",
       "    </tr>\n",
       "    <tr>\n",
       "      <th>361</th>\n",
       "      <td>361</td>\n",
       "      <td>0.664013</td>\n",
       "      <td>-2.399436</td>\n",
       "      <td>0.019654</td>\n",
       "    </tr>\n",
       "    <tr>\n",
       "      <th>202</th>\n",
       "      <td>202</td>\n",
       "      <td>-0.661900</td>\n",
       "      <td>2.379021</td>\n",
       "      <td>0.020671</td>\n",
       "    </tr>\n",
       "    <tr>\n",
       "      <th>674</th>\n",
       "      <td>674</td>\n",
       "      <td>0.568750</td>\n",
       "      <td>-2.371479</td>\n",
       "      <td>0.021058</td>\n",
       "    </tr>\n",
       "    <tr>\n",
       "      <th>851</th>\n",
       "      <td>851</td>\n",
       "      <td>-0.573672</td>\n",
       "      <td>2.362994</td>\n",
       "      <td>0.021502</td>\n",
       "    </tr>\n",
       "    <tr>\n",
       "      <th>6</th>\n",
       "      <td>6</td>\n",
       "      <td>0.580238</td>\n",
       "      <td>-2.347718</td>\n",
       "      <td>0.022322</td>\n",
       "    </tr>\n",
       "    <tr>\n",
       "      <th>488</th>\n",
       "      <td>488</td>\n",
       "      <td>-0.491827</td>\n",
       "      <td>2.342772</td>\n",
       "      <td>0.022593</td>\n",
       "    </tr>\n",
       "    <tr>\n",
       "      <th>685</th>\n",
       "      <td>685</td>\n",
       "      <td>0.514278</td>\n",
       "      <td>-2.306054</td>\n",
       "      <td>0.024702</td>\n",
       "    </tr>\n",
       "    <tr>\n",
       "      <th>710</th>\n",
       "      <td>710</td>\n",
       "      <td>0.548937</td>\n",
       "      <td>-2.299160</td>\n",
       "      <td>0.025116</td>\n",
       "    </tr>\n",
       "    <tr>\n",
       "      <th>738</th>\n",
       "      <td>738</td>\n",
       "      <td>0.614773</td>\n",
       "      <td>-2.298087</td>\n",
       "      <td>0.025182</td>\n",
       "    </tr>\n",
       "    <tr>\n",
       "      <th>38</th>\n",
       "      <td>38</td>\n",
       "      <td>-0.550756</td>\n",
       "      <td>2.294454</td>\n",
       "      <td>0.025403</td>\n",
       "    </tr>\n",
       "    <tr>\n",
       "      <th>198</th>\n",
       "      <td>198</td>\n",
       "      <td>-0.538076</td>\n",
       "      <td>2.292653</td>\n",
       "      <td>0.025514</td>\n",
       "    </tr>\n",
       "    <tr>\n",
       "      <th>872</th>\n",
       "      <td>872</td>\n",
       "      <td>-0.538059</td>\n",
       "      <td>2.195267</td>\n",
       "      <td>0.032160</td>\n",
       "    </tr>\n",
       "    <tr>\n",
       "      <th>444</th>\n",
       "      <td>444</td>\n",
       "      <td>0.548282</td>\n",
       "      <td>-2.187134</td>\n",
       "      <td>0.032778</td>\n",
       "    </tr>\n",
       "    <tr>\n",
       "      <th>971</th>\n",
       "      <td>971</td>\n",
       "      <td>0.556401</td>\n",
       "      <td>-2.184039</td>\n",
       "      <td>0.033016</td>\n",
       "    </tr>\n",
       "    <tr>\n",
       "      <th>362</th>\n",
       "      <td>362</td>\n",
       "      <td>-0.595540</td>\n",
       "      <td>2.176088</td>\n",
       "      <td>0.033635</td>\n",
       "    </tr>\n",
       "    <tr>\n",
       "      <th>473</th>\n",
       "      <td>473</td>\n",
       "      <td>-0.582483</td>\n",
       "      <td>2.173962</td>\n",
       "      <td>0.033802</td>\n",
       "    </tr>\n",
       "    <tr>\n",
       "      <th>26</th>\n",
       "      <td>26</td>\n",
       "      <td>-0.552859</td>\n",
       "      <td>2.165705</td>\n",
       "      <td>0.034458</td>\n",
       "    </tr>\n",
       "    <tr>\n",
       "      <th>739</th>\n",
       "      <td>739</td>\n",
       "      <td>0.559038</td>\n",
       "      <td>-2.135545</td>\n",
       "      <td>0.036951</td>\n",
       "    </tr>\n",
       "    <tr>\n",
       "      <th>123</th>\n",
       "      <td>123</td>\n",
       "      <td>-0.439198</td>\n",
       "      <td>2.123803</td>\n",
       "      <td>0.037963</td>\n",
       "    </tr>\n",
       "    <tr>\n",
       "      <th>763</th>\n",
       "      <td>763</td>\n",
       "      <td>-0.543812</td>\n",
       "      <td>2.098890</td>\n",
       "      <td>0.040190</td>\n",
       "    </tr>\n",
       "    <tr>\n",
       "      <th>716</th>\n",
       "      <td>716</td>\n",
       "      <td>-0.543643</td>\n",
       "      <td>2.088923</td>\n",
       "      <td>0.041113</td>\n",
       "    </tr>\n",
       "    <tr>\n",
       "      <th>876</th>\n",
       "      <td>876</td>\n",
       "      <td>0.529823</td>\n",
       "      <td>-2.076156</td>\n",
       "      <td>0.042321</td>\n",
       "    </tr>\n",
       "    <tr>\n",
       "      <th>670</th>\n",
       "      <td>670</td>\n",
       "      <td>0.518217</td>\n",
       "      <td>-2.072309</td>\n",
       "      <td>0.042692</td>\n",
       "    </tr>\n",
       "    <tr>\n",
       "      <th>404</th>\n",
       "      <td>404</td>\n",
       "      <td>0.480630</td>\n",
       "      <td>-2.062282</td>\n",
       "      <td>0.043670</td>\n",
       "    </tr>\n",
       "    <tr>\n",
       "      <th>816</th>\n",
       "      <td>816</td>\n",
       "      <td>-0.455831</td>\n",
       "      <td>2.061323</td>\n",
       "      <td>0.043764</td>\n",
       "    </tr>\n",
       "    <tr>\n",
       "      <th>878</th>\n",
       "      <td>878</td>\n",
       "      <td>0.554852</td>\n",
       "      <td>-2.057276</td>\n",
       "      <td>0.044165</td>\n",
       "    </tr>\n",
       "    <tr>\n",
       "      <th>251</th>\n",
       "      <td>251</td>\n",
       "      <td>-0.535149</td>\n",
       "      <td>2.039188</td>\n",
       "      <td>0.045997</td>\n",
       "    </tr>\n",
       "    <tr>\n",
       "      <th>469</th>\n",
       "      <td>469</td>\n",
       "      <td>0.574233</td>\n",
       "      <td>-2.038868</td>\n",
       "      <td>0.046030</td>\n",
       "    </tr>\n",
       "    <tr>\n",
       "      <th>30</th>\n",
       "      <td>30</td>\n",
       "      <td>0.538263</td>\n",
       "      <td>-2.037523</td>\n",
       "      <td>0.046169</td>\n",
       "    </tr>\n",
       "    <tr>\n",
       "      <th>613</th>\n",
       "      <td>613</td>\n",
       "      <td>-0.558750</td>\n",
       "      <td>2.023363</td>\n",
       "      <td>0.047652</td>\n",
       "    </tr>\n",
       "    <tr>\n",
       "      <th>331</th>\n",
       "      <td>331</td>\n",
       "      <td>0.532684</td>\n",
       "      <td>-2.010869</td>\n",
       "      <td>0.048996</td>\n",
       "    </tr>\n",
       "  </tbody>\n",
       "</table>\n",
       "</div>"
      ],
      "text/plain": [
       "     test_number      diff    T stat   p_value\n",
       "868          868  0.890139 -3.694636  0.000490\n",
       "284          284 -0.750071  3.223675  0.002079\n",
       "319          319 -0.747182  3.173516  0.002410\n",
       "394          394  0.838964 -3.142852  0.002636\n",
       "477          477 -0.585396  2.931297  0.004823\n",
       "322          322  0.865184 -2.920130  0.004976\n",
       "520          520  0.728908 -2.912217  0.005087\n",
       "384          384  0.679722 -2.809556  0.006752\n",
       "318          318  0.662990 -2.799052  0.006948\n",
       "368          368  0.682173 -2.784389  0.007230\n",
       "286          286 -0.589577  2.748154  0.007974\n",
       "74            74 -0.669035  2.701204  0.009043\n",
       "945          945  0.532075 -2.608937  0.011534\n",
       "742          742  0.630449 -2.524927  0.014329\n",
       "984          984 -0.682013  2.439792  0.017774\n",
       "704          704  0.602282 -2.410776  0.019108\n",
       "361          361  0.664013 -2.399436  0.019654\n",
       "202          202 -0.661900  2.379021  0.020671\n",
       "674          674  0.568750 -2.371479  0.021058\n",
       "851          851 -0.573672  2.362994  0.021502\n",
       "6              6  0.580238 -2.347718  0.022322\n",
       "488          488 -0.491827  2.342772  0.022593\n",
       "685          685  0.514278 -2.306054  0.024702\n",
       "710          710  0.548937 -2.299160  0.025116\n",
       "738          738  0.614773 -2.298087  0.025182\n",
       "38            38 -0.550756  2.294454  0.025403\n",
       "198          198 -0.538076  2.292653  0.025514\n",
       "872          872 -0.538059  2.195267  0.032160\n",
       "444          444  0.548282 -2.187134  0.032778\n",
       "971          971  0.556401 -2.184039  0.033016\n",
       "362          362 -0.595540  2.176088  0.033635\n",
       "473          473 -0.582483  2.173962  0.033802\n",
       "26            26 -0.552859  2.165705  0.034458\n",
       "739          739  0.559038 -2.135545  0.036951\n",
       "123          123 -0.439198  2.123803  0.037963\n",
       "763          763 -0.543812  2.098890  0.040190\n",
       "716          716 -0.543643  2.088923  0.041113\n",
       "876          876  0.529823 -2.076156  0.042321\n",
       "670          670  0.518217 -2.072309  0.042692\n",
       "404          404  0.480630 -2.062282  0.043670\n",
       "816          816 -0.455831  2.061323  0.043764\n",
       "878          878  0.554852 -2.057276  0.044165\n",
       "251          251 -0.535149  2.039188  0.045997\n",
       "469          469  0.574233 -2.038868  0.046030\n",
       "30            30  0.538263 -2.037523  0.046169\n",
       "613          613 -0.558750  2.023363  0.047652\n",
       "331          331  0.532684 -2.010869  0.048996"
      ]
     },
     "execution_count": 17,
     "metadata": {},
     "output_type": "execute_result"
    }
   ],
   "source": [
    "resRandomTable = pd.DataFrame(resRandom, columns = ['test_number', 'diff',\"T stat\",\"p_value\"])\n",
    "resRandomTable[resRandomTable['p_value'] < 0.05].sort_values(\"p_value\")"
   ]
  },
  {
   "cell_type": "markdown",
   "metadata": {},
   "source": [
    "3) Effectuer la correction de Benjamin et Hotchberg pour déterminer les différences significatives pour ces 1000 tests (on prendra un seuil initial sigma de 0.05)."
   ]
  },
  {
   "cell_type": "code",
   "execution_count": 18,
   "metadata": {},
   "outputs": [
    {
     "data": {
      "text/html": [
       "<div>\n",
       "<style scoped>\n",
       "    .dataframe tbody tr th:only-of-type {\n",
       "        vertical-align: middle;\n",
       "    }\n",
       "\n",
       "    .dataframe tbody tr th {\n",
       "        vertical-align: top;\n",
       "    }\n",
       "\n",
       "    .dataframe thead th {\n",
       "        text-align: right;\n",
       "    }\n",
       "</style>\n",
       "<table border=\"1\" class=\"dataframe\">\n",
       "  <thead>\n",
       "    <tr style=\"text-align: right;\">\n",
       "      <th></th>\n",
       "      <th>test_number</th>\n",
       "      <th>diff</th>\n",
       "      <th>T stat</th>\n",
       "      <th>p_value</th>\n",
       "      <th>corrected_threshold</th>\n",
       "      <th>H0 rejected</th>\n",
       "    </tr>\n",
       "  </thead>\n",
       "  <tbody>\n",
       "    <tr>\n",
       "      <th>868</th>\n",
       "      <td>868</td>\n",
       "      <td>0.890139</td>\n",
       "      <td>-3.694636</td>\n",
       "      <td>0.000490</td>\n",
       "      <td>0.00005</td>\n",
       "      <td>False</td>\n",
       "    </tr>\n",
       "    <tr>\n",
       "      <th>284</th>\n",
       "      <td>284</td>\n",
       "      <td>-0.750071</td>\n",
       "      <td>3.223675</td>\n",
       "      <td>0.002079</td>\n",
       "      <td>0.00010</td>\n",
       "      <td>False</td>\n",
       "    </tr>\n",
       "    <tr>\n",
       "      <th>319</th>\n",
       "      <td>319</td>\n",
       "      <td>-0.747182</td>\n",
       "      <td>3.173516</td>\n",
       "      <td>0.002410</td>\n",
       "      <td>0.00015</td>\n",
       "      <td>False</td>\n",
       "    </tr>\n",
       "    <tr>\n",
       "      <th>394</th>\n",
       "      <td>394</td>\n",
       "      <td>0.838964</td>\n",
       "      <td>-3.142852</td>\n",
       "      <td>0.002636</td>\n",
       "      <td>0.00020</td>\n",
       "      <td>False</td>\n",
       "    </tr>\n",
       "    <tr>\n",
       "      <th>477</th>\n",
       "      <td>477</td>\n",
       "      <td>-0.585396</td>\n",
       "      <td>2.931297</td>\n",
       "      <td>0.004823</td>\n",
       "      <td>0.00025</td>\n",
       "      <td>False</td>\n",
       "    </tr>\n",
       "    <tr>\n",
       "      <th>...</th>\n",
       "      <td>...</td>\n",
       "      <td>...</td>\n",
       "      <td>...</td>\n",
       "      <td>...</td>\n",
       "      <td>...</td>\n",
       "      <td>...</td>\n",
       "    </tr>\n",
       "    <tr>\n",
       "      <th>598</th>\n",
       "      <td>598</td>\n",
       "      <td>0.003296</td>\n",
       "      <td>-0.010967</td>\n",
       "      <td>0.991287</td>\n",
       "      <td>0.04980</td>\n",
       "      <td>False</td>\n",
       "    </tr>\n",
       "    <tr>\n",
       "      <th>962</th>\n",
       "      <td>962</td>\n",
       "      <td>0.002395</td>\n",
       "      <td>-0.008445</td>\n",
       "      <td>0.993291</td>\n",
       "      <td>0.04985</td>\n",
       "      <td>False</td>\n",
       "    </tr>\n",
       "    <tr>\n",
       "      <th>565</th>\n",
       "      <td>565</td>\n",
       "      <td>0.001438</td>\n",
       "      <td>-0.005681</td>\n",
       "      <td>0.995487</td>\n",
       "      <td>0.04990</td>\n",
       "      <td>False</td>\n",
       "    </tr>\n",
       "    <tr>\n",
       "      <th>179</th>\n",
       "      <td>179</td>\n",
       "      <td>-0.000751</td>\n",
       "      <td>0.003622</td>\n",
       "      <td>0.997123</td>\n",
       "      <td>0.04995</td>\n",
       "      <td>False</td>\n",
       "    </tr>\n",
       "    <tr>\n",
       "      <th>831</th>\n",
       "      <td>831</td>\n",
       "      <td>-0.000488</td>\n",
       "      <td>0.002053</td>\n",
       "      <td>0.998369</td>\n",
       "      <td>0.05000</td>\n",
       "      <td>False</td>\n",
       "    </tr>\n",
       "  </tbody>\n",
       "</table>\n",
       "<p>1000 rows × 6 columns</p>\n",
       "</div>"
      ],
      "text/plain": [
       "     test_number      diff    T stat   p_value  corrected_threshold  \\\n",
       "868          868  0.890139 -3.694636  0.000490              0.00005   \n",
       "284          284 -0.750071  3.223675  0.002079              0.00010   \n",
       "319          319 -0.747182  3.173516  0.002410              0.00015   \n",
       "394          394  0.838964 -3.142852  0.002636              0.00020   \n",
       "477          477 -0.585396  2.931297  0.004823              0.00025   \n",
       "..           ...       ...       ...       ...                  ...   \n",
       "598          598  0.003296 -0.010967  0.991287              0.04980   \n",
       "962          962  0.002395 -0.008445  0.993291              0.04985   \n",
       "565          565  0.001438 -0.005681  0.995487              0.04990   \n",
       "179          179 -0.000751  0.003622  0.997123              0.04995   \n",
       "831          831 -0.000488  0.002053  0.998369              0.05000   \n",
       "\n",
       "     H0 rejected  \n",
       "868        False  \n",
       "284        False  \n",
       "319        False  \n",
       "394        False  \n",
       "477        False  \n",
       "..           ...  \n",
       "598        False  \n",
       "962        False  \n",
       "565        False  \n",
       "179        False  \n",
       "831        False  \n",
       "\n",
       "[1000 rows x 6 columns]"
      ]
     },
     "execution_count": 18,
     "metadata": {},
     "output_type": "execute_result"
    }
   ],
   "source": [
    "resRandomTable = resRandomTable.sort_values(\"p_value\")\n",
    "resRandomTable[\"corrected_threshold\"]=[(r/len(resRandomTable))*0.05 for r in range(len(resRandomTable)+1)][1:]\n",
    "resRandomTable['H0 rejected'] = resRandomTable['p_value'] < resRandomTable['corrected_threshold']\n",
    "resRandomTable"
   ]
  },
  {
   "cell_type": "markdown",
   "metadata": {},
   "source": [
    "#### Remarque sur le code:\n",
    "Nous avons utilisé ici (et nous utiliserons plus tard dans l'exercice) une liste en compréhension pour écrire de manière synthétique une boucle for: `[(r/len(resRandomTable))*0.05 for r in range(len(resRandomTable)+1)][1:]`. Le code équivalent avec une boucle for classique, beaucoup plus long à écrire, est le suivant:"
   ]
  },
  {
   "cell_type": "code",
   "execution_count": 59,
   "metadata": {},
   "outputs": [
    {
     "data": {
      "text/html": [
       "<div>\n",
       "<style scoped>\n",
       "    .dataframe tbody tr th:only-of-type {\n",
       "        vertical-align: middle;\n",
       "    }\n",
       "\n",
       "    .dataframe tbody tr th {\n",
       "        vertical-align: top;\n",
       "    }\n",
       "\n",
       "    .dataframe thead th {\n",
       "        text-align: right;\n",
       "    }\n",
       "</style>\n",
       "<table border=\"1\" class=\"dataframe\">\n",
       "  <thead>\n",
       "    <tr style=\"text-align: right;\">\n",
       "      <th></th>\n",
       "      <th>test_number</th>\n",
       "      <th>diff</th>\n",
       "      <th>T stat</th>\n",
       "      <th>p_value</th>\n",
       "      <th>corrected_threshold</th>\n",
       "      <th>H0 rejected</th>\n",
       "      <th>corrected_threshold_2</th>\n",
       "    </tr>\n",
       "  </thead>\n",
       "  <tbody>\n",
       "    <tr>\n",
       "      <th>868</th>\n",
       "      <td>868</td>\n",
       "      <td>0.890139</td>\n",
       "      <td>-3.694636</td>\n",
       "      <td>0.000490</td>\n",
       "      <td>0.00005</td>\n",
       "      <td>False</td>\n",
       "      <td>0.00005</td>\n",
       "    </tr>\n",
       "    <tr>\n",
       "      <th>284</th>\n",
       "      <td>284</td>\n",
       "      <td>-0.750071</td>\n",
       "      <td>3.223675</td>\n",
       "      <td>0.002079</td>\n",
       "      <td>0.00010</td>\n",
       "      <td>False</td>\n",
       "      <td>0.00010</td>\n",
       "    </tr>\n",
       "    <tr>\n",
       "      <th>319</th>\n",
       "      <td>319</td>\n",
       "      <td>-0.747182</td>\n",
       "      <td>3.173516</td>\n",
       "      <td>0.002410</td>\n",
       "      <td>0.00015</td>\n",
       "      <td>False</td>\n",
       "      <td>0.00015</td>\n",
       "    </tr>\n",
       "    <tr>\n",
       "      <th>394</th>\n",
       "      <td>394</td>\n",
       "      <td>0.838964</td>\n",
       "      <td>-3.142852</td>\n",
       "      <td>0.002636</td>\n",
       "      <td>0.00020</td>\n",
       "      <td>False</td>\n",
       "      <td>0.00020</td>\n",
       "    </tr>\n",
       "    <tr>\n",
       "      <th>477</th>\n",
       "      <td>477</td>\n",
       "      <td>-0.585396</td>\n",
       "      <td>2.931297</td>\n",
       "      <td>0.004823</td>\n",
       "      <td>0.00025</td>\n",
       "      <td>False</td>\n",
       "      <td>0.00025</td>\n",
       "    </tr>\n",
       "    <tr>\n",
       "      <th>...</th>\n",
       "      <td>...</td>\n",
       "      <td>...</td>\n",
       "      <td>...</td>\n",
       "      <td>...</td>\n",
       "      <td>...</td>\n",
       "      <td>...</td>\n",
       "      <td>...</td>\n",
       "    </tr>\n",
       "    <tr>\n",
       "      <th>598</th>\n",
       "      <td>598</td>\n",
       "      <td>0.003296</td>\n",
       "      <td>-0.010967</td>\n",
       "      <td>0.991287</td>\n",
       "      <td>0.04980</td>\n",
       "      <td>False</td>\n",
       "      <td>0.04980</td>\n",
       "    </tr>\n",
       "    <tr>\n",
       "      <th>962</th>\n",
       "      <td>962</td>\n",
       "      <td>0.002395</td>\n",
       "      <td>-0.008445</td>\n",
       "      <td>0.993291</td>\n",
       "      <td>0.04985</td>\n",
       "      <td>False</td>\n",
       "      <td>0.04985</td>\n",
       "    </tr>\n",
       "    <tr>\n",
       "      <th>565</th>\n",
       "      <td>565</td>\n",
       "      <td>0.001438</td>\n",
       "      <td>-0.005681</td>\n",
       "      <td>0.995487</td>\n",
       "      <td>0.04990</td>\n",
       "      <td>False</td>\n",
       "      <td>0.04990</td>\n",
       "    </tr>\n",
       "    <tr>\n",
       "      <th>179</th>\n",
       "      <td>179</td>\n",
       "      <td>-0.000751</td>\n",
       "      <td>0.003622</td>\n",
       "      <td>0.997123</td>\n",
       "      <td>0.04995</td>\n",
       "      <td>False</td>\n",
       "      <td>0.04995</td>\n",
       "    </tr>\n",
       "    <tr>\n",
       "      <th>831</th>\n",
       "      <td>831</td>\n",
       "      <td>-0.000488</td>\n",
       "      <td>0.002053</td>\n",
       "      <td>0.998369</td>\n",
       "      <td>0.05000</td>\n",
       "      <td>False</td>\n",
       "      <td>0.05000</td>\n",
       "    </tr>\n",
       "  </tbody>\n",
       "</table>\n",
       "<p>1000 rows × 7 columns</p>\n",
       "</div>"
      ],
      "text/plain": [
       "     test_number      diff    T stat   p_value  corrected_threshold  \\\n",
       "868          868  0.890139 -3.694636  0.000490              0.00005   \n",
       "284          284 -0.750071  3.223675  0.002079              0.00010   \n",
       "319          319 -0.747182  3.173516  0.002410              0.00015   \n",
       "394          394  0.838964 -3.142852  0.002636              0.00020   \n",
       "477          477 -0.585396  2.931297  0.004823              0.00025   \n",
       "..           ...       ...       ...       ...                  ...   \n",
       "598          598  0.003296 -0.010967  0.991287              0.04980   \n",
       "962          962  0.002395 -0.008445  0.993291              0.04985   \n",
       "565          565  0.001438 -0.005681  0.995487              0.04990   \n",
       "179          179 -0.000751  0.003622  0.997123              0.04995   \n",
       "831          831 -0.000488  0.002053  0.998369              0.05000   \n",
       "\n",
       "     H0 rejected  corrected_threshold_2  \n",
       "868        False                0.00005  \n",
       "284        False                0.00010  \n",
       "319        False                0.00015  \n",
       "394        False                0.00020  \n",
       "477        False                0.00025  \n",
       "..           ...                    ...  \n",
       "598        False                0.04980  \n",
       "962        False                0.04985  \n",
       "565        False                0.04990  \n",
       "179        False                0.04995  \n",
       "831        False                0.05000  \n",
       "\n",
       "[1000 rows x 7 columns]"
      ]
     },
     "execution_count": 59,
     "metadata": {},
     "output_type": "execute_result"
    }
   ],
   "source": [
    "corrected_threshold_list = [] #déclaration d'une liste vide\n",
    "for r in range(len(resRandomTable)+1)[1:]: # range fait partir la séquence à 0 mais notre premier rang est 1\n",
    "    corrected_threshold = (r/len(resRandomTable))*0.05 #calcul du nouveau seuil pour le rang donné\n",
    "    corrected_threshold_list.append(corrected_threshold) #ajout du seuil à la liste\n",
    "    \n",
    "resRandomTable[\"corrected_threshold_2\"] = corrected_threshold_list\n",
    "resRandomTable"
   ]
  },
  {
   "cell_type": "markdown",
   "metadata": {},
   "source": [
    "4) Reste-t-il des différences significatives pour ces nouveaux seuils? Si oui, dans quels proportions par rapport au nombre de tests effectués (1000)?"
   ]
  },
  {
   "cell_type": "code",
   "execution_count": 19,
   "metadata": {},
   "outputs": [
    {
     "data": {
      "text/html": [
       "<div>\n",
       "<style scoped>\n",
       "    .dataframe tbody tr th:only-of-type {\n",
       "        vertical-align: middle;\n",
       "    }\n",
       "\n",
       "    .dataframe tbody tr th {\n",
       "        vertical-align: top;\n",
       "    }\n",
       "\n",
       "    .dataframe thead th {\n",
       "        text-align: right;\n",
       "    }\n",
       "</style>\n",
       "<table border=\"1\" class=\"dataframe\">\n",
       "  <thead>\n",
       "    <tr style=\"text-align: right;\">\n",
       "      <th></th>\n",
       "      <th>test_number</th>\n",
       "      <th>diff</th>\n",
       "      <th>T stat</th>\n",
       "      <th>p_value</th>\n",
       "      <th>corrected_threshold</th>\n",
       "      <th>H0 rejected</th>\n",
       "    </tr>\n",
       "  </thead>\n",
       "  <tbody>\n",
       "  </tbody>\n",
       "</table>\n",
       "</div>"
      ],
      "text/plain": [
       "Empty DataFrame\n",
       "Columns: [test_number, diff, T stat, p_value, corrected_threshold, H0 rejected]\n",
       "Index: []"
      ]
     },
     "execution_count": 19,
     "metadata": {},
     "output_type": "execute_result"
    }
   ],
   "source": [
    "resRandomTable[resRandomTable['H0 rejected']]"
   ]
  },
  {
   "cell_type": "markdown",
   "metadata": {},
   "source": [
    "5) Effectuer la même correction pour les tests de différences d'expression réalisés lors de la séance précédente.\n",
    "\n",
    "Commencer par charger le tableau des résultats sauvegardés précedemment. Combien de gènes sont à priori différentiellement exprimés (on prendra p_value < 0.05) entre les echantillons métastatiques et les echantillons de tumeurs primaires?"
   ]
  },
  {
   "cell_type": "code",
   "execution_count": 20,
   "metadata": {},
   "outputs": [
    {
     "data": {
      "text/html": [
       "<div>\n",
       "<style scoped>\n",
       "    .dataframe tbody tr th:only-of-type {\n",
       "        vertical-align: middle;\n",
       "    }\n",
       "\n",
       "    .dataframe tbody tr th {\n",
       "        vertical-align: top;\n",
       "    }\n",
       "\n",
       "    .dataframe thead th {\n",
       "        text-align: right;\n",
       "    }\n",
       "</style>\n",
       "<table border=\"1\" class=\"dataframe\">\n",
       "  <thead>\n",
       "    <tr style=\"text-align: right;\">\n",
       "      <th></th>\n",
       "      <th>Ensembl_ID</th>\n",
       "      <th>log1p_diff</th>\n",
       "      <th>T stat</th>\n",
       "      <th>p_value</th>\n",
       "      <th>gene_name</th>\n",
       "    </tr>\n",
       "  </thead>\n",
       "  <tbody>\n",
       "    <tr>\n",
       "      <th>0</th>\n",
       "      <td>ENSG00000215398.10</td>\n",
       "      <td>-0.016788</td>\n",
       "      <td>-2.752333</td>\n",
       "      <td>6.725146e-03</td>\n",
       "      <td>RP11-754I20.1</td>\n",
       "    </tr>\n",
       "    <tr>\n",
       "      <th>9</th>\n",
       "      <td>ENSG00000257115.1</td>\n",
       "      <td>-0.004267</td>\n",
       "      <td>-2.062118</td>\n",
       "      <td>4.110023e-02</td>\n",
       "      <td>OR11H12</td>\n",
       "    </tr>\n",
       "    <tr>\n",
       "      <th>43</th>\n",
       "      <td>ENSG00000244306.8</td>\n",
       "      <td>-0.115900</td>\n",
       "      <td>-2.084979</td>\n",
       "      <td>4.015687e-02</td>\n",
       "      <td>LINC01296</td>\n",
       "    </tr>\n",
       "    <tr>\n",
       "      <th>65</th>\n",
       "      <td>ENSG00000258080.1</td>\n",
       "      <td>-0.001736</td>\n",
       "      <td>-2.592771</td>\n",
       "      <td>1.056170e-02</td>\n",
       "      <td>ARHGAP42P4</td>\n",
       "    </tr>\n",
       "    <tr>\n",
       "      <th>73</th>\n",
       "      <td>ENSG00000258564.1</td>\n",
       "      <td>-0.004920</td>\n",
       "      <td>-2.497437</td>\n",
       "      <td>1.370230e-02</td>\n",
       "      <td>OR4N1P</td>\n",
       "    </tr>\n",
       "    <tr>\n",
       "      <th>...</th>\n",
       "      <td>...</td>\n",
       "      <td>...</td>\n",
       "      <td>...</td>\n",
       "      <td>...</td>\n",
       "      <td>...</td>\n",
       "    </tr>\n",
       "    <tr>\n",
       "      <th>2280</th>\n",
       "      <td>ENSG00000254176.1</td>\n",
       "      <td>-0.185423</td>\n",
       "      <td>-2.181168</td>\n",
       "      <td>3.117287e-02</td>\n",
       "      <td>IGHV3-75</td>\n",
       "    </tr>\n",
       "    <tr>\n",
       "      <th>2281</th>\n",
       "      <td>ENSG00000253247.1</td>\n",
       "      <td>-0.401323</td>\n",
       "      <td>-3.388917</td>\n",
       "      <td>9.851175e-04</td>\n",
       "      <td>IGHV3-76</td>\n",
       "    </tr>\n",
       "    <tr>\n",
       "      <th>2283</th>\n",
       "      <td>ENSG00000265929.1</td>\n",
       "      <td>-0.756539</td>\n",
       "      <td>-5.248022</td>\n",
       "      <td>4.380960e-07</td>\n",
       "      <td>MIR5195</td>\n",
       "    </tr>\n",
       "    <tr>\n",
       "      <th>2284</th>\n",
       "      <td>ENSG00000211978.2</td>\n",
       "      <td>-1.012137</td>\n",
       "      <td>-5.490279</td>\n",
       "      <td>1.926521e-07</td>\n",
       "      <td>IGHV5-78</td>\n",
       "    </tr>\n",
       "    <tr>\n",
       "      <th>2287</th>\n",
       "      <td>ENSG00000211979.2</td>\n",
       "      <td>-0.492227</td>\n",
       "      <td>-2.794239</td>\n",
       "      <td>6.429772e-03</td>\n",
       "      <td>IGHV7-81</td>\n",
       "    </tr>\n",
       "  </tbody>\n",
       "</table>\n",
       "<p>627 rows × 5 columns</p>\n",
       "</div>"
      ],
      "text/plain": [
       "              Ensembl_ID  log1p_diff    T stat       p_value      gene_name\n",
       "0     ENSG00000215398.10   -0.016788 -2.752333  6.725146e-03  RP11-754I20.1\n",
       "9      ENSG00000257115.1   -0.004267 -2.062118  4.110023e-02        OR11H12\n",
       "43     ENSG00000244306.8   -0.115900 -2.084979  4.015687e-02      LINC01296\n",
       "65     ENSG00000258080.1   -0.001736 -2.592771  1.056170e-02     ARHGAP42P4\n",
       "73     ENSG00000258564.1   -0.004920 -2.497437  1.370230e-02         OR4N1P\n",
       "...                  ...         ...       ...           ...            ...\n",
       "2280   ENSG00000254176.1   -0.185423 -2.181168  3.117287e-02       IGHV3-75\n",
       "2281   ENSG00000253247.1   -0.401323 -3.388917  9.851175e-04       IGHV3-76\n",
       "2283   ENSG00000265929.1   -0.756539 -5.248022  4.380960e-07        MIR5195\n",
       "2284   ENSG00000211978.2   -1.012137 -5.490279  1.926521e-07       IGHV5-78\n",
       "2287   ENSG00000211979.2   -0.492227 -2.794239  6.429772e-03       IGHV7-81\n",
       "\n",
       "[627 rows x 5 columns]"
      ]
     },
     "execution_count": 20,
     "metadata": {},
     "output_type": "execute_result"
    }
   ],
   "source": [
    "diffExpResults = pd.read_csv(\"../Week4/diffExpMetastaticPrimaryTumor_chr14.csv\")\n",
    "diffExpResults[diffExpResults[\"p_value\"]< 0.05]"
   ]
  },
  {
   "cell_type": "markdown",
   "metadata": {},
   "source": [
    "Puis réaliser la correction comme précédemment."
   ]
  },
  {
   "cell_type": "code",
   "execution_count": 21,
   "metadata": {},
   "outputs": [],
   "source": [
    "diffExpResults = diffExpResults.sort_values(\"p_value\")\n",
    "\n",
    "diffExpResults[\"corrected_threshold\"]=[(r/len(diffExpResults))*0.05 for r in range(len(diffExpResults)+1)][1:]\n",
    "diffExpResults['H0 rejected'] = diffExpResults['p_value'] < diffExpResults['corrected_threshold']\n"
   ]
  },
  {
   "cell_type": "markdown",
   "metadata": {},
   "source": [
    "6) Combien de gènes différentiellement exprimés reste-t-il après cette correction?"
   ]
  },
  {
   "cell_type": "code",
   "execution_count": 22,
   "metadata": {},
   "outputs": [
    {
     "data": {
      "text/html": [
       "<div>\n",
       "<style scoped>\n",
       "    .dataframe tbody tr th:only-of-type {\n",
       "        vertical-align: middle;\n",
       "    }\n",
       "\n",
       "    .dataframe tbody tr th {\n",
       "        vertical-align: top;\n",
       "    }\n",
       "\n",
       "    .dataframe thead th {\n",
       "        text-align: right;\n",
       "    }\n",
       "</style>\n",
       "<table border=\"1\" class=\"dataframe\">\n",
       "  <thead>\n",
       "    <tr style=\"text-align: right;\">\n",
       "      <th></th>\n",
       "      <th>Ensembl_ID</th>\n",
       "      <th>log1p_diff</th>\n",
       "      <th>T stat</th>\n",
       "      <th>p_value</th>\n",
       "      <th>gene_name</th>\n",
       "      <th>corrected_threshold</th>\n",
       "      <th>H0 rejected</th>\n",
       "    </tr>\n",
       "  </thead>\n",
       "  <tbody>\n",
       "    <tr>\n",
       "      <th>2113</th>\n",
       "      <td>ENSG00000211899.6</td>\n",
       "      <td>-3.438130</td>\n",
       "      <td>-6.360826</td>\n",
       "      <td>1.361990e-08</td>\n",
       "      <td>IGHM</td>\n",
       "      <td>0.000393</td>\n",
       "      <td>True</td>\n",
       "    </tr>\n",
       "    <tr>\n",
       "      <th>2191</th>\n",
       "      <td>ENSG00000211949.3</td>\n",
       "      <td>-3.328866</td>\n",
       "      <td>-5.992284</td>\n",
       "      <td>5.759279e-08</td>\n",
       "      <td>IGHV3-23</td>\n",
       "      <td>0.000721</td>\n",
       "      <td>True</td>\n",
       "    </tr>\n",
       "    <tr>\n",
       "      <th>2183</th>\n",
       "      <td>ENSG00000211945.2</td>\n",
       "      <td>-3.140367</td>\n",
       "      <td>-5.387288</td>\n",
       "      <td>7.618754e-07</td>\n",
       "      <td>IGHV1-18</td>\n",
       "      <td>0.001726</td>\n",
       "      <td>True</td>\n",
       "    </tr>\n",
       "    <tr>\n",
       "      <th>2172</th>\n",
       "      <td>ENSG00000211941.3</td>\n",
       "      <td>-3.033411</td>\n",
       "      <td>-7.740083</td>\n",
       "      <td>5.362804e-12</td>\n",
       "      <td>IGHV3-11</td>\n",
       "      <td>0.000044</td>\n",
       "      <td>True</td>\n",
       "    </tr>\n",
       "    <tr>\n",
       "      <th>2203</th>\n",
       "      <td>ENSG00000270550.1</td>\n",
       "      <td>-2.985253</td>\n",
       "      <td>-5.880781</td>\n",
       "      <td>8.498874e-08</td>\n",
       "      <td>IGHV3-30</td>\n",
       "      <td>0.000874</td>\n",
       "      <td>True</td>\n",
       "    </tr>\n",
       "    <tr>\n",
       "      <th>...</th>\n",
       "      <td>...</td>\n",
       "      <td>...</td>\n",
       "      <td>...</td>\n",
       "      <td>...</td>\n",
       "      <td>...</td>\n",
       "      <td>...</td>\n",
       "      <td>...</td>\n",
       "    </tr>\n",
       "    <tr>\n",
       "      <th>156</th>\n",
       "      <td>ENSG00000165794.8</td>\n",
       "      <td>1.366532</td>\n",
       "      <td>4.525664</td>\n",
       "      <td>4.768882e-05</td>\n",
       "      <td>SLC39A2</td>\n",
       "      <td>0.003626</td>\n",
       "      <td>True</td>\n",
       "    </tr>\n",
       "    <tr>\n",
       "      <th>1187</th>\n",
       "      <td>ENSG00000139988.8</td>\n",
       "      <td>1.555879</td>\n",
       "      <td>4.524924</td>\n",
       "      <td>3.581887e-05</td>\n",
       "      <td>RDH12</td>\n",
       "      <td>0.003539</td>\n",
       "      <td>True</td>\n",
       "    </tr>\n",
       "    <tr>\n",
       "      <th>163</th>\n",
       "      <td>ENSG00000165799.4</td>\n",
       "      <td>1.628900</td>\n",
       "      <td>4.693965</td>\n",
       "      <td>2.926148e-05</td>\n",
       "      <td>RNASE7</td>\n",
       "      <td>0.003386</td>\n",
       "      <td>True</td>\n",
       "    </tr>\n",
       "    <tr>\n",
       "      <th>1131</th>\n",
       "      <td>ENSG00000176153.11</td>\n",
       "      <td>1.667518</td>\n",
       "      <td>5.222255</td>\n",
       "      <td>4.967779e-06</td>\n",
       "      <td>GPX2</td>\n",
       "      <td>0.002468</td>\n",
       "      <td>True</td>\n",
       "    </tr>\n",
       "    <tr>\n",
       "      <th>447</th>\n",
       "      <td>ENSG00000092295.10</td>\n",
       "      <td>2.159654</td>\n",
       "      <td>4.957346</td>\n",
       "      <td>1.160033e-05</td>\n",
       "      <td>TGM1</td>\n",
       "      <td>0.002818</td>\n",
       "      <td>True</td>\n",
       "    </tr>\n",
       "  </tbody>\n",
       "</table>\n",
       "<p>391 rows × 7 columns</p>\n",
       "</div>"
      ],
      "text/plain": [
       "              Ensembl_ID  log1p_diff    T stat       p_value gene_name  \\\n",
       "2113   ENSG00000211899.6   -3.438130 -6.360826  1.361990e-08      IGHM   \n",
       "2191   ENSG00000211949.3   -3.328866 -5.992284  5.759279e-08  IGHV3-23   \n",
       "2183   ENSG00000211945.2   -3.140367 -5.387288  7.618754e-07  IGHV1-18   \n",
       "2172   ENSG00000211941.3   -3.033411 -7.740083  5.362804e-12  IGHV3-11   \n",
       "2203   ENSG00000270550.1   -2.985253 -5.880781  8.498874e-08  IGHV3-30   \n",
       "...                  ...         ...       ...           ...       ...   \n",
       "156    ENSG00000165794.8    1.366532  4.525664  4.768882e-05   SLC39A2   \n",
       "1187   ENSG00000139988.8    1.555879  4.524924  3.581887e-05     RDH12   \n",
       "163    ENSG00000165799.4    1.628900  4.693965  2.926148e-05    RNASE7   \n",
       "1131  ENSG00000176153.11    1.667518  5.222255  4.967779e-06      GPX2   \n",
       "447   ENSG00000092295.10    2.159654  4.957346  1.160033e-05      TGM1   \n",
       "\n",
       "      corrected_threshold  H0 rejected  \n",
       "2113             0.000393         True  \n",
       "2191             0.000721         True  \n",
       "2183             0.001726         True  \n",
       "2172             0.000044         True  \n",
       "2203             0.000874         True  \n",
       "...                   ...          ...  \n",
       "156              0.003626         True  \n",
       "1187             0.003539         True  \n",
       "163              0.003386         True  \n",
       "1131             0.002468         True  \n",
       "447              0.002818         True  \n",
       "\n",
       "[391 rows x 7 columns]"
      ]
     },
     "execution_count": 22,
     "metadata": {},
     "output_type": "execute_result"
    }
   ],
   "source": [
    "diffExpResults[diffExpResults['H0 rejected']].sort_values('log1p_diff')"
   ]
  },
  {
   "cell_type": "markdown",
   "metadata": {},
   "source": [
    "## Partie 2: Analyse des biomarqueurs prédictifs de la survie des patients atteints de melanomes"
   ]
  },
  {
   "cell_type": "markdown",
   "metadata": {},
   "source": [
    "Nous allons travailler sur le fichier d'expression génique de la cohorte de patients atteints de mélanome que nous avons normalisé en TPM (`'TCGA-SKCM.htseq_tpm.csv'`)la semaine dernière et nous aurons également besoin du fichier d'annotations des gènes (`'gencode.v22.annotation.gene.probeMap.with.length.csv'`).\n",
    "\n",
    "Aujourd'hui, nous utiliserons en plus le fichier de suivi de la survie des patients de la cohorte (`'TCGA-SKCM.survival.tsv'`) que nous avons téléchargé à cette adresse: https://xenabrowser.net/datapages/?dataset=TCGA-SKCM.survival.tsv&host=https%3A%2F%2Fgdc.xenahubs.net&removeHub=https%3A%2F%2Fxena.treehouse.gi.ucsc.edu%3A443\n",
    "\n",
    "Nous avons mis à votre disposition ces fichiers dans le dossier UCSC_data.\n",
    "\n",
    "1) Charger ces fichiers dans des tableaux `smpCounts`, `geneAnnotation` et `survivalData`. Mettez en index (noms des lignes) la colonne `Ensembl_ID` pour `smpCounts`, `ìd` pour `geneAnnotations` et la colonne `sample`pour `survivalData`. On conservera la colonne d'index pour geneAnnotations et survivalData (option `drop=False`)."
   ]
  },
  {
   "cell_type": "code",
   "execution_count": 23,
   "metadata": {},
   "outputs": [
    {
     "data": {
      "text/html": [
       "<div>\n",
       "<style scoped>\n",
       "    .dataframe tbody tr th:only-of-type {\n",
       "        vertical-align: middle;\n",
       "    }\n",
       "\n",
       "    .dataframe tbody tr th {\n",
       "        vertical-align: top;\n",
       "    }\n",
       "\n",
       "    .dataframe thead th {\n",
       "        text-align: right;\n",
       "    }\n",
       "</style>\n",
       "<table border=\"1\" class=\"dataframe\">\n",
       "  <thead>\n",
       "    <tr style=\"text-align: right;\">\n",
       "      <th></th>\n",
       "      <th>TCGA-EE-A2GJ-06A</th>\n",
       "      <th>TCGA-EE-A2GI-06A</th>\n",
       "      <th>TCGA-WE-A8ZM-06A</th>\n",
       "      <th>TCGA-DA-A1IA-06A</th>\n",
       "      <th>TCGA-D3-A51H-06A</th>\n",
       "      <th>TCGA-XV-A9VZ-01A</th>\n",
       "      <th>TCGA-FS-A1ZE-06A</th>\n",
       "      <th>TCGA-D3-A51F-06A</th>\n",
       "      <th>TCGA-D3-A8GL-06A</th>\n",
       "      <th>TCGA-BF-A5EP-01A</th>\n",
       "      <th>...</th>\n",
       "      <th>TCGA-EE-A2GP-06A</th>\n",
       "      <th>TCGA-EE-A2M6-06A</th>\n",
       "      <th>TCGA-EE-A3AA-06A</th>\n",
       "      <th>TCGA-FS-A1ZF-06A</th>\n",
       "      <th>TCGA-D9-A6EC-06A</th>\n",
       "      <th>TCGA-FR-A8YC-06A</th>\n",
       "      <th>TCGA-EB-A4XL-01A</th>\n",
       "      <th>TCGA-EB-A551-01A</th>\n",
       "      <th>TCGA-EE-A3J4-06A</th>\n",
       "      <th>TCGA-EE-A3AC-06A</th>\n",
       "    </tr>\n",
       "    <tr>\n",
       "      <th>Ensembl_ID</th>\n",
       "      <th></th>\n",
       "      <th></th>\n",
       "      <th></th>\n",
       "      <th></th>\n",
       "      <th></th>\n",
       "      <th></th>\n",
       "      <th></th>\n",
       "      <th></th>\n",
       "      <th></th>\n",
       "      <th></th>\n",
       "      <th></th>\n",
       "      <th></th>\n",
       "      <th></th>\n",
       "      <th></th>\n",
       "      <th></th>\n",
       "      <th></th>\n",
       "      <th></th>\n",
       "      <th></th>\n",
       "      <th></th>\n",
       "      <th></th>\n",
       "      <th></th>\n",
       "    </tr>\n",
       "  </thead>\n",
       "  <tbody>\n",
       "    <tr>\n",
       "      <th>ENSG00000000003.13</th>\n",
       "      <td>5.492020</td>\n",
       "      <td>4.977245</td>\n",
       "      <td>5.686251</td>\n",
       "      <td>4.757404</td>\n",
       "      <td>2.896276</td>\n",
       "      <td>5.301672</td>\n",
       "      <td>3.461976</td>\n",
       "      <td>3.831496</td>\n",
       "      <td>3.257634</td>\n",
       "      <td>4.518998</td>\n",
       "      <td>...</td>\n",
       "      <td>5.462907</td>\n",
       "      <td>5.715717</td>\n",
       "      <td>2.391869</td>\n",
       "      <td>4.806537</td>\n",
       "      <td>5.116857</td>\n",
       "      <td>4.291547</td>\n",
       "      <td>5.300217</td>\n",
       "      <td>3.839361</td>\n",
       "      <td>4.953076</td>\n",
       "      <td>4.828908</td>\n",
       "    </tr>\n",
       "    <tr>\n",
       "      <th>ENSG00000000005.5</th>\n",
       "      <td>0.000000</td>\n",
       "      <td>0.080714</td>\n",
       "      <td>1.527938</td>\n",
       "      <td>0.000000</td>\n",
       "      <td>0.231093</td>\n",
       "      <td>0.950625</td>\n",
       "      <td>0.622636</td>\n",
       "      <td>0.050011</td>\n",
       "      <td>0.214703</td>\n",
       "      <td>0.048674</td>\n",
       "      <td>...</td>\n",
       "      <td>0.416431</td>\n",
       "      <td>0.222035</td>\n",
       "      <td>0.072866</td>\n",
       "      <td>0.153887</td>\n",
       "      <td>0.000000</td>\n",
       "      <td>0.246848</td>\n",
       "      <td>0.000000</td>\n",
       "      <td>0.000000</td>\n",
       "      <td>0.000000</td>\n",
       "      <td>0.000000</td>\n",
       "    </tr>\n",
       "    <tr>\n",
       "      <th>ENSG00000000419.11</th>\n",
       "      <td>5.523713</td>\n",
       "      <td>6.880899</td>\n",
       "      <td>6.772244</td>\n",
       "      <td>4.593481</td>\n",
       "      <td>5.942068</td>\n",
       "      <td>6.304230</td>\n",
       "      <td>6.840104</td>\n",
       "      <td>6.058202</td>\n",
       "      <td>7.133527</td>\n",
       "      <td>6.205951</td>\n",
       "      <td>...</td>\n",
       "      <td>6.885842</td>\n",
       "      <td>7.098479</td>\n",
       "      <td>7.013252</td>\n",
       "      <td>6.332303</td>\n",
       "      <td>7.159867</td>\n",
       "      <td>5.630500</td>\n",
       "      <td>5.661585</td>\n",
       "      <td>6.422101</td>\n",
       "      <td>5.906909</td>\n",
       "      <td>6.932407</td>\n",
       "    </tr>\n",
       "    <tr>\n",
       "      <th>ENSG00000000457.12</th>\n",
       "      <td>3.581697</td>\n",
       "      <td>3.684573</td>\n",
       "      <td>3.381051</td>\n",
       "      <td>2.580018</td>\n",
       "      <td>3.060895</td>\n",
       "      <td>3.472246</td>\n",
       "      <td>3.463646</td>\n",
       "      <td>2.999380</td>\n",
       "      <td>3.856717</td>\n",
       "      <td>2.408740</td>\n",
       "      <td>...</td>\n",
       "      <td>3.003973</td>\n",
       "      <td>2.610218</td>\n",
       "      <td>2.801962</td>\n",
       "      <td>3.428713</td>\n",
       "      <td>2.632950</td>\n",
       "      <td>3.355024</td>\n",
       "      <td>2.838872</td>\n",
       "      <td>2.727272</td>\n",
       "      <td>2.905733</td>\n",
       "      <td>3.779931</td>\n",
       "    </tr>\n",
       "    <tr>\n",
       "      <th>ENSG00000000460.15</th>\n",
       "      <td>3.514461</td>\n",
       "      <td>3.646168</td>\n",
       "      <td>2.500569</td>\n",
       "      <td>3.305690</td>\n",
       "      <td>2.613756</td>\n",
       "      <td>2.390197</td>\n",
       "      <td>2.825826</td>\n",
       "      <td>2.642469</td>\n",
       "      <td>3.841492</td>\n",
       "      <td>2.106094</td>\n",
       "      <td>...</td>\n",
       "      <td>3.156954</td>\n",
       "      <td>3.431138</td>\n",
       "      <td>3.542370</td>\n",
       "      <td>3.990699</td>\n",
       "      <td>2.928625</td>\n",
       "      <td>2.021066</td>\n",
       "      <td>2.125280</td>\n",
       "      <td>2.027202</td>\n",
       "      <td>2.524369</td>\n",
       "      <td>3.771591</td>\n",
       "    </tr>\n",
       "    <tr>\n",
       "      <th>...</th>\n",
       "      <td>...</td>\n",
       "      <td>...</td>\n",
       "      <td>...</td>\n",
       "      <td>...</td>\n",
       "      <td>...</td>\n",
       "      <td>...</td>\n",
       "      <td>...</td>\n",
       "      <td>...</td>\n",
       "      <td>...</td>\n",
       "      <td>...</td>\n",
       "      <td>...</td>\n",
       "      <td>...</td>\n",
       "      <td>...</td>\n",
       "      <td>...</td>\n",
       "      <td>...</td>\n",
       "      <td>...</td>\n",
       "      <td>...</td>\n",
       "      <td>...</td>\n",
       "      <td>...</td>\n",
       "      <td>...</td>\n",
       "      <td>...</td>\n",
       "    </tr>\n",
       "    <tr>\n",
       "      <th>ENSGR0000275287.3</th>\n",
       "      <td>0.000000</td>\n",
       "      <td>0.000000</td>\n",
       "      <td>0.000000</td>\n",
       "      <td>0.000000</td>\n",
       "      <td>0.000000</td>\n",
       "      <td>0.000000</td>\n",
       "      <td>0.000000</td>\n",
       "      <td>0.000000</td>\n",
       "      <td>0.000000</td>\n",
       "      <td>0.000000</td>\n",
       "      <td>...</td>\n",
       "      <td>0.000000</td>\n",
       "      <td>0.000000</td>\n",
       "      <td>0.000000</td>\n",
       "      <td>0.000000</td>\n",
       "      <td>0.000000</td>\n",
       "      <td>0.000000</td>\n",
       "      <td>0.000000</td>\n",
       "      <td>0.000000</td>\n",
       "      <td>0.000000</td>\n",
       "      <td>0.000000</td>\n",
       "    </tr>\n",
       "    <tr>\n",
       "      <th>ENSGR0000276543.3</th>\n",
       "      <td>0.000000</td>\n",
       "      <td>0.000000</td>\n",
       "      <td>0.000000</td>\n",
       "      <td>0.000000</td>\n",
       "      <td>0.000000</td>\n",
       "      <td>0.000000</td>\n",
       "      <td>0.000000</td>\n",
       "      <td>0.000000</td>\n",
       "      <td>0.000000</td>\n",
       "      <td>0.000000</td>\n",
       "      <td>...</td>\n",
       "      <td>0.000000</td>\n",
       "      <td>0.000000</td>\n",
       "      <td>0.000000</td>\n",
       "      <td>0.000000</td>\n",
       "      <td>0.000000</td>\n",
       "      <td>0.000000</td>\n",
       "      <td>0.000000</td>\n",
       "      <td>0.000000</td>\n",
       "      <td>0.000000</td>\n",
       "      <td>0.000000</td>\n",
       "    </tr>\n",
       "    <tr>\n",
       "      <th>ENSGR0000277120.3</th>\n",
       "      <td>0.000000</td>\n",
       "      <td>0.000000</td>\n",
       "      <td>0.000000</td>\n",
       "      <td>0.000000</td>\n",
       "      <td>0.000000</td>\n",
       "      <td>0.000000</td>\n",
       "      <td>0.000000</td>\n",
       "      <td>0.000000</td>\n",
       "      <td>0.000000</td>\n",
       "      <td>0.000000</td>\n",
       "      <td>...</td>\n",
       "      <td>0.000000</td>\n",
       "      <td>0.000000</td>\n",
       "      <td>0.000000</td>\n",
       "      <td>0.000000</td>\n",
       "      <td>0.000000</td>\n",
       "      <td>0.000000</td>\n",
       "      <td>0.000000</td>\n",
       "      <td>0.000000</td>\n",
       "      <td>0.000000</td>\n",
       "      <td>0.000000</td>\n",
       "    </tr>\n",
       "    <tr>\n",
       "      <th>ENSGR0000280767.1</th>\n",
       "      <td>0.000000</td>\n",
       "      <td>0.000000</td>\n",
       "      <td>0.000000</td>\n",
       "      <td>0.000000</td>\n",
       "      <td>0.000000</td>\n",
       "      <td>0.000000</td>\n",
       "      <td>0.000000</td>\n",
       "      <td>0.000000</td>\n",
       "      <td>0.000000</td>\n",
       "      <td>0.000000</td>\n",
       "      <td>...</td>\n",
       "      <td>0.000000</td>\n",
       "      <td>0.000000</td>\n",
       "      <td>0.000000</td>\n",
       "      <td>0.000000</td>\n",
       "      <td>0.000000</td>\n",
       "      <td>0.000000</td>\n",
       "      <td>0.000000</td>\n",
       "      <td>0.000000</td>\n",
       "      <td>0.000000</td>\n",
       "      <td>0.000000</td>\n",
       "    </tr>\n",
       "    <tr>\n",
       "      <th>ENSGR0000281849.1</th>\n",
       "      <td>0.000000</td>\n",
       "      <td>0.000000</td>\n",
       "      <td>0.000000</td>\n",
       "      <td>0.000000</td>\n",
       "      <td>0.000000</td>\n",
       "      <td>0.000000</td>\n",
       "      <td>0.000000</td>\n",
       "      <td>0.000000</td>\n",
       "      <td>0.000000</td>\n",
       "      <td>0.000000</td>\n",
       "      <td>...</td>\n",
       "      <td>0.000000</td>\n",
       "      <td>0.000000</td>\n",
       "      <td>0.000000</td>\n",
       "      <td>0.000000</td>\n",
       "      <td>0.000000</td>\n",
       "      <td>0.000000</td>\n",
       "      <td>0.000000</td>\n",
       "      <td>0.000000</td>\n",
       "      <td>0.000000</td>\n",
       "      <td>0.000000</td>\n",
       "    </tr>\n",
       "  </tbody>\n",
       "</table>\n",
       "<p>60483 rows × 472 columns</p>\n",
       "</div>"
      ],
      "text/plain": [
       "                    TCGA-EE-A2GJ-06A  TCGA-EE-A2GI-06A  TCGA-WE-A8ZM-06A  \\\n",
       "Ensembl_ID                                                                 \n",
       "ENSG00000000003.13          5.492020          4.977245          5.686251   \n",
       "ENSG00000000005.5           0.000000          0.080714          1.527938   \n",
       "ENSG00000000419.11          5.523713          6.880899          6.772244   \n",
       "ENSG00000000457.12          3.581697          3.684573          3.381051   \n",
       "ENSG00000000460.15          3.514461          3.646168          2.500569   \n",
       "...                              ...               ...               ...   \n",
       "ENSGR0000275287.3           0.000000          0.000000          0.000000   \n",
       "ENSGR0000276543.3           0.000000          0.000000          0.000000   \n",
       "ENSGR0000277120.3           0.000000          0.000000          0.000000   \n",
       "ENSGR0000280767.1           0.000000          0.000000          0.000000   \n",
       "ENSGR0000281849.1           0.000000          0.000000          0.000000   \n",
       "\n",
       "                    TCGA-DA-A1IA-06A  TCGA-D3-A51H-06A  TCGA-XV-A9VZ-01A  \\\n",
       "Ensembl_ID                                                                 \n",
       "ENSG00000000003.13          4.757404          2.896276          5.301672   \n",
       "ENSG00000000005.5           0.000000          0.231093          0.950625   \n",
       "ENSG00000000419.11          4.593481          5.942068          6.304230   \n",
       "ENSG00000000457.12          2.580018          3.060895          3.472246   \n",
       "ENSG00000000460.15          3.305690          2.613756          2.390197   \n",
       "...                              ...               ...               ...   \n",
       "ENSGR0000275287.3           0.000000          0.000000          0.000000   \n",
       "ENSGR0000276543.3           0.000000          0.000000          0.000000   \n",
       "ENSGR0000277120.3           0.000000          0.000000          0.000000   \n",
       "ENSGR0000280767.1           0.000000          0.000000          0.000000   \n",
       "ENSGR0000281849.1           0.000000          0.000000          0.000000   \n",
       "\n",
       "                    TCGA-FS-A1ZE-06A  TCGA-D3-A51F-06A  TCGA-D3-A8GL-06A  \\\n",
       "Ensembl_ID                                                                 \n",
       "ENSG00000000003.13          3.461976          3.831496          3.257634   \n",
       "ENSG00000000005.5           0.622636          0.050011          0.214703   \n",
       "ENSG00000000419.11          6.840104          6.058202          7.133527   \n",
       "ENSG00000000457.12          3.463646          2.999380          3.856717   \n",
       "ENSG00000000460.15          2.825826          2.642469          3.841492   \n",
       "...                              ...               ...               ...   \n",
       "ENSGR0000275287.3           0.000000          0.000000          0.000000   \n",
       "ENSGR0000276543.3           0.000000          0.000000          0.000000   \n",
       "ENSGR0000277120.3           0.000000          0.000000          0.000000   \n",
       "ENSGR0000280767.1           0.000000          0.000000          0.000000   \n",
       "ENSGR0000281849.1           0.000000          0.000000          0.000000   \n",
       "\n",
       "                    TCGA-BF-A5EP-01A  ...  TCGA-EE-A2GP-06A  TCGA-EE-A2M6-06A  \\\n",
       "Ensembl_ID                            ...                                       \n",
       "ENSG00000000003.13          4.518998  ...          5.462907          5.715717   \n",
       "ENSG00000000005.5           0.048674  ...          0.416431          0.222035   \n",
       "ENSG00000000419.11          6.205951  ...          6.885842          7.098479   \n",
       "ENSG00000000457.12          2.408740  ...          3.003973          2.610218   \n",
       "ENSG00000000460.15          2.106094  ...          3.156954          3.431138   \n",
       "...                              ...  ...               ...               ...   \n",
       "ENSGR0000275287.3           0.000000  ...          0.000000          0.000000   \n",
       "ENSGR0000276543.3           0.000000  ...          0.000000          0.000000   \n",
       "ENSGR0000277120.3           0.000000  ...          0.000000          0.000000   \n",
       "ENSGR0000280767.1           0.000000  ...          0.000000          0.000000   \n",
       "ENSGR0000281849.1           0.000000  ...          0.000000          0.000000   \n",
       "\n",
       "                    TCGA-EE-A3AA-06A  TCGA-FS-A1ZF-06A  TCGA-D9-A6EC-06A  \\\n",
       "Ensembl_ID                                                                 \n",
       "ENSG00000000003.13          2.391869          4.806537          5.116857   \n",
       "ENSG00000000005.5           0.072866          0.153887          0.000000   \n",
       "ENSG00000000419.11          7.013252          6.332303          7.159867   \n",
       "ENSG00000000457.12          2.801962          3.428713          2.632950   \n",
       "ENSG00000000460.15          3.542370          3.990699          2.928625   \n",
       "...                              ...               ...               ...   \n",
       "ENSGR0000275287.3           0.000000          0.000000          0.000000   \n",
       "ENSGR0000276543.3           0.000000          0.000000          0.000000   \n",
       "ENSGR0000277120.3           0.000000          0.000000          0.000000   \n",
       "ENSGR0000280767.1           0.000000          0.000000          0.000000   \n",
       "ENSGR0000281849.1           0.000000          0.000000          0.000000   \n",
       "\n",
       "                    TCGA-FR-A8YC-06A  TCGA-EB-A4XL-01A  TCGA-EB-A551-01A  \\\n",
       "Ensembl_ID                                                                 \n",
       "ENSG00000000003.13          4.291547          5.300217          3.839361   \n",
       "ENSG00000000005.5           0.246848          0.000000          0.000000   \n",
       "ENSG00000000419.11          5.630500          5.661585          6.422101   \n",
       "ENSG00000000457.12          3.355024          2.838872          2.727272   \n",
       "ENSG00000000460.15          2.021066          2.125280          2.027202   \n",
       "...                              ...               ...               ...   \n",
       "ENSGR0000275287.3           0.000000          0.000000          0.000000   \n",
       "ENSGR0000276543.3           0.000000          0.000000          0.000000   \n",
       "ENSGR0000277120.3           0.000000          0.000000          0.000000   \n",
       "ENSGR0000280767.1           0.000000          0.000000          0.000000   \n",
       "ENSGR0000281849.1           0.000000          0.000000          0.000000   \n",
       "\n",
       "                    TCGA-EE-A3J4-06A  TCGA-EE-A3AC-06A  \n",
       "Ensembl_ID                                              \n",
       "ENSG00000000003.13          4.953076          4.828908  \n",
       "ENSG00000000005.5           0.000000          0.000000  \n",
       "ENSG00000000419.11          5.906909          6.932407  \n",
       "ENSG00000000457.12          2.905733          3.779931  \n",
       "ENSG00000000460.15          2.524369          3.771591  \n",
       "...                              ...               ...  \n",
       "ENSGR0000275287.3           0.000000          0.000000  \n",
       "ENSGR0000276543.3           0.000000          0.000000  \n",
       "ENSGR0000277120.3           0.000000          0.000000  \n",
       "ENSGR0000280767.1           0.000000          0.000000  \n",
       "ENSGR0000281849.1           0.000000          0.000000  \n",
       "\n",
       "[60483 rows x 472 columns]"
      ]
     },
     "execution_count": 23,
     "metadata": {},
     "output_type": "execute_result"
    }
   ],
   "source": [
    "smpCounts = pd.read_csv('../UCSC_data/TCGA-SKCM.htseq_tpm.csv')\n",
    "smpCounts = smpCounts.set_index('Ensembl_ID') #his will drop Ensembl_ID column\n",
    "smpCounts"
   ]
  },
  {
   "cell_type": "code",
   "execution_count": 24,
   "metadata": {},
   "outputs": [
    {
     "data": {
      "text/html": [
       "<div>\n",
       "<style scoped>\n",
       "    .dataframe tbody tr th:only-of-type {\n",
       "        vertical-align: middle;\n",
       "    }\n",
       "\n",
       "    .dataframe tbody tr th {\n",
       "        vertical-align: top;\n",
       "    }\n",
       "\n",
       "    .dataframe thead th {\n",
       "        text-align: right;\n",
       "    }\n",
       "</style>\n",
       "<table border=\"1\" class=\"dataframe\">\n",
       "  <thead>\n",
       "    <tr style=\"text-align: right;\">\n",
       "      <th></th>\n",
       "      <th>gene</th>\n",
       "      <th>chrom</th>\n",
       "      <th>chromStart</th>\n",
       "      <th>chromEnd</th>\n",
       "      <th>strand</th>\n",
       "      <th>gene_length</th>\n",
       "    </tr>\n",
       "    <tr>\n",
       "      <th>id</th>\n",
       "      <th></th>\n",
       "      <th></th>\n",
       "      <th></th>\n",
       "      <th></th>\n",
       "      <th></th>\n",
       "      <th></th>\n",
       "    </tr>\n",
       "  </thead>\n",
       "  <tbody>\n",
       "    <tr>\n",
       "      <th>ENSG00000223972.5</th>\n",
       "      <td>DDX11L1</td>\n",
       "      <td>chr1</td>\n",
       "      <td>11869</td>\n",
       "      <td>14409</td>\n",
       "      <td>+</td>\n",
       "      <td>1735</td>\n",
       "    </tr>\n",
       "    <tr>\n",
       "      <th>ENSG00000227232.5</th>\n",
       "      <td>WASH7P</td>\n",
       "      <td>chr1</td>\n",
       "      <td>14404</td>\n",
       "      <td>29570</td>\n",
       "      <td>-</td>\n",
       "      <td>1351</td>\n",
       "    </tr>\n",
       "    <tr>\n",
       "      <th>ENSG00000278267.1</th>\n",
       "      <td>MIR6859-3</td>\n",
       "      <td>chr1</td>\n",
       "      <td>17369</td>\n",
       "      <td>17436</td>\n",
       "      <td>-</td>\n",
       "      <td>68</td>\n",
       "    </tr>\n",
       "    <tr>\n",
       "      <th>ENSG00000243485.3</th>\n",
       "      <td>RP11-34P13.3</td>\n",
       "      <td>chr1</td>\n",
       "      <td>29554</td>\n",
       "      <td>31109</td>\n",
       "      <td>+</td>\n",
       "      <td>1021</td>\n",
       "    </tr>\n",
       "    <tr>\n",
       "      <th>ENSG00000274890.1</th>\n",
       "      <td>MIR1302-9</td>\n",
       "      <td>chr1</td>\n",
       "      <td>30366</td>\n",
       "      <td>30503</td>\n",
       "      <td>+</td>\n",
       "      <td>138</td>\n",
       "    </tr>\n",
       "    <tr>\n",
       "      <th>...</th>\n",
       "      <td>...</td>\n",
       "      <td>...</td>\n",
       "      <td>...</td>\n",
       "      <td>...</td>\n",
       "      <td>...</td>\n",
       "      <td>...</td>\n",
       "    </tr>\n",
       "    <tr>\n",
       "      <th>ENSG00000198695.2</th>\n",
       "      <td>MT-ND6</td>\n",
       "      <td>chrM</td>\n",
       "      <td>14149</td>\n",
       "      <td>14673</td>\n",
       "      <td>-</td>\n",
       "      <td>525</td>\n",
       "    </tr>\n",
       "    <tr>\n",
       "      <th>ENSG00000210194.1</th>\n",
       "      <td>MT-TE</td>\n",
       "      <td>chrM</td>\n",
       "      <td>14674</td>\n",
       "      <td>14742</td>\n",
       "      <td>-</td>\n",
       "      <td>69</td>\n",
       "    </tr>\n",
       "    <tr>\n",
       "      <th>ENSG00000198727.2</th>\n",
       "      <td>MT-CYB</td>\n",
       "      <td>chrM</td>\n",
       "      <td>14747</td>\n",
       "      <td>15887</td>\n",
       "      <td>+</td>\n",
       "      <td>1141</td>\n",
       "    </tr>\n",
       "    <tr>\n",
       "      <th>ENSG00000210195.2</th>\n",
       "      <td>MT-TT</td>\n",
       "      <td>chrM</td>\n",
       "      <td>15888</td>\n",
       "      <td>15953</td>\n",
       "      <td>+</td>\n",
       "      <td>66</td>\n",
       "    </tr>\n",
       "    <tr>\n",
       "      <th>ENSG00000210196.2</th>\n",
       "      <td>MT-TP</td>\n",
       "      <td>chrM</td>\n",
       "      <td>15956</td>\n",
       "      <td>16023</td>\n",
       "      <td>-</td>\n",
       "      <td>68</td>\n",
       "    </tr>\n",
       "  </tbody>\n",
       "</table>\n",
       "<p>60483 rows × 6 columns</p>\n",
       "</div>"
      ],
      "text/plain": [
       "                           gene chrom  chromStart  chromEnd strand  \\\n",
       "id                                                                   \n",
       "ENSG00000223972.5       DDX11L1  chr1       11869     14409      +   \n",
       "ENSG00000227232.5        WASH7P  chr1       14404     29570      -   \n",
       "ENSG00000278267.1     MIR6859-3  chr1       17369     17436      -   \n",
       "ENSG00000243485.3  RP11-34P13.3  chr1       29554     31109      +   \n",
       "ENSG00000274890.1     MIR1302-9  chr1       30366     30503      +   \n",
       "...                         ...   ...         ...       ...    ...   \n",
       "ENSG00000198695.2        MT-ND6  chrM       14149     14673      -   \n",
       "ENSG00000210194.1         MT-TE  chrM       14674     14742      -   \n",
       "ENSG00000198727.2        MT-CYB  chrM       14747     15887      +   \n",
       "ENSG00000210195.2         MT-TT  chrM       15888     15953      +   \n",
       "ENSG00000210196.2         MT-TP  chrM       15956     16023      -   \n",
       "\n",
       "                   gene_length  \n",
       "id                              \n",
       "ENSG00000223972.5         1735  \n",
       "ENSG00000227232.5         1351  \n",
       "ENSG00000278267.1           68  \n",
       "ENSG00000243485.3         1021  \n",
       "ENSG00000274890.1          138  \n",
       "...                        ...  \n",
       "ENSG00000198695.2          525  \n",
       "ENSG00000210194.1           69  \n",
       "ENSG00000198727.2         1141  \n",
       "ENSG00000210195.2           66  \n",
       "ENSG00000210196.2           68  \n",
       "\n",
       "[60483 rows x 6 columns]"
      ]
     },
     "execution_count": 24,
     "metadata": {},
     "output_type": "execute_result"
    }
   ],
   "source": [
    "geneAnnotations = pd.read_csv('../UCSC_data/gencode.v22.annotation.gene.probeMap.with.length.csv')\n",
    "geneAnnotations = geneAnnotations.set_index('id') #his will drop Ensembl_ID column\n",
    "geneAnnotations"
   ]
  },
  {
   "cell_type": "markdown",
   "metadata": {},
   "source": [
    "Dans `survivalData` la colonne `OS` correspond au dernier status vital connu du patient: 1 s'il était mort, 0 s'il etait en vie.\n",
    "La colonne `OS.time` correspond au temps de survie mesuré en jours du patient jusqu'à sa mort (si `OS=1`), jusqu'à la fin de l'étude s'il était à ce moment là toujours en vie, ou jusqu'à ce qu'il quitte l'étude avant la fin de celle ci (si `OS=0`).\n"
   ]
  },
  {
   "cell_type": "code",
   "execution_count": 25,
   "metadata": {},
   "outputs": [
    {
     "data": {
      "text/html": [
       "<div>\n",
       "<style scoped>\n",
       "    .dataframe tbody tr th:only-of-type {\n",
       "        vertical-align: middle;\n",
       "    }\n",
       "\n",
       "    .dataframe tbody tr th {\n",
       "        vertical-align: top;\n",
       "    }\n",
       "\n",
       "    .dataframe thead th {\n",
       "        text-align: right;\n",
       "    }\n",
       "</style>\n",
       "<table border=\"1\" class=\"dataframe\">\n",
       "  <thead>\n",
       "    <tr style=\"text-align: right;\">\n",
       "      <th></th>\n",
       "      <th>OS</th>\n",
       "      <th>_PATIENT</th>\n",
       "      <th>OS.time</th>\n",
       "    </tr>\n",
       "    <tr>\n",
       "      <th>sample</th>\n",
       "      <th></th>\n",
       "      <th></th>\n",
       "      <th></th>\n",
       "    </tr>\n",
       "  </thead>\n",
       "  <tbody>\n",
       "    <tr>\n",
       "      <th>TCGA-RP-A690-06A</th>\n",
       "      <td>0</td>\n",
       "      <td>TCGA-RP-A690</td>\n",
       "      <td>6</td>\n",
       "    </tr>\n",
       "    <tr>\n",
       "      <th>TCGA-HR-A2OG-06A</th>\n",
       "      <td>0</td>\n",
       "      <td>TCGA-HR-A2OG</td>\n",
       "      <td>7</td>\n",
       "    </tr>\n",
       "    <tr>\n",
       "      <th>TCGA-RP-A693-06A</th>\n",
       "      <td>0</td>\n",
       "      <td>TCGA-RP-A693</td>\n",
       "      <td>10</td>\n",
       "    </tr>\n",
       "    <tr>\n",
       "      <th>TCGA-BF-A1PV-01A</th>\n",
       "      <td>0</td>\n",
       "      <td>TCGA-BF-A1PV</td>\n",
       "      <td>14</td>\n",
       "    </tr>\n",
       "    <tr>\n",
       "      <th>TCGA-EB-A82C-01A</th>\n",
       "      <td>0</td>\n",
       "      <td>TCGA-EB-A82C</td>\n",
       "      <td>17</td>\n",
       "    </tr>\n",
       "    <tr>\n",
       "      <th>...</th>\n",
       "      <td>...</td>\n",
       "      <td>...</td>\n",
       "      <td>...</td>\n",
       "    </tr>\n",
       "    <tr>\n",
       "      <th>TCGA-ER-A19G-06A</th>\n",
       "      <td>0</td>\n",
       "      <td>TCGA-ER-A19G</td>\n",
       "      <td>9188</td>\n",
       "    </tr>\n",
       "    <tr>\n",
       "      <th>TCGA-EE-A2GD-06A</th>\n",
       "      <td>1</td>\n",
       "      <td>TCGA-EE-A2GD</td>\n",
       "      <td>10346</td>\n",
       "    </tr>\n",
       "    <tr>\n",
       "      <th>TCGA-FS-A1ZC-06A</th>\n",
       "      <td>1</td>\n",
       "      <td>TCGA-FS-A1ZC</td>\n",
       "      <td>10870</td>\n",
       "    </tr>\n",
       "    <tr>\n",
       "      <th>TCGA-LH-A9QB-06A</th>\n",
       "      <td>0</td>\n",
       "      <td>TCGA-LH-A9QB</td>\n",
       "      <td>11217</td>\n",
       "    </tr>\n",
       "    <tr>\n",
       "      <th>TCGA-EE-A29T-06A</th>\n",
       "      <td>0</td>\n",
       "      <td>TCGA-EE-A29T</td>\n",
       "      <td>11252</td>\n",
       "    </tr>\n",
       "  </tbody>\n",
       "</table>\n",
       "<p>463 rows × 3 columns</p>\n",
       "</div>"
      ],
      "text/plain": [
       "                  OS      _PATIENT  OS.time\n",
       "sample                                     \n",
       "TCGA-RP-A690-06A   0  TCGA-RP-A690        6\n",
       "TCGA-HR-A2OG-06A   0  TCGA-HR-A2OG        7\n",
       "TCGA-RP-A693-06A   0  TCGA-RP-A693       10\n",
       "TCGA-BF-A1PV-01A   0  TCGA-BF-A1PV       14\n",
       "TCGA-EB-A82C-01A   0  TCGA-EB-A82C       17\n",
       "...               ..           ...      ...\n",
       "TCGA-ER-A19G-06A   0  TCGA-ER-A19G     9188\n",
       "TCGA-EE-A2GD-06A   1  TCGA-EE-A2GD    10346\n",
       "TCGA-FS-A1ZC-06A   1  TCGA-FS-A1ZC    10870\n",
       "TCGA-LH-A9QB-06A   0  TCGA-LH-A9QB    11217\n",
       "TCGA-EE-A29T-06A   0  TCGA-EE-A29T    11252\n",
       "\n",
       "[463 rows x 3 columns]"
      ]
     },
     "execution_count": 25,
     "metadata": {},
     "output_type": "execute_result"
    }
   ],
   "source": [
    "survivalData = pd.read_table('../UCSC_data/TCGA-SKCM.survival.tsv',sep=\"\\t\")\n",
    "survivalData = survivalData.set_index('sample')\n",
    "survivalData"
   ]
  },
  {
   "cell_type": "markdown",
   "metadata": {},
   "source": [
    "La recherche des biomarqueurs de survie dans l'ensemble des gènes séquencés étant assez longue sur un ordinateur standard, nous ne travaillerons aujourd'hui qu'avec les gènes du chromosome 11.\n",
    "\n",
    "2) En utilisant le tableau `geneAnnotations` ne conservez dans `smpCounts`que les gènes présents sur le chromosome 11"
   ]
  },
  {
   "cell_type": "code",
   "execution_count": 26,
   "metadata": {},
   "outputs": [
    {
     "data": {
      "text/html": [
       "<div>\n",
       "<style scoped>\n",
       "    .dataframe tbody tr th:only-of-type {\n",
       "        vertical-align: middle;\n",
       "    }\n",
       "\n",
       "    .dataframe tbody tr th {\n",
       "        vertical-align: top;\n",
       "    }\n",
       "\n",
       "    .dataframe thead th {\n",
       "        text-align: right;\n",
       "    }\n",
       "</style>\n",
       "<table border=\"1\" class=\"dataframe\">\n",
       "  <thead>\n",
       "    <tr style=\"text-align: right;\">\n",
       "      <th></th>\n",
       "      <th>TCGA-EE-A2GJ-06A</th>\n",
       "      <th>TCGA-EE-A2GI-06A</th>\n",
       "      <th>TCGA-WE-A8ZM-06A</th>\n",
       "      <th>TCGA-DA-A1IA-06A</th>\n",
       "      <th>TCGA-D3-A51H-06A</th>\n",
       "      <th>TCGA-XV-A9VZ-01A</th>\n",
       "      <th>TCGA-FS-A1ZE-06A</th>\n",
       "      <th>TCGA-D3-A51F-06A</th>\n",
       "      <th>TCGA-D3-A8GL-06A</th>\n",
       "      <th>TCGA-BF-A5EP-01A</th>\n",
       "      <th>...</th>\n",
       "      <th>TCGA-EE-A2GP-06A</th>\n",
       "      <th>TCGA-EE-A2M6-06A</th>\n",
       "      <th>TCGA-EE-A3AA-06A</th>\n",
       "      <th>TCGA-FS-A1ZF-06A</th>\n",
       "      <th>TCGA-D9-A6EC-06A</th>\n",
       "      <th>TCGA-FR-A8YC-06A</th>\n",
       "      <th>TCGA-EB-A4XL-01A</th>\n",
       "      <th>TCGA-EB-A551-01A</th>\n",
       "      <th>TCGA-EE-A3J4-06A</th>\n",
       "      <th>TCGA-EE-A3AC-06A</th>\n",
       "    </tr>\n",
       "    <tr>\n",
       "      <th>Ensembl_ID</th>\n",
       "      <th></th>\n",
       "      <th></th>\n",
       "      <th></th>\n",
       "      <th></th>\n",
       "      <th></th>\n",
       "      <th></th>\n",
       "      <th></th>\n",
       "      <th></th>\n",
       "      <th></th>\n",
       "      <th></th>\n",
       "      <th></th>\n",
       "      <th></th>\n",
       "      <th></th>\n",
       "      <th></th>\n",
       "      <th></th>\n",
       "      <th></th>\n",
       "      <th></th>\n",
       "      <th></th>\n",
       "      <th></th>\n",
       "      <th></th>\n",
       "      <th></th>\n",
       "    </tr>\n",
       "  </thead>\n",
       "  <tbody>\n",
       "    <tr>\n",
       "      <th>ENSG00000253826.1</th>\n",
       "      <td>0.000000</td>\n",
       "      <td>0.000000</td>\n",
       "      <td>0.000000</td>\n",
       "      <td>0.000000</td>\n",
       "      <td>0.000000</td>\n",
       "      <td>0.000000</td>\n",
       "      <td>0.000000</td>\n",
       "      <td>0.000000</td>\n",
       "      <td>0.000000</td>\n",
       "      <td>0.000000</td>\n",
       "      <td>...</td>\n",
       "      <td>0.000000</td>\n",
       "      <td>0.000000</td>\n",
       "      <td>0.000000</td>\n",
       "      <td>0.000000</td>\n",
       "      <td>0.000000</td>\n",
       "      <td>0.000000</td>\n",
       "      <td>0.000000</td>\n",
       "      <td>0.000000</td>\n",
       "      <td>0.000000</td>\n",
       "      <td>0.000000</td>\n",
       "    </tr>\n",
       "    <tr>\n",
       "      <th>ENSG00000224777.3</th>\n",
       "      <td>0.000000</td>\n",
       "      <td>0.000000</td>\n",
       "      <td>0.000000</td>\n",
       "      <td>0.000000</td>\n",
       "      <td>0.000000</td>\n",
       "      <td>0.000000</td>\n",
       "      <td>0.000000</td>\n",
       "      <td>0.000000</td>\n",
       "      <td>0.000000</td>\n",
       "      <td>0.000000</td>\n",
       "      <td>...</td>\n",
       "      <td>0.000000</td>\n",
       "      <td>0.000000</td>\n",
       "      <td>0.000000</td>\n",
       "      <td>0.000000</td>\n",
       "      <td>0.000000</td>\n",
       "      <td>0.000000</td>\n",
       "      <td>0.000000</td>\n",
       "      <td>0.000000</td>\n",
       "      <td>0.000000</td>\n",
       "      <td>0.000000</td>\n",
       "    </tr>\n",
       "    <tr>\n",
       "      <th>ENSG00000254468.2</th>\n",
       "      <td>0.000000</td>\n",
       "      <td>0.000000</td>\n",
       "      <td>0.000000</td>\n",
       "      <td>0.000000</td>\n",
       "      <td>0.000000</td>\n",
       "      <td>0.000000</td>\n",
       "      <td>0.000000</td>\n",
       "      <td>0.000000</td>\n",
       "      <td>0.000000</td>\n",
       "      <td>0.000000</td>\n",
       "      <td>...</td>\n",
       "      <td>0.000000</td>\n",
       "      <td>0.000000</td>\n",
       "      <td>0.000000</td>\n",
       "      <td>0.000000</td>\n",
       "      <td>0.000000</td>\n",
       "      <td>0.000000</td>\n",
       "      <td>0.000000</td>\n",
       "      <td>0.000000</td>\n",
       "      <td>0.000000</td>\n",
       "      <td>0.000000</td>\n",
       "    </tr>\n",
       "    <tr>\n",
       "      <th>ENSG00000270921.1</th>\n",
       "      <td>0.000000</td>\n",
       "      <td>0.000000</td>\n",
       "      <td>0.065024</td>\n",
       "      <td>0.000000</td>\n",
       "      <td>0.036342</td>\n",
       "      <td>0.000000</td>\n",
       "      <td>0.026654</td>\n",
       "      <td>0.000000</td>\n",
       "      <td>0.000000</td>\n",
       "      <td>0.000000</td>\n",
       "      <td>...</td>\n",
       "      <td>0.039950</td>\n",
       "      <td>0.000000</td>\n",
       "      <td>0.000000</td>\n",
       "      <td>0.023652</td>\n",
       "      <td>0.000000</td>\n",
       "      <td>0.039002</td>\n",
       "      <td>0.063765</td>\n",
       "      <td>0.082351</td>\n",
       "      <td>0.000000</td>\n",
       "      <td>0.000000</td>\n",
       "    </tr>\n",
       "    <tr>\n",
       "      <th>ENSG00000230724.8</th>\n",
       "      <td>0.432452</td>\n",
       "      <td>0.211028</td>\n",
       "      <td>1.130904</td>\n",
       "      <td>0.185336</td>\n",
       "      <td>0.895027</td>\n",
       "      <td>1.007231</td>\n",
       "      <td>0.356998</td>\n",
       "      <td>0.884961</td>\n",
       "      <td>0.513986</td>\n",
       "      <td>0.490177</td>\n",
       "      <td>...</td>\n",
       "      <td>0.734953</td>\n",
       "      <td>0.372154</td>\n",
       "      <td>0.384525</td>\n",
       "      <td>0.899274</td>\n",
       "      <td>0.150108</td>\n",
       "      <td>1.001449</td>\n",
       "      <td>0.617866</td>\n",
       "      <td>1.512543</td>\n",
       "      <td>0.604252</td>\n",
       "      <td>0.615044</td>\n",
       "    </tr>\n",
       "    <tr>\n",
       "      <th>...</th>\n",
       "      <td>...</td>\n",
       "      <td>...</td>\n",
       "      <td>...</td>\n",
       "      <td>...</td>\n",
       "      <td>...</td>\n",
       "      <td>...</td>\n",
       "      <td>...</td>\n",
       "      <td>...</td>\n",
       "      <td>...</td>\n",
       "      <td>...</td>\n",
       "      <td>...</td>\n",
       "      <td>...</td>\n",
       "      <td>...</td>\n",
       "      <td>...</td>\n",
       "      <td>...</td>\n",
       "      <td>...</td>\n",
       "      <td>...</td>\n",
       "      <td>...</td>\n",
       "      <td>...</td>\n",
       "      <td>...</td>\n",
       "      <td>...</td>\n",
       "    </tr>\n",
       "    <tr>\n",
       "      <th>ENSG00000255344.1</th>\n",
       "      <td>0.000000</td>\n",
       "      <td>0.000000</td>\n",
       "      <td>0.000000</td>\n",
       "      <td>0.000000</td>\n",
       "      <td>0.000000</td>\n",
       "      <td>0.000000</td>\n",
       "      <td>0.000000</td>\n",
       "      <td>0.000000</td>\n",
       "      <td>0.000000</td>\n",
       "      <td>0.000000</td>\n",
       "      <td>...</td>\n",
       "      <td>0.000000</td>\n",
       "      <td>0.305082</td>\n",
       "      <td>0.000000</td>\n",
       "      <td>0.000000</td>\n",
       "      <td>0.000000</td>\n",
       "      <td>0.000000</td>\n",
       "      <td>0.000000</td>\n",
       "      <td>0.000000</td>\n",
       "      <td>0.000000</td>\n",
       "      <td>0.000000</td>\n",
       "    </tr>\n",
       "    <tr>\n",
       "      <th>ENSG00000251226.1</th>\n",
       "      <td>0.000000</td>\n",
       "      <td>1.237527</td>\n",
       "      <td>0.000000</td>\n",
       "      <td>0.099129</td>\n",
       "      <td>0.027126</td>\n",
       "      <td>0.054947</td>\n",
       "      <td>0.000000</td>\n",
       "      <td>0.065221</td>\n",
       "      <td>2.528232</td>\n",
       "      <td>0.021474</td>\n",
       "      <td>...</td>\n",
       "      <td>0.000000</td>\n",
       "      <td>1.479591</td>\n",
       "      <td>0.094802</td>\n",
       "      <td>1.083476</td>\n",
       "      <td>0.023263</td>\n",
       "      <td>0.243056</td>\n",
       "      <td>0.000000</td>\n",
       "      <td>0.232443</td>\n",
       "      <td>0.000000</td>\n",
       "      <td>0.000000</td>\n",
       "    </tr>\n",
       "    <tr>\n",
       "      <th>ENSG00000255327.1</th>\n",
       "      <td>0.000000</td>\n",
       "      <td>0.000000</td>\n",
       "      <td>0.000000</td>\n",
       "      <td>0.000000</td>\n",
       "      <td>0.000000</td>\n",
       "      <td>0.000000</td>\n",
       "      <td>0.000000</td>\n",
       "      <td>0.000000</td>\n",
       "      <td>0.000000</td>\n",
       "      <td>0.000000</td>\n",
       "      <td>...</td>\n",
       "      <td>0.000000</td>\n",
       "      <td>0.000000</td>\n",
       "      <td>0.000000</td>\n",
       "      <td>0.000000</td>\n",
       "      <td>0.000000</td>\n",
       "      <td>0.000000</td>\n",
       "      <td>0.000000</td>\n",
       "      <td>0.000000</td>\n",
       "      <td>0.000000</td>\n",
       "      <td>0.000000</td>\n",
       "    </tr>\n",
       "    <tr>\n",
       "      <th>ENSG00000279046.1</th>\n",
       "      <td>0.000000</td>\n",
       "      <td>0.000000</td>\n",
       "      <td>0.000000</td>\n",
       "      <td>0.000000</td>\n",
       "      <td>0.000000</td>\n",
       "      <td>0.000000</td>\n",
       "      <td>0.000000</td>\n",
       "      <td>0.000000</td>\n",
       "      <td>0.000000</td>\n",
       "      <td>0.000000</td>\n",
       "      <td>...</td>\n",
       "      <td>0.000000</td>\n",
       "      <td>0.000000</td>\n",
       "      <td>0.000000</td>\n",
       "      <td>0.000000</td>\n",
       "      <td>0.000000</td>\n",
       "      <td>0.000000</td>\n",
       "      <td>0.000000</td>\n",
       "      <td>0.000000</td>\n",
       "      <td>0.000000</td>\n",
       "      <td>0.000000</td>\n",
       "    </tr>\n",
       "    <tr>\n",
       "      <th>ENSG00000255512.1</th>\n",
       "      <td>0.000000</td>\n",
       "      <td>0.000000</td>\n",
       "      <td>0.000000</td>\n",
       "      <td>0.000000</td>\n",
       "      <td>0.000000</td>\n",
       "      <td>0.000000</td>\n",
       "      <td>0.000000</td>\n",
       "      <td>0.000000</td>\n",
       "      <td>0.000000</td>\n",
       "      <td>0.000000</td>\n",
       "      <td>...</td>\n",
       "      <td>0.000000</td>\n",
       "      <td>0.000000</td>\n",
       "      <td>0.000000</td>\n",
       "      <td>0.000000</td>\n",
       "      <td>0.000000</td>\n",
       "      <td>0.000000</td>\n",
       "      <td>0.000000</td>\n",
       "      <td>0.000000</td>\n",
       "      <td>0.000000</td>\n",
       "      <td>0.000000</td>\n",
       "    </tr>\n",
       "  </tbody>\n",
       "</table>\n",
       "<p>3381 rows × 472 columns</p>\n",
       "</div>"
      ],
      "text/plain": [
       "                   TCGA-EE-A2GJ-06A  TCGA-EE-A2GI-06A  TCGA-WE-A8ZM-06A  \\\n",
       "Ensembl_ID                                                                \n",
       "ENSG00000253826.1          0.000000          0.000000          0.000000   \n",
       "ENSG00000224777.3          0.000000          0.000000          0.000000   \n",
       "ENSG00000254468.2          0.000000          0.000000          0.000000   \n",
       "ENSG00000270921.1          0.000000          0.000000          0.065024   \n",
       "ENSG00000230724.8          0.432452          0.211028          1.130904   \n",
       "...                             ...               ...               ...   \n",
       "ENSG00000255344.1          0.000000          0.000000          0.000000   \n",
       "ENSG00000251226.1          0.000000          1.237527          0.000000   \n",
       "ENSG00000255327.1          0.000000          0.000000          0.000000   \n",
       "ENSG00000279046.1          0.000000          0.000000          0.000000   \n",
       "ENSG00000255512.1          0.000000          0.000000          0.000000   \n",
       "\n",
       "                   TCGA-DA-A1IA-06A  TCGA-D3-A51H-06A  TCGA-XV-A9VZ-01A  \\\n",
       "Ensembl_ID                                                                \n",
       "ENSG00000253826.1          0.000000          0.000000          0.000000   \n",
       "ENSG00000224777.3          0.000000          0.000000          0.000000   \n",
       "ENSG00000254468.2          0.000000          0.000000          0.000000   \n",
       "ENSG00000270921.1          0.000000          0.036342          0.000000   \n",
       "ENSG00000230724.8          0.185336          0.895027          1.007231   \n",
       "...                             ...               ...               ...   \n",
       "ENSG00000255344.1          0.000000          0.000000          0.000000   \n",
       "ENSG00000251226.1          0.099129          0.027126          0.054947   \n",
       "ENSG00000255327.1          0.000000          0.000000          0.000000   \n",
       "ENSG00000279046.1          0.000000          0.000000          0.000000   \n",
       "ENSG00000255512.1          0.000000          0.000000          0.000000   \n",
       "\n",
       "                   TCGA-FS-A1ZE-06A  TCGA-D3-A51F-06A  TCGA-D3-A8GL-06A  \\\n",
       "Ensembl_ID                                                                \n",
       "ENSG00000253826.1          0.000000          0.000000          0.000000   \n",
       "ENSG00000224777.3          0.000000          0.000000          0.000000   \n",
       "ENSG00000254468.2          0.000000          0.000000          0.000000   \n",
       "ENSG00000270921.1          0.026654          0.000000          0.000000   \n",
       "ENSG00000230724.8          0.356998          0.884961          0.513986   \n",
       "...                             ...               ...               ...   \n",
       "ENSG00000255344.1          0.000000          0.000000          0.000000   \n",
       "ENSG00000251226.1          0.000000          0.065221          2.528232   \n",
       "ENSG00000255327.1          0.000000          0.000000          0.000000   \n",
       "ENSG00000279046.1          0.000000          0.000000          0.000000   \n",
       "ENSG00000255512.1          0.000000          0.000000          0.000000   \n",
       "\n",
       "                   TCGA-BF-A5EP-01A  ...  TCGA-EE-A2GP-06A  TCGA-EE-A2M6-06A  \\\n",
       "Ensembl_ID                           ...                                       \n",
       "ENSG00000253826.1          0.000000  ...          0.000000          0.000000   \n",
       "ENSG00000224777.3          0.000000  ...          0.000000          0.000000   \n",
       "ENSG00000254468.2          0.000000  ...          0.000000          0.000000   \n",
       "ENSG00000270921.1          0.000000  ...          0.039950          0.000000   \n",
       "ENSG00000230724.8          0.490177  ...          0.734953          0.372154   \n",
       "...                             ...  ...               ...               ...   \n",
       "ENSG00000255344.1          0.000000  ...          0.000000          0.305082   \n",
       "ENSG00000251226.1          0.021474  ...          0.000000          1.479591   \n",
       "ENSG00000255327.1          0.000000  ...          0.000000          0.000000   \n",
       "ENSG00000279046.1          0.000000  ...          0.000000          0.000000   \n",
       "ENSG00000255512.1          0.000000  ...          0.000000          0.000000   \n",
       "\n",
       "                   TCGA-EE-A3AA-06A  TCGA-FS-A1ZF-06A  TCGA-D9-A6EC-06A  \\\n",
       "Ensembl_ID                                                                \n",
       "ENSG00000253826.1          0.000000          0.000000          0.000000   \n",
       "ENSG00000224777.3          0.000000          0.000000          0.000000   \n",
       "ENSG00000254468.2          0.000000          0.000000          0.000000   \n",
       "ENSG00000270921.1          0.000000          0.023652          0.000000   \n",
       "ENSG00000230724.8          0.384525          0.899274          0.150108   \n",
       "...                             ...               ...               ...   \n",
       "ENSG00000255344.1          0.000000          0.000000          0.000000   \n",
       "ENSG00000251226.1          0.094802          1.083476          0.023263   \n",
       "ENSG00000255327.1          0.000000          0.000000          0.000000   \n",
       "ENSG00000279046.1          0.000000          0.000000          0.000000   \n",
       "ENSG00000255512.1          0.000000          0.000000          0.000000   \n",
       "\n",
       "                   TCGA-FR-A8YC-06A  TCGA-EB-A4XL-01A  TCGA-EB-A551-01A  \\\n",
       "Ensembl_ID                                                                \n",
       "ENSG00000253826.1          0.000000          0.000000          0.000000   \n",
       "ENSG00000224777.3          0.000000          0.000000          0.000000   \n",
       "ENSG00000254468.2          0.000000          0.000000          0.000000   \n",
       "ENSG00000270921.1          0.039002          0.063765          0.082351   \n",
       "ENSG00000230724.8          1.001449          0.617866          1.512543   \n",
       "...                             ...               ...               ...   \n",
       "ENSG00000255344.1          0.000000          0.000000          0.000000   \n",
       "ENSG00000251226.1          0.243056          0.000000          0.232443   \n",
       "ENSG00000255327.1          0.000000          0.000000          0.000000   \n",
       "ENSG00000279046.1          0.000000          0.000000          0.000000   \n",
       "ENSG00000255512.1          0.000000          0.000000          0.000000   \n",
       "\n",
       "                   TCGA-EE-A3J4-06A  TCGA-EE-A3AC-06A  \n",
       "Ensembl_ID                                             \n",
       "ENSG00000253826.1          0.000000          0.000000  \n",
       "ENSG00000224777.3          0.000000          0.000000  \n",
       "ENSG00000254468.2          0.000000          0.000000  \n",
       "ENSG00000270921.1          0.000000          0.000000  \n",
       "ENSG00000230724.8          0.604252          0.615044  \n",
       "...                             ...               ...  \n",
       "ENSG00000255344.1          0.000000          0.000000  \n",
       "ENSG00000251226.1          0.000000          0.000000  \n",
       "ENSG00000255327.1          0.000000          0.000000  \n",
       "ENSG00000279046.1          0.000000          0.000000  \n",
       "ENSG00000255512.1          0.000000          0.000000  \n",
       "\n",
       "[3381 rows x 472 columns]"
      ]
     },
     "execution_count": 26,
     "metadata": {},
     "output_type": "execute_result"
    }
   ],
   "source": [
    "smpCounts = smpCounts.loc[geneAnnotations[geneAnnotations[\"chrom\"] == \"chr11\"].index.to_list()]\n",
    "smpCounts"
   ]
  },
  {
   "cell_type": "markdown",
   "metadata": {},
   "source": [
    "3) Ne conserver dans `smpCounts` et `survivalData` que les patients pour lesquels nous avons à la fois le suivie de la survie et l'expression génique et ordonner les patients avec le même ordre dans les deux tableaux (colonnes de `smpCounts` et index de `survivalData`)."
   ]
  },
  {
   "cell_type": "code",
   "execution_count": 27,
   "metadata": {},
   "outputs": [
    {
     "data": {
      "text/html": [
       "<div>\n",
       "<style scoped>\n",
       "    .dataframe tbody tr th:only-of-type {\n",
       "        vertical-align: middle;\n",
       "    }\n",
       "\n",
       "    .dataframe tbody tr th {\n",
       "        vertical-align: top;\n",
       "    }\n",
       "\n",
       "    .dataframe thead th {\n",
       "        text-align: right;\n",
       "    }\n",
       "</style>\n",
       "<table border=\"1\" class=\"dataframe\">\n",
       "  <thead>\n",
       "    <tr style=\"text-align: right;\">\n",
       "      <th></th>\n",
       "      <th>OS</th>\n",
       "      <th>_PATIENT</th>\n",
       "      <th>OS.time</th>\n",
       "    </tr>\n",
       "  </thead>\n",
       "  <tbody>\n",
       "    <tr>\n",
       "      <th>TCGA-EE-A2GJ-06A</th>\n",
       "      <td>1</td>\n",
       "      <td>TCGA-EE-A2GJ</td>\n",
       "      <td>2270</td>\n",
       "    </tr>\n",
       "    <tr>\n",
       "      <th>TCGA-EE-A2GI-06A</th>\n",
       "      <td>0</td>\n",
       "      <td>TCGA-EE-A2GI</td>\n",
       "      <td>1482</td>\n",
       "    </tr>\n",
       "    <tr>\n",
       "      <th>TCGA-WE-A8ZM-06A</th>\n",
       "      <td>0</td>\n",
       "      <td>TCGA-WE-A8ZM</td>\n",
       "      <td>3082</td>\n",
       "    </tr>\n",
       "    <tr>\n",
       "      <th>TCGA-DA-A1IA-06A</th>\n",
       "      <td>1</td>\n",
       "      <td>TCGA-DA-A1IA</td>\n",
       "      <td>2005</td>\n",
       "    </tr>\n",
       "    <tr>\n",
       "      <th>TCGA-D3-A51H-06A</th>\n",
       "      <td>0</td>\n",
       "      <td>TCGA-D3-A51H</td>\n",
       "      <td>1714</td>\n",
       "    </tr>\n",
       "    <tr>\n",
       "      <th>...</th>\n",
       "      <td>...</td>\n",
       "      <td>...</td>\n",
       "      <td>...</td>\n",
       "    </tr>\n",
       "    <tr>\n",
       "      <th>TCGA-FR-A8YC-06A</th>\n",
       "      <td>1</td>\n",
       "      <td>TCGA-FR-A8YC</td>\n",
       "      <td>1059</td>\n",
       "    </tr>\n",
       "    <tr>\n",
       "      <th>TCGA-EB-A4XL-01A</th>\n",
       "      <td>0</td>\n",
       "      <td>TCGA-EB-A4XL</td>\n",
       "      <td>777</td>\n",
       "    </tr>\n",
       "    <tr>\n",
       "      <th>TCGA-EB-A551-01A</th>\n",
       "      <td>0</td>\n",
       "      <td>TCGA-EB-A551</td>\n",
       "      <td>590</td>\n",
       "    </tr>\n",
       "    <tr>\n",
       "      <th>TCGA-EE-A3J4-06A</th>\n",
       "      <td>1</td>\n",
       "      <td>TCGA-EE-A3J4</td>\n",
       "      <td>3869</td>\n",
       "    </tr>\n",
       "    <tr>\n",
       "      <th>TCGA-EE-A3AC-06A</th>\n",
       "      <td>0</td>\n",
       "      <td>TCGA-EE-A3AC</td>\n",
       "      <td>1948</td>\n",
       "    </tr>\n",
       "  </tbody>\n",
       "</table>\n",
       "<p>458 rows × 3 columns</p>\n",
       "</div>"
      ],
      "text/plain": [
       "                  OS      _PATIENT  OS.time\n",
       "TCGA-EE-A2GJ-06A   1  TCGA-EE-A2GJ     2270\n",
       "TCGA-EE-A2GI-06A   0  TCGA-EE-A2GI     1482\n",
       "TCGA-WE-A8ZM-06A   0  TCGA-WE-A8ZM     3082\n",
       "TCGA-DA-A1IA-06A   1  TCGA-DA-A1IA     2005\n",
       "TCGA-D3-A51H-06A   0  TCGA-D3-A51H     1714\n",
       "...               ..           ...      ...\n",
       "TCGA-FR-A8YC-06A   1  TCGA-FR-A8YC     1059\n",
       "TCGA-EB-A4XL-01A   0  TCGA-EB-A4XL      777\n",
       "TCGA-EB-A551-01A   0  TCGA-EB-A551      590\n",
       "TCGA-EE-A3J4-06A   1  TCGA-EE-A3J4     3869\n",
       "TCGA-EE-A3AC-06A   0  TCGA-EE-A3AC     1948\n",
       "\n",
       "[458 rows x 3 columns]"
      ]
     },
     "execution_count": 27,
     "metadata": {},
     "output_type": "execute_result"
    }
   ],
   "source": [
    "smpCounts = smpCounts[smpCounts.columns.intersection(survivalData.index)]\n",
    "survivalData = survivalData.loc[survivalData.index.intersection(smpCounts.columns)]\n",
    "survivalData = survivalData.loc[smpCounts.columns]\n",
    "survivalData"
   ]
  },
  {
   "cell_type": "markdown",
   "metadata": {},
   "source": [
    "Nous allons utiliser le package scikit-survival pour faire l'analyse des biomarqueurs prédictifs de la surive des patients.\n",
    "Celui-ci  prend les données de statuts des patients (0/1 colonnes OS de survivalData) sous forme booléenne (True / False) décés confirmés / non confirmés.\n",
    "\n",
    "4) Ajouter une colonne `Status` à `survivalData` correspondant à la colonne `OS`sous forme booléenne."
   ]
  },
  {
   "cell_type": "code",
   "execution_count": 28,
   "metadata": {},
   "outputs": [
    {
     "data": {
      "text/html": [
       "<div>\n",
       "<style scoped>\n",
       "    .dataframe tbody tr th:only-of-type {\n",
       "        vertical-align: middle;\n",
       "    }\n",
       "\n",
       "    .dataframe tbody tr th {\n",
       "        vertical-align: top;\n",
       "    }\n",
       "\n",
       "    .dataframe thead th {\n",
       "        text-align: right;\n",
       "    }\n",
       "</style>\n",
       "<table border=\"1\" class=\"dataframe\">\n",
       "  <thead>\n",
       "    <tr style=\"text-align: right;\">\n",
       "      <th></th>\n",
       "      <th>OS</th>\n",
       "      <th>_PATIENT</th>\n",
       "      <th>OS.time</th>\n",
       "      <th>Status</th>\n",
       "    </tr>\n",
       "  </thead>\n",
       "  <tbody>\n",
       "    <tr>\n",
       "      <th>TCGA-EE-A2GJ-06A</th>\n",
       "      <td>1</td>\n",
       "      <td>TCGA-EE-A2GJ</td>\n",
       "      <td>2270</td>\n",
       "      <td>True</td>\n",
       "    </tr>\n",
       "    <tr>\n",
       "      <th>TCGA-EE-A2GI-06A</th>\n",
       "      <td>0</td>\n",
       "      <td>TCGA-EE-A2GI</td>\n",
       "      <td>1482</td>\n",
       "      <td>False</td>\n",
       "    </tr>\n",
       "    <tr>\n",
       "      <th>TCGA-WE-A8ZM-06A</th>\n",
       "      <td>0</td>\n",
       "      <td>TCGA-WE-A8ZM</td>\n",
       "      <td>3082</td>\n",
       "      <td>False</td>\n",
       "    </tr>\n",
       "    <tr>\n",
       "      <th>TCGA-DA-A1IA-06A</th>\n",
       "      <td>1</td>\n",
       "      <td>TCGA-DA-A1IA</td>\n",
       "      <td>2005</td>\n",
       "      <td>True</td>\n",
       "    </tr>\n",
       "    <tr>\n",
       "      <th>TCGA-D3-A51H-06A</th>\n",
       "      <td>0</td>\n",
       "      <td>TCGA-D3-A51H</td>\n",
       "      <td>1714</td>\n",
       "      <td>False</td>\n",
       "    </tr>\n",
       "    <tr>\n",
       "      <th>...</th>\n",
       "      <td>...</td>\n",
       "      <td>...</td>\n",
       "      <td>...</td>\n",
       "      <td>...</td>\n",
       "    </tr>\n",
       "    <tr>\n",
       "      <th>TCGA-FR-A8YC-06A</th>\n",
       "      <td>1</td>\n",
       "      <td>TCGA-FR-A8YC</td>\n",
       "      <td>1059</td>\n",
       "      <td>True</td>\n",
       "    </tr>\n",
       "    <tr>\n",
       "      <th>TCGA-EB-A4XL-01A</th>\n",
       "      <td>0</td>\n",
       "      <td>TCGA-EB-A4XL</td>\n",
       "      <td>777</td>\n",
       "      <td>False</td>\n",
       "    </tr>\n",
       "    <tr>\n",
       "      <th>TCGA-EB-A551-01A</th>\n",
       "      <td>0</td>\n",
       "      <td>TCGA-EB-A551</td>\n",
       "      <td>590</td>\n",
       "      <td>False</td>\n",
       "    </tr>\n",
       "    <tr>\n",
       "      <th>TCGA-EE-A3J4-06A</th>\n",
       "      <td>1</td>\n",
       "      <td>TCGA-EE-A3J4</td>\n",
       "      <td>3869</td>\n",
       "      <td>True</td>\n",
       "    </tr>\n",
       "    <tr>\n",
       "      <th>TCGA-EE-A3AC-06A</th>\n",
       "      <td>0</td>\n",
       "      <td>TCGA-EE-A3AC</td>\n",
       "      <td>1948</td>\n",
       "      <td>False</td>\n",
       "    </tr>\n",
       "  </tbody>\n",
       "</table>\n",
       "<p>458 rows × 4 columns</p>\n",
       "</div>"
      ],
      "text/plain": [
       "                  OS      _PATIENT  OS.time  Status\n",
       "TCGA-EE-A2GJ-06A   1  TCGA-EE-A2GJ     2270    True\n",
       "TCGA-EE-A2GI-06A   0  TCGA-EE-A2GI     1482   False\n",
       "TCGA-WE-A8ZM-06A   0  TCGA-WE-A8ZM     3082   False\n",
       "TCGA-DA-A1IA-06A   1  TCGA-DA-A1IA     2005    True\n",
       "TCGA-D3-A51H-06A   0  TCGA-D3-A51H     1714   False\n",
       "...               ..           ...      ...     ...\n",
       "TCGA-FR-A8YC-06A   1  TCGA-FR-A8YC     1059    True\n",
       "TCGA-EB-A4XL-01A   0  TCGA-EB-A4XL      777   False\n",
       "TCGA-EB-A551-01A   0  TCGA-EB-A551      590   False\n",
       "TCGA-EE-A3J4-06A   1  TCGA-EE-A3J4     3869    True\n",
       "TCGA-EE-A3AC-06A   0  TCGA-EE-A3AC     1948   False\n",
       "\n",
       "[458 rows x 4 columns]"
      ]
     },
     "execution_count": 28,
     "metadata": {},
     "output_type": "execute_result"
    }
   ],
   "source": [
    "survivalData[\"Status\"] = survivalData[\"OS\"] == 1\n",
    "survivalData"
   ]
  },
  {
   "cell_type": "markdown",
   "metadata": {},
   "source": [
    "Nous allons commencer par regarder si l'expression du gène CD3G chez les patients peut être prédictif de leur survie. Ce gène code pour une sous unité du recepteur des cellules T. \n",
    "\n",
    "5) Séparez les patients en deux groupes selon qu'il expriment fortement ou non CD3G. On prendra la médiane d'expression de CD3G de la cohorte comme seuil pour définir ces deux groupes. Stocker le résultat dans une nouvelle colonne de survivalData."
   ]
  },
  {
   "cell_type": "code",
   "execution_count": 29,
   "metadata": {},
   "outputs": [
    {
     "data": {
      "text/html": [
       "<div>\n",
       "<style scoped>\n",
       "    .dataframe tbody tr th:only-of-type {\n",
       "        vertical-align: middle;\n",
       "    }\n",
       "\n",
       "    .dataframe tbody tr th {\n",
       "        vertical-align: top;\n",
       "    }\n",
       "\n",
       "    .dataframe thead th {\n",
       "        text-align: right;\n",
       "    }\n",
       "</style>\n",
       "<table border=\"1\" class=\"dataframe\">\n",
       "  <thead>\n",
       "    <tr style=\"text-align: right;\">\n",
       "      <th></th>\n",
       "      <th>OS</th>\n",
       "      <th>_PATIENT</th>\n",
       "      <th>OS.time</th>\n",
       "      <th>Status</th>\n",
       "      <th>ENSG00000160654.8</th>\n",
       "    </tr>\n",
       "  </thead>\n",
       "  <tbody>\n",
       "    <tr>\n",
       "      <th>TCGA-EE-A2GJ-06A</th>\n",
       "      <td>1</td>\n",
       "      <td>TCGA-EE-A2GJ</td>\n",
       "      <td>2270</td>\n",
       "      <td>True</td>\n",
       "      <td>high</td>\n",
       "    </tr>\n",
       "    <tr>\n",
       "      <th>TCGA-EE-A2GI-06A</th>\n",
       "      <td>0</td>\n",
       "      <td>TCGA-EE-A2GI</td>\n",
       "      <td>1482</td>\n",
       "      <td>False</td>\n",
       "      <td>high</td>\n",
       "    </tr>\n",
       "    <tr>\n",
       "      <th>TCGA-WE-A8ZM-06A</th>\n",
       "      <td>0</td>\n",
       "      <td>TCGA-WE-A8ZM</td>\n",
       "      <td>3082</td>\n",
       "      <td>False</td>\n",
       "      <td>low</td>\n",
       "    </tr>\n",
       "    <tr>\n",
       "      <th>TCGA-DA-A1IA-06A</th>\n",
       "      <td>1</td>\n",
       "      <td>TCGA-DA-A1IA</td>\n",
       "      <td>2005</td>\n",
       "      <td>True</td>\n",
       "      <td>low</td>\n",
       "    </tr>\n",
       "    <tr>\n",
       "      <th>TCGA-D3-A51H-06A</th>\n",
       "      <td>0</td>\n",
       "      <td>TCGA-D3-A51H</td>\n",
       "      <td>1714</td>\n",
       "      <td>False</td>\n",
       "      <td>high</td>\n",
       "    </tr>\n",
       "    <tr>\n",
       "      <th>...</th>\n",
       "      <td>...</td>\n",
       "      <td>...</td>\n",
       "      <td>...</td>\n",
       "      <td>...</td>\n",
       "      <td>...</td>\n",
       "    </tr>\n",
       "    <tr>\n",
       "      <th>TCGA-FR-A8YC-06A</th>\n",
       "      <td>1</td>\n",
       "      <td>TCGA-FR-A8YC</td>\n",
       "      <td>1059</td>\n",
       "      <td>True</td>\n",
       "      <td>high</td>\n",
       "    </tr>\n",
       "    <tr>\n",
       "      <th>TCGA-EB-A4XL-01A</th>\n",
       "      <td>0</td>\n",
       "      <td>TCGA-EB-A4XL</td>\n",
       "      <td>777</td>\n",
       "      <td>False</td>\n",
       "      <td>high</td>\n",
       "    </tr>\n",
       "    <tr>\n",
       "      <th>TCGA-EB-A551-01A</th>\n",
       "      <td>0</td>\n",
       "      <td>TCGA-EB-A551</td>\n",
       "      <td>590</td>\n",
       "      <td>False</td>\n",
       "      <td>high</td>\n",
       "    </tr>\n",
       "    <tr>\n",
       "      <th>TCGA-EE-A3J4-06A</th>\n",
       "      <td>1</td>\n",
       "      <td>TCGA-EE-A3J4</td>\n",
       "      <td>3869</td>\n",
       "      <td>True</td>\n",
       "      <td>low</td>\n",
       "    </tr>\n",
       "    <tr>\n",
       "      <th>TCGA-EE-A3AC-06A</th>\n",
       "      <td>0</td>\n",
       "      <td>TCGA-EE-A3AC</td>\n",
       "      <td>1948</td>\n",
       "      <td>False</td>\n",
       "      <td>high</td>\n",
       "    </tr>\n",
       "  </tbody>\n",
       "</table>\n",
       "<p>458 rows × 5 columns</p>\n",
       "</div>"
      ],
      "text/plain": [
       "                  OS      _PATIENT  OS.time  Status ENSG00000160654.8\n",
       "TCGA-EE-A2GJ-06A   1  TCGA-EE-A2GJ     2270    True              high\n",
       "TCGA-EE-A2GI-06A   0  TCGA-EE-A2GI     1482   False              high\n",
       "TCGA-WE-A8ZM-06A   0  TCGA-WE-A8ZM     3082   False               low\n",
       "TCGA-DA-A1IA-06A   1  TCGA-DA-A1IA     2005    True               low\n",
       "TCGA-D3-A51H-06A   0  TCGA-D3-A51H     1714   False              high\n",
       "...               ..           ...      ...     ...               ...\n",
       "TCGA-FR-A8YC-06A   1  TCGA-FR-A8YC     1059    True              high\n",
       "TCGA-EB-A4XL-01A   0  TCGA-EB-A4XL      777   False              high\n",
       "TCGA-EB-A551-01A   0  TCGA-EB-A551      590   False              high\n",
       "TCGA-EE-A3J4-06A   1  TCGA-EE-A3J4     3869    True               low\n",
       "TCGA-EE-A3AC-06A   0  TCGA-EE-A3AC     1948   False              high\n",
       "\n",
       "[458 rows x 5 columns]"
      ]
     },
     "execution_count": 29,
     "metadata": {},
     "output_type": "execute_result"
    }
   ],
   "source": [
    "gene_name = \"CD3G\"\n",
    "gene_id = geneAnnotations[geneAnnotations[\"gene\"]==\"CD3G\"].index[0]\n",
    "gene_id\n",
    "survivalData[gene_id] = ['high' if i > np.median(smpCounts.loc[gene_id]) else 'low' for i in smpCounts.loc[gene_id]]\n",
    "survivalData"
   ]
  },
  {
   "cell_type": "markdown",
   "metadata": {},
   "source": [
    "6) Utiliser la fonction `kaplan_meier_estimator` du package scikit-survival pour tracer la courbe de survie pour chacun des deux groupes. "
   ]
  },
  {
   "cell_type": "code",
   "execution_count": 30,
   "metadata": {},
   "outputs": [
    {
     "data": {
      "text/plain": [
       "<matplotlib.legend.Legend at 0x7f783616f340>"
      ]
     },
     "execution_count": 30,
     "metadata": {},
     "output_type": "execute_result"
    },
    {
     "data": {
      "image/png": "[encoded data removed]",
      "text/plain": [
       "<Figure size 432x288 with 1 Axes>"
      ]
     },
     "metadata": {
      "needs_background": "light"
     },
     "output_type": "display_data"
    }
   ],
   "source": [
    "for gene_exp in ('low', 'high'):\n",
    "    mask_exp = survivalData[gene_id] == gene_exp\n",
    "    time_exp, survival_prob_exp = kaplan_meier_estimator(\n",
    "        survivalData[\"Status\"][mask_exp],\n",
    "        survivalData['OS.time'][mask_exp])\n",
    "\n",
    "    plt.step(time_exp, survival_prob_exp, where=\"post\",\n",
    "             label=\"Exp CD3G %s\" % gene_exp)\n",
    "\n",
    "plt.ylabel(\"est. probability of survival $\\hat{S}(t)$\")\n",
    "plt.xlabel(\"time $t$\")\n",
    "plt.legend(loc=\"best\")"
   ]
  },
  {
   "cell_type": "markdown",
   "metadata": {},
   "source": [
    "7) A l'aide de la fonction `compare_survival`déterminer si la différence observée semble significative."
   ]
  },
  {
   "cell_type": "code",
   "execution_count": 31,
   "metadata": {},
   "outputs": [
    {
     "data": {
      "text/plain": [
       "(19.508312438716132, 1.0016286348874325e-05)"
      ]
     },
     "execution_count": 31,
     "metadata": {},
     "output_type": "execute_result"
    }
   ],
   "source": [
    "survivalData_array = survivalData[['Status','OS.time']].to_records(index=False)\n",
    "compare_survival(survivalData_array, survivalData[[gene_id]].to_numpy())"
   ]
  },
  {
   "cell_type": "markdown",
   "metadata": {},
   "source": [
    "8) A l'aide d'une boucle for, répétez maintenant ce test pour l'ensemble des gènes du chromosome 11. Ne tester que les gènes dont l'expression est détectée dans au moins 10 patients."
   ]
  },
  {
   "cell_type": "code",
   "execution_count": 32,
   "metadata": {},
   "outputs": [],
   "source": [
    "res = list()\n",
    "for g in smpCounts.index: \n",
    "    x = smpCounts.loc[g]\n",
    "    if (np.count_nonzero(x) > 10) : \n",
    "        y = survivalData[\"OS.time\"]\n",
    "        survivalData[g] = ['high' if i > np.median(x) else 'low' for i in smpCounts.loc[g]]\n",
    "        survivalData_array = survivalData[['Status','OS.time']].to_records(index=False)\n",
    "        stat, p = compare_survival(survivalData_array, survivalData[[g]].to_numpy())\n",
    "        res.append([g,stat,p])"
   ]
  },
  {
   "cell_type": "code",
   "execution_count": 33,
   "metadata": {},
   "outputs": [],
   "source": [
    "biomarkerResults = pd.DataFrame(res, columns = ['Ensembl_ID',\"stat\",\"p_value\"])\n",
    "biomarkerResults[\"gene_name\"] = geneAnnotations[\"gene\"].loc[biomarkerResults[\"Ensembl_ID\"]].to_list()"
   ]
  },
  {
   "cell_type": "markdown",
   "metadata": {},
   "source": [
    "9) Combien de gènes du chromosme 11 semblent à priori être prédictifs de la survie des patients?"
   ]
  },
  {
   "cell_type": "code",
   "execution_count": 34,
   "metadata": {},
   "outputs": [
    {
     "data": {
      "text/html": [
       "<div>\n",
       "<style scoped>\n",
       "    .dataframe tbody tr th:only-of-type {\n",
       "        vertical-align: middle;\n",
       "    }\n",
       "\n",
       "    .dataframe tbody tr th {\n",
       "        vertical-align: top;\n",
       "    }\n",
       "\n",
       "    .dataframe thead th {\n",
       "        text-align: right;\n",
       "    }\n",
       "</style>\n",
       "<table border=\"1\" class=\"dataframe\">\n",
       "  <thead>\n",
       "    <tr style=\"text-align: right;\">\n",
       "      <th></th>\n",
       "      <th>Ensembl_ID</th>\n",
       "      <th>stat</th>\n",
       "      <th>p_value</th>\n",
       "      <th>gene_name</th>\n",
       "    </tr>\n",
       "  </thead>\n",
       "  <tbody>\n",
       "    <tr>\n",
       "      <th>4</th>\n",
       "      <td>ENSG00000177951.16</td>\n",
       "      <td>5.615021</td>\n",
       "      <td>0.017807</td>\n",
       "      <td>BET1L</td>\n",
       "    </tr>\n",
       "    <tr>\n",
       "      <th>11</th>\n",
       "      <td>ENSG00000174885.11</td>\n",
       "      <td>20.040423</td>\n",
       "      <td>0.000008</td>\n",
       "      <td>NLRP6</td>\n",
       "    </tr>\n",
       "    <tr>\n",
       "      <th>12</th>\n",
       "      <td>ENSG00000255026.1</td>\n",
       "      <td>6.060273</td>\n",
       "      <td>0.013826</td>\n",
       "      <td>RP11-326C3.2</td>\n",
       "    </tr>\n",
       "    <tr>\n",
       "      <th>13</th>\n",
       "      <td>ENSG00000142102.14</td>\n",
       "      <td>13.438443</td>\n",
       "      <td>0.000247</td>\n",
       "      <td>ATHL1</td>\n",
       "    </tr>\n",
       "    <tr>\n",
       "      <th>16</th>\n",
       "      <td>ENSG00000185201.15</td>\n",
       "      <td>8.611873</td>\n",
       "      <td>0.003340</td>\n",
       "      <td>IFITM2</td>\n",
       "    </tr>\n",
       "    <tr>\n",
       "      <th>...</th>\n",
       "      <td>...</td>\n",
       "      <td>...</td>\n",
       "      <td>...</td>\n",
       "      <td>...</td>\n",
       "    </tr>\n",
       "    <tr>\n",
       "      <th>2715</th>\n",
       "      <td>ENSG00000166106.3</td>\n",
       "      <td>4.825007</td>\n",
       "      <td>0.028050</td>\n",
       "      <td>ADAMTS15</td>\n",
       "    </tr>\n",
       "    <tr>\n",
       "      <th>2734</th>\n",
       "      <td>ENSG00000279497.1</td>\n",
       "      <td>3.979641</td>\n",
       "      <td>0.046053</td>\n",
       "      <td>RP11-654C20.1</td>\n",
       "    </tr>\n",
       "    <tr>\n",
       "      <th>2752</th>\n",
       "      <td>ENSG00000151500.13</td>\n",
       "      <td>11.827851</td>\n",
       "      <td>0.000584</td>\n",
       "      <td>THYN1</td>\n",
       "    </tr>\n",
       "    <tr>\n",
       "      <th>2754</th>\n",
       "      <td>ENSG00000166105.14</td>\n",
       "      <td>3.854245</td>\n",
       "      <td>0.049620</td>\n",
       "      <td>GLB1L3</td>\n",
       "    </tr>\n",
       "    <tr>\n",
       "      <th>2761</th>\n",
       "      <td>ENSG00000251226.1</td>\n",
       "      <td>15.365412</td>\n",
       "      <td>0.000089</td>\n",
       "      <td>RP11-469N6.1</td>\n",
       "    </tr>\n",
       "  </tbody>\n",
       "</table>\n",
       "<p>403 rows × 4 columns</p>\n",
       "</div>"
      ],
      "text/plain": [
       "              Ensembl_ID       stat   p_value      gene_name\n",
       "4     ENSG00000177951.16   5.615021  0.017807          BET1L\n",
       "11    ENSG00000174885.11  20.040423  0.000008          NLRP6\n",
       "12     ENSG00000255026.1   6.060273  0.013826   RP11-326C3.2\n",
       "13    ENSG00000142102.14  13.438443  0.000247          ATHL1\n",
       "16    ENSG00000185201.15   8.611873  0.003340         IFITM2\n",
       "...                  ...        ...       ...            ...\n",
       "2715   ENSG00000166106.3   4.825007  0.028050       ADAMTS15\n",
       "2734   ENSG00000279497.1   3.979641  0.046053  RP11-654C20.1\n",
       "2752  ENSG00000151500.13  11.827851  0.000584          THYN1\n",
       "2754  ENSG00000166105.14   3.854245  0.049620         GLB1L3\n",
       "2761   ENSG00000251226.1  15.365412  0.000089   RP11-469N6.1\n",
       "\n",
       "[403 rows x 4 columns]"
      ]
     },
     "execution_count": 34,
     "metadata": {},
     "output_type": "execute_result"
    }
   ],
   "source": [
    "biomarkerResults[biomarkerResults[\"p_value\"]< 0.05]"
   ]
  },
  {
   "cell_type": "markdown",
   "metadata": {},
   "source": [
    "10) Effectuer la correction de Benjamin et Hotchberg sur ces résultats. Combien restent-t'ils de résultats significatifs?\n"
   ]
  },
  {
   "cell_type": "code",
   "execution_count": 35,
   "metadata": {},
   "outputs": [
    {
     "data": {
      "text/html": [
       "<div>\n",
       "<style scoped>\n",
       "    .dataframe tbody tr th:only-of-type {\n",
       "        vertical-align: middle;\n",
       "    }\n",
       "\n",
       "    .dataframe tbody tr th {\n",
       "        vertical-align: top;\n",
       "    }\n",
       "\n",
       "    .dataframe thead th {\n",
       "        text-align: right;\n",
       "    }\n",
       "</style>\n",
       "<table border=\"1\" class=\"dataframe\">\n",
       "  <thead>\n",
       "    <tr style=\"text-align: right;\">\n",
       "      <th></th>\n",
       "      <th>Ensembl_ID</th>\n",
       "      <th>stat</th>\n",
       "      <th>p_value</th>\n",
       "      <th>gene_name</th>\n",
       "      <th>corrected_threshold</th>\n",
       "      <th>H0 rejected</th>\n",
       "    </tr>\n",
       "  </thead>\n",
       "  <tbody>\n",
       "    <tr>\n",
       "      <th>1906</th>\n",
       "      <td>ENSG00000254965.1</td>\n",
       "      <td>27.676464</td>\n",
       "      <td>1.433968e-07</td>\n",
       "      <td>RP11-113K21.2</td>\n",
       "      <td>0.000018</td>\n",
       "      <td>True</td>\n",
       "    </tr>\n",
       "    <tr>\n",
       "      <th>1297</th>\n",
       "      <td>ENSG00000133321.9</td>\n",
       "      <td>25.031287</td>\n",
       "      <td>5.640753e-07</td>\n",
       "      <td>RARRES3</td>\n",
       "      <td>0.000036</td>\n",
       "      <td>True</td>\n",
       "    </tr>\n",
       "    <tr>\n",
       "      <th>18</th>\n",
       "      <td>ENSG00000185885.14</td>\n",
       "      <td>24.656842</td>\n",
       "      <td>6.850111e-07</td>\n",
       "      <td>IFITM1</td>\n",
       "      <td>0.000054</td>\n",
       "      <td>True</td>\n",
       "    </tr>\n",
       "    <tr>\n",
       "      <th>263</th>\n",
       "      <td>ENSG00000132274.14</td>\n",
       "      <td>24.603914</td>\n",
       "      <td>7.040859e-07</td>\n",
       "      <td>TRIM22</td>\n",
       "      <td>0.000072</td>\n",
       "      <td>True</td>\n",
       "    </tr>\n",
       "    <tr>\n",
       "      <th>2148</th>\n",
       "      <td>ENSG00000023445.12</td>\n",
       "      <td>24.547776</td>\n",
       "      <td>7.248998e-07</td>\n",
       "      <td>BIRC3</td>\n",
       "      <td>0.000090</td>\n",
       "      <td>True</td>\n",
       "    </tr>\n",
       "    <tr>\n",
       "      <th>...</th>\n",
       "      <td>...</td>\n",
       "      <td>...</td>\n",
       "      <td>...</td>\n",
       "      <td>...</td>\n",
       "      <td>...</td>\n",
       "      <td>...</td>\n",
       "    </tr>\n",
       "    <tr>\n",
       "      <th>2612</th>\n",
       "      <td>ENSG00000165478.6</td>\n",
       "      <td>9.877512</td>\n",
       "      <td>1.673110e-03</td>\n",
       "      <td>HEPACAM</td>\n",
       "      <td>0.001719</td>\n",
       "      <td>True</td>\n",
       "    </tr>\n",
       "    <tr>\n",
       "      <th>2144</th>\n",
       "      <td>ENSG00000243777.1</td>\n",
       "      <td>9.845892</td>\n",
       "      <td>1.702114e-03</td>\n",
       "      <td>RP11-864G5.1</td>\n",
       "      <td>0.001737</td>\n",
       "      <td>True</td>\n",
       "    </tr>\n",
       "    <tr>\n",
       "      <th>1081</th>\n",
       "      <td>ENSG00000172362.2</td>\n",
       "      <td>9.807478</td>\n",
       "      <td>1.738037e-03</td>\n",
       "      <td>OR5B12</td>\n",
       "      <td>0.001755</td>\n",
       "      <td>True</td>\n",
       "    </tr>\n",
       "    <tr>\n",
       "      <th>66</th>\n",
       "      <td>ENSG00000177700.5</td>\n",
       "      <td>9.804806</td>\n",
       "      <td>1.740564e-03</td>\n",
       "      <td>POLR2L</td>\n",
       "      <td>0.001773</td>\n",
       "      <td>True</td>\n",
       "    </tr>\n",
       "    <tr>\n",
       "      <th>262</th>\n",
       "      <td>ENSG00000132256.17</td>\n",
       "      <td>9.762378</td>\n",
       "      <td>1.781193e-03</td>\n",
       "      <td>TRIM5</td>\n",
       "      <td>0.001792</td>\n",
       "      <td>True</td>\n",
       "    </tr>\n",
       "  </tbody>\n",
       "</table>\n",
       "<p>99 rows × 6 columns</p>\n",
       "</div>"
      ],
      "text/plain": [
       "              Ensembl_ID       stat       p_value      gene_name  \\\n",
       "1906   ENSG00000254965.1  27.676464  1.433968e-07  RP11-113K21.2   \n",
       "1297   ENSG00000133321.9  25.031287  5.640753e-07        RARRES3   \n",
       "18    ENSG00000185885.14  24.656842  6.850111e-07         IFITM1   \n",
       "263   ENSG00000132274.14  24.603914  7.040859e-07         TRIM22   \n",
       "2148  ENSG00000023445.12  24.547776  7.248998e-07          BIRC3   \n",
       "...                  ...        ...           ...            ...   \n",
       "2612   ENSG00000165478.6   9.877512  1.673110e-03        HEPACAM   \n",
       "2144   ENSG00000243777.1   9.845892  1.702114e-03   RP11-864G5.1   \n",
       "1081   ENSG00000172362.2   9.807478  1.738037e-03         OR5B12   \n",
       "66     ENSG00000177700.5   9.804806  1.740564e-03         POLR2L   \n",
       "262   ENSG00000132256.17   9.762378  1.781193e-03          TRIM5   \n",
       "\n",
       "      corrected_threshold  H0 rejected  \n",
       "1906             0.000018         True  \n",
       "1297             0.000036         True  \n",
       "18               0.000054         True  \n",
       "263              0.000072         True  \n",
       "2148             0.000090         True  \n",
       "...                   ...          ...  \n",
       "2612             0.001719         True  \n",
       "2144             0.001737         True  \n",
       "1081             0.001755         True  \n",
       "66               0.001773         True  \n",
       "262              0.001792         True  \n",
       "\n",
       "[99 rows x 6 columns]"
      ]
     },
     "execution_count": 35,
     "metadata": {},
     "output_type": "execute_result"
    }
   ],
   "source": [
    "biomarkerResults = biomarkerResults.sort_values(\"p_value\")\n",
    "biomarkerResults[\"corrected_threshold\"]=[(r/len(biomarkerResults))*0.05 for r in range(len(biomarkerResults)+1)][1:]\n",
    "biomarkerResults['H0 rejected'] = biomarkerResults['p_value'] < biomarkerResults['corrected_threshold']\n",
    "biomarkerResults[biomarkerResults['H0 rejected']]"
   ]
  },
  {
   "cell_type": "markdown",
   "metadata": {},
   "source": [
    "11) Est ce que les expressions des autres gènes du complexes CD3 des cellules T sont predictives de la survie des patients? Tracer les courbes de survies associées."
   ]
  },
  {
   "cell_type": "code",
   "execution_count": 36,
   "metadata": {},
   "outputs": [],
   "source": [
    "CD3_genes = [i for i in biomarkerResults[\"gene_name\"] if i.startswith('CD3')]"
   ]
  },
  {
   "cell_type": "code",
   "execution_count": 37,
   "metadata": {},
   "outputs": [
    {
     "data": {
      "text/html": [
       "<div>\n",
       "<style scoped>\n",
       "    .dataframe tbody tr th:only-of-type {\n",
       "        vertical-align: middle;\n",
       "    }\n",
       "\n",
       "    .dataframe tbody tr th {\n",
       "        vertical-align: top;\n",
       "    }\n",
       "\n",
       "    .dataframe thead th {\n",
       "        text-align: right;\n",
       "    }\n",
       "</style>\n",
       "<table border=\"1\" class=\"dataframe\">\n",
       "  <thead>\n",
       "    <tr style=\"text-align: right;\">\n",
       "      <th></th>\n",
       "      <th>Ensembl_ID</th>\n",
       "      <th>stat</th>\n",
       "      <th>p_value</th>\n",
       "      <th>gene_name</th>\n",
       "      <th>corrected_threshold</th>\n",
       "      <th>H0 rejected</th>\n",
       "    </tr>\n",
       "  </thead>\n",
       "  <tbody>\n",
       "    <tr>\n",
       "      <th>2432</th>\n",
       "      <td>ENSG00000167286.8</td>\n",
       "      <td>20.992354</td>\n",
       "      <td>0.000005</td>\n",
       "      <td>CD3D</td>\n",
       "      <td>0.000181</td>\n",
       "      <td>True</td>\n",
       "    </tr>\n",
       "    <tr>\n",
       "      <th>2433</th>\n",
       "      <td>ENSG00000160654.8</td>\n",
       "      <td>19.508312</td>\n",
       "      <td>0.000010</td>\n",
       "      <td>CD3G</td>\n",
       "      <td>0.000326</td>\n",
       "      <td>True</td>\n",
       "    </tr>\n",
       "    <tr>\n",
       "      <th>2430</th>\n",
       "      <td>ENSG00000198851.8</td>\n",
       "      <td>14.704992</td>\n",
       "      <td>0.000126</td>\n",
       "      <td>CD3E</td>\n",
       "      <td>0.000670</td>\n",
       "      <td>True</td>\n",
       "    </tr>\n",
       "  </tbody>\n",
       "</table>\n",
       "</div>"
      ],
      "text/plain": [
       "             Ensembl_ID       stat   p_value gene_name  corrected_threshold  \\\n",
       "2432  ENSG00000167286.8  20.992354  0.000005      CD3D             0.000181   \n",
       "2433  ENSG00000160654.8  19.508312  0.000010      CD3G             0.000326   \n",
       "2430  ENSG00000198851.8  14.704992  0.000126      CD3E             0.000670   \n",
       "\n",
       "      H0 rejected  \n",
       "2432         True  \n",
       "2433         True  \n",
       "2430         True  "
      ]
     },
     "execution_count": 37,
     "metadata": {},
     "output_type": "execute_result"
    }
   ],
   "source": [
    "biomarkerResults[biomarkerResults[\"gene_name\"].isin(CD3_genes)]"
   ]
  },
  {
   "cell_type": "code",
   "execution_count": 38,
   "metadata": {},
   "outputs": [
    {
     "data": {
      "image/png": "[encoded data removed]",
      "text/plain": [
       "<Figure size 432x288 with 1 Axes>"
      ]
     },
     "metadata": {
      "needs_background": "light"
     },
     "output_type": "display_data"
    },
    {
     "data": {
      "image/png": "[encoded data removed]",
      "text/plain": [
       "<Figure size 432x288 with 1 Axes>"
      ]
     },
     "metadata": {
      "needs_background": "light"
     },
     "output_type": "display_data"
    }
   ],
   "source": [
    "for gene_name in [\"CD3G\",\"CD3E\"]:\n",
    "    gene_id = geneAnnotations[geneAnnotations[\"gene\"]==gene_name].index[0]\n",
    "    survivalData[gene_id] = ['high' if i > np.median(smpCounts.loc[gene_id]) else 'low' for i in smpCounts.loc[gene_id]]\n",
    "    for gene_exp in ('low', 'high'):\n",
    "        mask_exp = survivalData[gene_id] == gene_exp\n",
    "        time_exp, survival_prob_exp = kaplan_meier_estimator(\n",
    "            survivalData[\"Status\"][mask_exp],\n",
    "            survivalData['OS.time'][mask_exp])\n",
    "\n",
    "        plt.step(time_exp, survival_prob_exp, where=\"post\",\n",
    "             label=\"Exp \"+gene_name +\" %s\" % gene_exp)\n",
    "\n",
    "    plt.ylabel(\"est. probability of survival $\\hat{S}(t)$\")\n",
    "    plt.xlabel(\"time $t$\")\n",
    "    plt.legend(loc=\"best\")\n",
    "    plt.show()"
   ]
  },
  {
   "cell_type": "markdown",
   "metadata": {},
   "source": [
    "## Question bonus: \n",
    "Répéter cette analyse mais cette fois ci en distinguant les différents types d'echantillons. Vous aurez besoin de charger le tableau des données cliniques: `\"../UCSC_data/TCGA-SKCM.GDC_phenotype.tsv\"`\n"
   ]
  },
  {
   "cell_type": "code",
   "execution_count": 39,
   "metadata": {},
   "outputs": [],
   "source": [
    "clinicalData = pd.read_table(\"../UCSC_data/TCGA-SKCM.GDC_phenotype.tsv\")\n",
    "clinicalData = clinicalData.set_index(\"submitter_id.samples\",drop = False)\n",
    "survivalData[\"sample_type\"] = clinicalData.loc[survivalData.index,\"sample_type.samples\"]"
   ]
  },
  {
   "cell_type": "code",
   "execution_count": 40,
   "metadata": {},
   "outputs": [
    {
     "data": {
      "image/png": "[encoded data removed]",
      "text/plain": [
       "<Figure size 432x288 with 1 Axes>"
      ]
     },
     "metadata": {
      "needs_background": "light"
     },
     "output_type": "display_data"
    },
    {
     "data": {
      "image/png": "[encoded data removed]",
      "text/plain": [
       "<Figure size 432x288 with 1 Axes>"
      ]
     },
     "metadata": {
      "needs_background": "light"
     },
     "output_type": "display_data"
    },
    {
     "data": {
      "image/png": "[encoded data removed]",
      "text/plain": [
       "<Figure size 432x288 with 1 Axes>"
      ]
     },
     "metadata": {
      "needs_background": "light"
     },
     "output_type": "display_data"
    }
   ],
   "source": [
    "for gene_name in [\"CD3D\",\"CD3G\",\"CD3E\"]:\n",
    "    gene_id = geneAnnotations[geneAnnotations[\"gene\"]==gene_name].index[0]\n",
    "    for smp_type in ('Primary Tumor', 'Metastatic'):\n",
    "        survivalDataSmp = survivalData[survivalData[\"sample_type\"] == smp_type]\n",
    "        for gene_exp in ('low', 'high'):\n",
    "            mask_exp = survivalDataSmp[gene_id] == gene_exp\n",
    "            time_exp, survival_prob_exp = kaplan_meier_estimator(\n",
    "                survivalDataSmp[\"Status\"][mask_exp],\n",
    "                survivalDataSmp['OS.time'][mask_exp])\n",
    "\n",
    "            plt.step(time_exp, survival_prob_exp, where=\"post\",\n",
    "                     label=smp_type+\" Exp \"+gene_name +\" %s\" % gene_exp)\n",
    "\n",
    "    plt.ylabel(\"est. probability of survival $\\hat{S}(t)$\")\n",
    "    plt.xlabel(\"time $t$\")\n",
    "    plt.legend(loc=\"best\")\n",
    "    plt.show()"
   ]
  },
  {
   "cell_type": "code",
   "execution_count": 41,
   "metadata": {},
   "outputs": [
    {
     "data": {
      "image/png": "[encoded data removed]",
      "text/plain": [
       "<Figure size 432x288 with 1 Axes>"
      ]
     },
     "metadata": {
      "needs_background": "light"
     },
     "output_type": "display_data"
    },
    {
     "data": {
      "image/png": "[encoded data removed]",
      "text/plain": [
       "<Figure size 432x288 with 1 Axes>"
      ]
     },
     "metadata": {
      "needs_background": "light"
     },
     "output_type": "display_data"
    },
    {
     "data": {
      "image/png": "[encoded data removed]",
      "text/plain": [
       "<Figure size 432x288 with 1 Axes>"
      ]
     },
     "metadata": {
      "needs_background": "light"
     },
     "output_type": "display_data"
    }
   ],
   "source": [
    "smp_type = \"Primary Tumor\"\n",
    "survivalDataSmp = survivalData[survivalData[\"sample_type\"] == smp_type]\n",
    "for gene_name in [\"CD3D\",\"CD3G\",\"CD3E\"]:\n",
    "    gene_id = geneAnnotations[geneAnnotations[\"gene\"]==gene_name].index[0]\n",
    "    smp_type = 'Primary Tumor'\n",
    "    survivalDataSmp = survivalData[survivalData[\"sample_type\"] == smp_type]\n",
    "    for gene_exp in ('low', 'high'):\n",
    "        mask_exp = survivalDataSmp[gene_id] == gene_exp\n",
    "        time_exp, survival_prob_exp = kaplan_meier_estimator(\n",
    "            survivalDataSmp[\"Status\"][mask_exp],\n",
    "            survivalDataSmp['OS.time'][mask_exp])\n",
    "\n",
    "        plt.step(time_exp, survival_prob_exp, where=\"post\",\n",
    "                 label=smp_type+\" Exp \"+gene_name +\" %s\" % gene_exp)\n",
    "\n",
    "    plt.ylabel(\"est. probability of survival $\\hat{S}(t)$\")\n",
    "    plt.xlabel(\"time $t$\")\n",
    "    plt.legend(loc=\"best\")\n",
    "    plt.show()"
   ]
  }
 ],
 "metadata": {
  "kernelspec": {
   "display_name": "Python 3",
   "language": "python",
   "name": "python3"
  },
  "language_info": {
   "codemirror_mode": {
    "name": "ipython",
    "version": 3
   },
   "file_extension": ".py",
   "mimetype": "text/x-python",
   "name": "python",
   "nbconvert_exporter": "python",
   "pygments_lexer": "ipython3",
   "version": "3.8.5"
  }
 },
 "nbformat": 4,
 "nbformat_minor": 4
}
