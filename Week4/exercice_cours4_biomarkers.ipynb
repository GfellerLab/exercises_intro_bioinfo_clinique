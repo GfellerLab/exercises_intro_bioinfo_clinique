{
 "cells": [
  {
   "cell_type": "markdown",
   "metadata": {},
   "source": [
    "# Exercice semaine 4: Correction tests multiples et biomarqueurs"
   ]
  },
  {
   "cell_type": "markdown",
   "metadata": {},
   "source": [
    "## Chargement des libraries"
   ]
  },
  {
   "cell_type": "code",
   "execution_count": null,
   "metadata": {},
   "outputs": [],
   "source": [
    "import pandas as pd\n",
    "import plotly.express as px\n",
    "import numpy as np\n",
    "import os\n",
    "from scipy import stats\n",
    "\n",
    "%matplotlib inline\n",
    "import matplotlib.pyplot as plt\n",
    "from sksurv.nonparametric import kaplan_meier_estimator\n",
    "from sksurv.compare import compare_survival"
   ]
  },
  {
   "cell_type": "markdown",
   "metadata": {},
   "source": [
    "## Partie 1 : Introduction aux tests multiples"
   ]
  },
  {
   "cell_type": "markdown",
   "metadata": {},
   "source": [
    "1) Faîtes 1000 t-tests entre des distributions normales centrées réduites de taille 30 générées aléatoirement. Afficher les deux dernières distributions générées."
   ]
  },
  {
   "cell_type": "code",
   "execution_count": null,
   "metadata": {},
   "outputs": [],
   "source": [
    "resRandom = list()\n",
    "for g in range(1000):\n",
    "    group1 = np.random.normal(loc=0.0, scale=1.0, size=30)\n",
    "    group2 = np.random.normal(loc=0.0, scale=1.0, size=30)\n",
    "    diff = np.mean(group2) - np.mean(group1)\n",
    "    t, p = stats.ttest_ind(group1, group2,equal_var = True) \n",
    "    #t, p  = stats.wilcoxon(x = group1, y = group2) \n",
    "    resRandom.append([g,diff,t,p])"
   ]
  },
  {
   "cell_type": "code",
   "execution_count": null,
   "metadata": {},
   "outputs": [],
   "source": [
    "fig = px.histogram(group1,nbins=10)\n",
    "fig.show()"
   ]
  },
  {
   "cell_type": "code",
   "execution_count": null,
   "metadata": {},
   "outputs": [],
   "source": [
    "# A compléter pour afficher l'histogramme de la distribution du groupe 2"
   ]
  },
  {
   "cell_type": "markdown",
   "metadata": {},
   "source": [
    "2) Obtenez vous des différences significatives (p-valeur < 0.05)?"
   ]
  },
  {
   "cell_type": "code",
   "execution_count": null,
   "metadata": {},
   "outputs": [],
   "source": [
    "resRandomTable = pd.DataFrame(resRandom, columns = ['test_number', 'diff',\"T stat\",\"p_value\"])\n",
    "resRandomTable[resRandomTable['p_value'] < 0.05].sort_values(\"p_value\")"
   ]
  },
  {
   "cell_type": "code",
   "execution_count": null,
   "metadata": {},
   "outputs": [],
   "source": [
    "# A compléter pour obtenir le nombre de différences à priori significatives à l'aide de la fonction len"
   ]
  },
  {
   "cell_type": "markdown",
   "metadata": {},
   "source": [
    "3) Effectuer la correction de Benjamin et Hotchberg pour déterminer les différences significatives pour ces 1000 tests (on prendra un seuil initial sigma de 0.05)."
   ]
  },
  {
   "cell_type": "code",
   "execution_count": null,
   "metadata": {},
   "outputs": [],
   "source": [
    "resRandomTable = resRandomTable.sort_values(\"p_value\")\n",
    "resRandomTable[\"corrected_threshold\"]=[(r/len(resRandomTable))*0.05 for r in range(len(resRandomTable)+1)[1:]]\n",
    "resRandomTable['H0 rejected'] = resRandomTable['p_value'] < resRandomTable['corrected_threshold']\n",
    "resRandomTable"
   ]
  },
  {
   "cell_type": "markdown",
   "metadata": {},
   "source": [
    "#### Remarque sur le code:\n",
    "Nous avons utilisé ici (et nous utiliserons plus tard dans l'exercice) une liste en compréhension pour écrire de manière synthétique une boucle for: `[(r/len(resRandomTable))*0.05 for r in range(len(resRandomTable)+1)[1:]]`. Le code équivalent avec une boucle for classique, beaucoup plus long à écrire, est le suivant:"
   ]
  },
  {
   "cell_type": "code",
   "execution_count": null,
   "metadata": {},
   "outputs": [],
   "source": [
    "corrected_threshold_list = [] #déclaration d'une liste vide\n",
    "for r in range(len(resRandomTable)+1)[1:]: # range fait partir la séquence à 0 mais notre premier rang est 1\n",
    "    corrected_threshold = (r/len(resRandomTable))*0.05 #calcul du nouveau seuil pour le rang donné\n",
    "    corrected_threshold_list.append(corrected_threshold) #ajout du seuil à la liste\n",
    "    \n",
    "resRandomTable[\"corrected_threshold_2\"] = corrected_threshold_list\n",
    "resRandomTable"
   ]
  },
  {
   "cell_type": "markdown",
   "metadata": {},
   "source": [
    "4) Reste-t-il des différences significatives pour ces nouveaux seuils? Si oui, dans quelle proportion par rapport au nombre de tests effectués (1000)?"
   ]
  },
  {
   "cell_type": "code",
   "execution_count": null,
   "metadata": {},
   "outputs": [],
   "source": [
    "resRandomTable[resRandomTable['H0 rejected']]"
   ]
  },
  {
   "cell_type": "markdown",
   "metadata": {},
   "source": [
    "5) Effectuer la même correction pour les tests de différences d'expression réalisés lors de la séance précédente.\n",
    "\n",
    "Commencer par charger le tableau des résultats sauvegardés précedemment. Combien de gènes sont à priori différentiellement exprimés (on prendra p_value < 0.05) entre les echantillons métastatiques et les echantillons de tumeurs primaires?"
   ]
  },
  {
   "cell_type": "code",
   "execution_count": null,
   "metadata": {},
   "outputs": [],
   "source": [
    "diffExpResults = pd.read_csv(\"../Week4/diffExpMetastaticPrimaryTumor_chr14.csv\")\n",
    "diffExpResults[diffExpResults[\"p_value\"]< 0.05]"
   ]
  },
  {
   "cell_type": "code",
   "execution_count": null,
   "metadata": {},
   "outputs": [],
   "source": [
    "# A compléter pour obtenir le nombre de différences à priori significatives à l'aide de la fonction len"
   ]
  },
  {
   "cell_type": "markdown",
   "metadata": {},
   "source": [
    "Puis réaliser la correction comme précédemment."
   ]
  },
  {
   "cell_type": "code",
   "execution_count": null,
   "metadata": {},
   "outputs": [],
   "source": [
    "# A compléter pour réaliser la correction de Benjamin et Hotchberg"
   ]
  },
  {
   "cell_type": "markdown",
   "metadata": {},
   "source": [
    "6) Combien de gènes différentiellement exprimés reste-t-il après cette correction?"
   ]
  },
  {
   "cell_type": "code",
   "execution_count": null,
   "metadata": {},
   "outputs": [],
   "source": [
    "diffExpResults[diffExpResults['H0 rejected']].sort_values('log1p_diff')"
   ]
  },
  {
   "cell_type": "markdown",
   "metadata": {},
   "source": [
    "## Partie 2: Analyse des biomarqueurs prédictifs de la survie des patients atteints de melanomes"
   ]
  },
  {
   "cell_type": "markdown",
   "metadata": {},
   "source": [
    "Nous allons travailler sur le fichier d'expression génique de la cohorte de patients atteints de mélanome que nous avons normalisé en TPM (`'TCGA-SKCM.htseq_tpm.csv'`)la semaine dernière et nous aurons également besoin du fichier d'annotations des gènes (`'gencode.v22.annotation.gene.probeMap.with.length.csv'`).\n",
    "\n",
    "Aujourd'hui, nous utiliserons en plus le fichier de suivi de la survie des patients de la cohorte (`'TCGA-SKCM.survival.tsv'`) que nous avons téléchargé à cette adresse: https://xenabrowser.net/datapages/?dataset=TCGA-SKCM.survival.tsv&host=https%3A%2F%2Fgdc.xenahubs.net&removeHub=https%3A%2F%2Fxena.treehouse.gi.ucsc.edu%3A443\n",
    "\n",
    "Nous avons mis à votre disposition ces fichiers dans le dossier UCSC_data.\n",
    "\n",
    "1) Charger ces fichiers dans des tableaux `smpCounts`, `geneAnnotation` et `survivalData`. Mettez en index (noms des lignes) la colonne `Ensembl_ID` pour `smpCounts`, `ìd` pour `geneAnnotations` et la colonne `sample`pour `survivalData`. On conservera la colonne d'index pour geneAnnotations et survivalData (option `drop=False`)."
   ]
  },
  {
   "cell_type": "code",
   "execution_count": null,
   "metadata": {},
   "outputs": [],
   "source": [
    "smpCounts = pd.read_csv('../UCSC_data/TCGA-SKCM.htseq_tpm.csv')\n",
    "smpCounts = smpCounts.set_index('Ensembl_ID') #his will drop Ensembl_ID column\n",
    "smpCounts"
   ]
  },
  {
   "cell_type": "code",
   "execution_count": null,
   "metadata": {},
   "outputs": [],
   "source": [
    "geneAnnotations = pd.read_csv('../UCSC_data/gencode.v22.annotation.gene.probeMap.with.length.csv')\n",
    "geneAnnotations = geneAnnotations.set_index('id') #this will drop Ensembl_ID column\n",
    "geneAnnotations"
   ]
  },
  {
   "cell_type": "markdown",
   "metadata": {},
   "source": [
    "Dans `survivalData` la colonne `OS` correspond au dernier status vital connu du patient: 1 s'il était mort, 0 s'il etait en vie.\n",
    "La colonne `OS.time` correspond au temps de survie mesuré en jours du patient jusqu'à sa mort (si `OS=1`), jusqu'à la fin de l'étude s'il était à ce moment là toujours en vie, ou jusqu'à ce qu'il quitte l'étude avant la fin de celle ci (si `OS=0`).\n"
   ]
  },
  {
   "cell_type": "code",
   "execution_count": null,
   "metadata": {},
   "outputs": [],
   "source": [
    "survivalData = pd.read_table('../UCSC_data/TCGA-SKCM.survival.tsv',sep=\"\\t\")\n",
    "survivalData = survivalData.set_index('sample')\n",
    "survivalData"
   ]
  },
  {
   "cell_type": "markdown",
   "metadata": {},
   "source": [
    "La recherche des biomarqueurs de survie dans l'ensemble des gènes séquencés étant assez longue sur un ordinateur standard, nous ne travaillerons aujourd'hui qu'avec les gènes du chromosome 11.\n",
    "\n",
    "2) En utilisant le tableau `geneAnnotations` ne conservez dans `smpCounts`que les gènes présents sur le chromosome 11"
   ]
  },
  {
   "cell_type": "code",
   "execution_count": null,
   "metadata": {},
   "outputs": [],
   "source": [
    "smpCounts = smpCounts.loc[geneAnnotations[geneAnnotations[\"chrom\"] == \"chr11\"].index.to_list()]\n",
    "smpCounts"
   ]
  },
  {
   "cell_type": "markdown",
   "metadata": {},
   "source": [
    "3) Ne conserver dans `smpCounts` et `survivalData` que les patients pour lesquels nous avons à la fois le suivie de la survie et l'expression génique et ordonner les patients avec le même ordre dans les deux tableaux (colonnes de `smpCounts` et index de `survivalData`)."
   ]
  },
  {
   "cell_type": "code",
   "execution_count": null,
   "metadata": {},
   "outputs": [],
   "source": [
    "smpCounts = smpCounts[smpCounts.columns.intersection(survivalData.index)]\n",
    "survivalData = survivalData.loc[survivalData.index.intersection(smpCounts.columns)]\n",
    "survivalData = survivalData.loc[smpCounts.columns]\n",
    "survivalData"
   ]
  },
  {
   "cell_type": "markdown",
   "metadata": {},
   "source": [
    "Nous allons utiliser le package scikit-survival pour faire l'analyse des biomarqueurs prédictifs de la surive des patients.\n",
    "Celui-ci  prend les données de statuts des patients (0/1 colonnes OS de survivalData) sous forme booléenne (True / False) décés confirmés / non confirmés.\n",
    "\n",
    "4) Ajouter une colonne `Status` à `survivalData` correspondant à la colonne `OS`sous forme booléenne."
   ]
  },
  {
   "cell_type": "code",
   "execution_count": null,
   "metadata": {},
   "outputs": [],
   "source": [
    "survivalData[\"Status\"] = survivalData[\"OS\"] == 1\n",
    "survivalData"
   ]
  },
  {
   "cell_type": "markdown",
   "metadata": {},
   "source": [
    "Nous allons commencer par regarder si l'expression du gène CD3G chez les patients peut être prédictif de leur survie. Ce gène code pour une sous unité du recepteur des cellules T. \n",
    "\n",
    "5) Séparez les patients en deux groupes selon qu'il expriment fortement ou non CD3G. On prendra la médiane d'expression de CD3G de la cohorte comme seuil pour définir ces deux groupes. Stocker le résultat dans une nouvelle colonne de survivalData."
   ]
  },
  {
   "cell_type": "code",
   "execution_count": null,
   "metadata": {},
   "outputs": [],
   "source": [
    "gene_name = \"CD3G\"\n",
    "gene_id = geneAnnotations[geneAnnotations[\"gene\"]==\"CD3G\"].index[0]\n",
    "gene_id\n",
    "survivalData[gene_id] = ['high' if i > np.median(smpCounts.loc[gene_id]) else 'low' for i in smpCounts.loc[gene_id]]\n",
    "survivalData"
   ]
  },
  {
   "cell_type": "markdown",
   "metadata": {},
   "source": [
    "6) Utiliser la fonction `kaplan_meier_estimator` du package scikit-survival pour tracer la courbe de survie pour chacun des deux groupes. "
   ]
  },
  {
   "cell_type": "code",
   "execution_count": null,
   "metadata": {},
   "outputs": [],
   "source": [
    "for gene_exp in ('low', 'high'):\n",
    "    mask_exp = survivalData[gene_id] == gene_exp\n",
    "    time_exp, survival_prob_exp = kaplan_meier_estimator(\n",
    "        survivalData[\"Status\"][mask_exp],\n",
    "        survivalData['OS.time'][mask_exp])\n",
    "\n",
    "    plt.step(time_exp, survival_prob_exp, where=\"post\",\n",
    "             label=\"Exp CD3G %s\" % gene_exp)\n",
    "\n",
    "plt.ylabel(\"est. probability of survival $\\hat{S}(t)$\")\n",
    "plt.xlabel(\"time $t$\")\n",
    "plt.legend(loc=\"best\")"
   ]
  },
  {
   "cell_type": "markdown",
   "metadata": {},
   "source": [
    "7) A l'aide de la fonction `compare_survival`déterminer si la différence observée semble significative."
   ]
  },
  {
   "cell_type": "code",
   "execution_count": null,
   "metadata": {},
   "outputs": [],
   "source": [
    "survivalData_array = survivalData[['Status','OS.time']].to_records(index=False)\n",
    "compare_survival(survivalData_array, survivalData[[gene_id]].to_numpy())"
   ]
  },
  {
   "cell_type": "markdown",
   "metadata": {},
   "source": [
    "8) A l'aide d'une boucle for, répétez maintenant ce test pour l'ensemble des gènes du chromosome 11. Ne tester que les gènes dont l'expression est détectée dans au moins 10 patients."
   ]
  },
  {
   "cell_type": "code",
   "execution_count": null,
   "metadata": {},
   "outputs": [],
   "source": [
    "res = list()\n",
    "for g in smpCounts.index: \n",
    "    x = smpCounts.loc[g]\n",
    "    if (np.count_nonzero(x) > 10) : \n",
    "        y = survivalData[\"OS.time\"]\n",
    "        survivalData[g] = ['high' if i > np.median(x) else 'low' for i in smpCounts.loc[g]]\n",
    "        survivalData_array = survivalData[['Status','OS.time']].to_records(index=False)\n",
    "        stat, p = compare_survival(survivalData_array, survivalData[[g]].to_numpy())\n",
    "        res.append([g,stat,p])"
   ]
  },
  {
   "cell_type": "code",
   "execution_count": null,
   "metadata": {},
   "outputs": [],
   "source": [
    "biomarkerResults = pd.DataFrame(res, columns = ['Ensembl_ID',\"stat\",\"p_value\"])\n",
    "biomarkerResults[\"gene_name\"] = geneAnnotations[\"gene\"].loc[biomarkerResults[\"Ensembl_ID\"]].to_list()"
   ]
  },
  {
   "cell_type": "markdown",
   "metadata": {},
   "source": [
    "9) Combien de gènes du chromosme 11 semblent à priori être prédictifs de la survie des patients (p-valeur < 0.05)? Peut-on retenir cette liste telle quelle?"
   ]
  },
  {
   "cell_type": "code",
   "execution_count": null,
   "metadata": {},
   "outputs": [],
   "source": [
    "# A compléter"
   ]
  },
  {
   "cell_type": "markdown",
   "metadata": {},
   "source": [
    "## Question bonus (à regarder chez vous, pas à l'examen): "
   ]
  },
  {
   "cell_type": "markdown",
   "metadata": {},
   "source": [
    "10) Effectuer la correction de Benjamin et Hotchberg sur ces résultats. Combien restent-t'ils de résultats significatifs?\n"
   ]
  },
  {
   "cell_type": "code",
   "execution_count": null,
   "metadata": {},
   "outputs": [],
   "source": [
    "biomarkerResults = biomarkerResults.sort_values(\"p_value\")\n",
    "biomarkerResults[\"corrected_threshold\"]=[(r/len(biomarkerResults))*0.05 for r in range(len(biomarkerResults)+1)[1:]]\n",
    "biomarkerResults['H0 rejected'] = biomarkerResults['p_value'] < biomarkerResults['corrected_threshold']\n",
    "biomarkerResults[biomarkerResults['H0 rejected']]"
   ]
  },
  {
   "cell_type": "markdown",
   "metadata": {},
   "source": [
    "11) Est ce que les expressions des autres gènes du complexe CD3 des cellules T sont predictives de la survie des patients? Tracer les courbes de survies associées."
   ]
  },
  {
   "cell_type": "code",
   "execution_count": null,
   "metadata": {},
   "outputs": [],
   "source": [
    "CD3_genes = [i for i in biomarkerResults[\"gene_name\"] if i.startswith('CD3')]"
   ]
  },
  {
   "cell_type": "code",
   "execution_count": null,
   "metadata": {},
   "outputs": [],
   "source": [
    "biomarkerResults[biomarkerResults[\"gene_name\"].isin(CD3_genes)]"
   ]
  },
  {
   "cell_type": "code",
   "execution_count": null,
   "metadata": {},
   "outputs": [],
   "source": [
    "for gene_name in [\"CD3G\",\"CD3E\"]:\n",
    "    gene_id = geneAnnotations[geneAnnotations[\"gene\"]==gene_name].index[0]\n",
    "    survivalData[gene_id] = ['high' if i > np.median(smpCounts.loc[gene_id]) else 'low' for i in smpCounts.loc[gene_id]]\n",
    "    for gene_exp in ('low', 'high'):\n",
    "        mask_exp = survivalData[gene_id] == gene_exp\n",
    "        time_exp, survival_prob_exp = kaplan_meier_estimator(\n",
    "            survivalData[\"Status\"][mask_exp],\n",
    "            survivalData['OS.time'][mask_exp])\n",
    "\n",
    "        plt.step(time_exp, survival_prob_exp, where=\"post\",\n",
    "             label=\"Exp \"+gene_name +\" %s\" % gene_exp)\n",
    "\n",
    "    plt.ylabel(\"est. probability of survival $\\hat{S}(t)$\")\n",
    "    plt.xlabel(\"time $t$\")\n",
    "    plt.legend(loc=\"best\")\n",
    "    plt.show()"
   ]
  },
  {
   "cell_type": "markdown",
   "metadata": {},
   "source": [
    "Répéter cette analyse mais cette fois ci en distinguant les différents types d'echantillons. Vous aurez besoin de charger le tableau des données cliniques: `\"../UCSC_data/TCGA-SKCM.GDC_phenotype.tsv\"`\n"
   ]
  },
  {
   "cell_type": "code",
   "execution_count": null,
   "metadata": {},
   "outputs": [],
   "source": [
    "clinicalData = pd.read_table(\"../UCSC_data/TCGA-SKCM.GDC_phenotype.tsv\")\n",
    "clinicalData = clinicalData.set_index(\"submitter_id.samples\",drop = False)\n",
    "survivalData[\"sample_type\"] = clinicalData.loc[survivalData.index,\"sample_type.samples\"]"
   ]
  },
  {
   "cell_type": "code",
   "execution_count": null,
   "metadata": {},
   "outputs": [],
   "source": [
    "for gene_name in [\"CD3D\",\"CD3G\",\"CD3E\"]:\n",
    "    gene_id = geneAnnotations[geneAnnotations[\"gene\"]==gene_name].index[0]\n",
    "    for smp_type in ('Primary Tumor', 'Metastatic'):\n",
    "        survivalDataSmp = survivalData[survivalData[\"sample_type\"] == smp_type]\n",
    "        for gene_exp in ('low', 'high'):\n",
    "            mask_exp = survivalDataSmp[gene_id] == gene_exp\n",
    "            time_exp, survival_prob_exp = kaplan_meier_estimator(\n",
    "                survivalDataSmp[\"Status\"][mask_exp],\n",
    "                survivalDataSmp['OS.time'][mask_exp])\n",
    "\n",
    "            plt.step(time_exp, survival_prob_exp, where=\"post\",\n",
    "                     label=smp_type+\" Exp \"+gene_name +\" %s\" % gene_exp)\n",
    "\n",
    "    plt.ylabel(\"est. probability of survival $\\hat{S}(t)$\")\n",
    "    plt.xlabel(\"time $t$\")\n",
    "    plt.legend(loc=\"best\")\n",
    "    plt.show()"
   ]
  },
  {
   "cell_type": "markdown",
   "metadata": {},
   "source": [
    "Afficher ces courbes de survies uniquement pour les échantillons de tumeurs primaires"
   ]
  },
  {
   "cell_type": "code",
   "execution_count": null,
   "metadata": {},
   "outputs": [],
   "source": [
    "smp_type = \"Primary Tumor\"\n",
    "survivalDataSmp = survivalData[survivalData[\"sample_type\"] == smp_type]\n",
    "for gene_name in [\"CD3D\",\"CD3G\",\"CD3E\"]:\n",
    "    gene_id = geneAnnotations[geneAnnotations[\"gene\"]==gene_name].index[0]\n",
    "    smp_type = 'Primary Tumor'\n",
    "    survivalDataSmp = survivalData[survivalData[\"sample_type\"] == smp_type]\n",
    "    for gene_exp in ('low', 'high'):\n",
    "        mask_exp = survivalDataSmp[gene_id] == gene_exp\n",
    "        time_exp, survival_prob_exp = kaplan_meier_estimator(\n",
    "            survivalDataSmp[\"Status\"][mask_exp],\n",
    "            survivalDataSmp['OS.time'][mask_exp])\n",
    "\n",
    "        plt.step(time_exp, survival_prob_exp, where=\"post\",\n",
    "                 label=smp_type+\" Exp \"+gene_name +\" %s\" % gene_exp)\n",
    "\n",
    "    plt.ylabel(\"est. probability of survival $\\hat{S}(t)$\")\n",
    "    plt.xlabel(\"time $t$\")\n",
    "    plt.legend(loc=\"best\")\n",
    "    plt.show()"
   ]
  }
 ],
 "metadata": {
  "kernelspec": {
   "display_name": "Python 3",
   "language": "python",
   "name": "python3"
  },
  "language_info": {
   "codemirror_mode": {
    "name": "ipython",
    "version": 3
   },
   "file_extension": ".py",
   "mimetype": "text/x-python",
   "name": "python",
   "nbconvert_exporter": "python",
   "pygments_lexer": "ipython3",
   "version": "3.8.5"
  }
 },
 "nbformat": 4,
 "nbformat_minor": 4
}
