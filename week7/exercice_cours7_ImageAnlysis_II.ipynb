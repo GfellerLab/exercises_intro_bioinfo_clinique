{
 "cells": [
  {
   "cell_type": "markdown",
   "metadata": {},
   "source": [
    "# <center> Introduction à la bioinformatique clinique </center> \n",
    "\n",
    "# <center> Exercise week 7: Solution </center> \n",
    "\n",
    "# Image analysis - Segmentation of cancer images - Part 2"
   ]
  },
  {
   "cell_type": "markdown",
   "metadata": {},
   "source": [
    "Last week we worked on Image Preprocessing and today we are ready to do Image Segmentation and refine the post-processing of the segmented images obtained from thresholding and analyze them to extract useful statistics."
   ]
  },
  {
   "cell_type": "markdown",
   "metadata": {},
   "source": [
    "# A - Import packages\n",
    "\n",
    "Before starting, we need to import the packages required to run the code."
   ]
  },
  {
   "cell_type": "code",
   "execution_count": null,
   "metadata": {},
   "outputs": [],
   "source": [
    "#IMPORTS\n",
    "\n",
    "#data analysis \n",
    "import numpy as np\n",
    "import pandas as pd\n",
    "\n",
    "\n",
    "\n",
    "#data plotting packages\n",
    "import matplotlib.pyplot as plt\n",
    "import seaborn as sns\n",
    "\n",
    "\n",
    "from random import sample\n",
    "\n",
    "import warnings\n",
    "warnings.simplefilter(action='ignore', category=Warning)\n",
    "\n"
   ]
  },
  {
   "cell_type": "markdown",
   "metadata": {},
   "source": [
    "# B - Load and visualize preprossed grayscale images "
   ]
  },
  {
   "cell_type": "markdown",
   "metadata": {},
   "source": [
    "## B1 - Load images"
   ]
  },
  {
   "cell_type": "code",
   "execution_count": null,
   "metadata": {},
   "outputs": [],
   "source": [
    "from skimage import io\n",
    "\n",
    "path_grayscale_images = './grayscale_images_preprocessed'\n",
    "\n",
    "number_of_grayscale_images = 2\n",
    "\n",
    "grayscale_images = [] \n",
    "\n",
    "for i in range(number_of_grayscale_images):\n",
    "    \n",
    "    im_path = f'{path_grayscale_images}/grayscale_image_preprocessed_{i}.png'\n",
    "    \n",
    "    grayscale_image = io.imread(im_path)\n",
    "    grayscale_images.append(grayscale_image)"
   ]
  },
  {
   "cell_type": "code",
   "execution_count": null,
   "metadata": {},
   "outputs": [],
   "source": [
    "grayscale_images[0]"
   ]
  },
  {
   "cell_type": "markdown",
   "metadata": {},
   "source": [
    "**NOTE:** In this case the grayscale images were loaded with normalized pixel intensities, meaning that the pixel values are real numbers in the interval \\[0,1\\]. You can recover the original (8-bit) intensities by multiplying the images by 255. "
   ]
  },
  {
   "cell_type": "markdown",
   "metadata": {},
   "source": [
    "## B2 - Histogram of  pixel intensity values"
   ]
  },
  {
   "cell_type": "code",
   "execution_count": null,
   "metadata": {},
   "outputs": [],
   "source": [
    "def plot_histogram(image, title):\n",
    "    \"\"\"Plot histogram of an image.\"\"\"\n",
    "    fig, ax = plt.subplots(1, 2, figsize=(12, 4))\n",
    "    \n",
    "    ax[0].imshow(image, cmap='gray')\n",
    "    ax[0].set_title(f\"Preprocessed Image {title}\")\n",
    "    ax[0].axis('off')\n",
    "\n",
    "\n",
    "    ax[1].hist(image.ravel(), bins=50, range=(0, 255),edgecolor = 'gray',color='white')\n",
    "    ax[1].set_xlabel(f'Pixel Intensity'),ax[1].set_ylabel(f'Number of Pixels')\n",
    "    ax[1].set_title(f'Histogram for Image {title}')\n",
    "\n",
    "    plt.tight_layout()\n",
    "    plt.show()\n",
    "\n",
    "\n"
   ]
  },
  {
   "cell_type": "code",
   "execution_count": null,
   "metadata": {},
   "outputs": [],
   "source": [
    "# Plot each i,age \n",
    "idx = 0\n",
    "for image in grayscale_images:\n",
    "\n",
    "    # Plot histogram\n",
    "    plot_histogram(image, f\"{idx}\")\n",
    "    idx+=1\n",
    "    \n",
    "\n",
    "\n"
   ]
  },
  {
   "cell_type": "markdown",
   "metadata": {},
   "source": [
    "# C - Image Segmentation\n",
    "\n",
    "In this part, we are going to do a basic segmentation process named [Thresholding](https://en.wikipedia.org/wiki/Thresholding_%28image_processing%29) (check last week exercise) and a more advanced method called Edge Detection. "
   ]
  },
  {
   "cell_type": "markdown",
   "metadata": {},
   "source": [
    "## C1 - Thresholding\n",
    "Thresholding is used to convert continuously grayscale images into bi-colored images. Pixel value ranges are delimited by *thresholds*, whence the name of the method. Since the cells are darker than the background, in our case we want to distinguish between darker and lighter areas of the image. This means that we will need a single threshold to do the job.\n",
    "\n",
    "In our case, defining a threshold = X means that all of the pixels that have an intensity value smaller than X will become black and the ones having a bigger value will become white.\n",
    "\n",
    "Below we plot the the histograms of the grayscale images with the chosen threshold for each image and the thresholded version of these images. Since the cells are darker than the background we expect to see them in black.\n",
    "\n"
   ]
  },
  {
   "cell_type": "code",
   "execution_count": null,
   "metadata": {},
   "outputs": [],
   "source": [
    "def threshold_image(image,thr,title):\n",
    "\n",
    "    threshold = thr\n",
    "    \n",
    "    # Apply threshold\n",
    "    binary_image = np.where(image > threshold, 1, 0).astype(np.uint8)\n",
    "    #print(binary_image)\n",
    "    \"\"\"Plot histogram of an image.\"\"\"\n",
    "    fig, ax = plt.subplots(1, 2, figsize=(12, 4))\n",
    "    \n",
    "    ax[0].hist(image.ravel(), bins=50, range=(0, 255),edgecolor = 'gray',color='white')\n",
    "    ax[0].set_title(f'Histogram of Image {title}')\n",
    "    \n",
    "    # Marking the threshold on the histogram\n",
    "    ax[0].axvline(threshold, color='red', linestyle='--')     \n",
    "\n",
    "    ax[1].imshow(binary_image, cmap='gray')\n",
    "    ax[1].set_title(f\"Thresholded Image {title} with thr = {threshold}\")\n",
    "    ax[1].axis('off')\n",
    "\n",
    "    plt.tight_layout()\n",
    "    plt.show()    \n",
    "    return binary_image"
   ]
  },
  {
   "cell_type": "code",
   "execution_count": null,
   "metadata": {},
   "outputs": [],
   "source": [
    "\n",
    "# From the previous histograms, try to find the most satisfactory threshold for each image. \n",
    "\n",
    "# Fill the list below `Thresholds` (Don't spend more time than 2 minutes).\n",
    "\n",
    "Thresholds = [XX,XX] ####\n",
    "\n",
    "\n",
    "idx = 0\n",
    "binary_images = []\n",
    "for image in grayscale_images:\n",
    "    # Check min and max values of the image before thresholding\n",
    "    print(f\"Image {idx}: min value = {image.min()}, max value = {image.max()}\")\n",
    "\n",
    "    binary_image = threshold_image(image,Thresholds[idx],f'{idx}')\n",
    "    binary_images.append(binary_image)\n",
    "    idx+=1"
   ]
  },
  {
   "cell_type": "markdown",
   "metadata": {},
   "source": [
    "**(1) Is there an optimal threshold ? Discuss your results ?**\n"
   ]
  },
  {
   "cell_type": "markdown",
   "metadata": {},
   "source": [
    "## C2 - Edge detection\n",
    "\n",
    "Edge detection is a fundamental technique in image processing used to identify points in an image where the brightness changes sharply. These points typically correspond to the boundaries of objects within the image. Unlike thresholding, which segments an image based solely on pixel intensity values, edge detection focuses on the transitions between different regions, allowing us to pinpoint the exact outlines of structures.\n",
    "\n",
    "In our context, detecting the edges of a cell can provide a more precise segmentation than thresholding alone. This is because edge detection algorithms are designed to highlight areas with significant intensity changes, which often correspond to the borders of cells.\n",
    "\n",
    "Edge detection works by analyzing the image for abrupt changes in intensity:\n",
    "\n",
    "- **Gradient Calculation**: The algorithm computes the gradient of the image intensity at each pixel, which measures how quickly the intensity changes.\n",
    "- **Edge Localization**: Pixels where the gradient magnitude exceeds a certain threshold are considered part of an edge.\n",
    "\n",
    "Several common edge detection methods include **Canny Edge Detector**: A multi-stage algorithm that provides good detection and localization of edges while minimizing the response to noise.\n",
    "\n",
    "Below, we will apply the Canny edge detection algorithm to our grayscale images. This method will help us accurately identify the boundaries of the cell, facilitating more precise segmentation than thresholding can achieve.\n"
   ]
  },
  {
   "cell_type": "code",
   "execution_count": null,
   "metadata": {},
   "outputs": [],
   "source": [
    "#image processing\n",
    "from skimage.measure import regionprops, label\n",
    "from skimage import feature, morphology\n",
    "from skimage.segmentation import watershed\n",
    "from scipy import ndimage as ndi\n",
    "import matplotlib.pyplot as plt\n",
    "\n",
    "from skimage import measure\n",
    "\n",
    "\n",
    "# Function to keep only the inner circles before filling\n",
    "def keep_inner_circle(edges,min_size,max_size):\n",
    "    # Step 1: Label the connected components in the edge-detected image\n",
    "    labeled_edges = label(edges)\n",
    "\n",
    "    # Step 2: Measure properties of labeled regions\n",
    "    props = measure.regionprops(labeled_edges)\n",
    "    \n",
    "    # Step 3: Create an empty image to store the inner circles\n",
    "    inner_circle_mask = np.zeros_like(edges)\n",
    "    \n",
    "    # Step 4: Iterate over each detected region and filter based on size\n",
    "    for prop in props:\n",
    "        # Filter regions based on size or area; adjust the thresholds to your needs\n",
    "        if (prop.area > min_size) | (prop.area < max_size):  # Adjust based on the expected size of the inner circles\n",
    "            # Keep the smaller region (inner circle)\n",
    "            inner_circle_mask[labeled_edges == prop.label] = 1\n",
    "\n",
    "    return inner_circle_mask\n",
    "\n",
    "\n",
    "\n",
    "# Perform edge detection and process inner circles before filling\n",
    "def segment_by_edges(image,min_size=100,max_size=200):\n",
    "    # Step 1: Apply Canny edge detection\n",
    "    edges = feature.canny(image, sigma=0.2)  # Adjust sigma to tune the sensitivity\n",
    "\n",
    "    # Step 2: Keep only the inner circles before filling\n",
    "    inner_circles = keep_inner_circle(edges,min_size,max_size)\n",
    "    # Step 3: Fill in the inside of the inner circles (cells)\n",
    "    filled_inner_circles = ndi.binary_fill_holes(inner_circles)\n",
    "\n",
    "\n",
    "\n",
    "    return  edges, filled_inner_circles\n",
    "\n",
    "\n",
    "edges_images = []\n",
    "segmented_edges_images = []\n",
    "for image in grayscale_images:\n",
    "    edges_img, segmented_edges_img = segment_by_edges(image,min_size=XX,max_size=XX)\n",
    "    edges_images.append(edges_img)\n",
    "    segmented_edges_images.append(segmented_edges_img)\n",
    "\n",
    "\n"
   ]
  },
  {
   "cell_type": "code",
   "execution_count": null,
   "metadata": {},
   "outputs": [],
   "source": [
    "# Plot the results for comparison\n",
    "fig, ax = plt.subplots(2, 3, figsize=(12, 8))\n",
    "\n",
    "for idx in range(len(grayscale_images)):\n",
    "    ax[idx, 0].imshow(grayscale_images[idx], cmap='gray')\n",
    "    ax[idx, 0].set_title(f'Image {idx}')\n",
    "\n",
    "    ax[idx, 1].imshow(edges_images[idx], cmap='gray')\n",
    "    ax[idx, 1].set_title(f'Edges Detected for Image {idx}')\n",
    "    \n",
    "    ax[idx, 2].imshow(segmented_edges_images[idx], cmap='gray')\n",
    "    ax[idx, 2].set_title(f'Segmented Image {idx}')\n",
    "    \n",
    "\n",
    "plt.tight_layout()\n",
    "plt.show()\n"
   ]
  },
  {
   "cell_type": "markdown",
   "metadata": {},
   "source": [
    "## C3 - Clean up the segmentation\n",
    "\n",
    "- In this part we are going to remove small undesired elements while preserving larger shapes. the function accepts a size parameter, which is the minimum size (in pixels) of accepted objects (the cells in our case).\n"
   ]
  },
  {
   "cell_type": "code",
   "execution_count": null,
   "metadata": {},
   "outputs": [],
   "source": [
    "import cv2\n",
    "import numpy as np\n",
    "import matplotlib.pyplot as plt\n",
    "from skimage.measure import label\n",
    "\n",
    "\n",
    "\n",
    "def remove_contours(image,th=30):\n",
    "    # Convert the image to binary (0 and 1)\n",
    "    binary_image = image.astype(np.uint8)\n",
    "\n",
    "    # Label connected components using skimage\n",
    "    labeled_image = label(binary_image, connectivity=1)  \n",
    "    num_features = labeled_image.max()  # Get the number of features\n",
    "\n",
    "    # Create a mask to store the filtered regions\n",
    "    filtered_image = np.zeros_like(binary_image)\n",
    "\n",
    "    # Loop through all connected components and filter them by size\n",
    "    for region in range(1, num_features + 1):\n",
    "        # Extract the component\n",
    "        component = (labeled_image == region)\n",
    "\n",
    "        # Remove small/thin components that are likely to be contours\n",
    "        if np.sum(component) > th:  # Adjust this threshold as needed\n",
    "            filtered_image[component] = 1\n",
    "\n",
    "    return filtered_image\n",
    "\n",
    "\n",
    "# Try different thresholds for each image \n",
    "segmented_images = []\n",
    "size_threshold = [XX,XX]\n",
    "for i in range(len(segmented_edges_images)):\n",
    "    segmented_images.append(remove_contours(segmented_edges_images[i],th=size_threshold[i]))\n",
    "\n",
    "\n"
   ]
  },
  {
   "cell_type": "code",
   "execution_count": null,
   "metadata": {},
   "outputs": [],
   "source": [
    "# Plot the results for comparison\n",
    "fig, ax = plt.subplots(2, 3, figsize=(12, 8))\n",
    "\n",
    "for idx in range(len(grayscale_images)):\n",
    "    ax[idx, 0].imshow(grayscale_images[idx], cmap='gray')\n",
    "    ax[idx, 0].set_title(f'Image {idx}')\n",
    "\n",
    "    ax[idx, 1].imshow(segmented_edges_images[idx], cmap='gray')\n",
    "    ax[idx, 1].set_title(f'Edges Detected for Image {idx}')\n",
    "    \n",
    "    ax[idx, 2].imshow(segmented_images[idx], cmap='gray')\n",
    "    ax[idx, 2].set_title(f'Clean Segmented Image {idx}')\n",
    "    \n",
    "\n",
    "plt.tight_layout()\n",
    "plt.show()"
   ]
  },
  {
   "cell_type": "markdown",
   "metadata": {},
   "source": [
    "# D - Features Extraction \n",
    "\n",
    "We might want to extract some properties of the nuclei, such as their size, perimeter, circularity or density in the image. We can do this using `skimage.measure.regionprops`. This function allows to easily extract some measurements, including nuclei features such as area or perimeter, bounding boxes, and intensity statistics."
   ]
  },
  {
   "cell_type": "markdown",
   "metadata": {},
   "source": [
    "## D1 - From sementic segmentation to instance segmentation\n",
    "\n",
    "Now we are ready to label the connected components of this image. This means that each object (nucleus in our case) will be assigned a unique number. To do this we can use the [`skimage.measure.label()`](https://scikit-image.org/docs/dev/api/skimage.measure.html) function."
   ]
  },
  {
   "cell_type": "code",
   "execution_count": null,
   "metadata": {},
   "outputs": [],
   "source": [
    "# define function change_label\n",
    "def change_label(label_image):\n",
    "    \n",
    "    # define a dictionnary countaining change_label_dict[0]=0 (the not nuclei object remains labeled 0)\n",
    "    change_label_dict = {0:0}\n",
    "    \n",
    "    # find all the labels\n",
    "    unique_labels = list(np.unique(label_image))\n",
    "    \n",
    "    # number of label\n",
    "    number_of_unique_labels = len(unique_labels)\n",
    "    \n",
    "    # do a random sample of the number from 0 to number_of_nuclei - 1\n",
    "    random_sample = sample(unique_labels[1:], number_of_unique_labels - 1)\n",
    "    \n",
    "    # iterate on the number from 0 to number_of_nuclei-1\n",
    "    for index in range(number_of_unique_labels - 1):\n",
    "\n",
    "        # associate one keys to one new value\n",
    "        change_label_dict[index + 1] = random_sample[index]\n",
    "\n",
    "    # change the labels of label_im but respect the distribution\n",
    "    return(np.vectorize(change_label_dict.get)(label_image))"
   ]
  },
  {
   "cell_type": "code",
   "execution_count": null,
   "metadata": {},
   "outputs": [],
   "source": [
    "def labeling_img(image):\n",
    "    # Apply distance transform and watershed to separate touching objects\n",
    "    distance = ndi.distance_transform_edt(image)\n",
    "    local_maxi = morphology.local_maxima(distance)\n",
    "    markers = label(local_maxi,connectivity=2)\n",
    "    \n",
    "    #Watershed segmentation to separate touching objects\n",
    "    labels_ws = watershed(-distance, markers, mask=image)\n",
    "    \n",
    "    return  labels_ws\n",
    "\n",
    "\n",
    "labeled_images = []\n",
    "for img in segmented_images:\n",
    "    labeled_images.append(labeling_img(img))"
   ]
  },
  {
   "cell_type": "code",
   "execution_count": null,
   "metadata": {},
   "outputs": [],
   "source": [
    "# Plot the results for comparison\n",
    "fig, ax = plt.subplots(2, 3, figsize=(12, 12))\n",
    "\n",
    "for idx in range(len(grayscale_images)):\n",
    "    ax[idx, 0].imshow(grayscale_images[idx], cmap='gray')\n",
    "    ax[idx, 0].set_title(f'Image {idx}')\n",
    "\n",
    "    ax[idx, 1].imshow(segmented_images[idx], cmap='gray')\n",
    "    ax[idx, 1].set_title(f'Segmented Image  {idx}')\n",
    "    \n",
    "    ax[idx, 2].imshow(change_label(labeled_images[idx]), cmap='nipy_spectral')\n",
    "    ax[idx, 2].set_title(f'Labeled Image {idx}')\n",
    "    \n",
    "\n",
    "plt.tight_layout()\n",
    "plt.show()\n"
   ]
  },
  {
   "cell_type": "markdown",
   "metadata": {},
   "source": [
    "**(2) What is the difference between a sementic segmentation and an instance segmentation?**\n",
    "\n",
    "\n",
    "\n",
    "**(3) What is the difference between `connectivity = 1` and `connectivity = 2`?**\n",
    "\n"
   ]
  },
  {
   "cell_type": "markdown",
   "metadata": {},
   "source": [
    "## D2 - Counting Cells per Image"
   ]
  },
  {
   "cell_type": "code",
   "execution_count": null,
   "metadata": {},
   "outputs": [],
   "source": [
    "\n",
    "# count the nuclei for each image\n",
    "cells_number = [len(np.unique(labels)) - 1 for labels in labeled_images]\n",
    "\n",
    "# define a figure\n",
    "fig, ax = plt.subplots(figsize = (5, 5))\n",
    "\n",
    "# plot the barplot\n",
    "ax.bar(x = ['image 0', 'image 1'],\n",
    "       height = cells_number)\n",
    "\n",
    "# define ylabel\n",
    "ax.set_ylabel('Number of Cells')\n",
    "\n",
    "# and xlabel\n",
    "ax.set_xlabel('Images')\n",
    "\n",
    "plt.show()"
   ]
  },
  {
   "cell_type": "markdown",
   "metadata": {},
   "source": [
    "**(4) Why is `len(np.unique(labels)) - 1` the number of cells?**\n",
    "\n"
   ]
  },
  {
   "cell_type": "markdown",
   "metadata": {},
   "source": [
    "## D3 - Extract Object properies \n"
   ]
  },
  {
   "cell_type": "markdown",
   "metadata": {},
   "source": [
    "#### D3 - 1) Area - Perimeter - Circularity "
   ]
  },
  {
   "cell_type": "code",
   "execution_count": null,
   "metadata": {},
   "outputs": [],
   "source": [
    "# Compute region properties\n",
    "dfs = []\n",
    "idx = 0\n",
    "for img in labeled_images:\n",
    "    regions = regionprops(img)\n",
    "    labels = [region.label for region in regions]\n",
    "    area = [region.area for region in regions]\n",
    "    perimeter = [region.perimeter for region in regions]\n",
    "    circularities = [(4 * np.pi * region.area) / (region.perimeter ** 2) for region in regions]\n",
    "    df = pd.DataFrame({\n",
    "        'Label':labels,\n",
    "        'Perimeter':perimeter,\n",
    "        'Area': area,\n",
    "        'Circularity': circularities,\n",
    "        'Image_id':[f'image_{idx}' for i in range(len(regions))]\n",
    "    })\n",
    "    dfs.append(df.set_index('Label'))\n",
    "    idx+=1\n",
    "\n",
    "table_info = pd.concat(dfs,keys=[f\"image_{k}\" for k in range(len(labeled_images))])\n",
    "\n",
    "table_info.head()\n"
   ]
  },
  {
   "cell_type": "code",
   "execution_count": null,
   "metadata": {},
   "outputs": [],
   "source": [
    "# create 3 figures\n",
    "fig, axes = plt.subplots(nrows=1, ncols=3, figsize=(10,5),\n",
    "                         facecolor = 'w')\n",
    "\n",
    "# plot a boxplot with seaborn\n",
    "sns.boxplot(data = table_info[[\"Image_id\", \"Area\"]],\n",
    "                x = \"Image_id\",\n",
    "                y = \"Area\",ax=axes[0])\n",
    "\n",
    "# define ylabel\n",
    "axes[0].set_ylabel(\"Size of cell\")\n",
    "\n",
    "# and xlabel\n",
    "axes[0].set_xlabel('Images')\n",
    "\n",
    "# plot a boxplot with seaborn\n",
    "sns.boxplot(data = table_info[[\"Image_id\", \"Perimeter\"]],\n",
    "                x = \"Image_id\",\n",
    "                y = \"Perimeter\",ax=axes[1])\n",
    "\n",
    "# define ylabel\n",
    "axes[1].set_ylabel(\"Perimeter  value of cell\")\n",
    "\n",
    "# and xlabel\n",
    "axes[1].set_xlabel('Images')  \n",
    " \n",
    "# plot a boxplot with seaborn\n",
    "sns.boxplot(data = table_info[[\"Image_id\", \"Circularity\"]],\n",
    "                x = \"Image_id\",\n",
    "                y = \"Circularity\",ax=axes[2])\n",
    "\n",
    "# define ylabel\n",
    "axes[2].set_ylabel(\"Circularity of cell\")\n",
    "\n",
    "# and xlabel\n",
    "axes[2].set_xlabel('Images')   \n",
    "# optimise the distance between the figures\n",
    "plt.tight_layout()"
   ]
  },
  {
   "cell_type": "markdown",
   "metadata": {},
   "source": [
    "### D3 - 2) Cells Density  "
   ]
  },
  {
   "cell_type": "code",
   "execution_count": null,
   "metadata": {},
   "outputs": [],
   "source": [
    "\n",
    "idx = 0\n",
    "for label_img in labeled_images:\n",
    "\n",
    "    \n",
    "    # Compute the total area of all objects\n",
    "    total_object_area = sum(region.area for region in regionprops(label_img))\n",
    "    \n",
    "    # Compute the total area of the image\n",
    "    total_image_area = label_img.size\n",
    "    \n",
    "    # Calculate density\n",
    "    density = total_object_area / total_image_area\n",
    "    print(f'Cells density in Image {idx} = {density}')\n",
    "    idx+=1\n",
    "    \n",
    "\n"
   ]
  },
  {
   "cell_type": "markdown",
   "metadata": {},
   "source": [
    "## E - Case Study\n",
    "\n",
    "In this part we will analyse a some portions of a slide taken from the same patient. You can find the entire slide [here](https://portal.gdc.cancer.gov/files/96fdca5b-86cb-4209-931e-986f4964e4b0), but for the purpose of this exercise we already cropped four regions of this image that represent different parts of the tumor and we did the required segmnetation. You can find these images in the `case_study` folder.\n",
    "\n",
    "The goal will be to automatically detect cell nuclei in an image, distinguishing them from everything else (mainly cytoplasm). We will then use this information to quantify different features of different tumor regions.\n",
    "\n",
    "- Use what you have see in section D to do the required analysis"
   ]
  },
  {
   "cell_type": "code",
   "execution_count": null,
   "metadata": {},
   "outputs": [],
   "source": [
    "\n",
    "path_images = './case_study'\n",
    "number_of_images= 4\n",
    "case_study_images = [] \n",
    "case_study_segmented = []\n",
    "for i in range(number_of_images):\n",
    "    image = io.imread(f'{path_images}/processed_grayscale_image_{i}.png')\n",
    "    print(image.shape)\n",
    "    case_study_images.append(image)\n",
    "    image = io.imread(f'{path_images}/segmented_image_{i}.png')\n",
    "    case_study_segmented.append((image > 128).astype(np.uint8))\n",
    "\n",
    "fig, axes = plt.subplots(nrows=1, ncols=4, figsize=(20, 15))\n",
    "for i, ax in enumerate(axes):\n",
    "    ax.imshow(case_study_images[i],cmap='gray')\n",
    "    ax.set_title(f\"Image {i}\")\n",
    "    ax.axis('off')\n",
    "\n",
    "\n",
    "\n",
    "fig, axes = plt.subplots(nrows=1, ncols=4, figsize=(20, 15))\n",
    "for i, ax in enumerate(axes):\n",
    "    ax.imshow(case_study_segmented[i],cmap='gray')\n",
    "    ax.set_title(f\"Image {i}\")\n",
    "    ax.axis('off')"
   ]
  },
  {
   "cell_type": "markdown",
   "metadata": {},
   "source": [
    "### E1 - Sementic segmentation"
   ]
  },
  {
   "cell_type": "code",
   "execution_count": null,
   "metadata": {},
   "outputs": [],
   "source": [
    "################\n",
    "\n",
    "\n",
    "\n",
    "#   WRITE YOUR CODE HERE\n",
    "\n",
    "\n",
    "\n",
    "\n",
    "################"
   ]
  },
  {
   "cell_type": "markdown",
   "metadata": {},
   "source": [
    "### E2 - (A) Counting Nuclei per Image"
   ]
  },
  {
   "cell_type": "code",
   "execution_count": null,
   "metadata": {},
   "outputs": [],
   "source": [
    "################\n",
    "\n",
    "\n",
    "\n",
    "#   WRITE YOUR CODE HERE\n",
    "\n",
    "\n",
    "\n",
    "\n",
    "################"
   ]
  },
  {
   "cell_type": "markdown",
   "metadata": {},
   "source": [
    "### E2 - (B) Region properties\n",
    "\n",
    "**Area - Perimeter - Circularity** "
   ]
  },
  {
   "cell_type": "code",
   "execution_count": null,
   "metadata": {},
   "outputs": [],
   "source": [
    "################\n",
    "\n",
    "\n",
    "\n",
    "#   WRITE YOUR CODE HERE\n",
    "\n",
    "\n",
    "\n",
    "\n",
    "################\n"
   ]
  },
  {
   "cell_type": "code",
   "execution_count": null,
   "metadata": {},
   "outputs": [],
   "source": [
    "################\n",
    "\n",
    "\n",
    "\n",
    "#   WRITE YOUR CODE HERE\n",
    "\n",
    "\n",
    "\n",
    "\n",
    "################"
   ]
  },
  {
   "cell_type": "markdown",
   "metadata": {},
   "source": [
    "### E2 - (C) Nuclei Density\n"
   ]
  },
  {
   "cell_type": "code",
   "execution_count": null,
   "metadata": {},
   "outputs": [],
   "source": [
    "################\n",
    "\n",
    "\n",
    "\n",
    "#   WRITE YOUR CODE HERE\n",
    "\n",
    "\n",
    "\n",
    "\n",
    "################"
   ]
  },
  {
   "cell_type": "markdown",
   "metadata": {},
   "source": [
    "**- Interpret the results**"
   ]
  }
 ],
 "metadata": {
  "interpreter": {
   "hash": "8fdd715dbc67c122891faa01a0f6615e9dd073a764a47b895c47a99b035627e7"
  },
  "kernelspec": {
   "display_name": "Python 3.9.19 ('tf_env')",
   "language": "python",
   "name": "python3"
  },
  "language_info": {
   "codemirror_mode": {
    "name": "ipython",
    "version": 3
   },
   "file_extension": ".py",
   "mimetype": "text/x-python",
   "name": "python",
   "nbconvert_exporter": "python",
   "pygments_lexer": "ipython3",
   "version": "3.9.19"
  },
  "orig_nbformat": 4
 },
 "nbformat": 4,
 "nbformat_minor": 2
}
