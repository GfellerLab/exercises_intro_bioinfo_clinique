{
 "cells": [
  {
   "cell_type": "markdown",
   "metadata": {
    "id": "A_jV-zhdTsyK"
   },
   "source": [
    "# <center> Introduction à la bioinformatique clinique </center> \n",
    "\n",
    "# <center> Exercise week 6: </center> \n",
    "\n",
    "# Image analysis - Preprocessing of Microscopic images - Part 1"
   ]
  },
  {
   "cell_type": "markdown",
   "metadata": {
    "id": "1gLkHuYnN5aL"
   },
   "source": [
    "In this exercise we will analyse 2 microscopic images of mouse lymphocytes. for the sake of simplicity the images that you will in the `RGB_images` folder are cropped from the original ones. \n",
    "\n",
    "The goal will be to automatically detect the cells in an image, distinguishing them from everything else. We will then use this information to quantify them.\n",
    "\n",
    "Today, we will deal with the preprocessing of simple objects in an image. "
   ]
  },
  {
   "cell_type": "markdown",
   "metadata": {
    "id": "Zamf67ImNzP9"
   },
   "source": [
    "# A - Import packages\n",
    "\n",
    "Before starting, we need to import the packages required to run the code.\n",
    "\n",
    "The packages we use in this notebook are:\n",
    "\n",
    "- [Numpy](https://numpy.org): Vector/matrix based calculations\n",
    "- [Matplotlib](https://matplotlib.org): Plotting data\n",
    "- [h5py](https://www.h5py.org): Read HDF5 file format"
   ]
  },
  {
   "cell_type": "markdown",
   "metadata": {},
   "source": [
    "Install the missing packages:"
   ]
  },
  {
   "cell_type": "code",
   "execution_count": null,
   "metadata": {},
   "outputs": [],
   "source": [
    "!pip install  scikit-image\n",
    "\n",
    "# RESTART THE KERNEL AFTER INSTALLATION"
   ]
  },
  {
   "cell_type": "code",
   "execution_count": null,
   "metadata": {
    "colab": {
     "base_uri": "https://localhost:8080/"
    },
    "id": "layJSQQ7N-CO",
    "outputId": "65905976-6f74-47d0-e0d6-eb16ea73339d"
   },
   "outputs": [],
   "source": [
    "#IMPORTS\n",
    "\n",
    "#vectors and matrices\n",
    "import numpy as np\n",
    "\n",
    "#plotting\n",
    "import matplotlib\n",
    "import matplotlib.pyplot as plt\n",
    "\n",
    "matplotlib.rc('figure', figsize=(5,5))\n",
    "import matplotlib.gridspec as gridspec\n",
    "\n"
   ]
  },
  {
   "cell_type": "markdown",
   "metadata": {
    "id": "hxYIqiBQQd2c"
   },
   "source": [
    "# B - Load and visualize images\n",
    "\n",
    "In this section we show how to read an image from a file and display it within the notebook. We will work with 2 images."
   ]
  },
  {
   "cell_type": "markdown",
   "metadata": {
    "id": "hxYIqiBQQd2c"
   },
   "source": [
    "## B1 - Load images\n",
    "\n",
    "First we need to specify the folder and names of the files we want to open.  \n",
    "\n",
    "Our images are stored in the RGB (Red Green Blue) format. We will read the RGB images and store them in a list called `RGB_images`."
   ]
  },
  {
   "cell_type": "code",
   "execution_count": null,
   "metadata": {
    "colab": {
     "base_uri": "https://localhost:8080/",
     "height": 375
    },
    "id": "2xzU6Oyn5dKz",
    "outputId": "1c5dc2c1-3ab8-4060-8536-0b15a5a573a5"
   },
   "outputs": [],
   "source": [
    "#folder where the RGB images are stored\n",
    "path_RGB_images = './RGB_images'\n",
    "\n",
    "#generate the names of the images we want to read\n",
    "img_names = [f'mouse_lymphocytes_{i}.jpg' for i in [1,2]]\n",
    "# img_names = [f'Viability_{i}P_Starter.jpg' for i in [5,7]]\n",
    "\n",
    "\n",
    "\n",
    "print(f'Image folder:\\t {path_RGB_images}')\n",
    "print('Image names:\\t', img_names)"
   ]
  },
  {
   "cell_type": "code",
   "execution_count": null,
   "metadata": {
    "colab": {
     "base_uri": "https://localhost:8080/",
     "height": 375
    },
    "id": "2xzU6Oyn5dKz",
    "outputId": "1c5dc2c1-3ab8-4060-8536-0b15a5a573a5"
   },
   "outputs": [],
   "source": [
    "from skimage import io\n",
    "\n",
    "#empty list that will contain all of our RGB images\n",
    "RGB_images = [] \n",
    "\n",
    "# iterate on the image names\n",
    "for img_name in img_names:\n",
    "    \n",
    "    # full path to the current image\n",
    "    img_path = path_RGB_images + '/' + img_name\n",
    "\n",
    "    # We import this image\n",
    "    my_image = io.imread(img_path)\n",
    "\n",
    "    #We store the image in the RGB_images list\n",
    "    RGB_images.append(my_image)  "
   ]
  },
  {
   "cell_type": "markdown",
   "metadata": {
    "id": "NPU9YMnq4ado"
   },
   "source": [
    "We can check the number of images loaded and the data shape and the data type of `RGB_images[0]` (image of index 0 in the list `RGB_images`)"
   ]
  },
  {
   "cell_type": "code",
   "execution_count": null,
   "metadata": {
    "colab": {
     "base_uri": "https://localhost:8080/"
    },
    "id": "xwdjFHml4awN",
    "outputId": "9d50abf8-94c1-4ee0-9475-cbf3ee7fe661"
   },
   "outputs": [],
   "source": [
    "# We check the number of images in images\n",
    "print(f'Number of images in RGB_images:\\t {len(RGB_images)}\\n')\n",
    "\n",
    "# We check the shape of the image 0\n",
    "print(f'Data shape of RGB_images[0]:\\t {RGB_images[0].shape}\\n')\n",
    "\n",
    "# We check the data type of the image 0\n",
    "print(f'Data type RGB_images[0]:\\t {type(RGB_images[0])}\\n')"
   ]
  },
  {
   "cell_type": "markdown",
   "metadata": {},
   "source": [
    "Each of the four RGB images has 1600 x 1600 x 3 = 7 680 000 pixels. "
   ]
  },
  {
   "cell_type": "code",
   "execution_count": null,
   "metadata": {},
   "outputs": [],
   "source": [
    "print('Total pixels in RGB_images[0]:\\t', RGB_images[0].size)"
   ]
  },
  {
   "cell_type": "markdown",
   "metadata": {},
   "source": [
    "Each pixel has 3 color channels: Red, Blue, Green. One image can be represented as a 3 dimensional matrix:\n",
    "\n",
    "dimension 0 = rows\n",
    "\n",
    "dimension 1 = columns\n",
    "\n",
    "dimension 2 = color channels\n",
    "\n"
   ]
  },
  {
   "cell_type": "markdown",
   "metadata": {},
   "source": [
    "**1) Check that the shape and type of the image `RGB_images[1]` are the same as the ones of the image `RGB_images[0]` shown before.**"
   ]
  },
  {
   "cell_type": "code",
   "execution_count": null,
   "metadata": {
    "id": "TVnc5WqlwAI5"
   },
   "outputs": [],
   "source": []
  },
  {
   "cell_type": "markdown",
   "metadata": {},
   "source": [
    "## B2 - Display RGB images\n",
    "\n",
    "We can display images from matrices with the matplotlib function `plt.imshow()`.\n",
    "\n",
    "When 3 RGB channels are detected in an image, `imshow()` by default interprets the first channel as RED, the second one as GREEN and the last one as BLUE."
   ]
  },
  {
   "cell_type": "code",
   "execution_count": null,
   "metadata": {
    "colab": {
     "base_uri": "https://localhost:8080/",
     "height": 538
    },
    "id": "yPRH72Ko4Zqi",
    "outputId": "38a4b211-e9e1-440a-d7f5-371f03c17e93"
   },
   "outputs": [],
   "source": [
    "# Plot the RGB images for visualization\n",
    "fig = plt.figure(figsize=(15, 15))\n",
    "gs = gridspec.GridSpec(1, 2)\n",
    "\n",
    "for i, img in enumerate(RGB_images):\n",
    "    ax = fig.add_subplot(gs[0, i])\n",
    "    ax.imshow(img, cmap='gray')\n",
    "    ax.set_title(f\"RGB Image {i}\")\n",
    "    ax.axis('off')\n",
    "\n",
    "plt.tight_layout()\n",
    "\n"
   ]
  },
  {
   "cell_type": "markdown",
   "metadata": {},
   "source": [
    "## B3 - Images are just matrices (and viceversa)"
   ]
  },
  {
   "cell_type": "markdown",
   "metadata": {
    "id": "Wcaum48bwBLY"
   },
   "source": [
    "Any image can be seen as a matrix (table) full of numbers, where every number is the color intensity at that specific pixel. Viceversa, every matric can also be seen as an image. This is usually a less useful perspective, but it helps build some better understanding of how an image is represented in a computer.\n",
    "\n",
    "Hereafter we create a 3 by 3 matrix and we display it as an image with `imshow()`. Since it is a single 2D matrix we only have one color channel, i.e. the image is monochrome. We can choose what color those pixel intensities are referred to: if we set the color map to gray (`cmap='gray'`) we obtain a grayscale image, while if we change the color map to blue we obtain an image in blue shades. \n",
    "\n",
    "In the grayscale image, pixels values close to the minimum will be displayed as black, while the ones closer to the maximum pixel value will be displayed as white. "
   ]
  },
  {
   "cell_type": "code",
   "execution_count": null,
   "metadata": {},
   "outputs": [],
   "source": [
    "# Define a 3x3 matrix\n",
    "my_matrix = np.array([[0, 255, 50],\n",
    "                      [205 ,75, 100],\n",
    "                      [255, 230, 150]])\n",
    "\n",
    "# print the matrix\n",
    "print(my_matrix)"
   ]
  },
  {
   "cell_type": "code",
   "execution_count": null,
   "metadata": {},
   "outputs": [],
   "source": [
    "# Create one figure with two sub-figures (called \"axes\")\n",
    "fig, axes = plt.subplots(nrows = 1,\n",
    "                         ncols = 2,\n",
    "                         figsize = (10, 5),\n",
    "                         facecolor = 'w')\n",
    "\n",
    "\n",
    "##################\n",
    "# FIRST FIGURE\n",
    "##################\n",
    "\n",
    "# plot the matrix in grayscale \n",
    "img_grayscale = axes[0].imshow(my_matrix,\n",
    "                               cmap = 'gray',\n",
    "                               vmin = 0,\n",
    "                               vmax = 255)\n",
    "\n",
    "# plot the associated colorbar \n",
    "fig.colorbar(img_grayscale,\n",
    "             ax = axes[0],\n",
    "             fraction = 0.046,\n",
    "             pad = 0.04)\n",
    "\n",
    "# set a title\n",
    "axes[0].set_title('Monochrome image in grayscale')\n",
    "\n",
    "\n",
    "\n",
    "##################\n",
    "# SECOND FIGURE\n",
    "##################\n",
    "\n",
    "# plot the matrix with a blue gradient \n",
    "img_blue_gradient = axes[1].imshow(my_matrix,\n",
    "                                   cmap = 'Blues',\n",
    "                                   vmin = 0,\n",
    "                                   vmax = 255)\n",
    "\n",
    "# plot the associated colorbar\n",
    "fig.colorbar(img_blue_gradient,\n",
    "             ax = axes[1],\n",
    "             fraction = 0.046,\n",
    "             pad = 0.04)\n",
    "\n",
    "# set a title\n",
    "axes[1].set_title('Monochrome image in blue gradient')\n",
    "\n",
    "\n",
    "\n",
    "#optimise the distance between the two figures\n",
    "fig.tight_layout();"
   ]
  },
  {
   "cell_type": "markdown",
   "metadata": {},
   "source": [
    "## B4 - Split a RGB image into three monochrome images"
   ]
  },
  {
   "cell_type": "markdown",
   "metadata": {},
   "source": [
    "To sum up, RGB images are 3D matrix of size n_row x n_column x 3 (= n_channels). The values in the matrices represent the intensity of each color (red, green and blue).\n",
    "\n",
    "We can therefore split this 3D matrices into three 2D matrices of size n_row x n_column. Taken one at a time, these matrices represent monochromatic images, as the one shown in the simple example above. We can then plot these three matrices as three different images. Since we know that they correspond to red, green and blue channels, we will use `cmap='Reds'`,`cmap='Greens'` and `cmap='Blues'` respectively.\n",
    "\n",
    "To access to the red channel of the first image (and thus to obtain a 2D matrix) we can do `RGBA_images[0][:, :, 0]`. This tells numpy we want all entries in the first axis (all rows), all entries in the second axis (all columns) and only entries in position 0 in the third axis (that is, the first channel).\n",
    "\n",
    "In the same way, to access to the green channel of the first image we can do `RGBA_images[0][:, :, 1]` and to access to the blue channel of the first image we can do `RGBA_images[0][:, :, 2]`.\n",
    "\n",
    "Below we plot the 3 channels independently."
   ]
  },
  {
   "cell_type": "code",
   "execution_count": null,
   "metadata": {
    "colab": {
     "base_uri": "https://localhost:8080/",
     "height": 309
    },
    "id": "m7nk8B3MQ5ob",
    "outputId": "130c23f9-2253-40b6-b4aa-10d369864c1e"
   },
   "outputs": [],
   "source": [
    "# Select the index of the image to plot\n",
    "index_RGB_image = 0\n",
    "\n",
    "# Put this image in a variable my_image\n",
    "my_image = RGB_images[index_RGB_image]\n",
    "\n",
    "# Put the red channel in a variable red_channel\n",
    "red_channel = my_image[:, :, 0]\n",
    "\n",
    "# Put the green channel in a variable green_channel\n",
    "green_channel = my_image[:, :, 1]\n",
    "\n",
    "# Put the blue channel in a variable blue_channel\n",
    "blue_channel = my_image[:, :, 2]\n",
    "\n",
    "# my_image.shape[2] return the number of channel in my_image (=3)\n",
    "number_of_channels = my_image.shape[2]"
   ]
  },
  {
   "cell_type": "code",
   "execution_count": null,
   "metadata": {
    "colab": {
     "base_uri": "https://localhost:8080/",
     "height": 309
    },
    "id": "m7nk8B3MQ5ob",
    "outputId": "130c23f9-2253-40b6-b4aa-10d369864c1e"
   },
   "outputs": [],
   "source": [
    "# Create 3 axes, one for each channel (red, green, blue)\n",
    "fig, axes = plt.subplots(nrows = 1,\n",
    "                         ncols = number_of_channels,\n",
    "                         figsize = (15, 15),\n",
    "                         facecolor = 'w')\n",
    "\n",
    "\n",
    "##### FIRST CHANNEL (RED)\n",
    "\n",
    "# on the 1st axis we will plot the red channel of the image cmap (color map) will modify the color of our figure\n",
    "# with a gradient of Reds\n",
    "red_channel_image = axes[0].imshow(red_channel,\n",
    "                                   cmap = 'Reds',\n",
    "                                   vmin = 0,\n",
    "                                   vmax = 255)\n",
    "\n",
    "# create a color bar in legend associated with red_image_plotted\n",
    "fig.colorbar(red_channel_image,\n",
    "             ax = axes[0],\n",
    "             fraction = 0.046,\n",
    "             pad = 0.04)\n",
    "\n",
    "# Set a title to the first figure\n",
    "axes[0].set_title('Red channel')\n",
    "\n",
    "\n",
    "\n",
    "##### SECOND CHANNEL (GREEN)\n",
    "\n",
    "# on the 2nd axis we will plot the green channel of the image cmap (color map) will modify the color of our figure\n",
    "# with a gradient of Greens\n",
    "green_channel_image = axes[1].imshow(green_channel,\n",
    "                                     cmap = 'Greens',\n",
    "                                     vmin=0,\n",
    "                                     vmax=255)\n",
    "\n",
    "# create a color bar in legend associated with green_image_plotted\n",
    "fig.colorbar(green_channel_image,\n",
    "             ax = axes[1],\n",
    "             fraction = 0.046,\n",
    "             pad = 0.04)\n",
    "\n",
    "# Set a title to the 2nd figure\n",
    "axes[1].set_title('Green channel')\n",
    "\n",
    "\n",
    "\n",
    "##### THIRD CHANNEL (BLUE)\n",
    "\n",
    "# on the 3rd axis we will plot the blue channel of the image cmap (color map) will modify the color of our figure\n",
    "# with a gradient of Blues\n",
    "blue_channel_image = axes[2].imshow(blue_channel,\n",
    "                                    cmap = 'Blues',\n",
    "                                    vmin = 0,\n",
    "                                    vmax = 255)\n",
    "\n",
    "# create a color bar in legend associated with blue_image_plotted\n",
    "fig.colorbar(blue_channel_image,\n",
    "             ax = axes[2],\n",
    "             fraction = 0.046,\n",
    "             pad = 0.04)\n",
    "\n",
    "# Set a title to the 3rd figure\n",
    "axes[2].set_title('Blue channel')\n",
    "\n",
    "\n",
    "#####\n",
    "\n",
    "\n",
    "#optimise the distance between the figures\n",
    "fig.tight_layout()"
   ]
  },
  {
   "cell_type": "markdown",
   "metadata": {},
   "source": [
    "**2) Split the channel of images[1] and plot the three associated graphs**"
   ]
  },
  {
   "cell_type": "markdown",
   "metadata": {},
   "source": [
    "# D - Image Transformation"
   ]
  },
  {
   "cell_type": "markdown",
   "metadata": {},
   "source": [
    "## D1 - Transform a RGB image into a grayscale image\n",
    "\n",
    "To make the subsequent analysis easier, we can transform the RGB image (3D matrix, n_row x n_col x 3) into a grayscale monochrome image (2D matrix, n_row x n_col). \n",
    "\n",
    "We do this by taking the average of the three (red, green, blue) intensities for every pixel in the original image.\n",
    "\n",
    "There a lot of functions that can do this for you automatically, and it is usually a very good idea to use them. For the sake of understanding the underlying mechanism we show below how to do this manually."
   ]
  },
  {
   "cell_type": "code",
   "execution_count": null,
   "metadata": {},
   "outputs": [],
   "source": [
    "# define an empty list\n",
    "monochrome_images = []\n",
    "\n",
    "# iterate on the four RGB_images\n",
    "for RGB_image in RGB_images:\n",
    "\n",
    "    # split the channels. This line is equivalent to channels =  [RGB_image[:, :, 0], RGB_image[:, :, 1], RGB_image[:, :, 2], RGB_image[:, :, 3]]\n",
    "    channels = [RGB_image[:, :, index_channel] for index_channel in range(3)]\n",
    "\n",
    "    # Transform the number in every rows and columns of each channels from np.uint8 to int64 (avoid problems when computing the mean)\n",
    "    channels = np.asarray(channels, dtype='int64')\n",
    "\n",
    "    # mono_image take the mean of the three channels\n",
    "    #note that numpy simultaneously sum all of the pixels in the different channels!\n",
    "    mean_channels = (channels[0] + channels[1] + channels[2])/3\n",
    "    \n",
    "    #type casting (don't worry about it)\n",
    "    mean_channels = np.asarray(mean_channels, dtype=np.uint8) \n",
    "    \n",
    "    # Transform the number in every rows and columns of each channels from int64 to np.uint8\n",
    "    monochrome_images.append(mean_channels)"
   ]
  },
  {
   "cell_type": "markdown",
   "metadata": {},
   "source": [
    "**3) Plot the 2 monochrome images in grayscale. You can get inspired by the cells in the B2 paragraph (Plot RGB images)**"
   ]
  },
  {
   "cell_type": "code",
   "execution_count": null,
   "metadata": {},
   "outputs": [],
   "source": [
    "# Plot the grayscale images for visualization\n",
    "fig = plt.figure(figsize=(15, 15))\n",
    "gs = gridspec.GridSpec(1, 4)\n",
    "\n",
    "########################\n",
    "\n",
    "# COMPLETE THE CODE \n",
    "\n",
    "\n",
    "#######################\n",
    "\n",
    "plt.tight_layout()\n",
    "plt.show()"
   ]
  },
  {
   "cell_type": "markdown",
   "metadata": {},
   "source": [
    "### Save the grayscale images"
   ]
  },
  {
   "cell_type": "code",
   "execution_count": null,
   "metadata": {},
   "outputs": [],
   "source": [
    "for i, img in enumerate(monochrome_images):\n",
    "    output_path = f\"./grayscale_images/grayscale_image_{i}.png\"\n",
    "    plt.imsave(output_path, img, cmap='gray')"
   ]
  },
  {
   "cell_type": "markdown",
   "metadata": {},
   "source": [
    "## D2 - Image Normalisation \n",
    "\n",
    "Image normalization is a common preprocessing step in image processing. It typically scales the pixel values in an image to a given range (e.g., [0, 255] for grayscale images). \n",
    "\n",
    "The formula for image normalization is:\n",
    "\n",
    "$$\n",
    "\\text{normalized} = \\frac{\\text{image} - \\text{min}}{\\text{max} - \\text{min}} \\times 255\n",
    "$$\n",
    "\n",
    "Where:\n",
    "- image is the original image.\n",
    "- min and max are the minimum and maximum pixel values in the original image.\n",
    "\n",
    "\n",
    "\n"
   ]
  },
  {
   "cell_type": "markdown",
   "metadata": {},
   "source": [
    "**4) Why is Image Normalisation imaportant?**"
   ]
  },
  {
   "cell_type": "code",
   "execution_count": null,
   "metadata": {},
   "outputs": [],
   "source": [
    "\n",
    "def normalize_image(img):\n",
    "    \"\"\"\n",
    "    Normalize the image to the range [0, 255] without using PIL.\n",
    "    \"\"\"\n",
    "    img_min = img.min()\n",
    "    img_max = img.max()\n",
    "    \n",
    "    normalized_array = ((img - img_min) / (img_max - img_min) * 255).astype(np.uint8)\n",
    "    \n",
    "    return normalized_array\n",
    "\n",
    "# Normalize the images\n",
    "normalized_images = [normalize_image(img) for img in XXX]\n",
    "\n"
   ]
  },
  {
   "cell_type": "code",
   "execution_count": null,
   "metadata": {},
   "outputs": [],
   "source": [
    "\n",
    "\n",
    "fig = plt.figure(figsize=(15, 7))\n",
    "gs = gridspec.GridSpec(2, len(monochrome_images), height_ratios=[1, 1])\n",
    "\n",
    "for i in range(len(monochrome_images)):\n",
    "    # Plot original image\n",
    "    ax_orig = fig.add_subplot(gs[i, 0])\n",
    "    ax_orig.imshow(monochrome_images[i], cmap='gray')\n",
    "    ax_orig.set_title(f\"Original Image {i}\")\n",
    "    ax_orig.axis('off')\n",
    "    \n",
    "    # Plot normalized image\n",
    "    ax_norm = fig.add_subplot(gs[i, 1])\n",
    "    ax_norm.imshow(normalized_images[i], cmap='gray')\n",
    "    ax_norm.set_title(f\"Normalized Image {i}\")\n",
    "    ax_norm.axis('off')\n",
    "\n",
    "plt.tight_layout()\n",
    "plt.show()"
   ]
  },
  {
   "cell_type": "markdown",
   "metadata": {},
   "source": [
    "## D3 - Image Denoising\n",
    "Denoising is an important preprocessing step, especially when dealing with images that might have noise. \n",
    "\n",
    "\n",
    "One of the common methods to denoise grayscale images is to use a Gaussian filter, which smoothens the image by replacing each pixel value with a weighted average of the surrounding pixels, where weights are determined by the Gaussian function. "
   ]
  },
  {
   "cell_type": "code",
   "execution_count": null,
   "metadata": {},
   "outputs": [],
   "source": [
    "from scipy.ndimage import gaussian_filter\n",
    "\n",
    "# Apply Gaussian filtering for denoising\n",
    "denoised_gaussian_images = [gaussian_filter(img, sigma=1) for img in normalized_images]\n"
   ]
  },
  {
   "cell_type": "markdown",
   "metadata": {},
   "source": [
    "**5) Plot the denoised images for visualization** \n"
   ]
  },
  {
   "cell_type": "code",
   "execution_count": null,
   "metadata": {},
   "outputs": [],
   "source": [
    "################\n",
    "# WRITE THE CODE HERE\n",
    "################"
   ]
  },
  {
   "cell_type": "markdown",
   "metadata": {},
   "source": [
    "### Save the denoised grayscale images images"
   ]
  },
  {
   "cell_type": "code",
   "execution_count": null,
   "metadata": {},
   "outputs": [],
   "source": [
    "from skimage import io\n",
    "\n",
    "for i, img in enumerate(denoised_gaussian_images):\n",
    "    output_path = f\"./grayscale_images_preprocessed/grayscale_image_preprocessed{i}.png\"\n",
    "    io.imsave(output_path, img.astype(np.uint8))  # Saving as grayscale\n",
    "\n"
   ]
  },
  {
   "cell_type": "markdown",
   "metadata": {},
   "source": [
    "## D4 - Transform a grayscale image to a black \\& white image with *thresholding* (bonus) (Motivation for next week)\n",
    "\n",
    "A very simple way to segment an image is to distinguish between pixels with intensities in different pre-defined ranges. [Thresholding](https://en.wikipedia.org/wiki/Thresholding_%28image_processing%29) is used to convert continuously colored images into bi-colored images. Pixel value ranges are delimited by *thresholds*, whence the name of the method. Since the cells are darker than the background of the pate, in our case we want to distinguish between darker and lighter areas of the image. This means that we will need a single threshold to do the job.\n",
    "\n",
    "In our case, defining a threshold = X means that all of the pixels that have an intensity value smaller than X * max_intensity_value_pixel (= X * 255) will become black and the ones having a bigger value will become white.\n",
    "\n",
    "Below we plot the grayscale images (preprocessed) and the thresholded version of these images."
   ]
  },
  {
   "cell_type": "code",
   "execution_count": null,
   "metadata": {},
   "outputs": [],
   "source": [
    "# Apply thresholding (using a fixed threshold value, e.g., 100)\n",
    "# Try different threshold\n",
    "Threshold = XXX\n",
    "Thresholded_images = [(img > Threshold).astype(np.uint8) for img in denoised_gaussian_images]\n"
   ]
  },
  {
   "cell_type": "markdown",
   "metadata": {},
   "source": [
    "1 - img > Threshold: \n",
    "\n",
    "This is a comparison operation that checks for each pixel in the img array if its value is greater than Threshold. The result of this operation is a boolean array of the same shape as img, where each entry is True if the corresponding pixel value in img is greater than Threshold, and False otherwise. \n",
    "\n",
    "2- .astype(np.uint8):\n",
    "\n",
    "This converts the boolean array resulting from the previous step into an array of type np.uint8 (unsigned 8-bit integer). In this conversion:\n",
    "True values (from the boolean array) become 1\n",
    "False values become 0"
   ]
  },
  {
   "cell_type": "code",
   "execution_count": null,
   "metadata": {},
   "outputs": [],
   "source": [
    "# Plot the denoised images in the first row and the segmented images using thresholding in the second row\n",
    "fig, axes = plt.subplots(nrows=2, ncols=2, figsize=(10, 10))\n",
    "for i, ax in enumerate(axes[0]):\n",
    "    ax.imshow(denoised_gaussian_images[i], cmap='gray')\n",
    "    ax.set_title(f\"Denoised Image {i}\")\n",
    "    ax.axis('off')\n",
    "    \n",
    "for i, ax in enumerate(axes[1]):\n",
    "    ax.imshow(Thresholded_images[i], cmap='gray')\n",
    "    ax.set_title(f\"Thresholded Image {i}\")\n",
    "    ax.axis('off')\n",
    "\n",
    "plt.tight_layout()\n",
    "plt.show()"
   ]
  },
  {
   "cell_type": "markdown",
   "metadata": {},
   "source": [
    "### D4 - Otsu's Thresholding (Bonus)\n",
    "\n",
    "Automatically determine the best threshold value by maximizing the variance between two classes of pixels."
   ]
  },
  {
   "cell_type": "code",
   "execution_count": null,
   "metadata": {},
   "outputs": [],
   "source": [
    "from skimage.filters import threshold_otsu\n",
    "\n",
    "# Apply Otsu's thresholding\n",
    "segmented_images_otsu = []\n",
    "for img in denoised_gaussian_images:\n",
    "    thresh = threshold_otsu(img)\n",
    "    print(thresh)\n",
    "    binary = img > thresh\n",
    "    segmented_images_otsu.append(binary)\n",
    "\n",
    "\n",
    "\n"
   ]
  },
  {
   "cell_type": "code",
   "execution_count": null,
   "metadata": {},
   "outputs": [],
   "source": [
    "# Plot the segmented images using Otsu's thresholding\n",
    "\n",
    "fig, axes = plt.subplots(nrows=3, ncols=2, figsize=(10, 10))\n",
    "for i, ax in enumerate(axes[0]):\n",
    "    ax.imshow(denoised_gaussian_images[i], cmap='gray')\n",
    "    ax.set_title(f\"Denoised Image {i}\")\n",
    "    ax.axis('off')\n",
    "    \n",
    "for i, ax in enumerate(axes[1]):\n",
    "    ax.imshow(Thresholded_images[i], cmap='gray')\n",
    "    ax.set_title(f\"Thresholded Image {i}\")\n",
    "    ax.axis('off')\n",
    "\n",
    "\n",
    "\n",
    "for i, ax in enumerate(axes[2]):\n",
    "    ax.imshow(segmented_images_otsu[i], cmap='gray')\n",
    "    ax.set_title(f\"Otsu Segmented Image {i}\")\n",
    "    ax.axis('off')\n",
    "\n",
    "plt.tight_layout()\n",
    "plt.show()"
   ]
  },
  {
   "cell_type": "code",
   "execution_count": null,
   "metadata": {},
   "outputs": [],
   "source": []
  }
 ],
 "metadata": {
  "colab": {
   "collapsed_sections": [],
   "provenance": []
  },
  "interpreter": {
   "hash": "8fdd715dbc67c122891faa01a0f6615e9dd073a764a47b895c47a99b035627e7"
  },
  "kernelspec": {
   "display_name": "Python 3.9.19 ('tf_env')",
   "language": "python",
   "name": "python3"
  },
  "language_info": {
   "codemirror_mode": {
    "name": "ipython",
    "version": 3
   },
   "file_extension": ".py",
   "mimetype": "text/x-python",
   "name": "python",
   "nbconvert_exporter": "python",
   "pygments_lexer": "ipython3",
   "version": "3.9.19"
  }
 },
 "nbformat": 4,
 "nbformat_minor": 4
}
