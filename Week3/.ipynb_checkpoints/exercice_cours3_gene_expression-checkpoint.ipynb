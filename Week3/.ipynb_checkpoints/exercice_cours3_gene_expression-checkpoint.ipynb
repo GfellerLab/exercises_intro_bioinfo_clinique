{
 "cells": [
  {
   "cell_type": "markdown",
   "metadata": {},
   "source": [
    "# Exercice semaine 3: Expression génique"
   ]
  },
  {
   "cell_type": "markdown",
   "metadata": {},
   "source": [
    "Lien vers le fichier des comptages normalisés pour la patiente:\n",
    "https://portal.gdc.cancer.gov/files/e57a50e9-60d5-4dd8-a379-2b473995356d\n",
    "\n",
    "\n",
    "Documentation sur le workflow utlisé (en anglais):\n",
    "https://docs.gdc.cancer.gov/Data/Bioinformatics_Pipelines/Expression_mRNA_Pipeline/"
   ]
  },
  {
   "cell_type": "markdown",
   "metadata": {},
   "source": [
    "## Chargement des libraries"
   ]
  },
  {
   "cell_type": "code",
   "execution_count": 2,
   "metadata": {},
   "outputs": [],
   "source": [
    "import os\n",
    "from scipy import stats"
   ]
  },
  {
   "cell_type": "code",
   "execution_count": null,
   "metadata": {},
   "outputs": [],
   "source": [
    "import pandas as pd\n",
    "import plotly.express as px\n",
    "import numpy as np\n",
    "import plotly.graph_objects as go"
   ]
  },
  {
   "cell_type": "markdown",
   "metadata": {},
   "source": [
    "Pour ces 4 packages, nous utiliserons les abbréviations `pd, px, np` et `go` pour appeler leurs fonctions (par exemple `pd.read_table` pour la fonction de pandas qui permet de lire un tableau)"
   ]
  },
  {
   "cell_type": "markdown",
   "metadata": {},
   "source": [
    "## Partie 1: Analyse du fichier d'expression génique de la patiente "
   ]
  },
  {
   "cell_type": "markdown",
   "metadata": {},
   "source": [
    "Charger le fichier d'expression génique pour la patiente dans un tableau `counts` avec pandas (`\"7688db2f-f816-443c-98d8-f8077ba0e74f.rna_seq.augmented_star_gene_counts.tsv\"`) présent dans le dossier de l'exercice)."
   ]
  },
  {
   "cell_type": "code",
   "execution_count": null,
   "metadata": {},
   "outputs": [],
   "source": [
    "counts = pd.read_table('7688db2f-f816-443c-98d8-f8077ba0e74f.rna_seq.augmented_star_gene_counts.tsv',sep='\\t',skiprows= 1)\n",
    "counts"
   ]
  },
  {
   "cell_type": "markdown",
   "metadata": {},
   "source": [
    "Les quatres premières lignes contiennent des statistiques des résultats de l'alignement (nombres de reads non alignés, alignés à plusieurs régions sur le génomes, avec un aligment ambigu, alignés sur une région sans gène connu)\n",
    "\n",
    "Dans cet exercices nous n'analyserons pas ces statistiques. Retirer ces lignes du tableau counts."
   ]
  },
  {
   "cell_type": "code",
   "execution_count": null,
   "metadata": {},
   "outputs": [],
   "source": [
    "counts = counts[4:len(counts)]\n",
    "counts "
   ]
  },
  {
   "cell_type": "markdown",
   "metadata": {},
   "source": [
    "## Question 1\n",
    "1) Que contient la colonne `\"gene_type\"` (vous pouvez utiliser la fonction `unique`)?  "
   ]
  },
  {
   "cell_type": "code",
   "execution_count": null,
   "metadata": {},
   "outputs": [],
   "source": [
    "# A compléter"
   ]
  },
  {
   "cell_type": "markdown",
   "metadata": {},
   "source": [
    "2) Afficher la proportion des gènes codants pour des protéines par rapport aux autres type de gènes."
   ]
  },
  {
   "cell_type": "code",
   "execution_count": null,
   "metadata": {},
   "outputs": [],
   "source": [
    "protein_coding = pd.DataFrame(counts[\"gene_type\"] == \"protein_coding\")\n",
    "fig = px.pie(protein_coding,names = \"gene_type\", title='protein_coding')\n",
    "fig.show()"
   ]
  },
  {
   "cell_type": "markdown",
   "metadata": {},
   "source": [
    "# Question 2\n",
    "\n",
    "Dans la suite de l'exercice nous allons nous intéresser aux comptages normalisés en TPM (colonne `\"tpm_unstranded\"` du tableau `counts`). \n",
    "\n",
    "1) Afficher la distribution des comptages normalisés en TPM, qu'observez vous ?"
   ]
  },
  {
   "cell_type": "code",
   "execution_count": null,
   "metadata": {},
   "outputs": [],
   "source": [
    "fig = px.histogram(counts, x=\"tpm_unstranded\")\n",
    "fig.show()"
   ]
  },
  {
   "cell_type": "markdown",
   "metadata": {},
   "source": [
    "2) Essayez avec une transformation logarithmique (vous pouvez utiliser la fonction `log1p` de numpy)"
   ]
  },
  {
   "cell_type": "code",
   "execution_count": null,
   "metadata": {},
   "outputs": [],
   "source": [
    "# A compléter pour ajouter une colonne log1p_tpm à counts"
   ]
  },
  {
   "cell_type": "markdown",
   "metadata": {},
   "source": [
    "3) A l'aide de boîtes à moustaches (boxplots) comparer l'expression des gènes codants pour des protéines par rapport à celle des autres types de gènes)."
   ]
  },
  {
   "cell_type": "code",
   "execution_count": null,
   "metadata": {},
   "outputs": [],
   "source": [
    "counts[\"protein_coding\"] = counts[\"gene_type\"] == \"protein_coding\"\n",
    "fig = px.box(counts, x=\"protein_coding\", y=\"log1p_tpm\")\n",
    "fig.show()"
   ]
  },
  {
   "cell_type": "markdown",
   "metadata": {},
   "source": [
    "## Partie 2: Analyse de l'expression génique chez plusieurs patients"
   ]
  },
  {
   "cell_type": "markdown",
   "metadata": {},
   "source": [
    "Nous avons récupéré l'ensembre des résultats RNA-seq pour 472 patients atteints de melanome dont notre patiente sur le site de l'UCSC. Tous les fichiers dont vous avez besoin pour cette exercice sont dans le dossier UCSC_data. \n",
    "\n",
    "Nous avons préalablement normalisé les comptages bruts en log2(TPM+1) disponibles dans le fichier `\"../UCSC_data/TCGA-SKCM.htseq_tpm.csv\"`\n",
    "\n",
    "Nous aurons besoin d'un fichier d'annotation des gènes, fichier `\"../UCSC_data/gencode.v22.annotation.gene.probeMap.with.length.csv\"`.\n",
    "\n",
    "Nous utiliserons aussi les données cliniques pour ces patients, fichier `\"../UCSC_data/SKCM.GDC_phenotype.tsv` \n",
    "\n",
    "Pour information:\n",
    "\n",
    "Lien pour les comptages bruts (log2(counts+1)), fichier TCGA-SKCM.htseq_counts.tsv: https://xenabrowser.net/datapages/?dataset=TCGA-SKCM.htseq_counts.tsv&host=https%3A%2F%2Fgdc.xenahubs.net&removeHub=https%3A%2F%2Fxena.treehouse.gi.ucsc.edu%3A443\n",
    "\n",
    "Lien pour les annotations de base: https://xenabrowser.net/datapages/?dataset=TCGA-SKCM.GDC_phenotype.tsv&host=https%3A%2F%2Fgdc.xenahubs.net&removeHub=https%3A%2F%2Fxena.treehouse.gi.ucsc.edu%3A443\n",
    "\n",
    "Documentation sur le workflow RNA-seq utlisé (en anglais): https://docs.gdc.cancer.gov/Data/Bioinformatics_Pipelines/Expression_mRNA_Pipeline/"
   ]
  },
  {
   "cell_type": "markdown",
   "metadata": {},
   "source": [
    "## Question 1: Préparation des données"
   ]
  },
  {
   "cell_type": "markdown",
   "metadata": {},
   "source": [
    "1) Charger ces fichiers dans des tableaux `smpCounts`, `geneAnnotations` et `clinicalData`. Mettez en index (noms des lignes) la colonne `Ensembl_ID` pour `smpCounts`, `ìd` pour `geneAnnotations` et la colonne `sample` pour `survivalData`. On conservera la colonne d'index pour `geneAnnotations` et `clinicalData` (option `drop=False`)."
   ]
  },
  {
   "cell_type": "code",
   "execution_count": null,
   "metadata": {
    "scrolled": true
   },
   "outputs": [],
   "source": [
    "geneAnnotations = pd.read_csv(\"../UCSC_data/gencode.v22.annotation.gene.probeMap.with.length.csv\")\n",
    "geneAnnotations = geneAnnotations.set_index('id',drop = False)\n",
    "geneAnnotations"
   ]
  },
  {
   "cell_type": "code",
   "execution_count": null,
   "metadata": {},
   "outputs": [],
   "source": [
    "clinicalData = pd.read_table('../UCSC_data/TCGA-SKCM.GDC_phenotype.tsv')\n",
    "clinicalData = clinicalData.set_index(\"submitter_id.samples\",drop=False)\n",
    "clinicalData"
   ]
  },
  {
   "cell_type": "code",
   "execution_count": null,
   "metadata": {},
   "outputs": [],
   "source": [
    "smpCounts = pd.read_csv(\"../UCSC_data/TCGA-SKCM.htseq_tpm.csv\")\n",
    "smpCounts = smpCounts.set_index(\"Ensembl_ID\")\n",
    "smpCounts"
   ]
  },
  {
   "cell_type": "markdown",
   "metadata": {},
   "source": [
    "## Question 2 : Exploration des données cliniques\n",
    "1) Quelles sont les données cliniques disponibles ? "
   ]
  },
  {
   "cell_type": "code",
   "execution_count": null,
   "metadata": {},
   "outputs": [],
   "source": [
    "clinicalData.columns.to_list()"
   ]
  },
  {
   "cell_type": "markdown",
   "metadata": {},
   "source": [
    "2) Retrouver notre patiente dans `clinicalData` et `smpCounts.`"
   ]
  },
  {
   "cell_type": "code",
   "execution_count": null,
   "metadata": {},
   "outputs": [],
   "source": [
    "# A compléter  "
   ]
  },
  {
   "cell_type": "code",
   "execution_count": null,
   "metadata": {},
   "outputs": [],
   "source": [
    "# A compléter  "
   ]
  },
  {
   "cell_type": "markdown",
   "metadata": {},
   "source": [
    "3) Afficher la distribution du genre des patients avec un camembert."
   ]
  },
  {
   "cell_type": "code",
   "execution_count": null,
   "metadata": {},
   "outputs": [],
   "source": [
    "fig = px.pie(clinicalData,names = \"gender.demographic\", title='gender')\n",
    "fig.show()"
   ]
  },
  {
   "cell_type": "markdown",
   "metadata": {},
   "source": [
    "4) Afficher la distribution des différents types d'echantillons avec un diagramme en barres."
   ]
  },
  {
   "cell_type": "code",
   "execution_count": null,
   "metadata": {},
   "outputs": [],
   "source": [
    "fig = px.bar(clinicalData, y='sample_type.samples', color='sample_type.samples', title=\"sample_type\")\n",
    "fig.show()"
   ]
  },
  {
   "cell_type": "markdown",
   "metadata": {},
   "source": [
    "5) Afficher la même figure cette fois-ci en colorant selon le genre des patients."
   ]
  },
  {
   "cell_type": "code",
   "execution_count": null,
   "metadata": {},
   "outputs": [],
   "source": [
    "# A compléter "
   ]
  },
  {
   "cell_type": "markdown",
   "metadata": {},
   "source": [
    "## Question 2 : Différence d'expression génique"
   ]
  },
  {
   "cell_type": "markdown",
   "metadata": {},
   "source": [
    "Nous allons nous intéresser à la différence d'expression génique entre les echantillons de metatstases et ceux de tumeurs primaires chez les femmes. Tester l'ensemble des gènes dététectés lors du séquençage serait trop long pour cet exercice, ainsi nous nous restreindrons aujourd'hui aux gènes présents sur le chromosome 14.\n"
   ]
  },
  {
   "cell_type": "code",
   "execution_count": null,
   "metadata": {},
   "outputs": [],
   "source": [
    "smpCounts = smpCounts.loc[geneAnnotations[geneAnnotations[\"chrom\"] == \"chr14\"].index.to_list()]\n",
    "smpCounts"
   ]
  },
  {
   "cell_type": "markdown",
   "metadata": {},
   "source": [
    "1) Sauvegarder les identifiants des échantillons métastatiques (de tumeur primaire) dans une liste `M`(`pT`). \n",
    "\n",
    "La selection est à faire sur les colonnes `'sample_type.samples'` et `'gender.demographic'`du tableau `clinicalData`. Nous n'avons pas l'expression génique pour certains échantillons présents dans clinicalData, veillez à les retirer de la selection. "
   ]
  },
  {
   "cell_type": "code",
   "execution_count": null,
   "metadata": {},
   "outputs": [],
   "source": [
    "M = clinicalData[(clinicalData['sample_type.samples'] == \"Metastatic\") & (clinicalData['gender.demographic'] == \"female\")][\"submitter_id.samples\"].to_list()\n",
    "M = smpCounts.columns.intersection(M) # We don't have the gene expression for all the samples in clinicalData"
   ]
  },
  {
   "cell_type": "code",
   "execution_count": null,
   "metadata": {},
   "outputs": [],
   "source": [
    "# A compléter pour obtenir pT de la même manière"
   ]
  },
  {
   "cell_type": "markdown",
   "metadata": {},
   "source": [
    "2) Réaliser des t-tests pour trouver les gènes avec une différence significatives d'expression entre les deux types d'échantillons (~ 5 min pour tester tous les gènes retenus).\n",
    "\n",
    "Nous utiliserons pour celà une boucle for et la fonction `ttest_ind`du package stats avec l'option `equal_var = False`.\n"
   ]
  },
  {
   "cell_type": "code",
   "execution_count": null,
   "metadata": {},
   "outputs": [],
   "source": [
    "res = list()\n",
    "for g in smpCounts.index:\n",
    "    #print(g)\n",
    "    pT_exp = smpCounts[pT].loc[g].to_numpy()\n",
    "    M_exp = smpCounts[M].loc[g].to_numpy()\n",
    "    diff = np.mean(pT_exp) - np.mean(M_exp)\n",
    "    t, p = stats.ttest_ind(pT_exp, M_exp,equal_var = False) # we perform welch t test n_adult > 30 and n_elderly > 30\n",
    "    res.append([g,diff,t,p])"
   ]
  },
  {
   "cell_type": "code",
   "execution_count": null,
   "metadata": {},
   "outputs": [],
   "source": [
    "diffExpResults = pd.DataFrame(res, columns = ['Ensembl_ID', 'log1p_diff',\"T stat\",\"p_value\"])\n",
    "diffExpResults"
   ]
  },
  {
   "cell_type": "markdown",
   "metadata": {},
   "source": [
    "2) Ajoutez une colonne `\"gene_name\"` à `diffExpResult` en utilisant le tableau `geneAnnotations`."
   ]
  },
  {
   "cell_type": "code",
   "execution_count": null,
   "metadata": {},
   "outputs": [],
   "source": [
    "diffExpResults[\"gene_name\"] = geneAnnotations[\"gene\"].loc[diffExpResults[\"Ensembl_ID\"]].to_list()"
   ]
  },
  {
   "cell_type": "markdown",
   "metadata": {},
   "source": [
    "3) Combien de gènes semblent présenter une différence significative (on prendara comme seuil p valeur < 0.05)?"
   ]
  },
  {
   "cell_type": "code",
   "execution_count": null,
   "metadata": {},
   "outputs": [],
   "source": [
    "# A compléter"
   ]
  },
  {
   "cell_type": "markdown",
   "metadata": {},
   "source": [
    "## Question 3: Affichage de différences d'expression"
   ]
  },
  {
   "cell_type": "markdown",
   "metadata": {},
   "source": [
    "1) Afficher des boîte à moustaches pour comparer l'expression du gène le plus exprimé dans les echantillons de tumeurs primaires par rapport aux echantillons metastatiques. Vous pouvez également faire une recherche rapide de ce gène dans différentes bases de données (comme UniProt: https://www.uniprot.org/). Que pouvez-vous conclure?"
   ]
  },
  {
   "cell_type": "code",
   "execution_count": null,
   "metadata": {},
   "outputs": [],
   "source": [
    "boxplot_table = pd.DataFrame(data=smpCounts.loc[\"ENSG00000092295.10\"].T)\n",
    "\n",
    "boxplot_table[\"age_group\"] = [\"Primary Tumor\" if p in pT else 'Metastatic' for p in boxplot_table.index]"
   ]
  },
  {
   "cell_type": "code",
   "execution_count": null,
   "metadata": {},
   "outputs": [],
   "source": [
    "fig = px.box(boxplot_table, x=\"age_group\", y=\"ENSG00000092295.10\",title=\"TGM1 expression\")\n",
    "fig.show()"
   ]
  },
  {
   "cell_type": "markdown",
   "metadata": {},
   "source": [
    "Compléter avec les résultats de votre recherche"
   ]
  },
  {
   "cell_type": "markdown",
   "metadata": {},
   "source": [
    "2) Même question pour le gène le plus exprimé dans les échantillons metastatiques (provenant en majorité des noeuds lymphatiques) par rapport aux echantillons de tumeurs primaires. Vous pouvez églament tester un violin plot (fonction `px.violin`)."
   ]
  },
  {
   "cell_type": "code",
   "execution_count": null,
   "metadata": {},
   "outputs": [],
   "source": [
    "# A compléter"
   ]
  },
  {
   "cell_type": "markdown",
   "metadata": {},
   "source": [
    "Compléter avec les résultats de votre recherche"
   ]
  },
  {
   "cell_type": "markdown",
   "metadata": {},
   "source": [
    "## Sauvegarde des résultats\n",
    "\n",
    "Sauvegarder les résultats des tests dans un fichier csv en vue de la prochaine séance."
   ]
  },
  {
   "cell_type": "code",
   "execution_count": null,
   "metadata": {},
   "outputs": [],
   "source": [
    "os.makedirs(\"../Week4\",exist_ok=True)\n",
    "diffExpResults.to_csv(\"../Week4/diffExpMetastaticPrimaryTumor_chr14.csv\",index=False)"
   ]
  }
 ],
 "metadata": {
  "kernelspec": {
   "display_name": "Python 3 (ipykernel)",
   "language": "python",
   "name": "python3"
  },
  "language_info": {
   "codemirror_mode": {
    "name": "ipython",
    "version": 3
   },
   "file_extension": ".py",
   "mimetype": "text/x-python",
   "name": "python",
   "nbconvert_exporter": "python",
   "pygments_lexer": "ipython3",
   "version": "3.9.7"
  }
 },
 "nbformat": 4,
 "nbformat_minor": 4
}
