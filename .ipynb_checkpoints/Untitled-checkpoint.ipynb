{
 "cells": [
  {
   "cell_type": "markdown",
   "id": "9e2bd8f2",
   "metadata": {},
   "source": [
    "## Sequence data to study cancer mutation"
   ]
  },
  {
   "cell_type": "code",
   "execution_count": null,
   "id": "dc8682e8",
   "metadata": {},
   "outputs": [],
   "source": [
    "#EX1) Estimer le nombre d’opération nécessaires faire le mapping sur le génome humain. TO DO "
   ]
  },
  {
   "cell_type": "markdown",
   "id": "c6dfcb46",
   "metadata": {},
   "source": [
    "Go to the TCGA website (https://portal.gdc.cancer.gov/)and search data for the for the TCGA-D9-A1JX patient.\n",
    "Many data are available for this patients. Briefly explain them. "
   ]
  },
  {
   "cell_type": "markdown",
   "id": "fc4335a7",
   "metadata": {},
   "source": [
    "In this tutorial we will focus on the Simple Nucleotide Variation dataset. Download the 04aa322d-117d-4b83-8b26-ad0b04299275.wxs.aliquot_ensemble_masked.maf.gz file and place in the same folder than the jupyter notebook. Why the other files have \"controlled access\"?\n",
    "We will use python to analyse this file and do some simple statistical analysis. "
   ]
  },
  {
   "cell_type": "code",
   "execution_count": 8,
   "id": "752e60cb",
   "metadata": {},
   "outputs": [
    {
     "name": "stdout",
     "output_type": "stream",
     "text": [
      "    Hugo_Symbol  Entrez_Gene_Id Center NCBI_Build Chromosome  Start_Position  \\\n",
      "0        CDK11A          728642     BI     GRCh38       chr1         1703896   \n",
      "1         HSPG2            3339     BI     GRCh38       chr1        21875655   \n",
      "2       C1orf94           84970     BI     GRCh38       chr1        34212343   \n",
      "3        CFAP57          149465     BI     GRCh38       chr1        43183645   \n",
      "4       CYP4A11            1579     BI     GRCh38       chr1        46938008   \n",
      "..          ...             ...    ...        ...        ...             ...   \n",
      "205         MN1            4330     BI     GRCh38      chr22        27796797   \n",
      "206       CRLF2           64109     BI     GRCh38       chrX         1202417   \n",
      "207        TAB3          257397     BI     GRCh38       chrX        30831534   \n",
      "208        HEPH            9843     BI     GRCh38       chrX        66255117   \n",
      "209      MAGEE2          139599     BI     GRCh38       chrX        75784758   \n",
      "\n",
      "     End_Position Strand Variant_Classification Variant_Type  ...  \\\n",
      "0         1703896      +                 Silent          SNP  ...   \n",
      "1        21875655      +                 Silent          SNP  ...   \n",
      "2        34212343      +      Missense_Mutation          SNP  ...   \n",
      "3        43183645      +      Missense_Mutation          SNP  ...   \n",
      "4        46938008      +                 Silent          SNP  ...   \n",
      "..            ...    ...                    ...          ...  ...   \n",
      "205      27796797      +                 Silent          SNP  ...   \n",
      "206       1202417      +                 Silent          SNP  ...   \n",
      "207      30831534      +      Nonsense_Mutation          SNP  ...   \n",
      "208      66255117      +      Nonsense_Mutation          SNP  ...   \n",
      "209      75784758      +                 Silent          SNP  ...   \n",
      "\n",
      "                          normal_bam_uuid  \\\n",
      "0    b2cf792e-dab9-4037-89d5-02429e4f1cfa   \n",
      "1    b2cf792e-dab9-4037-89d5-02429e4f1cfa   \n",
      "2    b2cf792e-dab9-4037-89d5-02429e4f1cfa   \n",
      "3    b2cf792e-dab9-4037-89d5-02429e4f1cfa   \n",
      "4    b2cf792e-dab9-4037-89d5-02429e4f1cfa   \n",
      "..                                    ...   \n",
      "205  b2cf792e-dab9-4037-89d5-02429e4f1cfa   \n",
      "206  b2cf792e-dab9-4037-89d5-02429e4f1cfa   \n",
      "207  b2cf792e-dab9-4037-89d5-02429e4f1cfa   \n",
      "208  b2cf792e-dab9-4037-89d5-02429e4f1cfa   \n",
      "209  b2cf792e-dab9-4037-89d5-02429e4f1cfa   \n",
      "\n",
      "                                  case_id GDC_FILTER                   COSMIC  \\\n",
      "0    f505058f-74f2-4476-887f-06590a605980        NaN              COSM3477531   \n",
      "1    f505058f-74f2-4476-887f-06590a605980        NaN              COSM3483937   \n",
      "2    f505058f-74f2-4476-887f-06590a605980        NaN  COSM3488791;COSM3488792   \n",
      "3    f505058f-74f2-4476-887f-06590a605980        NaN              COSM3489806   \n",
      "4    f505058f-74f2-4476-887f-06590a605980        NaN              COSM3490423   \n",
      "..                                    ...        ...                      ...   \n",
      "205  f505058f-74f2-4476-887f-06590a605980        NaN              COSM3553030   \n",
      "206  f505058f-74f2-4476-887f-06590a605980        NaN              COSM3558012   \n",
      "207  f505058f-74f2-4476-887f-06590a605980        NaN              COSM3560826   \n",
      "208  f505058f-74f2-4476-887f-06590a605980        NaN  COSM3562815;COSM3562816   \n",
      "209  f505058f-74f2-4476-887f-06590a605980        NaN               COSM613892   \n",
      "\n",
      "     hotspot RNA_Support RNA_depth  RNA_ref_count  RNA_alt_count  \\\n",
      "0          N     Unknown       NaN            NaN            NaN   \n",
      "1          N     Unknown       NaN            NaN            NaN   \n",
      "2          N     Unknown       NaN            NaN            NaN   \n",
      "3          N     Unknown       NaN            NaN            NaN   \n",
      "4          N     Unknown       NaN            NaN            NaN   \n",
      "..       ...         ...       ...            ...            ...   \n",
      "205        N     Unknown       NaN            NaN            NaN   \n",
      "206        N     Unknown       NaN            NaN            NaN   \n",
      "207        N     Unknown       NaN            NaN            NaN   \n",
      "208        N     Unknown       NaN            NaN            NaN   \n",
      "209        N     Unknown       NaN            NaN            NaN   \n",
      "\n",
      "                   callers  \n",
      "0    muse;mutect2;varscan2  \n",
      "1    muse;mutect2;varscan2  \n",
      "2    muse;mutect2;varscan2  \n",
      "3    muse;mutect2;varscan2  \n",
      "4    muse;mutect2;varscan2  \n",
      "..                     ...  \n",
      "205  muse;mutect2;varscan2  \n",
      "206  muse;mutect2;varscan2  \n",
      "207  muse;mutect2;varscan2  \n",
      "208  muse;mutect2;varscan2  \n",
      "209  muse;mutect2;varscan2  \n",
      "\n",
      "[210 rows x 140 columns]\n"
     ]
    }
   ],
   "source": [
    "# Simple analysis with python\n",
    "import pandas as pd                                                                                                                                                                                       \n",
    "import seaborn as sns \n",
    "sns.set_context(\"paper\")\n",
    "                                                                                                                                                                                                          \n",
    "df = pd.read_csv(\"./04aa322d-117d-4b83-8b26-ad0b04299275.wxs.aliquot_ensemble_masked.maf\", sep = '\\t', comment = '#')  \n",
    "#let's have a look at the dataset\n",
    "print(df)\n",
    "# The files contains many columns(140).. try to understand which are the most important"
   ]
  },
  {
   "cell_type": "code",
   "execution_count": 10,
   "id": "9ae42c19",
   "metadata": {},
   "outputs": [
    {
     "name": "stdout",
     "output_type": "stream",
     "text": [
      "chr19    25\n",
      "chr1     21\n",
      "chr2     20\n",
      "chr7     16\n",
      "chr3     15\n",
      "chr17    13\n",
      "chr4     12\n",
      "chr5     11\n",
      "chr16    10\n",
      "chr6      9\n",
      "chr8      9\n",
      "chr9      9\n",
      "chr11     8\n",
      "chr15     7\n",
      "chr20     6\n",
      "chr12     5\n",
      "chr14     4\n",
      "chrX      4\n",
      "chr10     3\n",
      "chr22     2\n",
      "chr18     1\n",
      "Name: Chromosome, dtype: int64\n"
     ]
    },
    {
     "data": {
      "text/plain": [
       "<AxesSubplot:xlabel='Chromosome', ylabel='count'>"
      ]
     },
     "execution_count": 10,
     "metadata": {},
     "output_type": "execute_result"
    },
    {
     "data": {
      "image/png": "[encoded data removed]",
      "text/plain": [
       "<Figure size 432x288 with 1 Axes>"
      ]
     },
     "metadata": {
      "needs_background": "light"
     },
     "output_type": "display_data"
    }
   ],
   "source": [
    "#Q1) which chromosome are the most mutated?                                                                                                                                                                \n",
    "print(df['Chromosome'].value_counts())                                                                                                                                                                                                                                                                                                                                                                                     \n",
    "sns.countplot(data = df, x = 'Chromosome')   "
   ]
  },
  {
   "cell_type": "code",
   "execution_count": null,
   "id": "ce95af41",
   "metadata": {},
   "outputs": [],
   "source": []
  }
 ],
 "metadata": {
  "kernelspec": {
   "display_name": "Python 3 (ipykernel)",
   "language": "python",
   "name": "python3"
  },
  "language_info": {
   "codemirror_mode": {
    "name": "ipython",
    "version": 3
   },
   "file_extension": ".py",
   "mimetype": "text/x-python",
   "name": "python",
   "nbconvert_exporter": "python",
   "pygments_lexer": "ipython3",
   "version": "3.9.7"
  }
 },
 "nbformat": 4,
 "nbformat_minor": 5
}
